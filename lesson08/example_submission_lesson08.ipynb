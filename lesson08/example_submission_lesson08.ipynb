{
 "cells": [
  {
   "cell_type": "markdown",
   "metadata": {},
   "source": [
    "# Homework #7: Example Submission\n",
    "\n",
    "Using the ideas we discussed today in class make a dashboard from the NASA planet dataset, for this assignment you'll recreate the dashboard: the Scatter plot + label but with a twist: you have to pick all new columns of the dataset!  It is *highly* recommended that you make individual histograms of your columns before you start the full scatter plot.  Include a short paragraph about anything you found interesting/thought was weird about your data subset or your plot.\n",
    "\n",
    "Extensions: If you want to go a little further, try thinking about how to link plots to your scatter plot selections.  Some ideas can be found here: \n",
    "  * https://jnaiman.github.io/csci-p-14110_su2020/lesson08/extra_notebook_lesson08.ipynb\n",
    "  * In slides/notebooks here: https://uiuc-ischool-dataviz.github.io/spring2020/week05/ and here https://uiuc-ischool-dataviz.github.io/spring2020/week06/"
   ]
  },
  {
   "cell_type": "code",
   "execution_count": 3,
   "metadata": {},
   "outputs": [],
   "source": [
    "# import usual things & new packages we've been using:\n",
    "import ipywidgets\n",
    "import numpy as np\n",
    "import matplotlib.pyplot as plt\n",
    "import bqplot.pyplot as bplt\n",
    "import pandas as pd"
   ]
  }
 ],
 "metadata": {
  "kernelspec": {
   "display_name": "Python 3",
   "language": "python",
   "name": "python3"
  },
  "language_info": {
   "codemirror_mode": {
    "name": "ipython",
    "version": 3
   },
   "file_extension": ".py",
   "mimetype": "text/x-python",
   "name": "python",
   "nbconvert_exporter": "python",
   "pygments_lexer": "ipython3",
   "version": "3.7.7"
  }
 },
 "nbformat": 4,
 "nbformat_minor": 2
}
