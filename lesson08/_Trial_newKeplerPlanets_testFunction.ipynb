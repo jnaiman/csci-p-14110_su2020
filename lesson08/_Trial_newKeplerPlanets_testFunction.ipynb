{
 "cells": [
  {
   "cell_type": "markdown",
   "metadata": {},
   "source": [
    "# I'm just gonna see if I can write a quick and dirty kepler-planet function thing"
   ]
  },
  {
   "cell_type": "code",
   "execution_count": 32,
   "metadata": {},
   "outputs": [],
   "source": [
    "import matplotlib.pyplot as plt\n",
    "%matplotlib inline"
   ]
  },
  {
   "cell_type": "code",
   "execution_count": 1,
   "metadata": {},
   "outputs": [],
   "source": [
    "filename = 'planets_2019.07.30_19.22.04.csv'"
   ]
  },
  {
   "cell_type": "code",
   "execution_count": 2,
   "metadata": {},
   "outputs": [],
   "source": [
    "import pandas as pd\n",
    "import numpy as np"
   ]
  },
  {
   "cell_type": "code",
   "execution_count": 3,
   "metadata": {},
   "outputs": [],
   "source": [
    "planets = pd.read_csv(filename, \n",
    "                     sep=\",\", comment=\"#\")"
   ]
  },
  {
   "cell_type": "code",
   "execution_count": 4,
   "metadata": {},
   "outputs": [],
   "source": [
    "# orig function:\n",
    "def read_kepler_data(fileLocation):\n",
    "    names = ('RowID', 'SysName', 'planetLetter', 'NumberOfPlanets', 'Porb', \n",
    "             'ePorbU', 'ePorbL',       'a',             'ea',       'ecc', \n",
    "             'eeccU',    'eeccL',    'Incl',           'eInclU',    'eInclL', \n",
    "             'pMass',   'epMassU', 'epMassL',          'pMassType', 'sMass', \n",
    "             'esMass',  'sRadius', 'esRadiusU',       'esRadiusL',  'tTime', \n",
    "             'etTimeU', 'etTimeL')\n",
    "    formats = ('f4',       'S12',     'S2',               'f4',        'f4',\n",
    "               'f4',       'f4',      'f4',               'f4',        'f4',\n",
    "               'f4',       'f4',      'f4',               'f4',        'f4',\n",
    "               'f4',       'f4',      'f4',               'S8',        'f4',\n",
    "               'f4',       'f4',      'f4',               'f4',        'f4', \n",
    "               'f4',       'f4')\n",
    "    kepler_data = np.genfromtxt(fileLocation, \n",
    "                                comments='#', \n",
    "                                delimiter=',', \n",
    "                                dtype={'names':names, \n",
    "                                       'formats':formats})\n",
    "    return kepler_data\n"
   ]
  },
  {
   "cell_type": "code",
   "execution_count": 5,
   "metadata": {},
   "outputs": [
    {
     "data": {
      "text/plain": [
       "array(['11 Com', '11 UMi', '14 And', ..., 'tau Gem', 'ups And', 'xi Aql'],\n",
       "      dtype=object)"
      ]
     },
     "execution_count": 5,
     "metadata": {},
     "output_type": "execute_result"
    }
   ],
   "source": [
    "planets['pl_hostname'].unique()"
   ]
  },
  {
   "cell_type": "code",
   "execution_count": 6,
   "metadata": {},
   "outputs": [
    {
     "data": {
      "text/plain": [
       "4021       4.617033\n",
       "4022     241.258000\n",
       "4023    1276.460000\n",
       "Name: pl_orbper, dtype: float64"
      ]
     },
     "execution_count": 6,
     "metadata": {},
     "output_type": "execute_result"
    }
   ],
   "source": [
    "# convert based on name:\n",
    "name = 'ups And'\n",
    "\n",
    "# only select entries with this name\n",
    "mask = planets['pl_hostname'] == name\n",
    "ecc = planets['pl_orbeccen'][mask]\n",
    "a = planets['pl_orbsmax'][mask]\n",
    "Porb = planets['pl_orbper'][mask]\n",
    "Incl = planets['pl_orbincl'][mask]\n",
    "sMass = planets['st_mass'][mask]\n",
    "pMass = planets['pl_bmassj'][mask]\n",
    "\n",
    "#tmax=np.array(tTime).max()\n",
    "#tTime = []\n",
    "#for t in planets['pl_orbtper'][mask]:\n",
    "#    tTime.append([tmax,t])\n",
    "tTime = planets['pl_orbtper'][mask]\n",
    "    \n",
    "tTime\n",
    "Porb\n",
    "\n",
    "#ecc,a"
   ]
  },
  {
   "cell_type": "code",
   "execution_count": 7,
   "metadata": {},
   "outputs": [
    {
     "data": {
      "text/plain": [
       "4021    2450005.368\n",
       "4022    2450157.780\n",
       "4023    2451347.480\n",
       "Name: pl_orbtper, dtype: float64"
      ]
     },
     "execution_count": 7,
     "metadata": {},
     "output_type": "execute_result"
    }
   ],
   "source": [
    "tTime"
   ]
  },
  {
   "cell_type": "code",
   "execution_count": 8,
   "metadata": {},
   "outputs": [
    {
     "data": {
      "text/plain": [
       "Index(['pl_hostname', 'pl_letter', 'pl_name', 'pl_pnum', 'pl_orbper',\n",
       "       'pl_orbpererr1', 'pl_orbpererr2', 'pl_orbperlim', 'pl_orbsmax',\n",
       "       'pl_orbsmaxerr1', 'pl_orbsmaxerr2', 'pl_orbsmaxlim', 'pl_orbeccen',\n",
       "       'pl_orbeccenerr1', 'pl_orbeccenerr2', 'pl_orbeccenlim', 'pl_orbincl',\n",
       "       'pl_orbinclerr1', 'pl_orbinclerr2', 'pl_orbincllim', 'pl_bmassj',\n",
       "       'pl_bmassjerr1', 'pl_bmassjerr2', 'pl_bmassjlim', 'pl_bmassprov',\n",
       "       'pl_radj', 'pl_radjerr1', 'pl_radjerr2', 'pl_radjlim', 'pl_dens',\n",
       "       'pl_denserr1', 'pl_denserr2', 'pl_denslim', 'pl_ttvflag', 'pl_kepflag',\n",
       "       'pl_k2flag', 'pl_nnotes', 'ra_str', 'ra', 'dec_str', 'dec', 'st_dist',\n",
       "       'st_disterr1', 'st_disterr2', 'st_distlim', 'gaia_dist',\n",
       "       'gaia_disterr1', 'gaia_disterr2', 'gaia_distlim', 'st_teff',\n",
       "       'st_tefferr1', 'st_tefferr2', 'st_tefflim', 'st_mass', 'st_masserr1',\n",
       "       'st_masserr2', 'st_masslim', 'st_rad', 'st_raderr1', 'st_raderr2',\n",
       "       'st_radlim', 'rowupdate', 'pl_orbtper', 'pl_orbtpererr1',\n",
       "       'pl_orbtpererr2', 'pl_orbtperlim', 'pl_massj', 'pl_massjerr1',\n",
       "       'pl_massjerr2', 'pl_massjlim', 'pl_msinij', 'pl_msinijerr1',\n",
       "       'pl_msinijerr2', 'pl_msinijlim', 'pl_trandur', 'pl_trandurerr1',\n",
       "       'pl_trandurerr2', 'pl_trandurlim', 'pl_tranmid', 'pl_tranmiderr1',\n",
       "       'pl_tranmiderr2', 'pl_tranmidlim', 'pl_tsystemref', 'pl_facility',\n",
       "       'pl_mnum'],\n",
       "      dtype='object')"
      ]
     },
     "execution_count": 8,
     "metadata": {},
     "output_type": "execute_result"
    }
   ],
   "source": [
    "planets.keys()"
   ]
  },
  {
   "cell_type": "code",
   "execution_count": 9,
   "metadata": {},
   "outputs": [],
   "source": [
    "#planets['pl_orbtper']"
   ]
  },
  {
   "cell_type": "code",
   "execution_count": 10,
   "metadata": {},
   "outputs": [],
   "source": [
    "# dict?\n",
    "kepler_data = {}\n",
    "\n",
    "#kepler_data['RowID'] = -1\n",
    "kepler_data['SysName'] = name\n",
    "#kepler_data['planetLetter'] = 'X'\n",
    "kepler_data['NumberOfPlanets'] = len(a) \n",
    "kepler_data['Porb'] = Porb.values\n",
    "#kepler_data['ePorbU']=0\n",
    "#kepler_data['ePorbL']=0\n",
    "kepler_data['a']=a.values\n",
    "#kepler_data['ea']=0\n",
    "kepler_data['ecc']=ecc.values\n",
    "#kepler_data['eeccU']=0\n",
    "#kepler_data['eeccL']=0\n",
    "kepler_data['Incl']=Incl.values\n",
    "#kepler_data['eInclU']=0  \n",
    "kepler_data['pMass']=pMass.values\n",
    "kepler_data['sMass']=sMass.values\n",
    "kepler_data['tTime']=tTime.values\n",
    "#'eInclL', \n",
    "#             'pMass',   'epMassU', 'epMassL',          'pMassType', 'sMass', \n",
    "#             'esMass',  'sRadius', 'esRadiusU',       'esRadiusL',  'tTime', \n",
    "#             'etTimeU', 'etTimeL'"
   ]
  },
  {
   "cell_type": "code",
   "execution_count": 11,
   "metadata": {},
   "outputs": [
    {
     "data": {
      "text/plain": [
       "{'SysName': 'ups And',\n",
       " 'NumberOfPlanets': 3,\n",
       " 'Porb': array([   4.617033,  241.258   , 1276.46    ]),\n",
       " 'a': array([0.059222, 0.827774, 2.51329 ]),\n",
       " 'ecc': array([0.0215, 0.2596, 0.2987]),\n",
       " 'Incl': array([nan, nan, nan]),\n",
       " 'pMass': array([0.6876, 1.981 , 4.132 ]),\n",
       " 'sMass': array([1.3, 1.3, 1.3]),\n",
       " 'tTime': array([2450005.368, 2450157.78 , 2451347.48 ])}"
      ]
     },
     "execution_count": 11,
     "metadata": {},
     "output_type": "execute_result"
    }
   ],
   "source": [
    "kepler_data"
   ]
  },
  {
   "cell_type": "code",
   "execution_count": 12,
   "metadata": {},
   "outputs": [],
   "source": [
    "from convert_kepler_data import convert_kepler_data"
   ]
  },
  {
   "cell_type": "code",
   "execution_count": 13,
   "metadata": {},
   "outputs": [],
   "source": [
    "star_mass, planet_masses, planet_initial_position, planet_initial_velocity, ecc = convert_kepler_data(kepler_data)"
   ]
  },
  {
   "cell_type": "code",
   "execution_count": 14,
   "metadata": {},
   "outputs": [
    {
     "data": {
      "text/plain": [
       "1.3"
      ]
     },
     "execution_count": 14,
     "metadata": {},
     "output_type": "execute_result"
    }
   ],
   "source": [
    "star_mass"
   ]
  },
  {
   "cell_type": "code",
   "execution_count": 15,
   "metadata": {},
   "outputs": [
    {
     "data": {
      "text/plain": [
       "array([0.6876, 1.981 , 4.132 ])"
      ]
     },
     "execution_count": 15,
     "metadata": {},
     "output_type": "execute_result"
    }
   ],
   "source": [
    "planet_masses"
   ]
  },
  {
   "cell_type": "code",
   "execution_count": 16,
   "metadata": {},
   "outputs": [
    {
     "data": {
      "text/plain": [
       "array([[-0.05794873,  0.        ,  0.        ],\n",
       "       [-0.41464231, -0.45132958,  0.        ],\n",
       "       [ 1.67133248,  0.55973363,  0.        ]])"
      ]
     },
     "execution_count": 16,
     "metadata": {},
     "output_type": "execute_result"
    }
   ],
   "source": [
    "planet_initial_position"
   ]
  },
  {
   "cell_type": "code",
   "execution_count": 17,
   "metadata": {},
   "outputs": [
    {
     "data": {
      "text/plain": [
       "array([[   0.        , -138.43721646,    0.        ],\n",
       "       [  23.71957473,  -21.79147972,    0.        ],\n",
       "       [  -5.71320164,   17.05929214,    0.        ]])"
      ]
     },
     "execution_count": 17,
     "metadata": {},
     "output_type": "execute_result"
    }
   ],
   "source": [
    "planet_initial_velocity"
   ]
  },
  {
   "cell_type": "code",
   "execution_count": 18,
   "metadata": {},
   "outputs": [],
   "source": [
    "from kepler_data_table_to_new_planet_system import read_convert_new_system"
   ]
  },
  {
   "cell_type": "code",
   "execution_count": 19,
   "metadata": {},
   "outputs": [],
   "source": [
    "filename = 'planets_2019.07.30_19.22.04.csv'"
   ]
  },
  {
   "cell_type": "markdown",
   "metadata": {},
   "source": [
    "What are the possible names?"
   ]
  },
  {
   "cell_type": "code",
   "execution_count": 20,
   "metadata": {},
   "outputs": [
    {
     "data": {
      "text/plain": [
       "array(['11 Com', '11 UMi', '14 And', ..., 'tau Gem', 'ups And', 'xi Aql'],\n",
       "      dtype=object)"
      ]
     },
     "execution_count": 20,
     "metadata": {},
     "output_type": "execute_result"
    }
   ],
   "source": [
    "planets['pl_hostname'].unique()"
   ]
  },
  {
   "cell_type": "markdown",
   "metadata": {},
   "source": [
    "We want one with a few planets.  We can play with the table under the exoplanet arxiv: https://exoplanetarchive.ipac.caltech.edu/cgi-bin/TblView/nph-tblView?app=ExoTbls&config=planets\n",
    "\n",
    "Or lets try looking at some to see what they have in their entries:"
   ]
  },
  {
   "cell_type": "code",
   "execution_count": 21,
   "metadata": {},
   "outputs": [
    {
     "data": {
      "text/plain": [
       "0    0.231\n",
       "Name: pl_orbeccen, dtype: float64"
      ]
     },
     "execution_count": 21,
     "metadata": {},
     "output_type": "execute_result"
    }
   ],
   "source": [
    "name = '11 Com' # try first one\n",
    "\n",
    "mask = planets['pl_hostname'] == name\n",
    "# how many planets? lets see how long the eccentricity list is:\n",
    "planets['pl_orbeccen'][mask]"
   ]
  },
  {
   "cell_type": "markdown",
   "metadata": {},
   "source": [
    "Well this one only has 1 planet, so let's try another name:"
   ]
  },
  {
   "cell_type": "code",
   "execution_count": 22,
   "metadata": {},
   "outputs": [
    {
     "data": {
      "text/plain": [
       "4021    0.0215\n",
       "4022    0.2596\n",
       "4023    0.2987\n",
       "Name: pl_orbeccen, dtype: float64"
      ]
     },
     "execution_count": 22,
     "metadata": {},
     "output_type": "execute_result"
    }
   ],
   "source": [
    "name = 'ups And' # try first one\n",
    "\n",
    "mask = planets['pl_hostname'] == name\n",
    "# how many planets? lets see how long the eccentricity list is:\n",
    "planets['pl_orbeccen'][mask]"
   ]
  },
  {
   "cell_type": "markdown",
   "metadata": {},
   "source": [
    "Ok, this one has a few planets, so let's check it out."
   ]
  },
  {
   "cell_type": "code",
   "execution_count": 23,
   "metadata": {},
   "outputs": [
    {
     "data": {
      "text/plain": [
       "{'SysName': 'ups And',\n",
       " 'NumberOfPlanets': 3,\n",
       " 'Porb': array([   4.617033,  241.258   , 1276.46    ]),\n",
       " 'a': array([0.059222, 0.827774, 2.51329 ]),\n",
       " 'ecc': array([0.0215, 0.2596, 0.2987]),\n",
       " 'Incl': array([0., 0., 0.]),\n",
       " 'pMass': array([0.6876, 1.981 , 4.132 ]),\n",
       " 'sMass': array([1.3, 1.3, 1.3]),\n",
       " 'tTime': array([2450005.368, 2450157.78 , 2451347.48 ])}"
      ]
     },
     "execution_count": 23,
     "metadata": {},
     "output_type": "execute_result"
    }
   ],
   "source": [
    "new_kepler_data = read_convert_new_system(filename, 'ups And')\n",
    "new_kepler_data"
   ]
  },
  {
   "cell_type": "markdown",
   "metadata": {},
   "source": [
    "We can convert this now just like we did before:"
   ]
  },
  {
   "cell_type": "code",
   "execution_count": 27,
   "metadata": {},
   "outputs": [],
   "source": [
    "from convert_kepler_data import convert_kepler_data\n",
    "star_mass, planet_mass, planet_initial_position, planet_initial_velocity, ecc = convert_kepler_data(kepler_data)"
   ]
  },
  {
   "cell_type": "markdown",
   "metadata": {},
   "source": [
    "Then we can use these again as inputs into our hermite solver."
   ]
  },
  {
   "cell_type": "code",
   "execution_count": 28,
   "metadata": {},
   "outputs": [],
   "source": [
    "from hermite_library import do_hermite"
   ]
  },
  {
   "cell_type": "code",
   "execution_count": 34,
   "metadata": {},
   "outputs": [],
   "source": [
    "r_h, v_h, t_h, E_h = do_hermite(star_mass,\n",
    "                               planet_mass,\n",
    "                               planet_initial_position,\n",
    "                               planet_initial_velocity,\n",
    "                               tfinal=1e4*5000,\n",
    "                               Nsteps=5000, threeDee=True)"
   ]
  },
  {
   "cell_type": "code",
   "execution_count": 35,
   "metadata": {},
   "outputs": [
    {
     "data": {
      "image/png": "[encoded data removed]",
      "text/plain": [
       "<Figure size 864x432 with 2 Axes>"
      ]
     },
     "metadata": {
      "needs_background": "light"
     },
     "output_type": "display_data"
    }
   ],
   "source": [
    "\n",
    "# we are doing 1 row of plots with 2 columns of plots\n",
    "# and making sure that our plot is 2X as wide as long\n",
    "fig, ax = plt.subplots(1,2, figsize=(6*2, 6))\n",
    "\n",
    "for i in range(r_h.shape[0]): # loop over number of planets+star\n",
    "    ax[0].plot(r_h[i, 0, :], r_h[i, 1, :])\n",
    "\n",
    "# making extra fancy with labels\n",
    "ax[0].set_xlabel('x in AU')\n",
    "ax[0].set_ylabel('y in AU')\n",
    "# also set a different-than-default size\n",
    "ax[0].set_xlim(-5, 5)\n",
    "ax[0].set_ylim(-5, 5)\n",
    "\n",
    "# now I'll make energy as a function of time\n",
    "ax[1].plot(t_h, E_h)\n",
    "ax[1].set_xlabel('Time in Seconds')\n",
    "ax[1].set_ylabel('Energy, Normalized')\n",
    "\n",
    "plt.show()"
   ]
  },
  {
   "cell_type": "code",
   "execution_count": null,
   "metadata": {},
   "outputs": [],
   "source": []
  }
 ],
 "metadata": {
  "kernelspec": {
   "display_name": "Python 3",
   "language": "python",
   "name": "python3"
  },
  "language_info": {
   "codemirror_mode": {
    "name": "ipython",
    "version": 3
   },
   "file_extension": ".py",
   "mimetype": "text/x-python",
   "name": "python",
   "nbconvert_exporter": "python",
   "pygments_lexer": "ipython3",
   "version": "3.7.3"
  }
 },
 "nbformat": 4,
 "nbformat_minor": 2
}
