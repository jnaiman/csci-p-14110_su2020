{
 "cells": [
  {
   "cell_type": "markdown",
   "metadata": {},
   "source": [
    "# Day 8"
   ]
  },
  {
   "cell_type": "markdown",
   "metadata": {},
   "source": [
    "### Topics\n",
    "\n",
    "1. Bit of a review: widgets & `ipywidgets.interact`\n",
    "1. More about widgets\n",
    "  * Bonus: Linking widgets\n",
    "1. The NASA planet archive data\n",
    "1. `bqplot` scatter plot dashboard with planet data\n",
    "\n",
    "See extra notebook for more examples:\n",
    "  * ~~Bonus: `bqplot` scatter plot dashboard with label & histogram~~\n",
    "  * Bonus: `bqplot` heatmap dashboard with orbit generator using line plot\n",
    "\n"
   ]
  },
  {
   "cell_type": "markdown",
   "metadata": {},
   "source": [
    "First, import our usual things:"
   ]
  },
  {
   "cell_type": "code",
   "execution_count": 1,
   "metadata": {},
   "outputs": [],
   "source": [
    "import ipywidgets\n",
    "import pandas as pd\n",
    "import numpy as np\n",
    "import matplotlib.pyplot as plt\n",
    "import bqplot.pyplot as bplt"
   ]
  },
  {
   "cell_type": "markdown",
   "metadata": {},
   "source": [
    "## Bit of a review\n",
    "\n",
    "Last time we got into some interactivity with `ipywidgets` and the `interact` decorator:"
   ]
  },
  {
   "cell_type": "markdown",
   "metadata": {},
   "source": [
    "There are a few ways we can use this library in a few ways, the first way is through something called a \"decorator\" that will decorate a function.  The syntax will look a little like:\n",
    "\n",
    "```python\n",
    "@decorator\n",
    "def my_function():\n",
    "    # stuff\n",
    "...\n",
    "```\n",
    "\n",
    "This decorator is \"decorating\" the function like you'd put a hat to decorate your head -- it sits on top of the function and interacts only with this function.  Let's try a simple one to start -- print out a phrase from a list.\n",
    "\n",
    "Let's sketch out what we want to do with code statically and build from there.  First, let's make something that prints a phrase:"
   ]
  },
  {
   "cell_type": "code",
   "execution_count": 2,
   "metadata": {},
   "outputs": [
    {
     "name": "stdout",
     "output_type": "stream",
     "text": [
      "Hi there!\n"
     ]
    }
   ],
   "source": [
    "print('Hi there!')"
   ]
  },
  {
   "cell_type": "markdown",
   "metadata": {},
   "source": [
    "Now, let's make the actual phrase an input:"
   ]
  },
  {
   "cell_type": "code",
   "execution_count": 3,
   "metadata": {},
   "outputs": [
    {
     "name": "stdout",
     "output_type": "stream",
     "text": [
      "I am phrase.\n"
     ]
    }
   ],
   "source": [
    "phrase = 'I am phrase.'\n",
    "\n",
    "print(phrase)"
   ]
  },
  {
   "cell_type": "markdown",
   "metadata": {},
   "source": [
    "Now, let's make this into a function:"
   ]
  },
  {
   "cell_type": "code",
   "execution_count": 4,
   "metadata": {},
   "outputs": [],
   "source": [
    "def my_phrase_print(phrase):\n",
    "    print(phrase)"
   ]
  },
  {
   "cell_type": "markdown",
   "metadata": {},
   "source": [
    "Let's use it a few times:"
   ]
  },
  {
   "cell_type": "code",
   "execution_count": 5,
   "metadata": {},
   "outputs": [
    {
     "name": "stdout",
     "output_type": "stream",
     "text": [
      "hi!\n"
     ]
    }
   ],
   "source": [
    "my_phrase_print('hi!')"
   ]
  },
  {
   "cell_type": "code",
   "execution_count": 6,
   "metadata": {},
   "outputs": [
    {
     "name": "stdout",
     "output_type": "stream",
     "text": [
      "hi hi!\n",
      "helooooooo!!\n"
     ]
    }
   ],
   "source": [
    "my_phrase_print('hi hi!')\n",
    "my_phrase_print('helooooooo!!')"
   ]
  },
  {
   "cell_type": "markdown",
   "metadata": {},
   "source": [
    "Now let's decorate this function with the decorator `@ipywidgets.interact`:"
   ]
  },
  {
   "cell_type": "code",
   "execution_count": 7,
   "metadata": {},
   "outputs": [
    {
     "data": {
      "application/vnd.jupyter.widget-view+json": {
       "model_id": "189045f2e1e645c5a575bb05950d63d9",
       "version_major": 2,
       "version_minor": 0
      },
      "text/plain": [
       "interactive(children=(Text(value='', description='phrase'), Output()), _dom_classes=('widget-interact',))"
      ]
     },
     "metadata": {},
     "output_type": "display_data"
    }
   ],
   "source": [
    "@ipywidgets.interact(phrase='')\n",
    "def my_phrase_print(phrase):\n",
    "    print(phrase)"
   ]
  },
  {
   "cell_type": "markdown",
   "metadata": {},
   "source": [
    "Whoa!  What did we just do!  We told `ipywidgets` that our phrase was going to be text input which it figured out by the default value we put in its definition AND that the input parameter `phrase` was going to be the one we wanted to change.  Let's try another.  Also note that when we ran this cell it called the function where before we would have to call the function after we declared it.\n",
    "\n",
    "\n",
    "Let's say we want to only let our user put in a selected set of phrases from a list:"
   ]
  },
  {
   "cell_type": "code",
   "execution_count": 8,
   "metadata": {},
   "outputs": [],
   "source": [
    "phrases_list = ['hi there!', 'I am phrase.', 'decorators decorate!']"
   ]
  },
  {
   "cell_type": "markdown",
   "metadata": {},
   "source": [
    "We could do the same thing again but with this list:"
   ]
  },
  {
   "cell_type": "code",
   "execution_count": 9,
   "metadata": {},
   "outputs": [
    {
     "data": {
      "application/vnd.jupyter.widget-view+json": {
       "model_id": "c67255f9b10c457389f81d07b3b4439c",
       "version_major": 2,
       "version_minor": 0
      },
      "text/plain": [
       "interactive(children=(Dropdown(description='phrase', options=('hi there!', 'I am phrase.', 'decorators decorat…"
      ]
     },
     "metadata": {},
     "output_type": "display_data"
    }
   ],
   "source": [
    "@ipywidgets.interact(phrase=phrases_list)\n",
    "def my_phrase_print(phrase):\n",
    "    print(phrase)"
   ]
  },
  {
   "cell_type": "markdown",
   "metadata": {},
   "source": [
    "Now we have a dropdown menu instead!  There are ways to choose what kinds of widgets we get (integer sliders, dropdown menus, text boxes), but here we are having `ipywidgets` basically figure it out for us on its own."
   ]
  },
  {
   "cell_type": "markdown",
   "metadata": {},
   "source": [
    "## More about widgets\n",
    "\n",
    "But now, lets go into ipywidgets in a bit more detail and look at specific functions and call them directly from ipywidgets.\n",
    "\n",
    "For example, we can create a little display that increments integer numbers:"
   ]
  },
  {
   "cell_type": "code",
   "execution_count": 10,
   "metadata": {},
   "outputs": [
    {
     "data": {
      "application/vnd.jupyter.widget-view+json": {
       "model_id": "a40f1d28891a4566863aaad18d770c1e",
       "version_major": 2,
       "version_minor": 0
      },
      "text/plain": [
       "IntText(value=0)"
      ]
     },
     "metadata": {},
     "output_type": "display_data"
    }
   ],
   "source": [
    "itext = ipywidgets.IntText()\n",
    "itext"
   ]
  },
  {
   "cell_type": "markdown",
   "metadata": {},
   "source": [
    "But what if that didn't display for you?  Depending on what version of jupyter notebook you have, you might have to use \"display\" to actually show your widgets.  \n",
    "\n",
    "Try (uncommenting) the following:"
   ]
  },
  {
   "cell_type": "code",
   "execution_count": 11,
   "metadata": {},
   "outputs": [],
   "source": [
    "#from IPython.display import display\n",
    "#display(itext)"
   ]
  },
  {
   "cell_type": "markdown",
   "metadata": {},
   "source": [
    "Still didn't work?  Try refreshing and/or restarting your notebook.\n",
    "\n",
    "*Still* not working?  You might have to install the jupyter notebook widget extension:"
   ]
  },
  {
   "cell_type": "code",
   "execution_count": 12,
   "metadata": {},
   "outputs": [],
   "source": [
    "#!jupyter nbextension enable --py widgetsnbextension"
   ]
  },
  {
   "cell_type": "markdown",
   "metadata": {},
   "source": [
    "If you end up running the above cell (uncommented naturally!) then you might have to refresh or restart your jupyter notebook."
   ]
  },
  {
   "cell_type": "markdown",
   "metadata": {},
   "source": [
    "Moving on: \n",
    "\n",
    "The value of `itext` is then stored - so we could in theory generate a toggle and then do stuff with its value:"
   ]
  },
  {
   "cell_type": "code",
   "execution_count": 13,
   "metadata": {},
   "outputs": [
    {
     "data": {
      "text/plain": [
       "0"
      ]
     },
     "execution_count": 13,
     "metadata": {},
     "output_type": "execute_result"
    }
   ],
   "source": [
    "itext.value"
   ]
  },
  {
   "cell_type": "markdown",
   "metadata": {},
   "source": [
    "Note if I go up and change the toggle value I have to re-run this cell to print out the newly stored value."
   ]
  },
  {
   "cell_type": "markdown",
   "metadata": {},
   "source": [
    "I can also set the value \"by hand\":"
   ]
  },
  {
   "cell_type": "code",
   "execution_count": 14,
   "metadata": {},
   "outputs": [],
   "source": [
    "itext.value = 10"
   ]
  },
  {
   "cell_type": "markdown",
   "metadata": {},
   "source": [
    "Once I run this cell, now the toggle values are updated above."
   ]
  },
  {
   "cell_type": "markdown",
   "metadata": {},
   "source": [
    "Let's try another one, how about an integer slider:"
   ]
  },
  {
   "cell_type": "code",
   "execution_count": 15,
   "metadata": {},
   "outputs": [
    {
     "data": {
      "application/vnd.jupyter.widget-view+json": {
       "model_id": "0e02c46a61454692af6d38f9a8b48016",
       "version_major": 2,
       "version_minor": 0
      },
      "text/plain": [
       "IntSlider(value=0, max=10)"
      ]
     },
     "metadata": {},
     "output_type": "display_data"
    }
   ],
   "source": [
    "slider = ipywidgets.IntSlider(min=0, max=10, step=1)\n",
    "slider"
   ]
  },
  {
   "cell_type": "markdown",
   "metadata": {},
   "source": [
    "We can also check out the value of the integer slider like with the integer text:"
   ]
  },
  {
   "cell_type": "code",
   "execution_count": 16,
   "metadata": {},
   "outputs": [
    {
     "data": {
      "text/plain": [
       "0"
      ]
     },
     "execution_count": 16,
     "metadata": {},
     "output_type": "execute_result"
    }
   ],
   "source": [
    "slider.value"
   ]
  },
  {
   "cell_type": "markdown",
   "metadata": {},
   "source": [
    "Ok, so the slider slides, but other than changing the value next to it nothing happens!  We want to be able to change things in our code when the widget is moved around.\n",
    "\n",
    "This is where this call back sort of thing comes into play.  Let's look at all the things associated with this Integer Slider object:"
   ]
  },
  {
   "cell_type": "code",
   "execution_count": 17,
   "metadata": {},
   "outputs": [
    {
     "data": {
      "text/plain": [
       "['__class__',\n",
       " '__del__',\n",
       " '__delattr__',\n",
       " '__dict__',\n",
       " '__dir__',\n",
       " '__doc__',\n",
       " '__eq__',\n",
       " '__format__',\n",
       " '__ge__',\n",
       " '__getattribute__',\n",
       " '__getstate__',\n",
       " '__gt__',\n",
       " '__hash__',\n",
       " '__init__',\n",
       " '__init_subclass__',\n",
       " '__le__',\n",
       " '__lt__',\n",
       " '__module__',\n",
       " '__ne__',\n",
       " '__new__',\n",
       " '__reduce__',\n",
       " '__reduce_ex__',\n",
       " '__repr__',\n",
       " '__setattr__',\n",
       " '__setstate__',\n",
       " '__sizeof__',\n",
       " '__str__',\n",
       " '__subclasshook__',\n",
       " '__weakref__',\n",
       " '_add_notifiers',\n",
       " '_call_widget_constructed',\n",
       " '_comm_changed',\n",
       " '_compare',\n",
       " '_cross_validation_lock',\n",
       " '_default_keys',\n",
       " '_display_callbacks',\n",
       " '_dom_classes',\n",
       " '_gen_repr_from_keys',\n",
       " '_get_embed_state',\n",
       " '_handle_custom_msg',\n",
       " '_handle_displayed',\n",
       " '_handle_msg',\n",
       " '_holding_sync',\n",
       " '_ipython_display_',\n",
       " '_is_numpy',\n",
       " '_lock_property',\n",
       " '_log_default',\n",
       " '_model_id',\n",
       " '_model_module',\n",
       " '_model_module_version',\n",
       " '_model_name',\n",
       " '_msg_callbacks',\n",
       " '_notify_trait',\n",
       " '_property_lock',\n",
       " '_register_validator',\n",
       " '_remove_notifiers',\n",
       " '_repr_keys',\n",
       " '_send',\n",
       " '_should_send_property',\n",
       " '_states_to_send',\n",
       " '_trait_default_generators',\n",
       " '_trait_from_json',\n",
       " '_trait_notifiers',\n",
       " '_trait_to_json',\n",
       " '_trait_validators',\n",
       " '_trait_values',\n",
       " '_validate_max',\n",
       " '_validate_min',\n",
       " '_validate_value',\n",
       " '_view_count',\n",
       " '_view_module',\n",
       " '_view_module_version',\n",
       " '_view_name',\n",
       " '_widget_construction_callback',\n",
       " 'add_class',\n",
       " 'add_traits',\n",
       " 'class_own_trait_events',\n",
       " 'class_own_traits',\n",
       " 'class_trait_names',\n",
       " 'class_traits',\n",
       " 'close',\n",
       " 'close_all',\n",
       " 'comm',\n",
       " 'continuous_update',\n",
       " 'cross_validation_lock',\n",
       " 'description',\n",
       " 'description_tooltip',\n",
       " 'disabled',\n",
       " 'get_interact_value',\n",
       " 'get_manager_state',\n",
       " 'get_state',\n",
       " 'get_view_spec',\n",
       " 'handle_comm_opened',\n",
       " 'has_trait',\n",
       " 'hold_sync',\n",
       " 'hold_trait_notifications',\n",
       " 'keys',\n",
       " 'layout',\n",
       " 'log',\n",
       " 'max',\n",
       " 'min',\n",
       " 'model_id',\n",
       " 'notify_change',\n",
       " 'observe',\n",
       " 'on_displayed',\n",
       " 'on_msg',\n",
       " 'on_trait_change',\n",
       " 'on_widget_constructed',\n",
       " 'open',\n",
       " 'orientation',\n",
       " 'readout',\n",
       " 'readout_format',\n",
       " 'remove_class',\n",
       " 'send',\n",
       " 'send_state',\n",
       " 'set_state',\n",
       " 'set_trait',\n",
       " 'setup_instance',\n",
       " 'step',\n",
       " 'style',\n",
       " 'trait_events',\n",
       " 'trait_metadata',\n",
       " 'trait_names',\n",
       " 'traits',\n",
       " 'unobserve',\n",
       " 'unobserve_all',\n",
       " 'value',\n",
       " 'widget_types',\n",
       " 'widgets']"
      ]
     },
     "execution_count": 17,
     "metadata": {},
     "output_type": "execute_result"
    }
   ],
   "source": [
    "dir(slider)"
   ]
  },
  {
   "cell_type": "markdown",
   "metadata": {},
   "source": [
    "So, there is a lot of stuff here!  Let's focus on the `.observe` function:"
   ]
  },
  {
   "cell_type": "code",
   "execution_count": 18,
   "metadata": {},
   "outputs": [],
   "source": [
    "slider.observe?"
   ]
  },
  {
   "cell_type": "markdown",
   "metadata": {},
   "source": [
    "Ok, this has a lot of weird language about \"callbacks\" but the main translation of this is that this \"observe\" function is *observing* the slider widget object for a change and then doing something when that change happens.  Let's try associating a function to this.\n",
    "\n",
    "We'll start by just printing out what that change is:"
   ]
  },
  {
   "cell_type": "code",
   "execution_count": 19,
   "metadata": {},
   "outputs": [],
   "source": [
    "def print_slider(change):\n",
    "    print(change)"
   ]
  },
  {
   "cell_type": "markdown",
   "metadata": {},
   "source": [
    "Now we'll use this `.observe` function to observe for a change in the *value* of the integer slider.  Note that when we run this `.observe` we are \"calling back\" to our display of the integer slider above so we can actually just scroll up and it will print out what this change is.  Magic!!"
   ]
  },
  {
   "cell_type": "code",
   "execution_count": 20,
   "metadata": {},
   "outputs": [],
   "source": [
    "slider.observe(print_slider, 'value')"
   ]
  },
  {
   "cell_type": "markdown",
   "metadata": {},
   "source": [
    "We can also just re-display the slider as well:"
   ]
  },
  {
   "cell_type": "code",
   "execution_count": 21,
   "metadata": {},
   "outputs": [
    {
     "data": {
      "application/vnd.jupyter.widget-view+json": {
       "model_id": "0e02c46a61454692af6d38f9a8b48016",
       "version_major": 2,
       "version_minor": 0
      },
      "text/plain": [
       "IntSlider(value=0, max=10)"
      ]
     },
     "metadata": {},
     "output_type": "display_data"
    }
   ],
   "source": [
    "slider"
   ]
  },
  {
   "cell_type": "markdown",
   "metadata": {},
   "source": [
    "Note that these two instances *of the same slider* are linked!  When one changes, so does the other one!  The print is only happening in the current \"active\" cell however."
   ]
  },
  {
   "cell_type": "markdown",
   "metadata": {},
   "source": [
    "So, what is this telling us, we'll we are getting a *dictionary* variable type back that gives us info of our change.  With a dictionary variable we access it like we accessed Pandas columns.  So, for example, let's re-write our function to print out the old and new values: "
   ]
  },
  {
   "cell_type": "code",
   "execution_count": 22,
   "metadata": {},
   "outputs": [],
   "source": [
    "def print_slider(change):\n",
    "    print('old:', change['old'], 'new:', change['new']) # like accessing a column \"old\" and \"new\" in a Pandas dataframe"
   ]
  },
  {
   "cell_type": "markdown",
   "metadata": {},
   "source": [
    "Let's make a new slider to use this function:"
   ]
  },
  {
   "cell_type": "code",
   "execution_count": 23,
   "metadata": {},
   "outputs": [],
   "source": [
    "slider2 = ipywidgets.IntSlider(min=0, max=10, step=1)"
   ]
  },
  {
   "cell_type": "markdown",
   "metadata": {},
   "source": [
    "And attach this new slider to this function:"
   ]
  },
  {
   "cell_type": "code",
   "execution_count": 24,
   "metadata": {},
   "outputs": [],
   "source": [
    "slider2.observe(print_slider, 'value')"
   ]
  },
  {
   "cell_type": "code",
   "execution_count": 25,
   "metadata": {},
   "outputs": [
    {
     "data": {
      "application/vnd.jupyter.widget-view+json": {
       "model_id": "7cba908e2a434fe18ded73af01a3cb5d",
       "version_major": 2,
       "version_minor": 0
      },
      "text/plain": [
       "IntSlider(value=0, max=10)"
      ]
     },
     "metadata": {},
     "output_type": "display_data"
    }
   ],
   "source": [
    "slider2"
   ]
  },
  {
   "cell_type": "markdown",
   "metadata": {},
   "source": [
    "Hey neat!  Ok, let's now link to widgets so when I mess with one, the other one changes.  In this sense the changes in the 2nd widget will be \"driven\" by the changes in the first.  You can actually link both ways but we'll just focus on the one way.\n",
    "\n",
    "Let's make a label widget:"
   ]
  },
  {
   "cell_type": "code",
   "execution_count": 26,
   "metadata": {},
   "outputs": [
    {
     "data": {
      "application/vnd.jupyter.widget-view+json": {
       "model_id": "445b95dc871341bfa756e9b51c6c12aa",
       "version_major": 2,
       "version_minor": 0
      },
      "text/plain": [
       "Label(value='')"
      ]
     },
     "metadata": {},
     "output_type": "display_data"
    }
   ],
   "source": [
    "myLabel = ipywidgets.Label()\n",
    "myLabel"
   ]
  },
  {
   "cell_type": "markdown",
   "metadata": {},
   "source": [
    "By default the label is just an empty string.  Let's set it to something:"
   ]
  },
  {
   "cell_type": "code",
   "execution_count": 27,
   "metadata": {},
   "outputs": [],
   "source": [
    "myLabel.value = 'Hey Im like a string'"
   ]
  },
  {
   "cell_type": "code",
   "execution_count": 28,
   "metadata": {},
   "outputs": [
    {
     "data": {
      "application/vnd.jupyter.widget-view+json": {
       "model_id": "445b95dc871341bfa756e9b51c6c12aa",
       "version_major": 2,
       "version_minor": 0
      },
      "text/plain": [
       "Label(value='Hey Im like a string')"
      ]
     },
     "metadata": {},
     "output_type": "display_data"
    }
   ],
   "source": [
    "myLabel"
   ]
  },
  {
   "cell_type": "markdown",
   "metadata": {},
   "source": [
    "Ok, so now what we are going to do is make another slider widget and make it so that our label actually reflects the number of the slider.  \n",
    "\n",
    "First, let's make another slider:"
   ]
  },
  {
   "cell_type": "code",
   "execution_count": 29,
   "metadata": {},
   "outputs": [],
   "source": [
    "slider3 = ipywidgets.IntSlider(min=0, max=10, step=1)"
   ]
  },
  {
   "cell_type": "markdown",
   "metadata": {},
   "source": [
    "Make our linking function but this time instead of printing out what old and new are, let's save it to our label's value:"
   ]
  },
  {
   "cell_type": "code",
   "execution_count": 30,
   "metadata": {},
   "outputs": [],
   "source": [
    "def print_slider(change):\n",
    "    #print('old:', change['old'], 'new:', change['new']) \n",
    "    myLabel.value = 'old: ' + str(change['old']) + ', new: ' + str(change['new'])"
   ]
  },
  {
   "cell_type": "markdown",
   "metadata": {},
   "source": [
    "Link the slider:"
   ]
  },
  {
   "cell_type": "code",
   "execution_count": 31,
   "metadata": {},
   "outputs": [],
   "source": [
    "slider3.observe(print_slider, 'value')"
   ]
  },
  {
   "cell_type": "code",
   "execution_count": 32,
   "metadata": {},
   "outputs": [
    {
     "data": {
      "application/vnd.jupyter.widget-view+json": {
       "model_id": "245e064e0462401e89b88dc8f084d5fc",
       "version_major": 2,
       "version_minor": 0
      },
      "text/plain": [
       "IntSlider(value=0, max=10)"
      ]
     },
     "metadata": {},
     "output_type": "display_data"
    }
   ],
   "source": [
    "slider3"
   ]
  },
  {
   "cell_type": "code",
   "execution_count": 33,
   "metadata": {},
   "outputs": [
    {
     "data": {
      "application/vnd.jupyter.widget-view+json": {
       "model_id": "445b95dc871341bfa756e9b51c6c12aa",
       "version_major": 2,
       "version_minor": 0
      },
      "text/plain": [
       "Label(value='Hey Im like a string')"
      ]
     },
     "metadata": {},
     "output_type": "display_data"
    }
   ],
   "source": [
    "myLabel"
   ]
  },
  {
   "cell_type": "markdown",
   "metadata": {},
   "source": [
    "Ok cool, but it would probably be nice to have them both show up displayed in the same cell.  We can do this with some of the layout widgets provided in `ipywidgets`:"
   ]
  },
  {
   "cell_type": "code",
   "execution_count": 34,
   "metadata": {},
   "outputs": [
    {
     "data": {
      "application/vnd.jupyter.widget-view+json": {
       "model_id": "d7706034ca554a45b41de4c9035804a1",
       "version_major": 2,
       "version_minor": 0
      },
      "text/plain": [
       "HBox(children=(IntSlider(value=0, max=10), Label(value='Hey Im like a string')))"
      ]
     },
     "metadata": {},
     "output_type": "display_data"
    }
   ],
   "source": [
    "ipywidgets.HBox([slider3, myLabel]) # H for horizontal"
   ]
  },
  {
   "cell_type": "code",
   "execution_count": 35,
   "metadata": {},
   "outputs": [
    {
     "data": {
      "application/vnd.jupyter.widget-view+json": {
       "model_id": "b0dda353cc2e42b683bea2c141db6824",
       "version_major": 2,
       "version_minor": 0
      },
      "text/plain": [
       "VBox(children=(IntSlider(value=0, max=10), Label(value='Hey Im like a string')))"
      ]
     },
     "metadata": {},
     "output_type": "display_data"
    }
   ],
   "source": [
    "ipywidgets.VBox([slider3, myLabel])"
   ]
  },
  {
   "cell_type": "markdown",
   "metadata": {},
   "source": [
    "So, now we have a little bit of practice with linking widgets!  Before using them with \"real\" data, we are going to take a look at the data we'll be using: the NASA planet arxiv data."
   ]
  },
  {
   "cell_type": "markdown",
   "metadata": {},
   "source": [
    "### BONUS/OPTIONAL: More with widgets"
   ]
  },
  {
   "cell_type": "markdown",
   "metadata": {},
   "source": [
    "Check out the notebook for the dataviz course at UIUC: https://uiuc-ischool-dataviz.github.io/spring2020/week04/prep_notebook_week04.ipynb"
   ]
  },
  {
   "cell_type": "markdown",
   "metadata": {},
   "source": [
    "## The NASA planet archive data"
   ]
  },
  {
   "cell_type": "markdown",
   "metadata": {},
   "source": [
    "Let's start looking at the planet dataset.  If you have this file downloaded and stored in the same directory as this notebook we can take a quick peak at the first few lines of this file using our generic reading of files:"
   ]
  },
  {
   "cell_type": "code",
   "execution_count": 36,
   "metadata": {},
   "outputs": [
    {
     "name": "stdout",
     "output_type": "stream",
     "text": [
      "# This file was produced by the NASA Exoplanet Archive  http://exoplanetarchive.ipac.caltech.edu\n",
      "# Mon Jun 22 10:10:17 2020\n",
      "#\n",
      "# User preference: *\n",
      "#\n",
      "# CONSTRAINT:  where (pl_facility like 'Transiting Exoplanet Survey Satellite (TESS)')\n",
      "#\n",
      "# COLUMN pl_hostname:    Host Name\n",
      "# COLUMN pl_letter:      Planet Letter\n",
      "# COLUMN pl_name:        Planet Name\n",
      "# COLUMN pl_discmethod:  Discovery Method\n",
      "# COLUMN pl_controvflag: Controversial Flag\n",
      "# COLUMN pl_pnum:        Number of Planets in System\n",
      "# COLUMN pl_orbper:      Orbital Period [days]\n",
      "# COLUMN pl_orbpererr1:  Orbital Period Upper Unc. [days]\n",
      "# COLUMN pl_orbpererr2:  Orbital Period Lower Unc. [days]\n",
      "# COLUMN pl_orbperlim:   Orbital Period Limit Flag\n",
      "# COLUMN pl_orbsmax:     Orbit Semi-Major Axis [au])\n",
      "# COLUMN pl_orbsmaxerr1: Orbit Semi-Major Axis Upper Unc. [au]\n",
      "# COLUMN pl_orbsmaxerr2: Orbit Semi-Major Axis Lower Unc. [au]\n",
      "# COLUMN pl_orbsmaxlim:  Orbit Semi-Major Axis Limit Flag\n",
      "# COLUMN pl_orbeccen:    Eccentricity\n",
      "# COLUMN pl_orbeccenerr1: Eccentricity Upper Unc.\n",
      "# COLUMN pl_orbeccenerr2: Eccentricity Lower Unc.\n",
      "# COLUMN pl_orbeccenlim: Eccentricity Limit Flag\n",
      "# COLUMN pl_orbincl:     Inclination [deg]\n",
      "# COLUMN pl_orbinclerr1: Inclination Upper Unc. [deg]\n",
      "# COLUMN pl_orbinclerr2: Inclination Lower Unc. [deg]\n",
      "# COLUMN pl_orbincllim:  Inclination Limit Flag\n",
      "# COLUMN pl_bmassj:      Planet Mass or M*sin(i) [Jupiter mass]\n",
      "# COLUMN pl_bmassjerr1:  Planet Mass or M*sin(i) Upper Unc. [Jupiter mass]\n",
      "# COLUMN pl_bmassjerr2:  Planet Mass or M*sin(i) Lower Unc. [Jupiter mass]\n",
      "# COLUMN pl_bmassjlim:   Planet Mass or M*sin(i) Limit Flag\n",
      "# COLUMN pl_bmassprov:   Planet Mass or M*sin(i) Provenance\n",
      "# COLUMN pl_radj:        Planet Radius [Jupiter radii]\n",
      "# COLUMN pl_radjerr1:    Planet Radius Upper Unc. [Jupiter radii]\n",
      "# COLUMN pl_radjerr2:    Planet Radius Lower Unc. [Jupiter radii]\n",
      "# COLUMN pl_radjlim:     Planet Radius Limit Flag\n",
      "# COLUMN pl_dens:        Planet Density [g/cm**3]\n",
      "# COLUMN pl_denserr1:    Planet Density Upper Unc. [g/cm**3]\n",
      "# COLUMN pl_denserr2:    Planet Density Lower Unc. [g/cm**3]\n",
      "# COLUMN pl_denslim:     Planet Density Limit Flag\n",
      "# COLUMN pl_ttvflag:     TTV Flag\n",
      "# COLUMN pl_kepflag:     Kepler Field Flag\n",
      "# COLUMN pl_k2flag:      K2 Mission Flag\n",
      "# COLUMN pl_nnotes:      Number of Notes\n",
      "# COLUMN ra_str:         RA [sexagesimal]\n",
      "# COLUMN ra:             RA [decimal degrees]\n",
      "# COLUMN dec_str:        Dec [sexagesimal]\n",
      "# COLUMN dec:            Dec [decimal degrees]\n",
      "# COLUMN st_dist:        Distance [pc]\n",
      "# COLUMN st_disterr1:    Distance Upper Unc. [pc]\n",
      "# COLUMN st_disterr2:    Distance Lower Unc. [pc]\n",
      "# COLUMN st_distlim:     Distance Limit Flag\n",
      "# COLUMN gaia_dist:      Gaia Distance [pc]\n",
      "# COLUMN gaia_disterr1:  Gaia Distance Upper Unc. [pc]\n",
      "# COLUMN gaia_disterr2:  Gaia Distance Lower Unc. [pc]\n",
      "# COLUMN gaia_distlim:   Gaia Distance Limit Flag\n",
      "# COLUMN st_optmag:      Optical Magnitude [mag]\n",
      "# COLUMN st_optmagerr:   Optical Magnitude Unc. [mag]\n",
      "# COLUMN st_optmaglim:   Optical Magnitude Limit Flag\n",
      "# COLUMN st_optband:     Optical Magnitude Band\n",
      "# COLUMN gaia_gmag:      G-band (Gaia) [mag]\n",
      "# COLUMN gaia_gmagerr:   G-band (Gaia) Unc. [mag]\n",
      "# COLUMN gaia_gmaglim:   G-band (Gaia) Limit Flag\n",
      "# COLUMN st_teff:        Effective Temperature [K]\n",
      "# COLUMN st_tefferr1:    Effective Temperature Upper Unc. [K]\n",
      "# COLUMN st_tefferr2:    Effective Temperature Lower Unc. [K]\n",
      "# COLUMN st_tefflim:     Effective Temperature Limit Flag\n",
      "# COLUMN st_mass:        Stellar Mass [Solar mass]\n",
      "# COLUMN st_masserr1:    Stellar Mass Upper Unc. [Solar mass]\n",
      "# COLUMN st_masserr2:    Stellar Mass Lower Unc. [Solar mass]\n",
      "# COLUMN st_masslim:     Stellar Mass Limit Flag\n",
      "# COLUMN st_rad:         Stellar Radius [Solar radii]\n",
      "# COLUMN st_raderr1:     Stellar Radius Upper Unc. [Solar radii]\n",
      "# COLUMN st_raderr2:     Stellar Radius Lower Unc. [Solar radii]\n",
      "# COLUMN st_radlim:      Stellar Radius Limit Flag\n",
      "# COLUMN rowupdate:      Date of Last Update\n",
      "# COLUMN pl_tranflag:    Planet Transit Flag\n",
      "# COLUMN pl_rvflag:      Planet RV Flag\n",
      "# COLUMN pl_imgflag:     Planet Imaging Flag\n",
      "# COLUMN pl_astflag:     Planet Astrometry Flag\n",
      "# COLUMN pl_omflag:      Planet Orbital Modulation Flag\n",
      "# COLUMN pl_cbflag:      Planet Circumbinary Flag\n",
      "# COLUMN pl_angsep:      Calculated Angular Separation [mas]\n",
      "# COLUMN pl_angseperr1:  Calculated Angular Separation Upper Unc. [mas]\n",
      "# COLUMN pl_angseperr2:  Calculated Angular Separation Lower Unc. [mas]\n",
      "# COLUMN pl_orbtper:     Time of Periastron [days]\n",
      "# COLUMN pl_orbtpererr1: Time of Periastron Upper Unc. [days]\n",
      "# COLUMN pl_orbtpererr2: Time of Periastron Lower Unc. [days]\n",
      "# COLUMN pl_orbtperlim:  Time of Periastron Limit Flag\n",
      "# COLUMN pl_orblper:     Long. of Periastron [deg]\n",
      "# COLUMN pl_orblpererr1: Long. of Periastron Upper Unc. [deg]\n",
      "# COLUMN pl_orblpererr2: Long. of Periastron Lower Unc. [deg]\n",
      "# COLUMN pl_orblperlim:  Long. of Periastron Limit Flag\n",
      "# COLUMN pl_rvamp:       Radial Velocity Amplitude [m/s]\n",
      "# COLUMN pl_rvamperr1:   Radial Velocity Amplitude Upper Unc. [m/s]\n",
      "# COLUMN pl_rvamperr2:   Radial Velocity Amplitude Lower Unc. [m/s]\n",
      "# COLUMN pl_rvamplim:    Radial Velocity Amplitude Limit Flag\n",
      "# COLUMN pl_eqt:         Equilibrium Temperature [K]\n",
      "# COLUMN pl_eqterr1:     Equilibrium Temperature Upper Unc. [K]\n",
      "# COLUMN pl_eqterr2:     Equilibrium Temperature Lower Unc. [K]\n",
      "# COLUMN pl_eqtlim:      Equilibrium Temperature Limit Flag\n",
      "# COLUMN pl_insol:       Insolation Flux [Earth flux]\n",
      "# COLUMN pl_insolerr1:   Insolation Flux Upper Unc. [Earth flux]\n",
      "# COLUMN pl_insolerr2:   Insolation Flux Lower Unc. [Earth flux]\n",
      "# COLUMN pl_insollim:    Insolation Flux Limit Flag\n",
      "# COLUMN pl_massj:       Planet Mass [Jupiter mass]\n",
      "# COLUMN pl_massjerr1:   Planet Mass Upper Unc. [Jupiter mass]\n",
      "# COLUMN pl_massjerr2:   Planet Mass Lower Unc. [Jupiter mass]\n",
      "# COLUMN pl_massjlim:    Planet Mass Limit Flag\n",
      "# COLUMN pl_msinij:      Planet M*sin(i) [Jupiter mass]\n",
      "# COLUMN pl_msinijerr1:  Planet M*sin(i) Upper Unc. [Jupiter mass]\n",
      "# COLUMN pl_msinijerr2:  Planet M*sin(i) Lower Unc. [Jupiter mass]\n",
      "# COLUMN pl_msinijlim:   Planet M*sin(i) Limit Flag\n",
      "# COLUMN pl_masse:       Planet Mass [Earth mass]\n",
      "# COLUMN pl_masseerr1:   Planet Mass Upper Unc. [Earth mass]\n",
      "# COLUMN pl_masseerr2:   Planet Mass Lower Unc. [Earth mass]\n",
      "# COLUMN pl_masselim:    Planet Mass Limit Flag\n",
      "# COLUMN pl_msinie:      Planet M*sin(i) [Earth mass]\n",
      "# COLUMN pl_msinieerr1:  Planet M*sin(i) Upper Unc. [Earth mass]\n",
      "# COLUMN pl_msinieerr2:  Planet M*sin(i) Lower Unc. [Earth mass]\n",
      "# COLUMN pl_msinielim:   Planet M*sin(i) Limit Flag\n",
      "# COLUMN pl_bmasse:      Planet Mass or M*sin(i) [Earth mass]\n",
      "# COLUMN pl_bmasseerr1:  Planet Mass or M*sin(i) Upper Unc. [Earth mass]\n",
      "# COLUMN pl_bmasseerr2:  Planet Mass or M*sin(i) Lower Unc. [Earth mass]\n",
      "# COLUMN pl_bmasselim:   Planet Mass or M*sin(i) Limit Flag\n",
      "# COLUMN pl_rade:        Planet Radius [Earth radii]\n",
      "# COLUMN pl_radeerr1:    Planet Radius Upper Unc. [Earth radii]\n",
      "# COLUMN pl_radeerr2:    Planet Radius Lower Unc. [Earth radii]\n",
      "# COLUMN pl_radelim:     Planet Radius Limit Flag\n",
      "# COLUMN pl_rads:        Planet Radius [Solar radii]\n",
      "# COLUMN pl_radserr1:    Planet Radius Upper Unc. [Solar radii]\n",
      "# COLUMN pl_radserr2:    Planet Radius Lower Unc. [Solar radii]\n",
      "# COLUMN pl_radslim:     Planet Radius Limit Flag\n",
      "# COLUMN pl_trandep:     Transit Depth [percent]\n",
      "# COLUMN pl_trandeperr1: Transit Depth Upper Unc. [percent]\n",
      "# COLUMN pl_trandeperr2: Transit Depth Lower Unc. [percent]\n",
      "# COLUMN pl_trandeplim:  Transit Depth Limit Flag\n",
      "# COLUMN pl_trandur:     Transit Duration [days]\n",
      "# COLUMN pl_trandurerr1: Transit Duration Upper Unc. [days]\n",
      "# COLUMN pl_trandurerr2: Transit Duration Lower Unc. [days]\n",
      "# COLUMN pl_trandurlim:  Transit Duration Limit Flag\n",
      "# COLUMN pl_tranmid:     Transit Midpoint [days]\n",
      "# COLUMN pl_tranmiderr1: Transit Midpoint Upper Unc. [days]\n",
      "# COLUMN pl_tranmiderr2: Transit Midpoint Lower Unc. [days]\n",
      "# COLUMN pl_tranmidlim:  Transit Midpoint Limit Flag\n",
      "# COLUMN pl_tsystemref:  Time System Reference\n",
      "# COLUMN pl_imppar:      Impact Parameter\n",
      "# COLUMN pl_impparerr1:  Impact Parameter Upper Unc.\n",
      "# COLUMN pl_impparerr2:  Impact Parameter Lower Unc.\n",
      "# COLUMN pl_impparlim:   Impact Parameter Limit Flag\n",
      "# COLUMN pl_occdep:      Occultation Depth [percentage]\n",
      "# COLUMN pl_occdeperr1:  Occultation Depth Upper Unc. [percentage]\n",
      "# COLUMN pl_occdeperr2:  Occultation Depth Lower Unc. [percentage]\n",
      "# COLUMN pl_occdeplim:   Occultation Depth Limit Flag\n",
      "# COLUMN pl_ratdor:      Ratio of Distance to Stellar Radius\n",
      "# COLUMN pl_ratdorerr1:  Ratio of Distance to Stellar Radius Upper Unc.\n",
      "# COLUMN pl_ratdorerr2:  Ratio of Distance to Stellar Radius Lower Unc.\n",
      "# COLUMN pl_ratdorlim:   Ratio of Distance to Stellar Radius Limit Flag\n",
      "# COLUMN pl_ratror:      Ratio of Planet to Stellar Radius\n",
      "# COLUMN pl_ratrorerr1:  Ratio of Planet to Stellar Radius Upper Unc.\n",
      "# COLUMN pl_ratrorerr2:  Ratio of Planet to Stellar Radius Lower Unc.\n",
      "# COLUMN pl_ratrorlim:   Ratio of Planet to Stellar Radius Limit Flag\n",
      "# COLUMN pl_def_reflink: Default Reference\n",
      "# COLUMN pl_disc:        Year of Discovery\n",
      "# COLUMN pl_disc_reflink: Discovery Reference\n",
      "# COLUMN pl_locale:      Discovery Locale\n",
      "# COLUMN pl_facility:    Discovery Facility\n",
      "# COLUMN pl_telescope:   Discovery Telescope\n",
      "# COLUMN pl_instrument:  Discovery Instrument\n",
      "# COLUMN pl_status:      Status\n",
      "# COLUMN pl_mnum:        Number of Moons in System\n",
      "# COLUMN pl_st_npar:     Number of Stellar and Planet Parameters\n",
      "# COLUMN pl_st_nref:     Number of Stellar and Planet References\n",
      "# COLUMN pl_pelink:      Link to Exoplanet Encyclopaedia\n",
      "# COLUMN pl_edelink:     Link to Exoplanet Data Explorer\n",
      "# COLUMN pl_publ_date:   Publication Date\n",
      "# COLUMN hd_name:        HD Name\n",
      "# COLUMN hip_name:       HIP Name\n",
      "# COLUMN st_rah:         RA [hrs]\n",
      "# COLUMN st_glon:        Galactic Longitude [deg]\n",
      "# COLUMN st_glat:        Galactic Latitude [deg]\n",
      "# COLUMN st_elon:        Ecliptic Longitude [deg]\n",
      "# COLUMN st_elat:        Ecliptic Latitude [deg]\n",
      "# COLUMN st_plx:         Parallax [mas]\n",
      "# COLUMN st_plxerr1:     Parallax Upper Unc. [mas]\n",
      "# COLUMN st_plxerr2:     Parallax Lower Unc. [mas]\n",
      "# COLUMN st_plxlim:      Parallax Limit Flag\n",
      "# COLUMN gaia_plx:       Gaia Parallax [mas]\n",
      "# COLUMN gaia_plxerr1:   Gaia Parallax Upper Unc. [mas]\n",
      "# COLUMN gaia_plxerr2:   Gaia Parallax Lower Unc. [mas]\n",
      "# COLUMN gaia_plxlim:    Gaia Parallax Limit Flag\n",
      "# COLUMN st_pmra:        Proper Motion (RA) [mas/yr]\n",
      "# COLUMN st_pmraerr:     Proper Motion (RA) Unc. [mas/yr]\n",
      "# COLUMN st_pmralim:     Proper Motion (RA) Limit Flag\n",
      "# COLUMN st_pmdec:       Proper Motion (Dec) [mas/yr]\n",
      "# COLUMN st_pmdecerr:    Proper Motion (Dec) Unc. [mas/yr]\n",
      "# COLUMN st_pmdeclim:    Proper Motion (Dec) Limit Flag\n",
      "# COLUMN st_pm:          Total Proper Motion [mas/yr]\n",
      "# COLUMN st_pmerr:       Total Proper Motion Unc. [mas/yr]\n",
      "# COLUMN st_pmlim:       Total Proper Motion Limit Flag\n",
      "# COLUMN gaia_pmra:      Gaia Proper Motion (RA) [mas/yr]\n",
      "# COLUMN gaia_pmraerr:   Gaia Proper Motion (RA) Unc. [mas/yr]\n",
      "# COLUMN gaia_pmralim:   Gaia Proper Motion (RA) Limit Flag\n",
      "# COLUMN gaia_pmdec:     Gaia Proper Motion (Dec) [mas/yr]\n",
      "# COLUMN gaia_pmdecerr:  Gaia Proper Motion (Dec) Unc. [mas/yr]\n",
      "# COLUMN gaia_pmdeclim:  Gaia Proper Motion (Dec) Limit Flag\n",
      "# COLUMN gaia_pm:        Gaia Total Proper Motion [mas/yr]\n",
      "# COLUMN gaia_pmerr:     Gaia Total Proper Motion Unc. [mas/yr]\n",
      "# COLUMN gaia_pmlim:     Gaia Total Proper Motion Limit Flag\n",
      "# COLUMN st_radv:        Radial Velocity [km/s]\n",
      "# COLUMN st_radverr1:    Radial Velocity Upper Unc. [km/s]\n",
      "# COLUMN st_radverr2:    Radial Velocity Lower Unc. [km/s]\n",
      "# COLUMN st_radvlim:     Radial Velocity Limit Flag\n",
      "# COLUMN st_sp:          Spectral Type\n",
      "# COLUMN st_spstr:       Spectral Type\n",
      "# COLUMN st_sperr:       Spectral Type Unc.\n",
      "# COLUMN st_splim:       Spectral Type Limit Flag\n",
      "# COLUMN st_logg:        Stellar Surface Gravity [log10(cm/s**2)]\n",
      "# COLUMN st_loggerr1:    Stellar Surface Gravity Upper Unc. [log10(cm/s**2)]\n",
      "# COLUMN st_loggerr2:    Stellar Surface Gravity Lower Unc. [log10(cm/s**2)]\n",
      "# COLUMN st_logglim:     Stellar Surface Gravity Limit Flag\n",
      "# COLUMN st_lum:         Stellar Luminosity [log(Solar)]\n",
      "# COLUMN st_lumerr1:     Stellar Luminosity Upper Unc. [log(Solar)]\n",
      "# COLUMN st_lumerr2:     Stellar Luminosity Lower Unc. [log(Solar)]\n",
      "# COLUMN st_lumlim:      Stellar Luminosity Limit Flag\n",
      "# COLUMN st_dens:        Stellar Density [g/cm**3]\n",
      "# COLUMN st_denserr1:    Stellar Density Upper Unc. [g/cm**3]\n",
      "# COLUMN st_denserr2:    Stellar Density Lower Unc. [g/cm**3]\n",
      "# COLUMN st_denslim:     Stellar Density Limit Flag\n",
      "# COLUMN st_metfe:       Stellar Metallicity [dex]\n",
      "# COLUMN st_metfeerr1:   Stellar Metallicity Upper Unc. [dex]\n",
      "# COLUMN st_metfeerr2:   Stellar Metallicity Lower Unc. [dex]\n",
      "# COLUMN st_metfelim:    Stellar Metallicity Limit Flag\n",
      "# COLUMN st_metratio:    Metallicity Ratio\n",
      "# COLUMN st_age:         Stellar Age [Gyr]\n",
      "# COLUMN st_ageerr1:     Stellar Age Upper Unc. [Gyr]\n",
      "# COLUMN st_ageerr2:     Stellar Age Lower Unc. [Gyr]\n",
      "# COLUMN st_agelim:      Stellar Age Limit Flag\n",
      "# COLUMN st_vsini:       Rot. Velocity V*sin(i) [km/s]\n",
      "# COLUMN st_vsinierr1:   Rot. Velocity V*sin(i) Upper Unc. [km/s]\n",
      "# COLUMN st_vsinierr2:   Rot. Velocity V*sin(i) Lower Unc. [km/s]\n",
      "# COLUMN st_vsinilim:    Rot. Velocity V*sin(i) Limit Flag\n",
      "# COLUMN st_acts:        Stellar Activity S-index\n",
      "# COLUMN st_actserr:     Stellar Activity S-index Unc.\n",
      "# COLUMN st_actslim:     Stellar Activity S-index Limit Flag\n",
      "# COLUMN st_actr:        Stellar Activity log(R'HK)\n",
      "# COLUMN st_actrerr:     Stellar Activity log(R'HK) Unc.\n",
      "# COLUMN st_actrlim:     Stellar Activity log(R'HK) Limit Flag\n",
      "# COLUMN st_actlx:       X-ray Activity log(L<sub>x</sub>)\n",
      "# COLUMN st_actlxerr:    X-ray Activity log(L<sub>x</sub>) Unc.\n",
      "# COLUMN st_actlxlim:    X-ray Activity log(L<sub>x</sub>) Limit Flag\n",
      "# COLUMN swasp_id:       SWASP Identifier\n",
      "# COLUMN st_nts:         Number of Time Series\n",
      "# COLUMN st_nplc:        Number of Planet Transit Light Curves\n",
      "# COLUMN st_nglc:        Number of General Light Curves\n",
      "# COLUMN st_nrvc:        Number of Radial Velocity Time Series\n",
      "# COLUMN st_naxa:        Number of Amateur Light Curves\n",
      "# COLUMN st_nimg:        Number of Images\n",
      "# COLUMN st_nspec:       Number of Spectra\n",
      "# COLUMN st_uj:          U-band (Johnson) [mag]\n",
      "# COLUMN st_ujerr:       U-band (Johnson) Unc. [mag]\n",
      "# COLUMN st_ujlim:       U-band (Johnson) Limit Flag\n",
      "# COLUMN st_vj:          V-band (Johnson) [mag]\n",
      "# COLUMN st_vjerr:       V-band (Johnson) Unc. [mag]\n",
      "# COLUMN st_vjlim:       V-band (Johnson) Limit Flag\n",
      "# COLUMN st_bj:          B-band (Johnson) [mag]\n",
      "# COLUMN st_bjerr:       B-band (Johnson) Unc. [mag]\n",
      "# COLUMN st_bjlim:       B-band (Johnson) Limit Flag\n",
      "# COLUMN st_rc:          R-band (Cousins) [mag]\n",
      "# COLUMN st_rcerr:       R-band (Cousins) Unc. [mag]\n",
      "# COLUMN st_rclim:       R-band (Cousins) Limit Flag\n",
      "# COLUMN st_ic:          I-band (Cousins) [mag]\n",
      "# COLUMN st_icerr:       I-band (Cousins) Unc. [mag]\n",
      "# COLUMN st_iclim:       I-band (Cousins) Limit Flag\n",
      "# COLUMN st_j:           J-band (2MASS) [mag]\n",
      "# COLUMN st_jerr:        J-band (2MASS) Unc. [mag]\n",
      "# COLUMN st_jlim:        J-band (2MASS) Limit Flag\n",
      "# COLUMN st_h:           H-band (2MASS) [mag]\n",
      "# COLUMN st_herr:        H-band (2MASS) Unc. [mag]\n",
      "# COLUMN st_hlim:        H-band (2MASS) Limit Flag\n",
      "# COLUMN st_k:           Ks-band (2MASS) [mag]\n",
      "# COLUMN st_kerr:        Ks-band (2MASS) Unc. [mag]\n",
      "# COLUMN st_klim:        Ks-band (2MASS) Limit Flag\n",
      "# COLUMN st_wise1:       WISE 3.4um [mag]\n",
      "# COLUMN st_wise1err:    WISE 3.4um Unc. [mag]\n",
      "# COLUMN st_wise1lim:    WISE 3.4um Limit Flag\n",
      "# COLUMN st_wise2:       WISE 4.6um [mag]\n",
      "# COLUMN st_wise2err:    WISE 4.6um Unc. [mag]\n",
      "# COLUMN st_wise2lim:    WISE 4.6um Limit Flag\n",
      "# COLUMN st_wise3:       WISE 12.um [mag]\n",
      "# COLUMN st_wise3err:    WISE 12.um Unc. [mag]\n",
      "# COLUMN st_wise3lim:    WISE 12.um Limit Flag\n",
      "# COLUMN st_wise4:       WISE 22.um [mag]\n",
      "# COLUMN st_wise4err:    WISE 22.um Unc. [mag]\n",
      "# COLUMN st_wise4lim:    WISE 22.um Limit Flag\n",
      "# COLUMN st_irac1:       IRAC 3.6um [mag]\n",
      "# COLUMN st_irac1err:    IRAC 3.6um Unc. [mag]\n",
      "# COLUMN st_irac1lim:    IRAC 3.6um Limit Flag\n",
      "# COLUMN st_irac2:       IRAC 4.5um [mag]\n",
      "# COLUMN st_irac2err:    IRAC 4.5um Unc. [mag]\n",
      "# COLUMN st_irac2lim:    IRAC 4.5um Limit Flag\n",
      "# COLUMN st_irac3:       IRAC 5.8um [mag]\n",
      "# COLUMN st_irac3err:    IRAC 5.8um Unc. [mag]\n",
      "# COLUMN st_irac3lim:    IRAC 5.8um Limit Flag\n",
      "# COLUMN st_irac4:       IRAC 8.0um [mag]\n",
      "# COLUMN st_irac4err:    IRAC 8.0um Unc. [mag]\n",
      "# COLUMN st_irac4lim:    IRAC 8.0um Limit Flag\n",
      "# COLUMN st_mips1:       MIPS 24um [mag]\n",
      "# COLUMN st_mips1err:    MIPS 24um Unc. [mag]\n",
      "# COLUMN st_mips1lim:    MIPS 24um Limit Flag\n",
      "# COLUMN st_mips2:       MIPS 70um [mag]\n",
      "# COLUMN st_mips2err:    MIPS 70um Unc. [mag]\n",
      "# COLUMN st_mips2lim:    MIPS 70um Limit Flag\n",
      "# COLUMN st_mips3:       MIPS 160um [mag]\n",
      "# COLUMN st_mips3err:    MIPS 160um Unc. [mag]\n",
      "# COLUMN st_mips3lim:    MIPS 160um Limit Flag\n",
      "# COLUMN st_iras1:       IRAS 12um Flux [Jy]\n",
      "# COLUMN st_iras1err:    IRAS 12um Flux Unc. [Jy]\n",
      "# COLUMN st_iras1lim:    IRAS 12um Flux Limit Flag\n",
      "# COLUMN st_iras2:       IRAS 25um Flux [Jy]\n",
      "# COLUMN st_iras2err:    IRAS 25um Flux Unc. [Jy]\n",
      "# COLUMN st_iras2lim:    IRAS 25um Flux Limit Flag\n",
      "# COLUMN st_iras3:       IRAS 60um Flux [Jy]\n",
      "# COLUMN st_iras3err:    IRAS 60um Flux Unc. [Jy]\n",
      "# COLUMN st_iras3lim:    IRAS 60um Flux Limit Flag\n",
      "# COLUMN st_iras4:       IRAS 100um Flux [Jy]\n",
      "# COLUMN st_iras4err:    IRAS 100um Flux Unc. [Jy]\n",
      "# COLUMN st_iras4lim:    IRAS 100um Flux Limit Flag\n",
      "# COLUMN st_photn:       Number of Photometry Measurements\n",
      "# COLUMN st_umbj:        U-B (Johnson) [mag]\n",
      "# COLUMN st_umbjerr:     U-B (Johnson) Unc. [mag]\n",
      "# COLUMN st_umbjlim:     U-B (Johnson) Limit Flag\n",
      "# COLUMN st_bmvj:        B-V (Johnson) [mag]\n",
      "# COLUMN st_bmvjerr:     B-V (Johnson) Unc. [mag]\n",
      "# COLUMN st_bmvjlim:     B-V (Johnson) Limit Flag\n",
      "# COLUMN st_vjmic:       V-I (Johnson-Cousins) [mag]\n",
      "# COLUMN st_vjmicerr:    V-I (Johnson-Cousins) Unc. [mag]\n",
      "# COLUMN st_vjmiclim:    V-I (Johnson-Cousins) Limit Flag\n",
      "# COLUMN st_vjmrc:       V-R (Johnson-Cousins) [mag]\n",
      "# COLUMN st_vjmrcerr:    V-R (Johnson-Cousins) Unc. [mag]\n",
      "# COLUMN st_vjmrclim:    V-R (Johnson-Cousins) Limit Flag\n",
      "# COLUMN st_jmh2:        J-H (2MASS) [mag]\n",
      "# COLUMN st_jmh2err:     J-H (2MASS) Unc. [mag]\n",
      "# COLUMN st_jmh2lim:     J-H (2MASS) Limit Flag\n",
      "# COLUMN st_hmk2:        H-Ks (2MASS) [mag]\n",
      "# COLUMN st_hmk2err:     H-Ks (2MASS) Unc. [mag]\n",
      "# COLUMN st_hmk2lim:     H-Ks (2MASS) Limit Flag\n",
      "# COLUMN st_jmk2:        J-Ks (2MASS) [mag]\n",
      "# COLUMN st_jmk2err:     J-Ks (2MASS) Unc. [mag]\n",
      "# COLUMN st_jmk2lim:     J-Ks (2MASS) Limit Flag\n",
      "# COLUMN st_bmy:         b-y (Stromgren) [mag]\n",
      "# COLUMN st_bmyerr:      b-y (Stromgren) Unc. [mag]\n",
      "# COLUMN st_bmylim:      b-y (Stromgren) Limit Flag\n",
      "# COLUMN st_m1:          m1 (Stromgren) [mag]\n",
      "# COLUMN st_m1err:       m1 (Stromgren) Unc. [mag]\n",
      "# COLUMN st_m1lim:       m1 (Stromgren) Limit Flag\n",
      "# COLUMN st_c1:          c1 (Stromgren) [mag]\n",
      "# COLUMN st_c1err:       c1 (Stromgren) Unc. [mag]\n",
      "# COLUMN st_c1lim:       c1 (Stromgren) Limit Flag\n",
      "# COLUMN st_colorn:      Number of Color Measurements\n",
      "#\n",
      "rowid,pl_hostname,pl_letter,pl_name,pl_discmethod,pl_controvflag,pl_pnum,pl_orbper,pl_orbpererr1,pl_orbpererr2,pl_orbperlim,pl_orbsmax,pl_orbsmaxerr1,pl_orbsmaxerr2,pl_orbsmaxlim,pl_orbeccen,pl_orbeccenerr1,pl_orbeccenerr2,pl_orbeccenlim,pl_orbincl,pl_orbinclerr1,pl_orbinclerr2,pl_orbincllim,pl_bmassj,pl_bmassjerr1,pl_bmassjerr2,pl_bmassjlim,pl_bmassprov,pl_radj,pl_radjerr1,pl_radjerr2,pl_radjlim,pl_dens,pl_denserr1,pl_denserr2,pl_denslim,pl_ttvflag,pl_kepflag,pl_k2flag,pl_nnotes,ra_str,ra,dec_str,dec,st_dist,st_disterr1,st_disterr2,st_distlim,gaia_dist,gaia_disterr1,gaia_disterr2,gaia_distlim,st_optmag,st_optmagerr,st_optmaglim,st_optband,gaia_gmag,gaia_gmagerr,gaia_gmaglim,st_teff,st_tefferr1,st_tefferr2,st_tefflim,st_mass,st_masserr1,st_masserr2,st_masslim,st_rad,st_raderr1,st_raderr2,st_radlim,rowupdate,pl_tranflag,pl_rvflag,pl_imgflag,pl_astflag,pl_omflag,pl_cbflag,pl_angsep,pl_angseperr1,pl_angseperr2,pl_orbtper,pl_orbtpererr1,pl_orbtpererr2,pl_orbtperlim,pl_orblper,pl_orblpererr1,pl_orblpererr2,pl_orblperlim,pl_rvamp,pl_rvamperr1,pl_rvamperr2,pl_rvamplim,pl_eqt,pl_eqterr1,pl_eqterr2,pl_eqtlim,pl_insol,pl_insolerr1,pl_insolerr2,pl_insollim,pl_massj,pl_massjerr1,pl_massjerr2,pl_massjlim,pl_msinij,pl_msinijerr1,pl_msinijerr2,pl_msinijlim,pl_masse,pl_masseerr1,pl_masseerr2,pl_masselim,pl_msinie,pl_msinieerr1,pl_msinieerr2,pl_msinielim,pl_bmasse,pl_bmasseerr1,pl_bmasseerr2,pl_bmasselim,pl_rade,pl_radeerr1,pl_radeerr2,pl_radelim,pl_rads,pl_radserr1,pl_radserr2,pl_radslim,pl_trandep,pl_trandeperr1,pl_trandeperr2,pl_trandeplim,pl_trandur,pl_trandurerr1,pl_trandurerr2,pl_trandurlim,pl_tranmid,pl_tranmiderr1,pl_tranmiderr2,pl_tranmidlim,pl_tsystemref,pl_imppar,pl_impparerr1,pl_impparerr2,pl_impparlim,pl_occdep,pl_occdeperr1,pl_occdeperr2,pl_occdeplim,pl_ratdor,pl_ratdorerr1,pl_ratdorerr2,pl_ratdorlim,pl_ratror,pl_ratrorerr1,pl_ratrorerr2,pl_ratrorlim,pl_def_reflink,pl_disc,pl_disc_reflink,pl_locale,pl_facility,pl_telescope,pl_instrument,pl_status,pl_mnum,pl_st_npar,pl_st_nref,pl_pelink,pl_edelink,pl_publ_date,hd_name,hip_name,st_rah,st_glon,st_glat,st_elon,st_elat,st_plx,st_plxerr1,st_plxerr2,st_plxlim,gaia_plx,gaia_plxerr1,gaia_plxerr2,gaia_plxlim,st_pmra,st_pmraerr,st_pmralim,st_pmdec,st_pmdecerr,st_pmdeclim,st_pm,st_pmerr,st_pmlim,gaia_pmra,gaia_pmraerr,gaia_pmralim,gaia_pmdec,gaia_pmdecerr,gaia_pmdeclim,gaia_pm,gaia_pmerr,gaia_pmlim,st_radv,st_radverr1,st_radverr2,st_radvlim,st_sp,st_spstr,st_sperr,st_splim,st_logg,st_loggerr1,st_loggerr2,st_logglim,st_lum,st_lumerr1,st_lumerr2,st_lumlim,st_dens,st_denserr1,st_denserr2,st_denslim,st_metfe,st_metfeerr1,st_metfeerr2,st_metfelim,st_metratio,st_age,st_ageerr1,st_ageerr2,st_agelim,st_vsini,st_vsinierr1,st_vsinierr2,st_vsinilim,st_acts,st_actserr,st_actslim,st_actr,st_actrerr,st_actrlim,st_actlx,st_actlxerr,st_actlxlim,swasp_id,st_nts,st_nplc,st_nglc,st_nrvc,st_naxa,st_nimg,st_nspec,st_uj,st_ujerr,st_ujlim,st_vj,st_vjerr,st_vjlim,st_bj,st_bjerr,st_bjlim,st_rc,st_rcerr,st_rclim,st_ic,st_icerr,st_iclim,st_j,st_jerr,st_jlim,st_h,st_herr,st_hlim,st_k,st_kerr,st_klim,st_wise1,st_wise1err,st_wise1lim,st_wise2,st_wise2err,st_wise2lim,st_wise3,st_wise3err,st_wise3lim,st_wise4,st_wise4err,st_wise4lim,st_irac1,st_irac1err,st_irac1lim,st_irac2,st_irac2err,st_irac2lim,st_irac3,st_irac3err,st_irac3lim,st_irac4,st_irac4err,st_irac4lim,st_mips1,st_mips1err,st_mips1lim,st_mips2,st_mips2err,st_mips2lim,st_mips3,st_mips3err,st_mips3lim,st_iras1,st_iras1err,st_iras1lim,st_iras2,st_iras2err,st_iras2lim,st_iras3,st_iras3err,st_iras3lim,st_iras4,st_iras4err,st_iras4lim,st_photn,st_umbj,st_umbjerr,st_umbjlim,st_bmvj,st_bmvjerr,st_bmvjlim,st_vjmic,st_vjmicerr,st_vjmiclim,st_vjmrc,st_vjmrcerr,st_vjmrclim,st_jmh2,st_jmh2err,st_jmh2lim,st_hmk2,st_hmk2err,st_hmk2lim,st_jmk2,st_jmk2err,st_jmk2lim,st_bmy,st_bmyerr,st_bmylim,st_m1,st_m1err,st_m1lim,st_c1,st_c1err,st_c1lim,st_colorn\n",
      "1,11 Com,b,11 Com b,Radial Velocity,0,1,326.03000000,0.32000000,-0.32000000,0,1.290000,0.050000,-0.050000,0,0.231000,0.005000,-0.005000,0,,,,,19.40000,1.50000,-1.50000,0,Msini,,,,,,,,,0,0,0,0,12h20m43.03s,185.179276,+17d47m34.3s,17.792868,93.37,1.92,-1.92,0,93.37,1.92,-1.92,0,4.740,,0,V (Johnson),4.372,,0,4742.00,100.00,-100.00,0,2.70,0.30,-0.30,0,19.00,2.00,-2.00,0,2014-05-14,0,1,0,0,0,0,1.38000e+01,6.100000e-01,-6.100000e-01,2452899.600000,1.600000,-1.600000,0,94.8000,1.5000,-1.5000,0,302.800,2.600,-2.600,0,,,,,,,,,,,,,19.40000,1.50000,-1.50000,0,,,,,6165.60000,476.70000,-476.70000,0,6165.60000,476.70000,-476.70000,0,,,,,,,,,,,,,,,,,,,,,,,,,,,,,,,,,,,,,,<a refstr=LIU_ET_AL__2008 href=https://ui.adsabs.harvard.edu/abs/2008ApJ...672..553L/abstract target=ref> Liu et al. 2008 </a>,2007,<a refstr=LIU_ET_AL__2008 href=https://ui.adsabs.harvard.edu/abs/2008ApJ...672..553L/abstract target=ref> Liu et al. 2008 </a>,Ground,Xinglong Station,2.16 m Telescope,Coude Echelle Spectrograph,3,0,27,19,http://exoplanet.eu/catalog/11_com_b/,http://exoplanets.org/detail/11_Com_b,2008-01,HD 107383,HIP 60202,12.34528503,264.140892,78.280522,177.422388,18.333765,10.71,0.22,-0.22,0,10.71,0.22,-0.22,0,-109.200,0.300,0,88.200,0.300,0,140.400,0.300,0,-109.200,0.300,0,88.200,0.300,0,140.400,0.300,0,43.37,0.21,-0.21,0,5.00,K0 III,,0,2.31,0.10,-0.10,0,2.243,0.071,-0.085,0,,,,,-0.350,0.090,-0.090,0,[Fe/H],,,,,1.2000,1.0000,-1.0000,0,,,,,,,,,,,3,0,1,2,0,3,0,6.540,,0,4.740,,0,5.750,,0,,,,,,,2.943,0.334,0,2.484,0.268,0,2.282,0.346,0,0.639,,-1,0.732,,-1,2.358,0.010,0,2.270,0.018,0,,,,,,,,,,,,,,,,,,,,,,1.829e+00,5.400e-02,0,1.867e+00,1.090e-01,0,1.184e+00,,1,-9.160e-01,,1,20,0.790,,0,1.010,,0,,,,,,,0.459,0.428,0,0.202,0.438,0,0.661,0.481,0,,,,,,,,,,7\n",
      "2,11 UMi,b,11 UMi b,Radial Velocity,0,1,516.21997000,3.20000000,-3.20000000,0,1.530000,0.070000,-0.070000,0,0.080000,0.030000,-0.030000,0,,,,,14.74000,2.50000,-2.50000,0,Msini,,,,,,,,,0,0,0,0,15h17m05.89s,229.274536,+71d49m26.0s,71.823898,125.72,1.97,-1.97,0,125.72,1.97,-1.97,0,5.016,0.009,0,V (Johnson),4.500,,0,4213.00,46.00,-46.00,0,2.78,0.69,-0.69,0,29.79,2.84,-2.84,0,2018-09-06,0,1,0,0,0,0,1.22000e+01,5.900000e-01,-5.900000e-01,,,,,,,,,189.700,7.200,-7.200,0,,,,,,,,,,,,,14.74000,2.50000,-2.50000,0,,,,,4684.81420,794.57500,-794.57500,0,4684.81420,794.57500,-794.57500,0,,,,,,,,,,,,,,,,,,,,,,,,,,,,,,,,,,,,,,<a refstr=STASSUN_ET_AL__2017 href=https://ui.adsabs.harvard.edu/abs/2017AJ....153..136S/abstract target=ref>Stassun et al. 2017</a>,2009,<a refstr=DOLLINGER_ET_AL__2009 href=https://ui.adsabs.harvard.edu/abs/2009A&A...505.1311D/abstract target=ref> Dollinger et al. 2009 </a>,Ground,Thueringer Landessternwarte Tautenburg,2.0 m Alfred Jensch Telescope,Coude Echelle Spectrograph,3,0,35,18,http://exoplanet.eu/catalog/11_umi_b/,http://exoplanets.org/detail/11_UMi_b,2009-10,HD 136726,HIP 74793,15.28496908,108.718982,41.044516,141.647144,74.958184,7.95,0.12,-0.12,0,7.95,0.12,-0.12,0,3.400,0.200,0,10.100,0.200,0,10.700,0.200,0,3.400,0.200,0,10.100,0.200,0,10.700,0.200,0,-17.52,0.15,-0.15,0,5.40,K4 III,,0,1.93,0.07,-0.07,0,,,,,,,,,-0.020,,,0,[Fe/H],,,,0,1.5000,,,0,,,,,,,,,,,2,0,1,1,0,3,0,,,,5.016,0.009,0,6.385,0.015,0,,,,,,,2.876,0.230,0,2.091,0.194,0,1.939,0.270,0,-0.290,,-1,0.143,,-1,1.894,0.012,0,1.787,0.013,0,,,,,,,,,,,,,,,,,,,,,,1.339e+00,5.400e-02,0,1.351e+00,6.500e-02,0,1.184e+00,,1,-9.160e-01,,1,17,,,,1.369,0.017,0,,,,,,,0.785,0.301,0,0.152,0.332,0,0.937,0.355,0,,,,,,,,,,5\n",
      "3,14 And,b,14 And b,Radial Velocity,0,1,185.84000000,0.23000000,-0.23000000,0,0.830000,,,0,0.000000,,,0,,,,,4.80000,,,0,Msini,,,,,,,,,0,0,0,0,23h31m17.42s,352.822571,+39d14m10.3s,39.236198,75.59,0.71,-0.71,0,75.59,0.71,-0.71,0,5.227,0.009,0,V (Johnson),4.872,,0,4813.00,20.00,-20.00,0,2.20,0.10,-0.20,0,11.00,1.00,-1.00,0,2014-05-14,0,1,0,0,0,0,1.10000e+01,1.000000e-01,-1.000000e-01,2452861.400000,1.500000,-1.500000,0,0.0000,,,0,100.000,1.300,-1.300,0,,,,,,,,,,,,,4.80000,,,0,,,,,1525.50000,,,0,1525.50000,,,0,,,,,,,,,,,,,,,,,,,,,,,,,,,,,,,,,,,,,,<a refstr=SATO_ET_AL__2008 href=https://ui.adsabs.harvard.edu/abs/2008PASJ...60.1317S/abstract target=ref> Sato et al. 2008 </a>,2008,<a refstr=SATO_ET_AL__2008 href=https://ui.adsabs.harvard.edu/abs/2008PASJ...60.1317S/abstract target=ref> Sato et al. 2008 </a>,Ground,Okayama Astrophysical Observatory,1.88 m Telescope,HIDES Echelle Spectrograph,3,0,30,22,http://exoplanet.eu/catalog/14_and_b/,http://exoplanets.org/detail/14_And_b,2008-12,HD 221345,HIP 116076,23.52150472,106.411558,-21.050610,11.962116,38.229937,13.23,0.12,-0.12,0,13.23,0.12,-0.12,0,287.300,0.200,0,-83.800,0.100,0,299.300,0.200,0,287.300,0.200,0,-83.800,0.100,0,299.300,0.200,0,-59.73,0.31,-0.31,0,4.80,G8 III,,0,2.63,0.07,-0.07,0,1.763,,,0,,,,,-0.240,0.030,-0.030,0,[Fe/H],,,,,2.6000,,,0,0.095,0.004,0,,,,,,,,2,0,1,1,0,3,0,7.100,,0,5.227,0.009,0,6.240,,0,,,,,,,3.019,0.180,0,2.608,0.184,0,2.331,0.240,0,1.592,,-1,2.545,0.524,0,2.719,0.016,0,2.719,0.023,0,,,,,,,,,,,,,,,,,,,,,,2.198e+00,1.310e-01,0,2.317e+00,1.200e-01,0,1.184e+00,,1,-9.160e-01,,1,21,0.860,,0,1.020,,0,,,,,,,0.411,0.257,0,0.277,0.302,0,0.688,0.300,0,,,,,,,,,,7\n",
      "4,14 Her,b,14 Her b,Radial Velocity,0,1,1773.40002000,2.50000000,-2.50000000,0,2.930000,0.080000,-0.080000,0,0.370000,0.000000,0.000000,0,,,,,4.66000,0.15000,-0.15000,0,Msini,,,,,,,,,0,0,0,0,16h10m24.31s,242.601303,+43d49m03.5s,43.817646,17.94,0.01,-0.01,0,17.94,0.01,-0.01,0,6.610,0.020,0,V (Johnson),6.379,,0,5338.00,25.00,-25.00,0,0.90,0.04,-0.04,0,0.93,0.01,-0.01,0,2018-09-06,0,1,0,0,0,0,1.63000e+02,4.500000e+00,-4.500000e+00,,,,,,,,,90.000,0.500,-0.500,0,,,,,,,,,,,,,4.66000,0.15000,-0.15000,0,,,,,1481.08780,47.67450,-47.67450,0,1481.08780,47.67450,-47.67450,0,,,,,,,,,,,,,,,,,,,,,,,,,,,,,,,,,,,,,,<a refstr=STASSUN_ET_AL__2017 href=https://ui.adsabs.harvard.edu/abs/2017AJ....153..136S/abstract target=ref>Stassun et al. 2017</a>,2002,<a refstr=BUTLER_ET_AL__2003 href=https://ui.adsabs.harvard.edu/abs/2003ApJ...582..455B/abstract target=ref> Butler et al. 2003 </a>,Ground,W. M. Keck Observatory,10 m Keck I Telescope,HIRES Spectrometer,3,0,79,37,http://exoplanet.eu/catalog/14_her_b/,http://exoplanets.org/detail/14_Her_b,2003-01,HD 145675,HIP 79248,16.17342021,69.170376,46.944999,223.248728,62.879798,55.74,0.02,-0.02,0,55.74,0.02,-0.02,0,132.000,0.000,0,-296.500,0.000,0,324.500,0.000,0,132.000,0.000,0,-296.500,0.000,0,324.500,0.000,0,,,,,5.00,K0 V,,0,4.45,0.02,-0.02,0,,,,,,,,,0.410,,,0,[Fe/H],,,,0,1.6000,0.5000,-0.5000,0,0.161,0.021,0,-5.060,,0,,,,,5,0,1,4,0,4,1,,,,6.610,0.020,0,7.490,0.020,0,,,,,,,5.158,0.029,0,4.803,0.016,0,4.714,0.016,0,4.676,0.173,0,4.543,0.086,0,4.721,0.014,0,4.674,0.025,0,,,,,,,,,,,,,4.729e+00,3.500e-02,0,4.624e+00,2.290e-01,0,,,,4.213e+00,1.640e-01,0,3.575e+00,,1,1.184e+00,,1,-9.160e-01,,1,25,,,,0.880,0.010,0,,,,,,,0.355,0.033,0,0.089,0.023,0,0.444,0.033,0,0.537,0.001,0,0.366,0.002,0,0.438,0.006,0,9\n",
      "5,16 Cyg B,b,16 Cyg B b,Radial Velocity,0,1,798.50000000,1.00000000,-1.00000000,0,1.660000,0.030000,-0.030000,0,0.680000,0.020000,-0.020000,0,,,,,1.78000,0.08000,-0.08000,0,Msini,,,,,,,,,0,0,0,0,19h41m51.97s,295.466553,+50d31m03.1s,50.517525,21.15,0.01,-0.01,0,21.15,0.01,-0.01,0,6.250,,0,V (Johnson),6.057,,0,5750.00,8.00,-8.00,0,1.08,0.04,-0.04,0,1.13,0.01,-0.01,0,2018-09-06,0,1,0,0,0,0,7.85000e+01,1.420000e+00,-1.420000e+00,,,,,,,,,50.500,1.600,-1.600,0,,,,,,,,,,,,,1.78000,0.08000,-0.08000,0,,,,,565.73740,25.42640,-25.42640,0,565.73740,25.42640,-25.42640,0,,,,,,,,,,,,,,,,,,,,,,,,,,,,,,,,,,,,,,<a refstr=STASSUN_ET_AL__2017 href=https://ui.adsabs.harvard.edu/abs/2017AJ....153..136S/abstract target=ref>Stassun et al. 2017</a>,1996,<a refstr=COCHRAN_ET_AL__1997 href=https://ui.adsabs.harvard.edu/abs/1997ApJ...483..457C/abstract target=ref> Cochran et al. 1997 </a>,Ground,Multiple Observatories,Multiple Telescopes,Multiple Instruments,3,0,77,40,http://exoplanet.eu/catalog/16_cyg_b_b/,http://exoplanets.org/detail/16_Cyg_B_b,1997-07,HD 186427,HIP 96901,19.69777018,83.336460,13.204352,321.218050,69.468372,47.28,0.02,-0.02,0,47.28,0.02,-0.02,0,-134.800,0.000,0,-162.500,0.000,0,211.100,0.000,0,-134.800,0.000,0,-162.500,0.000,0,211.100,0.000,0,-28.10,0.10,-0.10,0,4.25,G2.5 V,,0,4.36,0.01,-0.01,0,,,,,,,,,0.060,,,0,[Fe/H],,,,0,2.1800,,,0,0.148,0.019,0,-5.080,,0,,,,,5,0,1,4,0,4,3,7.070,,0,6.250,,0,6.910,,0,,,,,,,4.993,0.037,0,4.695,0.036,0,4.651,0.016,0,4.773,0.236,0,4.568,0.106,0,4.926,0.033,0,4.713,0.028,0,,,,,,,,,,,,,4.694e+00,3.500e-02,0,4.362e+00,4.230e-01,1,,,,,,,,,,,,,,,,28,0.210,,0,0.660,,0,,,,,,,0.298,0.052,0,0.044,0.039,0,0.342,0.040,0,0.418,0.003,0,0.222,0.003,0,0.351,0.003,0,17\n",
      "6,18 Del,b,18 Del b,Radial Velocity,0,1,993.30000000,3.20000000,-3.20000000,0,2.600000,,,0,0.080000,0.010000,-0.010000,0,,,,,10.30000,,,0,Msini,,,,,,,,,0,0,0,0,20h58m25.94s,314.608063,+10d50m21.4s,10.839286,76.38,0.62,-0.62,0,76.38,0.62,-0.62,0,5.506,0.009,0,V (Johnson),5.244,,0,4979.00,18.00,-18.00,0,2.30,,,0,8.50,,,0,2014-05-14,0,1,0,0,0,0,3.40000e+01,2.800000e-01,-2.800000e-01,2451672.000000,18.000000,-18.000000,0,166.1000,6.5000,-6.5000,0,119.400,1.300,-1.300,0,,,,,,,,,,,,,10.30000,,,0,,,,,3273.50000,,,0,3273.50000,,,0,,,,,,,,,,,,,,,,,,,,,,,,,,,,,,,,,,,,,,<a refstr=SATO_ET_AL__2008 href=https://ui.adsabs.harvard.edu/abs/2008PASJ...60..539S/abstract target=ref> Sato et al. 2008 </a>,2008,<a refstr=SATO_ET_AL__2008 href=https://ui.adsabs.harvard.edu/abs/2008PASJ...60..539S/abstract target=ref> Sato et al. 2008 </a>,Ground,Okayama Astrophysical Observatory,1.88 m Telescope,HIDES Echelle Spectrograph,3,0,28,20,http://exoplanet.eu/catalog/18_del_b/,http://exoplanets.org/detail/18_Del_b,2008-06,HD 199665,HIP 103527,20.97387085,58.691434,-21.974824,320.591213,26.786858,13.09,0.11,-0.11,0,13.09,0.11,-0.11,0,-50.000,0.100,0,-34.200,0.200,0,60.600,0.200,0,-50.000,0.100,0,-34.200,0.200,0,60.600,0.200,0,4.35,0.15,-0.15,0,4.60,G6 III,,0,2.82,0.06,-0.06,0,1.602,,,0,,,,,-0.052,0.023,-0.023,0,[Fe/H],,,,,,,,,,,,,,,,,,,2,0,1,1,0,3,0,,,,5.506,0.009,0,6.430,0.014,0,,,,,,,4.032,0.236,0,3.440,0.186,0,3.366,0.204,0,3.370,0.373,0,2.931,0.416,0,3.355,0.013,0,3.308,0.025,0,,,,,,,,,,,,,,,,,,,,,,2.911e+00,5.400e-02,0,2.852e+00,2.430e-01,0,1.184e+00,,1,-9.560e-01,,1,18,,,,0.924,0.017,0,,,,,,,0.592,0.300,0,0.074,0.276,0,0.666,0.312,0,,,,,,,,,,5\n",
      "7,1RXS J160929.1-210524,b,1RXS J160929.1-210524 b,Imaging,0,1,,,,,330.000000,,,0,,,,,,,,,8.00000,1.00000,-1.00000,0,Mass,,,,,,,,,0,0,0,0,16h09m30.30s,242.376268,-21d04m58.9s,-21.083036,145.00,14.00,-14.00,0,139.67,1.32,-1.32,0,,,,,12.057,,0,4060.00,300.00,-200.00,0,0.85,0.20,-0.10,0,,,,,2015-04-01,0,0,1,0,0,0,2.28000e+03,2.200000e+02,-2.200000e+02,,,,,,,,,,,,,1700,100,-100,0,,,,,8.00000,1.00000,-1.00000,0,,,,,3000.00000,300.00000,-300.00000,0,,,,,3000.00000,300.00000,-300.00000,0,,,,,,,,,,,,,,,,,,,,,,,,,,,,,,,,,,,,,,<a refstr=LACHAPELLE_ET_AL__2015 href=https://ui.adsabs.harvard.edu/abs/2015ApJ...802...61L/abstract target=ref>Lachapelle et al. 2015</a>,2008,<a refstr=LAFRENIERE_ET_AL__2008 href=https://ui.adsabs.harvard.edu/abs/2008ApJ...689L.153L/abstract target=ref> Lafreniere et al. 2008 </a>,Ground,Gemini Observatory,8.19 m Gemini North Telescope,NIRI Camera,3,0,28,8,http://exoplanet.eu/catalog/1rxs_1609_b/,,2008-12,,,16.15841787,352.890560,22.030427,244.365684,-0.068410,,,,,7.16,0.07,-0.07,0,-10.300,0.100,0,-23.200,0.100,0,25.400,0.100,0,-10.300,0.100,0,-23.200,0.100,0,25.400,0.100,0,,,,,5.70,K7 V,,0,,,,,-0.370,0.150,-0.150,0,,,,,,,,,,0.005,,,,,,,,,,,,,,,,,,0,0,0,0,0,3,0,,,,,,,,,,,,,,,,9.820,0.027,0,9.121,0.023,0,8.916,0.021,0,8.794,0.022,0,8.790,0.020,0,8.684,0.028,0,8.531,0.370,0,,,,,,,,,,,,,,,,,,,,,,,,,,,,,,,,,,8,,,,,,,,,,,,,0.699,0.035,0,0.205,0.031,0,0.904,0.034,0,,,,,,,,,,3\n",
      "8,24 Boo,b,24 Boo b,Radial Velocity,0,1,30.35060000,0.00780000,-0.00770000,0,0.190000,0.012000,-0.009000,0,0.042000,0.048000,-0.029000,0,,,,,0.91000,0.13000,-0.10000,0,Msini,,,,,,,,,0,0,0,0,14h28m37.81s,217.157547,+49d50m41.5s,49.844852,96.25,0.64,-0.64,0,96.25,0.64,-0.64,0,5.580,,0,V (Johnson),5.305,,0,4893.00,15.00,-15.00,0,0.99,0.19,-0.13,0,10.64,0.84,-0.59,0,2018-04-26,0,1,0,0,0,0,1.97000e+00,1.100000e-01,-1.100000e-01,2450008.600000,10.100000,-7.900000,0,210.0000,100.0000,-130.0000,0,59.900,3.300,-3.200,0,,,,,,,,,,,,,0.91000,0.13000,-0.10000,0,,,,,289.22530,41.31790,-31.78300,0,289.22530,41.31790,-31.78300,0,,,,,,,,,,,,,,,,,,,,,JD,,,,,,,,,,,,,,,,,<a refstr=TAKARADA_ET_AL__2018 href=https://ui.adsabs.harvard.edu/abs/2018arXiv180404008T/abstract target=ref>Takarada et al. 2018</a>,2018,<a refstr=TAKARADA_ET_AL__2018 href=https://ui.adsabs.harvard.edu/abs/2018arXiv180404008T/abstract target=ref>Takarada et al. 2018</a>,Ground,Okayama Astrophysical Observatory,1.88 m Telescope,HIDES Echelle Spectrograph,3,0,17,14,http://exoplanet.eu/catalog/24_boo_b/,,,HD 127243,HIP 70791,14.47716980,90.162223,60.643666,185.925162,58.888907,10.39,0.07,-0.07,0,10.39,0.07,-0.07,0,-304.100,0.100,0,-46.800,0.100,0,307.600,0.100,0,-304.100,0.100,0,-46.800,0.100,0,307.600,0.100,0,-7.77,0.15,-0.15,0,4.30,G3 IV,,0,2.42,0.10,-0.10,0,1.774,0.047,-0.053,0,,,,,-0.770,0.030,-0.030,0,[Fe/H],6.920,4.830,-2.750,0,3.3600,,,0,,,,,,,,,,,1,0,1,0,0,3,0,,,,5.580,,0,6.442,0.014,0,,,,,,,3.845,0.240,0,3.340,0.190,0,3.159,0.280,0,,,,,,,,,,,,,,,,,,,,,,,,,,,,,,,,,,2.947e+00,4.300e-02,0,2.861e+00,1.310e-01,0,1.184e+00,,1,-9.160e-01,,1,14,,,,0.864,0.004,0,,,,,,,0.505,0.306,0,0.181,0.338,0,0.686,0.369,0,,,,,,,,,,6\n",
      "9,24 Sex,b,24 Sex b,Radial Velocity,0,2,452.80000000,2.10000000,-4.50000000,0,1.333000,0.004000,-0.009000,0,0.090000,0.140000,-0.060000,0,,,,,1.99000,0.26000,-0.38000,0,Msini,,,,,,,,,0,0,0,0,10h23m28.37s,155.868210,-00d54m08.1s,-0.902244,72.21,0.68,-0.68,0,72.21,0.68,-0.68,0,6.441,0.010,0,V (Johnson),6.198,,0,5098.00,44.00,-44.00,0,1.54,0.08,-0.08,0,4.90,0.08,-0.08,0,2014-05-14,0,1,0,0,0,0,1.85000e+01,1.900000e-01,-1.900000e-01,2454762.000000,67.300000,-172.300000,0,9.2000,277.9000,-165.4000,0,40.000,4.900,-7.800,0,,,,,,,,,,,,,1.99000,0.26000,-0.38000,0,,,,,632.46000,82.63000,-120.77000,0,632.46000,82.63000,-120.77000,0,,,,,,,,,,,,,,,,,,,,,,,,,,,,,,,,,,,,,,<a refstr=JOHNSON_ET_AL__2010 href=https://ui.adsabs.harvard.edu/abs/2010arXiv1007.4552J/abstract target=ref> Johnson et al. 2010 </a>,2010,<a refstr=JOHNSON_ET_AL__2010 href=https://ui.adsabs.harvard.edu/abs/2010arXiv1007.4552J/abstract target=ref> Johnson et al. 2010 </a>,Ground,Lick Observatory,3.0 m C. Donald Shane Telescope,Hamilton Echelle Spectrograph,3,0,21,17,http://exoplanet.eu/catalog/24_sex_b/,http://exoplanets.org/detail/24_Sex_b,2011-01,HD 90043,HIP 50887,10.39121399,245.085309,44.715734,157.993590,-10.198148,13.85,0.13,-0.13,0,13.85,0.13,-0.13,0,65.200,0.200,0,-36.300,0.200,0,74.600,0.200,0,65.200,0.200,0,-36.300,0.200,0,74.600,0.200,0,7.29,0.18,-0.18,0,5.00,K0 IV,,0,3.50,0.10,-0.10,0,1.164,0.003,-0.003,0,,,,,-0.030,0.040,-0.040,0,[Fe/H],2.700,0.400,-0.400,,2.7700,0.5000,-0.5000,0,,,,,,,,,,,3,0,1,2,0,3,1,,,,6.441,0.010,0,7.399,0.015,0,,,,,,,5.292,0.338,0,4.486,0.076,0,4.285,0.016,0,4.094,0.327,0,3.598,0.156,0,4.254,0.015,0,4.201,0.024,0,,,,,,,,,,,,,,,,,,,,,,3.803e+00,8.700e-02,0,2.555e+00,,1,1.102e+00,,1,-9.160e-01,,1,17,,,,0.958,0.018,0,,,,,,,0.806,0.346,0,0.201,0.078,0,1.007,0.338,0,0.572,0.003,0,0.342,0.004,0,0.427,0.004,0,8\n",
      "10,24 Sex,c,24 Sex c,Radial Velocity,0,2,883.00000000,32.40000000,-13.80000000,0,2.080000,0.050000,-0.020000,0,0.290000,0.160000,-0.090000,0,,,,,0.86000,0.35000,-0.22000,0,Msini,,,,,,,,,0,0,0,0,10h23m28.37s,155.868210,-00d54m08.1s,-0.902244,72.21,0.68,-0.68,0,72.21,0.68,-0.68,0,6.441,0.010,0,V (Johnson),6.198,,0,5098.00,44.00,-44.00,0,1.54,0.08,-0.08,0,4.90,0.08,-0.08,0,2014-05-14,0,1,0,0,0,0,2.88000e+01,5.500000e-01,-5.500000e-01,2454930.000000,209.900000,-96.500000,0,220.5000,182.2000,-320.9000,0,14.500,7.500,-3.600,0,,,,,,,,,,,,,0.86000,0.35000,-0.22000,0,,,,,273.32000,111.24000,-69.92000,0,273.32000,111.24000,-69.92000,0,,,,,,,,,,,,,,,,,,,,,,,,,,,,,,,,,,,,,,<a refstr=JOHNSON_ET_AL__2010 href=https://ui.adsabs.harvard.edu/abs/2010arXiv1007.4552J/abstract target=ref> Johnson et al. 2010 </a>,2010,<a refstr=JOHNSON_ET_AL__2010 href=https://ui.adsabs.harvard.edu/abs/2010arXiv1007.4552J/abstract target=ref> Johnson et al. 2010 </a>,Ground,Lick Observatory,3.0 m C. Donald Shane Telescope,Hamilton Echelle Spectrograph,3,0,21,17,http://exoplanet.eu/catalog/24_sex_c/,http://exoplanets.org/detail/24_Sex_c,2011-01,HD 90043,HIP 50887,10.39121399,245.085309,44.715734,157.993590,-10.198148,13.85,0.13,-0.13,0,13.85,0.13,-0.13,0,65.200,0.200,0,-36.300,0.200,0,74.600,0.200,0,65.200,0.200,0,-36.300,0.200,0,74.600,0.200,0,7.29,0.18,-0.18,0,5.00,K0 IV,,0,3.50,0.10,-0.10,0,1.164,0.003,-0.003,0,,,,,-0.030,0.040,-0.040,0,[Fe/H],2.700,0.400,-0.400,,2.7700,0.5000,-0.5000,0,,,,,,,,,,,3,0,1,2,0,3,1,,,,6.441,0.010,0,7.399,0.015,0,,,,,,,5.292,0.338,0,4.486,0.076,0,4.285,0.016,0,4.094,0.327,0,3.598,0.156,0,4.254,0.015,0,4.201,0.024,0,,,,,,,,,,,,,,,,,,,,,,3.803e+00,8.700e-02,0,2.555e+00,,1,1.102e+00,,1,-9.160e-01,,1,17,,,,0.958,0.018,0,,,,,,,0.806,0.346,0,0.201,0.078,0,1.007,0.338,0,0.572,0.003,0,0.342,0.004,0,0.427,0.004,0,8\n",
      "11,2MASS J01225093-2439505,b,2MASS J01225093-2439505 b,Imaging,0,1,,,,,52.000000,6.000000,-6.000000,0,,,,,,,,,24.50000,2.50000,-2.50000,0,Mass,,,,,,,,,0,0,0,0,01h22m50.94s,20.712243,-24d39m50.6s,-24.664049,36.00,4.00,-4.00,0,33.86,0.09,-0.09,0,14.240,0.070,0,V (Johnson),12.903,,0,3530.00,50.00,-50.00,0,0.40,0.05,-0.05,0,,,,,2014-05-14,0,0,1,0,0,0,1.44000e+03,2.310000e+02,-2.310000e+02,,,,,,,,,,,,,,,,,,,,,24.50000,2.50000,-2.50000,0,,,,,7786.50000,794.50000,-794.50000,0,,,,,7786.50000,794.50000,-794.50000,0,,,,,,,,,,,,,,,,,,,,,,,,,,,,,,,,,,,,,,<a refstr=BOWLER_ET_AL__2013 href=https://ui.adsabs.harvard.edu/abs/2013ApJ...774...55B/abstract target=ref> Bowler et al. 2013 </a>,2013,<a refstr=BOWLER_ET_AL__2013 href=https://ui.adsabs.harvard.edu/abs/2013ApJ...774...55B/abstract target=ref> Bowler et al. 2013 </a>,Ground,W. M. Keck Observatory,10 m Keck II Telescope,NIRC2 Camera,3,0,9,6,http://exoplanet.eu/catalog/2m_0122-24_b/,,2013-08,,,1.38081620,195.448768,-82.520165,8.622413,-30.711243,,,,,29.53,0.07,-0.07,0,120.500,0.200,0,-123.400,0.100,0,172.400,0.200,0,120.500,0.200,0,-123.400,0.100,0,172.400,0.200,0,9.60,0.70,-0.70,0,6.35,M3.5 V,,0,,,,,-1.720,0.110,-0.110,0,,,,,,,,,,0.120,0.010,-0.010,,,,,,,,,,,,,,,,0,0,0,0,0,3,0,,,,14.240,0.070,0,,,,,,,,,,10.084,0.026,0,9.470,0.021,0,9.198,0.024,0,9.022,0.023,0,8.857,0.019,0,8.747,0.031,0,8.298,0.317,0,,,,,,,,,,,,,,,,,,,,,,,,,,,,,,,,,,9,,,,,,,,,,,,,0.614,0.033,0,0.272,0.032,0,0.886,0.035,0,,,,,,,,,,3\n",
      "12,2MASS J02192210-3925225,b,2MASS J02192210-3925225 b,Imaging,0,1,,,,,156.000000,10.000000,-10.000000,0,,,,,,,,,13.90000,1.10000,-1.10000,0,Mass,1.440,0.030,-0.030,0,,,,,0,0,0,0,02h19m22.11s,34.842106,-39d25m22.5s,-39.422928,39.40,2.60,-2.60,0,40.09,0.19,-0.19,0,,,,,15.012,,0,3064.00,76.00,-76.00,0,0.11,0.01,-0.01,0,0.28,0.01,-0.01,0,2015-05-14,0,0,1,0,0,0,3.96000e+03,3.640000e+02,-3.640000e+02,,,,,,,,,,,,,,,,,,,,,13.90000,1.10000,-1.10000,0,,,,,4417.83700,349.61300,-349.61300,0,,,,,4417.83700,349.61300,-349.61300,0,16.141,0.336,-0.336,0,0.148,0.003,-0.003,0,,,,,,,,,,,,,,,,,,,,,,,,,,,,,,<a refstr=ARTIGAU_ET_AL__2015 href=https://ui.adsabs.harvard.edu/abs/2015ApJ...806..254A/abstract target=ref>Artigau et al. 2015</a>,2015,<a refstr=ARTIGAU_ET_AL__2015 href=https://ui.adsabs.harvard.edu/abs/2015ApJ...806..254A/abstract target=ref>Artigau et al. 2015</a>,Ground,Cerro Tololo Inter-American Observatory,1.5 m CTIO Telescope,SIMON Near-Infrared Spectroimager,3,0,10,5,http://exoplanet.eu/catalog/2m_0219-39_b/,,2015-06,,,2.32280707,252.453768,-67.984453,13.508497,-49.304780,,,,,24.94,0.12,-0.12,0,103.600,0.100,0,-35.900,0.100,0,109.600,0.100,0,103.600,0.100,0,-35.900,0.100,0,109.600,0.100,0,10.60,0.70,-0.70,0,6.60,M6,,0,4.59,0.06,-0.06,0,-2.230,0.060,-0.060,0,,,,,,,,,,0.035,0.005,-0.005,,6.5000,0.4000,-0.4000,0,,,,,,,,,,,0,0,0,0,0,3,0,,,,,,,18.500,,0,15.230,,0,13.420,0.030,0,11.381,0.023,0,10.811,0.026,0,10.404,0.023,0,10.148,0.023,0,9.901,0.020,0,9.614,0.037,0,9.001,,-1,,,,,,,,,,,,,,,,,,,,,,,,,,,,,,,,,,11,,,,,,,,,,,,,,,,,,,,,,,,,,,,,,,0\n",
      "13,2MASS J04414489+2301513,b,2MASS J04414489+2301513 b,Imaging,0,1,,,,,15.000000,,,0,,,,,,,,,7.50000,2.50000,-2.50000,0,Mass,,,,,,,,,0,0,0,0,04h41m44.90s,70.437073,+23d01m51.4s,23.030941,140.00,,,0,120.42,5.48,-5.48,0,,,,,18.967,,0,,,,,0.02,,,0,,,,,2014-05-14,0,0,1,0,0,0,1.07000e+02,,,,,,,,,,,,,,,,,,,,,,,7.50000,2.50000,-2.50000,0,,,,,2383.60000,794.50000,-794.50000,0,,,,,2383.60000,794.50000,-794.50000,0,,,,,,,,,,,,,,,,,,,,,,,,,,,,,,,,,,,,,,<a refstr=TODOROV_ET_AL__2010 href=https://ui.adsabs.harvard.edu/abs/2010ApJ...714L..84T/abstract target=ref> Todorov et al. 2010 </a>,2010,<a refstr=TODOROV_ET_AL__2010 href=https://ui.adsabs.harvard.edu/abs/2010ApJ...714L..84T/abstract target=ref> Todorov et al. 2010 </a>,Space,Hubble Space Telescope,2.4 m Hubble Space Telescope,WFPC2 Camera,3,0,4,4,http://exoplanet.eu/catalog/2m_0441%2B23_b/,,2010-05,,,4.69580487,176.510593,-15.114249,72.050227,0.802440,,,,,8.30,0.38,-0.38,0,9.000,0.900,0,-21.400,0.500,0,23.200,0.600,0,9.000,0.900,0,-21.400,0.500,0,23.200,0.600,0,,,,,6.85,M8.5,,0,,,,,,,,,,,,,,,,,,0.001,,,,,,,,,,,,,,,,,,0,0,0,0,0,3,0,,,,,,,,,,,,,,,,14.419,0.025,0,13.726,0.029,0,13.161,0.025,0,,,,,,,,,,,,,,,,,,,,,,,,,,,,,,,,,,,,,,,,,,,,,,4,,,,,,,,,,,,,0.693,0.038,0,0.565,0.038,0,1.258,0.035,0,,,,,,,,,,3\n",
      "14,2MASS J12073346-3932539,b,2MASS J12073346-3932539 b,Imaging,0,1,,,,,46.000000,5.000000,-5.000000,0,,,,,,,,,4.00000,1.00000,-1.00000,0,Mass,,,,,,,,,0,0,0,0,12h07m33.47s,181.889447,-39d32m54.0s,-39.548332,64.42,0.65,-0.65,0,64.42,0.65,-0.65,0,20.150,0.190,0,V (Johnson),17.408,,0,,,,,0.02,,,0,,,,,2014-05-14,0,0,1,0,0,0,7.14000e+02,7.800000e+01,-7.800000e+01,,,,,,,,,,,,,1150,150,-150,0,,,,,4.00000,1.00000,-1.00000,0,,,,,1271.00000,318.00000,-318.00000,0,,,,,1271.00000,318.00000,-318.00000,0,,,,,,,,,,,,,,,,,,,,,,,,,,,,,,,,,,,,,,<a refstr=DUCOURANT_ET_AL__2008 href=https://ui.adsabs.harvard.edu/abs/2008A&A...477L...1D/abstract target=ref> Ducourant et al. 2008 </a>,2004,<a refstr=CHAUVIN_ET_AL__2004 href=https://ui.adsabs.harvard.edu/abs/2004A&A...425L..29C/abstract target=ref> Chauvin et al. 2004 </a>,Ground,Paranal Observatory,8.2 m ESO VLT UT4 Yepun Telescope,NACO Camera,3,0,9,8,http://exoplanet.eu/catalog/2m1207_b/,,2004-10,,,12.12596313,293.790363,22.543297,199.743654,-35.034839,15.52,0.16,-0.16,0,15.52,0.16,-0.16,0,-64.100,0.200,0,-23.700,0.100,0,68.300,0.200,0,-64.100,0.200,0,-23.700,0.100,0,68.300,0.200,0,,,,,6.80,M8,,0,,,,,,,,,,,,,,,,,,0.008,0.004,-0.003,,,,,,,,,,,,,,,,0,0,0,0,0,3,0,,,,20.150,0.190,0,,,,,,,,,,12.995,0.026,0,12.388,0.027,0,11.945,0.026,0,11.574,0.023,0,11.017,0.020,0,9.469,0.031,0,8.121,0.174,0,,,,,,,,,,,,,,,,,,,,,,,,,,,,,,,,,,9,,,,,,,,,,,,,0.607,0.037,0,0.443,0.037,0,1.050,0.037,0,,,,,,,,,,3\n",
      "15,2MASS J19383260+4603591,b,2MASS J19383260+4603591 b,Eclipse Timing Variations,0,1,416.00000000,2.00000000,-2.00000000,0,0.920000,0.020000,-0.020000,0,,,,,,,,,1.90000,0.10000,-0.10000,0,Mass,,,,,,,,,0,1,0,0,19h38m32.61s,294.635865,+46d03m59.1s,46.066418,400.77,6.48,-6.48,0,400.77,6.48,-6.48,0,12.264,,0,Kepler-band,12.138,,0,,,,,0.48,0.03,-0.03,0,,,,,2015-06-04,0,0,0,0,0,1,2.30000e+00,6.200000e-02,-6.200000e-02,,,,,,,,,,,,,,,,,,,,,1.90000,0.10000,-0.10000,0,,,,,603.87700,31.78300,-31.78300,0,,,,,603.87700,31.78300,-31.78300,0,,,,,,,,,,,,,,,,,,,,,,,,,,,,,,,,,,,,,,<a refstr=BARAN_ET_AL__2015 href=https://ui.adsabs.harvard.edu/abs/2015A&A...577A.146B/abstract target=ref>Baran et al. 2015</a>,2015,<a refstr=BARAN_ET_AL__2015 href=https://ui.adsabs.harvard.edu/abs/2015A&A...577A.146B/abstract target=ref>Baran et al. 2015</a>,Space,Kepler,0.95 m Kepler Telescope,Kepler CCD Array,3,0,11,8,http://exoplanet.eu/catalog/2m_1938%2B46_b/,,2015-05,,,19.64239100,79.018713,11.674389,314.709288,65.725374,2.50,0.04,-0.04,0,2.50,0.04,-0.04,0,5.200,0.100,0,-4.600,0.100,0,7.000,0.100,0,5.200,0.100,0,-4.600,0.100,0,7.000,0.100,0,,,,,,,,,,,,,,,,,,,,,,,,,,,,,,,,,,,,,,,,,,,,0,0,0,0,0,3,0,,,,,,,,,,,,,,,,12.757,0.022,0,12.889,0.020,0,12.955,0.029,0,12.862,0.023,0,12.920,0.024,0,12.670,0.270,0,9.203,,-1,,,,,,,,,,,,,,,,,,,,,,,,,,,,,,,,,,14,,,,,,,,,,,,,-0.132,0.030,0,-0.066,0.035,0,-0.198,0.036,0,,,,,,,,,,5\n",
      "16,2MASS J21402931+1625183 A,b,2MASS J21402931+1625183 A b,Imaging,0,1,7336.50000000,1934.50000000,-584.00000000,0,,,,,0.260000,0.060000,-0.060000,0,46.200,2.500,-8.700,0,20.95000,83.79000,-20.95000,0,Mass,0.920,0.390,-0.360,0,,,,,0,0,0,0,21h40m29.32s,325.122159,+16d25m18.3s,16.421759,25.00,10.00,-10.00,0,33.12,0.48,-0.48,0,,,,,17.396,,0,2300.00,80.00,-80.00,0,0.08,0.06,-0.06,0,0.12,0.05,-0.04,0,2014-05-14,0,1,1,0,0,0,,,,,,,,223.0000,10.0000,-47.0000,0,,,,,2075,70,-70,0,,,,,20.95000,83.79000,-20.95000,0,,,,,6657.48000,26629.91000,-6657.48000,0,,,,,6657.48000,26629.91000,-6657.48000,0,10.310,4.370,-4.040,0,0.090,0.040,-0.040,0,,,,,,,,,,,,,,,,,,,,,,,,,,,,,,<a refstr=KONOPACKY_ET_AL__2010 href=https://ui.adsabs.harvard.edu/abs/2010ApJ...711.1087K/abstract target=ref> Konopacky et al. 2010 </a>,2009,<a refstr=KONOPACKY_ET_AL__2010 href=https://ui.adsabs.harvard.edu/abs/2010ApJ...711.1087K/abstract target=ref> Konopacky et al. 2010 </a>,Ground,W. M. Keck Observatory,10 m Keck II Telescope,NIRC2 Camera,3,0,11,5,http://exoplanet.eu/catalog/2m_2140+16_b/,,2010-03,,,21.67481060,70.485103,-26.437255,333.590507,28.526095,,,,,30.20,0.43,-0.43,0,-77.900,0.800,0,-85.600,0.700,0,115.800,0.700,0,-77.900,0.800,0,-85.600,0.700,0,115.800,0.700,0,13.00,0.20,-0.20,0,6.85,M8.5,,0,,,,,-3.480,0.350,-0.350,0,,,,,,,,,,,,,,,,,,,,,,,,,,,,0,0,0,0,0,3,0,,,,,,,,,,,,,,,,12.940,0.033,0,12.266,0.040,0,11.826,0.031,0,11.375,0.022,0,11.135,0.020,0,10.687,0.096,0,8.971,,-1,,,,,,,,,,,,,,,,,,,,,,,,,,,,,,,,,,8,,,,,,,,,,,,,0.674,0.052,0,0.440,0.051,0,1.114,0.045,0,,,,,,,,,,3\n",
      "17,2MASS J22362452+4751425,b,2MASS J22362452+4751425 b,Imaging,0,1,,,,,230.000000,20.000000,-20.000000,0,,,,,,,,,12.50000,1.50000,-1.50000,0,Mass,,,,,,,,,0,0,0,1,22h36m24.53s,339.102203,+47d51m42.6s,47.861820,74.00,10.00,-10.00,0,69.71,0.16,-0.16,0,12.510,0.030,0,V (Johnson),11.948,,0,4045.00,35.00,-35.00,0,0.60,0.05,-0.05,0,,,,,2016-11-10,0,0,1,0,0,0,3.11000e+03,4.990000e+02,-4.990000e+02,,,,,,,,,,,,,,,,,,,,,12.50000,1.50000,-1.50000,0,,,,,3972.87500,476.74500,-476.74500,0,,,,,3972.87500,476.74500,-476.74500,0,,,,,,,,,,,,,,,,,,,,,,,,,,,,,,,,,,,,,,<a refstr=BOWLER_ET_AL__2017 href=https://ui.adsabs.harvard.edu/abs/2017AJ....153...18B/abstract target=ref>Bowler et al. 2017</a>,2016,<a refstr=BOWLER_ET_AL__2017 href=https://ui.adsabs.harvard.edu/abs/2017AJ....153...18B/abstract target=ref>Bowler et al. 2017</a>,Ground,W. M. Keck Observatory,10 m Keck II Telescope,NIRC2 Camera,3,0,8,5,http://exoplanet.eu/catalog/2m_2236%2B4751_b/,,,,,22.60681356,100.748288,-9.108906,6.858823,50.853569,,,,,14.34,0.03,-0.03,0,62.900,0.100,0,-30.500,0.100,0,69.900,0.100,0,62.900,0.100,0,-30.500,0.100,0,69.900,0.100,0,-21.50,0.20,-0.20,0,5.70,K7 V,,0,,,,,,,,,,,,,,,,,,0.120,0.010,-0.010,,,,,,,,,,,,,,,,0,0,0,0,0,3,0,,,,12.510,0.030,0,13.730,0.180,0,,,,,,,9.975,0.018,0,9.338,0.019,0,9.148,0.016,0,9.058,0.023,0,9.094,0.020,0,8.947,0.027,0,8.731,0.356,0,,,,,,,,,,,,,,,,,,,,,,,,,,,,,,\n"
     ]
    }
   ],
   "source": [
    "f = open('planets_2020.06.22_10.10.17.csv','r')\n",
    "text = f.read()\n",
    "f.close()\n",
    "\n",
    "# print first few bits of text\n",
    "print(text[0:50000])"
   ]
  },
  {
   "cell_type": "markdown",
   "metadata": {},
   "source": [
    "A few things to note:\n",
    "1. There is a lot of text before the actual column names appear & this text is denoted with a \"#\"\n",
    "1. This text is actually useful!  It gives us the descriptions of each column!  \n",
    "\n",
    "So, the first thing we want to do is read this thing in, but be careful to tell Pandas to \"ignore\" everything that is a line with a \"#\".  Also, we'll be sure to tell Pandas to treat \",\" as the seperator for our columns:"
   ]
  },
  {
   "cell_type": "code",
   "execution_count": 37,
   "metadata": {},
   "outputs": [],
   "source": [
    "planets = pd.read_csv('https://jnaiman.github.io/csci-p-14110_su2020/lesson08/planets_2020.06.22_10.10.17.csv', \n",
    "                     sep=\",\", comment=\"#\")"
   ]
  },
  {
   "cell_type": "markdown",
   "metadata": {},
   "source": [
    "Let's take a quick look:"
   ]
  },
  {
   "cell_type": "code",
   "execution_count": 38,
   "metadata": {},
   "outputs": [
    {
     "data": {
      "text/html": [
       "<div>\n",
       "<style scoped>\n",
       "    .dataframe tbody tr th:only-of-type {\n",
       "        vertical-align: middle;\n",
       "    }\n",
       "\n",
       "    .dataframe tbody tr th {\n",
       "        vertical-align: top;\n",
       "    }\n",
       "\n",
       "    .dataframe thead th {\n",
       "        text-align: right;\n",
       "    }\n",
       "</style>\n",
       "<table border=\"1\" class=\"dataframe\">\n",
       "  <thead>\n",
       "    <tr style=\"text-align: right;\">\n",
       "      <th></th>\n",
       "      <th>rowid</th>\n",
       "      <th>pl_hostname</th>\n",
       "      <th>pl_letter</th>\n",
       "      <th>pl_name</th>\n",
       "      <th>pl_discmethod</th>\n",
       "      <th>pl_controvflag</th>\n",
       "      <th>pl_pnum</th>\n",
       "      <th>pl_orbper</th>\n",
       "      <th>pl_orbpererr1</th>\n",
       "      <th>pl_orbpererr2</th>\n",
       "      <th>...</th>\n",
       "      <th>st_bmy</th>\n",
       "      <th>st_bmyerr</th>\n",
       "      <th>st_bmylim</th>\n",
       "      <th>st_m1</th>\n",
       "      <th>st_m1err</th>\n",
       "      <th>st_m1lim</th>\n",
       "      <th>st_c1</th>\n",
       "      <th>st_c1err</th>\n",
       "      <th>st_c1lim</th>\n",
       "      <th>st_colorn</th>\n",
       "    </tr>\n",
       "  </thead>\n",
       "  <tbody>\n",
       "    <tr>\n",
       "      <th>0</th>\n",
       "      <td>1</td>\n",
       "      <td>11 Com</td>\n",
       "      <td>b</td>\n",
       "      <td>11 Com b</td>\n",
       "      <td>Radial Velocity</td>\n",
       "      <td>0</td>\n",
       "      <td>1</td>\n",
       "      <td>326.030000</td>\n",
       "      <td>0.320000</td>\n",
       "      <td>-0.320000</td>\n",
       "      <td>...</td>\n",
       "      <td>NaN</td>\n",
       "      <td>NaN</td>\n",
       "      <td>NaN</td>\n",
       "      <td>NaN</td>\n",
       "      <td>NaN</td>\n",
       "      <td>NaN</td>\n",
       "      <td>NaN</td>\n",
       "      <td>NaN</td>\n",
       "      <td>NaN</td>\n",
       "      <td>7.0</td>\n",
       "    </tr>\n",
       "    <tr>\n",
       "      <th>1</th>\n",
       "      <td>2</td>\n",
       "      <td>11 UMi</td>\n",
       "      <td>b</td>\n",
       "      <td>11 UMi b</td>\n",
       "      <td>Radial Velocity</td>\n",
       "      <td>0</td>\n",
       "      <td>1</td>\n",
       "      <td>516.219970</td>\n",
       "      <td>3.200000</td>\n",
       "      <td>-3.200000</td>\n",
       "      <td>...</td>\n",
       "      <td>NaN</td>\n",
       "      <td>NaN</td>\n",
       "      <td>NaN</td>\n",
       "      <td>NaN</td>\n",
       "      <td>NaN</td>\n",
       "      <td>NaN</td>\n",
       "      <td>NaN</td>\n",
       "      <td>NaN</td>\n",
       "      <td>NaN</td>\n",
       "      <td>5.0</td>\n",
       "    </tr>\n",
       "    <tr>\n",
       "      <th>2</th>\n",
       "      <td>3</td>\n",
       "      <td>14 And</td>\n",
       "      <td>b</td>\n",
       "      <td>14 And b</td>\n",
       "      <td>Radial Velocity</td>\n",
       "      <td>0</td>\n",
       "      <td>1</td>\n",
       "      <td>185.840000</td>\n",
       "      <td>0.230000</td>\n",
       "      <td>-0.230000</td>\n",
       "      <td>...</td>\n",
       "      <td>NaN</td>\n",
       "      <td>NaN</td>\n",
       "      <td>NaN</td>\n",
       "      <td>NaN</td>\n",
       "      <td>NaN</td>\n",
       "      <td>NaN</td>\n",
       "      <td>NaN</td>\n",
       "      <td>NaN</td>\n",
       "      <td>NaN</td>\n",
       "      <td>7.0</td>\n",
       "    </tr>\n",
       "    <tr>\n",
       "      <th>3</th>\n",
       "      <td>4</td>\n",
       "      <td>14 Her</td>\n",
       "      <td>b</td>\n",
       "      <td>14 Her b</td>\n",
       "      <td>Radial Velocity</td>\n",
       "      <td>0</td>\n",
       "      <td>1</td>\n",
       "      <td>1773.400020</td>\n",
       "      <td>2.500000</td>\n",
       "      <td>-2.500000</td>\n",
       "      <td>...</td>\n",
       "      <td>0.537</td>\n",
       "      <td>0.001</td>\n",
       "      <td>0.0</td>\n",
       "      <td>0.366</td>\n",
       "      <td>0.002</td>\n",
       "      <td>0.0</td>\n",
       "      <td>0.438</td>\n",
       "      <td>0.006</td>\n",
       "      <td>0.0</td>\n",
       "      <td>9.0</td>\n",
       "    </tr>\n",
       "    <tr>\n",
       "      <th>4</th>\n",
       "      <td>5</td>\n",
       "      <td>16 Cyg B</td>\n",
       "      <td>b</td>\n",
       "      <td>16 Cyg B b</td>\n",
       "      <td>Radial Velocity</td>\n",
       "      <td>0</td>\n",
       "      <td>1</td>\n",
       "      <td>798.500000</td>\n",
       "      <td>1.000000</td>\n",
       "      <td>-1.000000</td>\n",
       "      <td>...</td>\n",
       "      <td>0.418</td>\n",
       "      <td>0.003</td>\n",
       "      <td>0.0</td>\n",
       "      <td>0.222</td>\n",
       "      <td>0.003</td>\n",
       "      <td>0.0</td>\n",
       "      <td>0.351</td>\n",
       "      <td>0.003</td>\n",
       "      <td>0.0</td>\n",
       "      <td>17.0</td>\n",
       "    </tr>\n",
       "    <tr>\n",
       "      <th>...</th>\n",
       "      <td>...</td>\n",
       "      <td>...</td>\n",
       "      <td>...</td>\n",
       "      <td>...</td>\n",
       "      <td>...</td>\n",
       "      <td>...</td>\n",
       "      <td>...</td>\n",
       "      <td>...</td>\n",
       "      <td>...</td>\n",
       "      <td>...</td>\n",
       "      <td>...</td>\n",
       "      <td>...</td>\n",
       "      <td>...</td>\n",
       "      <td>...</td>\n",
       "      <td>...</td>\n",
       "      <td>...</td>\n",
       "      <td>...</td>\n",
       "      <td>...</td>\n",
       "      <td>...</td>\n",
       "      <td>...</td>\n",
       "      <td>...</td>\n",
       "    </tr>\n",
       "    <tr>\n",
       "      <th>4159</th>\n",
       "      <td>4160</td>\n",
       "      <td>tau Gem</td>\n",
       "      <td>b</td>\n",
       "      <td>tau Gem b</td>\n",
       "      <td>Radial Velocity</td>\n",
       "      <td>0</td>\n",
       "      <td>1</td>\n",
       "      <td>305.500000</td>\n",
       "      <td>0.100000</td>\n",
       "      <td>-0.100000</td>\n",
       "      <td>...</td>\n",
       "      <td>NaN</td>\n",
       "      <td>NaN</td>\n",
       "      <td>NaN</td>\n",
       "      <td>NaN</td>\n",
       "      <td>NaN</td>\n",
       "      <td>NaN</td>\n",
       "      <td>NaN</td>\n",
       "      <td>NaN</td>\n",
       "      <td>NaN</td>\n",
       "      <td>7.0</td>\n",
       "    </tr>\n",
       "    <tr>\n",
       "      <th>4160</th>\n",
       "      <td>4161</td>\n",
       "      <td>ups And</td>\n",
       "      <td>b</td>\n",
       "      <td>ups And b</td>\n",
       "      <td>Radial Velocity</td>\n",
       "      <td>0</td>\n",
       "      <td>3</td>\n",
       "      <td>4.617033</td>\n",
       "      <td>0.000023</td>\n",
       "      <td>-0.000023</td>\n",
       "      <td>...</td>\n",
       "      <td>NaN</td>\n",
       "      <td>NaN</td>\n",
       "      <td>NaN</td>\n",
       "      <td>NaN</td>\n",
       "      <td>NaN</td>\n",
       "      <td>NaN</td>\n",
       "      <td>NaN</td>\n",
       "      <td>NaN</td>\n",
       "      <td>NaN</td>\n",
       "      <td>8.0</td>\n",
       "    </tr>\n",
       "    <tr>\n",
       "      <th>4161</th>\n",
       "      <td>4162</td>\n",
       "      <td>ups And</td>\n",
       "      <td>c</td>\n",
       "      <td>ups And c</td>\n",
       "      <td>Radial Velocity</td>\n",
       "      <td>0</td>\n",
       "      <td>3</td>\n",
       "      <td>241.258000</td>\n",
       "      <td>0.064000</td>\n",
       "      <td>-0.064000</td>\n",
       "      <td>...</td>\n",
       "      <td>NaN</td>\n",
       "      <td>NaN</td>\n",
       "      <td>NaN</td>\n",
       "      <td>NaN</td>\n",
       "      <td>NaN</td>\n",
       "      <td>NaN</td>\n",
       "      <td>NaN</td>\n",
       "      <td>NaN</td>\n",
       "      <td>NaN</td>\n",
       "      <td>8.0</td>\n",
       "    </tr>\n",
       "    <tr>\n",
       "      <th>4162</th>\n",
       "      <td>4163</td>\n",
       "      <td>ups And</td>\n",
       "      <td>d</td>\n",
       "      <td>ups And d</td>\n",
       "      <td>Radial Velocity</td>\n",
       "      <td>0</td>\n",
       "      <td>3</td>\n",
       "      <td>1276.460000</td>\n",
       "      <td>0.570000</td>\n",
       "      <td>-0.570000</td>\n",
       "      <td>...</td>\n",
       "      <td>NaN</td>\n",
       "      <td>NaN</td>\n",
       "      <td>NaN</td>\n",
       "      <td>NaN</td>\n",
       "      <td>NaN</td>\n",
       "      <td>NaN</td>\n",
       "      <td>NaN</td>\n",
       "      <td>NaN</td>\n",
       "      <td>NaN</td>\n",
       "      <td>8.0</td>\n",
       "    </tr>\n",
       "    <tr>\n",
       "      <th>4163</th>\n",
       "      <td>4164</td>\n",
       "      <td>xi Aql</td>\n",
       "      <td>b</td>\n",
       "      <td>xi Aql b</td>\n",
       "      <td>Radial Velocity</td>\n",
       "      <td>0</td>\n",
       "      <td>1</td>\n",
       "      <td>136.750000</td>\n",
       "      <td>0.250000</td>\n",
       "      <td>-0.250000</td>\n",
       "      <td>...</td>\n",
       "      <td>NaN</td>\n",
       "      <td>NaN</td>\n",
       "      <td>NaN</td>\n",
       "      <td>NaN</td>\n",
       "      <td>NaN</td>\n",
       "      <td>NaN</td>\n",
       "      <td>NaN</td>\n",
       "      <td>NaN</td>\n",
       "      <td>NaN</td>\n",
       "      <td>9.0</td>\n",
       "    </tr>\n",
       "  </tbody>\n",
       "</table>\n",
       "<p>4164 rows × 356 columns</p>\n",
       "</div>"
      ],
      "text/plain": [
       "      rowid pl_hostname pl_letter     pl_name    pl_discmethod  \\\n",
       "0         1      11 Com         b    11 Com b  Radial Velocity   \n",
       "1         2      11 UMi         b    11 UMi b  Radial Velocity   \n",
       "2         3      14 And         b    14 And b  Radial Velocity   \n",
       "3         4      14 Her         b    14 Her b  Radial Velocity   \n",
       "4         5    16 Cyg B         b  16 Cyg B b  Radial Velocity   \n",
       "...     ...         ...       ...         ...              ...   \n",
       "4159   4160     tau Gem         b   tau Gem b  Radial Velocity   \n",
       "4160   4161     ups And         b   ups And b  Radial Velocity   \n",
       "4161   4162     ups And         c   ups And c  Radial Velocity   \n",
       "4162   4163     ups And         d   ups And d  Radial Velocity   \n",
       "4163   4164      xi Aql         b    xi Aql b  Radial Velocity   \n",
       "\n",
       "      pl_controvflag  pl_pnum    pl_orbper  pl_orbpererr1  pl_orbpererr2  ...  \\\n",
       "0                  0        1   326.030000       0.320000      -0.320000  ...   \n",
       "1                  0        1   516.219970       3.200000      -3.200000  ...   \n",
       "2                  0        1   185.840000       0.230000      -0.230000  ...   \n",
       "3                  0        1  1773.400020       2.500000      -2.500000  ...   \n",
       "4                  0        1   798.500000       1.000000      -1.000000  ...   \n",
       "...              ...      ...          ...            ...            ...  ...   \n",
       "4159               0        1   305.500000       0.100000      -0.100000  ...   \n",
       "4160               0        3     4.617033       0.000023      -0.000023  ...   \n",
       "4161               0        3   241.258000       0.064000      -0.064000  ...   \n",
       "4162               0        3  1276.460000       0.570000      -0.570000  ...   \n",
       "4163               0        1   136.750000       0.250000      -0.250000  ...   \n",
       "\n",
       "      st_bmy  st_bmyerr  st_bmylim  st_m1  st_m1err  st_m1lim  st_c1  \\\n",
       "0        NaN        NaN        NaN    NaN       NaN       NaN    NaN   \n",
       "1        NaN        NaN        NaN    NaN       NaN       NaN    NaN   \n",
       "2        NaN        NaN        NaN    NaN       NaN       NaN    NaN   \n",
       "3      0.537      0.001        0.0  0.366     0.002       0.0  0.438   \n",
       "4      0.418      0.003        0.0  0.222     0.003       0.0  0.351   \n",
       "...      ...        ...        ...    ...       ...       ...    ...   \n",
       "4159     NaN        NaN        NaN    NaN       NaN       NaN    NaN   \n",
       "4160     NaN        NaN        NaN    NaN       NaN       NaN    NaN   \n",
       "4161     NaN        NaN        NaN    NaN       NaN       NaN    NaN   \n",
       "4162     NaN        NaN        NaN    NaN       NaN       NaN    NaN   \n",
       "4163     NaN        NaN        NaN    NaN       NaN       NaN    NaN   \n",
       "\n",
       "      st_c1err  st_c1lim  st_colorn  \n",
       "0          NaN       NaN        7.0  \n",
       "1          NaN       NaN        5.0  \n",
       "2          NaN       NaN        7.0  \n",
       "3        0.006       0.0        9.0  \n",
       "4        0.003       0.0       17.0  \n",
       "...        ...       ...        ...  \n",
       "4159       NaN       NaN        7.0  \n",
       "4160       NaN       NaN        8.0  \n",
       "4161       NaN       NaN        8.0  \n",
       "4162       NaN       NaN        8.0  \n",
       "4163       NaN       NaN        9.0  \n",
       "\n",
       "[4164 rows x 356 columns]"
      ]
     },
     "execution_count": 38,
     "metadata": {},
     "output_type": "execute_result"
    }
   ],
   "source": [
    "planets"
   ]
  },
  {
   "cell_type": "markdown",
   "metadata": {},
   "source": [
    "Let's make a few quick plots of the distributions of the semi-major axis & eccentricities of these planets.\n",
    "\n",
    "First, semi-major axis.  If we look at our comments above, we see this is delinated by the column `pl_orbsmax`. Let's make a quick histogram:"
   ]
  },
  {
   "cell_type": "code",
   "execution_count": 39,
   "metadata": {},
   "outputs": [
    {
     "name": "stderr",
     "output_type": "stream",
     "text": [
      "/opt/anaconda3/envs/myNewEnv2/lib/python3.7/site-packages/numpy/lib/histograms.py:839: RuntimeWarning: invalid value encountered in greater_equal\n",
      "  keep = (tmp_a >= first_edge)\n",
      "/opt/anaconda3/envs/myNewEnv2/lib/python3.7/site-packages/numpy/lib/histograms.py:840: RuntimeWarning: invalid value encountered in less_equal\n",
      "  keep &= (tmp_a <= last_edge)\n"
     ]
    },
    {
     "data": {
      "image/png": "[encoded data removed]",
      "text/plain": [
       "<Figure size 432x288 with 1 Axes>"
      ]
     },
     "metadata": {
      "needs_background": "light"
     },
     "output_type": "display_data"
    }
   ],
   "source": [
    "#planets.plot(y='pl_orbsmax', kind='hist')\n",
    "fig, ax = plt.subplots(1,1)\n",
    "ax.hist(planets['pl_orbsmax'])\n",
    "plt.show()"
   ]
  },
  {
   "cell_type": "markdown",
   "metadata": {},
   "source": [
    "Hmmm, maybe with a log scale?"
   ]
  },
  {
   "cell_type": "code",
   "execution_count": 40,
   "metadata": {},
   "outputs": [
    {
     "data": {
      "image/png": "[encoded data removed]",
      "text/plain": [
       "<Figure size 432x288 with 1 Axes>"
      ]
     },
     "metadata": {
      "needs_background": "light"
     },
     "output_type": "display_data"
    }
   ],
   "source": [
    "#planets.plot(y='pl_orbsmax', kind='hist', logy=True)\n",
    "fig, ax = plt.subplots(1,1)\n",
    "ax.hist(planets['pl_orbsmax'])\n",
    "ax.set_yscale('log')\n",
    "plt.show()"
   ]
  },
  {
   "cell_type": "markdown",
   "metadata": {},
   "source": [
    "Not quite able to see interesting stuff, let's try zooming in:"
   ]
  },
  {
   "cell_type": "code",
   "execution_count": 41,
   "metadata": {},
   "outputs": [
    {
     "data": {
      "image/png": "[encoded data removed]",
      "text/plain": [
       "<Figure size 432x288 with 1 Axes>"
      ]
     },
     "metadata": {
      "needs_background": "light"
     },
     "output_type": "display_data"
    }
   ],
   "source": [
    "#planets.plot(y='pl_orbsmax', kind='hist', logy=True, xlim=(0,250))\n",
    "fig, ax = plt.subplots(1,1)\n",
    "ax.hist(planets['pl_orbsmax'])\n",
    "\n",
    "ax.set_yscale('log')\n",
    "ax.set_xlim(0,250)\n",
    "\n",
    "plt.show()"
   ]
  },
  {
   "cell_type": "markdown",
   "metadata": {},
   "source": [
    "And explicitly setting the bins:"
   ]
  },
  {
   "cell_type": "code",
   "execution_count": 42,
   "metadata": {},
   "outputs": [
    {
     "data": {
      "image/png": "[encoded data removed]",
      "text/plain": [
       "<Figure size 432x288 with 1 Axes>"
      ]
     },
     "metadata": {
      "needs_background": "light"
     },
     "output_type": "display_data"
    }
   ],
   "source": [
    "#planets.plot(y='pl_orbsmax', kind='hist', logy=True, xlim=(0,500), bins=[0,50,100,150,200,250])\n",
    "fig, ax = plt.subplots(1,1)\n",
    "ax.hist(planets['pl_orbsmax'], bins=[0,50,100,150,200,250])\n",
    "\n",
    "ax.set_yscale('log')\n",
    "ax.set_xlim(0,250)\n",
    "\n",
    "plt.show()"
   ]
  },
  {
   "cell_type": "markdown",
   "metadata": {},
   "source": [
    "Ok so we see a range of semi-major axis between a few and 3500 AU (distance between Earth and Sun), but really centered around 0-50.\n",
    "\n",
    "Let's also try eccentricity which is listed as `pl_orbeccen`:"
   ]
  },
  {
   "cell_type": "code",
   "execution_count": 43,
   "metadata": {},
   "outputs": [
    {
     "data": {
      "image/png": "[encoded data removed]",
      "text/plain": [
       "<Figure size 432x288 with 1 Axes>"
      ]
     },
     "metadata": {
      "needs_background": "light"
     },
     "output_type": "display_data"
    }
   ],
   "source": [
    "#planets.plot(y='pl_orbeccen', kind='hist')\n",
    "fig, ax = plt.subplots(1,1)\n",
    "ax.hist(planets['pl_orbeccen'])\n",
    "\n",
    "plt.show()"
   ]
  },
  {
   "cell_type": "markdown",
   "metadata": {},
   "source": [
    "From this we've learned that most of the planets have semi-major axis between a few and maybe 100 AU and eccentricities are from 0 (circular) to ~0.8."
   ]
  },
  {
   "cell_type": "markdown",
   "metadata": {},
   "source": [
    "## `bqplot` interactive scatter plot\n",
    "\n",
    "Now that we have our data we are going to build a \"dashboard\" with it.  This will be very similar to what we've already done with linking the integer slider with the label widgets.\n",
    "\n",
    "First, we're going to use bqplot's matplotlib-like interface to make a scatter plot of the two parameters we were looking at above.  A lot of the calls will look *similar* to matplotlib by a little different."
   ]
  },
  {
   "cell_type": "code",
   "execution_count": 44,
   "metadata": {},
   "outputs": [
    {
     "data": {
      "application/vnd.jupyter.widget-view+json": {
       "model_id": "3dd126b3106e42bea252c0df34ac0018",
       "version_major": 2,
       "version_minor": 0
      },
      "text/plain": [
       "Figure(axes=[Axis(scale=LinearScale()), Axis(orientation='vertical', scale=LinearScale())], fig_margin={'top':…"
      ]
     },
     "metadata": {},
     "output_type": "display_data"
    }
   ],
   "source": [
    "fig = bplt.figure(padding_y=0.0) # set up a figure object\n",
    "\n",
    "scatter_plot = bplt.scatter(planets['pl_orbsmax'], planets['pl_orbeccen'])\n",
    "\n",
    "fig"
   ]
  },
  {
   "cell_type": "markdown",
   "metadata": {},
   "source": [
    "### What if my scatter plot is slow?  Downsampling to the rescue!\n",
    "\n",
    "Sometimes when we are working on a plot, we don't want to use all of the data, we want to use a subset to speed up our calculations.  We can do this with another NumPy function that will choose a random set of indicies to grab data with:"
   ]
  },
  {
   "cell_type": "code",
   "execution_count": 45,
   "metadata": {},
   "outputs": [],
   "source": [
    "nsamples = 100 # let's choose 100 random samples\n",
    "randomIndexes = np.random.choice(range(len(planets)-1),nsamples,replace=False)\n",
    "# replace = False just means we don't want to double count indexes"
   ]
  },
  {
   "cell_type": "code",
   "execution_count": 46,
   "metadata": {},
   "outputs": [
    {
     "data": {
      "text/plain": [
       "array([3972,  534, 1355, 2783,  513,  457,  627, 2138, 3786, 1387, 2419,\n",
       "       2654, 1307, 2168, 1614, 1589,  818, 1225, 1885, 1830, 1755, 1819,\n",
       "         71, 2206, 3107, 3604,  291, 3470,  339, 2205,  865, 3919, 3147,\n",
       "       2957, 2175,  497, 2137, 1385,  624, 2517,  539, 3641, 3219,  714,\n",
       "       3545, 3083, 1290, 1059, 3057, 2359,  981, 2223, 3353, 3784, 1070,\n",
       "       1416, 2386, 4085,  370, 1972, 3175, 2262, 1554, 3701, 1183, 1065,\n",
       "       1409, 2529,  361,  467, 1218,  232, 2604,  576, 1735,  498,  437,\n",
       "       3033,  255, 1807, 2844, 1785,  682, 3653, 2620, 3975, 3851, 1178,\n",
       "       1082, 3958,  247, 2350,  880, 1077, 1560, 1452, 3704, 2777,  850,\n",
       "       3435])"
      ]
     },
     "execution_count": 46,
     "metadata": {},
     "output_type": "execute_result"
    }
   ],
   "source": [
    "randomIndexes # yours might be different!"
   ]
  },
  {
   "cell_type": "markdown",
   "metadata": {},
   "source": [
    "Now, we can make a downsampled version of planets:"
   ]
  },
  {
   "cell_type": "code",
   "execution_count": 47,
   "metadata": {},
   "outputs": [],
   "source": [
    "planetsDS = planets.iloc[randomIndexes]"
   ]
  },
  {
   "cell_type": "code",
   "execution_count": 48,
   "metadata": {},
   "outputs": [
    {
     "data": {
      "text/html": [
       "<div>\n",
       "<style scoped>\n",
       "    .dataframe tbody tr th:only-of-type {\n",
       "        vertical-align: middle;\n",
       "    }\n",
       "\n",
       "    .dataframe tbody tr th {\n",
       "        vertical-align: top;\n",
       "    }\n",
       "\n",
       "    .dataframe thead th {\n",
       "        text-align: right;\n",
       "    }\n",
       "</style>\n",
       "<table border=\"1\" class=\"dataframe\">\n",
       "  <thead>\n",
       "    <tr style=\"text-align: right;\">\n",
       "      <th></th>\n",
       "      <th>rowid</th>\n",
       "      <th>pl_hostname</th>\n",
       "      <th>pl_letter</th>\n",
       "      <th>pl_name</th>\n",
       "      <th>pl_discmethod</th>\n",
       "      <th>pl_controvflag</th>\n",
       "      <th>pl_pnum</th>\n",
       "      <th>pl_orbper</th>\n",
       "      <th>pl_orbpererr1</th>\n",
       "      <th>pl_orbpererr2</th>\n",
       "      <th>...</th>\n",
       "      <th>st_bmy</th>\n",
       "      <th>st_bmyerr</th>\n",
       "      <th>st_bmylim</th>\n",
       "      <th>st_m1</th>\n",
       "      <th>st_m1err</th>\n",
       "      <th>st_m1lim</th>\n",
       "      <th>st_c1</th>\n",
       "      <th>st_c1err</th>\n",
       "      <th>st_c1lim</th>\n",
       "      <th>st_colorn</th>\n",
       "    </tr>\n",
       "  </thead>\n",
       "  <tbody>\n",
       "    <tr>\n",
       "      <th>3972</th>\n",
       "      <td>3973</td>\n",
       "      <td>WASP-140</td>\n",
       "      <td>b</td>\n",
       "      <td>WASP-140 b</td>\n",
       "      <td>Transit</td>\n",
       "      <td>0</td>\n",
       "      <td>1</td>\n",
       "      <td>2.235984</td>\n",
       "      <td>8.000000e-07</td>\n",
       "      <td>-8.000000e-07</td>\n",
       "      <td>...</td>\n",
       "      <td>NaN</td>\n",
       "      <td>NaN</td>\n",
       "      <td>NaN</td>\n",
       "      <td>NaN</td>\n",
       "      <td>NaN</td>\n",
       "      <td>NaN</td>\n",
       "      <td>NaN</td>\n",
       "      <td>NaN</td>\n",
       "      <td>NaN</td>\n",
       "      <td>3.0</td>\n",
       "    </tr>\n",
       "    <tr>\n",
       "      <th>534</th>\n",
       "      <td>535</td>\n",
       "      <td>HD 158996</td>\n",
       "      <td>b</td>\n",
       "      <td>HD 158996 b</td>\n",
       "      <td>Radial Velocity</td>\n",
       "      <td>0</td>\n",
       "      <td>1</td>\n",
       "      <td>820.200000</td>\n",
       "      <td>1.400000e+01</td>\n",
       "      <td>-1.400000e+01</td>\n",
       "      <td>...</td>\n",
       "      <td>NaN</td>\n",
       "      <td>NaN</td>\n",
       "      <td>NaN</td>\n",
       "      <td>NaN</td>\n",
       "      <td>NaN</td>\n",
       "      <td>NaN</td>\n",
       "      <td>NaN</td>\n",
       "      <td>NaN</td>\n",
       "      <td>NaN</td>\n",
       "      <td>6.0</td>\n",
       "    </tr>\n",
       "    <tr>\n",
       "      <th>1355</th>\n",
       "      <td>1356</td>\n",
       "      <td>KELT-6</td>\n",
       "      <td>b</td>\n",
       "      <td>KELT-6 b</td>\n",
       "      <td>Transit</td>\n",
       "      <td>0</td>\n",
       "      <td>2</td>\n",
       "      <td>7.845700</td>\n",
       "      <td>2.000000e-04</td>\n",
       "      <td>-2.000000e-04</td>\n",
       "      <td>...</td>\n",
       "      <td>NaN</td>\n",
       "      <td>NaN</td>\n",
       "      <td>NaN</td>\n",
       "      <td>NaN</td>\n",
       "      <td>NaN</td>\n",
       "      <td>NaN</td>\n",
       "      <td>NaN</td>\n",
       "      <td>NaN</td>\n",
       "      <td>NaN</td>\n",
       "      <td>3.0</td>\n",
       "    </tr>\n",
       "    <tr>\n",
       "      <th>2783</th>\n",
       "      <td>2784</td>\n",
       "      <td>Kepler-341</td>\n",
       "      <td>c</td>\n",
       "      <td>Kepler-341 c</td>\n",
       "      <td>Transit</td>\n",
       "      <td>0</td>\n",
       "      <td>4</td>\n",
       "      <td>8.010410</td>\n",
       "      <td>4.900000e-05</td>\n",
       "      <td>-4.900000e-05</td>\n",
       "      <td>...</td>\n",
       "      <td>NaN</td>\n",
       "      <td>NaN</td>\n",
       "      <td>NaN</td>\n",
       "      <td>NaN</td>\n",
       "      <td>NaN</td>\n",
       "      <td>NaN</td>\n",
       "      <td>NaN</td>\n",
       "      <td>NaN</td>\n",
       "      <td>NaN</td>\n",
       "      <td>5.0</td>\n",
       "    </tr>\n",
       "    <tr>\n",
       "      <th>513</th>\n",
       "      <td>514</td>\n",
       "      <td>HD 15337</td>\n",
       "      <td>b</td>\n",
       "      <td>HD 15337 b</td>\n",
       "      <td>Transit</td>\n",
       "      <td>0</td>\n",
       "      <td>2</td>\n",
       "      <td>4.756150</td>\n",
       "      <td>1.700000e-04</td>\n",
       "      <td>-1.700000e-04</td>\n",
       "      <td>...</td>\n",
       "      <td>0.510</td>\n",
       "      <td>0.002</td>\n",
       "      <td>0.0</td>\n",
       "      <td>0.416</td>\n",
       "      <td>0.003</td>\n",
       "      <td>0.0</td>\n",
       "      <td>0.303</td>\n",
       "      <td>0.005</td>\n",
       "      <td>0.0</td>\n",
       "      <td>8.0</td>\n",
       "    </tr>\n",
       "    <tr>\n",
       "      <th>...</th>\n",
       "      <td>...</td>\n",
       "      <td>...</td>\n",
       "      <td>...</td>\n",
       "      <td>...</td>\n",
       "      <td>...</td>\n",
       "      <td>...</td>\n",
       "      <td>...</td>\n",
       "      <td>...</td>\n",
       "      <td>...</td>\n",
       "      <td>...</td>\n",
       "      <td>...</td>\n",
       "      <td>...</td>\n",
       "      <td>...</td>\n",
       "      <td>...</td>\n",
       "      <td>...</td>\n",
       "      <td>...</td>\n",
       "      <td>...</td>\n",
       "      <td>...</td>\n",
       "      <td>...</td>\n",
       "      <td>...</td>\n",
       "      <td>...</td>\n",
       "    </tr>\n",
       "    <tr>\n",
       "      <th>1452</th>\n",
       "      <td>1453</td>\n",
       "      <td>Kepler-103</td>\n",
       "      <td>c</td>\n",
       "      <td>Kepler-103 c</td>\n",
       "      <td>Transit</td>\n",
       "      <td>0</td>\n",
       "      <td>2</td>\n",
       "      <td>179.612000</td>\n",
       "      <td>NaN</td>\n",
       "      <td>NaN</td>\n",
       "      <td>...</td>\n",
       "      <td>NaN</td>\n",
       "      <td>NaN</td>\n",
       "      <td>NaN</td>\n",
       "      <td>NaN</td>\n",
       "      <td>NaN</td>\n",
       "      <td>NaN</td>\n",
       "      <td>NaN</td>\n",
       "      <td>NaN</td>\n",
       "      <td>NaN</td>\n",
       "      <td>5.0</td>\n",
       "    </tr>\n",
       "    <tr>\n",
       "      <th>3704</th>\n",
       "      <td>3705</td>\n",
       "      <td>Kepler-980</td>\n",
       "      <td>b</td>\n",
       "      <td>Kepler-980 b</td>\n",
       "      <td>Transit</td>\n",
       "      <td>0</td>\n",
       "      <td>1</td>\n",
       "      <td>11.551025</td>\n",
       "      <td>2.754000e-05</td>\n",
       "      <td>-2.754000e-05</td>\n",
       "      <td>...</td>\n",
       "      <td>NaN</td>\n",
       "      <td>NaN</td>\n",
       "      <td>NaN</td>\n",
       "      <td>NaN</td>\n",
       "      <td>NaN</td>\n",
       "      <td>NaN</td>\n",
       "      <td>NaN</td>\n",
       "      <td>NaN</td>\n",
       "      <td>NaN</td>\n",
       "      <td>5.0</td>\n",
       "    </tr>\n",
       "    <tr>\n",
       "      <th>2777</th>\n",
       "      <td>2778</td>\n",
       "      <td>Kepler-339</td>\n",
       "      <td>c</td>\n",
       "      <td>Kepler-339 c</td>\n",
       "      <td>Transit</td>\n",
       "      <td>0</td>\n",
       "      <td>3</td>\n",
       "      <td>6.988055</td>\n",
       "      <td>5.300000e-05</td>\n",
       "      <td>-5.300000e-05</td>\n",
       "      <td>...</td>\n",
       "      <td>NaN</td>\n",
       "      <td>NaN</td>\n",
       "      <td>NaN</td>\n",
       "      <td>NaN</td>\n",
       "      <td>NaN</td>\n",
       "      <td>NaN</td>\n",
       "      <td>NaN</td>\n",
       "      <td>NaN</td>\n",
       "      <td>NaN</td>\n",
       "      <td>5.0</td>\n",
       "    </tr>\n",
       "    <tr>\n",
       "      <th>850</th>\n",
       "      <td>851</td>\n",
       "      <td>HD 69830</td>\n",
       "      <td>c</td>\n",
       "      <td>HD 69830 c</td>\n",
       "      <td>Radial Velocity</td>\n",
       "      <td>0</td>\n",
       "      <td>3</td>\n",
       "      <td>31.560000</td>\n",
       "      <td>4.000000e-02</td>\n",
       "      <td>-4.000000e-02</td>\n",
       "      <td>...</td>\n",
       "      <td>0.461</td>\n",
       "      <td>0.002</td>\n",
       "      <td>0.0</td>\n",
       "      <td>0.291</td>\n",
       "      <td>0.003</td>\n",
       "      <td>0.0</td>\n",
       "      <td>0.318</td>\n",
       "      <td>0.006</td>\n",
       "      <td>0.0</td>\n",
       "      <td>22.0</td>\n",
       "    </tr>\n",
       "    <tr>\n",
       "      <th>3435</th>\n",
       "      <td>3436</td>\n",
       "      <td>Kepler-773</td>\n",
       "      <td>b</td>\n",
       "      <td>Kepler-773 b</td>\n",
       "      <td>Transit</td>\n",
       "      <td>0</td>\n",
       "      <td>1</td>\n",
       "      <td>3.749100</td>\n",
       "      <td>7.140000e-06</td>\n",
       "      <td>-7.140000e-06</td>\n",
       "      <td>...</td>\n",
       "      <td>NaN</td>\n",
       "      <td>NaN</td>\n",
       "      <td>NaN</td>\n",
       "      <td>NaN</td>\n",
       "      <td>NaN</td>\n",
       "      <td>NaN</td>\n",
       "      <td>NaN</td>\n",
       "      <td>NaN</td>\n",
       "      <td>NaN</td>\n",
       "      <td>5.0</td>\n",
       "    </tr>\n",
       "  </tbody>\n",
       "</table>\n",
       "<p>100 rows × 356 columns</p>\n",
       "</div>"
      ],
      "text/plain": [
       "      rowid pl_hostname pl_letter       pl_name    pl_discmethod  \\\n",
       "3972   3973    WASP-140         b    WASP-140 b          Transit   \n",
       "534     535   HD 158996         b   HD 158996 b  Radial Velocity   \n",
       "1355   1356      KELT-6         b      KELT-6 b          Transit   \n",
       "2783   2784  Kepler-341         c  Kepler-341 c          Transit   \n",
       "513     514    HD 15337         b    HD 15337 b          Transit   \n",
       "...     ...         ...       ...           ...              ...   \n",
       "1452   1453  Kepler-103         c  Kepler-103 c          Transit   \n",
       "3704   3705  Kepler-980         b  Kepler-980 b          Transit   \n",
       "2777   2778  Kepler-339         c  Kepler-339 c          Transit   \n",
       "850     851    HD 69830         c    HD 69830 c  Radial Velocity   \n",
       "3435   3436  Kepler-773         b  Kepler-773 b          Transit   \n",
       "\n",
       "      pl_controvflag  pl_pnum   pl_orbper  pl_orbpererr1  pl_orbpererr2  ...  \\\n",
       "3972               0        1    2.235984   8.000000e-07  -8.000000e-07  ...   \n",
       "534                0        1  820.200000   1.400000e+01  -1.400000e+01  ...   \n",
       "1355               0        2    7.845700   2.000000e-04  -2.000000e-04  ...   \n",
       "2783               0        4    8.010410   4.900000e-05  -4.900000e-05  ...   \n",
       "513                0        2    4.756150   1.700000e-04  -1.700000e-04  ...   \n",
       "...              ...      ...         ...            ...            ...  ...   \n",
       "1452               0        2  179.612000            NaN            NaN  ...   \n",
       "3704               0        1   11.551025   2.754000e-05  -2.754000e-05  ...   \n",
       "2777               0        3    6.988055   5.300000e-05  -5.300000e-05  ...   \n",
       "850                0        3   31.560000   4.000000e-02  -4.000000e-02  ...   \n",
       "3435               0        1    3.749100   7.140000e-06  -7.140000e-06  ...   \n",
       "\n",
       "      st_bmy  st_bmyerr  st_bmylim  st_m1  st_m1err  st_m1lim  st_c1  \\\n",
       "3972     NaN        NaN        NaN    NaN       NaN       NaN    NaN   \n",
       "534      NaN        NaN        NaN    NaN       NaN       NaN    NaN   \n",
       "1355     NaN        NaN        NaN    NaN       NaN       NaN    NaN   \n",
       "2783     NaN        NaN        NaN    NaN       NaN       NaN    NaN   \n",
       "513    0.510      0.002        0.0  0.416     0.003       0.0  0.303   \n",
       "...      ...        ...        ...    ...       ...       ...    ...   \n",
       "1452     NaN        NaN        NaN    NaN       NaN       NaN    NaN   \n",
       "3704     NaN        NaN        NaN    NaN       NaN       NaN    NaN   \n",
       "2777     NaN        NaN        NaN    NaN       NaN       NaN    NaN   \n",
       "850    0.461      0.002        0.0  0.291     0.003       0.0  0.318   \n",
       "3435     NaN        NaN        NaN    NaN       NaN       NaN    NaN   \n",
       "\n",
       "      st_c1err  st_c1lim  st_colorn  \n",
       "3972       NaN       NaN        3.0  \n",
       "534        NaN       NaN        6.0  \n",
       "1355       NaN       NaN        3.0  \n",
       "2783       NaN       NaN        5.0  \n",
       "513      0.005       0.0        8.0  \n",
       "...        ...       ...        ...  \n",
       "1452       NaN       NaN        5.0  \n",
       "3704       NaN       NaN        5.0  \n",
       "2777       NaN       NaN        5.0  \n",
       "850      0.006       0.0       22.0  \n",
       "3435       NaN       NaN        5.0  \n",
       "\n",
       "[100 rows x 356 columns]"
      ]
     },
     "execution_count": 48,
     "metadata": {},
     "output_type": "execute_result"
    }
   ],
   "source": [
    "planetsDS"
   ]
  },
  {
   "cell_type": "code",
   "execution_count": 49,
   "metadata": {},
   "outputs": [
    {
     "data": {
      "application/vnd.jupyter.widget-view+json": {
       "model_id": "619a02d771494ac6b8d986c4eb6c09f0",
       "version_major": 2,
       "version_minor": 0
      },
      "text/plain": [
       "VBox(children=(Figure(axes=[Axis(scale=LinearScale(max=25.0, min=0.0)), Axis(orientation='vertical', scale=Lin…"
      ]
     },
     "metadata": {},
     "output_type": "display_data"
    }
   ],
   "source": [
    "bplt.figure() # we have to explicitly make a figure object\n",
    "\n",
    "bplt.scatter(planetsDS['pl_orbsmax'], planetsDS['pl_orbeccen'])\n",
    "\n",
    "bplt.xlim(0, 25)\n",
    "\n",
    "bplt.show()"
   ]
  },
  {
   "cell_type": "markdown",
   "metadata": {},
   "source": [
    "Note, now we have the ability to zoom and pan!"
   ]
  },
  {
   "cell_type": "markdown",
   "metadata": {},
   "source": [
    "We can also do this with making figure \"objects\" like we did before:"
   ]
  },
  {
   "cell_type": "code",
   "execution_count": 50,
   "metadata": {},
   "outputs": [
    {
     "data": {
      "application/vnd.jupyter.widget-view+json": {
       "model_id": "5bd7b9cdfdb944268303b9921a8cd32c",
       "version_major": 2,
       "version_minor": 0
      },
      "text/plain": [
       "Figure(axes=[Axis(scale=LinearScale(max=20.0, min=0.0)), Axis(orientation='vertical', scale=LinearScale())], f…"
      ]
     },
     "metadata": {},
     "output_type": "display_data"
    }
   ],
   "source": [
    "fig = bplt.figure()\n",
    "\n",
    "scatter = bplt.scatter(planetsDS['pl_orbsmax'], planetsDS['pl_orbeccen'])\n",
    "bplt.xlim(0,20)\n",
    "\n",
    "fig"
   ]
  },
  {
   "cell_type": "markdown",
   "metadata": {},
   "source": [
    "So, that is all well and good, but we want this to be interactive!  Like using \"dir\" before, we can have a simplified look at what is available for use to mess around with in the scatter plot:"
   ]
  },
  {
   "cell_type": "code",
   "execution_count": 51,
   "metadata": {},
   "outputs": [
    {
     "data": {
      "text/plain": [
       "['_model_module',\n",
       " '_model_module_version',\n",
       " '_model_name',\n",
       " '_view_count',\n",
       " '_view_module',\n",
       " '_view_module_version',\n",
       " '_view_name',\n",
       " 'apply_clip',\n",
       " 'color',\n",
       " 'colors',\n",
       " 'default_opacities',\n",
       " 'default_size',\n",
       " 'default_skew',\n",
       " 'display_legend',\n",
       " 'display_names',\n",
       " 'drag_color',\n",
       " 'drag_size',\n",
       " 'enable_delete',\n",
       " 'enable_hover',\n",
       " 'enable_move',\n",
       " 'fill',\n",
       " 'hovered_point',\n",
       " 'hovered_style',\n",
       " 'interactions',\n",
       " 'labels',\n",
       " 'marker',\n",
       " 'names',\n",
       " 'names_unique',\n",
       " 'opacity',\n",
       " 'preserve_domain',\n",
       " 'restrict_x',\n",
       " 'restrict_y',\n",
       " 'rotation',\n",
       " 'scales',\n",
       " 'scales_metadata',\n",
       " 'selected',\n",
       " 'selected_style',\n",
       " 'size',\n",
       " 'skew',\n",
       " 'stroke',\n",
       " 'stroke_width',\n",
       " 'tooltip',\n",
       " 'tooltip_location',\n",
       " 'tooltip_style',\n",
       " 'unhovered_style',\n",
       " 'unselected_style',\n",
       " 'update_on_move',\n",
       " 'visible',\n",
       " 'x',\n",
       " 'y']"
      ]
     },
     "execution_count": 51,
     "metadata": {},
     "output_type": "execute_result"
    }
   ],
   "source": [
    "scatter.keys"
   ]
  },
  {
   "cell_type": "markdown",
   "metadata": {},
   "source": [
    "The `interactions` looks like something we want.  We could look through the docs on this, or you can just believe me that there is an interaction that we can add that selects points on a mouse click:"
   ]
  },
  {
   "cell_type": "code",
   "execution_count": 52,
   "metadata": {},
   "outputs": [
    {
     "data": {
      "application/vnd.jupyter.widget-view+json": {
       "model_id": "3a4fcb20fbf04ed29e9b40aae444fdd0",
       "version_major": 2,
       "version_minor": 0
      },
      "text/plain": [
       "Figure(axes=[Axis(scale=LinearScale(max=20.0, min=0.0)), Axis(orientation='vertical', scale=LinearScale())], f…"
      ]
     },
     "metadata": {},
     "output_type": "display_data"
    }
   ],
   "source": [
    "fig = bplt.figure()\n",
    "\n",
    "scatter = bplt.scatter(planetsDS['pl_orbsmax'], planetsDS['pl_orbeccen'], \n",
    "                       interactions={'click':'select'})\n",
    "bplt.xlim(0,20)\n",
    "\n",
    "fig"
   ]
  },
  {
   "cell_type": "markdown",
   "metadata": {},
   "source": [
    "Hmm, it looks like nothing happens when I click on buttons.  This is because we have not specified that we want something to happen to the points when we click on them.  Let's set the interior of the points to red on a click:"
   ]
  },
  {
   "cell_type": "code",
   "execution_count": 53,
   "metadata": {},
   "outputs": [
    {
     "data": {
      "application/vnd.jupyter.widget-view+json": {
       "model_id": "6dad3b967dad4423907e950b8ce2a2b3",
       "version_major": 2,
       "version_minor": 0
      },
      "text/plain": [
       "Figure(axes=[Axis(scale=LinearScale(max=20.0, min=0.0)), Axis(orientation='vertical', scale=LinearScale())], f…"
      ]
     },
     "metadata": {},
     "output_type": "display_data"
    }
   ],
   "source": [
    "fig = bplt.figure()\n",
    "\n",
    "scatter = bplt.scatter(planetsDS['pl_orbsmax'], planetsDS['pl_orbeccen'], \n",
    "                       interactions={'click':'select'}, \n",
    "                       selected_style={'fill':'red'})\n",
    "bplt.xlim(0,20)\n",
    "\n",
    "fig"
   ]
  },
  {
   "cell_type": "markdown",
   "metadata": {},
   "source": [
    "Hey neat!  So, how do we \"tell\" what is selected on our plot?  We can look at the `.selected` associated with our `scatter` variable:"
   ]
  },
  {
   "cell_type": "code",
   "execution_count": 54,
   "metadata": {},
   "outputs": [
    {
     "data": {
      "text/plain": [
       "array([92], dtype=uint32)"
      ]
     },
     "execution_count": 54,
     "metadata": {},
     "output_type": "execute_result"
    }
   ],
   "source": [
    "scatter.selected"
   ]
  },
  {
   "cell_type": "markdown",
   "metadata": {},
   "source": [
    "And this gives us a way to look and see info about what data was collected:"
   ]
  },
  {
   "cell_type": "code",
   "execution_count": 55,
   "metadata": {},
   "outputs": [
    {
     "data": {
      "text/html": [
       "<div>\n",
       "<style scoped>\n",
       "    .dataframe tbody tr th:only-of-type {\n",
       "        vertical-align: middle;\n",
       "    }\n",
       "\n",
       "    .dataframe tbody tr th {\n",
       "        vertical-align: top;\n",
       "    }\n",
       "\n",
       "    .dataframe thead th {\n",
       "        text-align: right;\n",
       "    }\n",
       "</style>\n",
       "<table border=\"1\" class=\"dataframe\">\n",
       "  <thead>\n",
       "    <tr style=\"text-align: right;\">\n",
       "      <th></th>\n",
       "      <th>rowid</th>\n",
       "      <th>pl_hostname</th>\n",
       "      <th>pl_letter</th>\n",
       "      <th>pl_name</th>\n",
       "      <th>pl_discmethod</th>\n",
       "      <th>pl_controvflag</th>\n",
       "      <th>pl_pnum</th>\n",
       "      <th>pl_orbper</th>\n",
       "      <th>pl_orbpererr1</th>\n",
       "      <th>pl_orbpererr2</th>\n",
       "      <th>...</th>\n",
       "      <th>st_bmy</th>\n",
       "      <th>st_bmyerr</th>\n",
       "      <th>st_bmylim</th>\n",
       "      <th>st_m1</th>\n",
       "      <th>st_m1err</th>\n",
       "      <th>st_m1lim</th>\n",
       "      <th>st_c1</th>\n",
       "      <th>st_c1err</th>\n",
       "      <th>st_c1lim</th>\n",
       "      <th>st_colorn</th>\n",
       "    </tr>\n",
       "  </thead>\n",
       "  <tbody>\n",
       "    <tr>\n",
       "      <th>880</th>\n",
       "      <td>881</td>\n",
       "      <td>HD 81817</td>\n",
       "      <td>b</td>\n",
       "      <td>HD 81817 b</td>\n",
       "      <td>Radial Velocity</td>\n",
       "      <td>0</td>\n",
       "      <td>1</td>\n",
       "      <td>1047.1</td>\n",
       "      <td>8.5</td>\n",
       "      <td>-8.5</td>\n",
       "      <td>...</td>\n",
       "      <td>NaN</td>\n",
       "      <td>NaN</td>\n",
       "      <td>NaN</td>\n",
       "      <td>NaN</td>\n",
       "      <td>NaN</td>\n",
       "      <td>NaN</td>\n",
       "      <td>NaN</td>\n",
       "      <td>NaN</td>\n",
       "      <td>NaN</td>\n",
       "      <td>8.0</td>\n",
       "    </tr>\n",
       "  </tbody>\n",
       "</table>\n",
       "<p>1 rows × 356 columns</p>\n",
       "</div>"
      ],
      "text/plain": [
       "     rowid pl_hostname pl_letter     pl_name    pl_discmethod  pl_controvflag  \\\n",
       "880    881    HD 81817         b  HD 81817 b  Radial Velocity               0   \n",
       "\n",
       "     pl_pnum  pl_orbper  pl_orbpererr1  pl_orbpererr2  ...  st_bmy  st_bmyerr  \\\n",
       "880        1     1047.1            8.5           -8.5  ...     NaN        NaN   \n",
       "\n",
       "     st_bmylim  st_m1  st_m1err  st_m1lim  st_c1  st_c1err  st_c1lim  \\\n",
       "880        NaN    NaN       NaN       NaN    NaN       NaN       NaN   \n",
       "\n",
       "     st_colorn  \n",
       "880        8.0  \n",
       "\n",
       "[1 rows x 356 columns]"
      ]
     },
     "execution_count": 55,
     "metadata": {},
     "output_type": "execute_result"
    }
   ],
   "source": [
    "planetsDS.iloc[scatter.selected]"
   ]
  },
  {
   "cell_type": "markdown",
   "metadata": {},
   "source": [
    "So let's now make a label and set its value to something else about this data, like the place it was discovered or `pl_facility`.\n",
    "\n",
    "First, let's get out the correct value for a row based on whatever is selected:"
   ]
  },
  {
   "cell_type": "code",
   "execution_count": 56,
   "metadata": {},
   "outputs": [
    {
     "data": {
      "text/plain": [
       "880    Bohyunsan Optical Astronomical Observatory\n",
       "Name: pl_facility, dtype: object"
      ]
     },
     "execution_count": 56,
     "metadata": {},
     "output_type": "execute_result"
    }
   ],
   "source": [
    "planetsDS.iloc[scatter.selected]['pl_facility']"
   ]
  },
  {
   "cell_type": "markdown",
   "metadata": {},
   "source": [
    "And to make sure its as a string:"
   ]
  },
  {
   "cell_type": "code",
   "execution_count": 57,
   "metadata": {},
   "outputs": [
    {
     "data": {
      "text/plain": [
       "array(['Bohyunsan Optical Astronomical Observatory'], dtype=object)"
      ]
     },
     "execution_count": 57,
     "metadata": {},
     "output_type": "execute_result"
    }
   ],
   "source": [
    "planetsDS.iloc[scatter.selected]['pl_facility'].values"
   ]
  },
  {
   "cell_type": "code",
   "execution_count": 58,
   "metadata": {},
   "outputs": [
    {
     "data": {
      "text/plain": [
       "'Bohyunsan Optical Astronomical Observatory'"
      ]
     },
     "execution_count": 58,
     "metadata": {},
     "output_type": "execute_result"
    }
   ],
   "source": [
    "planetsDS.iloc[scatter.selected]['pl_facility'].values[0]"
   ]
  },
  {
   "cell_type": "code",
   "execution_count": 59,
   "metadata": {},
   "outputs": [
    {
     "data": {
      "application/vnd.jupyter.widget-view+json": {
       "model_id": "a525a2661d5c46969033ec754ae49314",
       "version_major": 2,
       "version_minor": 0
      },
      "text/plain": [
       "Label(value='Bohyunsan Optical Astronomical Observatory')"
      ]
     },
     "metadata": {},
     "output_type": "display_data"
    }
   ],
   "source": [
    "planetLabel = ipywidgets.Label()\n",
    "planetLabel.value = planetsDS.iloc[scatter.selected]['pl_facility'].values[0]\n",
    "planetLabel"
   ]
  },
  {
   "cell_type": "markdown",
   "metadata": {},
   "source": [
    "Now if we go back and select a different point, we see that we get a different observatory.  *BUT* we also note that we have to re-run the cells in order for the label value to print out its update.  So, like before, our final step is to link the change in the selection point to an update in the label.  \n",
    "\n",
    "Like before, let's start with a function that will track this.  Let's first just what happens:"
   ]
  },
  {
   "cell_type": "code",
   "execution_count": 60,
   "metadata": {},
   "outputs": [],
   "source": [
    "def on_selection(change):\n",
    "    print(change)\n",
    "    \n",
    "scatter.observe(on_selection, 'selected')"
   ]
  },
  {
   "cell_type": "markdown",
   "metadata": {},
   "source": [
    "Let me re-plot the figure:"
   ]
  },
  {
   "cell_type": "code",
   "execution_count": 61,
   "metadata": {},
   "outputs": [
    {
     "data": {
      "application/vnd.jupyter.widget-view+json": {
       "model_id": "6dad3b967dad4423907e950b8ce2a2b3",
       "version_major": 2,
       "version_minor": 0
      },
      "text/plain": [
       "Figure(axes=[Axis(scale=LinearScale(max=20.0, min=0.0), side='bottom'), Axis(orientation='vertical', scale=Lin…"
      ]
     },
     "metadata": {},
     "output_type": "display_data"
    }
   ],
   "source": [
    "fig"
   ]
  },
  {
   "cell_type": "markdown",
   "metadata": {},
   "source": [
    "Ok, on selection, we see something similar to what we had before but wiht more details, but we have a 'new' and an 'owner' and things like this.  Let's make our \"on select\" function more complicated.  I'm going to put the fig generation & the function calls all in the same cell so we can keep track of what is going on a bit better:"
   ]
  },
  {
   "cell_type": "code",
   "execution_count": 62,
   "metadata": {},
   "outputs": [
    {
     "data": {
      "application/vnd.jupyter.widget-view+json": {
       "model_id": "f8205cead9ae45e09c0f9ad16f6e3a29",
       "version_major": 2,
       "version_minor": 0
      },
      "text/plain": [
       "Figure(axes=[Axis(scale=LinearScale(max=20.0, min=0.0)), Axis(orientation='vertical', scale=LinearScale())], f…"
      ]
     },
     "metadata": {},
     "output_type": "display_data"
    }
   ],
   "source": [
    "# construct the figure\n",
    "fig = bplt.figure()\n",
    "scatter = bplt.scatter(planetsDS['pl_orbsmax'], planetsDS['pl_orbeccen'], \n",
    "                       interactions={'click':'select'}, \n",
    "                       selected_style={'fill':'red'})\n",
    "bplt.xlim(0,20)\n",
    "\n",
    "# construct selection call back\n",
    "def on_selection(change):\n",
    "    #print(change)\n",
    "    print(change['new'])\n",
    "    \n",
    "# link the call back\n",
    "scatter.observe(on_selection, 'selected')\n",
    "\n",
    "# display the figure\n",
    "fig"
   ]
  },
  {
   "cell_type": "markdown",
   "metadata": {},
   "source": [
    "So now we want to instead of printing this number, use it to change the value of our print label, so let's update our on-selection function for this:"
   ]
  },
  {
   "cell_type": "code",
   "execution_count": 63,
   "metadata": {},
   "outputs": [
    {
     "data": {
      "application/vnd.jupyter.widget-view+json": {
       "model_id": "2db96689cdd5404187cfbc6e19a0ef43",
       "version_major": 2,
       "version_minor": 0
      },
      "text/plain": [
       "Figure(axes=[Axis(scale=LinearScale(max=20.0, min=0.0)), Axis(orientation='vertical', scale=LinearScale())], f…"
      ]
     },
     "metadata": {},
     "output_type": "display_data"
    }
   ],
   "source": [
    "# construct the figure\n",
    "fig = bplt.figure()\n",
    "scatter = bplt.scatter(planetsDS['pl_orbsmax'], planetsDS['pl_orbeccen'], \n",
    "                       interactions={'click':'select'}, \n",
    "                       selected_style={'fill':'red'})\n",
    "bplt.xlim(0,20)\n",
    "\n",
    "# construct selection call back\n",
    "def on_selection(change):\n",
    "    #print(change)\n",
    "    #print(change['new'])\n",
    "    #planetLabel.value = planets.iloc[scatter.selected]['pl_facility'].values[0]\n",
    "    planetLabel.value = planetsDS.iloc[change['new']]['pl_facility'].values[0] #changed\n",
    "\n",
    "# link the call back\n",
    "scatter.observe(on_selection, 'selected')\n",
    "\n",
    "# display the figure\n",
    "fig"
   ]
  },
  {
   "cell_type": "code",
   "execution_count": 64,
   "metadata": {},
   "outputs": [
    {
     "data": {
      "application/vnd.jupyter.widget-view+json": {
       "model_id": "a525a2661d5c46969033ec754ae49314",
       "version_major": 2,
       "version_minor": 0
      },
      "text/plain": [
       "Label(value='Bohyunsan Optical Astronomical Observatory')"
      ]
     },
     "metadata": {},
     "output_type": "display_data"
    }
   ],
   "source": [
    "planetLabel"
   ]
  },
  {
   "cell_type": "markdown",
   "metadata": {},
   "source": [
    "Last but not least, we'll use our `VBox` again to place the label right on top of the plot:"
   ]
  },
  {
   "cell_type": "code",
   "execution_count": 65,
   "metadata": {},
   "outputs": [
    {
     "data": {
      "application/vnd.jupyter.widget-view+json": {
       "model_id": "e0287847d23e49e69ad83bd332c7892c",
       "version_major": 2,
       "version_minor": 0
      },
      "text/plain": [
       "VBox(children=(Label(value='Bohyunsan Optical Astronomical Observatory'), Figure(axes=[Axis(scale=LinearScale(…"
      ]
     },
     "metadata": {},
     "output_type": "display_data"
    }
   ],
   "source": [
    "# construct the figure\n",
    "fig = bplt.figure()\n",
    "scatter = bplt.scatter(planetsDS['pl_orbsmax'], planetsDS['pl_orbeccen'], \n",
    "                       interactions={'click':'select'}, \n",
    "                       selected_style={'fill':'red'})\n",
    "bplt.xlim(0,20)\n",
    "\n",
    "# construct selection call back\n",
    "def on_selection(change):\n",
    "    #print(change)\n",
    "    #print(change['new'])\n",
    "    #planetLabel.value = planets.iloc[scatter.selected]['pl_facility'].values[0]\n",
    "    planetLabel.value = planetsDS.iloc[change['new']]['pl_facility'].values[0] #changed\n",
    "\n",
    "# link the call back\n",
    "scatter.observe(on_selection, 'selected')\n",
    "\n",
    "# display the figure\n",
    "ipywidgets.VBox([planetLabel,fig])"
   ]
  },
  {
   "cell_type": "markdown",
   "metadata": {},
   "source": [
    "And that is it!  We have a dashboard that links multiple columns of our dataset!"
   ]
  },
  {
   "cell_type": "code",
   "execution_count": null,
   "metadata": {},
   "outputs": [],
   "source": []
  }
 ],
 "metadata": {
  "kernelspec": {
   "display_name": "Python 3",
   "language": "python",
   "name": "python3"
  },
  "language_info": {
   "codemirror_mode": {
    "name": "ipython",
    "version": 3
   },
   "file_extension": ".py",
   "mimetype": "text/x-python",
   "name": "python",
   "nbconvert_exporter": "python",
   "pygments_lexer": "ipython3",
   "version": "3.7.6"
  }
 },
 "nbformat": 4,
 "nbformat_minor": 4
}
