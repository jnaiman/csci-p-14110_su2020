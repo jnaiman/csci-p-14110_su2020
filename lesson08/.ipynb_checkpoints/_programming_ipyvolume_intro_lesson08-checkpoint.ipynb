{
 "cells": [
  {
   "cell_type": "markdown",
   "metadata": {},
   "source": [
    "# Day 8, Part 1 - intro to ipyvolume\n",
    "We'll start our journey into the 3RD DIMENSION with the package ```ipyvolume```"
   ]
  },
  {
   "cell_type": "code",
   "execution_count": 1,
   "metadata": {},
   "outputs": [],
   "source": [
    "# if you don't get it:\n",
    "#!pip install ipyvolume\n",
    "# note: you may need:\n",
    "#!jupyter nbextension enable --py --sys-prefix ipyvolume\n",
    "#!jupyter nbextension enable --py --sys-prefix widgetsnbextension\n",
    "\n",
    "# or you can do:\n",
    "#!conda install -c conda-forge ipyvolume\n",
    "\n",
    "\n",
    "import ipyvolume"
   ]
  },
  {
   "cell_type": "markdown",
   "metadata": {},
   "source": [
    "Let's do a quick look at something with some random 3D data:"
   ]
  },
  {
   "cell_type": "code",
   "execution_count": 2,
   "metadata": {},
   "outputs": [
    {
     "data": {
      "application/vnd.jupyter.widget-view+json": {
       "model_id": "0c160d7d5aa3498d9e5076babd7b4691",
       "version_major": 2,
       "version_minor": 0
      },
      "text/plain": [
       "VBox(children=(Figure(camera=PerspectiveCamera(fov=46.0, position=(0.0, 0.0, 2.0), quaternion=(0.0, 0.0, 0.0, …"
      ]
     },
     "metadata": {},
     "output_type": "display_data"
    }
   ],
   "source": [
    "import numpy as np\n",
    "x, y, z = np.random.random((3, 10000))\n",
    "ipyvolume.quickscatter(x, y, z, size=1, marker=\"sphere\")"
   ]
  },
  {
   "cell_type": "markdown",
   "metadata": {},
   "source": [
    "Easy peasy!  Let's read in our simulation data and plot this!"
   ]
  },
  {
   "cell_type": "code",
   "execution_count": 3,
   "metadata": {},
   "outputs": [],
   "source": [
    "from sys import path\n",
    "path.append('../lesson02/')\n",
    "\n",
    "from hermite_library import do_hermite"
   ]
  },
  {
   "cell_type": "code",
   "execution_count": 4,
   "metadata": {},
   "outputs": [],
   "source": [
    "star_mass = 1.0 # stellar mass in Msun\n",
    "planet_masses = np.array( [1.0, 0.05] ) # planet masses in Mjupiter\n",
    "\n",
    "# [x,y,z] coords for each planet in AU\n",
    "# NOTE: no z-coords!  These will be set to zero later on if you make them non-zero\n",
    "planet_initial_position = np.array([ [5.0, 0.0, 6.0], \n",
    "                                     [10.0, 0.0, 3.0] ])\n",
    "\n",
    "# planet's velocity at each position in km/s\n",
    "# NOTE: no z-velocities!  These will be set to zero later on if you make them non-zero\n",
    "planet_initial_velocity = np.array([ [0.0, 10.0, 1.0], \n",
    "                                     [0.0, -5.0, 0.0]])"
   ]
  },
  {
   "cell_type": "code",
   "execution_count": 5,
   "metadata": {},
   "outputs": [],
   "source": [
    "# h is for hermite!\n",
    "r_h, v_h, t_h, e_h = do_hermite(star_mass, \n",
    "                                planet_masses, \n",
    "                                planet_initial_position, \n",
    "                                planet_initial_velocity, \n",
    "                               tfinal=200, Nsteps=8800, \n",
    "                               threeDee=True)"
   ]
  },
  {
   "cell_type": "code",
   "execution_count": 6,
   "metadata": {},
   "outputs": [
    {
     "data": {
      "application/vnd.jupyter.widget-view+json": {
       "model_id": "fc3769706fee4d1cb37a89e058151398",
       "version_major": 2,
       "version_minor": 0
      },
      "text/plain": [
       "VBox(children=(Figure(camera=PerspectiveCamera(fov=46.0, position=(0.0, 0.0, 2.0), quaternion=(0.0, 0.0, 0.0, …"
      ]
     },
     "metadata": {},
     "output_type": "display_data"
    }
   ],
   "source": [
    "# we'll have to reformat a bit for plotting\n",
    "# right now, just all as one color\n",
    "x = r_h[:,0,:].ravel()\n",
    "y = r_h[:,1,:].ravel()\n",
    "z = r_h[:,2,:].ravel()\n",
    "ipyvolume.quickscatter(x, y, z, \n",
    "                       size=1, marker=\"sphere\")"
   ]
  },
  {
   "cell_type": "markdown",
   "metadata": {},
   "source": [
    "Let's make things a little more complicated and allow us to take a look at each orbit:"
   ]
  },
  {
   "cell_type": "code",
   "execution_count": 7,
   "metadata": {},
   "outputs": [
    {
     "data": {
      "application/vnd.jupyter.widget-view+json": {
       "model_id": "a3d10067524045ea98eb359156281b46",
       "version_major": 2,
       "version_minor": 0
      },
      "text/plain": [
       "VBox(children=(Figure(camera=PerspectiveCamera(fov=46.0, position=(0.0, 0.0, 2.0), quaternion=(0.0, 0.0, 0.0, …"
      ]
     },
     "metadata": {},
     "output_type": "display_data"
    }
   ],
   "source": [
    "ipyvolume.figure()\n",
    "colors = ['red', 'blue', 'green']\n",
    "for i in range(r_h.shape[0]):\n",
    "    ipyvolume.scatter(r_h[i,0,:],\n",
    "                      r_h[i,1,:],\n",
    "                      r_h[i,2,:], \n",
    "                      color=colors[i], \n",
    "                     marker='sphere')\n",
    "ipyvolume.show()"
   ]
  },
  {
   "cell_type": "markdown",
   "metadata": {},
   "source": [
    "So, this is pretty cool - we can now see how the orbits \"precess\" during their evolution and we can check out these shapes in 3D."
   ]
  },
  {
   "cell_type": "markdown",
   "metadata": {},
   "source": [
    "Note we can also plot more abstract spaces in 3D - like velocity space:"
   ]
  },
  {
   "cell_type": "code",
   "execution_count": 8,
   "metadata": {},
   "outputs": [
    {
     "data": {
      "application/vnd.jupyter.widget-view+json": {
       "model_id": "fe928d0820744f2585430f9fe8dcb5e8",
       "version_major": 2,
       "version_minor": 0
      },
      "text/plain": [
       "VBox(children=(Figure(camera=PerspectiveCamera(fov=46.0, position=(0.0, 0.0, 2.0), quaternion=(0.0, 0.0, 0.0, …"
      ]
     },
     "metadata": {},
     "output_type": "display_data"
    }
   ],
   "source": [
    "ipyvolume.figure()\n",
    "colors = ['red', 'blue', 'green']\n",
    "for i in range(v_h.shape[0]):\n",
    "    ipyvolume.scatter(v_h[i,0,:],\n",
    "                      v_h[i,1,:],\n",
    "                      v_h[i,2,:], \n",
    "                      color=colors[i],\n",
    "                     marker='sphere')\n",
    "ipyvolume.show()"
   ]
  },
  {
   "cell_type": "markdown",
   "metadata": {},
   "source": [
    "With this we can see how \"jumpy\" the velocity changes can get - this may be a numerical effect that is causing the precession of the orbits, or just how things are!"
   ]
  },
  {
   "cell_type": "markdown",
   "metadata": {},
   "source": [
    "Ok, we can also show velocity by little vectors:"
   ]
  },
  {
   "cell_type": "code",
   "execution_count": 9,
   "metadata": {},
   "outputs": [
    {
     "data": {
      "application/vnd.jupyter.widget-view+json": {
       "model_id": "88a80d0714f0453b9a99e88cbf7a19b8",
       "version_major": 2,
       "version_minor": 0
      },
      "text/plain": [
       "VBox(children=(Figure(camera=PerspectiveCamera(fov=46.0, position=(0.0, 0.0, 2.0), quaternion=(0.0, 0.0, 0.0, …"
      ]
     },
     "metadata": {},
     "output_type": "display_data"
    }
   ],
   "source": [
    "ipyvolume.figure()\n",
    "colors = ['red', 'blue', 'green']\n",
    "for i in range(v_h.shape[0]):\n",
    "    ipyvolume.quiver(r_h[i,0,:],\n",
    "                      r_h[i,1,:],\n",
    "                      r_h[i,2,:],\n",
    "                     v_h[i,0,:],\n",
    "                      v_h[i,1,:],\n",
    "                      v_h[i,2,:], \n",
    "                      color=colors[i])\n",
    "ipyvolume.show()"
   ]
  },
  {
   "cell_type": "markdown",
   "metadata": {},
   "source": [
    "So clearly the above is pointless - while it looks cool the arrows are too big and there are too many of them!  We can change this by taking \"X\" number of points:"
   ]
  },
  {
   "cell_type": "code",
   "execution_count": 10,
   "metadata": {},
   "outputs": [
    {
     "data": {
      "application/vnd.jupyter.widget-view+json": {
       "model_id": "539fb76a97a34108bea3b91f0f8fa5d5",
       "version_major": 2,
       "version_minor": 0
      },
      "text/plain": [
       "VBox(children=(Figure(camera=PerspectiveCamera(fov=46.0, position=(0.0, 0.0, 2.0), quaternion=(0.0, 0.0, 0.0, …"
      ]
     },
     "metadata": {},
     "output_type": "display_data"
    }
   ],
   "source": [
    "step = 600\n",
    "# also, length of arrays\n",
    "N = v_h.shape[2]\n",
    "\n",
    "ipyvolume.figure()\n",
    "colors = ['red', 'blue', 'green']\n",
    "for i in range(v_h.shape[0]):\n",
    "    ipyvolume.quiver(r_h[i,0,0:N:step],\n",
    "                      r_h[i,1,0:N:step],\n",
    "                      r_h[i,2,0:N:step],\n",
    "                     v_h[i,0,0:N:step],\n",
    "                      v_h[i,1,0:N:step],\n",
    "                      v_h[i,2,0:N:step], \n",
    "                      color=colors[i])\n",
    "ipyvolume.show()"
   ]
  },
  {
   "cell_type": "markdown",
   "metadata": {},
   "source": [
    "Now we can see a bit more about the motion - that their directions are opposite of eachother for example.  And that the central mass only moves slightly and around its center as well."
   ]
  },
  {
   "cell_type": "markdown",
   "metadata": {},
   "source": [
    "## Animation\n",
    "Let's now figure out how to make an animation, and then save it for ourselves!  To do this, we'll need to format our data specifically as (time, position):"
   ]
  },
  {
   "cell_type": "code",
   "execution_count": 11,
   "metadata": {},
   "outputs": [
    {
     "data": {
      "text/plain": [
       "(8800, 3)"
      ]
     },
     "execution_count": 11,
     "metadata": {},
     "output_type": "execute_result"
    }
   ],
   "source": [
    "# for example, for particle 0:\n",
    "r_h[:,0,:].T.shape"
   ]
  },
  {
   "cell_type": "code",
   "execution_count": 12,
   "metadata": {},
   "outputs": [
    {
     "data": {
      "text/plain": [
       "((3, 3, 8800), (3, 3, 880), (880, 3))"
      ]
     },
     "execution_count": 12,
     "metadata": {},
     "output_type": "execute_result"
    }
   ],
   "source": [
    "step = 10\n",
    "# also, length of arrays\n",
    "N = v_h.shape[2]\n",
    "\n",
    "r = r_h[:,:,0:N:step]\n",
    "v = v_h[:,:,0:N:step]\n",
    "\n",
    "r_h.shape, r.shape, r[:,2,:].T.shape"
   ]
  },
  {
   "cell_type": "code",
   "execution_count": 13,
   "metadata": {},
   "outputs": [
    {
     "data": {
      "text/plain": [
       "(880, 3, 3)"
      ]
     },
     "execution_count": 13,
     "metadata": {},
     "output_type": "execute_result"
    }
   ],
   "source": [
    "# have to format color as well\n",
    "#colors = np.empty((0,3))\n",
    "color = [(1,0,0), (0,0,1), (0,1,0)]\n",
    "\n",
    "#colors = np.array([])\n",
    "colors = []\n",
    "for i in range(r.shape[2]):\n",
    "    colors.append(color)\n",
    "    \n",
    "colors = np.array(colors)\n",
    "\n",
    "# order should be (times, points, colors)\n",
    "colors = np.transpose(colors, (0, 2, 1)) # flip the last axes\n",
    "\n",
    "colors.shape"
   ]
  },
  {
   "cell_type": "code",
   "execution_count": 14,
   "metadata": {},
   "outputs": [
    {
     "data": {
      "application/vnd.jupyter.widget-view+json": {
       "model_id": "ae12788cb1a540e3bd56cb60e839cb8d",
       "version_major": 2,
       "version_minor": 0
      },
      "text/plain": [
       "VBox(children=(Figure(animation=200.0, camera=PerspectiveCamera(fov=46.0, position=(0.0, 0.0, 2.0), quaternion…"
      ]
     },
     "metadata": {},
     "output_type": "display_data"
    }
   ],
   "source": [
    "ipyvolume.figure()\n",
    "\n",
    "s = ipyvolume.scatter(r[:,0,:].T, r[:,1,:].T, r[:,2,:].T, \n",
    "                      marker='sphere', \n",
    "                     color=colors)\n",
    "\n",
    "ani = ipyvolume.animation_control(s, interval=200)\n",
    "\n",
    "ipyvolume.show()"
   ]
  },
  {
   "cell_type": "markdown",
   "metadata": {},
   "source": [
    "Note that we can only use the ```animation_control``` function on scatter plots or quiver plots, so we can't add lines or anything here.  Perhaps in a future release of ```ipyvolume```!"
   ]
  },
  {
   "cell_type": "markdown",
   "metadata": {},
   "source": [
    "### Exercise\n",
    "Try this with your own datasets!\n",
    "\n",
    "Bonus: also try with animations of quiver plots\n",
    "\n",
    "Bonus: is there anything else you want to animate? Should the size of the points change for example? (See ipyvolume docs for examples)\n",
    "\n",
    "Bonus: do this with the galaxy simulations"
   ]
  },
  {
   "cell_type": "markdown",
   "metadata": {},
   "source": [
    "# Part 2: ipyvolume + ipywidgets\n",
    "Now let's combine the powers of widgets and ipyvolume to explore our datasets in 3D."
   ]
  },
  {
   "cell_type": "code",
   "execution_count": 27,
   "metadata": {},
   "outputs": [],
   "source": [
    "import ipywidgets"
   ]
  },
  {
   "cell_type": "code",
   "execution_count": 73,
   "metadata": {},
   "outputs": [
    {
     "data": {
      "text/plain": [
       "(264,)"
      ]
     },
     "execution_count": 73,
     "metadata": {},
     "output_type": "execute_result"
    }
   ],
   "source": [
    "step = 100\n",
    "# also, length of arrays\n",
    "N = v_h.shape[2]\n",
    "\n",
    "r = r_h[:,:,0:N:step]\n",
    "v = v_h[:,:,0:N:step]\n",
    "\n",
    "r[:,0,:].ravel().shape"
   ]
  },
  {
   "cell_type": "code",
   "execution_count": 74,
   "metadata": {},
   "outputs": [],
   "source": [
    "ipyvolume.figure()\n",
    "\n",
    "# I'll have to think about this more -> didn't really work too well\n",
    "#   the trick is to get them to \"flatten\" in the right way\n",
    "# color trickery\n",
    "#color = ['red', 'blue', 'green']\n",
    "#colors = np.repeat(colors, r.shape[0])\n",
    "#color = [(1,0,0), (0,0,1), (0,1,0)]\n",
    "#colors = []\n",
    "#for i in range(r.shape[2]):\n",
    "#    colors.append(color)\n",
    "#colors = np.array(colors).T\n",
    "#colors = np.transpose(colors, (0, 2, 1)) # flip the last axes\n",
    "\n",
    "\n",
    "x = r[:,0,:].ravel()\n",
    "y = r[:,1,:].ravel()\n",
    "z = r[:,2,:].ravel()\n",
    "\n",
    "s = ipyvolume.scatter(x, y, z, \n",
    "                      marker='sphere')\n",
    "\n",
    "#ipyvolume.show()\n",
    "#colors.shape, r[:,0,:].shape"
   ]
  },
  {
   "cell_type": "markdown",
   "metadata": {},
   "source": [
    "Now let's use widgets to change the size and color of our points:"
   ]
  },
  {
   "cell_type": "code",
   "execution_count": 75,
   "metadata": {},
   "outputs": [],
   "source": [
    "size = ipywidgets.FloatSlider(min=0, max=30, step=0.1)\n",
    "color = ipywidgets.ColorPicker()"
   ]
  },
  {
   "cell_type": "markdown",
   "metadata": {},
   "source": [
    "Now we'll use a function we haven't used before from ipywidgets - something that links our scatter plot features to our widgets:"
   ]
  },
  {
   "cell_type": "code",
   "execution_count": 76,
   "metadata": {},
   "outputs": [
    {
     "data": {
      "text/plain": [
       "Link(source=(Scatter(color_selected=array('white', dtype='<U5'), geo='sphere', line_material=ShaderMaterial(),…"
      ]
     },
     "metadata": {},
     "output_type": "display_data"
    }
   ],
   "source": [
    "ipywidgets.jslink((s, 'size'), (size, 'value'))\n",
    "ipywidgets.jslink((s, 'color'), (color, 'value'))"
   ]
  },
  {
   "cell_type": "markdown",
   "metadata": {},
   "source": [
    "Finally, well put all these things in a row: our plot, then our two linked widgets:"
   ]
  },
  {
   "cell_type": "code",
   "execution_count": 79,
   "metadata": {},
   "outputs": [
    {
     "data": {
      "application/vnd.jupyter.widget-view+json": {
       "model_id": "0f56702a6c844428a487035e95b5ec5d",
       "version_major": 2,
       "version_minor": 0
      },
      "text/plain": [
       "VBox(children=(VBox(children=(Figure(camera=PerspectiveCamera(aspect=0.8, fov=46.0, matrixWorldNeedsUpdate=Tru…"
      ]
     },
     "metadata": {},
     "output_type": "display_data"
    }
   ],
   "source": [
    "ipywidgets.VBox([ipyvolume.gcc(), size,  color])"
   ]
  },
  {
   "cell_type": "markdown",
   "metadata": {},
   "source": [
    "### Exercise\n",
    "Repeat this ipywidgets+ipyvolume for your own system.\n",
    "\n",
    "Bonus: make different sliders for different planets to control size & color for each independently.\n",
    "\n",
    "Bonus: make a quiver plot\n",
    "\n",
    "Bonus: what other things can you think to add sliders/pickers for?  Hint: check out the docs for ```ipyvolume.quiver``` and ```ipyvolume.scatter``` to see what you can change."
   ]
  },
  {
   "cell_type": "markdown",
   "metadata": {},
   "source": [
    "# Part 3 - embedding\n",
    "\n",
    "Finally, we might want to embed our creations on the web somewhere.  The first step is to make an ```html``` file from our in-python widgets.  Luckily, there is a function for that!"
   ]
  },
  {
   "cell_type": "code",
   "execution_count": 80,
   "metadata": {},
   "outputs": [],
   "source": [
    "myVBox = ipywidgets.VBox([ipyvolume.gcc(), size,  color])"
   ]
  },
  {
   "cell_type": "code",
   "execution_count": 81,
   "metadata": {},
   "outputs": [],
   "source": [
    "# if we don't do this, the bqplot will be really tiny in the standalone html\n",
    "ipyvolume.embed.layout = myVBox.children[1].layout\n",
    "ipyvolume.embed.layout.min_width = \"400px\""
   ]
  },
  {
   "cell_type": "code",
   "execution_count": 86,
   "metadata": {},
   "outputs": [],
   "source": [
    "ipyvolume.embed.embed_html(\"myPage.html\", myVBox, offline=True, devmode=False)"
   ]
  },
  {
   "cell_type": "code",
   "execution_count": 84,
   "metadata": {},
   "outputs": [],
   "source": [
    "!open myPage.html"
   ]
  },
  {
   "cell_type": "markdown",
   "metadata": {},
   "source": [
    "### Exercise\n",
    "Generate a page for your own simulation with all the controls you want!\n",
    "\n",
    "**Bonus**: though we won't be covering it explicitly, you can actually deploy this to the web to be hosted on github pages.  The first thing you need to do is call ```embed``` a little differently:"
   ]
  },
  {
   "cell_type": "code",
   "execution_count": 88,
   "metadata": {},
   "outputs": [],
   "source": [
    "ipyvolume.embed.embed_html(\"myPage.html\", myVBox, offline=False, devmode=False)"
   ]
  },
  {
   "cell_type": "markdown",
   "metadata": {},
   "source": [
    "Now, instead of opening it here, you need to add this file to your github page.  Again, we won't cover this in class, but feel free to ask for help after you've looked over the resources provided on today's course webpage under the \"deploying to the web\" header."
   ]
  },
  {
   "cell_type": "markdown",
   "metadata": {},
   "source": [
    "**Bonus**: add more linkage to your plot by linking to bqplot.  See the \"Mixing ipyvolume with bqplot\" example on the ```ipyvolume``` docs: https://ipyvolume.readthedocs.io/en/latest/bqplot.html#"
   ]
  },
  {
   "cell_type": "code",
   "execution_count": null,
   "metadata": {},
   "outputs": [],
   "source": []
  }
 ],
 "metadata": {
  "kernelspec": {
   "display_name": "Python 3",
   "language": "python",
   "name": "python3"
  },
  "language_info": {
   "codemirror_mode": {
    "name": "ipython",
    "version": 3
   },
   "file_extension": ".py",
   "mimetype": "text/x-python",
   "name": "python",
   "nbconvert_exporter": "python",
   "pygments_lexer": "ipython3",
   "version": "3.7.3"
  }
 },
 "nbformat": 4,
 "nbformat_minor": 2
}
