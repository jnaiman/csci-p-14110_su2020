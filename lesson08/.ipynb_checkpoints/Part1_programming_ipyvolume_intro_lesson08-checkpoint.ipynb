{
 "cells": [
  {
   "cell_type": "markdown",
   "metadata": {},
   "source": [
    "# Day 8, Part 1 - intro to ipyvolume\n",
    "We'll start our journey into the 3RD DIMENSION with the package ```ipyvolume```"
   ]
  },
  {
   "cell_type": "code",
   "execution_count": 1,
   "metadata": {},
   "outputs": [],
   "source": [
    "# if you don't get it:\n",
    "#!pip install ipyvolume\n",
    "# note: you may need:\n",
    "#!jupyter nbextension enable --py --sys-prefix ipyvolume\n",
    "#!jupyter nbextension enable --py --sys-prefix widgetsnbextension\n",
    "\n",
    "# or you can do:\n",
    "#!conda install -c conda-forge ipyvolume\n",
    "\n",
    "\n",
    "import ipyvolume"
   ]
  },
  {
   "cell_type": "markdown",
   "metadata": {},
   "source": [
    "Let's do a quick look at something with some random 3D data:"
   ]
  },
  {
   "cell_type": "code",
   "execution_count": 2,
   "metadata": {},
   "outputs": [
    {
     "data": {
      "application/vnd.jupyter.widget-view+json": {
       "model_id": "6fccbe05319943679979241c16ad6a23",
       "version_major": 2,
       "version_minor": 0
      },
      "text/plain": [
       "VBox(children=(Figure(camera=PerspectiveCamera(fov=46.0, position=(0.0, 0.0, 2.0), quaternion=(0.0, 0.0, 0.0, …"
      ]
     },
     "metadata": {},
     "output_type": "display_data"
    }
   ],
   "source": [
    "import numpy as np\n",
    "x, y, z = np.random.random((3, 10000))\n",
    "ipyvolume.quickscatter(x, y, z, size=1, marker=\"sphere\")"
   ]
  },
  {
   "cell_type": "markdown",
   "metadata": {},
   "source": [
    "Easy peasy!  Let's read in our simulation data and plot this!"
   ]
  },
  {
   "cell_type": "code",
   "execution_count": 3,
   "metadata": {},
   "outputs": [],
   "source": [
    "from hermite_library import read_hermite_solution_from_file\n",
    "\n",
    "# as a test:\n",
    "t_h, E_h, r_h, v_h = read_hermite_solution_from_file('myPlanetSystem_kepler101_solution1.txt')"
   ]
  },
  {
   "cell_type": "code",
   "execution_count": 4,
   "metadata": {},
   "outputs": [
    {
     "data": {
      "application/vnd.jupyter.widget-view+json": {
       "model_id": "45e5644d4dc44992a38fb38378214e7c",
       "version_major": 2,
       "version_minor": 0
      },
      "text/plain": [
       "VBox(children=(Figure(camera=PerspectiveCamera(fov=46.0, position=(0.0, 0.0, 2.0), quaternion=(0.0, 0.0, 0.0, …"
      ]
     },
     "metadata": {},
     "output_type": "display_data"
    }
   ],
   "source": [
    "# we'll have to reformat a bit for plotting\n",
    "# right now, just all as one color\n",
    "x = r_h[:,0,:].ravel()\n",
    "y = r_h[:,1,:].ravel()\n",
    "z = r_h[:,2,:].ravel()\n",
    "ipyvolume.quickscatter(x, y, z, \n",
    "                       size=1, marker=\"sphere\")\n",
    "# this plots things as overlapping spheres\n",
    "# so the orbits look like tubes"
   ]
  },
  {
   "cell_type": "markdown",
   "metadata": {},
   "source": [
    "Let's make things a little more complicated and allow us to take a look at each orbit:"
   ]
  },
  {
   "cell_type": "code",
   "execution_count": 5,
   "metadata": {},
   "outputs": [
    {
     "data": {
      "application/vnd.jupyter.widget-view+json": {
       "model_id": "6ee9dada82874007b39bd78dae85db65",
       "version_major": 2,
       "version_minor": 0
      },
      "text/plain": [
       "VBox(children=(Figure(camera=PerspectiveCamera(fov=46.0, position=(0.0, 0.0, 2.0), quaternion=(0.0, 0.0, 0.0, …"
      ]
     },
     "metadata": {},
     "output_type": "display_data"
    }
   ],
   "source": [
    "ipyvolume.figure()\n",
    "colors = ['red', 'blue', 'green'] # color of each particle\n",
    "for i in range(r_h.shape[0]): # loop over particles\n",
    "    ipyvolume.scatter(r_h[i,0,:],\n",
    "                      r_h[i,1,:],\n",
    "                      r_h[i,2,:], \n",
    "                      color=colors[i], \n",
    "                     marker='sphere')\n",
    "ipyvolume.show()\n",
    "# now all of the orbits are different colors"
   ]
  },
  {
   "cell_type": "markdown",
   "metadata": {},
   "source": [
    "So, this is pretty cool - we can now see how the orbits \"precess\" during their evolution and we can check out these shapes in 3D."
   ]
  },
  {
   "cell_type": "markdown",
   "metadata": {},
   "source": [
    "Note we can also plot more abstract spaces in 3D - like velocity space:"
   ]
  },
  {
   "cell_type": "code",
   "execution_count": 6,
   "metadata": {},
   "outputs": [
    {
     "data": {
      "text/plain": [
       "array([[[ 1.20141674e-06,  4.46835279e-02,  8.93138660e-02, ...,\n",
       "         -6.74179312e-01, -6.37677344e-01, -6.00136945e-01],\n",
       "        [-8.52351194e-01, -8.51372577e-01, -8.48435580e-01, ...,\n",
       "         -5.87805976e-01, -6.19270706e-01, -6.48672316e-01],\n",
       "        [ 0.00000000e+00,  0.00000000e+00,  0.00000000e+00, ...,\n",
       "          0.00000000e+00,  0.00000000e+00,  0.00000000e+00]],\n",
       "\n",
       "       [[-1.48139093e-01, -1.65663354e-01, -1.83090972e-01, ...,\n",
       "         -7.29450017e-01, -7.32358304e-01, -7.34843357e-01],\n",
       "        [ 7.27438358e-01,  7.23648208e-01,  7.19435966e-01, ...,\n",
       "          1.28134545e-01,  1.10548127e-01,  9.28952218e-02],\n",
       "        [ 0.00000000e+00,  0.00000000e+00,  0.00000000e+00, ...,\n",
       "          0.00000000e+00,  0.00000000e+00,  0.00000000e+00]],\n",
       "\n",
       "       [[ 1.20141674e-06, -4.45521515e-06, -1.01058840e-05, ...,\n",
       "          9.34101445e-05,  8.86965894e-05,  8.38448364e-05],\n",
       "        [ 1.04715912e-04,  1.04619652e-04,  1.04272661e-04, ...,\n",
       "          7.52448409e-05,  7.94709091e-05,  8.34297694e-05],\n",
       "        [ 0.00000000e+00,  0.00000000e+00,  0.00000000e+00, ...,\n",
       "          0.00000000e+00,  0.00000000e+00,  0.00000000e+00]]])"
      ]
     },
     "execution_count": 6,
     "metadata": {},
     "output_type": "execute_result"
    }
   ],
   "source": [
    "v_h"
   ]
  },
  {
   "cell_type": "code",
   "execution_count": 7,
   "metadata": {},
   "outputs": [
    {
     "data": {
      "application/vnd.jupyter.widget-view+json": {
       "model_id": "25db774e41a44d9292f05111aa629897",
       "version_major": 2,
       "version_minor": 0
      },
      "text/plain": [
       "VBox(children=(Figure(camera=PerspectiveCamera(fov=46.0, position=(0.0, 0.0, 2.0), quaternion=(0.0, 0.0, 0.0, …"
      ]
     },
     "metadata": {},
     "output_type": "display_data"
    }
   ],
   "source": [
    "ipyvolume.figure()\n",
    "colors = ['red', 'blue', 'green'] # now velocity of each particle is different color\n",
    "for i in range(v_h.shape[0]): # loop over number of particles\n",
    "    ipyvolume.scatter(v_h[i,0,:],\n",
    "                      v_h[i,1,:],\n",
    "                      v_h[i,2,:], \n",
    "                      color=colors[i],\n",
    "                     marker='sphere')\n",
    "ipyvolume.show()"
   ]
  },
  {
   "cell_type": "markdown",
   "metadata": {},
   "source": [
    "So this is a little less intiative, but this is how the velocities of our particles change during their orbits."
   ]
  },
  {
   "cell_type": "markdown",
   "metadata": {},
   "source": [
    "Ok, we can also show velocity by little vectors:"
   ]
  },
  {
   "cell_type": "code",
   "execution_count": 8,
   "metadata": {},
   "outputs": [
    {
     "data": {
      "application/vnd.jupyter.widget-view+json": {
       "model_id": "d2b427353965424fb9b8be734e7d5a94",
       "version_major": 2,
       "version_minor": 0
      },
      "text/plain": [
       "VBox(children=(Figure(camera=PerspectiveCamera(fov=46.0, position=(0.0, 0.0, 2.0), quaternion=(0.0, 0.0, 0.0, …"
      ]
     },
     "metadata": {},
     "output_type": "display_data"
    }
   ],
   "source": [
    "ipyvolume.figure()\n",
    "colors = ['red', 'blue', 'green'] # each particle's velocity is different color\n",
    "for i in range(v_h.shape[0]): # loop over particles \n",
    "    ipyvolume.quiver(r_h[i,0,:], # plot x,y,z positions\n",
    "                      r_h[i,1,:],\n",
    "                      r_h[i,2,:],\n",
    "                     v_h[i,0,:], # also include vx/vy/vz vectors of velocities\n",
    "                      v_h[i,1,:],\n",
    "                      v_h[i,2,:], \n",
    "                      color=colors[i])\n",
    "ipyvolume.show()"
   ]
  },
  {
   "cell_type": "markdown",
   "metadata": {},
   "source": [
    "So clearly the above is pointless - while it looks cool the arrows are too big and there are too many of them!  We can change this by taking \"X\" number of points.  This is like the subsampling we did before to keep our framerates of our animations small:"
   ]
  },
  {
   "cell_type": "code",
   "execution_count": 9,
   "metadata": {},
   "outputs": [
    {
     "data": {
      "application/vnd.jupyter.widget-view+json": {
       "model_id": "9d47be6c4d034a1682a34f4a5f595221",
       "version_major": 2,
       "version_minor": 0
      },
      "text/plain": [
       "VBox(children=(Figure(camera=PerspectiveCamera(fov=46.0, position=(0.0, 0.0, 2.0), quaternion=(0.0, 0.0, 0.0, …"
      ]
     },
     "metadata": {},
     "output_type": "display_data"
    }
   ],
   "source": [
    "step = 1000 # plot ever \"step\"th velocity vector\n",
    "# also, length of arrays in time-axis\n",
    "N = v_h.shape[2]\n",
    "\n",
    "ipyvolume.figure()\n",
    "colors = ['red', 'blue', 'green'] # colors of each particle\n",
    "for i in range(v_h.shape[0]): # loop every particle\n",
    "    ipyvolume.quiver(r_h[i,0,0:N:step], # plot subsampled x/y/z\n",
    "                      r_h[i,1,0:N:step],\n",
    "                      r_h[i,2,0:N:step],\n",
    "                     v_h[i,0,0:N:step], # with subsampled vectors vx/vy/vz\n",
    "                      v_h[i,1,0:N:step],\n",
    "                      v_h[i,2,0:N:step], \n",
    "                      color=colors[i], \n",
    "                     size=2) # also, if things look too crowded, we can also make the arrows themselves smaller\n",
    "ipyvolume.show()"
   ]
  },
  {
   "cell_type": "markdown",
   "metadata": {},
   "source": [
    "Now we can see a bit more about the motion - that their directions are opposite of eachother for example.  And that the central mass only moves slightly and around its center as well."
   ]
  },
  {
   "cell_type": "markdown",
   "metadata": {},
   "source": [
    "## Animation\n",
    "Let's now figure out how to make an animation in 3D, and then save it for ourselves!  To do this, we'll need to format our data specifically as (time, position):"
   ]
  },
  {
   "cell_type": "code",
   "execution_count": 10,
   "metadata": {},
   "outputs": [
    {
     "data": {
      "text/plain": [
       "(5000, 3)"
      ]
     },
     "execution_count": 10,
     "metadata": {},
     "output_type": "execute_result"
    }
   ],
   "source": [
    "# for example, for particle 0:\n",
    "r_h[:,0,:].T.shape"
   ]
  },
  {
   "cell_type": "code",
   "execution_count": 11,
   "metadata": {},
   "outputs": [
    {
     "data": {
      "text/plain": [
       "((3, 3, 5000), (3, 3, 500), (500, 3))"
      ]
     },
     "execution_count": 11,
     "metadata": {},
     "output_type": "execute_result"
    }
   ],
   "source": [
    "step = 10 # only do every 10 steps\n",
    "# also, length of arrays in time\n",
    "N = v_h.shape[2]\n",
    "\n",
    "# subsample to make more managable\n",
    "r = r_h[:,:,0:N:step]\n",
    "v = v_h[:,:,0:N:step]\n",
    "\n",
    "r_h.shape, r.shape, r[:,2,:].T.shape"
   ]
  },
  {
   "cell_type": "code",
   "execution_count": 12,
   "metadata": {},
   "outputs": [],
   "source": [
    "# have to format color as well\n",
    "#colors = np.empty((0,3))\n",
    "color = [(1,0,0), (0,0,1), (0,1,0)]"
   ]
  },
  {
   "cell_type": "code",
   "execution_count": 13,
   "metadata": {},
   "outputs": [
    {
     "data": {
      "text/plain": [
       "(500, 3, 3)"
      ]
     },
     "execution_count": 13,
     "metadata": {},
     "output_type": "execute_result"
    }
   ],
   "source": [
    "# import little function to do colors for us\n",
    "from flip_colors import flip_colors\n",
    "\n",
    "colors = flip_colors(color,r)\n",
    "\n",
    "colors.shape"
   ]
  },
  {
   "cell_type": "code",
   "execution_count": 14,
   "metadata": {},
   "outputs": [
    {
     "data": {
      "application/vnd.jupyter.widget-view+json": {
       "model_id": "dcc89187da2e4238b8222f5fda4ebb63",
       "version_major": 2,
       "version_minor": 0
      },
      "text/plain": [
       "VBox(children=(Figure(animation=200.0, camera=PerspectiveCamera(fov=46.0, position=(0.0, 0.0, 2.0), quaternion…"
      ]
     },
     "metadata": {},
     "output_type": "display_data"
    }
   ],
   "source": [
    "ipyvolume.figure()\n",
    "\n",
    "s = ipyvolume.scatter(r[:,0,:].T, r[:,1,:].T, r[:,2,:].T, \n",
    "                      marker='sphere', \n",
    "                     color=colors)\n",
    "\n",
    "ani = ipyvolume.animation_control(s, interval=200)\n",
    "\n",
    "ipyvolume.show()"
   ]
  },
  {
   "cell_type": "markdown",
   "metadata": {},
   "source": [
    "Note that we can only use the ```animation_control``` function on scatter plots or quiver plots, so we can't add lines or anything here.  Perhaps in a future release of ```ipyvolume```!"
   ]
  },
  {
   "cell_type": "markdown",
   "metadata": {},
   "source": [
    "### Exercise\n",
    "Try this with your own datasets!\n",
    "\n",
    "Bonus: also try with animations of quiver plots\n",
    "\n",
    "Bonus: is there anything else you want to animate? Should the size of the points change for example? (See ipyvolume docs for examples)\n",
    "\n",
    "Bonus: do this with the galaxy simulations"
   ]
  },
  {
   "cell_type": "markdown",
   "metadata": {},
   "source": [
    "# Part 2: ipyvolume + ipywidgets\n",
    "Now let's combine the powers of widgets and ipyvolume to explore our datasets in 3D."
   ]
  },
  {
   "cell_type": "code",
   "execution_count": 15,
   "metadata": {},
   "outputs": [],
   "source": [
    "import ipywidgets"
   ]
  },
  {
   "cell_type": "code",
   "execution_count": 16,
   "metadata": {},
   "outputs": [
    {
     "data": {
      "text/plain": [
       "(150,)"
      ]
     },
     "execution_count": 16,
     "metadata": {},
     "output_type": "execute_result"
    }
   ],
   "source": [
    "step = 100 # only do every 100th timestep\n",
    "# also, length of arrays\n",
    "N = v_h.shape[2] # full time\n",
    "\n",
    "# decimate again\n",
    "r = r_h[:,:,0:N:step]\n",
    "v = v_h[:,:,0:N:step]\n",
    "\n",
    "r[:,0,:].ravel().shape"
   ]
  },
  {
   "cell_type": "code",
   "execution_count": 17,
   "metadata": {},
   "outputs": [],
   "source": [
    "ipyvolume.figure()\n",
    "\n",
    "x = r[:,0,:].ravel()\n",
    "y = r[:,1,:].ravel()\n",
    "z = r[:,2,:].ravel()\n",
    "\n",
    "s = ipyvolume.scatter(x, y, z, \n",
    "                      marker='sphere')\n",
    "\n",
    "#ipyvolume.show()\n",
    "#colors.shape, r[:,0,:].shape"
   ]
  },
  {
   "cell_type": "markdown",
   "metadata": {},
   "source": [
    "Now let's use widgets to change the size and color of our points:"
   ]
  },
  {
   "cell_type": "code",
   "execution_count": 18,
   "metadata": {},
   "outputs": [],
   "source": [
    "import ipywidgets\n",
    "size = ipywidgets.FloatSlider(min=0, max=30, step=0.1)\n",
    "color = ipywidgets.ColorPicker()"
   ]
  },
  {
   "cell_type": "markdown",
   "metadata": {},
   "source": [
    "Now we'll use a function we haven't used before from ipywidgets - something that links our scatter plot features to our widgets:"
   ]
  },
  {
   "cell_type": "code",
   "execution_count": 19,
   "metadata": {},
   "outputs": [
    {
     "data": {
      "text/plain": [
       "Link(source=(Scatter(color_selected=array('white', dtype='<U5'), geo='sphere', line_material=ShaderMaterial(),…"
      ]
     },
     "metadata": {},
     "output_type": "display_data"
    }
   ],
   "source": [
    "ipywidgets.jslink((s, 'size'), (size, 'value'))\n",
    "ipywidgets.jslink((s, 'color'), (color, 'value'))"
   ]
  },
  {
   "cell_type": "markdown",
   "metadata": {},
   "source": [
    "Finally, well put all these things in a row: our plot, then our two linked widgets:"
   ]
  },
  {
   "cell_type": "code",
   "execution_count": 20,
   "metadata": {},
   "outputs": [
    {
     "data": {
      "application/vnd.jupyter.widget-view+json": {
       "model_id": "af16368057aa44b9a20fb31e695cc2c6",
       "version_major": 2,
       "version_minor": 0
      },
      "text/plain": [
       "VBox(children=(VBox(children=(Figure(camera=PerspectiveCamera(fov=46.0, position=(0.0, 0.0, 2.0), quaternion=(…"
      ]
     },
     "metadata": {},
     "output_type": "display_data"
    }
   ],
   "source": [
    "ipywidgets.VBox([ipyvolume.gcc(), size,  color])"
   ]
  },
  {
   "cell_type": "markdown",
   "metadata": {},
   "source": [
    "### Exercise\n",
    "Repeat this ipywidgets+ipyvolume for your own system.\n",
    "\n",
    "Bonus: make different sliders for different planets to control size & color for each independently.\n",
    "\n",
    "Bonus: make a quiver plot\n",
    "\n",
    "Bonus: what other things can you think to add sliders/pickers for?  Hint: check out the docs for ```ipyvolume.quiver``` and ```ipyvolume.scatter``` to see what you can change."
   ]
  },
  {
   "cell_type": "markdown",
   "metadata": {},
   "source": [
    "# Part 3 - embedding\n",
    "\n",
    "Finally, we might want to embed our creations on the web somewhere.  The first step is to make an ```html``` file from our in-python widgets.  Luckily, there is a function for that!"
   ]
  },
  {
   "cell_type": "code",
   "execution_count": 21,
   "metadata": {},
   "outputs": [],
   "source": [
    "myVBox = ipywidgets.VBox([ipyvolume.gcc(), size,  color])"
   ]
  },
  {
   "cell_type": "code",
   "execution_count": 22,
   "metadata": {},
   "outputs": [],
   "source": [
    "# if we don't do this, the bqplot will be really tiny in the standalone html\n",
    "ipyvolume.embed.layout = myVBox.children[1].layout\n",
    "ipyvolume.embed.layout.min_width = \"400px\""
   ]
  },
  {
   "cell_type": "code",
   "execution_count": 23,
   "metadata": {},
   "outputs": [],
   "source": [
    "# NOTE!!!! offline=True may or may not work... depends\n",
    "ipyvolume.embed.embed_html(\"myPage.html\", myVBox, offline=False, devmode=False)"
   ]
  },
  {
   "cell_type": "code",
   "execution_count": 24,
   "metadata": {},
   "outputs": [],
   "source": [
    "!open myPage.html"
   ]
  },
  {
   "cell_type": "markdown",
   "metadata": {},
   "source": [
    "### Exercise\n",
    "Generate a page for your own simulation with all the controls you want!\n",
    "\n",
    "**Bonus**: though we won't be covering it explicitly, you can actually deploy this to the web to be hosted on github pages.  The first thing you need to do is call ```embed``` a little differently:"
   ]
  },
  {
   "cell_type": "code",
   "execution_count": 25,
   "metadata": {},
   "outputs": [],
   "source": [
    "ipyvolume.embed.embed_html(\"myPage.html\", myVBox, offline=False, devmode=False)"
   ]
  },
  {
   "cell_type": "markdown",
   "metadata": {},
   "source": [
    "Now, instead of opening it here, you need to add this file to your github page.  Again, we won't cover this in class, but feel free to ask for help after you've looked over the resources provided on today's course webpage under the \"deploying to the web\" header."
   ]
  },
  {
   "cell_type": "markdown",
   "metadata": {},
   "source": [
    "**Bonus**: add more linkage to your plot by linking to bqplot.  See the \"Mixing ipyvolume with bqplot\" example on the ```ipyvolume``` docs: https://ipyvolume.readthedocs.io/en/latest/bqplot.html#"
   ]
  },
  {
   "cell_type": "markdown",
   "metadata": {},
   "source": [
    "# trying animation + widgets"
   ]
  },
  {
   "cell_type": "code",
   "execution_count": 26,
   "metadata": {},
   "outputs": [
    {
     "data": {
      "application/vnd.jupyter.widget-view+json": {
       "model_id": "1306d899b00f4fa9aad7a4983e6433d9",
       "version_major": 2,
       "version_minor": 0
      },
      "text/plain": [
       "VBox(children=(VBox(children=(Figure(animation=200.0, camera=PerspectiveCamera(fov=46.0, position=(0.0, 0.0, 2…"
      ]
     },
     "metadata": {},
     "output_type": "display_data"
    }
   ],
   "source": [
    "step = 10 # only do every 10th timestep\n",
    "# also, length of arrays\n",
    "N = r_h.shape[2] # full time\n",
    "# decimate again\n",
    "r = r_h[:,:,0:N:step]\n",
    "\n",
    "\n",
    "ipyvolume.figure()\n",
    "\n",
    "size = ipywidgets.FloatSlider(min=0, max=30, step=0.1, description='Size of Planets')\n",
    "\n",
    "s = ipyvolume.scatter(r[:,0,:].T, r[:,1,:].T, r[:,2,:].T, \n",
    "                      marker='sphere', \n",
    "                     color=colors)\n",
    "\n",
    "ipywidgets.jslink((s, 'size'), (size, 'value'))\n",
    "ani = ipyvolume.animation_control(s, interval=200)\n",
    "ipywidgets.VBox([ipyvolume.gcc(), size])\n",
    "\n",
    "#ipyvolume.show()"
   ]
  },
  {
   "cell_type": "code",
   "execution_count": 27,
   "metadata": {},
   "outputs": [],
   "source": [
    "ipyvolume.figure()\n",
    "\n",
    "size = ipywidgets.FloatSlider(min=0, max=30, step=0.1, description='Size of Planets')\n",
    "\n",
    "s = ipyvolume.scatter(r[:,0,:].T, r[:,1,:].T, r[:,2,:].T, \n",
    "                      marker='sphere', \n",
    "                     color=colors)\n",
    "\n",
    "ipywidgets.jslink((s, 'size'), (size, 'value'))\n",
    "ani = ipyvolume.animation_control(s, interval=200)\n",
    "\n",
    "# export to web\n",
    "myVboxOut = ipywidgets.VBox([ipyvolume.gcc(), size])\n",
    "# if we don't do this, the bqplot will be really tiny in the standalone html\n",
    "ipyvolume.embed.layout = myVboxOut.children[1].layout\n",
    "ipyvolume.embed.layout.min_width = \"400px\"\n",
    "ipyvolume.embed.embed_html(\"myPage_withAni.html\", myVboxOut, offline=False, devmode=False)"
   ]
  },
  {
   "cell_type": "code",
   "execution_count": 28,
   "metadata": {},
   "outputs": [
    {
     "data": {
      "application/vnd.jupyter.widget-view+json": {
       "model_id": "975170eb51994daaa3eeee1aed3b3cfb",
       "version_major": 2,
       "version_minor": 0
      },
      "text/plain": [
       "VBox(children=(VBox(children=(Figure(animation=200.0, camera=PerspectiveCamera(fov=46.0, position=(0.0, 0.0, 2…"
      ]
     },
     "metadata": {},
     "output_type": "display_data"
    }
   ],
   "source": [
    "ipyvolume.figure()\n",
    "\n",
    "size = ipywidgets.FloatSlider(min=0, max=30, step=0.1, description='Size of Planets')\n",
    "\n",
    "s = ipyvolume.scatter(r[:,0,:].T, r[:,1,:].T, r[:,2,:].T, \n",
    "                      marker='sphere', \n",
    "                     color=colors)\n",
    "#s.size=[2,5,10]\n",
    "#ipywidgets.jslink((s, 'size'), (size, 'value'))\n",
    "ani = ipyvolume.animation_control(s, interval=200)\n",
    "\n",
    "ipywidgets.VBox([ipyvolume.gcc(), size])\n"
   ]
  },
  {
   "cell_type": "markdown",
   "metadata": {},
   "source": [
    "# sizes"
   ]
  },
  {
   "cell_type": "code",
   "execution_count": 29,
   "metadata": {},
   "outputs": [
    {
     "data": {
      "application/vnd.jupyter.widget-view+json": {
       "model_id": "d2f280836127454584d53e0b5af6ac30",
       "version_major": 2,
       "version_minor": 0
      },
      "text/plain": [
       "VBox(children=(Figure(animation=200.0, camera=PerspectiveCamera(fov=46.0, position=(0.0, 0.0, 2.0), quaternion…"
      ]
     },
     "metadata": {},
     "output_type": "display_data"
    }
   ],
   "source": [
    "sizes = [0.5, 1, 8]\n",
    "\n",
    "ipyvolume.figure()\n",
    "s = ipyvolume.scatter(r[:,0,:].T, r[:,1,:].T, r[:,2,:].T, \n",
    "                      marker='sphere', \n",
    "                     color=colors, size=sizes)\n",
    "\n",
    "ani = ipyvolume.animation_control(s, interval=200)\n",
    "ipyvolume.show()"
   ]
  },
  {
   "cell_type": "code",
   "execution_count": null,
   "metadata": {},
   "outputs": [],
   "source": []
  }
 ],
 "metadata": {
  "kernelspec": {
   "display_name": "Python 3",
   "language": "python",
   "name": "python3"
  },
  "language_info": {
   "codemirror_mode": {
    "name": "ipython",
    "version": 3
   },
   "file_extension": ".py",
   "mimetype": "text/x-python",
   "name": "python",
   "nbconvert_exporter": "python",
   "pygments_lexer": "ipython3",
   "version": "3.7.3"
  }
 },
 "nbformat": 4,
 "nbformat_minor": 2
}
