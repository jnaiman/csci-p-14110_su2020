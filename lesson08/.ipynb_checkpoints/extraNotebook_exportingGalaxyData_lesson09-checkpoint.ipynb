{
 "cells": [
  {
   "cell_type": "markdown",
   "metadata": {},
   "source": [
    "# Extra Module: Exporting Galaxy data\n",
    "\n",
    "While we won't go through this as a class, here are some tips to get started with how to export PLY files of galaxy simulations for Sketchfab.\n",
    "\n",
    "Remember: these aren't easily loaded into MeshLab for fast debugging so you probably want to start looking at the planetary models first."
   ]
  },
  {
   "cell_type": "code",
   "execution_count": null,
   "metadata": {},
   "outputs": [],
   "source": []
  }
 ],
 "metadata": {
  "kernelspec": {
   "display_name": "Python 3",
   "language": "python",
   "name": "python3"
  },
  "language_info": {
   "codemirror_mode": {
    "name": "ipython",
    "version": 3
   },
   "file_extension": ".py",
   "mimetype": "text/x-python",
   "name": "python",
   "nbconvert_exporter": "python",
   "pygments_lexer": "ipython3",
   "version": "3.7.3"
  }
 },
 "nbformat": 4,
 "nbformat_minor": 2
}
