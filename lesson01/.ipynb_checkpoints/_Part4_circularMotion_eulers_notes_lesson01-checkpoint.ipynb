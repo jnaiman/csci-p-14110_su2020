{
 "cells": [
  {
   "cell_type": "markdown",
   "metadata": {},
   "source": [
    "# Day 1, Part 4: Circular Motion to Eulers"
   ]
  },
  {
   "cell_type": "markdown",
   "metadata": {},
   "source": [
    "## Simple circular motion, calculations\n",
    "Let's start by asking the following question: let's say I've got a list of angular velocities, $\\omega$'s and times over which they are applied and initial angle $\\theta_0$ in radians, and I want to find out what my final angle is.  \n",
    "\n",
    "How can I get Python to calculate this for me?"
   ]
  },
  {
   "cell_type": "markdown",
   "metadata": {},
   "source": [
    "Let's start with a simple example:\n",
    "\n",
    "Initial angle: $\\theta_0 = 10^\\circ$\n",
    "\n",
    "Then we have three different angular velocities over three different time periods:\n",
    "1. $\\omega_1 = 2$ rad/s for $\\Delta t_1 = 5$ seconds in the counter clockwise (CCW) direction\n",
    "1. $\\omega_2 = 0.5$ rad/s for $\\Delta t_2 = 10$ seconds in the clockwise (CW) direction\n",
    "1. $\\omega_3 = 5$ rad/s for $\\Delta t_3 = 0.5$ seconds in the CCW direction\n",
    "1. $\\omega_4 = 1$ rad/s for $\\Delta t_4 = 3$ seconds in the CCW direction\n",
    "\n",
    "What is the final angle, $\\theta_{final}$ in degrees?"
   ]
  },
  {
   "cell_type": "markdown",
   "metadata": {},
   "source": [
    "We can start by converting the initial angle, $\\theta_0$ into radians and adding in the first change in angle:\n",
    "\n",
    "$\\Delta \\theta_1 = \\omega_1 \\Delta t_1$\n",
    "\n",
    "and the angle after this first motion is:\n",
    "\n",
    "$\\theta_1 = \\theta_0 + \\Delta \\theta_1 = \\theta_0 + \\omega_1 \\Delta t_1$"
   ]
  },
  {
   "cell_type": "code",
   "execution_count": 1,
   "metadata": {},
   "outputs": [],
   "source": [
    "import numpy as np"
   ]
  },
  {
   "cell_type": "code",
   "execution_count": 2,
   "metadata": {},
   "outputs": [
    {
     "name": "stdout",
     "output_type": "stream",
     "text": [
      "10.174532925199433\n"
     ]
    }
   ],
   "source": [
    "theta_1 = 10*np.pi/180.0 + 2.0*5\n",
    "# first part converts the initial angle from degrees into rads\n",
    "print(theta_1) # just to have a look"
   ]
  },
  {
   "cell_type": "markdown",
   "metadata": {},
   "source": [
    "The above makes sense - 10$^\\circ$ is very small, almost 0 radians, and then 2 X 5 ~ 10 radians, so we should end up with something that is a little over 10 radians at the end of this portion"
   ]
  },
  {
   "cell_type": "code",
   "execution_count": 3,
   "metadata": {},
   "outputs": [
    {
     "name": "stdout",
     "output_type": "stream",
     "text": [
      "5.174532925199433\n"
     ]
    }
   ],
   "source": [
    "# second one:\n",
    "theta_2 = theta_1 - 0.5*10\n",
    "# notice, theta_1 was already in radians, so we didn't convert\n",
    "# and there is a minus sign because we are moving CW now\n",
    "print(theta_2)"
   ]
  },
  {
   "cell_type": "markdown",
   "metadata": {},
   "source": [
    "This also makes sense, since we are now moving 5 radians back whence we came.\n",
    "\n",
    "We'll do the rest all together:"
   ]
  },
  {
   "cell_type": "code",
   "execution_count": 4,
   "metadata": {},
   "outputs": [],
   "source": [
    "theta_3 = theta_2 + 5*0.5\n",
    "\n",
    "theta_4 = theta_3 + 1*3"
   ]
  },
  {
   "cell_type": "code",
   "execution_count": 5,
   "metadata": {},
   "outputs": [
    {
     "name": "stdout",
     "output_type": "stream",
     "text": [
      "final angle = 611.6056848873643\n"
     ]
    }
   ],
   "source": [
    "# convert\n",
    "theta_final = theta_4*180./np.pi\n",
    "print('final angle = ' + str(theta_final))\n",
    "# the last bit just conversts a number to a string"
   ]
  },
  {
   "cell_type": "markdown",
   "metadata": {},
   "source": [
    "So, we've gone almost 2 times around the circle!"
   ]
  },
  {
   "cell_type": "markdown",
   "metadata": {},
   "source": [
    "How do we do this for an arbitrary set of angular velocities and times?  First, lets notice the pattern:\n",
    "\n",
    "$\\theta_i = \\theta_{i-1} + \\omega_i \\Delta t_i$\n",
    "\n",
    "If we assume that a positive $\\omega_i$ is CCW motion and a negative $\\omega_i$ is CW motion, then we can use the above general formula.  \n",
    "\n",
    "This is an iterative solution - if we are given the initial angle $\\theta_0$ and a list of angular velocities and $\\Delta t$'s - we can loop and do this calculation.\n",
    "\n",
    "Let's make a function!  "
   ]
  },
  {
   "cell_type": "code",
   "execution_count": 12,
   "metadata": {},
   "outputs": [],
   "source": [
    "def final_angle(theta_0, list_of_omegas, list_of_delta_times):\n",
    "    \n",
    "    # we have to think carefully about the range of our \n",
    "    # for loop here - our lowest value is i=0, but \n",
    "    # that is our initial angle, theta_0\n",
    "    # so, we want to update the i=1 angle in our loop\n",
    "    # and stop at the i=(length of our lists)\n",
    "    for i in range(0,len(list_of_omegas)):\n",
    "        theta_i = theta_0 + list_of_omegas[i]*list_of_delta_times[i]\n",
    "        \n",
    "        # we also have to update our theta_0 so it is now \n",
    "        # our calculated theta_i => this will the the \"initial\"\n",
    "        # theta for the next loop\n",
    "        #  try without this and see what happens!\n",
    "        theta_0 = theta_i\n",
    "        #print(theta_0, theta_i)\n",
    "        \n",
    "    print('Final angle is ' + str(theta_i*180./np.pi))"
   ]
  },
  {
   "cell_type": "code",
   "execution_count": 13,
   "metadata": {},
   "outputs": [
    {
     "name": "stdout",
     "output_type": "stream",
     "text": [
      "Final angle is 611.6056848873643\n"
     ]
    }
   ],
   "source": [
    "# let's try with what we had above:\n",
    "theta_0 = 10.0*np.pi/180\n",
    "list_of_omegas = [2, -0.5, 5, 1]\n",
    "list_of_delta_times = [5, 10, 0.5, 3]\n",
    "\n",
    "final_angle(theta_0, list_of_omegas, list_of_delta_times)"
   ]
  },
  {
   "cell_type": "markdown",
   "metadata": {},
   "source": [
    "What we just did is called the **Euler Method** for integrating time evolving equations - which is just a fancy way of saying its a way to iteratively solve for motion over time steps."
   ]
  },
  {
   "cell_type": "markdown",
   "metadata": {},
   "source": [
    "## Exercise\n",
    "Take a moment to try with a different set of angular velocities and times.  Does it equal the same thing if you do it by hand?"
   ]
  },
  {
   "cell_type": "markdown",
   "metadata": {},
   "source": [
    "## Generalizing"
   ]
  },
  {
   "cell_type": "markdown",
   "metadata": {},
   "source": [
    "So, we could definitely generalize the above for different types of constant angular velocity and $\\Delta t$'s - but what if we have acceleration that changes the velocity?  And what if that acceleration depends not only or instead of on time, on position?  What do we do then?\n",
    "\n",
    "This is the case with gravity where the acceleration depends on how far away you are from a massive body:\n",
    "\n",
    "$\\vec{a}_{grav} = - \\frac{G M}{| \\vec{r}^2 |} \\hat{r}$"
   ]
  },
  {
   "cell_type": "markdown",
   "metadata": {},
   "source": [
    "Turns out we can use the same principles shown here, but we have to account for acceleration in our **Euler Method** as well.  \n",
    "\n",
    "Before getting into that, let's look at how gravity relates to circular motion."
   ]
  },
  {
   "cell_type": "code",
   "execution_count": null,
   "metadata": {},
   "outputs": [],
   "source": []
  }
 ],
 "metadata": {
  "kernelspec": {
   "display_name": "Python 3",
   "language": "python",
   "name": "python3"
  },
  "language_info": {
   "codemirror_mode": {
    "name": "ipython",
    "version": 3
   },
   "file_extension": ".py",
   "mimetype": "text/x-python",
   "name": "python",
   "nbconvert_exporter": "python",
   "pygments_lexer": "ipython3",
   "version": "3.7.3"
  }
 },
 "nbformat": 4,
 "nbformat_minor": 2
}
