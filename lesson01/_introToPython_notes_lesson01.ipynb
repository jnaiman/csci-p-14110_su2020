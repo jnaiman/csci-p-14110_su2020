{
 "cells": [
  {
   "cell_type": "markdown",
   "metadata": {},
   "source": [
    "# Day 1: An introduction to Python programming\n",
    "References:\n",
    " * https://sites.google.com/a/ucsc.edu/krumholz/teaching-and-courses/python-15/class-1"
   ]
  },
  {
   "cell_type": "markdown",
   "metadata": {},
   "source": [
    "Right now we are going to go over a few basics of programming using Python and also some fun tidbits about how to mark up our \"jupyter notebooks\" with text explainations and figures of what we are doing.  \n",
    "\n",
    "If you have been programming for a while, this will serve as a bit of a review, but since most folks don't primarily program in Python, this will be an opportunity to learn a bit more detail about the nuances of Python.\n",
    "\n",
    "If you are very new to programming, this might all seem like gibberish right now.  This is completely normal!  Programming is one of those things that is hard to understand in the abstract, but gets much more easy the more you do it and can see what sorts of outputs you get.\n",
    "\n",
    "This part will be a little dry, but soon we'll get to using the things we learn here to do more fun stuff.\n",
    "\n",
    "Also!  These notes are online.  Hopefully I won't go to fast, but if I do please feel free to raise your hand and tell me to slow down gosh darn it!  If you just want to make sure you got something - feel free to refer back to these notes.  BEWARE: you will learn this better if you try to follow along in class and not copy directly from here - but I assume you can figure out for yourself what methods you want to employ best in this class."
   ]
  },
  {
   "cell_type": "markdown",
   "metadata": {},
   "source": [
    "# 1. Introduction to jupyter notebooks\n",
    "* code vs comments\n",
    "* markdown \"cheat sheet\"\n",
    "* running a cell\n",
    "* using latex to do math equations: $-G M_1 m_2/r^2$ or $- \\frac{G M m}{r^2}$\n",
    "* latex math \"cheat sheet\""
   ]
  },
  {
   "cell_type": "markdown",
   "metadata": {},
   "source": [
    "## 1. Using Python as a calculator\n",
    "It is possible to interact with python in many ways. Let's start with something simple - using this notebook+python as a calculator"
   ]
  },
  {
   "cell_type": "code",
   "execution_count": 4,
   "metadata": {},
   "outputs": [
    {
     "data": {
      "text/plain": [
       "5"
      ]
     },
     "execution_count": 4,
     "metadata": {},
     "output_type": "execute_result"
    }
   ],
   "source": [
    "# lets add 2+3\n",
    "2+3\n",
    "# ALSO: note what I did there with the \"#\" -> this is called a comment, \n",
    "#  and it allows us to add in notes to ourselves OR OTHERS\n",
    "# Commenting is SUPER important to (1) remember what you did and \n",
    "#  (2) tell others that you're working with what you did"
   ]
  },
  {
   "cell_type": "code",
   "execution_count": 5,
   "metadata": {},
   "outputs": [
    {
     "name": "stdout",
     "output_type": "stream",
     "text": [
      "The Zen of Python, by Tim Peters\n",
      "\n",
      "Beautiful is better than ugly.\n",
      "Explicit is better than implicit.\n",
      "Simple is better than complex.\n",
      "Complex is better than complicated.\n",
      "Flat is better than nested.\n",
      "Sparse is better than dense.\n",
      "Readability counts.\n",
      "Special cases aren't special enough to break the rules.\n",
      "Although practicality beats purity.\n",
      "Errors should never pass silently.\n",
      "Unless explicitly silenced.\n",
      "In the face of ambiguity, refuse the temptation to guess.\n",
      "There should be one-- and preferably only one --obvious way to do it.\n",
      "Although that way may not be obvious at first unless you're Dutch.\n",
      "Now is better than never.\n",
      "Although never is often better than *right* now.\n",
      "If the implementation is hard to explain, it's a bad idea.\n",
      "If the implementation is easy to explain, it may be a good idea.\n",
      "Namespaces are one honking great idea -- let's do more of those!\n"
     ]
    }
   ],
   "source": [
    "#In fact, comments are part of a \"good coding practice\"\n",
    "# Python even has the nicities to tell you all about\n",
    "# what is good coding practice:\n",
    "import this"
   ]
  },
  {
   "cell_type": "markdown",
   "metadata": {},
   "source": [
    "The above sentences will be come clearer the more you program in Python! :)"
   ]
  },
  {
   "cell_type": "code",
   "execution_count": 6,
   "metadata": {},
   "outputs": [
    {
     "data": {
      "text/plain": [
       "6"
      ]
     },
     "execution_count": 6,
     "metadata": {},
     "output_type": "execute_result"
    }
   ],
   "source": [
    "2*3"
   ]
  },
  {
   "cell_type": "code",
   "execution_count": 7,
   "metadata": {},
   "outputs": [
    {
     "data": {
      "text/plain": [
       "-1"
      ]
     },
     "execution_count": 7,
     "metadata": {},
     "output_type": "execute_result"
    }
   ],
   "source": [
    "2-3"
   ]
  },
  {
   "cell_type": "code",
   "execution_count": 8,
   "metadata": {},
   "outputs": [
    {
     "data": {
      "text/plain": [
       "2.0"
      ]
     },
     "execution_count": 8,
     "metadata": {},
     "output_type": "execute_result"
    }
   ],
   "source": [
    "4/2"
   ]
  },
  {
   "cell_type": "code",
   "execution_count": 9,
   "metadata": {},
   "outputs": [
    {
     "data": {
      "text/plain": [
       "8"
      ]
     },
     "execution_count": 9,
     "metadata": {},
     "output_type": "execute_result"
    }
   ],
   "source": [
    "# lets say I want to write 2 raised to the power of 3, i.e. 2*2*2 = 8\n",
    "#  python has special syntax for that:\n",
    "2**3"
   ]
  },
  {
   "cell_type": "markdown",
   "metadata": {},
   "source": [
    "Python knows the basic arithmetic operations plus (+), minus (-), times (*), divide (/), and raise to a power (**). It also understands parentheses, and follows the normal rules for order of operations:"
   ]
  },
  {
   "cell_type": "code",
   "execution_count": 10,
   "metadata": {},
   "outputs": [
    {
     "data": {
      "text/plain": [
       "7"
      ]
     },
     "execution_count": 10,
     "metadata": {},
     "output_type": "execute_result"
    }
   ],
   "source": [
    "1+2*3"
   ]
  },
  {
   "cell_type": "code",
   "execution_count": 11,
   "metadata": {},
   "outputs": [
    {
     "data": {
      "text/plain": [
       "9"
      ]
     },
     "execution_count": 11,
     "metadata": {},
     "output_type": "execute_result"
    }
   ],
   "source": [
    "(1+2)*3"
   ]
  },
  {
   "cell_type": "markdown",
   "metadata": {},
   "source": [
    "## 2. Simple variables\n",
    "We can also define variables to store numbers, and we can perform arithmetic on those variables. Variables are just names for boxes that can store values, and on which you can perform various operations. For example:"
   ]
  },
  {
   "cell_type": "code",
   "execution_count": 12,
   "metadata": {},
   "outputs": [],
   "source": [
    "a=4"
   ]
  },
  {
   "cell_type": "code",
   "execution_count": 13,
   "metadata": {},
   "outputs": [
    {
     "data": {
      "text/plain": [
       "5"
      ]
     },
     "execution_count": 13,
     "metadata": {},
     "output_type": "execute_result"
    }
   ],
   "source": [
    "a+1"
   ]
  },
  {
   "cell_type": "code",
   "execution_count": 14,
   "metadata": {},
   "outputs": [
    {
     "data": {
      "text/plain": [
       "4"
      ]
     },
     "execution_count": 14,
     "metadata": {},
     "output_type": "execute_result"
    }
   ],
   "source": [
    "a\n",
    "# note that a itself hasn't changed"
   ]
  },
  {
   "cell_type": "code",
   "execution_count": 15,
   "metadata": {},
   "outputs": [
    {
     "data": {
      "text/plain": [
       "2.0"
      ]
     },
     "execution_count": 15,
     "metadata": {},
     "output_type": "execute_result"
    }
   ],
   "source": [
    "a/2"
   ]
  },
  {
   "cell_type": "code",
   "execution_count": 16,
   "metadata": {},
   "outputs": [],
   "source": [
    "# now I can change the value of a by reassigning it to its original value + 1\n",
    "a = a+1\n",
    "# short hand is a += 1"
   ]
  },
  {
   "cell_type": "code",
   "execution_count": 17,
   "metadata": {},
   "outputs": [
    {
     "data": {
      "text/plain": [
       "5"
      ]
     },
     "execution_count": 17,
     "metadata": {},
     "output_type": "execute_result"
    }
   ],
   "source": [
    "a"
   ]
  },
  {
   "cell_type": "code",
   "execution_count": 18,
   "metadata": {},
   "outputs": [
    {
     "data": {
      "text/plain": [
       "25"
      ]
     },
     "execution_count": 18,
     "metadata": {},
     "output_type": "execute_result"
    }
   ],
   "source": [
    "a**2"
   ]
  },
  {
   "cell_type": "markdown",
   "metadata": {},
   "source": [
    "There's a subtle but important point to notice here, which is the meaning of the equal sign. In mathematics, the statement that a = b is a statement that two things are equal, and it can be either true or false. In python, as in almost all other programming languages, a = b means something different. It means that the value of the variable a should be changed to whatever value b has. Thus the statement we made a = a + 1 is not an assertion (which is obviously false) that a is equal to itself plus one. It is an instruction to the computer to take the variable a, and 1 to it, and then store the result back into the variable a. In this example, it therefore changes the value of a from 4 to 5.\n",
    "\n",
    "One more point regrading assignments: the fact that = means something different in programming than it does in mathematics implies that the statements a = b and b = a will have very different effects. The first one causes the computer to forget whatever is stored in a and replace it by whatever is stored in b. The second statement has the opposite effect: the computer forgets what is stored in b, and replaces it by whatever is stored in a.\n",
    "\n",
    "For example, I can use a double equals sign to \"test\" whether or not a is equal to some value: "
   ]
  },
  {
   "cell_type": "code",
   "execution_count": 19,
   "metadata": {},
   "outputs": [
    {
     "data": {
      "text/plain": [
       "True"
      ]
     },
     "execution_count": 19,
     "metadata": {},
     "output_type": "execute_result"
    }
   ],
   "source": [
    "a == 5"
   ]
  },
  {
   "cell_type": "code",
   "execution_count": 20,
   "metadata": {},
   "outputs": [
    {
     "data": {
      "text/plain": [
       "False"
      ]
     },
     "execution_count": 20,
     "metadata": {},
     "output_type": "execute_result"
    }
   ],
   "source": [
    "a == 6"
   ]
  },
  {
   "cell_type": "markdown",
   "metadata": {},
   "source": [
    "More on this other form of an equal sign when we get to flow control -> stay tuned!"
   ]
  },
  {
   "cell_type": "markdown",
   "metadata": {},
   "source": [
    "The variable a that we have defined is an integer, or int for short. We can find this out by asking python:"
   ]
  },
  {
   "cell_type": "code",
   "execution_count": 21,
   "metadata": {},
   "outputs": [
    {
     "data": {
      "text/plain": [
       "int"
      ]
     },
     "execution_count": 21,
     "metadata": {},
     "output_type": "execute_result"
    }
   ],
   "source": [
    "type(a)"
   ]
  },
  {
   "cell_type": "markdown",
   "metadata": {},
   "source": [
    "Integers are exactly what they sound like: they hold whole numbers, and operations involving them and other whole numbers will always yield whole numbers. This is an important point:"
   ]
  },
  {
   "cell_type": "code",
   "execution_count": 22,
   "metadata": {},
   "outputs": [
    {
     "data": {
      "text/plain": [
       "2.5"
      ]
     },
     "execution_count": 22,
     "metadata": {},
     "output_type": "execute_result"
    }
   ],
   "source": [
    "a/2"
   ]
  },
  {
   "cell_type": "markdown",
   "metadata": {},
   "source": [
    "Why is 5/2 giving 2? The reason is that we're dividing integers, and the result is required to be an integer. In this case, python rounds down to the nearest integer. If we want to get a non-integer result, we need to make the operation involve a non-integer. We can do this just by changing the 2 to 2.0, or even just 2., since the trailing zero is assumed:"
   ]
  },
  {
   "cell_type": "code",
   "execution_count": 23,
   "metadata": {},
   "outputs": [
    {
     "data": {
      "text/plain": [
       "2.5"
      ]
     },
     "execution_count": 23,
     "metadata": {},
     "output_type": "execute_result"
    }
   ],
   "source": [
    "a/2."
   ]
  },
  {
   "cell_type": "markdown",
   "metadata": {},
   "source": [
    "If we assign this to a variable, we will have a new type of variable: a floating point number, or float for short."
   ]
  },
  {
   "cell_type": "code",
   "execution_count": 24,
   "metadata": {},
   "outputs": [
    {
     "data": {
      "text/plain": [
       "float"
      ]
     },
     "execution_count": 24,
     "metadata": {},
     "output_type": "execute_result"
    }
   ],
   "source": [
    "b = a/2.\n",
    "type(b)"
   ]
  },
  {
   "cell_type": "markdown",
   "metadata": {},
   "source": [
    "A floating point variable is capable of holding real numbers. Why have different types of variables for integers versus non-integer real numbers? In mathematics there is no need to make the distinction, of course: all integers are real numbers, so it would seem that there should be no reason to have a separate type of variable to hold integers. However, this ignores the way computers work. On a computer, operations involving integers are exact: 1 + 1 is exactly 2. However, operations on real numbers are necessarily inexact. I say necessarily because a real number is capable of having an arbitrary number of decimal places. The number pi contains infinitely many digits, and never repeats, but my computer only comes with a finite amount of memory and processor power. Even rational numbers run into this problem, because their decimal representation (or to be exact their representation in binary) may be an infinitely repeating sequence. Thus it is not possible to perform operations on arbitrary real numbers to exact precision. Instead, arithmetic operations on floating point numbers are approximate, with the level of accuracy determined by factors like how much memory one wants to devote to storing digits, and how much processor time one wants to spend manipulating them. On most computers a python floating point number is accurate to about 1 in 10^15, but this depends on both the architecture and on the operations you perform. That's enough accuracy for many purposes, but there are plenty of situations (for example counting things) when we really want to do things precisely, and we want 1 + 1 to be exactly 2. That's what integers are there for."
   ]
  },
  {
   "cell_type": "markdown",
   "metadata": {},
   "source": [
    "A third type of very useful variable is strings, abbreviated str. A string is a sequence of characters, and one can declare that something is a string by putting characters in quotation marks (either \" or ' is fine):"
   ]
  },
  {
   "cell_type": "code",
   "execution_count": 25,
   "metadata": {},
   "outputs": [],
   "source": [
    "c = 'alice'"
   ]
  },
  {
   "cell_type": "code",
   "execution_count": 26,
   "metadata": {},
   "outputs": [
    {
     "data": {
      "text/plain": [
       "str"
      ]
     },
     "execution_count": 26,
     "metadata": {},
     "output_type": "execute_result"
    }
   ],
   "source": [
    "type(c)"
   ]
  },
  {
   "cell_type": "markdown",
   "metadata": {},
   "source": [
    "The quotation marks are important here. To see why, try issuing the command without them:\n"
   ]
  },
  {
   "cell_type": "code",
   "execution_count": 27,
   "metadata": {},
   "outputs": [
    {
     "ename": "NameError",
     "evalue": "name 'alice' is not defined",
     "output_type": "error",
     "traceback": [
      "\u001b[0;31m---------------------------------------------------------------------------\u001b[0m",
      "\u001b[0;31mNameError\u001b[0m                                 Traceback (most recent call last)",
      "\u001b[0;32m<ipython-input-27-8f1009618277>\u001b[0m in \u001b[0;36m<module>\u001b[0;34m\u001b[0m\n\u001b[0;32m----> 1\u001b[0;31m \u001b[0mc\u001b[0m\u001b[0;34m=\u001b[0m\u001b[0malice\u001b[0m\u001b[0;34m\u001b[0m\u001b[0;34m\u001b[0m\u001b[0m\n\u001b[0m",
      "\u001b[0;31mNameError\u001b[0m: name 'alice' is not defined"
     ]
    }
   ],
   "source": [
    "c=alice"
   ]
  },
  {
   "cell_type": "markdown",
   "metadata": {},
   "source": [
    "This is an error message, complaining that the computer doesn't know what alice is. The problem is that, without the quotation marks, python thinks that alice is the name of a variable, and complains when it can't find a variable by that name. Putting the quotation marks tells python that we mean a string, not a variable named alice.\n",
    "\n",
    "Obviously we can't add strings in the same sense that we add numbers, but we can still do operations on them. The plus operation concatenates two strings together:"
   ]
  },
  {
   "cell_type": "code",
   "execution_count": 28,
   "metadata": {},
   "outputs": [],
   "source": [
    "d = 'bob'"
   ]
  },
  {
   "cell_type": "code",
   "execution_count": 29,
   "metadata": {},
   "outputs": [
    {
     "data": {
      "text/plain": [
       "'alicebob'"
      ]
     },
     "execution_count": 29,
     "metadata": {},
     "output_type": "execute_result"
    }
   ],
   "source": [
    "c+d"
   ]
  },
  {
   "cell_type": "markdown",
   "metadata": {},
   "source": [
    "There are a vast number of other things we can do with strings as well, which we'll discuss later.\n",
    "\n",
    "In addition to integers, floats, and strings, there are three other types of variables worth mentioning.  Here we'll just mention the variable type of Boolean variable (named after George Boole), which represents a logical value. Boolean variables can be either True or False:\n"
   ]
  },
  {
   "cell_type": "code",
   "execution_count": 30,
   "metadata": {},
   "outputs": [],
   "source": [
    "g=True"
   ]
  },
  {
   "cell_type": "code",
   "execution_count": 31,
   "metadata": {},
   "outputs": [
    {
     "data": {
      "text/plain": [
       "bool"
      ]
     },
     "execution_count": 31,
     "metadata": {},
     "output_type": "execute_result"
    }
   ],
   "source": [
    "type(g)"
   ]
  },
  {
   "cell_type": "markdown",
   "metadata": {},
   "source": [
    "Boolean variables can have logic operations performed on them, like not, and, and or:\n"
   ]
  },
  {
   "cell_type": "code",
   "execution_count": 32,
   "metadata": {},
   "outputs": [
    {
     "data": {
      "text/plain": [
       "False"
      ]
     },
     "execution_count": 32,
     "metadata": {},
     "output_type": "execute_result"
    }
   ],
   "source": [
    "not g"
   ]
  },
  {
   "cell_type": "code",
   "execution_count": 33,
   "metadata": {},
   "outputs": [],
   "source": [
    "h = False"
   ]
  },
  {
   "cell_type": "code",
   "execution_count": 34,
   "metadata": {},
   "outputs": [
    {
     "data": {
      "text/plain": [
       "False"
      ]
     },
     "execution_count": 34,
     "metadata": {},
     "output_type": "execute_result"
    }
   ],
   "source": [
    "g and h"
   ]
  },
  {
   "cell_type": "code",
   "execution_count": 35,
   "metadata": {},
   "outputs": [
    {
     "data": {
      "text/plain": [
       "True"
      ]
     },
     "execution_count": 35,
     "metadata": {},
     "output_type": "execute_result"
    }
   ],
   "source": [
    "g or h"
   ]
  },
  {
   "cell_type": "markdown",
   "metadata": {},
   "source": [
    "The final type of variable is None. This is a special value that is used to designate something that has not been assigned yet, or is otherwise undefined.\n"
   ]
  },
  {
   "cell_type": "code",
   "execution_count": 36,
   "metadata": {},
   "outputs": [],
   "source": [
    "j = None"
   ]
  },
  {
   "cell_type": "code",
   "execution_count": 37,
   "metadata": {},
   "outputs": [],
   "source": [
    "j\n",
    "# note: nothing prints out since this variable isn't anything!"
   ]
  },
  {
   "cell_type": "markdown",
   "metadata": {},
   "source": [
    "## 3. One dimensional arrays with numpy\n",
    "The variables we have dealt with so far are fairly simple. They represent single values. However, for scientific or numeric purposes we often want to deal with large collections of numbers.  We can try to do this with a \"natively\" supported Python datastructure called a list:"
   ]
  },
  {
   "cell_type": "code",
   "execution_count": 38,
   "metadata": {},
   "outputs": [
    {
     "data": {
      "text/plain": [
       "[1, 2, 3, 4]"
      ]
     },
     "execution_count": 38,
     "metadata": {},
     "output_type": "execute_result"
    }
   ],
   "source": [
    "myList = [1, 2,3, 4]\n",
    "myList"
   ]
  },
  {
   "cell_type": "markdown",
   "metadata": {},
   "source": [
    "You can do some basic things with lists like add to each element:"
   ]
  },
  {
   "cell_type": "code",
   "execution_count": 39,
   "metadata": {},
   "outputs": [
    {
     "data": {
      "text/plain": [
       "[6, 2, 3, 4]"
      ]
     },
     "execution_count": 39,
     "metadata": {},
     "output_type": "execute_result"
    }
   ],
   "source": [
    "myList[0] += 5\n",
    "myList\n",
    "# so now you can see that the first element of the list is now 1+5 = 6"
   ]
  },
  {
   "cell_type": "markdown",
   "metadata": {},
   "source": [
    "You can also do fun things with lists like combine groups of objects with different types:"
   ]
  },
  {
   "cell_type": "code",
   "execution_count": 40,
   "metadata": {},
   "outputs": [
    {
     "data": {
      "text/plain": [
       "['Bob', 'Linda', 5, 6, True]"
      ]
     },
     "execution_count": 40,
     "metadata": {},
     "output_type": "execute_result"
    }
   ],
   "source": [
    "myList = [\"Bob\", \"Linda\", 5, 6, True]\n",
    "myList"
   ]
  },
  {
   "cell_type": "markdown",
   "metadata": {},
   "source": [
    "However, lists don't support adding of numbers across the whole array, or vector operations like dot products.  \n",
    "\n",
    "Formally, an array is a collection of objects that all have the same type: a collection of integers, or floats, or bools, or anything else. In the simplest case, these are simply arranged into a numbered list, one after another. Think of an array as a box with a bunch of numbered compartments, each of which can hold something. For example, here is a box with eight compartments."
   ]
  },
  {
   "cell_type": "markdown",
   "metadata": {},
   "source": [
    "![Empty array pic](https://sites.google.com/a/ucsc.edu/krumholz/_/rsrc/1387486784582/teaching-and-courses/python14/class-1/array_fig1.png)"
   ]
  },
  {
   "cell_type": "markdown",
   "metadata": {},
   "source": [
    "We can turn this abstract idea into code with the numpy package, as Python doesn't natively support these types of objects. Lets start by importing numpy:"
   ]
  },
  {
   "cell_type": "code",
   "execution_count": 41,
   "metadata": {},
   "outputs": [],
   "source": [
    "import numpy as np # here we are importing as \"np\" just for brevity - you'll see that a lot\n",
    "# note: if you get an error here try:\n",
    "#!pip install numpy \n",
    "# *before* you try to import anything"
   ]
  },
  {
   "cell_type": "markdown",
   "metadata": {},
   "source": [
    "We can start by initializing an empty array with 8 entries, to match our image above.  There are several ways of doing this."
   ]
  },
  {
   "cell_type": "code",
   "execution_count": 42,
   "metadata": {},
   "outputs": [
    {
     "data": {
      "text/plain": [
       "array([0.00000000e+000, 5.02034658e+175, 6.52745631e-038, 2.21749640e-056,\n",
       "       9.51331656e+169, 6.23368544e+174, 1.47763641e+248, 1.16096346e-028])"
      ]
     },
     "execution_count": 42,
     "metadata": {},
     "output_type": "execute_result"
    }
   ],
   "source": [
    "# we can start by calling the \"empty\" function\n",
    "array1 = np.empty(8)\n",
    "array1\n",
    "# here you can see that we have mostly zero, or almost zeros in our array"
   ]
  },
  {
   "cell_type": "code",
   "execution_count": 43,
   "metadata": {},
   "outputs": [
    {
     "data": {
      "text/plain": [
       "array([0., 0., 0., 0., 0., 0., 0., 0.])"
      ]
     },
     "execution_count": 43,
     "metadata": {},
     "output_type": "execute_result"
    }
   ],
   "source": [
    "# we can also specifically initial it with zeros:\n",
    "array2 = np.zeros(8)\n",
    "array2\n",
    "# so this looks a little nicer"
   ]
  },
  {
   "cell_type": "code",
   "execution_count": 44,
   "metadata": {},
   "outputs": [
    {
     "data": {
      "text/plain": [
       "array([], dtype=float64)"
      ]
     },
     "execution_count": 44,
     "metadata": {},
     "output_type": "execute_result"
    }
   ],
   "source": [
    "# we can also create a *truely* empty array like so:\n",
    "array3 = np.array([])\n",
    "array3"
   ]
  },
  {
   "cell_type": "code",
   "execution_count": 45,
   "metadata": {},
   "outputs": [
    {
     "data": {
      "text/plain": [
       "array([0.])"
      ]
     },
     "execution_count": 45,
     "metadata": {},
     "output_type": "execute_result"
    }
   ],
   "source": [
    "# then, to add to this array, we can \"append\" to the end of it like so:\n",
    "array3 = np.append(array3, 0)\n",
    "array3"
   ]
  },
  {
   "cell_type": "markdown",
   "metadata": {},
   "source": [
    "Of course, we'd have to do the above 8 times and if we do this by hand it would be a little time consuming.  We'll talk about how to do such an operation more efficiently using a \"for loop\" a little later in class."
   ]
  },
  {
   "cell_type": "markdown",
   "metadata": {},
   "source": [
    "Let's say we want to fill our array with the following elements:\n",
    "\n",
    "![ArrayFilled](https://sites.google.com/a/ucsc.edu/krumholz/_/rsrc/1387487191900/teaching-and-courses/python14/class-1/array_fig2.png)"
   ]
  },
  {
   "cell_type": "markdown",
   "metadata": {},
   "source": [
    "We can do this following the few different methods we discussed.  We could start by calling \"np.empty\" or \"np.zeros\" and then fill each element one at a time, or we can convert a *list* type into an *array* type on initilization of our array.  For example:\n"
   ]
  },
  {
   "cell_type": "code",
   "execution_count": 46,
   "metadata": {},
   "outputs": [
    {
     "data": {
      "text/plain": [
       "array([10, 11, 12, 13, 14, 15, 16, 17])"
      ]
     },
     "execution_count": 46,
     "metadata": {},
     "output_type": "execute_result"
    }
   ],
   "source": [
    "array4 = np.array([10,11,12,13,14,15,16,17])\n",
    "array4"
   ]
  },
  {
   "cell_type": "markdown",
   "metadata": {},
   "source": [
    "There are even functions in numpy we can use to create new types of arrays.  For example, we could have also created this same array as follows:"
   ]
  },
  {
   "cell_type": "code",
   "execution_count": 47,
   "metadata": {},
   "outputs": [
    {
     "data": {
      "text/plain": [
       "array([10, 11, 12, 13, 14, 15, 16, 17])"
      ]
     },
     "execution_count": 47,
     "metadata": {},
     "output_type": "execute_result"
    }
   ],
   "source": [
    "array5=np.arange(10,18,1)\n",
    "array5\n",
    "# note that here I had to specify 10-18 or one more than the array I wanted"
   ]
  },
  {
   "cell_type": "markdown",
   "metadata": {},
   "source": [
    "We can also make this array with different spacing:"
   ]
  },
  {
   "cell_type": "code",
   "execution_count": 48,
   "metadata": {},
   "outputs": [
    {
     "data": {
      "text/plain": [
       "array([10, 12, 14, 16])"
      ]
     },
     "execution_count": 48,
     "metadata": {},
     "output_type": "execute_result"
    }
   ],
   "source": [
    "array6 = np.arange(10,18,2)\n",
    "array6"
   ]
  },
  {
   "cell_type": "markdown",
   "metadata": {},
   "source": [
    "We can compare operations with arrays and lists, for example:"
   ]
  },
  {
   "cell_type": "code",
   "execution_count": 49,
   "metadata": {},
   "outputs": [],
   "source": [
    "myList = [5, 6, 7]\n",
    "myArray = np.array([5,6,7])"
   ]
  },
  {
   "cell_type": "code",
   "execution_count": 50,
   "metadata": {},
   "outputs": [
    {
     "data": {
      "text/plain": [
       "([5, 6, 7], array([5, 6, 7]))"
      ]
     },
     "execution_count": 50,
     "metadata": {},
     "output_type": "execute_result"
    }
   ],
   "source": [
    "myList, myArray"
   ]
  },
  {
   "cell_type": "markdown",
   "metadata": {},
   "source": [
    "So, things look very similar.  Lets try some operations with them:"
   ]
  },
  {
   "cell_type": "code",
   "execution_count": 51,
   "metadata": {},
   "outputs": [
    {
     "data": {
      "text/plain": [
       "(5, 5)"
      ]
     },
     "execution_count": 51,
     "metadata": {},
     "output_type": "execute_result"
    }
   ],
   "source": [
    "myList[0], myArray[0]"
   ]
  },
  {
   "cell_type": "markdown",
   "metadata": {},
   "source": [
    "So, they look very much the same... lets try some more complicated things."
   ]
  },
  {
   "cell_type": "code",
   "execution_count": 52,
   "metadata": {},
   "outputs": [
    {
     "data": {
      "text/plain": [
       "(10, 10)"
      ]
     },
     "execution_count": 52,
     "metadata": {},
     "output_type": "execute_result"
    }
   ],
   "source": [
    "myList[0] + 5, myArray[0] + 5"
   ]
  },
  {
   "cell_type": "code",
   "execution_count": 53,
   "metadata": {},
   "outputs": [
    {
     "ename": "TypeError",
     "evalue": "can only concatenate list (not \"int\") to list",
     "output_type": "error",
     "traceback": [
      "\u001b[0;31m---------------------------------------------------------------------------\u001b[0m",
      "\u001b[0;31mTypeError\u001b[0m                                 Traceback (most recent call last)",
      "\u001b[0;32m<ipython-input-53-d9d06ba7e344>\u001b[0m in \u001b[0;36m<module>\u001b[0;34m\u001b[0m\n\u001b[1;32m      1\u001b[0m \u001b[0mmyArray\u001b[0m \u001b[0;34m+\u001b[0m \u001b[0;36m5\u001b[0m\u001b[0;34m\u001b[0m\u001b[0;34m\u001b[0m\u001b[0m\n\u001b[0;32m----> 2\u001b[0;31m \u001b[0mmyList\u001b[0m \u001b[0;34m+\u001b[0m \u001b[0;36m5\u001b[0m\u001b[0;34m\u001b[0m\u001b[0;34m\u001b[0m\u001b[0m\n\u001b[0m",
      "\u001b[0;31mTypeError\u001b[0m: can only concatenate list (not \"int\") to list"
     ]
    }
   ],
   "source": [
    "myArray + 5\n",
    "myList + 5"
   ]
  },
  {
   "cell_type": "markdown",
   "metadata": {},
   "source": [
    "So here we can see that while we can add a number to an array, we can't just add a number to a list.  What does adding a number to myArray look like?"
   ]
  },
  {
   "cell_type": "code",
   "execution_count": 54,
   "metadata": {},
   "outputs": [
    {
     "data": {
      "text/plain": [
       "(array([5, 6, 7]), array([10, 11, 12]))"
      ]
     },
     "execution_count": 54,
     "metadata": {},
     "output_type": "execute_result"
    }
   ],
   "source": [
    "myArray, myArray+5"
   ]
  },
  {
   "cell_type": "markdown",
   "metadata": {},
   "source": [
    "So we can see that adding an number to an array just increases all elements by the number."
   ]
  },
  {
   "cell_type": "code",
   "execution_count": 55,
   "metadata": {},
   "outputs": [
    {
     "data": {
      "text/plain": [
       "array([ 6,  8, 10])"
      ]
     },
     "execution_count": 55,
     "metadata": {},
     "output_type": "execute_result"
    }
   ],
   "source": [
    "# we can also increament element by element\n",
    "myArray + [1, 2, 3]"
   ]
  },
  {
   "cell_type": "markdown",
   "metadata": {},
   "source": [
    "There are also several differences in \"native\" operations with arrays vs lists.  We can learn more about this by using a tab complete."
   ]
  },
  {
   "cell_type": "code",
   "execution_count": 56,
   "metadata": {},
   "outputs": [
    {
     "ename": "SyntaxError",
     "evalue": "invalid syntax (<ipython-input-56-2e2148977102>, line 1)",
     "output_type": "error",
     "traceback": [
      "\u001b[0;36m  File \u001b[0;32m\"<ipython-input-56-2e2148977102>\"\u001b[0;36m, line \u001b[0;32m1\u001b[0m\n\u001b[0;31m    myList.\u001b[0m\n\u001b[0m           ^\u001b[0m\n\u001b[0;31mSyntaxError\u001b[0m\u001b[0;31m:\u001b[0m invalid syntax\n"
     ]
    }
   ],
   "source": [
    "myList."
   ]
  },
  {
   "cell_type": "code",
   "execution_count": 57,
   "metadata": {},
   "outputs": [
    {
     "ename": "SyntaxError",
     "evalue": "invalid syntax (<ipython-input-57-bd91a5abea5e>, line 1)",
     "output_type": "error",
     "traceback": [
      "\u001b[0;36m  File \u001b[0;32m\"<ipython-input-57-bd91a5abea5e>\"\u001b[0;36m, line \u001b[0;32m1\u001b[0m\n\u001b[0;31m    myArray.\u001b[0m\n\u001b[0m            ^\u001b[0m\n\u001b[0;31mSyntaxError\u001b[0m\u001b[0;31m:\u001b[0m invalid syntax\n"
     ]
    }
   ],
   "source": [
    "myArray."
   ]
  },
  {
   "cell_type": "markdown",
   "metadata": {},
   "source": [
    "As you can see myArray supports a lot more operations.  For example:"
   ]
  },
  {
   "cell_type": "code",
   "execution_count": 58,
   "metadata": {},
   "outputs": [
    {
     "data": {
      "text/plain": [
       "(array([5, 6, 7]), 18)"
      ]
     },
     "execution_count": 58,
     "metadata": {},
     "output_type": "execute_result"
    }
   ],
   "source": [
    "# we can sum all elements of our array\n",
    "myArray, myArray.sum()"
   ]
  },
  {
   "cell_type": "code",
   "execution_count": 59,
   "metadata": {},
   "outputs": [
    {
     "data": {
      "text/plain": [
       "6.0"
      ]
     },
     "execution_count": 59,
     "metadata": {},
     "output_type": "execute_result"
    }
   ],
   "source": [
    "# or we can take the mean value:\n",
    "myArray.mean()"
   ]
  },
  {
   "cell_type": "code",
   "execution_count": 60,
   "metadata": {},
   "outputs": [
    {
     "data": {
      "text/plain": [
       "0.816496580927726"
      ]
     },
     "execution_count": 60,
     "metadata": {},
     "output_type": "execute_result"
    }
   ],
   "source": [
    "# or take things like the standard deviation, which\n",
    "#  is just a measurement of how much the array varies\n",
    "#  overall from the mean\n",
    "myArray.std()"
   ]
  },
  {
   "cell_type": "markdown",
   "metadata": {},
   "source": [
    "We can do some more interesting things with arrays, for example, specify what their \"type\" is:"
   ]
  },
  {
   "cell_type": "code",
   "execution_count": 61,
   "metadata": {},
   "outputs": [
    {
     "data": {
      "text/plain": [
       "array([0., 0., 0., 0., 0.])"
      ]
     },
     "execution_count": 61,
     "metadata": {},
     "output_type": "execute_result"
    }
   ],
   "source": [
    "myFloatArray = np.zeros([5])\n",
    "myFloatArray"
   ]
  },
  {
   "cell_type": "markdown",
   "metadata": {},
   "source": [
    "Compare this by if we force this array to be integer type:"
   ]
  },
  {
   "cell_type": "code",
   "execution_count": 62,
   "metadata": {},
   "outputs": [
    {
     "data": {
      "text/plain": [
       "array([0, 0, 0, 0, 0])"
      ]
     },
     "execution_count": 62,
     "metadata": {},
     "output_type": "execute_result"
    }
   ],
   "source": [
    "myIntArray = np.zeros([5],dtype='int')\n",
    "myIntArray\n",
    "# we can see that there are no decimals after the zeros\n",
    "#   this is because this array will only deal with \n",
    "#  whole,\"integer\" numbers"
   ]
  },
  {
   "cell_type": "markdown",
   "metadata": {},
   "source": [
    "How do we access elements of an array?  Lets see a few different ways."
   ]
  },
  {
   "cell_type": "code",
   "execution_count": 63,
   "metadata": {},
   "outputs": [
    {
     "data": {
      "text/plain": [
       "array([0, 1, 2, 3, 4, 5, 6, 7, 8, 9])"
      ]
     },
     "execution_count": 63,
     "metadata": {},
     "output_type": "execute_result"
    }
   ],
   "source": [
    "myArray = np.arange(0,10,1)\n",
    "myArray"
   ]
  },
  {
   "cell_type": "code",
   "execution_count": 64,
   "metadata": {},
   "outputs": [
    {
     "data": {
      "text/plain": [
       "array([0, 1, 2, 3, 4])"
      ]
     },
     "execution_count": 64,
     "metadata": {},
     "output_type": "execute_result"
    }
   ],
   "source": [
    "# just the first few elements:\n",
    "myArray[0:5]"
   ]
  },
  {
   "cell_type": "code",
   "execution_count": 65,
   "metadata": {},
   "outputs": [
    {
     "data": {
      "text/plain": [
       "array([1, 2, 3, 4, 5, 6, 7, 8, 9])"
      ]
     },
     "execution_count": 65,
     "metadata": {},
     "output_type": "execute_result"
    }
   ],
   "source": [
    "# all but the first element:\n",
    "myArray[1:]"
   ]
  },
  {
   "cell_type": "code",
   "execution_count": 66,
   "metadata": {},
   "outputs": [
    {
     "data": {
      "text/plain": [
       "array([9, 8, 7, 6, 5, 4, 3, 2, 1, 0])"
      ]
     },
     "execution_count": 66,
     "metadata": {},
     "output_type": "execute_result"
    }
   ],
   "source": [
    "# in reverse:\n",
    "myArray[::-1]"
   ]
  },
  {
   "cell_type": "code",
   "execution_count": 67,
   "metadata": {},
   "outputs": [
    {
     "data": {
      "text/plain": [
       "array([0, 1, 2, 3, 4, 5, 6, 7])"
      ]
     },
     "execution_count": 67,
     "metadata": {},
     "output_type": "execute_result"
    }
   ],
   "source": [
    "# all but the last 2 elements:\n",
    "myArray[:-2]"
   ]
  },
  {
   "cell_type": "code",
   "execution_count": 68,
   "metadata": {},
   "outputs": [
    {
     "data": {
      "text/plain": [
       "array([2, 3, 4, 5, 6])"
      ]
     },
     "execution_count": 68,
     "metadata": {},
     "output_type": "execute_result"
    }
   ],
   "source": [
    "# elements between 2 & 7\n",
    "myArray[2:7]\n",
    "# note: *is* included, but not 7"
   ]
  },
  {
   "cell_type": "markdown",
   "metadata": {},
   "source": [
    "## Multiple dimension arrays\n",
    "Arrays aren't just a list of numbers, we can also make *matricies* of arrays.  \n",
    "\n",
    "This is just a fancy way of saying \"arrays with multiple dimensions\".\n",
    "\n",
    "For example, lets say we want to make a set of numbers that has entries along a row *and* column.  Something that looks like this:\n",
    "\n",
    "![ExampleMatrix](https://sites.google.com/a/ucsc.edu/krumholz/_/rsrc/1387489367023/teaching-and-courses/python14/class-1/array_fig4.png)"
   ]
  },
  {
   "cell_type": "markdown",
   "metadata": {},
   "source": [
    "We can do this with the following call:"
   ]
  },
  {
   "cell_type": "code",
   "execution_count": 69,
   "metadata": {},
   "outputs": [
    {
     "data": {
      "text/plain": [
       "array([[10, 11, 12, 13, 14, 15, 16, 17],\n",
       "       [20, 21, 22, 23, 24, 25, 26, 27],\n",
       "       [30, 31, 32, 33, 34, 35, 36, 37]])"
      ]
     },
     "execution_count": 69,
     "metadata": {},
     "output_type": "execute_result"
    }
   ],
   "source": [
    "x2d=np.array([[10,11,12,13,14,15,16,17], [20,21,22,23,24,25,26,27], [30, 31, 32, 33, 34, 35, 36, 37]])\n",
    "x2d"
   ]
  },
  {
   "cell_type": "markdown",
   "metadata": {},
   "source": [
    "Now note, we can use some of the same array calls we used before:"
   ]
  },
  {
   "cell_type": "code",
   "execution_count": 70,
   "metadata": {},
   "outputs": [
    {
     "data": {
      "text/plain": [
       "array([10, 11, 12, 13, 14, 15, 16, 17])"
      ]
     },
     "execution_count": 70,
     "metadata": {},
     "output_type": "execute_result"
    }
   ],
   "source": [
    "x2d[0,:]"
   ]
  },
  {
   "cell_type": "code",
   "execution_count": 71,
   "metadata": {},
   "outputs": [
    {
     "data": {
      "text/plain": [
       "array([10, 20, 30])"
      ]
     },
     "execution_count": 71,
     "metadata": {},
     "output_type": "execute_result"
    }
   ],
   "source": [
    "x2d[:,0]"
   ]
  },
  {
   "cell_type": "code",
   "execution_count": 72,
   "metadata": {},
   "outputs": [
    {
     "data": {
      "text/plain": [
       "array([[20, 21, 22, 23, 24, 25, 26, 27],\n",
       "       [30, 31, 32, 33, 34, 35, 36, 37]])"
      ]
     },
     "execution_count": 72,
     "metadata": {},
     "output_type": "execute_result"
    }
   ],
   "source": [
    "x2d[1:,:]"
   ]
  },
  {
   "cell_type": "markdown",
   "metadata": {},
   "source": [
    "We can even use functions like zeros to make multi-dimensional arrays with all entries equal to zero:"
   ]
  },
  {
   "cell_type": "code",
   "execution_count": 73,
   "metadata": {},
   "outputs": [
    {
     "data": {
      "text/plain": [
       "array([[0., 0., 0., 0., 0., 0., 0.],\n",
       "       [0., 0., 0., 0., 0., 0., 0.],\n",
       "       [0., 0., 0., 0., 0., 0., 0.]])"
      ]
     },
     "execution_count": 73,
     "metadata": {},
     "output_type": "execute_result"
    }
   ],
   "source": [
    "x2d2 = np.zeros((3,7))\n",
    "x2d2"
   ]
  },
  {
   "cell_type": "markdown",
   "metadata": {},
   "source": [
    "Once you've defined an array, you have a few ways to get info about the array.  We used \"mean\" above, but you might also want to check that its shape is what you think it should be (I do this a lot!):"
   ]
  },
  {
   "cell_type": "code",
   "execution_count": 74,
   "metadata": {},
   "outputs": [
    {
     "data": {
      "text/plain": [
       "(3, 8)"
      ]
     },
     "execution_count": 74,
     "metadata": {},
     "output_type": "execute_result"
    }
   ],
   "source": [
    "x2d.shape"
   ]
  },
  {
   "cell_type": "markdown",
   "metadata": {},
   "source": [
    "There are *many* ways to manipulate arrays and call them and if you're feeling overwhelmed at this point, that is ok! We'll get plenty of practice using these in the future."
   ]
  },
  {
   "cell_type": "markdown",
   "metadata": {},
   "source": [
    "# 4. Dictionaries\n",
    "There is one more data type that you might come across in Python a dictionary/directory.  I think it might be called a \"directory\" but I've always said dictionary and it might be hard to change at this point :)\n",
    "\n",
    "For brevity I'll just be calling it a \"dict\" anyway!"
   ]
  },
  {
   "cell_type": "code",
   "execution_count": 75,
   "metadata": {},
   "outputs": [],
   "source": [
    "# the calling sequence is a little weird, but its essentially a way to \"name\" components of our dict\n",
    "myDict = {\"one\":1, \"A string\":\"My String Here\", \"array\":np.array([5,6,6])}"
   ]
  },
  {
   "cell_type": "markdown",
   "metadata": {},
   "source": [
    "Now we can call each of these things by name:"
   ]
  },
  {
   "cell_type": "code",
   "execution_count": 76,
   "metadata": {},
   "outputs": [
    {
     "data": {
      "text/plain": [
       "1"
      ]
     },
     "execution_count": 76,
     "metadata": {},
     "output_type": "execute_result"
    }
   ],
   "source": [
    "myDict[\"one\"]"
   ]
  },
  {
   "cell_type": "code",
   "execution_count": 77,
   "metadata": {},
   "outputs": [
    {
     "data": {
      "text/plain": [
       "'My String Here'"
      ]
     },
     "execution_count": 77,
     "metadata": {},
     "output_type": "execute_result"
    }
   ],
   "source": [
    "myDict[\"A string\"]"
   ]
  },
  {
   "cell_type": "code",
   "execution_count": 78,
   "metadata": {},
   "outputs": [
    {
     "data": {
      "text/plain": [
       "array([5, 6, 6])"
      ]
     },
     "execution_count": 78,
     "metadata": {},
     "output_type": "execute_result"
    }
   ],
   "source": [
    "myDict[\"array\"]"
   ]
  },
  {
   "cell_type": "markdown",
   "metadata": {},
   "source": [
    "In this course we'll be dealing mostly with arrays, and a little bit with lists & dicts - so if the data structures like dicts or \"sets\", which we didn't cover but you can read up on your own if you're super curious, seem weird that is ok!  You will have many opportunties to work with these sorts of things more as you go on in your programming life."
   ]
  },
  {
   "cell_type": "code",
   "execution_count": null,
   "metadata": {},
   "outputs": [],
   "source": []
  },
  {
   "cell_type": "markdown",
   "metadata": {},
   "source": [
    "# 5. Simple plots with arrays\n",
    "Lets now start to make some plots with our arrays.  To do this, we have to import a plotting library - this is just like what we did to import our numpy library to help us do stuff with arrays."
   ]
  },
  {
   "cell_type": "code",
   "execution_count": 79,
   "metadata": {},
   "outputs": [],
   "source": [
    "import matplotlib.pyplot as plt\n",
    "# note: there is actually a *lot* of matplotlib sub-libraries\n",
    "#  we'll just start with pyplot\n",
    "# again, if this doesn't work you can try\n",
    "#!pip install matplotlib\n",
    "# OR\n",
    "#!conda install matplotlib"
   ]
  },
  {
   "cell_type": "code",
   "execution_count": 80,
   "metadata": {},
   "outputs": [
    {
     "data": {
      "text/plain": [
       "[<matplotlib.lines.Line2D at 0x1212e7748>]"
      ]
     },
     "execution_count": 80,
     "metadata": {},
     "output_type": "execute_result"
    },
    {
     "data": {
      "image/png": "[encoded data removed]",
      "text/plain": [
       "<Figure size 432x288 with 1 Axes>"
      ]
     },
     "metadata": {
      "needs_background": "light"
     },
     "output_type": "display_data"
    }
   ],
   "source": [
    "# lets try a simple plot\n",
    "plt.plot([5,6], [7,8])\n",
    "# ok neat!  we see a plot with \n",
    "# x going from 5-6, and y going from 7-8"
   ]
  },
  {
   "cell_type": "markdown",
   "metadata": {},
   "source": [
    "Let's combine our numpy array stuff with plots:"
   ]
  },
  {
   "cell_type": "code",
   "execution_count": 81,
   "metadata": {},
   "outputs": [
    {
     "data": {
      "text/plain": [
       "array([0.  , 0.01, 0.02, 0.03, 0.04, 0.05, 0.06, 0.07, 0.08, 0.09, 0.1 ,\n",
       "       0.11, 0.12, 0.13, 0.14, 0.15, 0.16, 0.17, 0.18, 0.19, 0.2 , 0.21,\n",
       "       0.22, 0.23, 0.24, 0.25, 0.26, 0.27, 0.28, 0.29, 0.3 , 0.31, 0.32,\n",
       "       0.33, 0.34, 0.35, 0.36, 0.37, 0.38, 0.39, 0.4 , 0.41, 0.42, 0.43,\n",
       "       0.44, 0.45, 0.46, 0.47, 0.48, 0.49, 0.5 , 0.51, 0.52, 0.53, 0.54,\n",
       "       0.55, 0.56, 0.57, 0.58, 0.59, 0.6 , 0.61, 0.62, 0.63, 0.64, 0.65,\n",
       "       0.66, 0.67, 0.68, 0.69, 0.7 , 0.71, 0.72, 0.73, 0.74, 0.75, 0.76,\n",
       "       0.77, 0.78, 0.79, 0.8 , 0.81, 0.82, 0.83, 0.84, 0.85, 0.86, 0.87,\n",
       "       0.88, 0.89, 0.9 , 0.91, 0.92, 0.93, 0.94, 0.95, 0.96, 0.97, 0.98,\n",
       "       0.99, 1.  , 1.01, 1.02, 1.03, 1.04, 1.05, 1.06, 1.07, 1.08, 1.09,\n",
       "       1.1 , 1.11, 1.12, 1.13, 1.14, 1.15, 1.16, 1.17, 1.18, 1.19, 1.2 ,\n",
       "       1.21, 1.22, 1.23, 1.24, 1.25, 1.26, 1.27, 1.28, 1.29, 1.3 , 1.31,\n",
       "       1.32, 1.33, 1.34, 1.35, 1.36, 1.37, 1.38, 1.39, 1.4 , 1.41, 1.42,\n",
       "       1.43, 1.44, 1.45, 1.46, 1.47, 1.48, 1.49, 1.5 , 1.51, 1.52, 1.53,\n",
       "       1.54, 1.55, 1.56, 1.57, 1.58, 1.59, 1.6 , 1.61, 1.62, 1.63, 1.64,\n",
       "       1.65, 1.66, 1.67, 1.68, 1.69, 1.7 , 1.71, 1.72, 1.73, 1.74, 1.75,\n",
       "       1.76, 1.77, 1.78, 1.79, 1.8 , 1.81, 1.82, 1.83, 1.84, 1.85, 1.86,\n",
       "       1.87, 1.88, 1.89, 1.9 , 1.91, 1.92, 1.93, 1.94, 1.95, 1.96, 1.97,\n",
       "       1.98, 1.99, 2.  , 2.01, 2.02, 2.03, 2.04, 2.05, 2.06, 2.07, 2.08,\n",
       "       2.09, 2.1 , 2.11, 2.12, 2.13, 2.14, 2.15, 2.16, 2.17, 2.18, 2.19,\n",
       "       2.2 , 2.21, 2.22, 2.23, 2.24, 2.25, 2.26, 2.27, 2.28, 2.29, 2.3 ,\n",
       "       2.31, 2.32, 2.33, 2.34, 2.35, 2.36, 2.37, 2.38, 2.39, 2.4 , 2.41,\n",
       "       2.42, 2.43, 2.44, 2.45, 2.46, 2.47, 2.48, 2.49, 2.5 , 2.51, 2.52,\n",
       "       2.53, 2.54, 2.55, 2.56, 2.57, 2.58, 2.59, 2.6 , 2.61, 2.62, 2.63,\n",
       "       2.64, 2.65, 2.66, 2.67, 2.68, 2.69, 2.7 , 2.71, 2.72, 2.73, 2.74,\n",
       "       2.75, 2.76, 2.77, 2.78, 2.79, 2.8 , 2.81, 2.82, 2.83, 2.84, 2.85,\n",
       "       2.86, 2.87, 2.88, 2.89, 2.9 , 2.91, 2.92, 2.93, 2.94, 2.95, 2.96,\n",
       "       2.97, 2.98, 2.99, 3.  , 3.01, 3.02, 3.03, 3.04, 3.05, 3.06, 3.07,\n",
       "       3.08, 3.09, 3.1 , 3.11, 3.12, 3.13, 3.14, 3.15, 3.16, 3.17, 3.18,\n",
       "       3.19, 3.2 , 3.21, 3.22, 3.23, 3.24, 3.25, 3.26, 3.27, 3.28, 3.29,\n",
       "       3.3 , 3.31, 3.32, 3.33, 3.34, 3.35, 3.36, 3.37, 3.38, 3.39, 3.4 ,\n",
       "       3.41, 3.42, 3.43, 3.44, 3.45, 3.46, 3.47, 3.48, 3.49, 3.5 , 3.51,\n",
       "       3.52, 3.53, 3.54, 3.55, 3.56, 3.57, 3.58, 3.59, 3.6 , 3.61, 3.62,\n",
       "       3.63, 3.64, 3.65, 3.66, 3.67, 3.68, 3.69, 3.7 , 3.71, 3.72, 3.73,\n",
       "       3.74, 3.75, 3.76, 3.77, 3.78, 3.79, 3.8 , 3.81, 3.82, 3.83, 3.84,\n",
       "       3.85, 3.86, 3.87, 3.88, 3.89, 3.9 , 3.91, 3.92, 3.93, 3.94, 3.95,\n",
       "       3.96, 3.97, 3.98, 3.99, 4.  , 4.01, 4.02, 4.03, 4.04, 4.05, 4.06,\n",
       "       4.07, 4.08, 4.09, 4.1 , 4.11, 4.12, 4.13, 4.14, 4.15, 4.16, 4.17,\n",
       "       4.18, 4.19, 4.2 , 4.21, 4.22, 4.23, 4.24, 4.25, 4.26, 4.27, 4.28,\n",
       "       4.29, 4.3 , 4.31, 4.32, 4.33, 4.34, 4.35, 4.36, 4.37, 4.38, 4.39,\n",
       "       4.4 , 4.41, 4.42, 4.43, 4.44, 4.45, 4.46, 4.47, 4.48, 4.49, 4.5 ,\n",
       "       4.51, 4.52, 4.53, 4.54, 4.55, 4.56, 4.57, 4.58, 4.59, 4.6 , 4.61,\n",
       "       4.62, 4.63, 4.64, 4.65, 4.66, 4.67, 4.68, 4.69, 4.7 , 4.71, 4.72,\n",
       "       4.73, 4.74, 4.75, 4.76, 4.77, 4.78, 4.79, 4.8 , 4.81, 4.82, 4.83,\n",
       "       4.84, 4.85, 4.86, 4.87, 4.88, 4.89, 4.9 , 4.91, 4.92, 4.93, 4.94,\n",
       "       4.95, 4.96, 4.97, 4.98, 4.99, 5.  , 5.01, 5.02, 5.03, 5.04, 5.05,\n",
       "       5.06, 5.07, 5.08, 5.09, 5.1 , 5.11, 5.12, 5.13, 5.14, 5.15, 5.16,\n",
       "       5.17, 5.18, 5.19, 5.2 , 5.21, 5.22, 5.23, 5.24, 5.25, 5.26, 5.27,\n",
       "       5.28, 5.29, 5.3 , 5.31, 5.32, 5.33, 5.34, 5.35, 5.36, 5.37, 5.38,\n",
       "       5.39, 5.4 , 5.41, 5.42, 5.43, 5.44, 5.45, 5.46, 5.47, 5.48, 5.49,\n",
       "       5.5 , 5.51, 5.52, 5.53, 5.54, 5.55, 5.56, 5.57, 5.58, 5.59, 5.6 ,\n",
       "       5.61, 5.62, 5.63, 5.64, 5.65, 5.66, 5.67, 5.68, 5.69, 5.7 , 5.71,\n",
       "       5.72, 5.73, 5.74, 5.75, 5.76, 5.77, 5.78, 5.79, 5.8 , 5.81, 5.82,\n",
       "       5.83, 5.84, 5.85, 5.86, 5.87, 5.88, 5.89, 5.9 , 5.91, 5.92, 5.93,\n",
       "       5.94, 5.95, 5.96, 5.97, 5.98, 5.99, 6.  , 6.01, 6.02, 6.03, 6.04,\n",
       "       6.05, 6.06, 6.07, 6.08, 6.09, 6.1 , 6.11, 6.12, 6.13, 6.14, 6.15,\n",
       "       6.16, 6.17, 6.18, 6.19, 6.2 , 6.21, 6.22, 6.23, 6.24, 6.25, 6.26,\n",
       "       6.27, 6.28])"
      ]
     },
     "execution_count": 81,
     "metadata": {},
     "output_type": "execute_result"
    }
   ],
   "source": [
    "x = np.arange(0,2*np.pi,0.01)\n",
    "x\n",
    "# so, here we see that x goes from 0 to 2*PI in steps of 0.01"
   ]
  },
  {
   "cell_type": "code",
   "execution_count": 82,
   "metadata": {},
   "outputs": [
    {
     "data": {
      "text/plain": [
       "[<matplotlib.lines.Line2D at 0x12136fe48>]"
      ]
     },
     "execution_count": 82,
     "metadata": {},
     "output_type": "execute_result"
    },
    {
     "data": {
      "image/png": "[encoded data removed]",
      "text/plain": [
       "<Figure size 432x288 with 1 Axes>"
      ]
     },
     "metadata": {
      "needs_background": "light"
     },
     "output_type": "display_data"
    }
   ],
   "source": [
    "# now, lets make a plot of sin(x)\n",
    "y = np.sin(x)\n",
    "plt.plot(x,y)"
   ]
  },
  {
   "cell_type": "markdown",
   "metadata": {},
   "source": [
    "Ok, that's pretty sweet, but maybe we can't recall what we are plotting and we want to put some labels on our plot."
   ]
  },
  {
   "cell_type": "code",
   "execution_count": 83,
   "metadata": {},
   "outputs": [
    {
     "data": {
      "text/plain": [
       "Text(0.5, 1.0, 'My first plot!')"
      ]
     },
     "execution_count": 83,
     "metadata": {},
     "output_type": "execute_result"
    },
    {
     "data": {
      "image/png": "[encoded data removed]",
      "text/plain": [
       "<Figure size 432x288 with 1 Axes>"
      ]
     },
     "metadata": {
      "needs_background": "light"
     },
     "output_type": "display_data"
    }
   ],
   "source": [
    "plt.plot(x,y)\n",
    "plt.xlabel('x value from 0 to PI')\n",
    "plt.ylabel('sin(x)')\n",
    "plt.title('My first plot!')"
   ]
  },
  {
   "cell_type": "markdown",
   "metadata": {},
   "source": [
    "Finally, note we get this text that gives us info about our plot that we might not want to show each time.  We can explicitly \"show\" this plot:"
   ]
  },
  {
   "cell_type": "code",
   "execution_count": 84,
   "metadata": {},
   "outputs": [
    {
     "data": {
      "image/png": "[encoded data removed]",
      "text/plain": [
       "<Figure size 432x288 with 1 Axes>"
      ]
     },
     "metadata": {
      "needs_background": "light"
     },
     "output_type": "display_data"
    }
   ],
   "source": [
    "plt.plot(x,y)\n",
    "plt.xlabel('x value from 0 to PI')\n",
    "plt.ylabel('sin(x)')\n",
    "plt.title('My first plot!')\n",
    "plt.show()"
   ]
  },
  {
   "cell_type": "markdown",
   "metadata": {},
   "source": [
    "So, now let's say we want to save our lovely plot.  Lets try that!"
   ]
  },
  {
   "cell_type": "code",
   "execution_count": 85,
   "metadata": {},
   "outputs": [
    {
     "data": {
      "image/png": "[encoded data removed]",
      "text/plain": [
       "<Figure size 432x288 with 1 Axes>"
      ]
     },
     "metadata": {
      "needs_background": "light"
     },
     "output_type": "display_data"
    }
   ],
   "source": [
    "plt.plot(x,y)\n",
    "plt.xlabel('x value from 0 to PI')\n",
    "plt.ylabel('sin(x)')\n",
    "plt.title('My first plot!')\n",
    "plt.savefig('myAMAZINGsinplot.png')"
   ]
  },
  {
   "cell_type": "markdown",
   "metadata": {},
   "source": [
    "Well, it seems like nothing happened.  Why?  So, basically our plot gets showed to us, but it *also* gets saved to disk.  But where?  Well by default, since we didn't give a full path, it saved to whatever directory we are running this jupyter notebook from.  Lets figure out where that is:"
   ]
  },
  {
   "cell_type": "code",
   "execution_count": 86,
   "metadata": {},
   "outputs": [
    {
     "name": "stdout",
     "output_type": "stream",
     "text": [
      "/Users/jillnaiman1/csci-p-14110/lesson01\r\n"
     ]
    }
   ],
   "source": [
    "# there are a few ways to figure this out\n",
    "# we'll use this opportunty to do a little command-line\n",
    "!pwd # MAC\n",
    "# so the \"!\" is called an \"escape\" character - this just \n",
    "# shunts us out of this notebook and gives us access to our\n",
    "# main \"terminal\" or \"shell\" - basically the underlying\n",
    "#  structure of our computer\n",
    "\n",
    "# note, in windows this equivalent is !cd\n",
    "# see: https://www.lemoda.net/windows/windows2unix/windows2unix.html"
   ]
  },
  {
   "cell_type": "markdown",
   "metadata": {},
   "source": [
    "We have several options at this point to open our image.  We can save it in a directory where we easily know where it is, or we can open it up from here.  For example:"
   ]
  },
  {
   "cell_type": "code",
   "execution_count": 87,
   "metadata": {},
   "outputs": [],
   "source": [
    "!open /Users/jillnaiman1/csci-p-14110/lesson01/myAMAZINGsinplot.png\n",
    "# the above is for macs!!\n"
   ]
  },
  {
   "cell_type": "markdown",
   "metadata": {},
   "source": [
    "So we can change the location of where this saves so that we are saving all of our files to one place.  \n",
    "\n",
    "There are several ways to do this.  You can open a file folder as you normally would and make a new folder and figure out where it is on disk and save to there.  We can also do this using some command lines.\n",
    "\n",
    "First we'll make a new directory, this command is the same on both Macs & Windows.  First, lets remind ourselves where we are:"
   ]
  },
  {
   "cell_type": "code",
   "execution_count": 88,
   "metadata": {},
   "outputs": [
    {
     "name": "stdout",
     "output_type": "stream",
     "text": [
      "/Users/jillnaiman1/csci-p-14110/lesson01\r\n"
     ]
    }
   ],
   "source": [
    "!pwd"
   ]
  },
  {
   "cell_type": "markdown",
   "metadata": {},
   "source": [
    "Usually it will be something like \"/Users\" and then your user name and then maybe another directory.  These are subfolders where different folders live.  We can check out what is in a particular folder using \"ls\" or \"dir\" on a Windows machine like so:"
   ]
  },
  {
   "cell_type": "code",
   "execution_count": 89,
   "metadata": {},
   "outputs": [
    {
     "name": "stdout",
     "output_type": "stream",
     "text": [
      "_example_assignment.md              index.md~\r\n",
      "_introToPython_notes_lesson01.ipynb lecture01.md\r\n",
      "\u001b[1m\u001b[34mimages\u001b[m\u001b[m                              myAMAZINGsinplot.png\r\n",
      "index.md                            myFirstProgram.ipynb\r\n"
     ]
    }
   ],
   "source": [
    "!ls"
   ]
  },
  {
   "cell_type": "markdown",
   "metadata": {},
   "source": [
    "So this is now telling me what is in the current directory that I found with !pwd.  Lets say we want to make a new folder for this class in our \"home\" directory - this is what your directory/folder with your user name is generally called.  We should first check out what is already in there, with that we can use \"ls\" or \"dir\" like so:"
   ]
  },
  {
   "cell_type": "code",
   "execution_count": 90,
   "metadata": {},
   "outputs": [
    {
     "name": "stdout",
     "output_type": "stream",
     "text": [
      "#test.txt#\r\n",
      "\u001b[1m\u001b[34mApplications\u001b[m\u001b[m\r\n",
      "\u001b[1m\u001b[34mApplications (Parallels)\u001b[m\u001b[m\r\n",
      "\u001b[1m\u001b[34mArepoCode\u001b[m\u001b[m\r\n",
      "\u001b[1m\u001b[34mArepoCodePython\u001b[m\u001b[m\r\n",
      "\u001b[1m\u001b[34mArepoModsLocal\u001b[m\u001b[m\r\n",
      "\u001b[1m\u001b[34mArepoRuns\u001b[m\u001b[m\r\n",
      "\u001b[1m\u001b[34mArepo_ICs\u001b[m\u001b[m\r\n",
      "\u001b[1m\u001b[34mBTBackground\u001b[m\u001b[m\r\n",
      "\u001b[1m\u001b[34mBasic-Chat\u001b[m\u001b[m\r\n",
      "\u001b[1m\u001b[34mBlotto\u001b[m\u001b[m\r\n",
      "\u001b[1m\u001b[34mCreative Cloud Files\u001b[m\u001b[m\r\n",
      "\u001b[1m\u001b[34mData-digging\u001b[m\u001b[m\r\n",
      "\u001b[1m\u001b[34mDesktop\u001b[m\u001b[m\r\n",
      "\u001b[1m\u001b[34mDocuments\u001b[m\u001b[m\r\n",
      "\u001b[1m\u001b[34mDownloads\u001b[m\u001b[m\r\n",
      "\u001b[1m\u001b[34mDropbox\u001b[m\u001b[m\r\n",
      "\u001b[1m\u001b[34mEclipseSoundscapes\u001b[m\u001b[m\r\n",
      "\u001b[1m\u001b[34mFLASH4\u001b[m\u001b[m\r\n",
      "\u001b[1m\u001b[34mFLASH4.2\u001b[m\u001b[m\r\n",
      "\u001b[1m\u001b[34mFLASH4.4\u001b[m\u001b[m\r\n",
      "FLASH4.4.tar\r\n",
      "\u001b[1m\u001b[34mFLASH4_Runs\u001b[m\u001b[m\r\n",
      "\u001b[1m\u001b[34mFreeRoutingNew\u001b[m\u001b[m\r\n",
      "\u001b[1m\u001b[34mGadget-2.0.7\u001b[m\u001b[m\r\n",
      "\u001b[1m\u001b[34mGlowdeck_Bluetooth\u001b[m\u001b[m\r\n",
      "Glowdeck_Bluetooth.zip\r\n",
      "HOPE\r\n",
      "\u001b[1m\u001b[34mHoudiniProjects\u001b[m\u001b[m\r\n",
      "\u001b[1m\u001b[34mInClassPost\u001b[m\u001b[m\r\n",
      "Le_siII_lowercase.txt\r\n",
      "Le_siI_lowercase.txt\r\n",
      "Le_siV_lowercase.txt\r\n",
      "Le_siX_lowercase.txt\r\n",
      "\u001b[1m\u001b[34mLibrary\u001b[m\u001b[m\r\n",
      "Microchip Bluetooth DFU Utility Installer.exe\r\n",
      "Miniconda2-latest-MacOSX-x86_64.sh\r\n",
      "Miniconda3-latest-MacOSX-x86_64.sh\r\n",
      "\u001b[1m\u001b[34mMovies\u001b[m\u001b[m\r\n",
      "\u001b[1m\u001b[34mMusic\u001b[m\u001b[m\r\n",
      "\u001b[1m\u001b[34mMyCSClass_summer2019\u001b[m\u001b[m\r\n",
      "\u001b[1m\u001b[34mMyFirstPost\u001b[m\u001b[m\r\n",
      "\u001b[1m\u001b[34mMyNewDir\u001b[m\u001b[m\r\n",
      "\u001b[1m\u001b[34mMyPosty\u001b[m\u001b[m\r\n",
      "\u001b[1m\u001b[34mNuPyCEE\u001b[m\u001b[m\r\n",
      "\u001b[1m\u001b[34mOpenSpace\u001b[m\u001b[m\r\n",
      "\u001b[1m\u001b[34mOpenVdbInstall\u001b[m\u001b[m\r\n",
      "\u001b[1m\u001b[34mPanoptes-Front-End\u001b[m\u001b[m\r\n",
      "\u001b[1m\u001b[34mPictures\u001b[m\u001b[m\r\n",
      "\u001b[1m\u001b[34mPost1\u001b[m\u001b[m\r\n",
      "\u001b[1m\u001b[34mPublic\u001b[m\u001b[m\r\n",
      "\u001b[1m\u001b[34mPulledARImages\u001b[m\u001b[m\r\n",
      "README.md\r\n",
      "\u001b[1m\u001b[34mSites\u001b[m\u001b[m\r\n",
      "\u001b[1m\u001b[34mSnowLeopard_Lion_Mountain_Lion_Mavericks_Yosemite_El-Captain_06.07.2016\u001b[m\u001b[m\r\n",
      "\u001b[1m\u001b[34mTactileSun\u001b[m\u001b[m\r\n",
      "\u001b[1m\u001b[34mUntitled Folder\u001b[m\u001b[m\r\n",
      "\u001b[1m\u001b[34mUntitled Folder 1\u001b[m\u001b[m\r\n",
      "Untitled.ipynb\r\n",
      "Untitled1.ipynb\r\n",
      "Untitled2.ipynb\r\n",
      "Untitled3.ipynb\r\n",
      "Untitled4.ipynb\r\n",
      "Untitled5.ipynb\r\n",
      "Untitled6.ipynb\r\n",
      "Untitled7.ipynb\r\n",
      "Untitled8.ipynb\r\n",
      "Untitled9.ipynb\r\n",
      "VC_redist.x86.exe_old\r\n",
      "\u001b[1m\u001b[34m__MACOSX\u001b[m\u001b[m\r\n",
      "\u001b[1m\u001b[34magbpaper\u001b[m\u001b[m\r\n",
      "\u001b[1m\u001b[34maggregation-for-caesar\u001b[m\u001b[m\r\n",
      "allthree.mtl\r\n",
      "allthree.obj\r\n",
      "\u001b[1m\u001b[34manaconda3\u001b[m\u001b[m\r\n",
      "\u001b[1m\u001b[34marduino_sketches\u001b[m\u001b[m\r\n",
      "\u001b[1m\u001b[34marepo-snap-util\u001b[m\u001b[m\r\n",
      "\u001b[1m\u001b[34marepoInstall\u001b[m\u001b[m\r\n",
      "areposnap.tar.gz\r\n",
      "\u001b[1m\u001b[34mastroblend-dev\u001b[m\u001b[m\r\n",
      "\u001b[1m\u001b[34mastroblend-stable\u001b[m\u001b[m\r\n",
      "\u001b[1m\u001b[34mastroblend-website\u001b[m\u001b[m\r\n",
      "\u001b[1m\u001b[34mastronaiman\u001b[m\u001b[m\r\n",
      "\u001b[1m\u001b[34mavriot-website\u001b[m\u001b[m\r\n",
      "backblue.gif\r\n",
      "\u001b[1m\u001b[34mblender-2.75a\u001b[m\u001b[m\r\n",
      "blender-2.75a.tar\r\n",
      "\u001b[1m\u001b[34mblender-2.76\u001b[m\u001b[m\r\n",
      "\u001b[1m\u001b[34mblender-2.76b-OSX_10.6-x86_64\u001b[m\u001b[m\r\n",
      "\u001b[1m\u001b[34mbqplot\u001b[m\u001b[m\r\n",
      "\u001b[1m\u001b[34mbrainbit\u001b[m\u001b[m\r",
      "\r\n",
      "calculate_lxprof_lowercase.pro\r\n",
      "\u001b[1m\u001b[34mcfa_yt_workshop\u001b[m\u001b[m\r\n",
      "\u001b[1m\u001b[34mcfa_yt_workshop_home\u001b[m\u001b[m\r\n",
      "cghistoplot_lowercase.pro\r\n",
      "\u001b[1m\u001b[34mcorgBuildFile\u001b[m\u001b[m\r\n",
      "\u001b[1m\u001b[34mcorgWebsiteBuild\u001b[m\u001b[m\r\n",
      "crashblender.blend\r\n",
      "\u001b[1m\u001b[34mcsci-p-14110\u001b[m\u001b[m\r\n",
      "\u001b[1m\u001b[34mcube_cascade\u001b[m\u001b[m\r\n",
      "\u001b[1m\u001b[34mcube_cascade_old\u001b[m\u001b[m\r\n",
      "\u001b[1m\u001b[34mdata\u001b[m\u001b[m\r\n",
      "\u001b[1m\u001b[34mdgstripping\u001b[m\u001b[m\r\n",
      "\u001b[1m\u001b[34mdmv_ill\u001b[m\u001b[m\r\n",
      "dsd_ds9.pdf\r\n",
      "\u001b[1m\u001b[34mdylans_tools\u001b[m\u001b[m\r\n",
      "fade.gif\r\n",
      "\u001b[1m\u001b[34mfhack\u001b[m\u001b[m\r\n",
      "\u001b[1m\u001b[34mfigure\u001b[m\u001b[m\r\n",
      "\u001b[1m\u001b[34mfitbit_app\u001b[m\u001b[m\r\n",
      "\u001b[1m\u001b[34mflash_runs\u001b[m\u001b[m\r\n",
      "flashr.tar\r\n",
      "flattenedGalaxbaked.blend\r\n",
      "\u001b[1m\u001b[34mforEmacs\u001b[m\u001b[m\r\n",
      "\u001b[1m\u001b[34mforLisa\u001b[m\u001b[m\r\n",
      "forLisa.tar.gz\r\n",
      "\u001b[1m\u001b[34mgabrielasData\u001b[m\u001b[m\r\n",
      "galaxy0030_Projection_y_density.png\r\n",
      "\u001b[1m\u001b[34mgalaxySnaps\u001b[m\u001b[m\r\n",
      "\u001b[1m\u001b[34mgenericPlanetFiles\u001b[m\u001b[m\r\n",
      "\u001b[1m\u001b[34mgits_for_viz_class\u001b[m\u001b[m\r\n",
      "\u001b[1m\u001b[34mglue-master\u001b[m\u001b[m\r\n",
      "\u001b[1m\u001b[34mhdf5Install\u001b[m\u001b[m\r\n",
      "\u001b[1m\u001b[32mhello\u001b[m\u001b[m\r\n",
      "hello.c\r\n",
      "\u001b[1m\u001b[34mhoudini_yt-tmp\u001b[m\u001b[m\r\n",
      "\u001b[1m\u001b[34mhoudini_yt-website\u001b[m\u001b[m\r\n",
      "\u001b[1m\u001b[34mhoudini_yt_dev\u001b[m\u001b[m\r\n",
      "\u001b[1m\u001b[34mhts-cache\u001b[m\u001b[m\r\n",
      "\u001b[1m\u001b[34miOS_BrainWeather\u001b[m\u001b[m\r\n",
      "\u001b[1m\u001b[34miOS_BrainWeather_myAWS\u001b[m\u001b[m\r\n",
      "\u001b[1m\u001b[34miOS_BrainWeather_old\u001b[m\u001b[m\r\n",
      "\u001b[1m\u001b[34midl_files\u001b[m\u001b[m\r\n",
      "\u001b[1m\u001b[34midyllPosts\u001b[m\u001b[m\r\n",
      "\u001b[1m\u001b[34millustrisData\u001b[m\u001b[m\r\n",
      "\u001b[1m\u001b[34millustris_python\u001b[m\u001b[m\r\n",
      "\u001b[1m\u001b[34mimageParse\u001b[m\u001b[m\r\n",
      "index.html\r\n",
      "install_arepo_packages.sh\r\n",
      "install_arepo_packages.sh~\r\n",
      "install_hdf5.sh\r\n",
      "install_hdf5.sh~\r\n",
      "install_script.sh\r\n",
      "install_script.sh~\r\n",
      "install_script_miniconda.sh\r\n",
      "install_script_yt20160511.sh\r\n",
      "install_script_yt20160511.sh~\r\n",
      "install_script_yt20160511_t2.sh\r\n",
      "install_script_yt20160511_t2.sh~\r\n",
      "install_script_ytblender.sh\r\n",
      "install_script_ytblender.sh~\r\n",
      "install_script_ytblender_mypythonversion.sh\r\n",
      "install_script_ytblender_new.sh\r\n",
      "install_script_ytblender_new.sh~\r\n",
      "install_yt3.sh\r\n",
      "\u001b[1m\u001b[34mios_tmp\u001b[m\u001b[m\r\n",
      "itssuchabeautifulday.png\r\n",
      "\u001b[1m\u001b[34mjnaiman-openauth\u001b[m\u001b[m\r\n",
      "jnaiman-openauth.zip\r\n",
      "\u001b[1m\u001b[34mjnaiman.github.io\u001b[m\u001b[m\r\n",
      "junk.gdbm\r\n",
      "library-repos-install.sh\r\n",
      "linux-3.19.3.tar.xz\r\n",
      "\u001b[1m\u001b[34mlocalpy\u001b[m\u001b[m\r\n",
      "\u001b[1m\u001b[34mmacports\u001b[m\u001b[m\r\n",
      "\u001b[1m\u001b[34mmelodyDFUtool\u001b[m\u001b[m\r\n",
      "melodyDFUtool.zip\r\n",
      "\u001b[1m\u001b[34mmelodysmart-ios-swift\u001b[m\u001b[m\r\n",
      "\u001b[1m\u001b[34mmesa-r10108\u001b[m\u001b[m\r\n",
      "\u001b[1m\u001b[34mminiconda3\u001b[m\u001b[m\r\n",
      "\u001b[1m\u001b[34mmitsuba-3401706c2f1d\u001b[m\u001b[m\r\n",
      "\u001b[1m\u001b[34mmpi4py-1.3.1\u001b[m\u001b[m\r\n",
      "mpi4py-1.3.1.tar\r\n",
      "multirun.sh\r\n",
      "multirun.sh~\r\n",
      "\u001b[1m\u001b[34mmy-idyll-post\u001b[m\u001b[m\r\n",
      "myTrial.step\r\n",
      "\u001b[1m\u001b[34mnaimanconsulting\u001b[m\u001b[m\r\n",
      "\u001b[1m\u001b[34mnode_modules\u001b[m\u001b[m\r\n",
      "\u001b[1m\u001b[34mopenChampaignProject\u001b[m\u001b[m\r\n",
      "\u001b[1m\u001b[34mopenvdb\u001b[m\u001b[m\r\n",
      "\u001b[1m\u001b[34mopenvdb_packages\u001b[m\u001b[m\r\n",
      "package-lock.json\r\n",
      "\u001b[1m\u001b[34mparsync\u001b[m\u001b[m\r\n",
      "passwd_iam\r\n",
      "\u001b[1m\u001b[34mperiodic_kdtree\u001b[m\u001b[m\r\n",
      "playing_with_class_data.log\r\n",
      "playing_with_class_data.tex\r\n",
      "\u001b[1m\u001b[34mprototype_aie_website\u001b[m\u001b[m\r\n",
      "\u001b[1m\u001b[34mprototype_aie_website_tmp\u001b[m\u001b[m\r\n",
      "\u001b[1m\u001b[34mpulsarPython\u001b[m\u001b[m\r\n",
      "\u001b[1m\u001b[34mpython-fitbit\u001b[m\u001b[m\r\n",
      "\u001b[1m\u001b[34mpython-virtual-environments\u001b[m\u001b[m\r\n",
      "\u001b[1m\u001b[34mpywwt\u001b[m\u001b[m\r\n",
      "\u001b[1m\u001b[32mrsync_parallel.sh\u001b[m\u001b[m\r\n",
      "\u001b[1m\u001b[34ms3-drive\u001b[m\u001b[m\r\n",
      "\u001b[1m\u001b[34ms3fs-fuse\u001b[m\u001b[m\r\n",
      "\u001b[1m\u001b[34mscaffolding-interactives\u001b[m\u001b[m\r\n",
      "solverlibs.py\r\n",
      "solverlibs.pyc\r\n",
      "\u001b[1m\u001b[34mspeakermic_aa1.stl\u001b[m\u001b[m\r\n",
      "\u001b[1m\u001b[34mspring2019online\u001b[m\u001b[m\r\n",
      "\u001b[1m\u001b[34mstarless_grRender\u001b[m\u001b[m\r\n",
      "\u001b[1m\u001b[34mstarless_grRender_mod\u001b[m\u001b[m\r\n",
      "\u001b[1m\u001b[34mstarrender\u001b[m\u001b[m\r\n",
      "\u001b[1m\u001b[34mstarrender.bfg-report\u001b[m\u001b[m\r\n",
      "\u001b[1m\u001b[34mstellarModels\u001b[m\u001b[m\r\n",
      "\u001b[1m\u001b[34msurfaces\u001b[m\u001b[m\r\n",
      "\u001b[1m\u001b[34mtempIOS\u001b[m\u001b[m\r\n",
      "\u001b[1m\u001b[34mtempleton2018\u001b[m\u001b[m\r\n",
      "testyt.py\r\n",
      "testyt.py~\r\n",
      "\u001b[1m\u001b[34mtmpARImages\u001b[m\u001b[m\r\n",
      "\u001b[1m\u001b[34mtmpToPeter\u001b[m\u001b[m\r\n",
      "\u001b[1m\u001b[34mtmp_aie_website\u001b[m\u001b[m\r\n",
      "\u001b[1m\u001b[34mtmpchemEvPaper\u001b[m\u001b[m\r\n",
      "tmpchemEvPaper.tar.gz\r\n",
      "\u001b[1m\u001b[34mtmppython\u001b[m\u001b[m\r\n",
      "trial.iges\r\n",
      "trial.step\r\n",
      "untitled-earbudBuildCombine-earbud_back_taper.stl\r\n",
      "untitled-earbud_back_taper.stl\r\n",
      "untitled.hipnc\r\n",
      "vcredist_x86.exe\r\n",
      "\u001b[1m\u001b[34mvogelsbergerlabtools\u001b[m\u001b[m\r\n",
      "\u001b[1m\u001b[34mvowpal_wabbit\u001b[m\u001b[m\r\n",
      "\u001b[1m\u001b[34mvowpal_wabbit2\u001b[m\u001b[m\r\n",
      "\u001b[1m\u001b[34mvowpal_wabbit3\u001b[m\u001b[m\r\n",
      "\u001b[1m\u001b[34mwebcam-pulse-detector\u001b[m\u001b[m\r\n",
      "\u001b[1m\u001b[34mweight-loss\u001b[m\u001b[m\r\n",
      "\u001b[1m\u001b[32mwinetricks\u001b[m\u001b[m\r\n",
      "\u001b[1m\u001b[34mworkshop2016\u001b[m\u001b[m\r\n",
      "\u001b[1m\u001b[34mwwt-web-client\u001b[m\u001b[m\r\n",
      "\u001b[1m\u001b[34mwwt-web-client_OLD\u001b[m\u001b[m\r\n",
      "\u001b[1m\u001b[34mwwt-web-client_cp\u001b[m\u001b[m\r\n",
      "\u001b[1m\u001b[34mwwt-website\u001b[m\u001b[m\r\n",
      "\u001b[1m\u001b[34myt\u001b[m\u001b[m\r\n",
      "\u001b[1m\u001b[34myt_for_python3_jn\u001b[m\u001b[m\r\n",
      "yt_native.png\r\n",
      "\u001b[1m\u001b[34myt_surfaces\u001b[m\u001b[m\r\n",
      "\u001b[1m\u001b[34mytini-repo\u001b[m\u001b[m\r",
      "\r\n",
      "\u001b[1m\u001b[34mytini_practice\u001b[m\u001b[m\r\n"
     ]
    }
   ],
   "source": [
    "!ls /Users/jillnaiman1/"
   ]
  },
  {
   "cell_type": "markdown",
   "metadata": {},
   "source": [
    "So now we can see a list of all the stuff that is in there.  To make a new directory we can use the command \"mkdir\" on both Macs and Windows:"
   ]
  },
  {
   "cell_type": "code",
   "execution_count": 91,
   "metadata": {},
   "outputs": [
    {
     "name": "stdout",
     "output_type": "stream",
     "text": [
      "mkdir: /Users/jillnaiman1/MyNewDir: File exists\r\n"
     ]
    }
   ],
   "source": [
    "!mkdir /Users/jillnaiman1/MyNewDir"
   ]
  },
  {
   "cell_type": "markdown",
   "metadata": {},
   "source": [
    "Now I can save my image to this directory like so:"
   ]
  },
  {
   "cell_type": "code",
   "execution_count": 92,
   "metadata": {},
   "outputs": [
    {
     "data": {
      "image/png": "[encoded data removed]",
      "text/plain": [
       "<Figure size 432x288 with 1 Axes>"
      ]
     },
     "metadata": {
      "needs_background": "light"
     },
     "output_type": "display_data"
    }
   ],
   "source": [
    "plt.plot(x,y)\n",
    "plt.xlabel('x value from 0 to PI')\n",
    "plt.ylabel('sin(x)')\n",
    "plt.title('My first plot!')\n",
    "plt.savefig('/Users/jillnaiman1/MyNewDir/myAMAZINGsinplot.png')"
   ]
  },
  {
   "cell_type": "markdown",
   "metadata": {},
   "source": [
    "Now I can see this file in that directory with \"ls\":"
   ]
  },
  {
   "cell_type": "code",
   "execution_count": 93,
   "metadata": {},
   "outputs": [
    {
     "name": "stdout",
     "output_type": "stream",
     "text": [
      "myAMAZINGsinplot.png\r\n"
     ]
    }
   ],
   "source": [
    "!ls /Users/jillnaiman1/MyNewDir"
   ]
  },
  {
   "cell_type": "markdown",
   "metadata": {},
   "source": [
    "And I can also open it from there:"
   ]
  },
  {
   "cell_type": "code",
   "execution_count": 94,
   "metadata": {},
   "outputs": [],
   "source": [
    "!open /Users/jillnaiman1/MyNewDir/myAMAZINGsinplot.png"
   ]
  },
  {
   "cell_type": "markdown",
   "metadata": {},
   "source": [
    "# 6. Examples & exercises\n",
    "1. plot cos(x)\n",
    "2. plot a*cos(x) + b*sin(c*x) for different numbers a, b, c \n",
    "\n",
    "If you're like \"what?\" at this point - this is TOTally normal.  If you've done little to no programming this is a whole new way of thinking!  Don't panic.  We'll get through it together. :D\n",
    "\n",
    "bonus: how do you plot various combinations of a, b, c?\n",
    "bonus bonus: what ways can you plot functions of 2 variables? How would you figure that out? (Google might be your friend here :) )\n",
    "\n"
   ]
  },
  {
   "cell_type": "markdown",
   "metadata": {},
   "source": [
    "# 7. **After flow control slides**\n",
    "* Say: one more thing, if-then statements"
   ]
  },
  {
   "cell_type": "markdown",
   "metadata": {},
   "source": [
    "## 7.1 Functions\n",
    "Functions are useful for tasks that we want to perform that are common to many programs. We've already encountered an example of this: the sin function. There are many, many reasons why one might want to take the sin of something, so it is useful to define the sin function once and for all so that any program that needs to take the sin can do so, rather than having to come up with their own approximation of the sin using the Taylor expansion or something like that.\n",
    "\n",
    "We've gone over a bit of the abstract concept of functions, but here is what the syntax looks like:"
   ]
  },
  {
   "cell_type": "code",
   "execution_count": 95,
   "metadata": {},
   "outputs": [],
   "source": [
    "def myfunc(arg1, arg2):\n",
    "    print(\"I am a function! Here are my arguments:\")\n",
    "    print(arg1)\n",
    "    print(arg2)\n",
    "    print(\"I am returning my first argument now!\")\n",
    "    return(arg1)\n",
    "\n"
   ]
  },
  {
   "cell_type": "markdown",
   "metadata": {},
   "source": [
    "This defines a very simple function. Let's walk through this declaration step by step:\n",
    "1. The first line begins with def, then the name of the function, and then in parentheses a list of arguments for the function, then a colon. Arguments are inputs to the function. For example, the sin function takes an angle as an argument. In this example our function has two arguments. The number of arguments is arbitrary, and can be zero, in which case the parentheses are just left empty. It is also possible to write functions where the number of arguments is variable, and need not be the same every time the function is called, but we won't discuss that capability further in this short course.\n",
    "2. After the define line, we begin the body of the function. Note that all the lines in the function body are indented. This indentation is IMPORTANT. In python, indentation is used to indicate that a particular line belongs to a particular function, loop, or other block of code. All the lines of the function are indented four spaces. If you're using entering this manually in ipython, either at the command line or in the notebook, you don't need to type in those four spaces by hand; the ipython shell will automatically enter them for you after seeing the def line. If you're using emacs as a text editor, you can just hit the tab key and the correct number of spaces will be entered for you.\n",
    "3. Within the body of the function, we can enter whatever commands we like. We can print things, for example. The arguments in that appeared in parentheses in the definition are accessible within the function, and can be manipulated however we like.\n",
    "4. At the end of the function, we have a statement that begins return. A return function causes the function to give back a value, which the calling program can print, assign to a variable, or do something else with. For example the sin function returns the sin of the input angle. Return values are optional: functions don't have to return anything, and can just end.\n",
    "\n",
    "Not that when we wrote down the function, nothing is printed out, but python now knows about this function. To demonstrate this, let's try calling it:\n"
   ]
  },
  {
   "cell_type": "code",
   "execution_count": 96,
   "metadata": {},
   "outputs": [
    {
     "name": "stdout",
     "output_type": "stream",
     "text": [
      "I am a function! Here are my arguments:\n",
      "1\n",
      "2\n",
      "I am returning my first argument now!\n"
     ]
    },
    {
     "data": {
      "text/plain": [
       "1"
      ]
     },
     "execution_count": 96,
     "metadata": {},
     "output_type": "execute_result"
    }
   ],
   "source": [
    "myfunc(1, 2)"
   ]
  },
  {
   "cell_type": "markdown",
   "metadata": {},
   "source": [
    "Try this out with a few different arguments to see what happens **do this**\n",
    "\n",
    "Note that we can actually import collections of functions with things called \"modules\"\n",
    "\n",
    "We actually did this before with matplotlib for plots:\n",
    "\"matplotlib\" is a module, \"matplotlib\" is a set of plotting functions & controls for how plots will look, \"matplotlib.pyplot\" is a sort of \"sub-module\" of matplotlib and \"pyplot\" is called to do the simple line plots we did before"
   ]
  },
  {
   "cell_type": "markdown",
   "metadata": {},
   "source": [
    "## 7.2 for-loops & while loops\n",
    "We went over for-loops conceptually in slides, no lets go through them with code.  We'll also cover something called \"while loops\" that are closely related"
   ]
  },
  {
   "cell_type": "markdown",
   "metadata": {},
   "source": [
    "Let's print the phrase \"hi there\" three times:"
   ]
  },
  {
   "cell_type": "code",
   "execution_count": 97,
   "metadata": {},
   "outputs": [
    {
     "name": "stdout",
     "output_type": "stream",
     "text": [
      "hi there\n",
      "hi there\n",
      "hi there\n"
     ]
    }
   ],
   "source": [
    "print(\"hi there\")\n",
    "print(\"hi there\")\n",
    "print(\"hi there\")"
   ]
  },
  {
   "cell_type": "markdown",
   "metadata": {},
   "source": [
    "Ok, that was fine, but what if we want to do it like 40 times?  Here comes our friend the for-loop. \n",
    "\n",
    "One of the most common types of loop is where you want to loop over numbers: 0, 1, 2, 3, .... To handle loops of this sort, python provides a simple command to construct a list of numbers to iterate over, called range. The command range(n) produces a list of numbers from 0 to n-1. For example:"
   ]
  },
  {
   "cell_type": "code",
   "execution_count": 98,
   "metadata": {},
   "outputs": [
    {
     "name": "stdout",
     "output_type": "stream",
     "text": [
      "hi there\n",
      "hi there\n",
      "hi there\n",
      "hi there\n",
      "hi there\n"
     ]
    }
   ],
   "source": [
    "for i in range(5):\n",
    "    print('hi there')"
   ]
  },
  {
   "cell_type": "markdown",
   "metadata": {},
   "source": [
    "Note that \"i\" is the loop counter which updates with each loop.  Behold:"
   ]
  },
  {
   "cell_type": "code",
   "execution_count": 99,
   "metadata": {},
   "outputs": [
    {
     "name": "stdout",
     "output_type": "stream",
     "text": [
      "0\n",
      "1\n",
      "2\n",
      "3\n"
     ]
    }
   ],
   "source": [
    "for i in range(4):\n",
    "    print(i)"
   ]
  },
  {
   "cell_type": "markdown",
   "metadata": {},
   "source": [
    "Note that the count started from 0 and ended at 3 - this is becuase Python does \"zero indexing\" by default. Also note that the range command has exactly the same syntax as the arange command we encountered when we constructed arrays.\n",
    "\n",
    "Python also allows us to do fancier types of loops over sets of objects:"
   ]
  },
  {
   "cell_type": "code",
   "execution_count": 100,
   "metadata": {},
   "outputs": [
    {
     "name": "stdout",
     "output_type": "stream",
     "text": [
      "bob\n",
      "linda\n",
      "tina\n",
      "gene\n",
      "louise\n"
     ]
    }
   ],
   "source": [
    "myStrings = ['bob', 'linda', 'tina', 'gene', 'louise']\n",
    "\n",
    "for s in myStrings:\n",
    "    print(s)"
   ]
  },
  {
   "cell_type": "markdown",
   "metadata": {},
   "source": [
    "A \"while loop\" has a very similar structure to a for loop except it also has something called a \"conditional statement\" involved.  For example, as we did with a for loop above, lets loop through and print out the numbers 0-3 but using a while loop.  The syntax is a little different:"
   ]
  },
  {
   "cell_type": "code",
   "execution_count": 101,
   "metadata": {},
   "outputs": [
    {
     "name": "stdout",
     "output_type": "stream",
     "text": [
      "0\n",
      "1\n",
      "2\n",
      "3\n"
     ]
    }
   ],
   "source": [
    "i = 0 # we first specify our start loop variable\n",
    "while i < 4: # lets run this loop until i is >= 4\n",
    "    print(i) # print i as before\n",
    "    i = i+1 # we have to explicitly update the i here unlike in a for loop"
   ]
  },
  {
   "cell_type": "markdown",
   "metadata": {},
   "source": [
    "## 7.3 If-then statements and conditional operators\n",
    "We might also want to excecute specific actions if specific conditions are met using \"conditional statements\" like we did with while loops above.  We can do this with if then statements.  Lets try running the following bit of code using what we know about functions and implementing this new thing called an if-then statement:"
   ]
  },
  {
   "cell_type": "code",
   "execution_count": 102,
   "metadata": {},
   "outputs": [],
   "source": [
    "# Define the plotting function\n",
    "def makeplot(funcname):\n",
    "\n",
    "    # Define the x array using numpy\n",
    "    x=np.arange(0, 2*np.pi, 0.01)\n",
    "\n",
    "    # Check if the user entered the sin, cos, or tan function\n",
    "    if funcname=='sin':\n",
    "        plt.plot(x, np.sin(x))\n",
    "    elif funcname=='cos':\n",
    "        plt.plot(x, np.cos(x))\n",
    "    elif funcname=='tan':\n",
    "        plt.plot(x, np.tan(x))\n",
    "    else:\n",
    "        print(\"Unrecognized function \"+str(funcname))\n"
   ]
  },
  {
   "cell_type": "markdown",
   "metadata": {},
   "source": [
    "As before, while nothing is printed out this function now \"lives\" in our jupyter python notebook.  \n",
    "\n",
    "Let's examine this module to understand what it does. First, we assume we've already imported the numpy and matplotlib.pyplot libraries so that we can use arrays, make plots, etc. \n",
    "\n",
    "Next, we define a function that takes one argument. This argument is the name of the trig function we are going to plot.\n",
    "\n",
    "Third, we define an array that goes from 0 to 2 pi with a spacing of 0.01. This is exactly as we did in the last class.\n",
    "\n",
    "Finally, we decide what to do based on the user input, using an if statement. The structure of if is fairly simple. We begin a line with if and then we follow that with a test that will be either true or false. In this case, we compare the input function name to 'sin' and see if it matches. The comparison is done with the == operator -- more on that in a moment. If the input funcname matches 'sin', we go ahead and plot a sin function. The line to do this is indented another 4 spaces, to indicate that this command belongs within the block to which the if applies.\n",
    "\n",
    "If the name doesn't match 'sin', we next compare it to 'cos'. The statement that does this is 'elif', which is short for 'else if'. The meaning of 'elif' is that we first check the if statement. If it is true, we execute the block of code within that if statement. If it is false, we then go on to the 'elif' line and do that test. If that test turns out to be true, we execute that block of code. In this case, if the input value of funcname is 'cos', then we will plot a cos function. If the elif turns out to be false, we go on to the next one, that compares the input to 'tan'. If that is true, we plot tan. If not, we encounter an 'else'. The 'else' statement is the catchall: it's what we do if all the if's and elif's turn out to be false. In this case, we just print out a message complaining that we don't recognize the input function."
   ]
  },
  {
   "cell_type": "markdown",
   "metadata": {},
   "source": [
    "Ok, lets test this function out:"
   ]
  },
  {
   "cell_type": "code",
   "execution_count": 103,
   "metadata": {},
   "outputs": [
    {
     "data": {
      "image/png": "[encoded data removed]",
      "text/plain": [
       "<Figure size 432x288 with 1 Axes>"
      ]
     },
     "metadata": {
      "needs_background": "light"
     },
     "output_type": "display_data"
    }
   ],
   "source": [
    "makeplot('tan') \n",
    "# try a few others!"
   ]
  },
  {
   "cell_type": "markdown",
   "metadata": {},
   "source": [
    "The thing that follows an if statement can be any statement or function that results in True or False, but it is obviously useful to be able to compare things. Python provides a number of comparison operators, but the most common ones that you will use are ==, <, >, <=, >=, and !=. Most of these have their usual mathematical meanings (for example < and >), but there are a few subtleties to be aware of.\n",
    "1. == tests if two things are equal; we use == rather than = because we need to distinguish comparison from assignment\n",
    "1. != means \"not equal\"\n",
    "1. <= and >= mean \"less than or equal to\" and \"greater than or equal to\", respectively\n",
    "1. when used on strings instead of numbers, < is interpreted to mean \"comes before alphabetically\", and similarly for >, <=, and >="
   ]
  },
  {
   "cell_type": "markdown",
   "metadata": {},
   "source": [
    "That's really all there is to for loops & conditional statements. To demonstrate their utility, let's say we want to extend the capability of our trigonometric function plotting tool so that a user has the option to plot multiple trig functions with different wavelengths. To implement this, we'll combine our function that uses an if-then statement with a for-loop:"
   ]
  },
  {
   "cell_type": "code",
   "execution_count": 104,
   "metadata": {},
   "outputs": [],
   "source": [
    "# Define the plotting function\n",
    "def makeplot(funcname, wavelength=[2*np.pi]):\n",
    "\n",
    "    # Define the x array\n",
    "    x=np.arange(0, 2*np.pi, 0.01)\n",
    "\n",
    "    # Loop over wavelengths\n",
    "    for w in wavelength:\n",
    "\n",
    "        # Check if the user entered the sin, cos, or tan function\n",
    "        if funcname=='sin':\n",
    "            plt.plot(x, np.sin(x*2*np.pi/w))\n",
    "        elif funcname=='cos':\n",
    "            plt.plot(x, np.cos(x*2*np.pi/w))\n",
    "        elif funcname=='tan':\n",
    "            plt.plot(x, np.tan(x*2*np.pi/w))\n",
    "        else:\n",
    "            print(\"Unrecognized function \"+str(f))\n",
    "            return"
   ]
  },
  {
   "cell_type": "markdown",
   "metadata": {},
   "source": [
    "Notice first that we've made use of our optional argument capability. The user can enter a wavelength value, but doesn't have to, because the wavelength will default to 2 pi. If the user does enter a set of wavelengths, we've used a loop to iterate over them. Let's try running this code:"
   ]
  },
  {
   "cell_type": "code",
   "execution_count": 105,
   "metadata": {},
   "outputs": [
    {
     "data": {
      "image/png": "[encoded data removed]",
      "text/plain": [
       "<Figure size 432x288 with 1 Axes>"
      ]
     },
     "metadata": {
      "needs_background": "light"
     },
     "output_type": "display_data"
    }
   ],
   "source": [
    "makeplot('tan', [np.pi, 2*np.pi, 3*np.pi])"
   ]
  },
  {
   "cell_type": "markdown",
   "metadata": {},
   "source": [
    "# 8. Exercises\n",
    "1. How would you modify the above code to allow for the plotting of the cosh and sinh functions?\n",
    "\n",
    "Bonus: what if you want to plot both the input wavelenght and 1/2 the wavelength?  So, if given a single input wavelength w, you would get a plot of 2 lines: w and w/2\n",
    "\n",
    "Bonus bonus: how would you tell each line apart? (hint: linestyles, legends...)"
   ]
  },
  {
   "cell_type": "markdown",
   "metadata": {},
   "source": [
    "# 9. Ellipses, Parabolas, Hyperbolas oh my!"
   ]
  },
  {
   "cell_type": "markdown",
   "metadata": {},
   "source": [
    "Let's recall some of the equations for conic sections:\n",
    " * ellipse centered at $(x_0, y_0)$: $\\frac{(x-x_0)^2}{a^2} + \\frac{(y-y_0)^2}{b^2}$ = 1\n",
    " * parabola with lowest point $(x_0, y_0)$: $y = a(x - x_0)^2 + y_0$\n",
    "    * another form, called standard form: $y = ax^2 + bx + c$\n",
    "    * more about parabolas: https://www.khanacademy.org/math/precalculus/conics-precalc/focus-and-directrix-of-a-parabola/v/focus-and-directrix-introduction\n",
    " * hyperbola: $\\frac{x^2}{a^2} - \\frac{y^2}{b^2} = 1$"
   ]
  },
  {
   "cell_type": "markdown",
   "metadata": {},
   "source": [
    "Let's write a function that takes in a, b, x_0 and y_0 and plots an ellipse.\n",
    "What is the best way to do this?  Usually its easier to plot things as y(x) i.e. y as a function of x this means we have to solve for y:\n",
    "$y = y_0 \\pm \\sqrt{ b^2 - \\frac{b^2}{a^2} (x - x_0)^2 }$\n",
    "\n",
    "The $\\pm$ here just reminds us that for solving quadratics, we have to do the \"upper\" and \"lower\" solutions.  Let's program this!"
   ]
  },
  {
   "cell_type": "code",
   "execution_count": 106,
   "metadata": {},
   "outputs": [],
   "source": [
    "def myEllipseFunctionUpper(a, b, x0, y0, x):\n",
    "    y = y0 + ( b**2 - b**2/a**2*(x-x0)**2 )**0.5\n",
    "    return y\n",
    "\n",
    "def myEllipseFunctionLower(a, b, x0, y0, x):\n",
    "    y = y0 - ( b**2 - b**2/a**2*(x-x0)**2 )**0.5\n",
    "    return y"
   ]
  },
  {
   "cell_type": "code",
   "execution_count": 107,
   "metadata": {},
   "outputs": [],
   "source": [
    "# lets choose some parameters:\n",
    "a = 5\n",
    "b = 2\n",
    "x0 = 5\n",
    "y0 = -1"
   ]
  },
  {
   "cell_type": "markdown",
   "metadata": {},
   "source": [
    "What do we choose for x?  We know that from before we want to use np.arange with x=np.arange(xmin, xmax, xsteps) where xmin is our minimum x and xmax is our maximum x, and xsteps is the size of our steps.  Before getting fancy about it, lets try just guessing:\n"
   ]
  },
  {
   "cell_type": "code",
   "execution_count": 113,
   "metadata": {},
   "outputs": [],
   "source": [
    "x = np.arange(-1, 5, 0.01)"
   ]
  },
  {
   "cell_type": "code",
   "execution_count": 118,
   "metadata": {},
   "outputs": [
    {
     "name": "stderr",
     "output_type": "stream",
     "text": [
      "/Users/jillnaiman1/anaconda3/lib/python3.7/site-packages/ipykernel_launcher.py:2: RuntimeWarning: invalid value encountered in sqrt\n",
      "  \n",
      "/Users/jillnaiman1/anaconda3/lib/python3.7/site-packages/ipykernel_launcher.py:6: RuntimeWarning: invalid value encountered in sqrt\n",
      "  \n"
     ]
    },
    {
     "data": {
      "image/png": "[encoded data removed]",
      "text/plain": [
       "<Figure size 432x288 with 1 Axes>"
      ]
     },
     "metadata": {
      "needs_background": "light"
     },
     "output_type": "display_data"
    }
   ],
   "source": [
    "# let's try plotting!\n",
    "# (1)\n",
    "y_upper = myEllipseFunctionUpper(a, b, x0, y0, x)\n",
    "\n",
    "plt.plot(x, y_upper)\n",
    "\n",
    "# (2) now let's add the lower part\n",
    "y_lower = myEllipseFunctionLower(a, b, x0, y0, x)\n",
    "plt.plot(x, y_lower)\n",
    "\n",
    "# (3) lets also label what is what\n",
    "plt.xlabel('x')\n",
    "plt.ylabel('y')\n",
    "\n",
    "# (4) lets also have it not plot out anything when it plots:\n",
    "plt.show()"
   ]
  },
  {
   "cell_type": "markdown",
   "metadata": {},
   "source": [
    "Ok, let's note a few things here.  First, we have 2 different colors for the upper and lower parts of our ellipse. Also, our ellipse only goes to 1/2 of the whole way around!  This is because we have selected our \"x\" input vector to only cover 1/2 of the whole domain of our ellipse.  We can see that by overplotting the point $(x_0, y_0)$ on our graph:"
   ]
  },
  {
   "cell_type": "code",
   "execution_count": 119,
   "metadata": {},
   "outputs": [
    {
     "data": {
      "image/png": "[encoded data removed]",
      "text/plain": [
       "<Figure size 432x288 with 1 Axes>"
      ]
     },
     "metadata": {
      "needs_background": "light"
     },
     "output_type": "display_data"
    }
   ],
   "source": [
    "plt.plot(x, y_lower)\n",
    "plt.plot(x, y_upper)\n",
    "\n",
    "plt.plot(x0, y0, 'x') #this last entry here just says put an \"x\" at this point\n",
    "\n",
    "plt.xlabel('x')\n",
    "plt.ylabel('y')\n",
    "\n",
    "plt.show()"
   ]
  },
  {
   "cell_type": "markdown",
   "metadata": {},
   "source": [
    "Ok, so we can see that we clearly are only covering 1/2 of our ellipse - just the part left of the center, denoted with the \"x\".  We can fix this easily by increasing our x-range:"
   ]
  },
  {
   "cell_type": "code",
   "execution_count": 124,
   "metadata": {},
   "outputs": [
    {
     "name": "stderr",
     "output_type": "stream",
     "text": [
      "/Users/jillnaiman1/anaconda3/lib/python3.7/site-packages/ipykernel_launcher.py:2: RuntimeWarning: invalid value encountered in sqrt\n",
      "  \n",
      "/Users/jillnaiman1/anaconda3/lib/python3.7/site-packages/ipykernel_launcher.py:6: RuntimeWarning: invalid value encountered in sqrt\n",
      "  \n"
     ]
    },
    {
     "data": {
      "image/png": "[encoded data removed]",
      "text/plain": [
       "<Figure size 432x288 with 1 Axes>"
      ]
     },
     "metadata": {
      "needs_background": "light"
     },
     "output_type": "display_data"
    }
   ],
   "source": [
    "# it looks like our ellipse should extend until 10 on the x-direction\n",
    "x = np.arange(-1, 10, 0.001)\n",
    "\n",
    "# lets re-call our upper and lower functions\n",
    "y_upper = myEllipseFunctionUpper(a, b, x0, y0, x)\n",
    "y_lower = myEllipseFunctionLower(a, b, x0, y0, x)\n",
    "\n",
    "# lets plot and make them the same color\n",
    "plt.plot(x, y_upper, 'b-')\n",
    "plt.plot(x, y_lower, 'b-')\n",
    "# the b- just means \"use a blue (b) line (-)\"\n",
    "# try changing it to a few things like \"--\" instead of \"-\"\n",
    "#  and \"m\" instead of \"b\"\n",
    "\n",
    "# our labels\n",
    "plt.xlabel('x')\n",
    "plt.ylabel('y')\n",
    "\n",
    "\n",
    "plt.show()\n",
    "\n",
    "# note: we can make the \"gab\" at the end smaller by taking smaller\n",
    "# xstep steps in x"
   ]
  },
  {
   "cell_type": "markdown",
   "metadata": {},
   "source": [
    "Ok, so why are we getting these errors about invalid values?  Well, lets think about this.  It says we are getting errors in the sqrt - so maybe we should look at that formula again:\n",
    "\n",
    "$\\sqrt{ b^2 - \\frac{b^2}{a^2} (x - x_0)^2 }$\n",
    "\n",
    "So there could be issues if we are trying to take the square root of a negative number. (Note: you can technically do this using imaginary numbers, but we're staying in the real number space for our own sanity!).  With our values of:\n",
    "\n",
    "a = 5\n",
    "\n",
    "b = 2\n",
    "\n",
    "x0 = 5\n",
    "\n",
    "y0 = -1\n",
    "\n",
    "This is likely negative when x < 0.  Let's test that:"
   ]
  },
  {
   "cell_type": "code",
   "execution_count": 125,
   "metadata": {},
   "outputs": [
    {
     "data": {
      "text/plain": [
       "-1.7599999999999998"
      ]
     },
     "execution_count": 125,
     "metadata": {},
     "output_type": "execute_result"
    }
   ],
   "source": [
    "b**2 - b**2/a**2*(-1 - x0)**2\n",
    "# yup!  we get a negative number."
   ]
  },
  {
   "cell_type": "markdown",
   "metadata": {},
   "source": [
    "Let's change our domain to only x >= 0 and go from there:"
   ]
  },
  {
   "cell_type": "code",
   "execution_count": 126,
   "metadata": {},
   "outputs": [
    {
     "data": {
      "image/png": "[encoded data removed]",
      "text/plain": [
       "<Figure size 432x288 with 1 Axes>"
      ]
     },
     "metadata": {
      "needs_background": "light"
     },
     "output_type": "display_data"
    }
   ],
   "source": [
    "x = np.arange(0, 10, 0.001)\n",
    "\n",
    "# lets re-call our upper and lower functions\n",
    "y_upper = myEllipseFunctionUpper(a, b, x0, y0, x)\n",
    "y_lower = myEllipseFunctionLower(a, b, x0, y0, x)\n",
    "\n",
    "# lets plot and make them the same color\n",
    "plt.plot(x, y_upper, 'b-')\n",
    "plt.plot(x, y_lower, 'b-')\n",
    "\n",
    "# our labels\n",
    "plt.xlabel('x')\n",
    "plt.ylabel('y')\n",
    "\n",
    "\n",
    "plt.show()\n"
   ]
  },
  {
   "cell_type": "markdown",
   "metadata": {},
   "source": [
    "Tah dah!\n",
    "\n",
    "So, we should feel pretty good about ourselves right now. But maybe is there an easier way to do this?  There are a few!  So, one thing we can do is chose our x-values wisely.  \n",
    "\n",
    "So, from our definitions of ellipses, we know that the maximum and minimum in x is $\\pm$ a around the point $x_0$ and the maximum and minimum in y is $\\pm$ b around $y_0$. So we could start with just that in our \"x\" array:"
   ]
  },
  {
   "cell_type": "code",
   "execution_count": 129,
   "metadata": {},
   "outputs": [
    {
     "data": {
      "image/png": "[encoded data removed]",
      "text/plain": [
       "<Figure size 432x288 with 1 Axes>"
      ]
     },
     "metadata": {
      "needs_background": "light"
     },
     "output_type": "display_data"
    }
   ],
   "source": [
    "x = np.arange(x0-a, x0+a, 0.001)\n",
    "\n",
    "# lets re-call our upper and lower functions\n",
    "y_upper = myEllipseFunctionUpper(a, b, x0, y0, x) \n",
    "y_lower = myEllipseFunctionLower(a, b, x0, y0, x)\n",
    "\n",
    "# lets plot and make them the same color\n",
    "plt.plot(x, y_upper, 'b-')\n",
    "plt.plot(x, y_lower, 'b-')\n",
    "\n",
    "# our labels\n",
    "plt.xlabel('x')\n",
    "plt.ylabel('y')\n",
    "\n",
    "plt.show()"
   ]
  },
  {
   "cell_type": "markdown",
   "metadata": {},
   "source": [
    "In summary, we should always be careful about how we choose not only our plotting domains, but our calculation domains as well."
   ]
  },
  {
   "cell_type": "markdown",
   "metadata": {},
   "source": [
    "## 8.1 Exercises\n",
    "1. Make a function that plots a parabola - do you need more than one function?\n",
    "\n",
    "Bonus: how would you extend this to plot multiple parabolas or include an ellipse on the same axis? Bonus bonus: do the same thing but for hyperbolas - do you notice anything interesting?"
   ]
  },
  {
   "cell_type": "markdown",
   "metadata": {},
   "source": [
    "*** HERE WE NEED THETA-X-Y coords ***"
   ]
  },
  {
   "cell_type": "markdown",
   "metadata": {},
   "source": [
    "# 9. Radius-angle formation of an ellipse\n",
    "What if I told you we could use the following formulation for an ellipse?\n",
    "\n",
    "For a origin-centered ellipse:\n",
    "$r(\\theta) = \\frac{b}{\\sqrt{1 - (e \\cos(\\theta) )^2}}$\n",
    "\n",
    "For a foci-centered ellipse:\n",
    "$r(\\theta) = \\frac{ a(1-e^2) }{1-e \\cos(\\theta) }$\n",
    "\n",
    "Where:\n",
    "$e = \\sqrt{ 1- \\frac{b^2}{a^2} }$"
   ]
  },
  {
   "cell_type": "code",
   "execution_count": 136,
   "metadata": {},
   "outputs": [
    {
     "data": {
      "image/png": "[encoded data removed]",
      "text/plain": [
       "<Figure size 432x288 with 1 Axes>"
      ]
     },
     "metadata": {
      "needs_background": "light"
     },
     "output_type": "display_data"
    }
   ],
   "source": [
    "# lets try plotting one:\n",
    "#x = np.arange(x0-a, x0+a, 0.001)\n",
    "theta = np.arange(0, 2*np.pi, 0.001)\n",
    "\n",
    "ecc = np.sqrt(1-b**2/a**2)\n",
    "\n",
    "r = b/np.sqrt(1-ecc*(np.cos(theta))**2)\n",
    "\n",
    "# lets plot and make them the same color\n",
    "plt.plot(theta, r)\n",
    "\n",
    "plt.show()"
   ]
  },
  {
   "cell_type": "markdown",
   "metadata": {},
   "source": [
    "So that clearly looks a little funny - this is because we have to tell matplotlib we are plotting polar coords.  To do this, we have to write our code a little differentely:\n"
   ]
  },
  {
   "cell_type": "code",
   "execution_count": 135,
   "metadata": {},
   "outputs": [
    {
     "data": {
      "image/png": "[encoded data removed]",
      "text/plain": [
       "<Figure size 432x288 with 1 Axes>"
      ]
     },
     "metadata": {
      "needs_background": "light"
     },
     "output_type": "display_data"
    }
   ],
   "source": [
    "theta = np.arange(0, 2*np.pi, 0.001)\n",
    "\n",
    "ecc = np.sqrt(1-b**2/a**2)\n",
    "\n",
    "r = b/np.sqrt(1-ecc*(np.cos(theta))**2)\n",
    "\n",
    "# lets plot and make them the same color\n",
    "fig = plt.figure()\n",
    "ax = fig.add_subplot(111, projection='polar')\n",
    "ax.plot(theta, r)\n",
    "\n",
    "plt.show()"
   ]
  },
  {
   "cell_type": "markdown",
   "metadata": {},
   "source": [
    "Ok, but maybe this isn't what we want - we want to plot this r and $\\theta$ function, but on a cartesian plot.  We can do this if we recall:\n",
    "\n",
    "$x = r cos(\\theta) $\n",
    "\n",
    "$y = r sin(\\theta) $"
   ]
  },
  {
   "cell_type": "code",
   "execution_count": 137,
   "metadata": {},
   "outputs": [
    {
     "data": {
      "image/png": "[encoded data removed]",
      "text/plain": [
       "<Figure size 432x288 with 1 Axes>"
      ]
     },
     "metadata": {
      "needs_background": "light"
     },
     "output_type": "display_data"
    }
   ],
   "source": [
    "# we can use our fig/ax stuff like before, just for practice\n",
    "\n",
    "x = r*np.cos(theta)\n",
    "y = r*np.sin(theta)\n",
    "\n",
    "fig = plt.figure()\n",
    "ax = fig.add_subplot(111)\n",
    "ax.plot(x, y)\n",
    "\n",
    "plt.show()"
   ]
  },
  {
   "cell_type": "markdown",
   "metadata": {},
   "source": [
    "Note this explicitly assumes the ellipse is at the center.  We can move this explicitly back to where we think it should be based on $x_0$ and $y_0$ then:"
   ]
  },
  {
   "cell_type": "code",
   "execution_count": 139,
   "metadata": {},
   "outputs": [
    {
     "data": {
      "image/png": "[encoded data removed]",
      "text/plain": [
       "<Figure size 432x288 with 1 Axes>"
      ]
     },
     "metadata": {
      "needs_background": "light"
     },
     "output_type": "display_data"
    }
   ],
   "source": [
    "x = r*np.cos(theta)+x0\n",
    "y = r*np.sin(theta)+y0\n",
    "\n",
    "fig = plt.figure()\n",
    "ax = fig.add_subplot(111)\n",
    "ax.plot(x, y)\n",
    "\n",
    "plt.show()"
   ]
  },
  {
   "cell_type": "markdown",
   "metadata": {},
   "source": [
    "Why would we bother with all of this?  Because it naturally selects for the upper and lower parts without us having to write separate functions for each."
   ]
  },
  {
   "cell_type": "markdown",
   "metadata": {},
   "source": [
    "# 10. Maybe circular motion?  Plot orbits of space station?\n",
    "* use $G M_1 M_2 / r^2$ at space station - maybe do the math like Khan academy here: https://www.khanacademy.org/science/ap-physics-1/ap-centripetal-force-and-gravitation/newtons-law-of-gravitation-ap/v/space-station-speed-in-orbit\n",
    "* period of orbit of the earth around the sun\n",
    "* have them calculate & plot the moon around the earth\n",
    "* maybe simple sun, earth, moon system plot?\n",
    "* for HW, maybe redo calculations but for different mass of earth and satellite? https://www.khanacademy.org/science/ap-physics-1/ap-centripetal-force-and-gravitation/newtons-law-of-gravitation-ap/v/impact-of-mass-on-orbital-speed\n",
    "* for HW, maybe what would be the speed of orbit if we replaced the earth by a neutron star if we keep the radius of orbit the same\n",
    "* What is g at the surface of a neutron star?\n",
    "* COM of binary stars in circular orbits -> 2 frames (frame of star 1, COM frame)\n",
    "*  IS COM F1 = F2? -> COM at end: https://www.khanacademy.org/science/physics/centripetal-force-and-gravitation/gravity-newtonian/v/gravitation-part-2"
   ]
  },
  {
   "cell_type": "code",
   "execution_count": 1,
   "metadata": {},
   "outputs": [],
   "source": [
    "# maybe we can do circular motion and look at conservation of energy and (angular) momentum?\n",
    "# force/mass for particle mi\n",
    "\n",
    "# start with planet-centeric form with only 1 r and then put in format of ri and rj?\n",
    "#  do ri and rj tomorrow?\n",
    "def calcAcc(mj, ri, rj):\n",
    "    mag_r = np.sqrt( (ri-rj).dot(ri-rj) )\n",
    "    return -G*mj*(ri - rj)/mag_r**3.0\n",
    "\n",
    "# energy\n",
    "def calcE(mi, mj, ri, rj, vi, vj):\n",
    "    mag_r = np.sqrt( (ri-rj).dot(ri-rj) )\n",
    "    return 0.5*(mi*vi.dot(vi) + mj*vj.dot(vj)) - G*mi*mj/mag_r\n",
    "\n",
    "# angular momentum\n",
    "def calcL(mi, mj, ri, rj, vi, vj):\n",
    "    L = mi*np.cross(ri,vi) + mj*np.cross(rj,vj)\n",
    "    mag_L = np.sqrt( L.dot(L) )\n",
    "    return mag_L\n"
   ]
  },
  {
   "cell_type": "code",
   "execution_count": null,
   "metadata": {},
   "outputs": [],
   "source": []
  }
 ],
 "metadata": {
  "kernelspec": {
   "display_name": "Python 3",
   "language": "python",
   "name": "python3"
  },
  "language_info": {
   "codemirror_mode": {
    "name": "ipython",
    "version": 3
   },
   "file_extension": ".py",
   "mimetype": "text/x-python",
   "name": "python",
   "nbconvert_exporter": "python",
   "pygments_lexer": "ipython3",
   "version": "3.7.3"
  }
 },
 "nbformat": 4,
 "nbformat_minor": 2
}
