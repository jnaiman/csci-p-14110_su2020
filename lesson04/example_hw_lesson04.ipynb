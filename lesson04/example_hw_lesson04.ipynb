{
 "cells": [
  {
   "cell_type": "markdown",
   "metadata": {},
   "source": [
    "# Homework #4: EXAMPLE SUBMISSION \n",
    "\n",
    "Name: Jill Naiman\n",
    "\n",
    "### Part 1\n",
    "* Identify a dataset to explore.  \n",
    "  * Check out sources like data.world, data.illinois.gov, data.gov, developer.marvel.com, IDB, etc.\n",
    "* Summarize the characteristics of the dataset in words:  Include the following specific details about your dataset:\n",
    "    * What is the \"name\" of the dataset? What does it represent, what are the fields/columns/rows, what data types are they, etc.\n",
    "    * Where did you obtain it?\n",
    "    * Where can we obtain it? (i.e., URL)\n",
    "    * What is the license of the dataset? What are we allowed to do with it?\n",
    "    * How big is it in file size and in items (rows & columns)?\n",
    "* Make sure you \"submit\" your dataset by either:\n",
    "    * Uploading the dataset with your notebook\n",
    "    * Using an URL to read in your dataset with Pandas"
   ]
  },
  {
   "cell_type": "code",
   "execution_count": 1,
   "metadata": {},
   "outputs": [],
   "source": [
    "# your answer goes here"
   ]
  },
  {
   "cell_type": "markdown",
   "metadata": {},
   "source": [
    "### Part 2\n",
    "\n",
    "Make 1-5 plots that describe your dataset.  Spend some time thinking about how these plots will aid you in \"telling a story\" with your data (see description of part 3).  You can use any Python plotting library of your choice (we have so far just covered matplotlib but you are free to use others if you'd like!).\n",
    "\n",
    "Feel free to include things you tried and didn't \"work\" the way you thought they should!  This will allow us to give you credit even if you don't get the perfect plots you were working towards."
   ]
  },
  {
   "cell_type": "code",
   "execution_count": 2,
   "metadata": {},
   "outputs": [],
   "source": [
    "# your answer goes here"
   ]
  },
  {
   "cell_type": "markdown",
   "metadata": {},
   "source": [
    "### Part 3\n",
    "\n",
    "Using the plots you generated in Part 2, tell the \"story\" of your data or one aspect of your data in 1-5 paragraphs -- what did you learn about your dataset?  What do you want your viewer to learn through your plots?\n",
    "\n",
    "Be sure to include some ideas about:\n",
    "* How data collection might have biased the results that you show\n",
    "* What choices you made in your plotting methods (line plot/bar plot) or color schemes, data labels, etc "
   ]
  },
  {
   "cell_type": "code",
   "execution_count": 3,
   "metadata": {},
   "outputs": [],
   "source": [
    "# your answer goes here"
   ]
  },
  {
   "cell_type": "code",
   "execution_count": null,
   "metadata": {},
   "outputs": [],
   "source": []
  }
 ],
 "metadata": {
  "kernelspec": {
   "display_name": "Python 3",
   "language": "python",
   "name": "python3"
  },
  "language_info": {
   "codemirror_mode": {
    "name": "ipython",
    "version": 3
   },
   "file_extension": ".py",
   "mimetype": "text/x-python",
   "name": "python",
   "nbconvert_exporter": "python",
   "pygments_lexer": "ipython3",
   "version": "3.7.7"
  }
 },
 "nbformat": 4,
 "nbformat_minor": 2
}
