{
 "cells": [
  {
   "cell_type": "code",
   "execution_count": 2,
   "metadata": {},
   "outputs": [],
   "source": [
    "# import all the things!\n",
    "import ipywidgets\n",
    "import pandas as pd\n",
    "import numpy as np\n",
    "import matplotlib.pyplot as plt\n",
    "import bqplot.pyplot as bplt # importing the matplotlib-like interfact for the bqplot viz engine"
   ]
  },
  {
   "cell_type": "code",
   "execution_count": 6,
   "metadata": {},
   "outputs": [
    {
     "data": {
      "application/vnd.jupyter.widget-view+json": {
       "model_id": "bb1ec85aed1b4e00bf62aa22b10a03b2",
       "version_major": 2,
       "version_minor": 0
      },
      "text/plain": [
       "interactive(children=(Text(value='', description='sentence'), Output()), _dom_classes=('widget-interact',))"
      ]
     },
     "metadata": {},
     "output_type": "display_data"
    }
   ],
   "source": [
    "@ipywidgets.interact(sentence='')\n",
    "def my_phrase_print(sentence):\n",
    "    print(sentence)"
   ]
  },
  {
   "cell_type": "code",
   "execution_count": 5,
   "metadata": {},
   "outputs": [
    {
     "name": "stdout",
     "output_type": "stream",
     "text": [
      "hi there\n"
     ]
    }
   ],
   "source": [
    "my_phrase_print('hi there')"
   ]
  },
  {
   "cell_type": "markdown",
   "metadata": {},
   "source": [
    "## A few more individual widgets"
   ]
  },
  {
   "cell_type": "code",
   "execution_count": 7,
   "metadata": {},
   "outputs": [
    {
     "data": {
      "application/vnd.jupyter.widget-view+json": {
       "model_id": "6cef6f64f1f24b7991795e7f02ee1cb4",
       "version_major": 2,
       "version_minor": 0
      },
      "text/plain": [
       "IntText(value=0)"
      ]
     },
     "metadata": {},
     "output_type": "display_data"
    }
   ],
   "source": [
    "itext = ipywidgets.IntText()\n",
    "itext"
   ]
  },
  {
   "cell_type": "code",
   "execution_count": 9,
   "metadata": {},
   "outputs": [
    {
     "data": {
      "text/plain": [
       "14"
      ]
     },
     "execution_count": 9,
     "metadata": {},
     "output_type": "execute_result"
    }
   ],
   "source": [
    "itext.value"
   ]
  },
  {
   "cell_type": "code",
   "execution_count": 10,
   "metadata": {},
   "outputs": [],
   "source": [
    "itext.value = 100"
   ]
  },
  {
   "cell_type": "code",
   "execution_count": 11,
   "metadata": {},
   "outputs": [],
   "source": [
    "slider = ipywidgets.IntSlider(min=0, max=10, step=1)"
   ]
  },
  {
   "cell_type": "code",
   "execution_count": 12,
   "metadata": {},
   "outputs": [
    {
     "data": {
      "application/vnd.jupyter.widget-view+json": {
       "model_id": "6375bc19e97f4e6295a11171624ecbb7",
       "version_major": 2,
       "version_minor": 0
      },
      "text/plain": [
       "IntSlider(value=0, max=10)"
      ]
     },
     "metadata": {},
     "output_type": "display_data"
    }
   ],
   "source": [
    "slider"
   ]
  },
  {
   "cell_type": "code",
   "execution_count": 15,
   "metadata": {},
   "outputs": [],
   "source": [
    "slider.value = 9"
   ]
  },
  {
   "cell_type": "code",
   "execution_count": 16,
   "metadata": {},
   "outputs": [
    {
     "data": {
      "text/plain": [
       "['__class__',\n",
       " '__del__',\n",
       " '__delattr__',\n",
       " '__dict__',\n",
       " '__dir__',\n",
       " '__doc__',\n",
       " '__eq__',\n",
       " '__format__',\n",
       " '__ge__',\n",
       " '__getattribute__',\n",
       " '__getstate__',\n",
       " '__gt__',\n",
       " '__hash__',\n",
       " '__init__',\n",
       " '__init_subclass__',\n",
       " '__le__',\n",
       " '__lt__',\n",
       " '__module__',\n",
       " '__ne__',\n",
       " '__new__',\n",
       " '__reduce__',\n",
       " '__reduce_ex__',\n",
       " '__repr__',\n",
       " '__setattr__',\n",
       " '__setstate__',\n",
       " '__sizeof__',\n",
       " '__str__',\n",
       " '__subclasshook__',\n",
       " '__weakref__',\n",
       " '_add_notifiers',\n",
       " '_call_widget_constructed',\n",
       " '_comm_changed',\n",
       " '_compare',\n",
       " '_cross_validation_lock',\n",
       " '_default_keys',\n",
       " '_display_callbacks',\n",
       " '_dom_classes',\n",
       " '_gen_repr_from_keys',\n",
       " '_get_embed_state',\n",
       " '_handle_custom_msg',\n",
       " '_handle_displayed',\n",
       " '_handle_msg',\n",
       " '_holding_sync',\n",
       " '_ipython_display_',\n",
       " '_is_numpy',\n",
       " '_lock_property',\n",
       " '_log_default',\n",
       " '_model_id',\n",
       " '_model_module',\n",
       " '_model_module_version',\n",
       " '_model_name',\n",
       " '_msg_callbacks',\n",
       " '_notify_trait',\n",
       " '_property_lock',\n",
       " '_register_validator',\n",
       " '_remove_notifiers',\n",
       " '_repr_keys',\n",
       " '_send',\n",
       " '_should_send_property',\n",
       " '_states_to_send',\n",
       " '_trait_default_generators',\n",
       " '_trait_from_json',\n",
       " '_trait_notifiers',\n",
       " '_trait_to_json',\n",
       " '_trait_validators',\n",
       " '_trait_values',\n",
       " '_validate_max',\n",
       " '_validate_min',\n",
       " '_validate_value',\n",
       " '_view_count',\n",
       " '_view_module',\n",
       " '_view_module_version',\n",
       " '_view_name',\n",
       " '_widget_construction_callback',\n",
       " 'add_class',\n",
       " 'add_traits',\n",
       " 'class_own_trait_events',\n",
       " 'class_own_traits',\n",
       " 'class_trait_names',\n",
       " 'class_traits',\n",
       " 'close',\n",
       " 'close_all',\n",
       " 'comm',\n",
       " 'continuous_update',\n",
       " 'cross_validation_lock',\n",
       " 'description',\n",
       " 'description_tooltip',\n",
       " 'disabled',\n",
       " 'get_interact_value',\n",
       " 'get_manager_state',\n",
       " 'get_state',\n",
       " 'get_view_spec',\n",
       " 'handle_comm_opened',\n",
       " 'has_trait',\n",
       " 'hold_sync',\n",
       " 'hold_trait_notifications',\n",
       " 'keys',\n",
       " 'layout',\n",
       " 'log',\n",
       " 'max',\n",
       " 'min',\n",
       " 'model_id',\n",
       " 'notify_change',\n",
       " 'observe',\n",
       " 'on_displayed',\n",
       " 'on_msg',\n",
       " 'on_trait_change',\n",
       " 'on_widget_constructed',\n",
       " 'open',\n",
       " 'orientation',\n",
       " 'readout',\n",
       " 'readout_format',\n",
       " 'remove_class',\n",
       " 'send',\n",
       " 'send_state',\n",
       " 'set_state',\n",
       " 'set_trait',\n",
       " 'setup_instance',\n",
       " 'step',\n",
       " 'style',\n",
       " 'trait_events',\n",
       " 'trait_metadata',\n",
       " 'trait_names',\n",
       " 'traits',\n",
       " 'unobserve',\n",
       " 'unobserve_all',\n",
       " 'value',\n",
       " 'widget_types',\n",
       " 'widgets']"
      ]
     },
     "execution_count": 16,
     "metadata": {},
     "output_type": "execute_result"
    }
   ],
   "source": [
    "dir(slider)"
   ]
  },
  {
   "cell_type": "code",
   "execution_count": 17,
   "metadata": {},
   "outputs": [],
   "source": [
    "slider.observe?"
   ]
  },
  {
   "cell_type": "code",
   "execution_count": 18,
   "metadata": {},
   "outputs": [],
   "source": [
    "# start by making a function that prints out the value of the slider\n",
    "def print_slider(change): # \"handler\" function\n",
    "    print(change) # first doing stuff with \"callbacks\" its nice to print out what is going on!"
   ]
  },
  {
   "cell_type": "code",
   "execution_count": 19,
   "metadata": {},
   "outputs": [],
   "source": [
    "slider.observe(print_slider, 'value') # observe for changes in trait of \"value\" of the slider and do \"print_slider\""
   ]
  },
  {
   "cell_type": "code",
   "execution_count": 20,
   "metadata": {},
   "outputs": [
    {
     "data": {
      "application/vnd.jupyter.widget-view+json": {
       "model_id": "6375bc19e97f4e6295a11171624ecbb7",
       "version_major": 2,
       "version_minor": 0
      },
      "text/plain": [
       "IntSlider(value=8, max=10)"
      ]
     },
     "metadata": {},
     "output_type": "display_data"
    },
    {
     "name": "stdout",
     "output_type": "stream",
     "text": [
      "{'name': 'value', 'old': 8, 'new': 7, 'owner': IntSlider(value=7, max=10), 'type': 'change'}\n",
      "{'name': 'value', 'old': 7, 'new': 6, 'owner': IntSlider(value=6, max=10), 'type': 'change'}\n",
      "{'name': 'value', 'old': 6, 'new': 5, 'owner': IntSlider(value=5, max=10), 'type': 'change'}\n",
      "{'name': 'value', 'old': 5, 'new': 4, 'owner': IntSlider(value=4, max=10), 'type': 'change'}\n"
     ]
    }
   ],
   "source": [
    "slider"
   ]
  },
  {
   "cell_type": "markdown",
   "metadata": {},
   "source": [
    "We'll start making this observe/slider combo more complex:"
   ]
  },
  {
   "cell_type": "code",
   "execution_count": 21,
   "metadata": {},
   "outputs": [],
   "source": [
    "def print_slider2(change):\n",
    "    print('old:', change['old'], 'new:', change['new'])"
   ]
  },
  {
   "cell_type": "code",
   "execution_count": 23,
   "metadata": {},
   "outputs": [],
   "source": [
    "slider2 = ipywidgets.IntSlider(min=0, max=10, step=1)"
   ]
  },
  {
   "cell_type": "code",
   "execution_count": 24,
   "metadata": {},
   "outputs": [],
   "source": [
    "# observe for changes in slider2's value\n",
    "slider2.observe(print_slider2, 'value')"
   ]
  },
  {
   "cell_type": "code",
   "execution_count": 25,
   "metadata": {},
   "outputs": [
    {
     "data": {
      "application/vnd.jupyter.widget-view+json": {
       "model_id": "a373db58aa614b56ab7141b46304accb",
       "version_major": 2,
       "version_minor": 0
      },
      "text/plain": [
       "IntSlider(value=0, max=10)"
      ]
     },
     "metadata": {},
     "output_type": "display_data"
    },
    {
     "name": "stdout",
     "output_type": "stream",
     "text": [
      "old: 0 new: 1\n",
      "old: 1 new: 2\n",
      "old: 2 new: 3\n",
      "old: 3 new: 4\n",
      "old: 4 new: 3\n",
      "old: 3 new: 2\n",
      "old: 2 new: 3\n",
      "old: 3 new: 4\n",
      "old: 4 new: 5\n",
      "old: 5 new: 6\n"
     ]
    }
   ],
   "source": [
    "# display this slider:\n",
    "slider2"
   ]
  },
  {
   "cell_type": "markdown",
   "metadata": {},
   "source": [
    "Now that I have access to the `change['new']` by itself in my handler function I can drive changes in *another* widget with changes in the slider.\n",
    "\n",
    "Use a label widget and have what it is showing (printing out) be tied to updates in the slider."
   ]
  },
  {
   "cell_type": "code",
   "execution_count": 26,
   "metadata": {},
   "outputs": [
    {
     "data": {
      "application/vnd.jupyter.widget-view+json": {
       "model_id": "0d38705c402e4c84bb453a5cf6987bca",
       "version_major": 2,
       "version_minor": 0
      },
      "text/plain": [
       "Label(value='')"
      ]
     },
     "metadata": {},
     "output_type": "display_data"
    }
   ],
   "source": [
    "# make a label widget\n",
    "myLabel = ipywidgets.Label()\n",
    "myLabel"
   ]
  },
  {
   "cell_type": "code",
   "execution_count": 27,
   "metadata": {},
   "outputs": [],
   "source": [
    "myLabel.value = 'Hi I am a label.'"
   ]
  },
  {
   "cell_type": "markdown",
   "metadata": {},
   "source": [
    "For example, when the slider's value is 8, I want the label to say \"The slider is at 8\"."
   ]
  },
  {
   "cell_type": "code",
   "execution_count": 28,
   "metadata": {},
   "outputs": [],
   "source": [
    "# start by making another slider to drive changes\n",
    "slider3 = ipywidgets.IntSlider(min=0, max=10, step=1)"
   ]
  },
  {
   "cell_type": "code",
   "execution_count": 31,
   "metadata": {},
   "outputs": [
    {
     "data": {
      "text/plain": [
       "'hi there 8'"
      ]
     },
     "execution_count": 31,
     "metadata": {},
     "output_type": "execute_result"
    }
   ],
   "source": [
    "\"hi there \" + str(8) #'hello'"
   ]
  },
  {
   "cell_type": "code",
   "execution_count": 32,
   "metadata": {},
   "outputs": [],
   "source": [
    "def print_slider3(change):\n",
    "    #print('old:', change['old'], 'new:', change['new'])\n",
    "    myLabel.value = \"The slider is at \" + str(change['new']) # last part changes the number to a string"
   ]
  },
  {
   "cell_type": "code",
   "execution_count": 33,
   "metadata": {},
   "outputs": [],
   "source": [
    "# link with .observe to changes in the SLIDER -- looks for changes in value of slider\n",
    "# NOT changes in the label -- changes in the label are being driven by changes in the slider\n",
    "slider3.observe(print_slider3, 'value')"
   ]
  },
  {
   "cell_type": "code",
   "execution_count": 46,
   "metadata": {},
   "outputs": [],
   "source": [
    "#slider3.new\n",
    "slider3.observe?"
   ]
  },
  {
   "cell_type": "code",
   "execution_count": 34,
   "metadata": {
    "scrolled": true
   },
   "outputs": [
    {
     "data": {
      "application/vnd.jupyter.widget-view+json": {
       "model_id": "e36fbddbe4bb44e49857a10f9de1a578",
       "version_major": 2,
       "version_minor": 0
      },
      "text/plain": [
       "IntSlider(value=0, max=10)"
      ]
     },
     "metadata": {},
     "output_type": "display_data"
    }
   ],
   "source": [
    "slider3"
   ]
  },
  {
   "cell_type": "code",
   "execution_count": 35,
   "metadata": {},
   "outputs": [
    {
     "data": {
      "application/vnd.jupyter.widget-view+json": {
       "model_id": "0d38705c402e4c84bb453a5cf6987bca",
       "version_major": 2,
       "version_minor": 0
      },
      "text/plain": [
       "Label(value='Hi I am a label.')"
      ]
     },
     "metadata": {},
     "output_type": "display_data"
    }
   ],
   "source": [
    "myLabel"
   ]
  },
  {
   "cell_type": "code",
   "execution_count": 39,
   "metadata": {},
   "outputs": [],
   "source": [
    "slider3.observe?"
   ]
  },
  {
   "cell_type": "code",
   "execution_count": 36,
   "metadata": {},
   "outputs": [
    {
     "data": {
      "application/vnd.jupyter.widget-view+json": {
       "model_id": "594df46971c44b13a9f80b6eee405637",
       "version_major": 2,
       "version_minor": 0
      },
      "text/plain": [
       "HBox(children=(IntSlider(value=2, max=10), Label(value='The slider is at 2')))"
      ]
     },
     "metadata": {},
     "output_type": "display_data"
    }
   ],
   "source": [
    "# do something fancy with layout of the widgets\n",
    "# Horizontal box to put them side by side\n",
    "ipywidgets.HBox([slider3, myLabel])"
   ]
  },
  {
   "cell_type": "code",
   "execution_count": 37,
   "metadata": {},
   "outputs": [
    {
     "data": {
      "application/vnd.jupyter.widget-view+json": {
       "model_id": "b5e95e15c15646979533b563df0ce19e",
       "version_major": 2,
       "version_minor": 0
      },
      "text/plain": [
       "VBox(children=(IntSlider(value=4, max=10), Label(value='The slider is at 4')))"
      ]
     },
     "metadata": {},
     "output_type": "display_data"
    }
   ],
   "source": [
    "ipywidgets.VBox([slider3, myLabel])"
   ]
  },
  {
   "cell_type": "code",
   "execution_count": 38,
   "metadata": {},
   "outputs": [
    {
     "data": {
      "application/vnd.jupyter.widget-view+json": {
       "model_id": "b6f7c0648f184a0ab05d8c60b64681ac",
       "version_major": 2,
       "version_minor": 0
      },
      "text/plain": [
       "IntSlider(value=0, max=10)"
      ]
     },
     "metadata": {},
     "output_type": "display_data"
    },
    {
     "name": "stdout",
     "output_type": "stream",
     "text": [
      "{'name': 'value', 'old': 0, 'new': 1, 'owner': IntSlider(value=1, max=10), 'type': 'change'}\n",
      "{'name': 'value', 'old': 1, 'new': 2, 'owner': IntSlider(value=2, max=10), 'type': 'change'}\n",
      "{'name': 'value', 'old': 2, 'new': 3, 'owner': IntSlider(value=3, max=10), 'type': 'change'}\n",
      "{'name': 'value', 'old': 3, 'new': 4, 'owner': IntSlider(value=4, max=10), 'type': 'change'}\n",
      "{'name': 'value', 'old': 4, 'new': 3, 'owner': IntSlider(value=3, max=10), 'type': 'change'}\n",
      "{'name': 'value', 'old': 3, 'new': 2, 'owner': IntSlider(value=2, max=10), 'type': 'change'}\n",
      "{'name': 'value', 'old': 2, 'new': 3, 'owner': IntSlider(value=3, max=10), 'type': 'change'}\n",
      "{'name': 'value', 'old': 3, 'new': 4, 'owner': IntSlider(value=4, max=10), 'type': 'change'}\n",
      "{'name': 'value', 'old': 4, 'new': 5, 'owner': IntSlider(value=5, max=10), 'type': 'change'}\n",
      "{'name': 'value', 'old': 5, 'new': 6, 'owner': IntSlider(value=6, max=10), 'type': 'change'}\n",
      "{'name': 'value', 'old': 6, 'new': 5, 'owner': IntSlider(value=5, max=10), 'type': 'change'}\n",
      "{'name': 'value', 'old': 5, 'new': 4, 'owner': IntSlider(value=4, max=10), 'type': 'change'}\n",
      "{'name': 'value', 'old': 4, 'new': 3, 'owner': IntSlider(value=3, max=10), 'type': 'change'}\n",
      "{'name': 'value', 'old': 3, 'new': 4, 'owner': IntSlider(value=4, max=10), 'type': 'change'}\n",
      "{'name': 'value', 'old': 4, 'new': 5, 'owner': IntSlider(value=5, max=10), 'type': 'change'}\n",
      "{'name': 'value', 'old': 5, 'new': 6, 'owner': IntSlider(value=6, max=10), 'type': 'change'}\n",
      "{'name': 'value', 'old': 6, 'new': 5, 'owner': IntSlider(value=5, max=10), 'type': 'change'}\n",
      "{'name': 'value', 'old': 5, 'new': 4, 'owner': IntSlider(value=4, max=10), 'type': 'change'}\n",
      "{'name': 'value', 'old': 4, 'new': 3, 'owner': IntSlider(value=3, max=10), 'type': 'change'}\n",
      "{'name': 'value', 'old': 3, 'new': 4, 'owner': IntSlider(value=4, max=10), 'type': 'change'}\n",
      "{'name': 'value', 'old': 4, 'new': 6, 'owner': IntSlider(value=6, max=10), 'type': 'change'}\n",
      "{'name': 'value', 'old': 6, 'new': 7, 'owner': IntSlider(value=7, max=10), 'type': 'change'}\n",
      "{'name': 'value', 'old': 7, 'new': 8, 'owner': IntSlider(value=8, max=10), 'type': 'change'}\n",
      "{'name': 'value', 'old': 8, 'new': 7, 'owner': IntSlider(value=7, max=10), 'type': 'change'}\n",
      "{'name': 'value', 'old': 7, 'new': 6, 'owner': IntSlider(value=6, max=10), 'type': 'change'}\n",
      "{'name': 'value', 'old': 6, 'new': 5, 'owner': IntSlider(value=5, max=10), 'type': 'change'}\n",
      "{'name': 'value', 'old': 5, 'new': 4, 'owner': IntSlider(value=4, max=10), 'type': 'change'}\n",
      "{'name': 'value', 'old': 4, 'new': 3, 'owner': IntSlider(value=3, max=10), 'type': 'change'}\n"
     ]
    }
   ],
   "source": [
    "slider4 = ipywidgets.IntSlider(min=0, max=10, step=1)\n",
    "\n",
    "def print_slider_weirdo(bob):\n",
    "    print(bob)\n",
    "    \n",
    "slider4.observe(print_slider_weirdo, 'value')\n",
    "slider4"
   ]
  },
  {
   "cell_type": "markdown",
   "metadata": {},
   "source": [
    "## Read in planet data and then do some interactive plots with it!"
   ]
  },
  {
   "cell_type": "code",
   "execution_count": 47,
   "metadata": {},
   "outputs": [],
   "source": [
    "planets = pd.read_csv('https://jnaiman.github.io/csci-p-14110_su2020/lesson08/planets_2020.06.22_10.10.17.csv', \n",
    "                     sep=\",\", comment=\"#\")"
   ]
  },
  {
   "cell_type": "code",
   "execution_count": 48,
   "metadata": {},
   "outputs": [
    {
     "data": {
      "text/html": [
       "<div>\n",
       "<style scoped>\n",
       "    .dataframe tbody tr th:only-of-type {\n",
       "        vertical-align: middle;\n",
       "    }\n",
       "\n",
       "    .dataframe tbody tr th {\n",
       "        vertical-align: top;\n",
       "    }\n",
       "\n",
       "    .dataframe thead th {\n",
       "        text-align: right;\n",
       "    }\n",
       "</style>\n",
       "<table border=\"1\" class=\"dataframe\">\n",
       "  <thead>\n",
       "    <tr style=\"text-align: right;\">\n",
       "      <th></th>\n",
       "      <th>rowid</th>\n",
       "      <th>pl_hostname</th>\n",
       "      <th>pl_letter</th>\n",
       "      <th>pl_name</th>\n",
       "      <th>pl_discmethod</th>\n",
       "      <th>pl_controvflag</th>\n",
       "      <th>pl_pnum</th>\n",
       "      <th>pl_orbper</th>\n",
       "      <th>pl_orbpererr1</th>\n",
       "      <th>pl_orbpererr2</th>\n",
       "      <th>...</th>\n",
       "      <th>st_bmy</th>\n",
       "      <th>st_bmyerr</th>\n",
       "      <th>st_bmylim</th>\n",
       "      <th>st_m1</th>\n",
       "      <th>st_m1err</th>\n",
       "      <th>st_m1lim</th>\n",
       "      <th>st_c1</th>\n",
       "      <th>st_c1err</th>\n",
       "      <th>st_c1lim</th>\n",
       "      <th>st_colorn</th>\n",
       "    </tr>\n",
       "  </thead>\n",
       "  <tbody>\n",
       "    <tr>\n",
       "      <th>0</th>\n",
       "      <td>1</td>\n",
       "      <td>11 Com</td>\n",
       "      <td>b</td>\n",
       "      <td>11 Com b</td>\n",
       "      <td>Radial Velocity</td>\n",
       "      <td>0</td>\n",
       "      <td>1</td>\n",
       "      <td>326.030000</td>\n",
       "      <td>0.320000</td>\n",
       "      <td>-0.320000</td>\n",
       "      <td>...</td>\n",
       "      <td>NaN</td>\n",
       "      <td>NaN</td>\n",
       "      <td>NaN</td>\n",
       "      <td>NaN</td>\n",
       "      <td>NaN</td>\n",
       "      <td>NaN</td>\n",
       "      <td>NaN</td>\n",
       "      <td>NaN</td>\n",
       "      <td>NaN</td>\n",
       "      <td>7.0</td>\n",
       "    </tr>\n",
       "    <tr>\n",
       "      <th>1</th>\n",
       "      <td>2</td>\n",
       "      <td>11 UMi</td>\n",
       "      <td>b</td>\n",
       "      <td>11 UMi b</td>\n",
       "      <td>Radial Velocity</td>\n",
       "      <td>0</td>\n",
       "      <td>1</td>\n",
       "      <td>516.219970</td>\n",
       "      <td>3.200000</td>\n",
       "      <td>-3.200000</td>\n",
       "      <td>...</td>\n",
       "      <td>NaN</td>\n",
       "      <td>NaN</td>\n",
       "      <td>NaN</td>\n",
       "      <td>NaN</td>\n",
       "      <td>NaN</td>\n",
       "      <td>NaN</td>\n",
       "      <td>NaN</td>\n",
       "      <td>NaN</td>\n",
       "      <td>NaN</td>\n",
       "      <td>5.0</td>\n",
       "    </tr>\n",
       "    <tr>\n",
       "      <th>2</th>\n",
       "      <td>3</td>\n",
       "      <td>14 And</td>\n",
       "      <td>b</td>\n",
       "      <td>14 And b</td>\n",
       "      <td>Radial Velocity</td>\n",
       "      <td>0</td>\n",
       "      <td>1</td>\n",
       "      <td>185.840000</td>\n",
       "      <td>0.230000</td>\n",
       "      <td>-0.230000</td>\n",
       "      <td>...</td>\n",
       "      <td>NaN</td>\n",
       "      <td>NaN</td>\n",
       "      <td>NaN</td>\n",
       "      <td>NaN</td>\n",
       "      <td>NaN</td>\n",
       "      <td>NaN</td>\n",
       "      <td>NaN</td>\n",
       "      <td>NaN</td>\n",
       "      <td>NaN</td>\n",
       "      <td>7.0</td>\n",
       "    </tr>\n",
       "    <tr>\n",
       "      <th>3</th>\n",
       "      <td>4</td>\n",
       "      <td>14 Her</td>\n",
       "      <td>b</td>\n",
       "      <td>14 Her b</td>\n",
       "      <td>Radial Velocity</td>\n",
       "      <td>0</td>\n",
       "      <td>1</td>\n",
       "      <td>1773.400020</td>\n",
       "      <td>2.500000</td>\n",
       "      <td>-2.500000</td>\n",
       "      <td>...</td>\n",
       "      <td>0.537</td>\n",
       "      <td>0.001</td>\n",
       "      <td>0.0</td>\n",
       "      <td>0.366</td>\n",
       "      <td>0.002</td>\n",
       "      <td>0.0</td>\n",
       "      <td>0.438</td>\n",
       "      <td>0.006</td>\n",
       "      <td>0.0</td>\n",
       "      <td>9.0</td>\n",
       "    </tr>\n",
       "    <tr>\n",
       "      <th>4</th>\n",
       "      <td>5</td>\n",
       "      <td>16 Cyg B</td>\n",
       "      <td>b</td>\n",
       "      <td>16 Cyg B b</td>\n",
       "      <td>Radial Velocity</td>\n",
       "      <td>0</td>\n",
       "      <td>1</td>\n",
       "      <td>798.500000</td>\n",
       "      <td>1.000000</td>\n",
       "      <td>-1.000000</td>\n",
       "      <td>...</td>\n",
       "      <td>0.418</td>\n",
       "      <td>0.003</td>\n",
       "      <td>0.0</td>\n",
       "      <td>0.222</td>\n",
       "      <td>0.003</td>\n",
       "      <td>0.0</td>\n",
       "      <td>0.351</td>\n",
       "      <td>0.003</td>\n",
       "      <td>0.0</td>\n",
       "      <td>17.0</td>\n",
       "    </tr>\n",
       "    <tr>\n",
       "      <th>...</th>\n",
       "      <td>...</td>\n",
       "      <td>...</td>\n",
       "      <td>...</td>\n",
       "      <td>...</td>\n",
       "      <td>...</td>\n",
       "      <td>...</td>\n",
       "      <td>...</td>\n",
       "      <td>...</td>\n",
       "      <td>...</td>\n",
       "      <td>...</td>\n",
       "      <td>...</td>\n",
       "      <td>...</td>\n",
       "      <td>...</td>\n",
       "      <td>...</td>\n",
       "      <td>...</td>\n",
       "      <td>...</td>\n",
       "      <td>...</td>\n",
       "      <td>...</td>\n",
       "      <td>...</td>\n",
       "      <td>...</td>\n",
       "      <td>...</td>\n",
       "    </tr>\n",
       "    <tr>\n",
       "      <th>4159</th>\n",
       "      <td>4160</td>\n",
       "      <td>tau Gem</td>\n",
       "      <td>b</td>\n",
       "      <td>tau Gem b</td>\n",
       "      <td>Radial Velocity</td>\n",
       "      <td>0</td>\n",
       "      <td>1</td>\n",
       "      <td>305.500000</td>\n",
       "      <td>0.100000</td>\n",
       "      <td>-0.100000</td>\n",
       "      <td>...</td>\n",
       "      <td>NaN</td>\n",
       "      <td>NaN</td>\n",
       "      <td>NaN</td>\n",
       "      <td>NaN</td>\n",
       "      <td>NaN</td>\n",
       "      <td>NaN</td>\n",
       "      <td>NaN</td>\n",
       "      <td>NaN</td>\n",
       "      <td>NaN</td>\n",
       "      <td>7.0</td>\n",
       "    </tr>\n",
       "    <tr>\n",
       "      <th>4160</th>\n",
       "      <td>4161</td>\n",
       "      <td>ups And</td>\n",
       "      <td>b</td>\n",
       "      <td>ups And b</td>\n",
       "      <td>Radial Velocity</td>\n",
       "      <td>0</td>\n",
       "      <td>3</td>\n",
       "      <td>4.617033</td>\n",
       "      <td>0.000023</td>\n",
       "      <td>-0.000023</td>\n",
       "      <td>...</td>\n",
       "      <td>NaN</td>\n",
       "      <td>NaN</td>\n",
       "      <td>NaN</td>\n",
       "      <td>NaN</td>\n",
       "      <td>NaN</td>\n",
       "      <td>NaN</td>\n",
       "      <td>NaN</td>\n",
       "      <td>NaN</td>\n",
       "      <td>NaN</td>\n",
       "      <td>8.0</td>\n",
       "    </tr>\n",
       "    <tr>\n",
       "      <th>4161</th>\n",
       "      <td>4162</td>\n",
       "      <td>ups And</td>\n",
       "      <td>c</td>\n",
       "      <td>ups And c</td>\n",
       "      <td>Radial Velocity</td>\n",
       "      <td>0</td>\n",
       "      <td>3</td>\n",
       "      <td>241.258000</td>\n",
       "      <td>0.064000</td>\n",
       "      <td>-0.064000</td>\n",
       "      <td>...</td>\n",
       "      <td>NaN</td>\n",
       "      <td>NaN</td>\n",
       "      <td>NaN</td>\n",
       "      <td>NaN</td>\n",
       "      <td>NaN</td>\n",
       "      <td>NaN</td>\n",
       "      <td>NaN</td>\n",
       "      <td>NaN</td>\n",
       "      <td>NaN</td>\n",
       "      <td>8.0</td>\n",
       "    </tr>\n",
       "    <tr>\n",
       "      <th>4162</th>\n",
       "      <td>4163</td>\n",
       "      <td>ups And</td>\n",
       "      <td>d</td>\n",
       "      <td>ups And d</td>\n",
       "      <td>Radial Velocity</td>\n",
       "      <td>0</td>\n",
       "      <td>3</td>\n",
       "      <td>1276.460000</td>\n",
       "      <td>0.570000</td>\n",
       "      <td>-0.570000</td>\n",
       "      <td>...</td>\n",
       "      <td>NaN</td>\n",
       "      <td>NaN</td>\n",
       "      <td>NaN</td>\n",
       "      <td>NaN</td>\n",
       "      <td>NaN</td>\n",
       "      <td>NaN</td>\n",
       "      <td>NaN</td>\n",
       "      <td>NaN</td>\n",
       "      <td>NaN</td>\n",
       "      <td>8.0</td>\n",
       "    </tr>\n",
       "    <tr>\n",
       "      <th>4163</th>\n",
       "      <td>4164</td>\n",
       "      <td>xi Aql</td>\n",
       "      <td>b</td>\n",
       "      <td>xi Aql b</td>\n",
       "      <td>Radial Velocity</td>\n",
       "      <td>0</td>\n",
       "      <td>1</td>\n",
       "      <td>136.750000</td>\n",
       "      <td>0.250000</td>\n",
       "      <td>-0.250000</td>\n",
       "      <td>...</td>\n",
       "      <td>NaN</td>\n",
       "      <td>NaN</td>\n",
       "      <td>NaN</td>\n",
       "      <td>NaN</td>\n",
       "      <td>NaN</td>\n",
       "      <td>NaN</td>\n",
       "      <td>NaN</td>\n",
       "      <td>NaN</td>\n",
       "      <td>NaN</td>\n",
       "      <td>9.0</td>\n",
       "    </tr>\n",
       "  </tbody>\n",
       "</table>\n",
       "<p>4164 rows × 356 columns</p>\n",
       "</div>"
      ],
      "text/plain": [
       "      rowid pl_hostname pl_letter     pl_name    pl_discmethod  \\\n",
       "0         1      11 Com         b    11 Com b  Radial Velocity   \n",
       "1         2      11 UMi         b    11 UMi b  Radial Velocity   \n",
       "2         3      14 And         b    14 And b  Radial Velocity   \n",
       "3         4      14 Her         b    14 Her b  Radial Velocity   \n",
       "4         5    16 Cyg B         b  16 Cyg B b  Radial Velocity   \n",
       "...     ...         ...       ...         ...              ...   \n",
       "4159   4160     tau Gem         b   tau Gem b  Radial Velocity   \n",
       "4160   4161     ups And         b   ups And b  Radial Velocity   \n",
       "4161   4162     ups And         c   ups And c  Radial Velocity   \n",
       "4162   4163     ups And         d   ups And d  Radial Velocity   \n",
       "4163   4164      xi Aql         b    xi Aql b  Radial Velocity   \n",
       "\n",
       "      pl_controvflag  pl_pnum    pl_orbper  pl_orbpererr1  pl_orbpererr2  ...  \\\n",
       "0                  0        1   326.030000       0.320000      -0.320000  ...   \n",
       "1                  0        1   516.219970       3.200000      -3.200000  ...   \n",
       "2                  0        1   185.840000       0.230000      -0.230000  ...   \n",
       "3                  0        1  1773.400020       2.500000      -2.500000  ...   \n",
       "4                  0        1   798.500000       1.000000      -1.000000  ...   \n",
       "...              ...      ...          ...            ...            ...  ...   \n",
       "4159               0        1   305.500000       0.100000      -0.100000  ...   \n",
       "4160               0        3     4.617033       0.000023      -0.000023  ...   \n",
       "4161               0        3   241.258000       0.064000      -0.064000  ...   \n",
       "4162               0        3  1276.460000       0.570000      -0.570000  ...   \n",
       "4163               0        1   136.750000       0.250000      -0.250000  ...   \n",
       "\n",
       "      st_bmy  st_bmyerr  st_bmylim  st_m1  st_m1err  st_m1lim  st_c1  \\\n",
       "0        NaN        NaN        NaN    NaN       NaN       NaN    NaN   \n",
       "1        NaN        NaN        NaN    NaN       NaN       NaN    NaN   \n",
       "2        NaN        NaN        NaN    NaN       NaN       NaN    NaN   \n",
       "3      0.537      0.001        0.0  0.366     0.002       0.0  0.438   \n",
       "4      0.418      0.003        0.0  0.222     0.003       0.0  0.351   \n",
       "...      ...        ...        ...    ...       ...       ...    ...   \n",
       "4159     NaN        NaN        NaN    NaN       NaN       NaN    NaN   \n",
       "4160     NaN        NaN        NaN    NaN       NaN       NaN    NaN   \n",
       "4161     NaN        NaN        NaN    NaN       NaN       NaN    NaN   \n",
       "4162     NaN        NaN        NaN    NaN       NaN       NaN    NaN   \n",
       "4163     NaN        NaN        NaN    NaN       NaN       NaN    NaN   \n",
       "\n",
       "      st_c1err  st_c1lim  st_colorn  \n",
       "0          NaN       NaN        7.0  \n",
       "1          NaN       NaN        5.0  \n",
       "2          NaN       NaN        7.0  \n",
       "3        0.006       0.0        9.0  \n",
       "4        0.003       0.0       17.0  \n",
       "...        ...       ...        ...  \n",
       "4159       NaN       NaN        7.0  \n",
       "4160       NaN       NaN        8.0  \n",
       "4161       NaN       NaN        8.0  \n",
       "4162       NaN       NaN        8.0  \n",
       "4163       NaN       NaN        9.0  \n",
       "\n",
       "[4164 rows x 356 columns]"
      ]
     },
     "execution_count": 48,
     "metadata": {},
     "output_type": "execute_result"
    }
   ],
   "source": [
    "planets"
   ]
  },
  {
   "cell_type": "code",
   "execution_count": 51,
   "metadata": {},
   "outputs": [
    {
     "data": {
      "image/png": "[encoded data removed]",
      "text/plain": [
       "<Figure size 288x288 with 1 Axes>"
      ]
     },
     "metadata": {
      "needs_background": "light"
     },
     "output_type": "display_data"
    }
   ],
   "source": [
    "# make a quick plot with looking at the semi-major axis\n",
    "fig, ax = plt.subplots(1,1,figsize=(4,4))\n",
    "ax.hist(planets['pl_orbsmax'])\n",
    "ax.set_xlabel('Orbit Semi-Major Axis [au])')\n",
    "ax.set_ylabel('Frequency')\n",
    "plt.show()"
   ]
  },
  {
   "cell_type": "code",
   "execution_count": 52,
   "metadata": {},
   "outputs": [
    {
     "data": {
      "image/png": "[encoded data removed]",
      "text/plain": [
       "<Figure size 288x288 with 1 Axes>"
      ]
     },
     "metadata": {
      "needs_background": "light"
     },
     "output_type": "display_data"
    }
   ],
   "source": [
    "fig, ax = plt.subplots(1,1,figsize=(4,4))\n",
    "ax.hist(planets['pl_orbsmax'])\n",
    "ax.set_xlabel('Orbit Semi-Major Axis [au])')\n",
    "ax.set_ylabel('Frequency')\n",
    "ax.set_yscale('log') # log instead of linear scale\n",
    "plt.show()"
   ]
  },
  {
   "cell_type": "code",
   "execution_count": 55,
   "metadata": {},
   "outputs": [
    {
     "data": {
      "image/png": "[encoded data removed]",
      "text/plain": [
       "<Figure size 288x288 with 1 Axes>"
      ]
     },
     "metadata": {
      "needs_background": "light"
     },
     "output_type": "display_data"
    }
   ],
   "source": [
    "# let's make a quick plot for the eccentricity\n",
    "fig, ax = plt.subplots(1,1, figsize=(4,4))\n",
    "ax.hist(planets['pl_orbeccen'])\n",
    "ax.set_xlabel('eccentricity')\n",
    "plt.show()"
   ]
  },
  {
   "cell_type": "code",
   "execution_count": 56,
   "metadata": {},
   "outputs": [
    {
     "data": {
      "application/vnd.jupyter.widget-view+json": {
       "model_id": "07ffcd352f5246688b733d4528634631",
       "version_major": 2,
       "version_minor": 0
      },
      "text/plain": [
       "Figure(axes=[Axis(scale=LinearScale()), Axis(orientation='vertical', scale=LinearScale())], fig_margin={'top':…"
      ]
     },
     "metadata": {},
     "output_type": "display_data"
    }
   ],
   "source": [
    "# quick interactive scatter plot using bqplot\n",
    "fig = bplt.figure()\n",
    "\n",
    "scatter_plot = bplt.scatter(planets['pl_orbsmax'], planets['pl_orbeccen'])\n",
    "\n",
    "fig"
   ]
  },
  {
   "cell_type": "code",
   "execution_count": 62,
   "metadata": {},
   "outputs": [],
   "source": [
    "#planets = pd.read_csv('https://jnaiman.github.io/csci-p-14110_su2020/lesson08/planets_2020.06.22_10.10.17.csv',\n",
    "#                      comment=\"#\")"
   ]
  },
  {
   "cell_type": "code",
   "execution_count": 63,
   "metadata": {},
   "outputs": [],
   "source": [
    "#planets"
   ]
  },
  {
   "cell_type": "code",
   "execution_count": 96,
   "metadata": {},
   "outputs": [],
   "source": [
    "# downsample our data for interactivity\n",
    "nsamples = 100\n",
    "randomInds = np.random.choice(range(len(planets)-1), \n",
    "                              nsamples, \n",
    "                              replace=False)"
   ]
  },
  {
   "cell_type": "code",
   "execution_count": 73,
   "metadata": {},
   "outputs": [
    {
     "data": {
      "text/plain": [
       "100"
      ]
     },
     "execution_count": 73,
     "metadata": {},
     "output_type": "execute_result"
    }
   ],
   "source": [
    "len(randomInds)"
   ]
  },
  {
   "cell_type": "code",
   "execution_count": 74,
   "metadata": {},
   "outputs": [],
   "source": [
    "planetsDS = planets.iloc[randomInds]"
   ]
  },
  {
   "cell_type": "code",
   "execution_count": 75,
   "metadata": {},
   "outputs": [
    {
     "data": {
      "text/html": [
       "<div>\n",
       "<style scoped>\n",
       "    .dataframe tbody tr th:only-of-type {\n",
       "        vertical-align: middle;\n",
       "    }\n",
       "\n",
       "    .dataframe tbody tr th {\n",
       "        vertical-align: top;\n",
       "    }\n",
       "\n",
       "    .dataframe thead th {\n",
       "        text-align: right;\n",
       "    }\n",
       "</style>\n",
       "<table border=\"1\" class=\"dataframe\">\n",
       "  <thead>\n",
       "    <tr style=\"text-align: right;\">\n",
       "      <th></th>\n",
       "      <th>rowid</th>\n",
       "      <th>pl_hostname</th>\n",
       "      <th>pl_letter</th>\n",
       "      <th>pl_name</th>\n",
       "      <th>pl_discmethod</th>\n",
       "      <th>pl_controvflag</th>\n",
       "      <th>pl_pnum</th>\n",
       "      <th>pl_orbper</th>\n",
       "      <th>pl_orbpererr1</th>\n",
       "      <th>pl_orbpererr2</th>\n",
       "      <th>...</th>\n",
       "      <th>st_bmy</th>\n",
       "      <th>st_bmyerr</th>\n",
       "      <th>st_bmylim</th>\n",
       "      <th>st_m1</th>\n",
       "      <th>st_m1err</th>\n",
       "      <th>st_m1lim</th>\n",
       "      <th>st_c1</th>\n",
       "      <th>st_c1err</th>\n",
       "      <th>st_c1lim</th>\n",
       "      <th>st_colorn</th>\n",
       "    </tr>\n",
       "  </thead>\n",
       "  <tbody>\n",
       "    <tr>\n",
       "      <th>1873</th>\n",
       "      <td>1874</td>\n",
       "      <td>Kepler-135</td>\n",
       "      <td>c</td>\n",
       "      <td>Kepler-135 c</td>\n",
       "      <td>Transit</td>\n",
       "      <td>0</td>\n",
       "      <td>2</td>\n",
       "      <td>11.448708</td>\n",
       "      <td>0.000145</td>\n",
       "      <td>-0.000145</td>\n",
       "      <td>...</td>\n",
       "      <td>NaN</td>\n",
       "      <td>NaN</td>\n",
       "      <td>NaN</td>\n",
       "      <td>NaN</td>\n",
       "      <td>NaN</td>\n",
       "      <td>NaN</td>\n",
       "      <td>NaN</td>\n",
       "      <td>NaN</td>\n",
       "      <td>NaN</td>\n",
       "      <td>5.0</td>\n",
       "    </tr>\n",
       "    <tr>\n",
       "      <th>746</th>\n",
       "      <td>747</td>\n",
       "      <td>HD 31253</td>\n",
       "      <td>b</td>\n",
       "      <td>HD 31253 b</td>\n",
       "      <td>Radial Velocity</td>\n",
       "      <td>0</td>\n",
       "      <td>1</td>\n",
       "      <td>466.000000</td>\n",
       "      <td>3.000000</td>\n",
       "      <td>-3.000000</td>\n",
       "      <td>...</td>\n",
       "      <td>0.365</td>\n",
       "      <td>0.003</td>\n",
       "      <td>0.0</td>\n",
       "      <td>0.18</td>\n",
       "      <td>0.004</td>\n",
       "      <td>0.0</td>\n",
       "      <td>0.418</td>\n",
       "      <td>0.005</td>\n",
       "      <td>0.0</td>\n",
       "      <td>8.0</td>\n",
       "    </tr>\n",
       "    <tr>\n",
       "      <th>2142</th>\n",
       "      <td>2143</td>\n",
       "      <td>Kepler-1552</td>\n",
       "      <td>b</td>\n",
       "      <td>Kepler-1552 b</td>\n",
       "      <td>Transit</td>\n",
       "      <td>0</td>\n",
       "      <td>1</td>\n",
       "      <td>184.771853</td>\n",
       "      <td>0.001546</td>\n",
       "      <td>-0.001546</td>\n",
       "      <td>...</td>\n",
       "      <td>NaN</td>\n",
       "      <td>NaN</td>\n",
       "      <td>NaN</td>\n",
       "      <td>NaN</td>\n",
       "      <td>NaN</td>\n",
       "      <td>NaN</td>\n",
       "      <td>NaN</td>\n",
       "      <td>NaN</td>\n",
       "      <td>NaN</td>\n",
       "      <td>5.0</td>\n",
       "    </tr>\n",
       "    <tr>\n",
       "      <th>923</th>\n",
       "      <td>924</td>\n",
       "      <td>HD 99109</td>\n",
       "      <td>b</td>\n",
       "      <td>HD 99109 b</td>\n",
       "      <td>Radial Velocity</td>\n",
       "      <td>0</td>\n",
       "      <td>1</td>\n",
       "      <td>439.299990</td>\n",
       "      <td>5.600000</td>\n",
       "      <td>-5.600000</td>\n",
       "      <td>...</td>\n",
       "      <td>NaN</td>\n",
       "      <td>NaN</td>\n",
       "      <td>NaN</td>\n",
       "      <td>NaN</td>\n",
       "      <td>NaN</td>\n",
       "      <td>NaN</td>\n",
       "      <td>NaN</td>\n",
       "      <td>NaN</td>\n",
       "      <td>NaN</td>\n",
       "      <td>7.0</td>\n",
       "    </tr>\n",
       "    <tr>\n",
       "      <th>1295</th>\n",
       "      <td>1296</td>\n",
       "      <td>K2-63</td>\n",
       "      <td>b</td>\n",
       "      <td>K2-63 b</td>\n",
       "      <td>Transit</td>\n",
       "      <td>0</td>\n",
       "      <td>2</td>\n",
       "      <td>20.257000</td>\n",
       "      <td>0.007200</td>\n",
       "      <td>-0.007200</td>\n",
       "      <td>...</td>\n",
       "      <td>NaN</td>\n",
       "      <td>NaN</td>\n",
       "      <td>NaN</td>\n",
       "      <td>NaN</td>\n",
       "      <td>NaN</td>\n",
       "      <td>NaN</td>\n",
       "      <td>NaN</td>\n",
       "      <td>NaN</td>\n",
       "      <td>NaN</td>\n",
       "      <td>4.0</td>\n",
       "    </tr>\n",
       "    <tr>\n",
       "      <th>...</th>\n",
       "      <td>...</td>\n",
       "      <td>...</td>\n",
       "      <td>...</td>\n",
       "      <td>...</td>\n",
       "      <td>...</td>\n",
       "      <td>...</td>\n",
       "      <td>...</td>\n",
       "      <td>...</td>\n",
       "      <td>...</td>\n",
       "      <td>...</td>\n",
       "      <td>...</td>\n",
       "      <td>...</td>\n",
       "      <td>...</td>\n",
       "      <td>...</td>\n",
       "      <td>...</td>\n",
       "      <td>...</td>\n",
       "      <td>...</td>\n",
       "      <td>...</td>\n",
       "      <td>...</td>\n",
       "      <td>...</td>\n",
       "      <td>...</td>\n",
       "    </tr>\n",
       "    <tr>\n",
       "      <th>3898</th>\n",
       "      <td>3899</td>\n",
       "      <td>TOI-216</td>\n",
       "      <td>c</td>\n",
       "      <td>TOI-216.01</td>\n",
       "      <td>Transit</td>\n",
       "      <td>0</td>\n",
       "      <td>2</td>\n",
       "      <td>34.556000</td>\n",
       "      <td>0.014000</td>\n",
       "      <td>-0.010000</td>\n",
       "      <td>...</td>\n",
       "      <td>NaN</td>\n",
       "      <td>NaN</td>\n",
       "      <td>NaN</td>\n",
       "      <td>NaN</td>\n",
       "      <td>NaN</td>\n",
       "      <td>NaN</td>\n",
       "      <td>NaN</td>\n",
       "      <td>NaN</td>\n",
       "      <td>NaN</td>\n",
       "      <td>3.0</td>\n",
       "    </tr>\n",
       "    <tr>\n",
       "      <th>1297</th>\n",
       "      <td>1298</td>\n",
       "      <td>K2-64</td>\n",
       "      <td>b</td>\n",
       "      <td>K2-64 b</td>\n",
       "      <td>Transit</td>\n",
       "      <td>0</td>\n",
       "      <td>1</td>\n",
       "      <td>6.530440</td>\n",
       "      <td>0.000670</td>\n",
       "      <td>-0.000670</td>\n",
       "      <td>...</td>\n",
       "      <td>NaN</td>\n",
       "      <td>NaN</td>\n",
       "      <td>NaN</td>\n",
       "      <td>NaN</td>\n",
       "      <td>NaN</td>\n",
       "      <td>NaN</td>\n",
       "      <td>NaN</td>\n",
       "      <td>NaN</td>\n",
       "      <td>NaN</td>\n",
       "      <td>4.0</td>\n",
       "    </tr>\n",
       "    <tr>\n",
       "      <th>163</th>\n",
       "      <td>164</td>\n",
       "      <td>GJ 27.1</td>\n",
       "      <td>b</td>\n",
       "      <td>GJ 27.1 b</td>\n",
       "      <td>Radial Velocity</td>\n",
       "      <td>0</td>\n",
       "      <td>1</td>\n",
       "      <td>15.819000</td>\n",
       "      <td>0.023000</td>\n",
       "      <td>-0.026000</td>\n",
       "      <td>...</td>\n",
       "      <td>NaN</td>\n",
       "      <td>NaN</td>\n",
       "      <td>NaN</td>\n",
       "      <td>NaN</td>\n",
       "      <td>NaN</td>\n",
       "      <td>NaN</td>\n",
       "      <td>NaN</td>\n",
       "      <td>NaN</td>\n",
       "      <td>NaN</td>\n",
       "      <td>15.0</td>\n",
       "    </tr>\n",
       "    <tr>\n",
       "      <th>1693</th>\n",
       "      <td>1694</td>\n",
       "      <td>Kepler-1212</td>\n",
       "      <td>b</td>\n",
       "      <td>Kepler-1212 b</td>\n",
       "      <td>Transit</td>\n",
       "      <td>0</td>\n",
       "      <td>1</td>\n",
       "      <td>12.941301</td>\n",
       "      <td>0.000079</td>\n",
       "      <td>-0.000079</td>\n",
       "      <td>...</td>\n",
       "      <td>NaN</td>\n",
       "      <td>NaN</td>\n",
       "      <td>NaN</td>\n",
       "      <td>NaN</td>\n",
       "      <td>NaN</td>\n",
       "      <td>NaN</td>\n",
       "      <td>NaN</td>\n",
       "      <td>NaN</td>\n",
       "      <td>NaN</td>\n",
       "      <td>5.0</td>\n",
       "    </tr>\n",
       "    <tr>\n",
       "      <th>3229</th>\n",
       "      <td>3230</td>\n",
       "      <td>Kepler-608</td>\n",
       "      <td>b</td>\n",
       "      <td>Kepler-608 b</td>\n",
       "      <td>Transit</td>\n",
       "      <td>0</td>\n",
       "      <td>1</td>\n",
       "      <td>6.412515</td>\n",
       "      <td>0.000005</td>\n",
       "      <td>-0.000005</td>\n",
       "      <td>...</td>\n",
       "      <td>NaN</td>\n",
       "      <td>NaN</td>\n",
       "      <td>NaN</td>\n",
       "      <td>NaN</td>\n",
       "      <td>NaN</td>\n",
       "      <td>NaN</td>\n",
       "      <td>NaN</td>\n",
       "      <td>NaN</td>\n",
       "      <td>NaN</td>\n",
       "      <td>5.0</td>\n",
       "    </tr>\n",
       "  </tbody>\n",
       "</table>\n",
       "<p>100 rows × 356 columns</p>\n",
       "</div>"
      ],
      "text/plain": [
       "      rowid  pl_hostname pl_letter        pl_name    pl_discmethod  \\\n",
       "1873   1874   Kepler-135         c   Kepler-135 c          Transit   \n",
       "746     747     HD 31253         b     HD 31253 b  Radial Velocity   \n",
       "2142   2143  Kepler-1552         b  Kepler-1552 b          Transit   \n",
       "923     924     HD 99109         b     HD 99109 b  Radial Velocity   \n",
       "1295   1296        K2-63         b        K2-63 b          Transit   \n",
       "...     ...          ...       ...            ...              ...   \n",
       "3898   3899      TOI-216         c     TOI-216.01          Transit   \n",
       "1297   1298        K2-64         b        K2-64 b          Transit   \n",
       "163     164      GJ 27.1         b      GJ 27.1 b  Radial Velocity   \n",
       "1693   1694  Kepler-1212         b  Kepler-1212 b          Transit   \n",
       "3229   3230   Kepler-608         b   Kepler-608 b          Transit   \n",
       "\n",
       "      pl_controvflag  pl_pnum   pl_orbper  pl_orbpererr1  pl_orbpererr2  ...  \\\n",
       "1873               0        2   11.448708       0.000145      -0.000145  ...   \n",
       "746                0        1  466.000000       3.000000      -3.000000  ...   \n",
       "2142               0        1  184.771853       0.001546      -0.001546  ...   \n",
       "923                0        1  439.299990       5.600000      -5.600000  ...   \n",
       "1295               0        2   20.257000       0.007200      -0.007200  ...   \n",
       "...              ...      ...         ...            ...            ...  ...   \n",
       "3898               0        2   34.556000       0.014000      -0.010000  ...   \n",
       "1297               0        1    6.530440       0.000670      -0.000670  ...   \n",
       "163                0        1   15.819000       0.023000      -0.026000  ...   \n",
       "1693               0        1   12.941301       0.000079      -0.000079  ...   \n",
       "3229               0        1    6.412515       0.000005      -0.000005  ...   \n",
       "\n",
       "      st_bmy  st_bmyerr  st_bmylim  st_m1  st_m1err  st_m1lim  st_c1  \\\n",
       "1873     NaN        NaN        NaN    NaN       NaN       NaN    NaN   \n",
       "746    0.365      0.003        0.0   0.18     0.004       0.0  0.418   \n",
       "2142     NaN        NaN        NaN    NaN       NaN       NaN    NaN   \n",
       "923      NaN        NaN        NaN    NaN       NaN       NaN    NaN   \n",
       "1295     NaN        NaN        NaN    NaN       NaN       NaN    NaN   \n",
       "...      ...        ...        ...    ...       ...       ...    ...   \n",
       "3898     NaN        NaN        NaN    NaN       NaN       NaN    NaN   \n",
       "1297     NaN        NaN        NaN    NaN       NaN       NaN    NaN   \n",
       "163      NaN        NaN        NaN    NaN       NaN       NaN    NaN   \n",
       "1693     NaN        NaN        NaN    NaN       NaN       NaN    NaN   \n",
       "3229     NaN        NaN        NaN    NaN       NaN       NaN    NaN   \n",
       "\n",
       "      st_c1err  st_c1lim  st_colorn  \n",
       "1873       NaN       NaN        5.0  \n",
       "746      0.005       0.0        8.0  \n",
       "2142       NaN       NaN        5.0  \n",
       "923        NaN       NaN        7.0  \n",
       "1295       NaN       NaN        4.0  \n",
       "...        ...       ...        ...  \n",
       "3898       NaN       NaN        3.0  \n",
       "1297       NaN       NaN        4.0  \n",
       "163        NaN       NaN       15.0  \n",
       "1693       NaN       NaN        5.0  \n",
       "3229       NaN       NaN        5.0  \n",
       "\n",
       "[100 rows x 356 columns]"
      ]
     },
     "execution_count": 75,
     "metadata": {},
     "output_type": "execute_result"
    }
   ],
   "source": [
    "planetsDS"
   ]
  },
  {
   "cell_type": "code",
   "execution_count": 76,
   "metadata": {},
   "outputs": [
    {
     "data": {
      "application/vnd.jupyter.widget-view+json": {
       "model_id": "c6b884ba2ca041d2a721a84660b3076e",
       "version_major": 2,
       "version_minor": 0
      },
      "text/plain": [
       "Figure(axes=[Axis(scale=LinearScale()), Axis(orientation='vertical', scale=LinearScale())], fig_margin={'top':…"
      ]
     },
     "metadata": {},
     "output_type": "display_data"
    }
   ],
   "source": [
    "# figure but using the downsampled dataset\n",
    "fig = bplt.figure()\n",
    "\n",
    "scatter_plot = bplt.scatter(planetsDS['pl_orbsmax'], planetsDS['pl_orbeccen'])\n",
    "\n",
    "fig"
   ]
  },
  {
   "cell_type": "code",
   "execution_count": 81,
   "metadata": {},
   "outputs": [
    {
     "data": {
      "application/vnd.jupyter.widget-view+json": {
       "model_id": "940b8d363f574006b4e023ddc25df1ff",
       "version_major": 2,
       "version_minor": 0
      },
      "text/plain": [
       "VBox(children=(Figure(axes=[Axis(scale=LinearScale(max=15.0, min=0.0)), Axis(orientation='vertical', scale=Lin…"
      ]
     },
     "metadata": {},
     "output_type": "display_data"
    }
   ],
   "source": [
    "# figure but using the downsampled dataset\n",
    "fig = bplt.figure()\n",
    "#fig.layout.min_width=800\n",
    "scatter_plot = bplt.scatter(planetsDS['pl_orbsmax'], planetsDS['pl_orbeccen'])\n",
    "\n",
    "bplt.xlim(0,15)\n",
    "\n",
    "#fig\n",
    "bplt.show()"
   ]
  },
  {
   "cell_type": "code",
   "execution_count": 82,
   "metadata": {},
   "outputs": [
    {
     "data": {
      "text/plain": [
       "['_model_module',\n",
       " '_model_module_version',\n",
       " '_model_name',\n",
       " '_view_count',\n",
       " '_view_module',\n",
       " '_view_module_version',\n",
       " '_view_name',\n",
       " 'apply_clip',\n",
       " 'color',\n",
       " 'colors',\n",
       " 'default_opacities',\n",
       " 'default_size',\n",
       " 'default_skew',\n",
       " 'display_legend',\n",
       " 'display_names',\n",
       " 'drag_color',\n",
       " 'drag_size',\n",
       " 'enable_delete',\n",
       " 'enable_hover',\n",
       " 'enable_move',\n",
       " 'fill',\n",
       " 'hovered_point',\n",
       " 'hovered_style',\n",
       " 'interactions',\n",
       " 'labels',\n",
       " 'marker',\n",
       " 'names',\n",
       " 'names_unique',\n",
       " 'opacity',\n",
       " 'preserve_domain',\n",
       " 'restrict_x',\n",
       " 'restrict_y',\n",
       " 'rotation',\n",
       " 'scales',\n",
       " 'scales_metadata',\n",
       " 'selected',\n",
       " 'selected_style',\n",
       " 'size',\n",
       " 'skew',\n",
       " 'stroke',\n",
       " 'stroke_width',\n",
       " 'tooltip',\n",
       " 'tooltip_location',\n",
       " 'tooltip_style',\n",
       " 'unhovered_style',\n",
       " 'unselected_style',\n",
       " 'update_on_move',\n",
       " 'visible',\n",
       " 'x',\n",
       " 'y']"
      ]
     },
     "execution_count": 82,
     "metadata": {},
     "output_type": "execute_result"
    }
   ],
   "source": [
    "scatter_plot.keys"
   ]
  },
  {
   "cell_type": "code",
   "execution_count": 83,
   "metadata": {},
   "outputs": [
    {
     "data": {
      "application/vnd.jupyter.widget-view+json": {
       "model_id": "7acb57e524fe4a99841512e2b3b92b07",
       "version_major": 2,
       "version_minor": 0
      },
      "text/plain": [
       "VBox(children=(Figure(axes=[Axis(scale=LinearScale(max=15.0, min=0.0)), Axis(orientation='vertical', scale=Lin…"
      ]
     },
     "metadata": {},
     "output_type": "display_data"
    }
   ],
   "source": [
    "fig = bplt.figure()\n",
    "scatter_plot = bplt.scatter(planetsDS['pl_orbsmax'], planetsDS['pl_orbeccen'],\n",
    "                           interactions={'click':'select'}) # adding in a select points interaction\n",
    "\n",
    "bplt.xlim(0,15)\n",
    "\n",
    "bplt.show()"
   ]
  },
  {
   "cell_type": "code",
   "execution_count": 86,
   "metadata": {},
   "outputs": [
    {
     "data": {
      "text/plain": [
       "array([83], dtype=uint32)"
      ]
     },
     "execution_count": 86,
     "metadata": {},
     "output_type": "execute_result"
    }
   ],
   "source": [
    "scatter_plot.selected"
   ]
  },
  {
   "cell_type": "code",
   "execution_count": 95,
   "metadata": {},
   "outputs": [
    {
     "data": {
      "application/vnd.jupyter.widget-view+json": {
       "model_id": "1fa573a7aa584c25be7c008f167bf81b",
       "version_major": 2,
       "version_minor": 0
      },
      "text/plain": [
       "VBox(children=(Figure(axes=[Axis(scale=LinearScale(max=15.0, min=0.0)), Axis(orientation='vertical', scale=Lin…"
      ]
     },
     "metadata": {},
     "output_type": "display_data"
    }
   ],
   "source": [
    "fig = bplt.figure()\n",
    "scatter_plot = bplt.scatter(planetsDS['pl_orbsmax'], \n",
    "                            planetsDS['pl_orbeccen'],\n",
    "                            interactions={'click':'select'},\n",
    "                            selected_style={'fill':'red'}) \n",
    "\n",
    "bplt.xlim(0,15)\n",
    "\n",
    "bplt.show()"
   ]
  },
  {
   "cell_type": "code",
   "execution_count": 115,
   "metadata": {},
   "outputs": [
    {
     "data": {
      "text/plain": [
       "array([20], dtype=uint32)"
      ]
     },
     "execution_count": 115,
     "metadata": {},
     "output_type": "execute_result"
    }
   ],
   "source": [
    "scatter_plot.selected"
   ]
  },
  {
   "cell_type": "code",
   "execution_count": 116,
   "metadata": {
    "scrolled": false
   },
   "outputs": [],
   "source": [
    "#scatter_plot.keys"
   ]
  },
  {
   "cell_type": "code",
   "execution_count": 117,
   "metadata": {},
   "outputs": [
    {
     "data": {
      "text/html": [
       "<div>\n",
       "<style scoped>\n",
       "    .dataframe tbody tr th:only-of-type {\n",
       "        vertical-align: middle;\n",
       "    }\n",
       "\n",
       "    .dataframe tbody tr th {\n",
       "        vertical-align: top;\n",
       "    }\n",
       "\n",
       "    .dataframe thead th {\n",
       "        text-align: right;\n",
       "    }\n",
       "</style>\n",
       "<table border=\"1\" class=\"dataframe\">\n",
       "  <thead>\n",
       "    <tr style=\"text-align: right;\">\n",
       "      <th></th>\n",
       "      <th>rowid</th>\n",
       "      <th>pl_hostname</th>\n",
       "      <th>pl_letter</th>\n",
       "      <th>pl_name</th>\n",
       "      <th>pl_discmethod</th>\n",
       "      <th>pl_controvflag</th>\n",
       "      <th>pl_pnum</th>\n",
       "      <th>pl_orbper</th>\n",
       "      <th>pl_orbpererr1</th>\n",
       "      <th>pl_orbpererr2</th>\n",
       "      <th>...</th>\n",
       "      <th>st_bmy</th>\n",
       "      <th>st_bmyerr</th>\n",
       "      <th>st_bmylim</th>\n",
       "      <th>st_m1</th>\n",
       "      <th>st_m1err</th>\n",
       "      <th>st_m1lim</th>\n",
       "      <th>st_c1</th>\n",
       "      <th>st_c1err</th>\n",
       "      <th>st_c1lim</th>\n",
       "      <th>st_colorn</th>\n",
       "    </tr>\n",
       "  </thead>\n",
       "  <tbody>\n",
       "    <tr>\n",
       "      <th>724</th>\n",
       "      <td>725</td>\n",
       "      <td>HD 25171</td>\n",
       "      <td>b</td>\n",
       "      <td>HD 25171 b</td>\n",
       "      <td>Radial Velocity</td>\n",
       "      <td>0</td>\n",
       "      <td>1</td>\n",
       "      <td>1802.29</td>\n",
       "      <td>24.12</td>\n",
       "      <td>-22.92</td>\n",
       "      <td>...</td>\n",
       "      <td>0.345</td>\n",
       "      <td>0.003</td>\n",
       "      <td>0.0</td>\n",
       "      <td>0.154</td>\n",
       "      <td>0.004</td>\n",
       "      <td>0.0</td>\n",
       "      <td>0.371</td>\n",
       "      <td>0.006</td>\n",
       "      <td>0.0</td>\n",
       "      <td>10.0</td>\n",
       "    </tr>\n",
       "  </tbody>\n",
       "</table>\n",
       "<p>1 rows × 356 columns</p>\n",
       "</div>"
      ],
      "text/plain": [
       "     rowid pl_hostname pl_letter     pl_name    pl_discmethod  pl_controvflag  \\\n",
       "724    725    HD 25171         b  HD 25171 b  Radial Velocity               0   \n",
       "\n",
       "     pl_pnum  pl_orbper  pl_orbpererr1  pl_orbpererr2  ...  st_bmy  st_bmyerr  \\\n",
       "724        1    1802.29          24.12         -22.92  ...   0.345      0.003   \n",
       "\n",
       "     st_bmylim  st_m1  st_m1err  st_m1lim  st_c1  st_c1err  st_c1lim  \\\n",
       "724        0.0  0.154     0.004       0.0  0.371     0.006       0.0   \n",
       "\n",
       "     st_colorn  \n",
       "724       10.0  \n",
       "\n",
       "[1 rows x 356 columns]"
      ]
     },
     "execution_count": 117,
     "metadata": {},
     "output_type": "execute_result"
    }
   ],
   "source": [
    "planetsDS.iloc[scatter_plot.selected]"
   ]
  },
  {
   "cell_type": "code",
   "execution_count": 118,
   "metadata": {},
   "outputs": [
    {
     "data": {
      "text/plain": [
       "724    La Silla Observatory\n",
       "Name: pl_facility, dtype: object"
      ]
     },
     "execution_count": 118,
     "metadata": {},
     "output_type": "execute_result"
    }
   ],
   "source": [
    "planetsDS.iloc[scatter_plot.selected]['pl_facility']"
   ]
  },
  {
   "cell_type": "markdown",
   "metadata": {},
   "source": [
    "Right now the facility name of my selected row is NOT a string, we want to grab the string so we'll do a bit of data formatting to get it."
   ]
  },
  {
   "cell_type": "code",
   "execution_count": 119,
   "metadata": {},
   "outputs": [
    {
     "data": {
      "text/plain": [
       "array(['La Silla Observatory'], dtype=object)"
      ]
     },
     "execution_count": 119,
     "metadata": {},
     "output_type": "execute_result"
    }
   ],
   "source": [
    "planetsDS.iloc[scatter_plot.selected]['pl_facility'].values"
   ]
  },
  {
   "cell_type": "markdown",
   "metadata": {},
   "source": [
    "Using the `.values` function from Pandas we are getting an array of selected facilities, but we just want the one value!  Index this selection:"
   ]
  },
  {
   "cell_type": "code",
   "execution_count": 120,
   "metadata": {},
   "outputs": [
    {
     "data": {
      "text/plain": [
       "'La Silla Observatory'"
      ]
     },
     "execution_count": 120,
     "metadata": {},
     "output_type": "execute_result"
    }
   ],
   "source": [
    "planetsDS.iloc[scatter_plot.selected]['pl_facility'].values[0]"
   ]
  },
  {
   "cell_type": "markdown",
   "metadata": {},
   "source": [
    "Make a label widget and update it with the name of the facility based on what is selected on my scatter plot."
   ]
  },
  {
   "cell_type": "code",
   "execution_count": 121,
   "metadata": {},
   "outputs": [
    {
     "data": {
      "application/vnd.jupyter.widget-view+json": {
       "model_id": "7348f024dc334aec88ea828251192c40",
       "version_major": 2,
       "version_minor": 0
      },
      "text/plain": [
       "Label(value='')"
      ]
     },
     "metadata": {},
     "output_type": "display_data"
    }
   ],
   "source": [
    "planetLabel = ipywidgets.Label()\n",
    "planetLabel"
   ]
  },
  {
   "cell_type": "code",
   "execution_count": 122,
   "metadata": {},
   "outputs": [],
   "source": [
    "planetLabel.value = planetsDS.iloc[scatter_plot.selected]['pl_facility'].values[0]"
   ]
  },
  {
   "cell_type": "code",
   "execution_count": 123,
   "metadata": {},
   "outputs": [],
   "source": [
    "# do a quick a look at what happens when we \"observe\" for changes in our scatter plot\n",
    "def on_selection(change):\n",
    "    print(change) # get a sense of what is going on!\n",
    "    \n",
    "scatter_plot.observe(on_selection, 'selected')"
   ]
  },
  {
   "cell_type": "code",
   "execution_count": 126,
   "metadata": {},
   "outputs": [
    {
     "data": {
      "application/vnd.jupyter.widget-view+json": {
       "model_id": "1fa573a7aa584c25be7c008f167bf81b",
       "version_major": 2,
       "version_minor": 0
      },
      "text/plain": [
       "VBox(children=(Figure(axes=[Axis(scale=LinearScale(max=15.0, min=0.0), side='bottom'), Axis(orientation='verti…"
      ]
     },
     "metadata": {},
     "output_type": "display_data"
    },
    {
     "name": "stdout",
     "output_type": "stream",
     "text": [
      "{'name': 'selected', 'old': array([70], dtype=uint32), 'new': array([20], dtype=uint32), 'owner': Scatter(colors=['steelblue'], hovered_point=20, interactions={'click': 'select'}, scales={'x': LinearScale(max=15.0, min=0.0), 'y': LinearScale()}, scales_metadata={'x': {'orientation': 'horizontal', 'dimension': 'x'}, 'y': {'orientation': 'vertical', 'dimension': 'y'}, 'color': {'dimension': 'color'}, 'size': {'dimension': 'size'}, 'opacity': {'dimension': 'opacity'}, 'rotation': {'dimension': 'rotation'}, 'skew': {'dimension': 'skew'}}, selected=array([20], dtype=uint32), selected_style={'fill': 'red'}, tooltip_style={'opacity': 0.9}, x=array([0.103  , 1.26   ,     nan, 1.11   , 0.1627 , 0.0785 ,     nan,\n",
      "       0.048  ,     nan,     nan,     nan,     nan, 0.0818 ,     nan,\n",
      "       0.3343 , 0.1768 , 2.07   ,     nan,     nan, 1.02   , 2.971  ,\n",
      "       0.064  ,     nan,     nan, 0.423  ,     nan, 0.207  , 6.6    ,\n",
      "           nan, 0.281  ,     nan, 0.038  ,     nan, 0.68   , 0.141  ,\n",
      "       0.156  , 0.193  , 0.102  , 0.2114 , 0.0571 ,     nan,     nan,\n",
      "           nan, 2.231  , 0.03889,     nan,     nan, 0.53   , 0.236  ,\n",
      "       0.04   ,     nan,     nan, 0.054  , 0.15   ,     nan,     nan,\n",
      "           nan, 0.118  , 0.067  , 0.098  ,     nan,     nan,     nan,\n",
      "           nan, 0.03815, 0.245  , 6.95   ,     nan, 0.181  , 0.03014,\n",
      "       2.9    , 1.17   ,     nan, 0.207  ,     nan, 0.066  ,     nan,\n",
      "           nan, 3.43   ,     nan, 0.0642 , 0.427  , 0.1352 , 0.02675,\n",
      "           nan,     nan, 0.246  ,     nan,     nan,     nan, 0.242  ,\n",
      "       0.042  , 0.056  , 8.4    , 0.026  , 0.2069 , 0.0619 , 0.101  ,\n",
      "           nan,     nan]), y=array([   nan, 0.3   ,    nan, 0.09  ,    nan,    nan,    nan,    nan,\n",
      "          nan,    nan,    nan,    nan,    nan,    nan, 0.055 ,    nan,\n",
      "       0.27  ,    nan,    nan, 0.16  , 0.042 ,    nan,    nan,    nan,\n",
      "       0.    ,    nan,    nan,    nan,    nan,    nan,    nan,    nan,\n",
      "          nan, 0.09  ,    nan, 0.03  ,    nan,    nan,    nan,    nan,\n",
      "          nan,    nan,    nan, 0.224 , 0.    ,    nan,    nan, 0.35  ,\n",
      "          nan, 0.    ,    nan,    nan,    nan, 0.12  , 0.    , 0.    ,\n",
      "          nan,    nan,    nan, 0.2   ,    nan,    nan,    nan, 0.    ,\n",
      "       0.142 , 0.2   , 0.24  ,    nan,    nan,    nan, 0.6   , 0.52  ,\n",
      "          nan,    nan,    nan,    nan,    nan,    nan, 0.19  ,    nan,\n",
      "          nan,    nan,    nan, 0.31  ,    nan,    nan, 0.0593,    nan,\n",
      "       0.04  ,    nan,    nan,    nan,    nan, 0.489 ,    nan, 0.029 ,\n",
      "          nan, 0.08  ,    nan,    nan])), 'type': 'change'}\n"
     ]
    }
   ],
   "source": [
    "fig\n",
    "bplt.show()"
   ]
  },
  {
   "cell_type": "markdown",
   "metadata": {},
   "source": [
    "Start combining all of the hardwork we just did above!"
   ]
  },
  {
   "cell_type": "code",
   "execution_count": 127,
   "metadata": {},
   "outputs": [
    {
     "data": {
      "application/vnd.jupyter.widget-view+json": {
       "model_id": "e83186640379426d88952cc20582ec90",
       "version_major": 2,
       "version_minor": 0
      },
      "text/plain": [
       "Figure(axes=[Axis(scale=LinearScale(max=15.0, min=0.0)), Axis(orientation='vertical', scale=LinearScale())], f…"
      ]
     },
     "metadata": {},
     "output_type": "display_data"
    },
    {
     "name": "stdout",
     "output_type": "stream",
     "text": [
      "{'name': 'selected', 'old': None, 'new': array([78], dtype=uint32), 'owner': Scatter(colors=['steelblue'], hovered_point=78, interactions={'click': 'select'}, scales={'x': LinearScale(max=15.0, min=0.0), 'y': LinearScale()}, scales_metadata={'x': {'orientation': 'horizontal', 'dimension': 'x'}, 'y': {'orientation': 'vertical', 'dimension': 'y'}, 'color': {'dimension': 'color'}, 'size': {'dimension': 'size'}, 'opacity': {'dimension': 'opacity'}, 'rotation': {'dimension': 'rotation'}, 'skew': {'dimension': 'skew'}}, selected=array([78], dtype=uint32), selected_style={'fill': 'red'}, tooltip_style={'opacity': 0.9}, x=array([0.103  , 1.26   ,     nan, 1.11   , 0.1627 , 0.0785 ,     nan,\n",
      "       0.048  ,     nan,     nan,     nan,     nan, 0.0818 ,     nan,\n",
      "       0.3343 , 0.1768 , 2.07   ,     nan,     nan, 1.02   , 2.971  ,\n",
      "       0.064  ,     nan,     nan, 0.423  ,     nan, 0.207  , 6.6    ,\n",
      "           nan, 0.281  ,     nan, 0.038  ,     nan, 0.68   , 0.141  ,\n",
      "       0.156  , 0.193  , 0.102  , 0.2114 , 0.0571 ,     nan,     nan,\n",
      "           nan, 2.231  , 0.03889,     nan,     nan, 0.53   , 0.236  ,\n",
      "       0.04   ,     nan,     nan, 0.054  , 0.15   ,     nan,     nan,\n",
      "           nan, 0.118  , 0.067  , 0.098  ,     nan,     nan,     nan,\n",
      "           nan, 0.03815, 0.245  , 6.95   ,     nan, 0.181  , 0.03014,\n",
      "       2.9    , 1.17   ,     nan, 0.207  ,     nan, 0.066  ,     nan,\n",
      "           nan, 3.43   ,     nan, 0.0642 , 0.427  , 0.1352 , 0.02675,\n",
      "           nan,     nan, 0.246  ,     nan,     nan,     nan, 0.242  ,\n",
      "       0.042  , 0.056  , 8.4    , 0.026  , 0.2069 , 0.0619 , 0.101  ,\n",
      "           nan,     nan]), y=array([   nan, 0.3   ,    nan, 0.09  ,    nan,    nan,    nan,    nan,\n",
      "          nan,    nan,    nan,    nan,    nan,    nan, 0.055 ,    nan,\n",
      "       0.27  ,    nan,    nan, 0.16  , 0.042 ,    nan,    nan,    nan,\n",
      "       0.    ,    nan,    nan,    nan,    nan,    nan,    nan,    nan,\n",
      "          nan, 0.09  ,    nan, 0.03  ,    nan,    nan,    nan,    nan,\n",
      "          nan,    nan,    nan, 0.224 , 0.    ,    nan,    nan, 0.35  ,\n",
      "          nan, 0.    ,    nan,    nan,    nan, 0.12  , 0.    , 0.    ,\n",
      "          nan,    nan,    nan, 0.2   ,    nan,    nan,    nan, 0.    ,\n",
      "       0.142 , 0.2   , 0.24  ,    nan,    nan,    nan, 0.6   , 0.52  ,\n",
      "          nan,    nan,    nan,    nan,    nan,    nan, 0.19  ,    nan,\n",
      "          nan,    nan,    nan, 0.31  ,    nan,    nan, 0.0593,    nan,\n",
      "       0.04  ,    nan,    nan,    nan,    nan, 0.489 ,    nan, 0.029 ,\n",
      "          nan, 0.08  ,    nan,    nan])), 'type': 'change'}\n",
      "{'name': 'selected', 'old': array([78], dtype=uint32), 'new': array([43], dtype=uint32), 'owner': Scatter(colors=['steelblue'], hovered_point=43, interactions={'click': 'select'}, scales={'x': LinearScale(max=15.0, min=0.0), 'y': LinearScale()}, scales_metadata={'x': {'orientation': 'horizontal', 'dimension': 'x'}, 'y': {'orientation': 'vertical', 'dimension': 'y'}, 'color': {'dimension': 'color'}, 'size': {'dimension': 'size'}, 'opacity': {'dimension': 'opacity'}, 'rotation': {'dimension': 'rotation'}, 'skew': {'dimension': 'skew'}}, selected=array([43], dtype=uint32), selected_style={'fill': 'red'}, tooltip_style={'opacity': 0.9}, x=array([0.103  , 1.26   ,     nan, 1.11   , 0.1627 , 0.0785 ,     nan,\n",
      "       0.048  ,     nan,     nan,     nan,     nan, 0.0818 ,     nan,\n",
      "       0.3343 , 0.1768 , 2.07   ,     nan,     nan, 1.02   , 2.971  ,\n",
      "       0.064  ,     nan,     nan, 0.423  ,     nan, 0.207  , 6.6    ,\n",
      "           nan, 0.281  ,     nan, 0.038  ,     nan, 0.68   , 0.141  ,\n",
      "       0.156  , 0.193  , 0.102  , 0.2114 , 0.0571 ,     nan,     nan,\n",
      "           nan, 2.231  , 0.03889,     nan,     nan, 0.53   , 0.236  ,\n",
      "       0.04   ,     nan,     nan, 0.054  , 0.15   ,     nan,     nan,\n",
      "           nan, 0.118  , 0.067  , 0.098  ,     nan,     nan,     nan,\n",
      "           nan, 0.03815, 0.245  , 6.95   ,     nan, 0.181  , 0.03014,\n",
      "       2.9    , 1.17   ,     nan, 0.207  ,     nan, 0.066  ,     nan,\n",
      "           nan, 3.43   ,     nan, 0.0642 , 0.427  , 0.1352 , 0.02675,\n",
      "           nan,     nan, 0.246  ,     nan,     nan,     nan, 0.242  ,\n",
      "       0.042  , 0.056  , 8.4    , 0.026  , 0.2069 , 0.0619 , 0.101  ,\n",
      "           nan,     nan]), y=array([   nan, 0.3   ,    nan, 0.09  ,    nan,    nan,    nan,    nan,\n",
      "          nan,    nan,    nan,    nan,    nan,    nan, 0.055 ,    nan,\n",
      "       0.27  ,    nan,    nan, 0.16  , 0.042 ,    nan,    nan,    nan,\n",
      "       0.    ,    nan,    nan,    nan,    nan,    nan,    nan,    nan,\n",
      "          nan, 0.09  ,    nan, 0.03  ,    nan,    nan,    nan,    nan,\n",
      "          nan,    nan,    nan, 0.224 , 0.    ,    nan,    nan, 0.35  ,\n",
      "          nan, 0.    ,    nan,    nan,    nan, 0.12  , 0.    , 0.    ,\n",
      "          nan,    nan,    nan, 0.2   ,    nan,    nan,    nan, 0.    ,\n",
      "       0.142 , 0.2   , 0.24  ,    nan,    nan,    nan, 0.6   , 0.52  ,\n",
      "          nan,    nan,    nan,    nan,    nan,    nan, 0.19  ,    nan,\n",
      "          nan,    nan,    nan, 0.31  ,    nan,    nan, 0.0593,    nan,\n",
      "       0.04  ,    nan,    nan,    nan,    nan, 0.489 ,    nan, 0.029 ,\n",
      "          nan, 0.08  ,    nan,    nan])), 'type': 'change'}\n"
     ]
    }
   ],
   "source": [
    "# 1. Creates the figure\n",
    "fig = bplt.figure()\n",
    "scatter_plot = bplt.scatter(planetsDS['pl_orbsmax'], \n",
    "                            planetsDS['pl_orbeccen'],\n",
    "                            interactions={'click':'select'},\n",
    "                            selected_style={'fill':'red'}) \n",
    "\n",
    "bplt.xlim(0,15)\n",
    "\n",
    "# 2. Put in the handler function\n",
    "def on_selection(change):\n",
    "    print(change) # get a sense of what is going on!\n",
    "    \n",
    "# 3. observe for changes (selection changes) on scatter plot\n",
    "scatter_plot.observe(on_selection, 'selected')\n",
    "\n",
    "# display the figure\n",
    "#bplt.show()\n",
    "fig"
   ]
  },
  {
   "cell_type": "code",
   "execution_count": 128,
   "metadata": {},
   "outputs": [
    {
     "data": {
      "application/vnd.jupyter.widget-view+json": {
       "model_id": "757f50cb07f542288183f7b5a7b8dd04",
       "version_major": 2,
       "version_minor": 0
      },
      "text/plain": [
       "Figure(axes=[Axis(scale=LinearScale(max=15.0, min=0.0)), Axis(orientation='vertical', scale=LinearScale())], f…"
      ]
     },
     "metadata": {},
     "output_type": "display_data"
    },
    {
     "name": "stdout",
     "output_type": "stream",
     "text": [
      "[20]\n",
      "[24]\n",
      "[78]\n",
      "[66]\n",
      "[93]\n",
      "[70]\n"
     ]
    }
   ],
   "source": [
    "# 1. Creates the figure\n",
    "fig = bplt.figure()\n",
    "scatter_plot = bplt.scatter(planetsDS['pl_orbsmax'], \n",
    "                            planetsDS['pl_orbeccen'],\n",
    "                            interactions={'click':'select'},\n",
    "                            selected_style={'fill':'red'}) \n",
    "\n",
    "bplt.xlim(0,15)\n",
    "\n",
    "# 2. Put in the handler function\n",
    "def on_selection(change):\n",
    "    #print(change) # get a sense of what is going on!\n",
    "    print(change['new']) # look at what is \"new\" about our change\n",
    "    \n",
    "# 3. observe for changes (selection changes) on scatter plot\n",
    "scatter_plot.observe(on_selection, 'selected')\n",
    "\n",
    "# display the figure\n",
    "fig"
   ]
  },
  {
   "cell_type": "code",
   "execution_count": 129,
   "metadata": {},
   "outputs": [
    {
     "data": {
      "application/vnd.jupyter.widget-view+json": {
       "model_id": "76710434ea9345f793839fa6830bf25d",
       "version_major": 2,
       "version_minor": 0
      },
      "text/plain": [
       "Figure(axes=[Axis(scale=LinearScale(max=15.0, min=0.0)), Axis(orientation='vertical', scale=LinearScale())], f…"
      ]
     },
     "metadata": {},
     "output_type": "display_data"
    }
   ],
   "source": [
    "# 1. Creates the figure\n",
    "fig = bplt.figure()\n",
    "scatter_plot = bplt.scatter(planetsDS['pl_orbsmax'], \n",
    "                            planetsDS['pl_orbeccen'],\n",
    "                            interactions={'click':'select'},\n",
    "                            selected_style={'fill':'red'}) \n",
    "\n",
    "bplt.xlim(0,15)\n",
    "\n",
    "# 2. Put in the handler function\n",
    "def on_selection(change):\n",
    "    #print(change) # get a sense of what is going on!\n",
    "    #print(change['new']) # look at what is \"new\" about our change\n",
    "    # technically we can call as is, but let's be better programmers!\n",
    "    #planetLabel.value = planetsDS.iloc[scatter_plot.selected]['pl_facility'].values[0]\n",
    "    planetLabel.value = planetsDS.iloc[change['new']]['pl_facility'].values[0]\n",
    "\n",
    "# 3. observe for changes (selection changes) on scatter plot\n",
    "scatter_plot.observe(on_selection, 'selected')\n",
    "\n",
    "# display the figure\n",
    "fig"
   ]
  },
  {
   "cell_type": "code",
   "execution_count": 131,
   "metadata": {},
   "outputs": [
    {
     "data": {
      "application/vnd.jupyter.widget-view+json": {
       "model_id": "7348f024dc334aec88ea828251192c40",
       "version_major": 2,
       "version_minor": 0
      },
      "text/plain": [
       "Label(value='Gemini Observatory')"
      ]
     },
     "metadata": {},
     "output_type": "display_data"
    }
   ],
   "source": [
    "planetLabel"
   ]
  },
  {
   "cell_type": "markdown",
   "metadata": {},
   "source": [
    "Final step is to put the scatterplot and the label in the same cell:"
   ]
  },
  {
   "cell_type": "code",
   "execution_count": 132,
   "metadata": {},
   "outputs": [
    {
     "data": {
      "application/vnd.jupyter.widget-view+json": {
       "model_id": "af5e085df1874640ba3cd16fa69fbceb",
       "version_major": 2,
       "version_minor": 0
      },
      "text/plain": [
       "VBox(children=(Label(value='La Silla Observatory'), Figure(axes=[Axis(scale=LinearScale(max=15.0, min=0.0)), A…"
      ]
     },
     "metadata": {},
     "output_type": "display_data"
    }
   ],
   "source": [
    "# 1. Creates the figure\n",
    "fig = bplt.figure()\n",
    "scatter_plot = bplt.scatter(planetsDS['pl_orbsmax'], \n",
    "                            planetsDS['pl_orbeccen'],\n",
    "                            interactions={'click':'select'},\n",
    "                            selected_style={'fill':'red'}) \n",
    "\n",
    "bplt.xlim(0,15)\n",
    "\n",
    "# 2. Put in the handler function\n",
    "def on_selection(change):\n",
    "    planetLabel.value = planetsDS.iloc[change['new']]['pl_facility'].values[0]\n",
    "\n",
    "# 3. observe for changes (selection changes) on scatter plot\n",
    "scatter_plot.observe(on_selection, 'selected')\n",
    "\n",
    "# 4. display the figure & the label\n",
    "ipywidgets.VBox([planetLabel, fig])"
   ]
  },
  {
   "cell_type": "code",
   "execution_count": null,
   "metadata": {},
   "outputs": [],
   "source": []
  }
 ],
 "metadata": {
  "kernelspec": {
   "display_name": "Python 3",
   "language": "python",
   "name": "python3"
  },
  "language_info": {
   "codemirror_mode": {
    "name": "ipython",
    "version": 3
   },
   "file_extension": ".py",
   "mimetype": "text/x-python",
   "name": "python",
   "nbconvert_exporter": "python",
   "pygments_lexer": "ipython3",
   "version": "3.7.6"
  }
 },
 "nbformat": 4,
 "nbformat_minor": 4
}
