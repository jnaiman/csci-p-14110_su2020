{
 "cells": [
  {
   "cell_type": "markdown",
   "metadata": {},
   "source": [
    "# Starting off with ipyvolume for 3D things"
   ]
  },
  {
   "cell_type": "code",
   "execution_count": 1,
   "metadata": {},
   "outputs": [],
   "source": [
    "# preferable\n",
    "#!conda install -c conda-forge ipyvolume\n",
    "\n",
    "# you can also pip-install\n",
    "#!pip install ipyvolume\n",
    "# then you might need:\n",
    "#!jupyter nbextension enable --py --sys-prefix ipyvolume\n",
    "#!jupyter nbextension enable --py --sys-prefix widgetsnbextension"
   ]
  },
  {
   "cell_type": "code",
   "execution_count": 2,
   "metadata": {},
   "outputs": [],
   "source": [
    "import ipyvolume"
   ]
  },
  {
   "cell_type": "code",
   "execution_count": 3,
   "metadata": {},
   "outputs": [
    {
     "data": {
      "application/vnd.jupyter.widget-view+json": {
       "model_id": "6f1b8cdaad9b4d218ea2ab1a2ce8a6a9",
       "version_major": 2,
       "version_minor": 0
      },
      "text/plain": [
       "VBox(children=(Figure(camera=PerspectiveCamera(fov=46.0, position=(0.0, 0.0, 2.0), quaternion=(0.0, 0.0, 0.0, …"
      ]
     },
     "metadata": {},
     "output_type": "display_data"
    }
   ],
   "source": [
    "# quick scatter plot\n",
    "import numpy as np\n",
    "x, y, z = np.random.random((3,1000))\n",
    "ipyvolume.quickscatter(x,y,z,size=1,marker='arrow')"
   ]
  },
  {
   "cell_type": "code",
   "execution_count": 4,
   "metadata": {},
   "outputs": [],
   "source": [
    "# import our data that we saved from our simulations\n",
    "from hermite_library import read_hermite_solution_from_file"
   ]
  },
  {
   "cell_type": "code",
   "execution_count": 19,
   "metadata": {},
   "outputs": [],
   "source": [
    "# read in my saved simulation data\n",
    "t_h, E_h, r_h, v_h = read_hermite_solution_from_file('myPlanetSystem_kepler101_solution1.txt')\n",
    "#t_h, E_h, r_h, \\\n",
    "#v_h = read_hermite_solution_from_file('../lesson05/myPlanetSystem_kepler11_solution1.txt')"
   ]
  },
  {
   "cell_type": "code",
   "execution_count": 20,
   "metadata": {},
   "outputs": [
    {
     "data": {
      "text/plain": [
       "((15000,), (15000,), (15000,))"
      ]
     },
     "execution_count": 20,
     "metadata": {},
     "output_type": "execute_result"
    }
   ],
   "source": [
    "# reformat a little bit for plotting\n",
    "x = r_h[:,0,:].ravel() # x-coordinate, all particles, flattened\n",
    "y = r_h[:,1,:].ravel() # y-coor, all particles, flattened\n",
    "z = r_h[:,2,:].ravel() # z-coor, all particles, flattened\n",
    "x.shape, y.shape,z.shape"
   ]
  },
  {
   "cell_type": "code",
   "execution_count": 21,
   "metadata": {},
   "outputs": [
    {
     "data": {
      "application/vnd.jupyter.widget-view+json": {
       "model_id": "b5c62a4d4aec42e7a349a8a05ad4c31d",
       "version_major": 2,
       "version_minor": 0
      },
      "text/plain": [
       "VBox(children=(Figure(camera=PerspectiveCamera(fov=46.0, position=(0.0, 0.0, 2.0), quaternion=(0.0, 0.0, 0.0, …"
      ]
     },
     "metadata": {},
     "output_type": "display_data"
    }
   ],
   "source": [
    "# quick scatter plot with my data\n",
    "ipyvolume.quickscatter(x,y,z, size=1, marker='sphere')"
   ]
  },
  {
   "cell_type": "code",
   "execution_count": 22,
   "metadata": {},
   "outputs": [
    {
     "data": {
      "application/vnd.jupyter.widget-view+json": {
       "model_id": "9840db4f22804d94be6df2766d6ea3f3",
       "version_major": 2,
       "version_minor": 0
      },
      "text/plain": [
       "VBox(children=(Figure(camera=PerspectiveCamera(fov=46.0, position=(0.0, 0.0, 2.0), quaternion=(0.0, 0.0, 0.0, …"
      ]
     },
     "metadata": {},
     "output_type": "display_data"
    }
   ],
   "source": [
    "# changing color of particles\n",
    "ipyvolume.figure()\n",
    "#colors = ['red','blue','green'] # colors for 3 particles\n",
    "colors = ['red','blue','green','black','magenta','yellow','pink'] # colors for 3 particles\n",
    "for i in range(r_h.shape[0]): # looping over all the particles in my file\n",
    "    ipyvolume.scatter(r_h[i,0,:], #ith particle, x coord, all timesteps\n",
    "                     r_h[i,1,:], # ith particle, y coord, all times\n",
    "                     r_h[i,2,:], # ith particle, z coord, all times\n",
    "                      color=colors[i], # pull from our color list \n",
    "                      marker='sphere',\n",
    "                     size=0.1)\n",
    "ipyvolume.show() # show the figure"
   ]
  },
  {
   "cell_type": "code",
   "execution_count": 23,
   "metadata": {},
   "outputs": [
    {
     "data": {
      "application/vnd.jupyter.widget-view+json": {
       "model_id": "154f4824d55c454e8596ccf5230afca8",
       "version_major": 2,
       "version_minor": 0
      },
      "text/plain": [
       "VBox(children=(Figure(camera=PerspectiveCamera(fov=46.0, position=(0.0, 0.0, 2.0), quaternion=(0.0, 0.0, 0.0, …"
      ]
     },
     "metadata": {},
     "output_type": "display_data"
    }
   ],
   "source": [
    "# subsample\n",
    "step = 1000 # plot every 1000th step\n",
    "N = r_h.shape[2] # total number of steps\n",
    "\n",
    "# let's plot velocity vectors\n",
    "ipyvolume.figure()\n",
    "#colors = ['red', 'blue', 'green']\n",
    "colors = ['red','blue','green','black','magenta','yellow','pink'] # colors for 3 particles\n",
    "for i in range(r_h.shape[0]): # loop over all particles\n",
    "    ipyvolume.quiver(r_h[i,0,0:N:step], # ith particle, x coord, now plot every \"step\"\n",
    "                    r_h[i,1,0:N:step], # ith particle, y\n",
    "                    r_h[i,2,0:N:step], # ith particle, z\n",
    "                    v_h[i,0,0:N:step], #   ith part, vx\n",
    "                    v_h[i,1,0:N:step], # ith part, vy\n",
    "                    v_h[i,2,0:N:step], # ith, part, vz\n",
    "                    color=colors[i], size=2)\n",
    "ipyvolume.show()"
   ]
  },
  {
   "cell_type": "code",
   "execution_count": 24,
   "metadata": {},
   "outputs": [
    {
     "data": {
      "text/plain": [
       "(3, 5000)"
      ]
     },
     "execution_count": 24,
     "metadata": {},
     "output_type": "execute_result"
    }
   ],
   "source": [
    "r_h[:,0,:].shape # x-coord"
   ]
  },
  {
   "cell_type": "code",
   "execution_count": 25,
   "metadata": {},
   "outputs": [
    {
     "data": {
      "text/plain": [
       "(5000, 3)"
      ]
     },
     "execution_count": 25,
     "metadata": {},
     "output_type": "execute_result"
    }
   ],
   "source": [
    "# take transpose\n",
    "r_h[:,0,:].T.shape # a formating type thing, ipyvolume needs this shape for animations"
   ]
  },
  {
   "cell_type": "code",
   "execution_count": 26,
   "metadata": {},
   "outputs": [
    {
     "data": {
      "text/plain": [
       "(3, 3, 500)"
      ]
     },
     "execution_count": 26,
     "metadata": {},
     "output_type": "execute_result"
    }
   ],
   "source": [
    "nstep = 10 # do an animation every 10th timestep\n",
    "N = r_h.shape[2] # number of total time steps\n",
    "\n",
    "# subsample for less # of frames\n",
    "#r = r_h[:,:,0:-1:nstep] # all particles, all coordinates, sub-sampled times\n",
    "r = r_h[:,:,0:N:nstep] # all particles, all coordinates, sub-sampled times\n",
    "\n",
    "r.shape"
   ]
  },
  {
   "cell_type": "code",
   "execution_count": 27,
   "metadata": {},
   "outputs": [],
   "source": [
    "#           red        green    blue\n",
    "colors = [ (1, 0, 0), (0,1,0), (0,0,1), (0,1,1), (0,0.5,1), (1,1,0),(0.5,1,1)]"
   ]
  },
  {
   "cell_type": "code",
   "execution_count": 28,
   "metadata": {},
   "outputs": [
    {
     "data": {
      "text/plain": [
       "7"
      ]
     },
     "execution_count": 28,
     "metadata": {},
     "output_type": "execute_result"
    }
   ],
   "source": [
    "len(colors)"
   ]
  },
  {
   "cell_type": "code",
   "execution_count": 29,
   "metadata": {},
   "outputs": [
    {
     "data": {
      "text/plain": [
       "(500, 7, 3)"
      ]
     },
     "execution_count": 29,
     "metadata": {},
     "output_type": "execute_result"
    }
   ],
   "source": [
    "# little function to format colors\n",
    "from flip_colors import flip_colors\n",
    "\n",
    "colors = flip_colors(colors,r) # taking my 3 \n",
    "\n",
    "#outcolors = []\n",
    "#for i in range(r.shape[2]):\n",
    "#    outcolors.append(colors)\n",
    "    \n",
    "#colors = np.array(colors)\n",
    "\n",
    "# order should be (times, points, colors)\n",
    "#colors = np.transpose(colors, (0, 2, 1)) # flip the last axes\n",
    "\n",
    "\n",
    "colors.shape"
   ]
  },
  {
   "cell_type": "code",
   "execution_count": 30,
   "metadata": {},
   "outputs": [
    {
     "data": {
      "application/vnd.jupyter.widget-view+json": {
       "model_id": "f66bd932d786408d972dce9228aceebd",
       "version_major": 2,
       "version_minor": 0
      },
      "text/plain": [
       "VBox(children=(Figure(animation=200.0, camera=PerspectiveCamera(fov=46.0, position=(0.0, 0.0, 2.0), quaternion…"
      ]
     },
     "metadata": {},
     "output_type": "display_data"
    }
   ],
   "source": [
    "# finally make animation\n",
    "ipyvolume.figure()\n",
    "\n",
    "#                        x            y           z\n",
    "s = ipyvolume.scatter(r[:,0,:].T, r[:,1,:].T, r[:,2,:].T, \n",
    "                     marker='sphere',\n",
    "                     color=colors) # remapped color array\n",
    "ani = ipyvolume.animation_control(s, interval=200)\n",
    "ipyvolume.show()"
   ]
  },
  {
   "cell_type": "markdown",
   "metadata": {},
   "source": [
    "### Exercises\n",
    "1. plot an animation of your system\n",
    "1. Plot a quiver animation of your system\n",
    "\n",
    "Bonus: how would you save this animation?"
   ]
  },
  {
   "cell_type": "markdown",
   "metadata": {},
   "source": [
    "# widgets + ipyvolume"
   ]
  },
  {
   "cell_type": "code",
   "execution_count": 33,
   "metadata": {},
   "outputs": [],
   "source": [
    "import ipywidgets"
   ]
  },
  {
   "cell_type": "code",
   "execution_count": 8,
   "metadata": {},
   "outputs": [
    {
     "data": {
      "application/vnd.jupyter.widget-view+json": {
       "model_id": "0c5fba912615459da8ad32db0b7eb890",
       "version_major": 2,
       "version_minor": 0
      },
      "text/plain": [
       "VBox(children=(Figure(camera=PerspectiveCamera(fov=46.0, position=(0.0, 0.0, 2.0), quaternion=(0.0, 0.0, 0.0, …"
      ]
     },
     "metadata": {},
     "output_type": "display_data"
    }
   ],
   "source": [
    "ipyvolume.figure()\n",
    "s = ipyvolume.scatter(x,y,z, marker='sphere')\n",
    "ipyvolume.show()"
   ]
  },
  {
   "cell_type": "code",
   "execution_count": 10,
   "metadata": {},
   "outputs": [],
   "source": [
    "# make a widget to change the size of my spheres\n",
    "size = ipywidgets.FloatSlider(min=0, max=30, step=0.1) # slider widget to control size\n",
    "color = ipywidgets.ColorPicker() # color picker widget to control color"
   ]
  },
  {
   "cell_type": "code",
   "execution_count": 11,
   "metadata": {},
   "outputs": [
    {
     "data": {
      "text/plain": [
       "Link(source=(Scatter(color_selected=array('white', dtype='<U5'), geo='sphere', line_material=ShaderMaterial(),…"
      ]
     },
     "metadata": {},
     "output_type": "display_data"
    }
   ],
   "source": [
    "# link properties in my ipyvolume scatter plot with my widgets\n",
    "ipywidgets.jslink((s,'size'), (size, 'value')) # scatter plot property, widget value\n",
    "ipywidgets.jslink((s,'color'), (color, 'value'))"
   ]
  },
  {
   "cell_type": "code",
   "execution_count": 12,
   "metadata": {},
   "outputs": [
    {
     "data": {
      "application/vnd.jupyter.widget-view+json": {
       "model_id": "156a90bc79474bb091ab812adcefc7f8",
       "version_major": 2,
       "version_minor": 0
      },
      "text/plain": [
       "VBox(children=(VBox(children=(Figure(camera=PerspectiveCamera(aspect=0.8, fov=46.0, matrixWorldNeedsUpdate=Tru…"
      ]
     },
     "metadata": {},
     "output_type": "display_data"
    }
   ],
   "source": [
    "# in a vertical stack take last ipyvolume figure, then size widget, then color widget\n",
    "ipywidgets.VBox([ipyvolume.gcc(), size, color])"
   ]
  },
  {
   "cell_type": "markdown",
   "metadata": {},
   "source": [
    "# Embed to html"
   ]
  },
  {
   "cell_type": "code",
   "execution_count": 13,
   "metadata": {},
   "outputs": [],
   "source": [
    "# instead of displaying, save to an object\n",
    "myOutFig = ipywidgets.VBox([ipyvolume.gcc(), size, color])"
   ]
  },
  {
   "cell_type": "code",
   "execution_count": 14,
   "metadata": {},
   "outputs": [],
   "source": [
    "# the below is formatting to make sure our html page looks oke\n",
    "ipyvolume.embed.layout = myOutFig.children[1].layout\n",
    "ipyvolume.embed.embed_html.min_width='400px'"
   ]
  },
  {
   "cell_type": "code",
   "execution_count": 15,
   "metadata": {},
   "outputs": [],
   "source": [
    "# finally we'll output to an html page\n",
    "ipyvolume.embed.embed_html('myPage1.html',myOutFig, offline=False, devmode=False)"
   ]
  },
  {
   "cell_type": "markdown",
   "metadata": {},
   "source": [
    "### Exercise\n",
    "1. Redo with your simulation data\n",
    "\n",
    "Other ideas:\n",
    "1. What other widgets might you use?\n",
    "1. How would you deploy this to the web? (Optional web-dev stuff)\n",
    "1. How would you make an embeddable animation + widgets?"
   ]
  },
  {
   "cell_type": "markdown",
   "metadata": {},
   "source": [
    "## Animation to upload to web"
   ]
  },
  {
   "cell_type": "code",
   "execution_count": 34,
   "metadata": {},
   "outputs": [
    {
     "data": {
      "application/vnd.jupyter.widget-view+json": {
       "model_id": "1ea578b8809249098456f504912a57c9",
       "version_major": 2,
       "version_minor": 0
      },
      "text/plain": [
       "VBox(children=(VBox(children=(Figure(animation=200.0, camera=PerspectiveCamera(fov=46.0, position=(0.0, 0.0, 2…"
      ]
     },
     "metadata": {},
     "output_type": "display_data"
    }
   ],
   "source": [
    "step = 10 # only plot every 10th timestep\n",
    "N = r_h.shape[2] # all timesteps\n",
    "r = r_h[:,:,0:N:step] # all particles, all coords, every stepth time step\n",
    "\n",
    "ipyvolume.figure() # figure object\n",
    "\n",
    "# create size widget\n",
    "size = ipywidgets.FloatSlider(min=0,max=30,step=0.1, description='Size')\n",
    "\n",
    "# scatter plot -> to make animation\n",
    "s = ipyvolume.scatter(r[:,0,:].T, r[:,1,:].T, r[:,2,:].T,\n",
    "                     marker='sphere',\n",
    "                     color=colors) # colors in (r,g,b) pairs\n",
    "\n",
    "# link my scatter plot with my widget\n",
    "ipywidgets.jslink((s,'size'),(size,'value')) # linking scatter plot size with size widget value\n",
    "\n",
    "# make life more complicated -> animate!\n",
    "ani = ipyvolume.animation_control(s, interval=200)\n",
    "\n",
    "# finally, place with widgets Vbox\n",
    "ipywidgets.VBox([ipyvolume.gcc(),size]) # last figure object generated, size widget\n"
   ]
  },
  {
   "cell_type": "markdown",
   "metadata": {},
   "source": [
    "### REdo this with your simulation data\n",
    "1. redo\n",
    "\n",
    "If you want:\n",
    "1. make an html embeddable object\n",
    "1. deploy to the web using github"
   ]
  },
  {
   "cell_type": "code",
   "execution_count": null,
   "metadata": {},
   "outputs": [],
   "source": []
  }
 ],
 "metadata": {
  "kernelspec": {
   "display_name": "Python 3",
   "language": "python",
   "name": "python3"
  },
  "language_info": {
   "codemirror_mode": {
    "name": "ipython",
    "version": 3
   },
   "file_extension": ".py",
   "mimetype": "text/x-python",
   "name": "python",
   "nbconvert_exporter": "python",
   "pygments_lexer": "ipython3",
   "version": "3.7.3"
  }
 },
 "nbformat": 4,
 "nbformat_minor": 2
}
