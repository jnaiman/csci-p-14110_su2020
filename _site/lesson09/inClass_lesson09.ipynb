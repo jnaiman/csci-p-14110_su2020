{
 "cells": [
  {
   "cell_type": "markdown",
   "metadata": {},
   "source": [
    "# Day 9, 2d & 3d movies!"
   ]
  },
  {
   "cell_type": "code",
   "execution_count": 1,
   "metadata": {},
   "outputs": [],
   "source": [
    "# import our usual things\n",
    "import pandas as pd\n",
    "import matplotlib.pyplot as plt\n",
    "import ipywidgets\n",
    "import numpy as np"
   ]
  },
  {
   "cell_type": "code",
   "execution_count": 2,
   "metadata": {},
   "outputs": [],
   "source": [
    "planets = pd.read_csv('https://jnaiman.github.io/csci-p-14110_su2020/lesson08/planets_2020.06.22_10.10.17.csv', \n",
    "                     sep=\",\", comment=\"#\")"
   ]
  },
  {
   "cell_type": "code",
   "execution_count": 3,
   "metadata": {},
   "outputs": [
    {
     "data": {
      "text/html": [
       "<div>\n",
       "<style scoped>\n",
       "    .dataframe tbody tr th:only-of-type {\n",
       "        vertical-align: middle;\n",
       "    }\n",
       "\n",
       "    .dataframe tbody tr th {\n",
       "        vertical-align: top;\n",
       "    }\n",
       "\n",
       "    .dataframe thead th {\n",
       "        text-align: right;\n",
       "    }\n",
       "</style>\n",
       "<table border=\"1\" class=\"dataframe\">\n",
       "  <thead>\n",
       "    <tr style=\"text-align: right;\">\n",
       "      <th></th>\n",
       "      <th>rowid</th>\n",
       "      <th>pl_hostname</th>\n",
       "      <th>pl_letter</th>\n",
       "      <th>pl_name</th>\n",
       "      <th>pl_discmethod</th>\n",
       "      <th>pl_controvflag</th>\n",
       "      <th>pl_pnum</th>\n",
       "      <th>pl_orbper</th>\n",
       "      <th>pl_orbpererr1</th>\n",
       "      <th>pl_orbpererr2</th>\n",
       "      <th>...</th>\n",
       "      <th>st_bmy</th>\n",
       "      <th>st_bmyerr</th>\n",
       "      <th>st_bmylim</th>\n",
       "      <th>st_m1</th>\n",
       "      <th>st_m1err</th>\n",
       "      <th>st_m1lim</th>\n",
       "      <th>st_c1</th>\n",
       "      <th>st_c1err</th>\n",
       "      <th>st_c1lim</th>\n",
       "      <th>st_colorn</th>\n",
       "    </tr>\n",
       "  </thead>\n",
       "  <tbody>\n",
       "    <tr>\n",
       "      <th>0</th>\n",
       "      <td>1</td>\n",
       "      <td>11 Com</td>\n",
       "      <td>b</td>\n",
       "      <td>11 Com b</td>\n",
       "      <td>Radial Velocity</td>\n",
       "      <td>0</td>\n",
       "      <td>1</td>\n",
       "      <td>326.030000</td>\n",
       "      <td>0.320000</td>\n",
       "      <td>-0.320000</td>\n",
       "      <td>...</td>\n",
       "      <td>NaN</td>\n",
       "      <td>NaN</td>\n",
       "      <td>NaN</td>\n",
       "      <td>NaN</td>\n",
       "      <td>NaN</td>\n",
       "      <td>NaN</td>\n",
       "      <td>NaN</td>\n",
       "      <td>NaN</td>\n",
       "      <td>NaN</td>\n",
       "      <td>7.0</td>\n",
       "    </tr>\n",
       "    <tr>\n",
       "      <th>1</th>\n",
       "      <td>2</td>\n",
       "      <td>11 UMi</td>\n",
       "      <td>b</td>\n",
       "      <td>11 UMi b</td>\n",
       "      <td>Radial Velocity</td>\n",
       "      <td>0</td>\n",
       "      <td>1</td>\n",
       "      <td>516.219970</td>\n",
       "      <td>3.200000</td>\n",
       "      <td>-3.200000</td>\n",
       "      <td>...</td>\n",
       "      <td>NaN</td>\n",
       "      <td>NaN</td>\n",
       "      <td>NaN</td>\n",
       "      <td>NaN</td>\n",
       "      <td>NaN</td>\n",
       "      <td>NaN</td>\n",
       "      <td>NaN</td>\n",
       "      <td>NaN</td>\n",
       "      <td>NaN</td>\n",
       "      <td>5.0</td>\n",
       "    </tr>\n",
       "    <tr>\n",
       "      <th>2</th>\n",
       "      <td>3</td>\n",
       "      <td>14 And</td>\n",
       "      <td>b</td>\n",
       "      <td>14 And b</td>\n",
       "      <td>Radial Velocity</td>\n",
       "      <td>0</td>\n",
       "      <td>1</td>\n",
       "      <td>185.840000</td>\n",
       "      <td>0.230000</td>\n",
       "      <td>-0.230000</td>\n",
       "      <td>...</td>\n",
       "      <td>NaN</td>\n",
       "      <td>NaN</td>\n",
       "      <td>NaN</td>\n",
       "      <td>NaN</td>\n",
       "      <td>NaN</td>\n",
       "      <td>NaN</td>\n",
       "      <td>NaN</td>\n",
       "      <td>NaN</td>\n",
       "      <td>NaN</td>\n",
       "      <td>7.0</td>\n",
       "    </tr>\n",
       "    <tr>\n",
       "      <th>3</th>\n",
       "      <td>4</td>\n",
       "      <td>14 Her</td>\n",
       "      <td>b</td>\n",
       "      <td>14 Her b</td>\n",
       "      <td>Radial Velocity</td>\n",
       "      <td>0</td>\n",
       "      <td>1</td>\n",
       "      <td>1773.400020</td>\n",
       "      <td>2.500000</td>\n",
       "      <td>-2.500000</td>\n",
       "      <td>...</td>\n",
       "      <td>0.537</td>\n",
       "      <td>0.001</td>\n",
       "      <td>0.0</td>\n",
       "      <td>0.366</td>\n",
       "      <td>0.002</td>\n",
       "      <td>0.0</td>\n",
       "      <td>0.438</td>\n",
       "      <td>0.006</td>\n",
       "      <td>0.0</td>\n",
       "      <td>9.0</td>\n",
       "    </tr>\n",
       "    <tr>\n",
       "      <th>4</th>\n",
       "      <td>5</td>\n",
       "      <td>16 Cyg B</td>\n",
       "      <td>b</td>\n",
       "      <td>16 Cyg B b</td>\n",
       "      <td>Radial Velocity</td>\n",
       "      <td>0</td>\n",
       "      <td>1</td>\n",
       "      <td>798.500000</td>\n",
       "      <td>1.000000</td>\n",
       "      <td>-1.000000</td>\n",
       "      <td>...</td>\n",
       "      <td>0.418</td>\n",
       "      <td>0.003</td>\n",
       "      <td>0.0</td>\n",
       "      <td>0.222</td>\n",
       "      <td>0.003</td>\n",
       "      <td>0.0</td>\n",
       "      <td>0.351</td>\n",
       "      <td>0.003</td>\n",
       "      <td>0.0</td>\n",
       "      <td>17.0</td>\n",
       "    </tr>\n",
       "    <tr>\n",
       "      <th>...</th>\n",
       "      <td>...</td>\n",
       "      <td>...</td>\n",
       "      <td>...</td>\n",
       "      <td>...</td>\n",
       "      <td>...</td>\n",
       "      <td>...</td>\n",
       "      <td>...</td>\n",
       "      <td>...</td>\n",
       "      <td>...</td>\n",
       "      <td>...</td>\n",
       "      <td>...</td>\n",
       "      <td>...</td>\n",
       "      <td>...</td>\n",
       "      <td>...</td>\n",
       "      <td>...</td>\n",
       "      <td>...</td>\n",
       "      <td>...</td>\n",
       "      <td>...</td>\n",
       "      <td>...</td>\n",
       "      <td>...</td>\n",
       "      <td>...</td>\n",
       "    </tr>\n",
       "    <tr>\n",
       "      <th>4159</th>\n",
       "      <td>4160</td>\n",
       "      <td>tau Gem</td>\n",
       "      <td>b</td>\n",
       "      <td>tau Gem b</td>\n",
       "      <td>Radial Velocity</td>\n",
       "      <td>0</td>\n",
       "      <td>1</td>\n",
       "      <td>305.500000</td>\n",
       "      <td>0.100000</td>\n",
       "      <td>-0.100000</td>\n",
       "      <td>...</td>\n",
       "      <td>NaN</td>\n",
       "      <td>NaN</td>\n",
       "      <td>NaN</td>\n",
       "      <td>NaN</td>\n",
       "      <td>NaN</td>\n",
       "      <td>NaN</td>\n",
       "      <td>NaN</td>\n",
       "      <td>NaN</td>\n",
       "      <td>NaN</td>\n",
       "      <td>7.0</td>\n",
       "    </tr>\n",
       "    <tr>\n",
       "      <th>4160</th>\n",
       "      <td>4161</td>\n",
       "      <td>ups And</td>\n",
       "      <td>b</td>\n",
       "      <td>ups And b</td>\n",
       "      <td>Radial Velocity</td>\n",
       "      <td>0</td>\n",
       "      <td>3</td>\n",
       "      <td>4.617033</td>\n",
       "      <td>0.000023</td>\n",
       "      <td>-0.000023</td>\n",
       "      <td>...</td>\n",
       "      <td>NaN</td>\n",
       "      <td>NaN</td>\n",
       "      <td>NaN</td>\n",
       "      <td>NaN</td>\n",
       "      <td>NaN</td>\n",
       "      <td>NaN</td>\n",
       "      <td>NaN</td>\n",
       "      <td>NaN</td>\n",
       "      <td>NaN</td>\n",
       "      <td>8.0</td>\n",
       "    </tr>\n",
       "    <tr>\n",
       "      <th>4161</th>\n",
       "      <td>4162</td>\n",
       "      <td>ups And</td>\n",
       "      <td>c</td>\n",
       "      <td>ups And c</td>\n",
       "      <td>Radial Velocity</td>\n",
       "      <td>0</td>\n",
       "      <td>3</td>\n",
       "      <td>241.258000</td>\n",
       "      <td>0.064000</td>\n",
       "      <td>-0.064000</td>\n",
       "      <td>...</td>\n",
       "      <td>NaN</td>\n",
       "      <td>NaN</td>\n",
       "      <td>NaN</td>\n",
       "      <td>NaN</td>\n",
       "      <td>NaN</td>\n",
       "      <td>NaN</td>\n",
       "      <td>NaN</td>\n",
       "      <td>NaN</td>\n",
       "      <td>NaN</td>\n",
       "      <td>8.0</td>\n",
       "    </tr>\n",
       "    <tr>\n",
       "      <th>4162</th>\n",
       "      <td>4163</td>\n",
       "      <td>ups And</td>\n",
       "      <td>d</td>\n",
       "      <td>ups And d</td>\n",
       "      <td>Radial Velocity</td>\n",
       "      <td>0</td>\n",
       "      <td>3</td>\n",
       "      <td>1276.460000</td>\n",
       "      <td>0.570000</td>\n",
       "      <td>-0.570000</td>\n",
       "      <td>...</td>\n",
       "      <td>NaN</td>\n",
       "      <td>NaN</td>\n",
       "      <td>NaN</td>\n",
       "      <td>NaN</td>\n",
       "      <td>NaN</td>\n",
       "      <td>NaN</td>\n",
       "      <td>NaN</td>\n",
       "      <td>NaN</td>\n",
       "      <td>NaN</td>\n",
       "      <td>8.0</td>\n",
       "    </tr>\n",
       "    <tr>\n",
       "      <th>4163</th>\n",
       "      <td>4164</td>\n",
       "      <td>xi Aql</td>\n",
       "      <td>b</td>\n",
       "      <td>xi Aql b</td>\n",
       "      <td>Radial Velocity</td>\n",
       "      <td>0</td>\n",
       "      <td>1</td>\n",
       "      <td>136.750000</td>\n",
       "      <td>0.250000</td>\n",
       "      <td>-0.250000</td>\n",
       "      <td>...</td>\n",
       "      <td>NaN</td>\n",
       "      <td>NaN</td>\n",
       "      <td>NaN</td>\n",
       "      <td>NaN</td>\n",
       "      <td>NaN</td>\n",
       "      <td>NaN</td>\n",
       "      <td>NaN</td>\n",
       "      <td>NaN</td>\n",
       "      <td>NaN</td>\n",
       "      <td>9.0</td>\n",
       "    </tr>\n",
       "  </tbody>\n",
       "</table>\n",
       "<p>4164 rows × 356 columns</p>\n",
       "</div>"
      ],
      "text/plain": [
       "      rowid pl_hostname pl_letter     pl_name    pl_discmethod  \\\n",
       "0         1      11 Com         b    11 Com b  Radial Velocity   \n",
       "1         2      11 UMi         b    11 UMi b  Radial Velocity   \n",
       "2         3      14 And         b    14 And b  Radial Velocity   \n",
       "3         4      14 Her         b    14 Her b  Radial Velocity   \n",
       "4         5    16 Cyg B         b  16 Cyg B b  Radial Velocity   \n",
       "...     ...         ...       ...         ...              ...   \n",
       "4159   4160     tau Gem         b   tau Gem b  Radial Velocity   \n",
       "4160   4161     ups And         b   ups And b  Radial Velocity   \n",
       "4161   4162     ups And         c   ups And c  Radial Velocity   \n",
       "4162   4163     ups And         d   ups And d  Radial Velocity   \n",
       "4163   4164      xi Aql         b    xi Aql b  Radial Velocity   \n",
       "\n",
       "      pl_controvflag  pl_pnum    pl_orbper  pl_orbpererr1  pl_orbpererr2  ...  \\\n",
       "0                  0        1   326.030000       0.320000      -0.320000  ...   \n",
       "1                  0        1   516.219970       3.200000      -3.200000  ...   \n",
       "2                  0        1   185.840000       0.230000      -0.230000  ...   \n",
       "3                  0        1  1773.400020       2.500000      -2.500000  ...   \n",
       "4                  0        1   798.500000       1.000000      -1.000000  ...   \n",
       "...              ...      ...          ...            ...            ...  ...   \n",
       "4159               0        1   305.500000       0.100000      -0.100000  ...   \n",
       "4160               0        3     4.617033       0.000023      -0.000023  ...   \n",
       "4161               0        3   241.258000       0.064000      -0.064000  ...   \n",
       "4162               0        3  1276.460000       0.570000      -0.570000  ...   \n",
       "4163               0        1   136.750000       0.250000      -0.250000  ...   \n",
       "\n",
       "      st_bmy  st_bmyerr  st_bmylim  st_m1  st_m1err  st_m1lim  st_c1  \\\n",
       "0        NaN        NaN        NaN    NaN       NaN       NaN    NaN   \n",
       "1        NaN        NaN        NaN    NaN       NaN       NaN    NaN   \n",
       "2        NaN        NaN        NaN    NaN       NaN       NaN    NaN   \n",
       "3      0.537      0.001        0.0  0.366     0.002       0.0  0.438   \n",
       "4      0.418      0.003        0.0  0.222     0.003       0.0  0.351   \n",
       "...      ...        ...        ...    ...       ...       ...    ...   \n",
       "4159     NaN        NaN        NaN    NaN       NaN       NaN    NaN   \n",
       "4160     NaN        NaN        NaN    NaN       NaN       NaN    NaN   \n",
       "4161     NaN        NaN        NaN    NaN       NaN       NaN    NaN   \n",
       "4162     NaN        NaN        NaN    NaN       NaN       NaN    NaN   \n",
       "4163     NaN        NaN        NaN    NaN       NaN       NaN    NaN   \n",
       "\n",
       "      st_c1err  st_c1lim  st_colorn  \n",
       "0          NaN       NaN        7.0  \n",
       "1          NaN       NaN        5.0  \n",
       "2          NaN       NaN        7.0  \n",
       "3        0.006       0.0        9.0  \n",
       "4        0.003       0.0       17.0  \n",
       "...        ...       ...        ...  \n",
       "4159       NaN       NaN        7.0  \n",
       "4160       NaN       NaN        8.0  \n",
       "4161       NaN       NaN        8.0  \n",
       "4162       NaN       NaN        8.0  \n",
       "4163       NaN       NaN        9.0  \n",
       "\n",
       "[4164 rows x 356 columns]"
      ]
     },
     "execution_count": 3,
     "metadata": {},
     "output_type": "execute_result"
    }
   ],
   "source": [
    "planets"
   ]
  },
  {
   "cell_type": "code",
   "execution_count": 4,
   "metadata": {},
   "outputs": [
    {
     "name": "stderr",
     "output_type": "stream",
     "text": [
      "/opt/anaconda3/envs/myNewEnv2/lib/python3.7/site-packages/numpy/lib/histograms.py:839: RuntimeWarning: invalid value encountered in greater_equal\n",
      "  keep = (tmp_a >= first_edge)\n",
      "/opt/anaconda3/envs/myNewEnv2/lib/python3.7/site-packages/numpy/lib/histograms.py:840: RuntimeWarning: invalid value encountered in less_equal\n",
      "  keep &= (tmp_a <= last_edge)\n"
     ]
    },
    {
     "data": {
      "image/png": "[encoded data removed]",
      "text/plain": [
       "<Figure size 432x288 with 1 Axes>"
      ]
     },
     "metadata": {
      "needs_background": "light"
     },
     "output_type": "display_data"
    }
   ],
   "source": [
    "plt.hist(planets['pl_orbeccen'])\n",
    "plt.show()"
   ]
  },
  {
   "cell_type": "code",
   "execution_count": 5,
   "metadata": {},
   "outputs": [],
   "source": [
    "from hermite_library import read_hermite_solution_from_file"
   ]
  },
  {
   "cell_type": "code",
   "execution_count": 6,
   "metadata": {},
   "outputs": [],
   "source": [
    "planet_file = 'data/Kepler-11-savedSim.txt'\n",
    "#planet_file = 'Kepler-11-savedSim.txt' # if all .txt files are in the same directory as my notebook file\n",
    "\n",
    "t_h, E_h, r_h, v_h = read_hermite_solution_from_file(planet_file)\n",
    "#time, energy, postion, velocity"
   ]
  },
  {
   "cell_type": "code",
   "execution_count": 7,
   "metadata": {},
   "outputs": [
    {
     "data": {
      "text/plain": [
       "(7, 3, 8800)"
      ]
     },
     "execution_count": 7,
     "metadata": {},
     "output_type": "execute_result"
    }
   ],
   "source": [
    "r_h.shape"
   ]
  },
  {
   "cell_type": "markdown",
   "metadata": {},
   "source": [
    "The shape of r_h (position) array is: `r_h[# of planets+host star, x/y/z - 3D position, time steps]`"
   ]
  },
  {
   "cell_type": "code",
   "execution_count": 8,
   "metadata": {},
   "outputs": [
    {
     "data": {
      "text/plain": [
       "(3, 8800)"
      ]
     },
     "execution_count": 8,
     "metadata": {},
     "output_type": "execute_result"
    }
   ],
   "source": [
    "r_h[0,:,:].shape # all positions, all times of the first planet"
   ]
  },
  {
   "cell_type": "code",
   "execution_count": 9,
   "metadata": {},
   "outputs": [
    {
     "data": {
      "text/plain": [
       "(8800,)"
      ]
     },
     "execution_count": 9,
     "metadata": {},
     "output_type": "execute_result"
    }
   ],
   "source": [
    "# x position, all times for the 2nd body in this system\n",
    "r_h[1,0,:].shape"
   ]
  },
  {
   "cell_type": "markdown",
   "metadata": {},
   "source": [
    "First thing we are going to do is plot the orbits statically (not a movie).\n",
    "\n",
    "2D plot of x/y positions over ALL timesteps for ALL of the planets."
   ]
  },
  {
   "cell_type": "code",
   "execution_count": 10,
   "metadata": {},
   "outputs": [
    {
     "data": {
      "text/plain": [
       "7"
      ]
     },
     "execution_count": 10,
     "metadata": {},
     "output_type": "execute_result"
    }
   ],
   "source": [
    "r_h.shape[0]"
   ]
  },
  {
   "cell_type": "code",
   "execution_count": 11,
   "metadata": {},
   "outputs": [
    {
     "data": {
      "image/png": "[encoded data removed]",
      "text/plain": [
       "<Figure size 288x288 with 1 Axes>"
      ]
     },
     "metadata": {
      "needs_background": "light"
     },
     "output_type": "display_data"
    }
   ],
   "source": [
    "fig, ax = plt.subplots(1,1,figsize=(4,4))\n",
    "\n",
    "# want to loop over all bodies in this simulation and plot their TOTAL orbits -- all times\n",
    "# x/y positions only\n",
    "# r_h[# bodies, x/y/z 3D positions, all time steps]\n",
    "for i in range(r_h.shape[0]): # looping over all bodies\n",
    "    # now we want to plot (for given body) the x/y positions\n",
    "    # over ALL times\n",
    "    # r_h[ith planet, x position, all times], r_h[ith planet, y position, all times]\n",
    "    ax.plot(r_h[i,0,:], r_h[i,1,:])\n",
    "    \n",
    "ax.set_xlabel('x in AU')\n",
    "ax.set_ylabel('y in AU')\n",
    "ax.set_xlim(-0.4, 0.4)\n",
    "ax.set_ylim(-0.4, 0.4)\n",
    "plt.show()"
   ]
  },
  {
   "cell_type": "code",
   "execution_count": 12,
   "metadata": {},
   "outputs": [
    {
     "data": {
      "image/png": "[encoded data removed]",
      "text/plain": [
       "<Figure size 288x288 with 1 Axes>"
      ]
     },
     "metadata": {
      "needs_background": "light"
     },
     "output_type": "display_data"
    }
   ],
   "source": [
    "# X VS. Z plot\n",
    "\n",
    "fig, ax = plt.subplots(1,1,figsize=(4,4))\n",
    "\n",
    "# want to loop over all bodies in this simulation and plot their TOTAL orbits -- all times\n",
    "# x/y positions only\n",
    "# r_h[# bodies, x/y/z 3D positions, all time steps]\n",
    "for i in range(r_h.shape[0]): # looping over all bodies\n",
    "    # now we want to plot (for given body) the x/z positions\n",
    "    # over ALL times\n",
    "    # r_h[ith planet, x position, all times], r_h[ith planet, z position, all times]\n",
    "    ax.plot(r_h[i,0,:], r_h[i,2,:])\n",
    "    \n",
    "ax.set_xlabel('x in AU')\n",
    "ax.set_ylabel('z in AU')\n",
    "plt.show()"
   ]
  },
  {
   "cell_type": "code",
   "execution_count": 13,
   "metadata": {},
   "outputs": [
    {
     "data": {
      "image/png": "[encoded data removed]",
      "text/plain": [
       "<Figure size 288x288 with 1 Axes>"
      ]
     },
     "metadata": {
      "needs_background": "light"
     },
     "output_type": "display_data"
    }
   ],
   "source": [
    "# Y vs. Z.\n",
    "fig, ax = plt.subplots(1,1,figsize=(4,4))\n",
    "\n",
    "# want to loop over all bodies in this simulation and plot their TOTAL orbits -- all times\n",
    "# x/y positions only\n",
    "# r_h[# bodies, x/y/z 3D positions, all time steps]\n",
    "for i in range(r_h.shape[0]): # looping over all bodies\n",
    "    # now we want to plot (for given body) the x/z positions\n",
    "    # over ALL times\n",
    "    # r_h[ith planet, y position, all times], r_h[ith planet, z position, all times]\n",
    "    ax.plot(r_h[i,1,:], r_h[i,2,:])\n",
    "    \n",
    "ax.set_xlabel('y in AU')\n",
    "ax.set_ylabel('z in AU')\n",
    "plt.show()"
   ]
  },
  {
   "cell_type": "markdown",
   "metadata": {},
   "source": [
    "## Attempting! to make and save a 2D movie"
   ]
  },
  {
   "cell_type": "code",
   "execution_count": 14,
   "metadata": {},
   "outputs": [],
   "source": [
    "from animations_library import plot_animations"
   ]
  },
  {
   "cell_type": "markdown",
   "metadata": {},
   "source": [
    "Note: to use this animation library we have to use the `matplotlib.animation` sub-library."
   ]
  },
  {
   "cell_type": "code",
   "execution_count": 15,
   "metadata": {},
   "outputs": [],
   "source": [
    "from matplotlib import animation"
   ]
  },
  {
   "cell_type": "code",
   "execution_count": 16,
   "metadata": {},
   "outputs": [
    {
     "data": {
      "text/plain": [
       "<module 'matplotlib.animation' from '/opt/anaconda3/envs/myNewEnv2/lib/python3.7/site-packages/matplotlib/animation.py'>"
      ]
     },
     "execution_count": 16,
     "metadata": {},
     "output_type": "execute_result"
    }
   ],
   "source": [
    "animation"
   ]
  },
  {
   "cell_type": "code",
   "execution_count": 17,
   "metadata": {},
   "outputs": [],
   "source": [
    "# create a figure objection (but don't plot anything on it)\n",
    "#fig, ax = plt.subplots(1,1, figsize=(5,5))"
   ]
  },
  {
   "cell_type": "markdown",
   "metadata": {},
   "source": [
    "Before creating our animation on this figure object, we might want to make it a little more efficient by downsampling in time."
   ]
  },
  {
   "cell_type": "code",
   "execution_count": 18,
   "metadata": {},
   "outputs": [],
   "source": [
    "stepSize = 50 # I'm going to create a image every 50th timestep out of the 8800"
   ]
  },
  {
   "cell_type": "code",
   "execution_count": 19,
   "metadata": {},
   "outputs": [],
   "source": [
    "# downsampled position vector\n",
    "r = r_h[:,:,0:-1:stepSize] # technically this goes up until the 2nd to last timestep \n",
    "# can also do: r_h[:,:, 0::stepSize]"
   ]
  },
  {
   "cell_type": "code",
   "execution_count": 20,
   "metadata": {},
   "outputs": [
    {
     "data": {
      "text/plain": [
       "((7, 3, 8800), (7, 3, 176))"
      ]
     },
     "execution_count": 20,
     "metadata": {},
     "output_type": "execute_result"
    }
   ],
   "source": [
    "r_h.shape, r.shape"
   ]
  },
  {
   "cell_type": "code",
   "execution_count": 21,
   "metadata": {},
   "outputs": [
    {
     "data": {
      "text/plain": [
       "(8800,)"
      ]
     },
     "execution_count": 21,
     "metadata": {},
     "output_type": "execute_result"
    }
   ],
   "source": [
    "t_h.shape"
   ]
  },
  {
   "cell_type": "code",
   "execution_count": 22,
   "metadata": {},
   "outputs": [
    {
     "data": {
      "text/plain": [
       "array([0.00000000e+00, 1.13649278e+03, 2.27298557e+03, ...,\n",
       "       9.99772701e+06, 9.99886351e+06, 1.00000000e+07])"
      ]
     },
     "execution_count": 22,
     "metadata": {},
     "output_type": "execute_result"
    }
   ],
   "source": [
    "t_h"
   ]
  },
  {
   "cell_type": "code",
   "execution_count": 23,
   "metadata": {},
   "outputs": [],
   "source": [
    "# downsample in time the time variable\n",
    "t = t_h[0:-1:stepSize]"
   ]
  },
  {
   "cell_type": "code",
   "execution_count": 24,
   "metadata": {},
   "outputs": [
    {
     "data": {
      "text/plain": [
       "((8800,), (176,))"
      ]
     },
     "execution_count": 24,
     "metadata": {},
     "output_type": "execute_result"
    }
   ],
   "source": [
    "t_h.shape, t.shape"
   ]
  },
  {
   "cell_type": "code",
   "execution_count": 25,
   "metadata": {},
   "outputs": [
    {
     "data": {
      "image/png": "[encoded data removed]",
      "text/plain": [
       "<Figure size 288x288 with 1 Axes>"
      ]
     },
     "metadata": {
      "needs_background": "light"
     },
     "output_type": "display_data"
    }
   ],
   "source": [
    "# use the downsampled versions!!\n",
    "fig, ax = plt.subplots(1,1,figsize=(4,4))\n",
    "\n",
    "# want to loop over all bodies in this simulation and plot their TOTAL orbits -- all times\n",
    "# x/y positions only\n",
    "# r_h[# bodies, x/y/z 3D positions, all time steps]\n",
    "for i in range(r.shape[0]): # looping over all bodies\n",
    "    # now we want to plot (for given body) the x/y positions\n",
    "    # over ALL times\n",
    "    # r_h[ith planet, x position, all times], r_h[ith planet, y position, all times]\n",
    "    ax.plot(r[i,0,:], r[i,1,:])\n",
    "    \n",
    "ax.set_xlabel('x in AU')\n",
    "ax.set_ylabel('y in AU')\n",
    "ax.set_xlim(-0.4, 0.4)\n",
    "ax.set_ylim(-0.4, 0.4)\n",
    "plt.show()"
   ]
  },
  {
   "cell_type": "markdown",
   "metadata": {},
   "source": [
    "After that bit of downsampling tangent, let's actually make that animation!"
   ]
  },
  {
   "cell_type": "code",
   "execution_count": 26,
   "metadata": {},
   "outputs": [
    {
     "data": {
      "image/png": "[encoded data removed]",
      "text/plain": [
       "<Figure size 360x360 with 1 Axes>"
      ]
     },
     "metadata": {
      "needs_background": "light"
     },
     "output_type": "display_data"
    }
   ],
   "source": [
    "# create a figure objection (but don't plot anything on it)\n",
    "fig, ax = plt.subplots(1,1, figsize=(5,5))"
   ]
  },
  {
   "cell_type": "code",
   "execution_count": 27,
   "metadata": {},
   "outputs": [],
   "source": [
    "# 2nd step is to use plot_animations to setup the animation stuff we need\n",
    "init, animate, nFrames = plot_animations(fig, ax, t, r) # t is need here because Jill wrote the library funny!"
   ]
  },
  {
   "cell_type": "code",
   "execution_count": 28,
   "metadata": {},
   "outputs": [],
   "source": [
    "# 3rd step is to use matplotlib to put animation files together\n",
    "anim = animation.FuncAnimation(fig, animate, init_func=init, \n",
    "                              frames=nFrames, interval=20, blit=True)"
   ]
  },
  {
   "cell_type": "code",
   "execution_count": 29,
   "metadata": {},
   "outputs": [],
   "source": [
    "anim.save?"
   ]
  },
  {
   "cell_type": "code",
   "execution_count": 30,
   "metadata": {},
   "outputs": [],
   "source": [
    "anim.save('anim_trial.mp4')"
   ]
  },
  {
   "cell_type": "code",
   "execution_count": 31,
   "metadata": {},
   "outputs": [],
   "source": [
    "# if the above didn't work, you can try this:\n",
    "Writer = animation.writers['ffmpeg']\n",
    "writer = Writer(fps=15, metadata=dict(artist='Me'), bitrate=1800)"
   ]
  },
  {
   "cell_type": "code",
   "execution_count": 32,
   "metadata": {},
   "outputs": [],
   "source": [
    "anim.save('anim_trial2.mp4', writer=writer)"
   ]
  },
  {
   "cell_type": "code",
   "execution_count": 33,
   "metadata": {},
   "outputs": [],
   "source": [
    "from IPython.display import Video"
   ]
  },
  {
   "cell_type": "code",
   "execution_count": 34,
   "metadata": {},
   "outputs": [
    {
     "data": {
      "text/html": [
       "<video src=\"anim_trial.mp4\" controls  width=\"400\" >\n",
       "      Your browser does not support the <code>video</code> element.\n",
       "    </video>"
      ],
      "text/plain": [
       "<IPython.core.display.Video object>"
      ]
     },
     "execution_count": 34,
     "metadata": {},
     "output_type": "execute_result"
    }
   ],
   "source": [
    "Video(\"anim_trial.mp4\", width=400)"
   ]
  },
  {
   "cell_type": "markdown",
   "metadata": {},
   "source": [
    "## Stuff in 3D!"
   ]
  },
  {
   "cell_type": "code",
   "execution_count": 5,
   "metadata": {},
   "outputs": [
    {
     "name": "stderr",
     "output_type": "stream",
     "text": [
      "/opt/anaconda3/envs/myNewEnv2/lib/python3.7/site-packages/ipyvolume/serialize.py:92: RuntimeWarning: invalid value encountered in true_divide\n",
      "  gradient = gradient / np.sqrt(gradient[0] ** 2 + gradient[1] ** 2 + gradient[2] ** 2)\n"
     ]
    },
    {
     "data": {
      "application/vnd.jupyter.widget-view+json": {
       "model_id": "8a0a1b758b2a4d5a8b39ee331705b8bf",
       "version_major": 2,
       "version_minor": 0
      },
      "text/plain": [
       "VBox(children=(VBox(children=(HBox(children=(Label(value='levels:'), FloatSlider(value=0.25, max=1.0, step=0.0…"
      ]
     },
     "metadata": {},
     "output_type": "display_data"
    }
   ],
   "source": [
    "import numpy as np\n",
    "import ipyvolume as ipv\n",
    "V = np.zeros((128,128,128)) # our 3d array\n",
    "# outer box\n",
    "V[30:-30,30:-30,30:-30] = 0.75\n",
    "V[35:-35,35:-35,35:-35] = 0.0\n",
    "# inner box\n",
    "V[50:-50,50:-50,50:-50] = 0.25\n",
    "V[55:-55,55:-55,55:-55] = 0.0\n",
    "ipv.quickvolshow(V, level=[0.25, 0.75], opacity=0.03, level_width=0.1, data_min=0, data_max=1)"
   ]
  },
  {
   "cell_type": "code",
   "execution_count": 3,
   "metadata": {},
   "outputs": [],
   "source": [
    "#!conda install -c conda-forge ipyvolume --yes\n",
    "import ipyvolume\n",
    "import numpy as np"
   ]
  },
  {
   "cell_type": "code",
   "execution_count": 4,
   "metadata": {},
   "outputs": [
    {
     "data": {
      "application/vnd.jupyter.widget-view+json": {
       "model_id": "d3174814725a44a5818e197d98649ce0",
       "version_major": 2,
       "version_minor": 0
      },
      "text/plain": [
       "VBox(children=(Figure(camera=PerspectiveCamera(fov=45.0, position=(0.0, 0.0, 2.0), quaternion=(0.0, 0.0, 0.0, …"
      ]
     },
     "metadata": {},
     "output_type": "display_data"
    }
   ],
   "source": [
    "x, y, z = np.random.random((3,10))\n",
    "ipyvolume.quickscatter(x,y,z, size=1, marker=\"sphere\")"
   ]
  },
  {
   "cell_type": "code",
   "execution_count": 38,
   "metadata": {},
   "outputs": [
    {
     "data": {
      "text/plain": [
       "(10,)"
      ]
     },
     "execution_count": 38,
     "metadata": {},
     "output_type": "execute_result"
    }
   ],
   "source": [
    "x.shape"
   ]
  },
  {
   "cell_type": "code",
   "execution_count": 39,
   "metadata": {},
   "outputs": [
    {
     "data": {
      "text/plain": [
       "(7, 8800)"
      ]
     },
     "execution_count": 39,
     "metadata": {},
     "output_type": "execute_result"
    }
   ],
   "source": [
    "r_h[:,0,:].shape # [all the planets, x-values, all times]"
   ]
  },
  {
   "cell_type": "code",
   "execution_count": 40,
   "metadata": {},
   "outputs": [
    {
     "data": {
      "text/plain": [
       "array([-8.69460729e-02, -8.69427997e-02, -8.69329803e-02, ...,\n",
       "       -2.30013480e-05, -2.30219366e-05, -2.30424531e-05])"
      ]
     },
     "execution_count": 40,
     "metadata": {},
     "output_type": "execute_result"
    }
   ],
   "source": [
    "r_h[:,0,:].ravel() # take our x array for all of the planets and making it into a 1D array (ipyvolume)"
   ]
  },
  {
   "cell_type": "code",
   "execution_count": 41,
   "metadata": {},
   "outputs": [
    {
     "data": {
      "text/plain": [
       "(61600,)"
      ]
     },
     "execution_count": 41,
     "metadata": {},
     "output_type": "execute_result"
    }
   ],
   "source": [
    "r_h[:,0,:].ravel().shape"
   ]
  },
  {
   "cell_type": "code",
   "execution_count": 42,
   "metadata": {},
   "outputs": [],
   "source": [
    "# if we wanna downsample\n",
    "stepSize = 50\n",
    "r = r_h[:,:,0:-1:stepSize] # technically this goes up until the 2nd to last timestep \n",
    "\n",
    "# do this for all of the positions x/y/z\n",
    "x = r[:,0,:].ravel()\n",
    "y = r[:,1,:].ravel()\n",
    "z = r[:,2,:].ravel()"
   ]
  },
  {
   "cell_type": "code",
   "execution_count": 43,
   "metadata": {},
   "outputs": [
    {
     "data": {
      "application/vnd.jupyter.widget-view+json": {
       "model_id": "a7566cb04e3b4a7bba0b533ed9ad542a",
       "version_major": 2,
       "version_minor": 0
      },
      "text/plain": [
       "VBox(children=(Figure(camera=PerspectiveCamera(fov=45.0, position=(0.0, 0.0, 2.0), quaternion=(0.0, 0.0, 0.0, …"
      ]
     },
     "metadata": {},
     "output_type": "display_data"
    }
   ],
   "source": [
    "ipyvolume.quickscatter(x,y,z, size=1, marker=\"sphere\")"
   ]
  },
  {
   "cell_type": "code",
   "execution_count": null,
   "metadata": {},
   "outputs": [],
   "source": []
  }
 ],
 "metadata": {
  "kernelspec": {
   "display_name": "Python 3",
   "language": "python",
   "name": "python3"
  },
  "language_info": {
   "codemirror_mode": {
    "name": "ipython",
    "version": 3
   },
   "file_extension": ".py",
   "mimetype": "text/x-python",
   "name": "python",
   "nbconvert_exporter": "python",
   "pygments_lexer": "ipython3",
   "version": "3.7.6"
  }
 },
 "nbformat": 4,
 "nbformat_minor": 4
}
