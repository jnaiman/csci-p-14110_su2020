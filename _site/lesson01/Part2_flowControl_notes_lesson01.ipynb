{
 "cells": [
  {
   "cell_type": "markdown",
   "metadata": {},
   "source": [
    "# Day 1, Part 2: Flow Control"
   ]
  },
  {
   "cell_type": "markdown",
   "metadata": {},
   "source": [
    "## 7.1 Functions\n",
    "Functions are useful for tasks that we want to perform that are common to many programs. We've already encountered an example of this: the sin function. There are many, many reasons why one might want to take the sin of something, so it is useful to define the sin function once and for all so that any program that needs to take the sin can do so, rather than having to come up with their own approximation of the sin using the Taylor expansion or something like that.\n",
    "\n",
    "We've gone over a bit of the abstract concept of functions, but here is what the syntax looks like:"
   ]
  },
  {
   "cell_type": "code",
   "execution_count": 95,
   "metadata": {},
   "outputs": [],
   "source": [
    "def myfunc(arg1, arg2):\n",
    "    print(\"I am a function! Here are my arguments:\")\n",
    "    print(arg1)\n",
    "    print(arg2)\n",
    "    print(\"I am returning my first argument now!\")\n",
    "    return(arg1)\n",
    "\n"
   ]
  },
  {
   "cell_type": "markdown",
   "metadata": {},
   "source": [
    "This defines a very simple function. Let's walk through this declaration step by step:\n",
    "1. The first line begins with def, then the name of the function, and then in parentheses a list of arguments for the function, then a colon. Arguments are inputs to the function. For example, the sin function takes an angle as an argument. In this example our function has two arguments. The number of arguments is arbitrary, and can be zero, in which case the parentheses are just left empty. It is also possible to write functions where the number of arguments is variable, and need not be the same every time the function is called, but we won't discuss that capability further in this short course.\n",
    "2. After the define line, we begin the body of the function. Note that all the lines in the function body are indented. This indentation is IMPORTANT. In python, indentation is used to indicate that a particular line belongs to a particular function, loop, or other block of code. All the lines of the function are indented four spaces. If you're using entering this manually in ipython, either at the command line or in the notebook, you don't need to type in those four spaces by hand; the ipython shell will automatically enter them for you after seeing the def line. If you're using emacs as a text editor, you can just hit the tab key and the correct number of spaces will be entered for you.\n",
    "3. Within the body of the function, we can enter whatever commands we like. We can print things, for example. The arguments in that appeared in parentheses in the definition are accessible within the function, and can be manipulated however we like.\n",
    "4. At the end of the function, we have a statement that begins return. A return function causes the function to give back a value, which the calling program can print, assign to a variable, or do something else with. For example the sin function returns the sin of the input angle. Return values are optional: functions don't have to return anything, and can just end.\n",
    "\n",
    "Not that when we wrote down the function, nothing is printed out, but python now knows about this function. To demonstrate this, let's try calling it:\n"
   ]
  },
  {
   "cell_type": "code",
   "execution_count": 96,
   "metadata": {},
   "outputs": [
    {
     "name": "stdout",
     "output_type": "stream",
     "text": [
      "I am a function! Here are my arguments:\n",
      "1\n",
      "2\n",
      "I am returning my first argument now!\n"
     ]
    },
    {
     "data": {
      "text/plain": [
       "1"
      ]
     },
     "execution_count": 96,
     "metadata": {},
     "output_type": "execute_result"
    }
   ],
   "source": [
    "myfunc(1, 2)"
   ]
  },
  {
   "cell_type": "markdown",
   "metadata": {},
   "source": [
    "Try this out with a few different arguments to see what happens **do this**\n",
    "\n",
    "Note that we can actually import collections of functions with things called \"modules\"\n",
    "\n",
    "We actually did this before with matplotlib for plots:\n",
    "\"matplotlib\" is a module, \"matplotlib\" is a set of plotting functions & controls for how plots will look, \"matplotlib.pyplot\" is a sort of \"sub-module\" of matplotlib and \"pyplot\" is called to do the simple line plots we did before"
   ]
  },
  {
   "cell_type": "markdown",
   "metadata": {},
   "source": [
    "## 7.2 for-loops & while loops\n",
    "We went over for-loops conceptually in slides, no lets go through them with code.  We'll also cover something called \"while loops\" that are closely related"
   ]
  },
  {
   "cell_type": "markdown",
   "metadata": {},
   "source": [
    "Let's print the phrase \"hi there\" three times:"
   ]
  },
  {
   "cell_type": "code",
   "execution_count": 97,
   "metadata": {},
   "outputs": [
    {
     "name": "stdout",
     "output_type": "stream",
     "text": [
      "hi there\n",
      "hi there\n",
      "hi there\n"
     ]
    }
   ],
   "source": [
    "print(\"hi there\")\n",
    "print(\"hi there\")\n",
    "print(\"hi there\")"
   ]
  },
  {
   "cell_type": "markdown",
   "metadata": {},
   "source": [
    "Ok, that was fine, but what if we want to do it like 40 times?  Here comes our friend the for-loop. \n",
    "\n",
    "One of the most common types of loop is where you want to loop over numbers: 0, 1, 2, 3, .... To handle loops of this sort, python provides a simple command to construct a list of numbers to iterate over, called range. The command range(n) produces a list of numbers from 0 to n-1. For example:"
   ]
  },
  {
   "cell_type": "code",
   "execution_count": 98,
   "metadata": {},
   "outputs": [
    {
     "name": "stdout",
     "output_type": "stream",
     "text": [
      "hi there\n",
      "hi there\n",
      "hi there\n",
      "hi there\n",
      "hi there\n"
     ]
    }
   ],
   "source": [
    "for i in range(5):\n",
    "    print('hi there')"
   ]
  },
  {
   "cell_type": "markdown",
   "metadata": {},
   "source": [
    "Note that \"i\" is the loop counter which updates with each loop.  Behold:"
   ]
  },
  {
   "cell_type": "code",
   "execution_count": 99,
   "metadata": {},
   "outputs": [
    {
     "name": "stdout",
     "output_type": "stream",
     "text": [
      "0\n",
      "1\n",
      "2\n",
      "3\n"
     ]
    }
   ],
   "source": [
    "for i in range(4):\n",
    "    print(i)"
   ]
  },
  {
   "cell_type": "markdown",
   "metadata": {},
   "source": [
    "Note that the count started from 0 and ended at 3 - this is becuase Python does \"zero indexing\" by default. Also note that the range command has exactly the same syntax as the arange command we encountered when we constructed arrays.\n",
    "\n",
    "Python also allows us to do fancier types of loops over sets of objects:"
   ]
  },
  {
   "cell_type": "code",
   "execution_count": 100,
   "metadata": {},
   "outputs": [
    {
     "name": "stdout",
     "output_type": "stream",
     "text": [
      "bob\n",
      "linda\n",
      "tina\n",
      "gene\n",
      "louise\n"
     ]
    }
   ],
   "source": [
    "myStrings = ['bob', 'linda', 'tina', 'gene', 'louise']\n",
    "\n",
    "for s in myStrings:\n",
    "    print(s)"
   ]
  },
  {
   "cell_type": "markdown",
   "metadata": {},
   "source": [
    "A \"while loop\" has a very similar structure to a for loop except it also has something called a \"conditional statement\" involved.  For example, as we did with a for loop above, lets loop through and print out the numbers 0-3 but using a while loop.  The syntax is a little different:"
   ]
  },
  {
   "cell_type": "code",
   "execution_count": 101,
   "metadata": {},
   "outputs": [
    {
     "name": "stdout",
     "output_type": "stream",
     "text": [
      "0\n",
      "1\n",
      "2\n",
      "3\n"
     ]
    }
   ],
   "source": [
    "i = 0 # we first specify our start loop variable\n",
    "while i < 4: # lets run this loop until i is >= 4\n",
    "    print(i) # print i as before\n",
    "    i = i+1 # we have to explicitly update the i here unlike in a for loop"
   ]
  },
  {
   "cell_type": "markdown",
   "metadata": {},
   "source": [
    "## 7.3 If-then statements and conditional operators\n",
    "We might also want to excecute specific actions if specific conditions are met using \"conditional statements\" like we did with while loops above.  We can do this with if then statements.  Lets try running the following bit of code using what we know about functions and implementing this new thing called an if-then statement.  This is an extension of the for and while loops we discussed in the slides."
   ]
  },
  {
   "cell_type": "code",
   "execution_count": 102,
   "metadata": {},
   "outputs": [],
   "source": [
    "# Define the plotting function\n",
    "def makeplot(funcname):\n",
    "\n",
    "    # Define the x array using numpy\n",
    "    x=np.arange(0, 2*np.pi, 0.01)\n",
    "\n",
    "    # Check if the user entered the sin, cos, or tan function\n",
    "    if funcname=='sin':\n",
    "        plt.plot(x, np.sin(x))\n",
    "    elif funcname=='cos':\n",
    "        plt.plot(x, np.cos(x))\n",
    "    elif funcname=='tan':\n",
    "        plt.plot(x, np.tan(x))\n",
    "    else:\n",
    "        print(\"Unrecognized function \"+str(funcname))\n"
   ]
  },
  {
   "cell_type": "markdown",
   "metadata": {},
   "source": [
    "As before, while nothing is printed out this function now \"lives\" in our jupyter python notebook.  \n",
    "\n",
    "Let's examine this module to understand what it does. First, we assume we've already imported the numpy and matplotlib.pyplot libraries so that we can use arrays, make plots, etc. \n",
    "\n",
    "Next, we define a function that takes one argument. This argument is the name of the trig function we are going to plot.\n",
    "\n",
    "Third, we define an array that goes from 0 to 2 pi with a spacing of 0.01. This is exactly as we did in the last class.\n",
    "\n",
    "Finally, we decide what to do based on the user input, using an if statement. The structure of if is fairly simple. We begin a line with if and then we follow that with a test that will be either true or false. In this case, we compare the input function name to 'sin' and see if it matches. The comparison is done with the == operator -- more on that in a moment. If the input funcname matches 'sin', we go ahead and plot a sin function. The line to do this is indented another 4 spaces, to indicate that this command belongs within the block to which the if applies.\n",
    "\n",
    "If the name doesn't match 'sin', we next compare it to 'cos'. The statement that does this is 'elif', which is short for 'else if'. The meaning of 'elif' is that we first check the if statement. If it is true, we execute the block of code within that if statement. If it is false, we then go on to the 'elif' line and do that test. If that test turns out to be true, we execute that block of code. In this case, if the input value of funcname is 'cos', then we will plot a cos function. If the elif turns out to be false, we go on to the next one, that compares the input to 'tan'. If that is true, we plot tan. If not, we encounter an 'else'. The 'else' statement is the catchall: it's what we do if all the if's and elif's turn out to be false. In this case, we just print out a message complaining that we don't recognize the input function."
   ]
  },
  {
   "cell_type": "markdown",
   "metadata": {},
   "source": [
    "Ok, lets test this function out:"
   ]
  },
  {
   "cell_type": "code",
   "execution_count": 103,
   "metadata": {},
   "outputs": [
    {
     "data": {
      "image/png": "[encoded data removed]",
      "text/plain": [
       "<Figure size 432x288 with 1 Axes>"
      ]
     },
     "metadata": {
      "needs_background": "light"
     },
     "output_type": "display_data"
    }
   ],
   "source": [
    "makeplot('tan') \n",
    "# try a few others!"
   ]
  },
  {
   "cell_type": "markdown",
   "metadata": {},
   "source": [
    "The thing that follows an if statement can be any statement or function that results in True or False, but it is obviously useful to be able to compare things. Python provides a number of comparison operators, but the most common ones that you will use are ==, <, >, <=, >=, and !=. Most of these have their usual mathematical meanings (for example < and >), but there are a few subtleties to be aware of.\n",
    "1. == tests if two things are equal; we use == rather than = because we need to distinguish comparison from assignment\n",
    "1. != means \"not equal\"\n",
    "1. <= and >= mean \"less than or equal to\" and \"greater than or equal to\", respectively\n",
    "1. when used on strings instead of numbers, < is interpreted to mean \"comes before alphabetically\", and similarly for >, <=, and >="
   ]
  },
  {
   "cell_type": "markdown",
   "metadata": {},
   "source": [
    "That's really all there is to for loops & conditional statements. To demonstrate their utility, let's say we want to extend the capability of our trigonometric function plotting tool so that a user has the option to plot multiple trig functions with different wavelengths. To implement this, we'll combine our function that uses an if-then statement with a for-loop:"
   ]
  },
  {
   "cell_type": "code",
   "execution_count": 104,
   "metadata": {},
   "outputs": [],
   "source": [
    "# Define the plotting function\n",
    "def makeplot(funcname, wavelength=[2*np.pi]):\n",
    "\n",
    "    # Define the x array\n",
    "    x=np.arange(0, 2*np.pi, 0.01)\n",
    "\n",
    "    # Loop over wavelengths\n",
    "    for w in wavelength:\n",
    "\n",
    "        # Check if the user entered the sin, cos, or tan function\n",
    "        if funcname=='sin':\n",
    "            plt.plot(x, np.sin(x*2*np.pi/w))\n",
    "        elif funcname=='cos':\n",
    "            plt.plot(x, np.cos(x*2*np.pi/w))\n",
    "        elif funcname=='tan':\n",
    "            plt.plot(x, np.tan(x*2*np.pi/w))\n",
    "        else:\n",
    "            print(\"Unrecognized function \"+str(f))\n",
    "            return"
   ]
  },
  {
   "cell_type": "markdown",
   "metadata": {},
   "source": [
    "Notice first that we've made use of our optional argument capability. The user can enter a wavelength value, but doesn't have to, because the wavelength will default to 2 pi. If the user does enter a set of wavelengths, we've used a loop to iterate over them. Let's try running this code:"
   ]
  },
  {
   "cell_type": "code",
   "execution_count": 105,
   "metadata": {},
   "outputs": [
    {
     "data": {
      "image/png": "[encoded data removed]",
      "text/plain": [
       "<Figure size 432x288 with 1 Axes>"
      ]
     },
     "metadata": {
      "needs_background": "light"
     },
     "output_type": "display_data"
    }
   ],
   "source": [
    "makeplot('tan', [np.pi, 2*np.pi, 3*np.pi])"
   ]
  },
  {
   "cell_type": "markdown",
   "metadata": {},
   "source": [
    "# 8. Exercises\n",
    "1. How would you modify the above code to allow for the plotting of the cosh and sinh functions?\n",
    "\n",
    "Bonus: what if you want to plot both the input wavelenght and 1/2 the wavelength?  So, if given a single input wavelength w, you would get a plot of 2 lines: w and w/2\n",
    "\n",
    "Bonus bonus: how would you tell each line apart? (hint: linestyles, legends...)"
   ]
  },
  {
   "cell_type": "code",
   "execution_count": null,
   "metadata": {},
   "outputs": [],
   "source": []
  }
 ],
 "metadata": {
  "kernelspec": {
   "display_name": "Python 3",
   "language": "python",
   "name": "python3"
  },
  "language_info": {
   "codemirror_mode": {
    "name": "ipython",
    "version": 3
   },
   "file_extension": ".py",
   "mimetype": "text/x-python",
   "name": "python",
   "nbconvert_exporter": "python",
   "pygments_lexer": "ipython3",
   "version": "3.7.3"
  }
 },
 "nbformat": 4,
 "nbformat_minor": 2
}
