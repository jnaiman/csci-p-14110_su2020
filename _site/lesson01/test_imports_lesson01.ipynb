{
 "cells": [
  {
   "cell_type": "markdown",
   "metadata": {},
   "source": [
    "# Necessary Packages By Lesson\n",
    "Note: it is possible a few others might be added, but this should get you started.\n",
    "\n",
    "**PLEASE NOTE** this is assuming you have installed Python & Jupyter Notebook using Anaconda.  You are welcome to use JupyterLab instead of Jupyter Notebooks, however *we will not support JupyterLab ourselves in this class.*\n",
    "\n",
    "See https://github.com/jnaiman/IS-452AO-Fall2019/blob/master/installation_directions.md for more details about installing Anaconda (you can skip the PyCharm installation part).\n",
    "\n",
    "Make sure you see the same plots as are saved in this plot - if something doesn't display this means something has gone wrong. Note: anything with randomly selected numbers will look a little different.\n",
    "\n",
    "**Please do not worry if you run into some things you have trouble installing -- we will help you debug in class!**\n",
    "\n",
    "# Lesson01:"
   ]
  },
  {
   "cell_type": "code",
   "execution_count": 46,
   "metadata": {},
   "outputs": [],
   "source": [
    "import matplotlib\n",
    "import matplotlib.pyplot as plt"
   ]
  },
  {
   "cell_type": "markdown",
   "metadata": {},
   "source": [
    "If the above doesn't work, you can try to install with conda by un-commenting the stuff below:"
   ]
  },
  {
   "cell_type": "code",
   "execution_count": 47,
   "metadata": {},
   "outputs": [],
   "source": [
    "#!conda install -c conda-forge matplotlib --yes\n",
    "#import matplotlib\n",
    "#import matplotlib.pyplot as plt"
   ]
  },
  {
   "cell_type": "code",
   "execution_count": 48,
   "metadata": {},
   "outputs": [],
   "source": [
    "import datetime"
   ]
  },
  {
   "cell_type": "markdown",
   "metadata": {},
   "source": [
    "The below is to make inline plots:"
   ]
  },
  {
   "cell_type": "code",
   "execution_count": 49,
   "metadata": {},
   "outputs": [],
   "source": [
    "%matplotlib inline"
   ]
  },
  {
   "cell_type": "markdown",
   "metadata": {},
   "source": [
    "The NumPy library is for numerical analysis and using vectors/matricies:"
   ]
  },
  {
   "cell_type": "code",
   "execution_count": 50,
   "metadata": {},
   "outputs": [],
   "source": [
    "import numpy as np"
   ]
  },
  {
   "cell_type": "markdown",
   "metadata": {},
   "source": [
    "If the above doesn't work you can try uncommenting stuff below:"
   ]
  },
  {
   "cell_type": "code",
   "execution_count": 51,
   "metadata": {},
   "outputs": [],
   "source": [
    "#!conda install -c anaconda numpy --yes\n",
    "#import numpy as np"
   ]
  },
  {
   "cell_type": "markdown",
   "metadata": {},
   "source": [
    "Let's make a quick plot:"
   ]
  },
  {
   "cell_type": "code",
   "execution_count": 52,
   "metadata": {},
   "outputs": [
    {
     "data": {
      "text/plain": [
       "array([0.1638284 , 0.06602149, 0.57612991, 0.79058303, 0.05587036])"
      ]
     },
     "execution_count": 52,
     "metadata": {},
     "output_type": "execute_result"
    }
   ],
   "source": [
    "x = np.random.random(5)\n",
    "x"
   ]
  },
  {
   "cell_type": "code",
   "execution_count": 53,
   "metadata": {},
   "outputs": [
    {
     "data": {
      "text/plain": [
       "array([0.58601558, 0.08467316, 0.54447652, 0.44037203, 0.40163823])"
      ]
     },
     "execution_count": 53,
     "metadata": {},
     "output_type": "execute_result"
    }
   ],
   "source": [
    "y = np.random.random(5)\n",
    "y"
   ]
  },
  {
   "cell_type": "code",
   "execution_count": 54,
   "metadata": {},
   "outputs": [
    {
     "data": {
      "image/png": "[encoded data removed]",
      "text/plain": [
       "<Figure size 432x288 with 1 Axes>"
      ]
     },
     "metadata": {
      "needs_background": "light"
     },
     "output_type": "display_data"
    }
   ],
   "source": [
    "plt.plot(x,y)\n",
    "plt.show()"
   ]
  },
  {
   "cell_type": "markdown",
   "metadata": {},
   "source": [
    "This is a library for importing and manipulating images."
   ]
  },
  {
   "cell_type": "code",
   "execution_count": 55,
   "metadata": {},
   "outputs": [],
   "source": [
    "import PIL.Image as Image"
   ]
  },
  {
   "cell_type": "markdown",
   "metadata": {},
   "source": [
    "If you can't do the above, try uncommenting the below:"
   ]
  },
  {
   "cell_type": "code",
   "execution_count": 56,
   "metadata": {},
   "outputs": [],
   "source": [
    "#!conda install -c anaconda pillow --yes\n",
    "#import PIL.Image as Image"
   ]
  },
  {
   "cell_type": "markdown",
   "metadata": {},
   "source": [
    "# Lesson 02"
   ]
  },
  {
   "cell_type": "code",
   "execution_count": 57,
   "metadata": {},
   "outputs": [],
   "source": [
    "import csv\n",
    "import collections"
   ]
  },
  {
   "cell_type": "markdown",
   "metadata": {},
   "source": [
    "Note: the above should be already installed in your Python distribution."
   ]
  },
  {
   "cell_type": "code",
   "execution_count": 58,
   "metadata": {},
   "outputs": [],
   "source": [
    "import pandas as pd"
   ]
  },
  {
   "cell_type": "markdown",
   "metadata": {},
   "source": [
    "If the above doesn't work try uncommenting the following:"
   ]
  },
  {
   "cell_type": "code",
   "execution_count": 59,
   "metadata": {},
   "outputs": [],
   "source": [
    "#!conda install -c anaconda pandas --yes\n",
    "#import pandas as pd"
   ]
  },
  {
   "cell_type": "markdown",
   "metadata": {},
   "source": [
    "Testing reading with pandas:"
   ]
  },
  {
   "cell_type": "code",
   "execution_count": 60,
   "metadata": {},
   "outputs": [],
   "source": [
    "data = pd.read_csv(\"https://uiuc-ischool-dataviz.github.io/spring2019online/week02/building_inventory.csv\")"
   ]
  },
  {
   "cell_type": "code",
   "execution_count": 61,
   "metadata": {},
   "outputs": [
    {
     "data": {
      "text/html": [
       "<div>\n",
       "<style scoped>\n",
       "    .dataframe tbody tr th:only-of-type {\n",
       "        vertical-align: middle;\n",
       "    }\n",
       "\n",
       "    .dataframe tbody tr th {\n",
       "        vertical-align: top;\n",
       "    }\n",
       "\n",
       "    .dataframe thead th {\n",
       "        text-align: right;\n",
       "    }\n",
       "</style>\n",
       "<table border=\"1\" class=\"dataframe\">\n",
       "  <thead>\n",
       "    <tr style=\"text-align: right;\">\n",
       "      <th></th>\n",
       "      <th>Agency Name</th>\n",
       "      <th>Location Name</th>\n",
       "      <th>Address</th>\n",
       "      <th>City</th>\n",
       "      <th>Zip code</th>\n",
       "      <th>County</th>\n",
       "      <th>Congress Dist</th>\n",
       "      <th>Congressional Full Name</th>\n",
       "      <th>Rep Dist</th>\n",
       "      <th>Rep Full Name</th>\n",
       "      <th>...</th>\n",
       "      <th>Bldg Status</th>\n",
       "      <th>Year Acquired</th>\n",
       "      <th>Year Constructed</th>\n",
       "      <th>Square Footage</th>\n",
       "      <th>Total Floors</th>\n",
       "      <th>Floors Above Grade</th>\n",
       "      <th>Floors Below Grade</th>\n",
       "      <th>Usage Description</th>\n",
       "      <th>Usage Description 2</th>\n",
       "      <th>Usage Description 3</th>\n",
       "    </tr>\n",
       "  </thead>\n",
       "  <tbody>\n",
       "    <tr>\n",
       "      <th>0</th>\n",
       "      <td>Department of Natural Resources</td>\n",
       "      <td>Anderson Lake Conservation Area - Fulton County</td>\n",
       "      <td>Anderson Lake C.a.</td>\n",
       "      <td>Astoria</td>\n",
       "      <td>61501</td>\n",
       "      <td>Fulton</td>\n",
       "      <td>17</td>\n",
       "      <td>Cheri Bustos</td>\n",
       "      <td>93</td>\n",
       "      <td>Hammond Norine K.</td>\n",
       "      <td>...</td>\n",
       "      <td>In Use</td>\n",
       "      <td>1975</td>\n",
       "      <td>1975</td>\n",
       "      <td>144</td>\n",
       "      <td>1</td>\n",
       "      <td>1</td>\n",
       "      <td>0</td>\n",
       "      <td>Unusual</td>\n",
       "      <td>Unusual</td>\n",
       "      <td>Not provided</td>\n",
       "    </tr>\n",
       "    <tr>\n",
       "      <th>1</th>\n",
       "      <td>Department of Natural Resources</td>\n",
       "      <td>Anderson Lake Conservation Area - Fulton County</td>\n",
       "      <td>Anderson Lake C.a.</td>\n",
       "      <td>Astoria</td>\n",
       "      <td>61501</td>\n",
       "      <td>Fulton</td>\n",
       "      <td>17</td>\n",
       "      <td>Cheri Bustos</td>\n",
       "      <td>93</td>\n",
       "      <td>Hammond Norine K.</td>\n",
       "      <td>...</td>\n",
       "      <td>In Use</td>\n",
       "      <td>2004</td>\n",
       "      <td>2004</td>\n",
       "      <td>144</td>\n",
       "      <td>1</td>\n",
       "      <td>1</td>\n",
       "      <td>0</td>\n",
       "      <td>Unusual</td>\n",
       "      <td>Unusual</td>\n",
       "      <td>Not provided</td>\n",
       "    </tr>\n",
       "    <tr>\n",
       "      <th>2</th>\n",
       "      <td>Department of Natural Resources</td>\n",
       "      <td>Anderson Lake Conservation Area - Fulton County</td>\n",
       "      <td>Anderson Lake C.a.</td>\n",
       "      <td>Astoria</td>\n",
       "      <td>61501</td>\n",
       "      <td>Fulton</td>\n",
       "      <td>17</td>\n",
       "      <td>Cheri Bustos</td>\n",
       "      <td>93</td>\n",
       "      <td>Hammond Norine K.</td>\n",
       "      <td>...</td>\n",
       "      <td>In Use</td>\n",
       "      <td>2004</td>\n",
       "      <td>2004</td>\n",
       "      <td>144</td>\n",
       "      <td>1</td>\n",
       "      <td>1</td>\n",
       "      <td>0</td>\n",
       "      <td>Unusual</td>\n",
       "      <td>Unusual</td>\n",
       "      <td>Not provided</td>\n",
       "    </tr>\n",
       "    <tr>\n",
       "      <th>3</th>\n",
       "      <td>Department of Natural Resources</td>\n",
       "      <td>Anderson Lake Conservation Area - Fulton County</td>\n",
       "      <td>Anderson Lake C.a.</td>\n",
       "      <td>Astoria</td>\n",
       "      <td>61501</td>\n",
       "      <td>Fulton</td>\n",
       "      <td>17</td>\n",
       "      <td>Cheri Bustos</td>\n",
       "      <td>93</td>\n",
       "      <td>Hammond Norine K.</td>\n",
       "      <td>...</td>\n",
       "      <td>In Use</td>\n",
       "      <td>2004</td>\n",
       "      <td>2004</td>\n",
       "      <td>144</td>\n",
       "      <td>1</td>\n",
       "      <td>1</td>\n",
       "      <td>0</td>\n",
       "      <td>Unusual</td>\n",
       "      <td>Unusual</td>\n",
       "      <td>Not provided</td>\n",
       "    </tr>\n",
       "    <tr>\n",
       "      <th>4</th>\n",
       "      <td>Department of Natural Resources</td>\n",
       "      <td>Anderson Lake Conservation Area - Fulton County</td>\n",
       "      <td>Anderson Lake C.a.</td>\n",
       "      <td>Astoria</td>\n",
       "      <td>61501</td>\n",
       "      <td>Fulton</td>\n",
       "      <td>17</td>\n",
       "      <td>Cheri Bustos</td>\n",
       "      <td>93</td>\n",
       "      <td>Hammond Norine K.</td>\n",
       "      <td>...</td>\n",
       "      <td>In Use</td>\n",
       "      <td>2004</td>\n",
       "      <td>2004</td>\n",
       "      <td>144</td>\n",
       "      <td>1</td>\n",
       "      <td>1</td>\n",
       "      <td>0</td>\n",
       "      <td>Unusual</td>\n",
       "      <td>Unusual</td>\n",
       "      <td>Not provided</td>\n",
       "    </tr>\n",
       "    <tr>\n",
       "      <th>...</th>\n",
       "      <td>...</td>\n",
       "      <td>...</td>\n",
       "      <td>...</td>\n",
       "      <td>...</td>\n",
       "      <td>...</td>\n",
       "      <td>...</td>\n",
       "      <td>...</td>\n",
       "      <td>...</td>\n",
       "      <td>...</td>\n",
       "      <td>...</td>\n",
       "      <td>...</td>\n",
       "      <td>...</td>\n",
       "      <td>...</td>\n",
       "      <td>...</td>\n",
       "      <td>...</td>\n",
       "      <td>...</td>\n",
       "      <td>...</td>\n",
       "      <td>...</td>\n",
       "      <td>...</td>\n",
       "      <td>...</td>\n",
       "      <td>...</td>\n",
       "    </tr>\n",
       "    <tr>\n",
       "      <th>8857</th>\n",
       "      <td>Department of Transportation</td>\n",
       "      <td>Belvidere Maintenance Storage Facility - Boone...</td>\n",
       "      <td>9797 Illinois Rte. 76</td>\n",
       "      <td>Belvidere</td>\n",
       "      <td>61008</td>\n",
       "      <td>Boone</td>\n",
       "      <td>16</td>\n",
       "      <td>Adam Kinzinger</td>\n",
       "      <td>69</td>\n",
       "      <td>Sosnowski Joe</td>\n",
       "      <td>...</td>\n",
       "      <td>In Use</td>\n",
       "      <td>0</td>\n",
       "      <td>0</td>\n",
       "      <td>432</td>\n",
       "      <td>1</td>\n",
       "      <td>0</td>\n",
       "      <td>0</td>\n",
       "      <td>Storage</td>\n",
       "      <td>NaN</td>\n",
       "      <td>NaN</td>\n",
       "    </tr>\n",
       "    <tr>\n",
       "      <th>8858</th>\n",
       "      <td>Department of Transportation</td>\n",
       "      <td>Belvidere Maintenance Storage Facility - Boone...</td>\n",
       "      <td>9797 Illinois Rte 76</td>\n",
       "      <td>Belvidere</td>\n",
       "      <td>61008</td>\n",
       "      <td>Boone</td>\n",
       "      <td>16</td>\n",
       "      <td>Adam Kinzinger</td>\n",
       "      <td>69</td>\n",
       "      <td>Sosnowski Joe</td>\n",
       "      <td>...</td>\n",
       "      <td>In Use</td>\n",
       "      <td>0</td>\n",
       "      <td>0</td>\n",
       "      <td>330</td>\n",
       "      <td>1</td>\n",
       "      <td>0</td>\n",
       "      <td>0</td>\n",
       "      <td>Storage</td>\n",
       "      <td>NaN</td>\n",
       "      <td>NaN</td>\n",
       "    </tr>\n",
       "    <tr>\n",
       "      <th>8859</th>\n",
       "      <td>Department of Transportation</td>\n",
       "      <td>Quincy Maintenance Storage Facility</td>\n",
       "      <td>800 Koch's Lane</td>\n",
       "      <td>Quincy</td>\n",
       "      <td>62305</td>\n",
       "      <td>Adams</td>\n",
       "      <td>18</td>\n",
       "      <td>Darin M. LaHood</td>\n",
       "      <td>94</td>\n",
       "      <td>Frese Randy E.</td>\n",
       "      <td>...</td>\n",
       "      <td>In Use</td>\n",
       "      <td>0</td>\n",
       "      <td>1987</td>\n",
       "      <td>130</td>\n",
       "      <td>1</td>\n",
       "      <td>0</td>\n",
       "      <td>0</td>\n",
       "      <td>Storage</td>\n",
       "      <td>High Hazard</td>\n",
       "      <td>NaN</td>\n",
       "    </tr>\n",
       "    <tr>\n",
       "      <th>8860</th>\n",
       "      <td>Illinois Community College Board</td>\n",
       "      <td>Illinois Valley Community College - Oglesby</td>\n",
       "      <td>815 North Orlando Smith Avenue</td>\n",
       "      <td>Oglesby</td>\n",
       "      <td>61348</td>\n",
       "      <td>LaSalle</td>\n",
       "      <td>16</td>\n",
       "      <td>Adam Kinzinger</td>\n",
       "      <td>76</td>\n",
       "      <td>Long Jerry Lee</td>\n",
       "      <td>...</td>\n",
       "      <td>In Use</td>\n",
       "      <td>1971</td>\n",
       "      <td>1971</td>\n",
       "      <td>49552</td>\n",
       "      <td>1</td>\n",
       "      <td>1</td>\n",
       "      <td>0</td>\n",
       "      <td>Education</td>\n",
       "      <td>Education</td>\n",
       "      <td>Not provided</td>\n",
       "    </tr>\n",
       "    <tr>\n",
       "      <th>8861</th>\n",
       "      <td>Department of Military Affairs</td>\n",
       "      <td>Peoria Army Aviation Support Facility</td>\n",
       "      <td>2323 S. Airport Rd</td>\n",
       "      <td>Peoria</td>\n",
       "      <td>61607</td>\n",
       "      <td>Peoria</td>\n",
       "      <td>17</td>\n",
       "      <td>Cheri Bustos</td>\n",
       "      <td>92</td>\n",
       "      <td>Gordon-Booth Jehan</td>\n",
       "      <td>...</td>\n",
       "      <td>In Progress</td>\n",
       "      <td>0</td>\n",
       "      <td>2017</td>\n",
       "      <td>288</td>\n",
       "      <td>1</td>\n",
       "      <td>0</td>\n",
       "      <td>0</td>\n",
       "      <td>Utiility &amp; Miscellan</td>\n",
       "      <td>Utiility &amp; Miscellan</td>\n",
       "      <td>NaN</td>\n",
       "    </tr>\n",
       "  </tbody>\n",
       "</table>\n",
       "<p>8862 rows × 22 columns</p>\n",
       "</div>"
      ],
      "text/plain": [
       "                           Agency Name  \\\n",
       "0      Department of Natural Resources   \n",
       "1      Department of Natural Resources   \n",
       "2      Department of Natural Resources   \n",
       "3      Department of Natural Resources   \n",
       "4      Department of Natural Resources   \n",
       "...                                ...   \n",
       "8857      Department of Transportation   \n",
       "8858      Department of Transportation   \n",
       "8859      Department of Transportation   \n",
       "8860  Illinois Community College Board   \n",
       "8861    Department of Military Affairs   \n",
       "\n",
       "                                          Location Name  \\\n",
       "0       Anderson Lake Conservation Area - Fulton County   \n",
       "1       Anderson Lake Conservation Area - Fulton County   \n",
       "2       Anderson Lake Conservation Area - Fulton County   \n",
       "3       Anderson Lake Conservation Area - Fulton County   \n",
       "4       Anderson Lake Conservation Area - Fulton County   \n",
       "...                                                 ...   \n",
       "8857  Belvidere Maintenance Storage Facility - Boone...   \n",
       "8858  Belvidere Maintenance Storage Facility - Boone...   \n",
       "8859                Quincy Maintenance Storage Facility   \n",
       "8860        Illinois Valley Community College - Oglesby   \n",
       "8861              Peoria Army Aviation Support Facility   \n",
       "\n",
       "                             Address       City  Zip code   County  \\\n",
       "0                 Anderson Lake C.a.    Astoria     61501   Fulton   \n",
       "1                 Anderson Lake C.a.    Astoria     61501   Fulton   \n",
       "2                 Anderson Lake C.a.    Astoria     61501   Fulton   \n",
       "3                 Anderson Lake C.a.    Astoria     61501   Fulton   \n",
       "4                 Anderson Lake C.a.    Astoria     61501   Fulton   \n",
       "...                              ...        ...       ...      ...   \n",
       "8857           9797 Illinois Rte. 76  Belvidere     61008    Boone   \n",
       "8858            9797 Illinois Rte 76  Belvidere     61008    Boone   \n",
       "8859                 800 Koch's Lane     Quincy     62305    Adams   \n",
       "8860  815 North Orlando Smith Avenue    Oglesby     61348  LaSalle   \n",
       "8861              2323 S. Airport Rd     Peoria     61607   Peoria   \n",
       "\n",
       "      Congress Dist Congressional Full Name  Rep Dist       Rep Full Name  \\\n",
       "0                17            Cheri Bustos        93   Hammond Norine K.   \n",
       "1                17            Cheri Bustos        93   Hammond Norine K.   \n",
       "2                17            Cheri Bustos        93   Hammond Norine K.   \n",
       "3                17            Cheri Bustos        93   Hammond Norine K.   \n",
       "4                17            Cheri Bustos        93   Hammond Norine K.   \n",
       "...             ...                     ...       ...                 ...   \n",
       "8857             16          Adam Kinzinger        69       Sosnowski Joe   \n",
       "8858             16          Adam Kinzinger        69       Sosnowski Joe   \n",
       "8859             18         Darin M. LaHood        94      Frese Randy E.   \n",
       "8860             16          Adam Kinzinger        76      Long Jerry Lee   \n",
       "8861             17            Cheri Bustos        92  Gordon-Booth Jehan   \n",
       "\n",
       "      ...  Bldg Status Year Acquired Year Constructed  Square Footage  \\\n",
       "0     ...       In Use          1975             1975             144   \n",
       "1     ...       In Use          2004             2004             144   \n",
       "2     ...       In Use          2004             2004             144   \n",
       "3     ...       In Use          2004             2004             144   \n",
       "4     ...       In Use          2004             2004             144   \n",
       "...   ...          ...           ...              ...             ...   \n",
       "8857  ...       In Use             0                0             432   \n",
       "8858  ...       In Use             0                0             330   \n",
       "8859  ...       In Use             0             1987             130   \n",
       "8860  ...       In Use          1971             1971           49552   \n",
       "8861  ...  In Progress             0             2017             288   \n",
       "\n",
       "      Total Floors  Floors Above Grade  Floors Below Grade  \\\n",
       "0                1                   1                   0   \n",
       "1                1                   1                   0   \n",
       "2                1                   1                   0   \n",
       "3                1                   1                   0   \n",
       "4                1                   1                   0   \n",
       "...            ...                 ...                 ...   \n",
       "8857             1                   0                   0   \n",
       "8858             1                   0                   0   \n",
       "8859             1                   0                   0   \n",
       "8860             1                   1                   0   \n",
       "8861             1                   0                   0   \n",
       "\n",
       "         Usage Description   Usage Description 2 Usage Description 3  \n",
       "0                  Unusual               Unusual        Not provided  \n",
       "1                  Unusual               Unusual        Not provided  \n",
       "2                  Unusual               Unusual        Not provided  \n",
       "3                  Unusual               Unusual        Not provided  \n",
       "4                  Unusual               Unusual        Not provided  \n",
       "...                    ...                   ...                 ...  \n",
       "8857               Storage                   NaN                 NaN  \n",
       "8858               Storage                   NaN                 NaN  \n",
       "8859               Storage           High Hazard                 NaN  \n",
       "8860             Education             Education        Not provided  \n",
       "8861  Utiility & Miscellan  Utiility & Miscellan                 NaN  \n",
       "\n",
       "[8862 rows x 22 columns]"
      ]
     },
     "execution_count": 61,
     "metadata": {},
     "output_type": "execute_result"
    }
   ],
   "source": [
    "data"
   ]
  },
  {
   "cell_type": "code",
   "execution_count": 62,
   "metadata": {},
   "outputs": [],
   "source": [
    "import scipy\n",
    "import scipy.misc\n",
    "import scipy.cluster"
   ]
  },
  {
   "cell_type": "markdown",
   "metadata": {},
   "source": [
    "If the above doesn't work, try uncommenting:"
   ]
  },
  {
   "cell_type": "code",
   "execution_count": 63,
   "metadata": {},
   "outputs": [],
   "source": [
    "#!conda install -c anaconda scipy\n",
    "#import scipy\n",
    "#import scipy.misc\n",
    "#import scipy.cluster"
   ]
  },
  {
   "cell_type": "markdown",
   "metadata": {},
   "source": [
    "# Lesson 03"
   ]
  },
  {
   "cell_type": "markdown",
   "metadata": {},
   "source": [
    "Note: you may have to refresh your browser and/or close and reopen your notebook.  \n",
    "\n",
    "You may have to do this for a few of these installations (e.g. bqplot, cartopy, pyodide, etc)."
   ]
  },
  {
   "cell_type": "code",
   "execution_count": 64,
   "metadata": {},
   "outputs": [],
   "source": [
    "import ipywidgets"
   ]
  },
  {
   "cell_type": "markdown",
   "metadata": {},
   "source": [
    "If the above doesn't work try uncommenting the following:"
   ]
  },
  {
   "cell_type": "code",
   "execution_count": 65,
   "metadata": {},
   "outputs": [],
   "source": [
    "#!conda install -c conda-forge ipywidgets --yes\n",
    "#!jupyter nbextension enable --py widgetsnbextension\n",
    "\n",
    "### Note, you may have to use instead:\n",
    "#!jupyter nbextension enable --py widgetsnbextension --sys-prefix\n",
    "\n",
    "#import ipywidgets"
   ]
  },
  {
   "cell_type": "markdown",
   "metadata": {},
   "source": [
    "Test a widget:"
   ]
  },
  {
   "cell_type": "code",
   "execution_count": 66,
   "metadata": {},
   "outputs": [
    {
     "data": {
      "application/vnd.jupyter.widget-view+json": {
       "model_id": "6a076b69f98141d395aeafd44ad3f2f9",
       "version_major": 2,
       "version_minor": 0
      },
      "text/plain": [
       "IntSlider(value=0)"
      ]
     },
     "metadata": {},
     "output_type": "display_data"
    }
   ],
   "source": [
    "ipywidgets.IntSlider()"
   ]
  },
  {
   "cell_type": "markdown",
   "metadata": {},
   "source": [
    "If the above doesn't give you an interactive slider, you may want to try:"
   ]
  },
  {
   "cell_type": "code",
   "execution_count": 67,
   "metadata": {},
   "outputs": [
    {
     "data": {
      "application/vnd.jupyter.widget-view+json": {
       "model_id": "5abd3c89d80e4889b56c4145061649ff",
       "version_major": 2,
       "version_minor": 0
      },
      "text/plain": [
       "IntSlider(value=0)"
      ]
     },
     "metadata": {},
     "output_type": "display_data"
    }
   ],
   "source": [
    "from IPython.display import display\n",
    "w = ipywidgets.IntSlider()\n",
    "display(w)"
   ]
  },
  {
   "cell_type": "markdown",
   "metadata": {},
   "source": [
    "If it still doesn't work, you may have to install the jupyter notebook extensions by hand by uncommenting the below and then refreshing/restarting your jupyter notebook:"
   ]
  },
  {
   "cell_type": "code",
   "execution_count": 68,
   "metadata": {},
   "outputs": [],
   "source": [
    "#!jupyter nbextension enable --py widgetsnbextension\n",
    "\n",
    "### Note, you may have to use instead:\n",
    "#!jupyter nbextension enable --py widgetsnbextension --sys-prefix"
   ]
  },
  {
   "cell_type": "markdown",
   "metadata": {},
   "source": [
    "Also, try this interactive plot with a selectable dropdown menu."
   ]
  },
  {
   "cell_type": "code",
   "execution_count": 69,
   "metadata": {},
   "outputs": [
    {
     "data": {
      "application/vnd.jupyter.widget-view+json": {
       "model_id": "bd65a9e2fa7045cd9afd5d417adc88cb",
       "version_major": 2,
       "version_minor": 0
      },
      "text/plain": [
       "interactive(children=(Dropdown(description='style', options=('seaborn-dark', 'seaborn-darkgrid', 'seaborn-tick…"
      ]
     },
     "metadata": {},
     "output_type": "display_data"
    }
   ],
   "source": [
    "@ipywidgets.interact(style = plt.style.available)\n",
    "def make_plot(style):\n",
    "    with plt.style.context(style):\n",
    "        plt.plot(x,y)"
   ]
  },
  {
   "cell_type": "code",
   "execution_count": 70,
   "metadata": {},
   "outputs": [],
   "source": [
    "import json # should be already installed"
   ]
  },
  {
   "cell_type": "code",
   "execution_count": 71,
   "metadata": {},
   "outputs": [],
   "source": [
    "import palettable"
   ]
  },
  {
   "cell_type": "markdown",
   "metadata": {},
   "source": [
    "If the above doesn't work you can try uncommenting the below and re-importing:"
   ]
  },
  {
   "cell_type": "code",
   "execution_count": 72,
   "metadata": {},
   "outputs": [],
   "source": [
    "#!conda install -c conda-forge palettable --yes\n",
    "#import palettable"
   ]
  },
  {
   "cell_type": "code",
   "execution_count": 73,
   "metadata": {},
   "outputs": [],
   "source": [
    "from PIL import Image\n",
    "import IPython.display\n",
    "import io\n",
    "from mpl_toolkits.mplot3d import Axes3D\n",
    "import matplotlib.cm\n",
    "import matplotlib.transforms as mpt"
   ]
  },
  {
   "cell_type": "markdown",
   "metadata": {},
   "source": [
    "# Lesson 04"
   ]
  },
  {
   "cell_type": "code",
   "execution_count": 74,
   "metadata": {},
   "outputs": [],
   "source": [
    "import matplotlib.dates as mdates"
   ]
  },
  {
   "cell_type": "code",
   "execution_count": 75,
   "metadata": {},
   "outputs": [],
   "source": [
    "import PIL.ImageFilter as ImageFilter"
   ]
  },
  {
   "cell_type": "code",
   "execution_count": 76,
   "metadata": {},
   "outputs": [],
   "source": [
    "import bqplot"
   ]
  },
  {
   "cell_type": "markdown",
   "metadata": {},
   "source": [
    "If the above doesn't work, try uncommenting below:"
   ]
  },
  {
   "cell_type": "code",
   "execution_count": 77,
   "metadata": {},
   "outputs": [],
   "source": [
    "#!conda install -c conda-forge bqplot --yes\n",
    "import bqplot"
   ]
  },
  {
   "cell_type": "markdown",
   "metadata": {},
   "source": [
    "You may have to do:"
   ]
  },
  {
   "cell_type": "code",
   "execution_count": 78,
   "metadata": {},
   "outputs": [],
   "source": [
    "#!jupyter nbextension enable --py bqplot\n",
    "\n",
    "### or instead\n",
    "#!jupyter nbextension enable --py widgetsnbextension --sys-prefix\n",
    "\n",
    "#import bqplot"
   ]
  },
  {
   "cell_type": "markdown",
   "metadata": {},
   "source": [
    "Note: it is possible you may have to refresh your browser or close and reopen anaconda and jupyter notebook after you install this."
   ]
  },
  {
   "cell_type": "markdown",
   "metadata": {},
   "source": [
    "Try out this interactive plot.  You should be able to pan and zoom.  Don't worry about the code right now, we'll get to it in week 03."
   ]
  },
  {
   "cell_type": "code",
   "execution_count": 79,
   "metadata": {},
   "outputs": [
    {
     "data": {
      "application/vnd.jupyter.widget-view+json": {
       "model_id": "7b2fa97f5ae247a8828c679963c604d6",
       "version_major": 2,
       "version_minor": 0
      },
      "text/plain": [
       "Figure(axes=[Axis(label='x value', scale=LinearScale()), Axis(label='y value', orientation='vertical', scale=L…"
      ]
     },
     "metadata": {},
     "output_type": "display_data"
    }
   ],
   "source": [
    "x = np.arange(100)\n",
    "y = np.random.random(100) + 5\n",
    "\n",
    "x_sc = bqplot.LinearScale()\n",
    "y_sc = bqplot.LinearScale()\n",
    "\n",
    "lines = bqplot.Lines(x = x, y = y, scales = {'x': x_sc, 'y': y_sc})\n",
    "\n",
    "ax_x = bqplot.Axis(scale = x_sc, label = 'x value')\n",
    "ax_y = bqplot.Axis(scale = y_sc, label = 'y value', orientation = 'vertical')\n",
    "\n",
    "pz = bqplot.interacts.PanZoom( scales = {'x': [x_sc], 'y': [y_sc]} )\n",
    "bqplot.Figure(marks = [lines], axes = [ax_x, ax_y], interaction = pz)"
   ]
  },
  {
   "cell_type": "markdown",
   "metadata": {},
   "source": [
    "Note, if the above doesn't work you can try replacing:\n",
    "\n",
    "```python\n",
    "bqplot.Figure(marks = [lines], axes = [ax_x, ax_y], interaction = pz)\n",
    "```\n",
    "\n",
    "with\n",
    "\n",
    "```python\n",
    "display(bqplot.Figure(marks = [lines], axes = [ax_x, ax_y], interaction = pz))\n",
    "```"
   ]
  },
  {
   "cell_type": "markdown",
   "metadata": {},
   "source": [
    "# Lesson 05"
   ]
  },
  {
   "cell_type": "markdown",
   "metadata": {},
   "source": [
    "While not strictly the importing of libraries see if you get any weird errors when you run:"
   ]
  },
  {
   "cell_type": "code",
   "execution_count": 91,
   "metadata": {},
   "outputs": [],
   "source": [
    "%matplotlib inline  \n",
    "#%matplotlib notebook\n",
    "#%pylab"
   ]
  },
  {
   "cell_type": "code",
   "execution_count": 92,
   "metadata": {},
   "outputs": [],
   "source": [
    "import PIL.ImageFilter as ImageFilter"
   ]
  },
  {
   "cell_type": "code",
   "execution_count": 93,
   "metadata": {},
   "outputs": [],
   "source": [
    "import h5py"
   ]
  },
  {
   "cell_type": "markdown",
   "metadata": {},
   "source": [
    "If the above doesn't work try uncommenting:"
   ]
  },
  {
   "cell_type": "code",
   "execution_count": 94,
   "metadata": {},
   "outputs": [],
   "source": [
    "#!conda install -c anaconda h5py --yes\n",
    "#import h5py"
   ]
  },
  {
   "cell_type": "code",
   "execution_count": 95,
   "metadata": {},
   "outputs": [],
   "source": [
    "import matplotlib.colors as colors"
   ]
  },
  {
   "cell_type": "markdown",
   "metadata": {},
   "source": [
    "# Lesson 06"
   ]
  },
  {
   "cell_type": "code",
   "execution_count": 96,
   "metadata": {},
   "outputs": [],
   "source": [
    "import bqplot.market_map"
   ]
  },
  {
   "cell_type": "code",
   "execution_count": 97,
   "metadata": {},
   "outputs": [],
   "source": [
    "import traitlets"
   ]
  },
  {
   "cell_type": "markdown",
   "metadata": {},
   "source": [
    "# Lesson 07"
   ]
  },
  {
   "cell_type": "code",
   "execution_count": 98,
   "metadata": {},
   "outputs": [],
   "source": [
    "import requests"
   ]
  },
  {
   "cell_type": "markdown",
   "metadata": {},
   "source": [
    "If the above doesn't work, you can try uncommenting the following:"
   ]
  },
  {
   "cell_type": "code",
   "execution_count": 99,
   "metadata": {},
   "outputs": [],
   "source": [
    "#!conda install -c anaconda requests --yes"
   ]
  },
  {
   "cell_type": "code",
   "execution_count": 100,
   "metadata": {},
   "outputs": [],
   "source": [
    "import geopandas"
   ]
  },
  {
   "cell_type": "code",
   "execution_count": 101,
   "metadata": {},
   "outputs": [
    {
     "data": {
      "text/plain": [
       "<matplotlib.axes._subplots.AxesSubplot at 0x7f96b0f53c50>"
      ]
     },
     "execution_count": 101,
     "metadata": {},
     "output_type": "execute_result"
    },
    {
     "data": {
      "image/png": "[encoded data removed]",
      "text/plain": [
       "<Figure size 432x288 with 1 Axes>"
      ]
     },
     "metadata": {
      "needs_background": "light"
     },
     "output_type": "display_data"
    }
   ],
   "source": [
    "gdf = geopandas.read_file('https://opendata.arcgis.com/datasets/1f75636917604299861fb408bbf79378_1.geojson')\n",
    "gdf.plot()"
   ]
  },
  {
   "cell_type": "markdown",
   "metadata": {},
   "source": [
    "If the above doesn't work, you can try uncommenting the following:"
   ]
  },
  {
   "cell_type": "code",
   "execution_count": 4,
   "metadata": {},
   "outputs": [],
   "source": [
    "#!conda install -c conda-forge geopandas --yes"
   ]
  },
  {
   "cell_type": "markdown",
   "metadata": {},
   "source": [
    "# Lesson 09"
   ]
  },
  {
   "cell_type": "code",
   "execution_count": 47,
   "metadata": {},
   "outputs": [],
   "source": [
    "import bqplot.market_map "
   ]
  },
  {
   "cell_type": "code",
   "execution_count": 48,
   "metadata": {},
   "outputs": [],
   "source": [
    "from webcolors import rgb_to_hex"
   ]
  },
  {
   "cell_type": "markdown",
   "metadata": {},
   "source": [
    "If the above doesn't work you can try uncommenting the following:"
   ]
  },
  {
   "cell_type": "code",
   "execution_count": 49,
   "metadata": {},
   "outputs": [],
   "source": [
    "#!conda install -c conda-forge webcolors --yes\n",
    "#from webcolors import rgb_to_hex"
   ]
  },
  {
   "cell_type": "code",
   "execution_count": 50,
   "metadata": {},
   "outputs": [],
   "source": [
    "import ipyleaflet"
   ]
  },
  {
   "cell_type": "markdown",
   "metadata": {},
   "source": [
    "If the above doesn't work, try uncommenting the following:"
   ]
  },
  {
   "cell_type": "code",
   "execution_count": 51,
   "metadata": {},
   "outputs": [],
   "source": [
    "#!conda install -c conda-forge ipyleaflet --yes\n",
    "#import ipyleaflet"
   ]
  },
  {
   "cell_type": "markdown",
   "metadata": {},
   "source": [
    "Try out the following (which may take some time to run):"
   ]
  },
  {
   "cell_type": "code",
   "execution_count": 52,
   "metadata": {},
   "outputs": [],
   "source": [
    "import pandas as pd\n",
    "#!pip install xlrd # JPN\n",
    "df = pd.read_excel('https://query.data.world/s/ivl45pdpubos6jpsii3djsjwm2pcjv', skiprows=5)"
   ]
  },
  {
   "cell_type": "markdown",
   "metadata": {},
   "source": [
    "If it doesn't work, you can try uncommenting:"
   ]
  },
  {
   "cell_type": "code",
   "execution_count": 53,
   "metadata": {},
   "outputs": [],
   "source": [
    "#!conda install -c anaconda xlrd --yes\n",
    "#df = pd.read_excel('https://query.data.world/s/ivl45pdpubos6jpsii3djsjwm2pcjv', skiprows=5)"
   ]
  },
  {
   "cell_type": "code",
   "execution_count": 54,
   "metadata": {},
   "outputs": [
    {
     "data": {
      "text/html": [
       "<div>\n",
       "<style scoped>\n",
       "    .dataframe tbody tr th:only-of-type {\n",
       "        vertical-align: middle;\n",
       "    }\n",
       "\n",
       "    .dataframe tbody tr th {\n",
       "        vertical-align: top;\n",
       "    }\n",
       "\n",
       "    .dataframe thead th {\n",
       "        text-align: right;\n",
       "    }\n",
       "</style>\n",
       "<table border=\"1\" class=\"dataframe\">\n",
       "  <thead>\n",
       "    <tr style=\"text-align: right;\">\n",
       "      <th></th>\n",
       "      <th>DRG Definition</th>\n",
       "      <th>Provider Id</th>\n",
       "      <th>Provider Name</th>\n",
       "      <th>Provider Street Address</th>\n",
       "      <th>Provider City</th>\n",
       "      <th>Provider State</th>\n",
       "      <th>Provider Zip Code</th>\n",
       "      <th>Hospital Referral Region (HRR) Description</th>\n",
       "      <th>Total Discharges</th>\n",
       "      <th>Average Covered Charges</th>\n",
       "      <th>Average Total Payments</th>\n",
       "      <th>Average Medicare Payments</th>\n",
       "    </tr>\n",
       "  </thead>\n",
       "  <tbody>\n",
       "    <tr>\n",
       "      <th>0</th>\n",
       "      <td>001 - HEART TRANSPLANT OR IMPLANT OF HEART ASS...</td>\n",
       "      <td>10033</td>\n",
       "      <td>UNIVERSITY OF ALABAMA HOSPITAL</td>\n",
       "      <td>619 SOUTH 19TH STREET</td>\n",
       "      <td>BIRMINGHAM</td>\n",
       "      <td>AL</td>\n",
       "      <td>35233</td>\n",
       "      <td>AL - Birmingham</td>\n",
       "      <td>13</td>\n",
       "      <td>1.172866e+06</td>\n",
       "      <td>251876.307692</td>\n",
       "      <td>244457.923077</td>\n",
       "    </tr>\n",
       "    <tr>\n",
       "      <th>1</th>\n",
       "      <td>001 - HEART TRANSPLANT OR IMPLANT OF HEART ASS...</td>\n",
       "      <td>30103</td>\n",
       "      <td>MAYO CLINIC HOSPITAL</td>\n",
       "      <td>5777 EAST MAYO BOULEVARD</td>\n",
       "      <td>PHOENIX</td>\n",
       "      <td>AZ</td>\n",
       "      <td>85054</td>\n",
       "      <td>AZ - Phoenix</td>\n",
       "      <td>20</td>\n",
       "      <td>4.375313e+05</td>\n",
       "      <td>240422.800000</td>\n",
       "      <td>133509.550000</td>\n",
       "    </tr>\n",
       "    <tr>\n",
       "      <th>2</th>\n",
       "      <td>001 - HEART TRANSPLANT OR IMPLANT OF HEART ASS...</td>\n",
       "      <td>50108</td>\n",
       "      <td>SUTTER GENERAL HOSPITAL</td>\n",
       "      <td>2801 L STREET</td>\n",
       "      <td>SACRAMENTO</td>\n",
       "      <td>CA</td>\n",
       "      <td>95816</td>\n",
       "      <td>CA - Sacramento</td>\n",
       "      <td>25</td>\n",
       "      <td>8.156741e+05</td>\n",
       "      <td>233197.480000</td>\n",
       "      <td>221681.800000</td>\n",
       "    </tr>\n",
       "    <tr>\n",
       "      <th>3</th>\n",
       "      <td>001 - HEART TRANSPLANT OR IMPLANT OF HEART ASS...</td>\n",
       "      <td>50262</td>\n",
       "      <td>RONALD REAGAN U C L A MEDICAL CENTER</td>\n",
       "      <td>757 WESTWOOD PLAZA</td>\n",
       "      <td>LOS ANGELES</td>\n",
       "      <td>CA</td>\n",
       "      <td>90095</td>\n",
       "      <td>CA - Los Angeles</td>\n",
       "      <td>14</td>\n",
       "      <td>1.499044e+06</td>\n",
       "      <td>415968.785714</td>\n",
       "      <td>366608.928571</td>\n",
       "    </tr>\n",
       "    <tr>\n",
       "      <th>4</th>\n",
       "      <td>001 - HEART TRANSPLANT OR IMPLANT OF HEART ASS...</td>\n",
       "      <td>50441</td>\n",
       "      <td>STANFORD HOSPITAL</td>\n",
       "      <td>300 PASTEUR DRIVE</td>\n",
       "      <td>STANFORD</td>\n",
       "      <td>CA</td>\n",
       "      <td>94305</td>\n",
       "      <td>CA - San Mateo County</td>\n",
       "      <td>23</td>\n",
       "      <td>2.238699e+06</td>\n",
       "      <td>420865.478261</td>\n",
       "      <td>403453.652174</td>\n",
       "    </tr>\n",
       "    <tr>\n",
       "      <th>...</th>\n",
       "      <td>...</td>\n",
       "      <td>...</td>\n",
       "      <td>...</td>\n",
       "      <td>...</td>\n",
       "      <td>...</td>\n",
       "      <td>...</td>\n",
       "      <td>...</td>\n",
       "      <td>...</td>\n",
       "      <td>...</td>\n",
       "      <td>...</td>\n",
       "      <td>...</td>\n",
       "      <td>...</td>\n",
       "    </tr>\n",
       "    <tr>\n",
       "      <th>202651</th>\n",
       "      <td>988 - NON-EXTENSIVE O.R. PROC UNRELATED TO PRI...</td>\n",
       "      <td>520098</td>\n",
       "      <td>UNIVERSITY OF WI  HOSPITALS &amp; CLINICS AUTHORITY</td>\n",
       "      <td>600 HIGHLAND AVENUE</td>\n",
       "      <td>MADISON</td>\n",
       "      <td>WI</td>\n",
       "      <td>53792</td>\n",
       "      <td>WI - Madison</td>\n",
       "      <td>15</td>\n",
       "      <td>3.058027e+04</td>\n",
       "      <td>16574.533333</td>\n",
       "      <td>12450.466667</td>\n",
       "    </tr>\n",
       "    <tr>\n",
       "      <th>202652</th>\n",
       "      <td>988 - NON-EXTENSIVE O.R. PROC UNRELATED TO PRI...</td>\n",
       "      <td>520138</td>\n",
       "      <td>AURORA ST LUKES MEDICAL CENTER</td>\n",
       "      <td>2900 W OKLAHOMA AVE</td>\n",
       "      <td>MILWAUKEE</td>\n",
       "      <td>WI</td>\n",
       "      <td>53215</td>\n",
       "      <td>WI - Milwaukee</td>\n",
       "      <td>13</td>\n",
       "      <td>6.320408e+04</td>\n",
       "      <td>13649.846154</td>\n",
       "      <td>11114.615385</td>\n",
       "    </tr>\n",
       "    <tr>\n",
       "      <th>202653</th>\n",
       "      <td>989 - NON-EXTENSIVE O.R. PROC UNRELATED TO PRI...</td>\n",
       "      <td>170104</td>\n",
       "      <td>SHAWNEE MISSION MEDICAL CENTER</td>\n",
       "      <td>9100 W 74TH STREET</td>\n",
       "      <td>SHAWNEE MISSION</td>\n",
       "      <td>KS</td>\n",
       "      <td>66204</td>\n",
       "      <td>MO - Kansas City</td>\n",
       "      <td>13</td>\n",
       "      <td>2.636138e+04</td>\n",
       "      <td>6237.461538</td>\n",
       "      <td>5023.846154</td>\n",
       "    </tr>\n",
       "    <tr>\n",
       "      <th>202654</th>\n",
       "      <td>989 - NON-EXTENSIVE O.R. PROC UNRELATED TO PRI...</td>\n",
       "      <td>180088</td>\n",
       "      <td>NORTON HOSPITAL/NORTON MEDICAL PAVILIONS/KOSAI...</td>\n",
       "      <td>200 EAST CHESTNUT STREET</td>\n",
       "      <td>LOUISVILLE</td>\n",
       "      <td>KY</td>\n",
       "      <td>40202</td>\n",
       "      <td>KY - Louisville</td>\n",
       "      <td>13</td>\n",
       "      <td>2.433500e+04</td>\n",
       "      <td>7850.307692</td>\n",
       "      <td>6594.846154</td>\n",
       "    </tr>\n",
       "    <tr>\n",
       "      <th>202655</th>\n",
       "      <td>989 - NON-EXTENSIVE O.R. PROC UNRELATED TO PRI...</td>\n",
       "      <td>330101</td>\n",
       "      <td>NEW YORK-PRESBYTERIAN HOSPITAL</td>\n",
       "      <td>525 EAST 68TH STREET</td>\n",
       "      <td>NEW YORK</td>\n",
       "      <td>NY</td>\n",
       "      <td>10021</td>\n",
       "      <td>NY - Manhattan</td>\n",
       "      <td>13</td>\n",
       "      <td>3.483262e+04</td>\n",
       "      <td>12361.615385</td>\n",
       "      <td>10554.923077</td>\n",
       "    </tr>\n",
       "  </tbody>\n",
       "</table>\n",
       "<p>202656 rows × 12 columns</p>\n",
       "</div>"
      ],
      "text/plain": [
       "                                           DRG Definition  Provider Id  \\\n",
       "0       001 - HEART TRANSPLANT OR IMPLANT OF HEART ASS...        10033   \n",
       "1       001 - HEART TRANSPLANT OR IMPLANT OF HEART ASS...        30103   \n",
       "2       001 - HEART TRANSPLANT OR IMPLANT OF HEART ASS...        50108   \n",
       "3       001 - HEART TRANSPLANT OR IMPLANT OF HEART ASS...        50262   \n",
       "4       001 - HEART TRANSPLANT OR IMPLANT OF HEART ASS...        50441   \n",
       "...                                                   ...          ...   \n",
       "202651  988 - NON-EXTENSIVE O.R. PROC UNRELATED TO PRI...       520098   \n",
       "202652  988 - NON-EXTENSIVE O.R. PROC UNRELATED TO PRI...       520138   \n",
       "202653  989 - NON-EXTENSIVE O.R. PROC UNRELATED TO PRI...       170104   \n",
       "202654  989 - NON-EXTENSIVE O.R. PROC UNRELATED TO PRI...       180088   \n",
       "202655  989 - NON-EXTENSIVE O.R. PROC UNRELATED TO PRI...       330101   \n",
       "\n",
       "                                            Provider Name  \\\n",
       "0                          UNIVERSITY OF ALABAMA HOSPITAL   \n",
       "1                                    MAYO CLINIC HOSPITAL   \n",
       "2                                 SUTTER GENERAL HOSPITAL   \n",
       "3                    RONALD REAGAN U C L A MEDICAL CENTER   \n",
       "4                                       STANFORD HOSPITAL   \n",
       "...                                                   ...   \n",
       "202651    UNIVERSITY OF WI  HOSPITALS & CLINICS AUTHORITY   \n",
       "202652                     AURORA ST LUKES MEDICAL CENTER   \n",
       "202653                     SHAWNEE MISSION MEDICAL CENTER   \n",
       "202654  NORTON HOSPITAL/NORTON MEDICAL PAVILIONS/KOSAI...   \n",
       "202655                     NEW YORK-PRESBYTERIAN HOSPITAL   \n",
       "\n",
       "         Provider Street Address    Provider City Provider State  \\\n",
       "0          619 SOUTH 19TH STREET       BIRMINGHAM             AL   \n",
       "1       5777 EAST MAYO BOULEVARD          PHOENIX             AZ   \n",
       "2                  2801 L STREET       SACRAMENTO             CA   \n",
       "3             757 WESTWOOD PLAZA      LOS ANGELES             CA   \n",
       "4              300 PASTEUR DRIVE         STANFORD             CA   \n",
       "...                          ...              ...            ...   \n",
       "202651       600 HIGHLAND AVENUE          MADISON             WI   \n",
       "202652       2900 W OKLAHOMA AVE        MILWAUKEE             WI   \n",
       "202653        9100 W 74TH STREET  SHAWNEE MISSION             KS   \n",
       "202654  200 EAST CHESTNUT STREET       LOUISVILLE             KY   \n",
       "202655      525 EAST 68TH STREET         NEW YORK             NY   \n",
       "\n",
       "        Provider Zip Code Hospital Referral Region (HRR) Description  \\\n",
       "0                   35233                            AL - Birmingham   \n",
       "1                   85054                               AZ - Phoenix   \n",
       "2                   95816                            CA - Sacramento   \n",
       "3                   90095                           CA - Los Angeles   \n",
       "4                   94305                      CA - San Mateo County   \n",
       "...                   ...                                        ...   \n",
       "202651              53792                               WI - Madison   \n",
       "202652              53215                             WI - Milwaukee   \n",
       "202653              66204                           MO - Kansas City   \n",
       "202654              40202                            KY - Louisville   \n",
       "202655              10021                             NY - Manhattan   \n",
       "\n",
       "        Total Discharges  Average Covered Charges  Average Total Payments  \\\n",
       "0                     13             1.172866e+06           251876.307692   \n",
       "1                     20             4.375313e+05           240422.800000   \n",
       "2                     25             8.156741e+05           233197.480000   \n",
       "3                     14             1.499044e+06           415968.785714   \n",
       "4                     23             2.238699e+06           420865.478261   \n",
       "...                  ...                      ...                     ...   \n",
       "202651                15             3.058027e+04            16574.533333   \n",
       "202652                13             6.320408e+04            13649.846154   \n",
       "202653                13             2.636138e+04             6237.461538   \n",
       "202654                13             2.433500e+04             7850.307692   \n",
       "202655                13             3.483262e+04            12361.615385   \n",
       "\n",
       "        Average Medicare Payments  \n",
       "0                   244457.923077  \n",
       "1                   133509.550000  \n",
       "2                   221681.800000  \n",
       "3                   366608.928571  \n",
       "4                   403453.652174  \n",
       "...                           ...  \n",
       "202651               12450.466667  \n",
       "202652               11114.615385  \n",
       "202653                5023.846154  \n",
       "202654                6594.846154  \n",
       "202655               10554.923077  \n",
       "\n",
       "[202656 rows x 12 columns]"
      ]
     },
     "execution_count": 54,
     "metadata": {},
     "output_type": "execute_result"
    }
   ],
   "source": [
    "df"
   ]
  },
  {
   "cell_type": "code",
   "execution_count": 55,
   "metadata": {},
   "outputs": [],
   "source": [
    "import yt"
   ]
  },
  {
   "cell_type": "markdown",
   "metadata": {},
   "source": [
    "If the above doesn't work try uncommenting:"
   ]
  },
  {
   "cell_type": "code",
   "execution_count": 56,
   "metadata": {},
   "outputs": [],
   "source": [
    "#!conda install -c conda-forge yt --yes\n",
    "#import yt"
   ]
  },
  {
   "cell_type": "markdown",
   "metadata": {},
   "source": [
    "More info here: http://www2.compute.dtu.dk/projects/GEL/PyGEL/"
   ]
  },
  {
   "cell_type": "code",
   "execution_count": 57,
   "metadata": {},
   "outputs": [],
   "source": [
    "from PyGEL3D import gel\n",
    "from PyGEL3D import js"
   ]
  },
  {
   "cell_type": "markdown",
   "metadata": {},
   "source": [
    "You will probably have to pip install:"
   ]
  },
  {
   "cell_type": "code",
   "execution_count": 58,
   "metadata": {},
   "outputs": [],
   "source": [
    "#!pip install PyGEL3D\n",
    "#from PyGEL3D import gel\n",
    "#from PyGEL3D import js"
   ]
  },
  {
   "cell_type": "code",
   "execution_count": 59,
   "metadata": {},
   "outputs": [],
   "source": [
    "import ipyvolume"
   ]
  },
  {
   "cell_type": "markdown",
   "metadata": {},
   "source": [
    "You will probably have to install this:"
   ]
  },
  {
   "cell_type": "code",
   "execution_count": null,
   "metadata": {},
   "outputs": [],
   "source": [
    "#!conda install -c conda-forge ipyvolume --yes\n",
    "#import ipyvolume"
   ]
  },
  {
   "cell_type": "markdown",
   "metadata": {},
   "source": [
    "If that doesn't work you can try:"
   ]
  },
  {
   "cell_type": "code",
   "execution_count": 108,
   "metadata": {},
   "outputs": [],
   "source": [
    "#!pip install ipyvolume"
   ]
  },
  {
   "cell_type": "markdown",
   "metadata": {},
   "source": [
    "You may have to uncomment the following:"
   ]
  },
  {
   "cell_type": "code",
   "execution_count": 107,
   "metadata": {},
   "outputs": [],
   "source": [
    "#!jupyter nbextension enable --py --sys-prefix ipyvolume\n",
    "#!jupyter nbextension enable --py --sys-prefix widgetsnbextension"
   ]
  },
  {
   "cell_type": "markdown",
   "metadata": {},
   "source": [
    "# A few other things we may or may not get to:"
   ]
  },
  {
   "cell_type": "markdown",
   "metadata": {},
   "source": [
    "For word clouds, uncomment the following:\n",
    "\n",
    "For making simple wordcloud pictures uncomment:"
   ]
  },
  {
   "cell_type": "code",
   "execution_count": 102,
   "metadata": {},
   "outputs": [],
   "source": [
    "#!conda install -c conda-forge wordcloud --yes"
   ]
  },
  {
   "cell_type": "code",
   "execution_count": 103,
   "metadata": {},
   "outputs": [],
   "source": [
    "from wordcloud import WordCloud, STOPWORDS, ImageColorGenerator"
   ]
  },
  {
   "cell_type": "markdown",
   "metadata": {},
   "source": [
    "For some natural language processing tools in Python, uncomment:"
   ]
  },
  {
   "cell_type": "code",
   "execution_count": 104,
   "metadata": {},
   "outputs": [],
   "source": [
    "#!conda install -c anaconda nltk --yes"
   ]
  },
  {
   "cell_type": "code",
   "execution_count": 105,
   "metadata": {},
   "outputs": [],
   "source": [
    "from nltk.corpus import stopwords, words"
   ]
  },
  {
   "cell_type": "markdown",
   "metadata": {},
   "source": [
    "The above may give you some errors telling you to download a few more things, and if so you can try uncommenting the following:"
   ]
  },
  {
   "cell_type": "code",
   "execution_count": 106,
   "metadata": {},
   "outputs": [],
   "source": [
    "#nltk.download('stopwords')\n",
    "#nltk.download('punkt')\n",
    "#nltk.download('words')"
   ]
  },
  {
   "cell_type": "code",
   "execution_count": null,
   "metadata": {},
   "outputs": [],
   "source": []
  }
 ],
 "metadata": {
  "kernelspec": {
   "display_name": "Python 3",
   "language": "python",
   "name": "python3"
  },
  "language_info": {
   "codemirror_mode": {
    "name": "ipython",
    "version": 3
   },
   "file_extension": ".py",
   "mimetype": "text/x-python",
   "name": "python",
   "nbconvert_exporter": "python",
   "pygments_lexer": "ipython3",
   "version": "3.7.7"
  }
 },
 "nbformat": 4,
 "nbformat_minor": 2
}
