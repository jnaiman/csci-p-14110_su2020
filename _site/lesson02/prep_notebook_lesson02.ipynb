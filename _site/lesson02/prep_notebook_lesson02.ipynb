{
 "cells": [
  {
   "cell_type": "markdown",
   "metadata": {},
   "source": [
    "# Day 2"
   ]
  },
  {
   "cell_type": "markdown",
   "metadata": {},
   "source": [
    "### Topics\n",
    "\n",
    "1. Bit of a review\n",
    "1. For-loops\n",
    "1. If-then statements\n",
    "1. Examples using `matplotlib`"
   ]
  },
  {
   "cell_type": "markdown",
   "metadata": {},
   "source": [
    "## Bit of a review\n",
    "\n",
    "This is markdown!  There are cool things we can do here!\n",
    "* here I am making a list\n",
    "* **in bold!**"
   ]
  },
  {
   "cell_type": "markdown",
   "metadata": {},
   "source": [
    "We also talked a bit about variables as well and their types:"
   ]
  },
  {
   "cell_type": "code",
   "execution_count": 1,
   "metadata": {},
   "outputs": [],
   "source": [
    "variable1 = 1\n",
    "variable2 = 3\n",
    "\n",
    "variable_sum = variable1+variable2"
   ]
  },
  {
   "cell_type": "code",
   "execution_count": 2,
   "metadata": {},
   "outputs": [
    {
     "name": "stdout",
     "output_type": "stream",
     "text": [
      "4\n"
     ]
    }
   ],
   "source": [
    "print(variable_sum)"
   ]
  },
  {
   "cell_type": "code",
   "execution_count": 3,
   "metadata": {},
   "outputs": [
    {
     "name": "stdout",
     "output_type": "stream",
     "text": [
      "<class 'int'>\n"
     ]
    }
   ],
   "source": [
    "print(type(variable_sum))"
   ]
  },
  {
   "cell_type": "markdown",
   "metadata": {},
   "source": [
    "We also played around with strings:"
   ]
  },
  {
   "cell_type": "code",
   "execution_count": 4,
   "metadata": {},
   "outputs": [],
   "source": [
    "myString = \"hey I'm a string!\""
   ]
  },
  {
   "cell_type": "markdown",
   "metadata": {},
   "source": [
    "We also talked a bit about how to \"slice them\" by indexing and that indexing starts at 0:"
   ]
  },
  {
   "cell_type": "code",
   "execution_count": 6,
   "metadata": {},
   "outputs": [
    {
     "name": "stdout",
     "output_type": "stream",
     "text": [
      "hey I\n"
     ]
    }
   ],
   "source": [
    "print(myString[0:5])"
   ]
  },
  {
   "cell_type": "markdown",
   "metadata": {},
   "source": [
    "We also talked a bit about two ways to store lists of things, the first being lists which are native to Python:"
   ]
  },
  {
   "cell_type": "code",
   "execution_count": 8,
   "metadata": {},
   "outputs": [
    {
     "name": "stdout",
     "output_type": "stream",
     "text": [
      "[5, 6, 'boop!']\n"
     ]
    }
   ],
   "source": [
    "myList = [5, 6, 'boop!']\n",
    "print(myList)"
   ]
  },
  {
   "cell_type": "markdown",
   "metadata": {},
   "source": [
    "And also NumPy arrays, which we can use if we import a separate library:"
   ]
  },
  {
   "cell_type": "code",
   "execution_count": 9,
   "metadata": {},
   "outputs": [],
   "source": [
    "import numpy as np"
   ]
  },
  {
   "cell_type": "code",
   "execution_count": 10,
   "metadata": {},
   "outputs": [
    {
     "name": "stdout",
     "output_type": "stream",
     "text": [
      "[5.  6.7 8. ]\n"
     ]
    }
   ],
   "source": [
    "myArray = np.array([5,6.7, 8])\n",
    "print(myArray)"
   ]
  },
  {
   "cell_type": "markdown",
   "metadata": {},
   "source": [
    "Which allows us to do mathy-type things like add 5 to all elements:"
   ]
  },
  {
   "cell_type": "code",
   "execution_count": 11,
   "metadata": {},
   "outputs": [
    {
     "name": "stdout",
     "output_type": "stream",
     "text": [
      "[10.  11.7 13. ]\n"
     ]
    }
   ],
   "source": [
    "print(myArray+5)"
   ]
  },
  {
   "cell_type": "markdown",
   "metadata": {},
   "source": [
    "## BACK TO SLIDES FOR SOME INFO ABOUT for-loops & if-then statements!\n",
    "\n",
    "## For-loops\n",
    "\n",
    "For reference: [Loop lecture, IS452](https://github.com/elliewix/IS-452-Spring2020/blob/master/Lectures/Week-02-ExpressionsAndLoops.ipynb)\n",
    "\n",
    "We are about to repeat stuff!  Programming making things more efficient!  Woo!"
   ]
  },
  {
   "cell_type": "markdown",
   "metadata": {},
   "source": [
    "While there is a single syntax rule for for loop, there are many types. We're going to start off with the three core patterns. We'll learn more patterns as we move forward, but all of those are tweaks or expansions off of one of these three core patterns.\n",
    "\n",
    "There are three kinds of loops:\n",
    "\n",
    "1. unpack some sequence of content and loop over those elements one at a time\n",
    "   * your input is the sequence, python will unpack it for you\n",
    "1. repeat a task some arbitrary number of times\n",
    "   * your input is the number of times\n",
    "1. loop over something for the purposes of looking up another thing\n",
    "   * this one is strange, where you provide the sequence of items that represent the lookup key for another item. These keys may be just numbers counting up, or they may be other kinds of content in a sequence (such as letters or words).\n",
    "   \n",
    "There three uses will have a very similar syntax and can be difficult to tell the difference between. For the sake of names, let's call them:\n",
    "\n",
    "1. an unpacking loop\n",
    "1. a range loop\n",
    "1. a reference loop\n",
    "\n",
    "We're going to explore and reinforce our understanding of data types and other stuff as we play with loops.\n",
    "\n",
    "Sometimes you'll need to mix and match these. For example, the reference loop will often start off life as a range loop.\n",
    "\n",
    "### Unpacking loop\n",
    "\n",
    "Let's start unpacking a string \"by hand\":"
   ]
  },
  {
   "cell_type": "code",
   "execution_count": 12,
   "metadata": {},
   "outputs": [],
   "source": [
    "myString = 'word' # define"
   ]
  },
  {
   "cell_type": "markdown",
   "metadata": {},
   "source": [
    "Print out each letter of this word:"
   ]
  },
  {
   "cell_type": "code",
   "execution_count": 13,
   "metadata": {},
   "outputs": [
    {
     "name": "stdout",
     "output_type": "stream",
     "text": [
      "w\n",
      "o\n",
      "r\n",
      "d\n"
     ]
    }
   ],
   "source": [
    "print(myString[0])\n",
    "print(myString[1])\n",
    "print(myString[2])\n",
    "print(myString[3])"
   ]
  },
  {
   "cell_type": "markdown",
   "metadata": {},
   "source": [
    "**Q:** What are some issues we can see with doing things this way? "
   ]
  },
  {
   "cell_type": "markdown",
   "metadata": {},
   "source": [
    "Let's do this whole thing with a for-loop: I'm just going to write the cell, run it and then we'll talk about it:"
   ]
  },
  {
   "cell_type": "code",
   "execution_count": 14,
   "metadata": {},
   "outputs": [
    {
     "name": "stdout",
     "output_type": "stream",
     "text": [
      "w\n",
      "o\n",
      "r\n",
      "d\n"
     ]
    }
   ],
   "source": [
    "for letter in myString:\n",
    "    print(letter)"
   ]
  },
  {
   "cell_type": "markdown",
   "metadata": {},
   "source": [
    "We can see that there are some bold words in there, some of our special words: `for` and `in` and Jupyter notebook is trying to help us get that these are special words by making them bold+green.\n",
    "\n",
    "Let's look at the *syntax* (i.e. grammar/spelling) of what we are doing in this for-loop:"
   ]
  },
  {
   "cell_type": "markdown",
   "metadata": {},
   "source": [
    "#### Core syntax reference\n",
    "What does this for loop look like?\n",
    "\n",
    "```python\n",
    "for iterable_variable in sequence:\n",
    "    do this stuff\n",
    "```\n",
    "\n",
    "This will loop over the sequence you provide, unpacking each value into the `iterable_variable`. This variable will hold an individual value, one at a time, for each loop through.\n",
    "\n",
    "Let's give names to all of these things:\n",
    "\n",
    " * declared and opened with a `for` keyword\n",
    " * a sequence that is being iterated over\n",
    " * an iterable variable to hold the variable contents of the sequence during each loop\n",
    " * white space (the tab) that defines where the executable code lives\n",
    " * the code to be executed each loop\n",
    " \n",
    "Some important notes:\n",
    "\n",
    " * the iterable variable name can be literally any valid variable name and does not need to be declared previously\n",
    " * the colon at the end of the for line block is required and indicates that the declaration line is done\n",
    " * the in keyword separates the iterable variable name from the sequence\n",
    " * this case has the sequence literal in the declaration line, but could also be a variable"
   ]
  },
  {
   "cell_type": "markdown",
   "metadata": {},
   "source": [
    "Let's take a moment to pause and look at this iterable variable more closely - note that I didn't define it anywhere but in the loop!  It can in fact be called anything we'd like, for example:"
   ]
  },
  {
   "cell_type": "code",
   "execution_count": 16,
   "metadata": {},
   "outputs": [
    {
     "name": "stdout",
     "output_type": "stream",
     "text": [
      "w\n",
      "o\n",
      "r\n",
      "d\n"
     ]
    }
   ],
   "source": [
    "for WHATEVER in myString:\n",
    "    print(WHATEVER)"
   ]
  },
  {
   "cell_type": "markdown",
   "metadata": {},
   "source": [
    "But note that after the loop the variable now exists and we can use it!"
   ]
  },
  {
   "cell_type": "code",
   "execution_count": 17,
   "metadata": {},
   "outputs": [
    {
     "name": "stdout",
     "output_type": "stream",
     "text": [
      "d\n"
     ]
    }
   ],
   "source": [
    "print(WHATEVER)"
   ]
  },
  {
   "cell_type": "markdown",
   "metadata": {},
   "source": [
    "The ways we usually make mistakes with for-loops are (**SHOW**):\n",
    " * indenting errors \n",
    " * forgetting a colon\n",
    " * replacing the variable we are iterating over with something that can't be iterated over (try this with 1 vs [1])"
   ]
  },
  {
   "cell_type": "markdown",
   "metadata": {},
   "source": [
    "What can we loop over?  We'll we just did strings, but we can also do lists:"
   ]
  },
  {
   "cell_type": "code",
   "execution_count": 18,
   "metadata": {},
   "outputs": [
    {
     "name": "stdout",
     "output_type": "stream",
     "text": [
      "5\n",
      "6.6\n",
      "bob\n"
     ]
    }
   ],
   "source": [
    "myList = [5, 6.6, 'bob']\n",
    "for element in myList:\n",
    "    print(element)"
   ]
  },
  {
   "cell_type": "markdown",
   "metadata": {},
   "source": [
    "We can even do nested for loops!"
   ]
  },
  {
   "cell_type": "code",
   "execution_count": 26,
   "metadata": {},
   "outputs": [
    {
     "name": "stdout",
     "output_type": "stream",
     "text": [
      "b\n",
      "o\n",
      "b\n",
      "l\n",
      "i\n",
      "n\n",
      "d\n",
      "a\n",
      "t\n",
      "i\n",
      "n\n",
      "a\n",
      "l\n",
      "o\n",
      "u\n",
      "i\n",
      "s\n",
      "e\n"
     ]
    }
   ],
   "source": [
    "myListOfStrings = ['bob', 'linda', 'tina', 'louise']\n",
    "for string in myListOfStrings:\n",
    "    #print(string) # a good first step for any new loop\n",
    "    for letter in string:\n",
    "        print(letter)"
   ]
  },
  {
   "cell_type": "markdown",
   "metadata": {},
   "source": [
    "What else?  What if we just want to count something?  Let's try that:"
   ]
  },
  {
   "cell_type": "code",
   "execution_count": 19,
   "metadata": {},
   "outputs": [
    {
     "name": "stdout",
     "output_type": "stream",
     "text": [
      "0\n",
      "1\n",
      "2\n",
      "3\n",
      "4\n"
     ]
    }
   ],
   "source": [
    "for num in range(5):\n",
    "    print(num)"
   ]
  },
  {
   "cell_type": "markdown",
   "metadata": {},
   "source": [
    "What is this range thing here?  Its basically a function that only \"unwraps\" during something like a for loop:"
   ]
  },
  {
   "cell_type": "code",
   "execution_count": 20,
   "metadata": {},
   "outputs": [
    {
     "data": {
      "text/plain": [
       "range(0, 7)"
      ]
     },
     "execution_count": 20,
     "metadata": {},
     "output_type": "execute_result"
    }
   ],
   "source": [
    "range(7)"
   ]
  },
  {
   "cell_type": "markdown",
   "metadata": {},
   "source": [
    "We can kind of index it like a list:"
   ]
  },
  {
   "cell_type": "code",
   "execution_count": 21,
   "metadata": {},
   "outputs": [
    {
     "data": {
      "text/plain": [
       "0"
      ]
     },
     "execution_count": 21,
     "metadata": {},
     "output_type": "execute_result"
    }
   ],
   "source": [
    "range(7)[0]"
   ]
  },
  {
   "cell_type": "code",
   "execution_count": 22,
   "metadata": {},
   "outputs": [
    {
     "data": {
      "text/plain": [
       "1"
      ]
     },
     "execution_count": 22,
     "metadata": {},
     "output_type": "execute_result"
    }
   ],
   "source": [
    "range(7)[1]"
   ]
  },
  {
   "cell_type": "code",
   "execution_count": 23,
   "metadata": {},
   "outputs": [
    {
     "data": {
      "text/plain": [
       "5"
      ]
     },
     "execution_count": 23,
     "metadata": {},
     "output_type": "execute_result"
    }
   ],
   "source": [
    "range(7)[5]"
   ]
  },
  {
   "cell_type": "markdown",
   "metadata": {},
   "source": [
    "We can even explicitly use `range` as a list if we turn it into one:"
   ]
  },
  {
   "cell_type": "code",
   "execution_count": 29,
   "metadata": {},
   "outputs": [
    {
     "name": "stdout",
     "output_type": "stream",
     "text": [
      "[0, 1, 2, 3, 4, 5, 6, 7, 8, 9, 10]\n"
     ]
    }
   ],
   "source": [
    "print(list(range(11)))"
   ]
  },
  {
   "cell_type": "markdown",
   "metadata": {},
   "source": [
    "Let's use `range` to loop over a string:"
   ]
  },
  {
   "cell_type": "code",
   "execution_count": 24,
   "metadata": {},
   "outputs": [
    {
     "name": "stdout",
     "output_type": "stream",
     "text": [
      "w\n",
      "o\n",
      "r\n",
      "d\n"
     ]
    }
   ],
   "source": [
    "myString = 'word'\n",
    "\n",
    "for num in range(4):\n",
    "    print(myString[num])"
   ]
  },
  {
   "cell_type": "markdown",
   "metadata": {},
   "source": [
    "Now, we could have unpacked this string in a loop like before, but this gives us an excuse to use the \"len\" function to loop through the length of any old string:"
   ]
  },
  {
   "cell_type": "code",
   "execution_count": 27,
   "metadata": {},
   "outputs": [
    {
     "name": "stdout",
     "output_type": "stream",
     "text": [
      "15\n"
     ]
    }
   ],
   "source": [
    "myString = 'any old string!'\n",
    "print(len(myString))"
   ]
  },
  {
   "cell_type": "code",
   "execution_count": 28,
   "metadata": {},
   "outputs": [
    {
     "name": "stdout",
     "output_type": "stream",
     "text": [
      "a\n",
      "n\n",
      "y\n",
      " \n",
      "o\n",
      "l\n",
      "d\n",
      " \n",
      "s\n",
      "t\n",
      "r\n",
      "i\n",
      "n\n",
      "g\n",
      "!\n"
     ]
    }
   ],
   "source": [
    "for num in range(len(myString)):\n",
    "    print(myString[num])"
   ]
  },
  {
   "cell_type": "markdown",
   "metadata": {},
   "source": [
    "Why bother with this \"num\" thing at all?  Well we can do things like print out where each character is:"
   ]
  },
  {
   "cell_type": "code",
   "execution_count": 30,
   "metadata": {},
   "outputs": [
    {
     "name": "stdout",
     "output_type": "stream",
     "text": [
      "The character at position 0 is a\n",
      "The character at position 1 is n\n",
      "The character at position 2 is y\n",
      "The character at position 3 is  \n",
      "The character at position 4 is o\n",
      "The character at position 5 is l\n",
      "The character at position 6 is d\n",
      "The character at position 7 is  \n",
      "The character at position 8 is s\n",
      "The character at position 9 is t\n",
      "The character at position 10 is r\n",
      "The character at position 11 is i\n",
      "The character at position 12 is n\n",
      "The character at position 13 is g\n",
      "The character at position 14 is !\n"
     ]
    }
   ],
   "source": [
    "for num in range(len(myString)):\n",
    "    print(\"The character at position\", num, \"is\", myString[num])"
   ]
  },
  {
   "cell_type": "markdown",
   "metadata": {},
   "source": [
    "## if-then statements\n",
    "\n",
    "Before getting into making decisions in our code, we have to understand a bit about a new type of variable a `Boolean`.\n",
    "\n",
    "Generally speaking, booleans allow us to make decision statements. We can use this to check inputs, create more complex algorithms, and data filtering.\n",
    "\n",
    "Let's review an essential concepy: the expression. These are pieces of code that evaluate to a value. For example:\n",
    "\n",
    " * 2 + 2 evaluates to 4\n",
    " * \"hello there\".split()\" evaluates to a list [\"hello\", \"there\"]\n",
    "\n",
    "Sometimes we need to do more than just evaluate something. Sometimes you need to do something if something else is true. To do this, we need to introduce something new: decision statements.\n",
    "\n",
    "Crafting a decision statement requires that you create a boolean expression. To do this, we need two words: True or False.\n",
    "\n",
    "And before we continue, there are two things to consider. Booleans are both 1). a concept (logic, etc) and 2). a data type.\n",
    "\n",
    " * **boolean:** this is a data type, representing the two logical objects\n",
    "     * `True` and `False`: these are the two boolean objects available in Python, note that capitalization matters\n",
    " * **conditional check:** this is an expression will end up as `True` or `False`. Examples will be anything that has the == in it, or a method/function that returns a `True` or `False`. You can also use != to indicate 'not equal to'."
   ]
  },
  {
   "cell_type": "markdown",
   "metadata": {},
   "source": [
    "#### Crafting a boolean expression\n",
    "These are expressions that evaluate to either `True` or `False` and there are several ways to create them. The two primary ways are using an operator (math looking thing) or a method/function (including a custom function that you write!) specifically designed to return a boolean value.\n",
    "\n",
    "###### core boolean operators\n",
    " * == (read as \"double equals\") this is the equality check operator, which should appear between two objects and will return either True or False, e.g.:\n",
    "   * 1 == 1 will return True\n",
    "   * 2 == 4 will return False\n",
    "   * Important: this will check equivalence and not object identity. This is a concept that we will not really bo covering too heavily. But you may see the is keyword, which will check identity. This may appear to be functionally equivalent, but that is not the case. For our purposes, avoid the use of is.\n",
    "   \n",
    "Then the usual math suspects:\n",
    " * $>$ (greater than)\n",
    " * $<$ (less than)\n",
    " * $<=$ (less than or equal to)\n",
    " * $>=$ (greater than or equal to)\n",
    " \n",
    "There is an important distinction between the greater/less than and the greater/less than or equal to operators. Example: 10 is not less than 10, but it is equal to it. So if you were trying to check if something is a number under, but including 10, you need to use num <= 10. This is functionall equivalent to num < 11. You well develop your own personal style."
   ]
  },
  {
   "cell_type": "markdown",
   "metadata": {},
   "source": [
    "Let's try evaluating some booleans.  For example, we know that 2+2=4:"
   ]
  },
  {
   "cell_type": "code",
   "execution_count": 31,
   "metadata": {},
   "outputs": [
    {
     "data": {
      "text/plain": [
       "4"
      ]
     },
     "execution_count": 31,
     "metadata": {},
     "output_type": "execute_result"
    }
   ],
   "source": [
    "2+2"
   ]
  },
  {
   "cell_type": "markdown",
   "metadata": {},
   "source": [
    "(Note that I didn't include a `print` statement here -- you don't have to in jupyter notebooks if its the last line in the cell, but this is not true for other editors, so you've been warned!)"
   ]
  },
  {
   "cell_type": "markdown",
   "metadata": {},
   "source": [
    "Now, let's say we want to double check that 2+2 is 4... how could we do this?  With a Boolean op:"
   ]
  },
  {
   "cell_type": "code",
   "execution_count": 32,
   "metadata": {},
   "outputs": [
    {
     "data": {
      "text/plain": [
       "True"
      ]
     },
     "execution_count": 32,
     "metadata": {},
     "output_type": "execute_result"
    }
   ],
   "source": [
    "2+2 == 4"
   ]
  },
  {
   "cell_type": "markdown",
   "metadata": {},
   "source": [
    "Because 2+2 does indeed equal 4, we get the following expression evaluated to True.  What about 2+3?  Does this equal 4?  Let's check:"
   ]
  },
  {
   "cell_type": "code",
   "execution_count": 33,
   "metadata": {},
   "outputs": [
    {
     "data": {
      "text/plain": [
       "False"
      ]
     },
     "execution_count": 33,
     "metadata": {},
     "output_type": "execute_result"
    }
   ],
   "source": [
    "2+3 == 4"
   ]
  },
  {
   "cell_type": "markdown",
   "metadata": {},
   "source": [
    "Nope!  It does not!  We could even go further and check if 2+3 explicitly does not equal 4:"
   ]
  },
  {
   "cell_type": "code",
   "execution_count": 34,
   "metadata": {},
   "outputs": [
    {
     "data": {
      "text/plain": [
       "True"
      ]
     },
     "execution_count": 34,
     "metadata": {},
     "output_type": "execute_result"
    }
   ],
   "source": [
    "2+3 != 4"
   ]
  },
  {
   "cell_type": "markdown",
   "metadata": {},
   "source": [
    "This expression evaluates to True because 2+3 indeed does not equal 4.  We can also test if 2+3 is less than 4:"
   ]
  },
  {
   "cell_type": "code",
   "execution_count": 35,
   "metadata": {},
   "outputs": [
    {
     "data": {
      "text/plain": [
       "False"
      ]
     },
     "execution_count": 35,
     "metadata": {},
     "output_type": "execute_result"
    }
   ],
   "source": [
    "2+3 < 4"
   ]
  },
  {
   "cell_type": "markdown",
   "metadata": {},
   "source": [
    "Or greater than 4:"
   ]
  },
  {
   "cell_type": "code",
   "execution_count": 36,
   "metadata": {},
   "outputs": [
    {
     "data": {
      "text/plain": [
       "True"
      ]
     },
     "execution_count": 36,
     "metadata": {},
     "output_type": "execute_result"
    }
   ],
   "source": [
    "2+3 > 4"
   ]
  },
  {
   "cell_type": "markdown",
   "metadata": {},
   "source": [
    "You can also do this with strings by the way, like for example, checking to see if a sub-string is in a string:"
   ]
  },
  {
   "cell_type": "code",
   "execution_count": 52,
   "metadata": {},
   "outputs": [
    {
     "data": {
      "text/plain": [
       "True"
      ]
     },
     "execution_count": 52,
     "metadata": {},
     "output_type": "execute_result"
    }
   ],
   "source": [
    "'bow' in 'davidbowie'"
   ]
  },
  {
   "cell_type": "code",
   "execution_count": 53,
   "metadata": {},
   "outputs": [
    {
     "data": {
      "text/plain": [
       "False"
      ]
     },
     "execution_count": 53,
     "metadata": {},
     "output_type": "execute_result"
    }
   ],
   "source": [
    "'tie' in 'davidbowie'"
   ]
  },
  {
   "cell_type": "markdown",
   "metadata": {},
   "source": [
    "Now back to numbers.  "
   ]
  },
  {
   "cell_type": "markdown",
   "metadata": {},
   "source": [
    "Let's re-write this with variables:"
   ]
  },
  {
   "cell_type": "code",
   "execution_count": 37,
   "metadata": {},
   "outputs": [
    {
     "data": {
      "text/plain": [
       "False"
      ]
     },
     "execution_count": 37,
     "metadata": {},
     "output_type": "execute_result"
    }
   ],
   "source": [
    "var1 = 2\n",
    "var2 = 3\n",
    "\n",
    "var1+var2 == 4"
   ]
  },
  {
   "cell_type": "markdown",
   "metadata": {},
   "source": [
    "Now, let's do something if our 2 variables equal 4 and something else if they do not.  We'll do this with an if-then statement:"
   ]
  },
  {
   "cell_type": "code",
   "execution_count": 38,
   "metadata": {},
   "outputs": [],
   "source": [
    "if var1+var2 == 4:\n",
    "    print('the sum is 4!')"
   ]
  },
  {
   "cell_type": "markdown",
   "metadata": {},
   "source": [
    "So!  Nothing prints because var1+var2 = 5, which is not 4.  We probably want to make sure we print out this fact as well, just to be sure (we don't have to, the above if-then is totally fine, but we can extend it):"
   ]
  },
  {
   "cell_type": "code",
   "execution_count": 39,
   "metadata": {},
   "outputs": [
    {
     "name": "stdout",
     "output_type": "stream",
     "text": [
      "the sum is NOT 4!\n"
     ]
    }
   ],
   "source": [
    "if var1+var2 == 4:\n",
    "    print('the sum is 4!')\n",
    "else:\n",
    "    print('the sum is NOT 4!')"
   ]
  },
  {
   "cell_type": "markdown",
   "metadata": {},
   "source": [
    "So, we can see that indeed 2+3 is not 4 and our if-then statement gets this!"
   ]
  },
  {
   "cell_type": "markdown",
   "metadata": {},
   "source": [
    "Let's try it again with 2+2:"
   ]
  },
  {
   "cell_type": "code",
   "execution_count": 40,
   "metadata": {},
   "outputs": [
    {
     "name": "stdout",
     "output_type": "stream",
     "text": [
      "the sum is 4!\n"
     ]
    }
   ],
   "source": [
    "var1 = 2\n",
    "var2 = 2\n",
    "\n",
    "if var1+var2 == 4:\n",
    "    print('the sum is 4!')\n",
    "else:\n",
    "    print('the sum is NOT 4!')"
   ]
  },
  {
   "cell_type": "markdown",
   "metadata": {},
   "source": [
    "Cool!  It works!  There is a LOT more info here: https://github.com/elliewix/IS-452-Spring2020/blob/master/Lectures/Week-07-BooleansPt1-if-else.ipynb\n",
    "\n",
    "But just to get a feel for it, let's try a few other ways of adding conditions with an `elif` or \"else-if\" statement:"
   ]
  },
  {
   "cell_type": "code",
   "execution_count": 41,
   "metadata": {},
   "outputs": [
    {
     "name": "stdout",
     "output_type": "stream",
     "text": [
      "the sum is 4!\n"
     ]
    }
   ],
   "source": [
    "var1 = 2\n",
    "var2 = 2\n",
    "\n",
    "if var1+var2 == 4:\n",
    "    print('the sum is 4!')\n",
    "elif var1+var2 == 5:\n",
    "    print('the sum is totally 5!')\n",
    "else:\n",
    "    print('the sum is NOT 4 OR 5!')"
   ]
  },
  {
   "cell_type": "markdown",
   "metadata": {},
   "source": [
    "Let's try a few different numbers:"
   ]
  },
  {
   "cell_type": "code",
   "execution_count": 43,
   "metadata": {},
   "outputs": [
    {
     "name": "stdout",
     "output_type": "stream",
     "text": [
      "the sum is totally 5!\n"
     ]
    }
   ],
   "source": [
    "var1 = 2\n",
    "var2 = 3\n",
    "\n",
    "if var1+var2 == 4:\n",
    "    print('the sum is 4!')\n",
    "elif var1+var2 == 5:\n",
    "    print('the sum is totally 5!')\n",
    "else:\n",
    "    print('the sum is NOT 4 OR 5!')"
   ]
  },
  {
   "cell_type": "code",
   "execution_count": 50,
   "metadata": {},
   "outputs": [
    {
     "name": "stdout",
     "output_type": "stream",
     "text": [
      "the sum is totally 5!\n"
     ]
    }
   ],
   "source": [
    "var1 = -6\n",
    "var2 = 11\n",
    "\n",
    "if var1+var2 == 4:\n",
    "    print('the sum is 4!')\n",
    "elif var1+var2 == 5:\n",
    "    print('the sum is totally 5!')\n",
    "else:\n",
    "    print('the sum is NOT 4 OR 5!')"
   ]
  },
  {
   "cell_type": "code",
   "execution_count": 51,
   "metadata": {},
   "outputs": [
    {
     "name": "stdout",
     "output_type": "stream",
     "text": [
      "the sum is NOT 4 OR 5!\n"
     ]
    }
   ],
   "source": [
    "var1 = -6\n",
    "var2 = 1\n",
    "\n",
    "if var1+var2 == 4:\n",
    "    print('the sum is 4!')\n",
    "elif var1+var2 == 5:\n",
    "    print('the sum is totally 5!')\n",
    "else:\n",
    "    print('the sum is NOT 4 OR 5!')"
   ]
  },
  {
   "cell_type": "markdown",
   "metadata": {},
   "source": [
    "## Examples using `matplotlib`"
   ]
  },
  {
   "cell_type": "markdown",
   "metadata": {},
   "source": [
    "Now, we are going to use some of these ideas to (finally!) play around with a bit of plotting.  We'll do more of this tomorrow as well, but let's get started anyway!"
   ]
  },
  {
   "cell_type": "code",
   "execution_count": null,
   "metadata": {},
   "outputs": [],
   "source": []
  }
 ],
 "metadata": {
  "kernelspec": {
   "display_name": "Python 3",
   "language": "python",
   "name": "python3"
  },
  "language_info": {
   "codemirror_mode": {
    "name": "ipython",
    "version": 3
   },
   "file_extension": ".py",
   "mimetype": "text/x-python",
   "name": "python",
   "nbconvert_exporter": "python",
   "pygments_lexer": "ipython3",
   "version": "3.7.7"
  }
 },
 "nbformat": 4,
 "nbformat_minor": 4
}
