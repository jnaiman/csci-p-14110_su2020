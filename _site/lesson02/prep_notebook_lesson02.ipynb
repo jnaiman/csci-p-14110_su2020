{
 "cells": [
  {
   "cell_type": "markdown",
   "metadata": {},
   "source": [
    "# Day 2"
   ]
  },
  {
   "cell_type": "markdown",
   "metadata": {},
   "source": [
    "### Topics\n",
    "\n",
    "1. Bit of a review\n",
    "1. For-loops\n",
    "1. If-then statements"
   ]
  },
  {
   "cell_type": "markdown",
   "metadata": {},
   "source": [
    "## Bit of a review\n",
    "\n",
    "This is markdown!  There are cool things we can do here!\n",
    "* here I am making a list\n",
    "* **in bold!**"
   ]
  },
  {
   "cell_type": "markdown",
   "metadata": {},
   "source": [
    "We also talked a bit about variables as well and their types:"
   ]
  },
  {
   "cell_type": "code",
   "execution_count": 1,
   "metadata": {},
   "outputs": [],
   "source": [
    "variable1 = 1\n",
    "variable2 = 3\n",
    "\n",
    "variable_sum = variable1+variable2"
   ]
  },
  {
   "cell_type": "code",
   "execution_count": 2,
   "metadata": {},
   "outputs": [
    {
     "name": "stdout",
     "output_type": "stream",
     "text": [
      "4\n"
     ]
    }
   ],
   "source": [
    "print(variable_sum)"
   ]
  },
  {
   "cell_type": "code",
   "execution_count": 3,
   "metadata": {},
   "outputs": [
    {
     "name": "stdout",
     "output_type": "stream",
     "text": [
      "<class 'int'>\n"
     ]
    }
   ],
   "source": [
    "print(type(variable_sum))"
   ]
  },
  {
   "cell_type": "markdown",
   "metadata": {},
   "source": [
    "We also played around with strings:"
   ]
  },
  {
   "cell_type": "code",
   "execution_count": 4,
   "metadata": {},
   "outputs": [],
   "source": [
    "myString = \"hey I'm a string!\""
   ]
  },
  {
   "cell_type": "markdown",
   "metadata": {},
   "source": [
    "We also talked a bit about how to \"slice them\" by indexing and that indexing starts at 0:"
   ]
  },
  {
   "cell_type": "code",
   "execution_count": 6,
   "metadata": {},
   "outputs": [
    {
     "name": "stdout",
     "output_type": "stream",
     "text": [
      "hey I\n"
     ]
    }
   ],
   "source": [
    "print(myString[0:5])"
   ]
  },
  {
   "cell_type": "markdown",
   "metadata": {},
   "source": [
    "We also talked a bit about two ways to store lists of things, the first being lists which are native to Python:"
   ]
  },
  {
   "cell_type": "code",
   "execution_count": 8,
   "metadata": {},
   "outputs": [
    {
     "name": "stdout",
     "output_type": "stream",
     "text": [
      "[5, 6, 'boop!']\n"
     ]
    }
   ],
   "source": [
    "myList = [5, 6, 'boop!']\n",
    "print(myList)"
   ]
  },
  {
   "cell_type": "markdown",
   "metadata": {},
   "source": [
    "And also NumPy arrays, which we can use if we import a separate library:"
   ]
  },
  {
   "cell_type": "code",
   "execution_count": 9,
   "metadata": {},
   "outputs": [],
   "source": [
    "import numpy as np"
   ]
  },
  {
   "cell_type": "code",
   "execution_count": 10,
   "metadata": {},
   "outputs": [
    {
     "name": "stdout",
     "output_type": "stream",
     "text": [
      "[5.  6.7 8. ]\n"
     ]
    }
   ],
   "source": [
    "myArray = np.array([5,6.7, 8])\n",
    "print(myArray)"
   ]
  },
  {
   "cell_type": "markdown",
   "metadata": {},
   "source": [
    "Which allows us to do mathy-type things like add 5 to all elements:"
   ]
  },
  {
   "cell_type": "code",
   "execution_count": 11,
   "metadata": {},
   "outputs": [
    {
     "name": "stdout",
     "output_type": "stream",
     "text": [
      "[10.  11.7 13. ]\n"
     ]
    }
   ],
   "source": [
    "print(myArray+5)"
   ]
  },
  {
   "cell_type": "markdown",
   "metadata": {},
   "source": [
    "## BACK TO SLIDES FOR SOME INFO ABOUT for-loops & if-then statements!\n",
    "\n",
    "## For-loops\n",
    "\n",
    "For reference: [Loop lecture, IS452](https://github.com/elliewix/IS-452-Spring2020/blob/master/Lectures/Week-02-ExpressionsAndLoops.ipynb)\n",
    "\n",
    "We are about to repeat stuff!  Programming making things more efficient!  Woo!"
   ]
  },
  {
   "cell_type": "markdown",
   "metadata": {},
   "source": [
    "While there is a single syntax rule for for loop, there are many types. We're going to start off with the three core patterns. We'll learn more patterns as we move forward, but all of those are tweaks or expansions off of one of these three core patterns.\n",
    "\n",
    "There are three kinds of loops:\n",
    "\n",
    "1. unpack some sequence of content and loop over those elements one at a time\n",
    "   * your input is the sequence, python will unpack it for you\n",
    "1. repeat a task some arbitrary number of times\n",
    "   * your input is the number of times\n",
    "1. loop over something for the purposes of looking up another thing\n",
    "   * this one is strange, where you provide the sequence of items that represent the lookup key for another item. These keys may be just numbers counting up, or they may be other kinds of content in a sequence (such as letters or words).\n",
    "   \n",
    "There three uses will have a very similar syntax and can be difficult to tell the difference between. For the sake of names, let's call them:\n",
    "\n",
    "1. an unpacking loop\n",
    "1. a range loop\n",
    "1. a reference loop\n",
    "\n",
    "We're going to explore and reinforce our understanding of data types and other stuff as we play with loops.\n",
    "\n",
    "Sometimes you'll need to mix and match these. For example, the reference loop will often start off life as a range loop.\n",
    "\n",
    "### Unpacking loop\n",
    "\n",
    "Let's start unpacking a string \"by hand\":"
   ]
  },
  {
   "cell_type": "code",
   "execution_count": 12,
   "metadata": {},
   "outputs": [],
   "source": [
    "myString = 'word' # define"
   ]
  },
  {
   "cell_type": "markdown",
   "metadata": {},
   "source": [
    "Print out each letter of this word:"
   ]
  },
  {
   "cell_type": "code",
   "execution_count": 13,
   "metadata": {},
   "outputs": [
    {
     "name": "stdout",
     "output_type": "stream",
     "text": [
      "w\n",
      "o\n",
      "r\n",
      "d\n"
     ]
    }
   ],
   "source": [
    "print(myString[0])\n",
    "print(myString[1])\n",
    "print(myString[2])\n",
    "print(myString[3])"
   ]
  },
  {
   "cell_type": "markdown",
   "metadata": {},
   "source": [
    "**Q:** What are some issues we can see with doing things this way? "
   ]
  },
  {
   "cell_type": "markdown",
   "metadata": {},
   "source": [
    "Let's do this whole thing with a for-loop: I'm just going to write the cell, run it and then we'll talk about it:"
   ]
  },
  {
   "cell_type": "code",
   "execution_count": 14,
   "metadata": {},
   "outputs": [
    {
     "name": "stdout",
     "output_type": "stream",
     "text": [
      "w\n",
      "o\n",
      "r\n",
      "d\n"
     ]
    }
   ],
   "source": [
    "for letter in myString:\n",
    "    print(letter)"
   ]
  },
  {
   "cell_type": "markdown",
   "metadata": {},
   "source": [
    "We can see that there are some bold words in there, some of our special words: `for` and `in` and Jupyter notebook is trying to help us get that these are special words by making them bold+green.\n",
    "\n",
    "Let's look at the *syntax* (i.e. grammar/spelling) of what we are doing in this for-loop:"
   ]
  },
  {
   "cell_type": "markdown",
   "metadata": {},
   "source": [
    "#### Core syntax reference\n",
    "What does this for loop look like?\n",
    "\n",
    "```python\n",
    "for iterable_variable in sequence:\n",
    "    do this stuff\n",
    "```\n",
    "\n",
    "This will loop over the sequence you provide, unpacking each value into the `iterable_variable`. This variable will hold an individual value, one at a time, for each loop through.\n",
    "\n",
    "Let's give names to all of these things:\n",
    "\n",
    " * declared and opened with a `for` keyword\n",
    " * a sequence that is being iterated over\n",
    " * an iterable variable to hold the variable contents of the sequence during each loop\n",
    " * white space (the tab) that defines where the executable code lives\n",
    " * the code to be executed each loop\n",
    " \n",
    "Some important notes:\n",
    "\n",
    " * the iterable variable name can be literally any valid variable name and does not need to be declared previously\n",
    " * the colon at the end of the for line block is required and indicates that the declaration line is done\n",
    " * the in keyword separates the iterable variable name from the sequence\n",
    " * this case has the sequence literal in the declaration line, but could also be a variable"
   ]
  },
  {
   "cell_type": "code",
   "execution_count": null,
   "metadata": {},
   "outputs": [],
   "source": []
  }
 ],
 "metadata": {
  "kernelspec": {
   "display_name": "Python 3",
   "language": "python",
   "name": "python3"
  },
  "language_info": {
   "codemirror_mode": {
    "name": "ipython",
    "version": 3
   },
   "file_extension": ".py",
   "mimetype": "text/x-python",
   "name": "python",
   "nbconvert_exporter": "python",
   "pygments_lexer": "ipython3",
   "version": "3.7.7"
  }
 },
 "nbformat": 4,
 "nbformat_minor": 4
}
