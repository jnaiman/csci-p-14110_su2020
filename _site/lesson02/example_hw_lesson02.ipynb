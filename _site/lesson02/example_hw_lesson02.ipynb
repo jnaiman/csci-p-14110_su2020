{
 "cells": [
  {
   "cell_type": "markdown",
   "metadata": {},
   "source": [
    "# Homework #2\n",
    "\n",
    "Name: Jill Naiman"
   ]
  },
  {
   "cell_type": "markdown",
   "metadata": {},
   "source": [
    "## Question 1: \n",
    "Define a variable that will be a natural number, greater than 0, that you can change. Create a for-loop that prints out the sum of the natural numbers up to this variable.\n",
    "\n",
    "Note: \"natural number\" means no fractions/decimals."
   ]
  },
  {
   "cell_type": "code",
   "execution_count": 1,
   "metadata": {},
   "outputs": [],
   "source": [
    "variable = 10 # your user can change this number"
   ]
  },
  {
   "cell_type": "code",
   "execution_count": 2,
   "metadata": {},
   "outputs": [],
   "source": [
    "# for loop code goes here"
   ]
  },
  {
   "cell_type": "markdown",
   "metadata": {},
   "source": [
    "## Question 2:\n",
    "\n",
    "Define a variable that is a temperature in either Celcius or Fahrenheit as a string that includes the numerical value of the temperature and either a \"C\" or an \"F\".\n",
    "\n",
    "If the temperature is in Fahrenheit, convert it to Celcius.  If it isn't either, print out a warning message."
   ]
  },
  {
   "cell_type": "code",
   "execution_count": 4,
   "metadata": {},
   "outputs": [],
   "source": [
    "temp = '15C'\n",
    "\n",
    "# your code here"
   ]
  },
  {
   "cell_type": "markdown",
   "metadata": {},
   "source": [
    "Some examples you can try are:\n",
    "\n",
    "```python\n",
    "temp = '15C' \n",
    "```\n",
    "should print out something like:\n",
    "\n",
    "`the temperature is 15C`\n",
    "\n",
    "and\n",
    "\n",
    "```python\n",
    "temp = '15F'\n",
    "```\n",
    "should print out\n",
    "\n",
    "`the temperature is -9.44444C`\n",
    "\n",
    "and\n",
    "\n",
    "```python\n",
    "temp = '15B'\n",
    "```\n",
    "should print out\n",
    "\n",
    "`ERROR: not Celcius or Fahrenheit!`\n",
    "\n",
    "Note, you can choose a bit how word what gets printed out!"
   ]
  },
  {
   "cell_type": "markdown",
   "metadata": {},
   "source": [
    "## Question 3:\n",
    "Building upon question 2 for a list of temperatures to convert and print out each of their conversions."
   ]
  },
  {
   "cell_type": "code",
   "execution_count": 6,
   "metadata": {},
   "outputs": [],
   "source": [
    "temperatureList = ['15C', '14F', '66F']\n",
    "\n",
    "# your conversion code goes here"
   ]
  },
  {
   "cell_type": "markdown",
   "metadata": {},
   "source": [
    "For example:\n",
    "```python\n",
    "temperatureList = ['15C', '14F', '66F']\n",
    "```\n",
    "should print out something like:\n",
    "\n",
    "`the input temperature of 15C is 15C`\n",
    "\n",
    "`the input temperature of 14F is -10C`\n",
    "\n",
    "`the input temperature of 66F is 18.8889C`\n",
    "\n",
    "Don't forget to check for import errors!\n"
   ]
  },
  {
   "cell_type": "markdown",
   "metadata": {},
   "source": [
    "## Question 4:\n",
    "Plotting question??"
   ]
  },
  {
   "cell_type": "code",
   "execution_count": null,
   "metadata": {},
   "outputs": [],
   "source": []
  }
 ],
 "metadata": {
  "kernelspec": {
   "display_name": "Python 3",
   "language": "python",
   "name": "python3"
  },
  "language_info": {
   "codemirror_mode": {
    "name": "ipython",
    "version": 3
   },
   "file_extension": ".py",
   "mimetype": "text/x-python",
   "name": "python",
   "nbconvert_exporter": "python",
   "pygments_lexer": "ipython3",
   "version": "3.7.7"
  }
 },
 "nbformat": 4,
 "nbformat_minor": 4
}
