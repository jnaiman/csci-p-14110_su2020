{
 "cells": [
  {
   "cell_type": "code",
   "execution_count": 1,
   "metadata": {},
   "outputs": [],
   "source": [
    "# import our usual things\n",
    "import numpy as np\n",
    "import matplotlib.pyplot as plt\n",
    "%matplotlib inline"
   ]
  },
  {
   "cell_type": "code",
   "execution_count": 2,
   "metadata": {},
   "outputs": [],
   "source": [
    "from hermite_library import read_hermite_solution_from_file"
   ]
  },
  {
   "cell_type": "code",
   "execution_count": 27,
   "metadata": {},
   "outputs": [
    {
     "data": {
      "text/plain": [
       "(3, 3, 5000)"
      ]
     },
     "execution_count": 27,
     "metadata": {},
     "output_type": "execute_result"
    }
   ],
   "source": [
    "# read in data\n",
    "t_h, E_h, r_h, v_h = read_hermite_solution_from_file('myPlanetSystem_kepler101_solution1.txt')\n",
    "r_h.shape"
   ]
  },
  {
   "cell_type": "code",
   "execution_count": 4,
   "metadata": {},
   "outputs": [],
   "source": [
    "# import conversion factor\n",
    "from hermite_library import AUinCM"
   ]
  },
  {
   "cell_type": "code",
   "execution_count": 6,
   "metadata": {},
   "outputs": [],
   "source": [
    "make3dplanets_libdir = '../lesson09/genericPlanetFiles/' # change, check yesterday\n",
    "# where make3dplanets.py is stored"
   ]
  },
  {
   "cell_type": "code",
   "execution_count": 9,
   "metadata": {},
   "outputs": [],
   "source": [
    "# name my system\n",
    "SystemName = 'MyPlanetSystemMoving1' # naming my system"
   ]
  },
  {
   "cell_type": "code",
   "execution_count": 19,
   "metadata": {},
   "outputs": [],
   "source": [
    "output_planet_dir = './outPlanets/' # where all systems will be stored"
   ]
  },
  {
   "cell_type": "code",
   "execution_count": 11,
   "metadata": {},
   "outputs": [],
   "source": [
    "texture_files = ['saturn_1024.jpg', 'neptunemap_1000.jpg', 'sun_texture1.jpg'] \n",
    "# texture of my planets"
   ]
  },
  {
   "cell_type": "code",
   "execution_count": 12,
   "metadata": {},
   "outputs": [],
   "source": [
    "PlanetRadius = np.array([5.8e9, 2.46e9, 69.55e9])*2 # in cm"
   ]
  },
  {
   "cell_type": "code",
   "execution_count": 14,
   "metadata": {},
   "outputs": [
    {
     "data": {
      "text/plain": [
       "['/Users/jillnaiman1/csci-p-14110/lesson10',\n",
       " '/Users/jillnaiman1/anaconda3/lib/python37.zip',\n",
       " '/Users/jillnaiman1/anaconda3/lib/python3.7',\n",
       " '/Users/jillnaiman1/anaconda3/lib/python3.7/lib-dynload',\n",
       " '',\n",
       " '/Users/jillnaiman1/.local/lib/python3.7/site-packages',\n",
       " '/Users/jillnaiman1/.local/lib/python3.7/site-packages/periodic_kdtree-1.0-py3.7.egg',\n",
       " '/Users/jillnaiman1/anaconda3/lib/python3.7/site-packages',\n",
       " '/Users/jillnaiman1/anaconda3/lib/python3.7/site-packages/aeosa',\n",
       " '/Users/jillnaiman1/anaconda3/lib/python3.7/site-packages/IPython/extensions',\n",
       " '/Users/jillnaiman1/.ipython',\n",
       " '../lesson09/genericPlanetFiles/']"
      ]
     },
     "execution_count": 14,
     "metadata": {},
     "output_type": "execute_result"
    }
   ],
   "source": [
    "# append my path so that this notebook knows where to look for the make3dplanets.py file\n",
    "from sys import path\n",
    "path.append(make3dplanets_libdir)\n",
    "path"
   ]
  },
  {
   "cell_type": "code",
   "execution_count": 15,
   "metadata": {},
   "outputs": [],
   "source": [
    "generic_dir = '../lesson09/genericPlanetFiles/' # specific to my machine\n",
    "textures_dir = generic_dir + 'textureMaps/' # where planet textures are stored"
   ]
  },
  {
   "cell_type": "code",
   "execution_count": 26,
   "metadata": {},
   "outputs": [
    {
     "data": {
      "text/plain": [
       "array([   0,  100,  200,  300,  400,  500,  600,  700,  800,  900, 1000,\n",
       "       1100, 1200, 1300, 1400, 1500, 1600, 1700, 1800, 1900, 2000, 2100,\n",
       "       2200, 2300, 2400, 2500, 2600, 2700, 2800, 2900, 3000, 3100, 3200,\n",
       "       3300, 3400, 3500, 3600, 3700, 3800, 3900, 4000, 4100, 4200, 4300,\n",
       "       4400, 4500, 4600, 4700, 4800, 4900])"
      ]
     },
     "execution_count": 26,
     "metadata": {},
     "output_type": "execute_result"
    }
   ],
   "source": [
    "# chose different timesteps to plot\n",
    "#Nplots = [5, 100] # the timestep number for which to generate 3d objects\n",
    "Nplots = np.arange(0,5000, 100) # multiple frames\n",
    "Nplots"
   ]
  },
  {
   "cell_type": "code",
   "execution_count": 17,
   "metadata": {},
   "outputs": [],
   "source": [
    "# amount of time between displaying these two timesteps, in seconds\n",
    "dt_movie = 0.5 # 0.5 seconds"
   ]
  },
  {
   "cell_type": "code",
   "execution_count": 21,
   "metadata": {},
   "outputs": [],
   "source": [
    "# define sketchfab.timeframe file\n",
    "# store order of geometric files to display and the physical timesteps between\n",
    "!mkdir outPlanets/MyPlanetSystemMoving1\n",
    "tfile = open(output_planet_dir+SystemName+'/sketchfab.timeframe', 'w')\n",
    "# location of file, 'w' means write to the file"
   ]
  },
  {
   "cell_type": "code",
   "execution_count": 23,
   "metadata": {},
   "outputs": [],
   "source": [
    "# forgot to import our library\n",
    "from make3dplanets import make3dplanets"
   ]
  },
  {
   "cell_type": "code",
   "execution_count": 24,
   "metadata": {},
   "outputs": [],
   "source": [
    "PlanetLocation = np.zeros([len(PlanetRadius),3]) # for formatting planets\n",
    "\n",
    "# first loop is over timesteps\n",
    "for iplot, Nplot in enumerate(Nplots): # fancy for loop, iplot counts loop, Nplot is in Nplots\n",
    "    for p in range(len(PlanetRadius)): # looping over planets\n",
    "        PlanetLocation[p,2] = r_h[p,0,Nplot]*AUinCM # swapping z & x, converting to CM\n",
    "        PlanetLocation[p,0] = r_h[p,1,Nplot]*AUinCM # swapping x & y\n",
    "        PlanetLocation[p,1] = r_h[p,2,Nplot]*AUinCM # swapping y & z\n",
    "        \n",
    "    # now for this timestep, make a geometry file\n",
    "    fname = make3dplanets(SystemName, PlanetLocation, PlanetRadius,\n",
    "                         output_planet_dir, generic_dir, textures_dir=textures_dir,\n",
    "                         texture_file=texture_files, fnum=iplot,\n",
    "                         DistanceUnits=AUinCM)\n",
    "    # track in sketchfab.timeframe\n",
    "    tfile.write(str(dt_movie) + ' ' + fname + ' \\n')\n",
    "    \n",
    "# make sure we close the timeframe file\n",
    "tfile.close()\n",
    "        \n",
    "    "
   ]
  },
  {
   "cell_type": "code",
   "execution_count": null,
   "metadata": {},
   "outputs": [],
   "source": []
  }
 ],
 "metadata": {
  "kernelspec": {
   "display_name": "Python 3",
   "language": "python",
   "name": "python3"
  },
  "language_info": {
   "codemirror_mode": {
    "name": "ipython",
    "version": 3
   },
   "file_extension": ".py",
   "mimetype": "text/x-python",
   "name": "python",
   "nbconvert_exporter": "python",
   "pygments_lexer": "ipython3",
   "version": "3.7.3"
  }
 },
 "nbformat": 4,
 "nbformat_minor": 2
}
