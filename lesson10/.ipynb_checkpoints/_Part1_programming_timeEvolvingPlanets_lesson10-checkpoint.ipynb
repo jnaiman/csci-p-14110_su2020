{
 "cells": [
  {
   "cell_type": "markdown",
   "metadata": {},
   "source": [
    "# Day 10, Part 1 - time evolving planet models\n",
    "This builds on Day 9, Part 1 to make something time evolving."
   ]
  },
  {
   "cell_type": "code",
   "execution_count": 1,
   "metadata": {},
   "outputs": [],
   "source": [
    "# import our usual stuffs\n",
    "import numpy as np\n",
    "import matplotlib.pyplot as plt\n",
    "%matplotlib inline"
   ]
  },
  {
   "cell_type": "markdown",
   "metadata": {},
   "source": [
    "You can just use this to read in a file from a simulation that you like, we'll use our example from before:"
   ]
  },
  {
   "cell_type": "code",
   "execution_count": 4,
   "metadata": {},
   "outputs": [],
   "source": [
    "from hermite_library import read_hermite_solution_from_file\n",
    "\n",
    "# as a test:\n",
    "t_h, E_h, r_h, v_h = read_hermite_solution_from_file('myPlanetSystem_kepler101_solution1.txt')\n",
    "\n",
    "# we also want to grab a unit conversion for later:\n",
    "from hermite_library import AUinCM"
   ]
  },
  {
   "cell_type": "markdown",
   "metadata": {},
   "source": [
    "To load and save things correctly, we need to define a few file structures:\n",
    "\n",
    "First: \n",
    "\n",
    "This will point to the directory where generic.obj, generic.mtl, make3dplanets.py, etc is stored.  \n",
    "\n",
    "This is the unzipped \"genericPlanetFiles.zip\" you can download from the website & unpack.\n"
   ]
  },
  {
   "cell_type": "code",
   "execution_count": 5,
   "metadata": {},
   "outputs": [],
   "source": [
    "make3dplanets_libdir = '/Users/jillnaiman1/Downloads/planetFiles/'"
   ]
  },
  {
   "cell_type": "markdown",
   "metadata": {},
   "source": [
    "Now we'll name your planet system.  This is the name of the directory where the .obj and .mtl and texture files will be stored."
   ]
  },
  {
   "cell_type": "code",
   "execution_count": 4,
   "metadata": {},
   "outputs": [],
   "source": [
    "SystemName = 'MyPlanetSystemSingle' "
   ]
  },
  {
   "cell_type": "markdown",
   "metadata": {},
   "source": [
    "Now list the full path where the SystemName directory where all the generated obj and mtl files will be stored.  \n",
    "\n",
    "If this directory doesn't exist, make sure to mkdir it with something like:\n",
    "```!mkdir /Users/jillnaiman1/Downloads/outPlanets```"
   ]
  },
  {
   "cell_type": "code",
   "execution_count": 5,
   "metadata": {},
   "outputs": [],
   "source": [
    "output_planet_dir = '/Users/jillnaiman1/Downloads/outPlanets/'"
   ]
  },
  {
   "cell_type": "markdown",
   "metadata": {},
   "source": [
    "Now we need to make some decisions about what our planets will look like.\n",
    "\n",
    "If we recall the order of our planets will be:\n",
    "\n",
    "```planet 1, planet 2, star```\n",
    "\n",
    "And their masses will be:\n",
    "\n",
    "```1.0 Jupiter, 0.05 Jupiter, Solar mass```\n",
    "\n",
    "If we check out the \"mass of jupiter wiki page we see that our 2nd planet has about the size of Neptune: https://en.wikipedia.org/wiki/Jupiter_mass \n",
    "\n",
    "So we can use the following textures as a first approximation:\n",
    "\n",
    "```Jupiter, Neptune, Sun```\n",
    "\n",
    "with comprable radii."
   ]
  },
  {
   "cell_type": "code",
   "execution_count": 6,
   "metadata": {},
   "outputs": [],
   "source": [
    "texture_files = ['jupiter_1200.jpg', 'neptunemap_1000.jpg', 'sun_texture1.jpg']"
   ]
  },
  {
   "cell_type": "code",
   "execution_count": 7,
   "metadata": {},
   "outputs": [],
   "source": [
    "#               Jupiter,    Neptune        Sun      \n",
    "PlanetRadius =  [7.1492e9,  2.4622e9, 69.551e9] # cm\n",
    "\n",
    "# from before, we know we need these:\n",
    "for i in range(len(PlanetRadius)): PlanetRadius[i] *= 1000"
   ]
  },
  {
   "cell_type": "markdown",
   "metadata": {},
   "source": [
    "You have the option to specify colors instead of textures, but we won't be using this option, so you can just put in any place holder colors you want!"
   ]
  },
  {
   "cell_type": "code",
   "execution_count": 8,
   "metadata": {},
   "outputs": [],
   "source": [
    "PlanetColors = [  (1.0, 0, 0),  (1.0, 0.0, 0.0),    (1.0, 0.0, 0.0)]"
   ]
  },
  {
   "cell_type": "markdown",
   "metadata": {},
   "source": [
    "Now let's grab the planet solving library from what we downloaded from the course website:"
   ]
  },
  {
   "cell_type": "code",
   "execution_count": 9,
   "metadata": {},
   "outputs": [],
   "source": [
    "from sys import path\n",
    "# point to where the library is stored\n",
    "path.append(make3dplanets_libdir)\n",
    "# now import make3dplanets\n",
    "from make3dplanets import make3dplanets"
   ]
  },
  {
   "cell_type": "markdown",
   "metadata": {},
   "source": [
    "Just in case things are stored in different places we'll label these explicitly, but you shouldn't have to change this though."
   ]
  },
  {
   "cell_type": "code",
   "execution_count": 10,
   "metadata": {},
   "outputs": [],
   "source": [
    "generic_dir = make3dplanets_libdir\n",
    "textures_dir = make3dplanets_libdir + 'textureMaps/'"
   ]
  },
  {
   "cell_type": "markdown",
   "metadata": {},
   "source": [
    "Now, lets make an array of time steps we want to use.  Let's start with two only:"
   ]
  },
  {
   "cell_type": "code",
   "execution_count": 11,
   "metadata": {},
   "outputs": [],
   "source": [
    "Nplots = [5, 100]"
   ]
  },
  {
   "cell_type": "markdown",
   "metadata": {},
   "source": [
    "Now let's make the planet files!  Note the weird switching of axis in the for loop - this is to make the planet textures \"upright\" w/rt z-axis.  Now, this is a loop and we have to make a ```sketchfab.timeframe``` file."
   ]
  },
  {
   "cell_type": "code",
   "execution_count": 12,
   "metadata": {},
   "outputs": [],
   "source": [
    "f_tfile = open(output_planet_dir+SystemName+'/sketchfab.timeframe','w') # timeframe file"
   ]
  },
  {
   "cell_type": "markdown",
   "metadata": {},
   "source": [
    "How much time (in seconds) do we want between these two snapshots?"
   ]
  },
  {
   "cell_type": "code",
   "execution_count": 13,
   "metadata": {},
   "outputs": [],
   "source": [
    "dt_movie = 0.5 # 1/2 second"
   ]
  },
  {
   "cell_type": "markdown",
   "metadata": {},
   "source": [
    "Now let's loop over our selected snapshots and plot!"
   ]
  },
  {
   "cell_type": "code",
   "execution_count": 14,
   "metadata": {},
   "outputs": [],
   "source": [
    "PlanetLocation = np.zeros( [len(PlanetRadius), 3] )\n",
    "\n",
    "for iplot, Nplot in enumerate(Nplots):\n",
    "    for p in range(0,len(PlanetRadius)):\n",
    "        PlanetLocation[p,2] = r_h[p,0,Nplot]*AUinCM # units\n",
    "        PlanetLocation[p,0] = r_h[p,1,Nplot]*AUinCM\n",
    "        PlanetLocation[p,1] = r_h[p,2,Nplot]*AUinCM\n",
    "\n",
    "    fname = make3dplanets(SystemName, PlanetLocation, PlanetRadius,\n",
    "                          output_planet_dir, generic_dir, textures_dir=textures_dir, \n",
    "                          texture_file=texture_files,  fnum=iplot, DistanceUnits=AUinCM)\n",
    "    \n",
    "    # include the dt_movie\n",
    "    f_tfile.write(str(dt_movie) + ' ' + fname + ' \\n')\n",
    "\n",
    "\n",
    "# close the sketchfab timefile\n",
    "f_tfile.close()    "
   ]
  },
  {
   "cell_type": "markdown",
   "metadata": {},
   "source": [
    "### Exercise - continued\n",
    "\n",
    "Do this activity with your planetary model.  First import into MeshLab and then upload to your Sketchfab account.\n",
    "\n",
    "Things to consider:\n",
    "1. Should you rescale anything in your model?  Why or why not?\n",
    "1. What should you choose for the radii of your planets and star?  How do you justify this?\n",
    "1. What should you choose for the texture maps?  What kind of planets and star do you \"think\" these are?\n",
    "\n",
    "Start with two or three snapshots and then increase to your full model - the larger the model, the longer it will take for Sketchfab to process things.\n",
    "\n",
    "Bonus: try this with the galaxy model!\n",
    "\n",
    "Bonus bonus: you can embed Sketchfab models - if you made an embeddable data viz with ipyvolume - how would you combine the two into a webpage?"
   ]
  },
  {
   "cell_type": "code",
   "execution_count": null,
   "metadata": {},
   "outputs": [],
   "source": []
  }
 ],
 "metadata": {
  "kernelspec": {
   "display_name": "Python 3",
   "language": "python",
   "name": "python3"
  },
  "language_info": {
   "codemirror_mode": {
    "name": "ipython",
    "version": 3
   },
   "file_extension": ".py",
   "mimetype": "text/x-python",
   "name": "python",
   "nbconvert_exporter": "python",
   "pygments_lexer": "ipython3",
   "version": "3.7.3"
  }
 },
 "nbformat": 4,
 "nbformat_minor": 2
}
