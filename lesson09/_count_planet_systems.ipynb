{
 "cells": [
  {
   "cell_type": "code",
   "execution_count": 1,
   "metadata": {},
   "outputs": [],
   "source": [
    "# just a quick counter of planet systems\n",
    "import numpy as np\n",
    "from glob import glob"
   ]
  },
  {
   "cell_type": "code",
   "execution_count": 8,
   "metadata": {},
   "outputs": [],
   "source": [
    "from hermite_library import read_hermite_solution_from_file # reader for sim data"
   ]
  },
  {
   "cell_type": "code",
   "execution_count": 4,
   "metadata": {},
   "outputs": [],
   "source": [
    "dfiles = glob('./data/*txt')"
   ]
  },
  {
   "cell_type": "code",
   "execution_count": 7,
   "metadata": {},
   "outputs": [
    {
     "data": {
      "text/plain": [
       "31"
      ]
     },
     "execution_count": 7,
     "metadata": {},
     "output_type": "execute_result"
    }
   ],
   "source": [
    "len(dfiles)"
   ]
  },
  {
   "cell_type": "code",
   "execution_count": 13,
   "metadata": {},
   "outputs": [
    {
     "name": "stdout",
     "output_type": "stream",
     "text": [
      "GJ_676_A number of planets =  2\n",
      "Kepler-62 number of planets =  5\n",
      "GJ_876 number of planets =  4\n",
      "myPlanetarySystem.txt number of planets =  2\n",
      "KOI-94 number of planets =  4\n",
      "DMPP-1 number of planets =  4\n",
      "K2-266 number of planets =  4\n",
      "tau_Cet number of planets =  4\n",
      "HD_10180 number of planets =  6\n",
      "Kepler-411 number of planets =  4\n",
      "Kepler-82 number of planets =  3\n",
      "GJ_3293 number of planets =  4\n",
      "HD_34445 number of planets =  6\n",
      "HD_20794 number of planets =  4\n",
      "Kepler-80 number of planets =  4\n",
      "55_Cnc number of planets =  5\n",
      "HD_20781 number of planets =  4\n",
      "HD_215152 number of planets =  4\n",
      "HD_160691 number of planets =  4\n",
      "HD_141399 number of planets =  4\n",
      "GJ_667_C number of planets =  5\n",
      "Kepler-79 number of planets =  4\n",
      "Kepler-107 number of planets =  4\n",
      "WASP-47 number of planets =  1\n",
      "TRAPPIST-1 number of planets =  6\n",
      "HD_219134 number of planets =  6\n",
      "Kepler-11 number of planets =  6\n",
      "Kepler-20 number of planets =  4\n",
      "K2-285 number of planets =  4\n",
      "Kepler-32 number of planets =  2\n",
      "HD_40307 number of planets =  5\n"
     ]
    }
   ],
   "source": [
    "for df in dfiles:\n",
    "    t_h, E_h, r_h, v_h = read_hermite_solution_from_file(df)\n",
    "    n = df.split('-savedSim.txt')[0].split('data/')[-1]\n",
    "    print(n, 'number of planets = ', r_h.shape[0]-1)"
   ]
  },
  {
   "cell_type": "code",
   "execution_count": null,
   "metadata": {},
   "outputs": [],
   "source": []
  }
 ],
 "metadata": {
  "kernelspec": {
   "display_name": "Python 3",
   "language": "python",
   "name": "python3"
  },
  "language_info": {
   "codemirror_mode": {
    "name": "ipython",
    "version": 3
   },
   "file_extension": ".py",
   "mimetype": "text/x-python",
   "name": "python",
   "nbconvert_exporter": "python",
   "pygments_lexer": "ipython3",
   "version": "3.7.6"
  }
 },
 "nbformat": 4,
 "nbformat_minor": 4
}
