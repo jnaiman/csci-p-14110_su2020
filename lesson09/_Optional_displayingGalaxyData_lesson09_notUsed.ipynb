{
 "cells": [
  {
   "cell_type": "markdown",
   "metadata": {},
   "source": [
    "# Day 9, Optional - visualizing galaxy data\n",
    "Note: this cannot be uploaded into MeshLab - direct upload to Sketchfab is necessary."
   ]
  },
  {
   "cell_type": "code",
   "execution_count": 1,
   "metadata": {},
   "outputs": [],
   "source": [
    "# import our usual stuffs\n",
    "import numpy as np\n",
    "import matplotlib.pyplot as plt\n",
    "%matplotlib inline"
   ]
  },
  {
   "cell_type": "code",
   "execution_count": 2,
   "metadata": {},
   "outputs": [],
   "source": [
    "from galaxy_movies_library import read_in_galaxy_data"
   ]
  },
  {
   "cell_type": "code",
   "execution_count": null,
   "metadata": {},
   "outputs": [],
   "source": []
  },
  {
   "cell_type": "code",
   "execution_count": null,
   "metadata": {},
   "outputs": [],
   "source": []
  },
  {
   "cell_type": "code",
   "execution_count": null,
   "metadata": {},
   "outputs": [],
   "source": []
  },
  {
   "cell_type": "markdown",
   "metadata": {},
   "source": [
    "Read in our 2 planet kepler system:"
   ]
  },
  {
   "cell_type": "code",
   "execution_count": 22,
   "metadata": {},
   "outputs": [],
   "source": [
    "from hermite_library import read_hermite_solution_from_file\n",
    "\n",
    "# as a test:\n",
    "t_h, E_h, r_h, v_h = read_hermite_solution_from_file('myPlanetSystem_kepler101_solution1.txt')"
   ]
  },
  {
   "cell_type": "code",
   "execution_count": 23,
   "metadata": {},
   "outputs": [],
   "source": [
    "# we also want to grab a unit conversion for later:\n",
    "from hermite_library import AUinCM"
   ]
  },
  {
   "cell_type": "markdown",
   "metadata": {},
   "source": [
    "To load and save things correctly, we need to define a few file structures:\n",
    "\n",
    "First: \n",
    "\n",
    "This will point to the directory where generic.obj, generic.mtl, make3dplanets.py, etc is stored.  \n",
    "\n",
    "This is the unzipped \"genericPlanetFiles.zip\" you can download from the website & unpack.\n",
    "\n",
    "Probably the easiest thing to do is do it in your local, current directory.\n",
    "\n",
    "**NOTE: SHOW THIS IN CLASS**"
   ]
  },
  {
   "cell_type": "code",
   "execution_count": 24,
   "metadata": {},
   "outputs": [],
   "source": [
    "make3dplanets_libdir = '/Users/jillnaiman1/Downloads/planetFiles/'"
   ]
  },
  {
   "cell_type": "markdown",
   "metadata": {},
   "source": [
    "Now we'll name your planet system.  This is the name of the directory where the .obj and .mtl and texture files will be stored."
   ]
  },
  {
   "cell_type": "code",
   "execution_count": 25,
   "metadata": {},
   "outputs": [],
   "source": [
    "SystemName = 'MyPlanetSystemSingle' "
   ]
  },
  {
   "cell_type": "markdown",
   "metadata": {},
   "source": [
    "Now list the full path where the SystemName directory where all the generated obj and mtl files will be stored.  \n",
    "\n",
    "If this directory doesn't exist, make sure to mkdir it with something like:\n",
    "```!mkdir /Users/jillnaiman1/Downloads/outPlanets```"
   ]
  },
  {
   "cell_type": "code",
   "execution_count": 26,
   "metadata": {},
   "outputs": [],
   "source": [
    "output_planet_dir = '/Users/jillnaiman1/Downloads/outPlanets/'"
   ]
  },
  {
   "cell_type": "markdown",
   "metadata": {},
   "source": [
    "Now we need to make some decisions about what our planets will look like.\n",
    "\n",
    "If we recall the order of our planets will be:\n",
    "\n",
    "```planet 1, planet 2, star```\n",
    "\n",
    "Let's remind ourselves of their masses:"
   ]
  },
  {
   "cell_type": "code",
   "execution_count": 27,
   "metadata": {},
   "outputs": [],
   "source": [
    "# make sure convert_kepler_data.py is in your directory as well\n",
    "from convert_kepler_data import read_kepler_data\n",
    "\n",
    "# make sure this datafile is in your local directory\n",
    "kepler_data = read_kepler_data('kepler101data.txt')"
   ]
  },
  {
   "cell_type": "code",
   "execution_count": 28,
   "metadata": {},
   "outputs": [
    {
     "data": {
      "text/plain": [
       "array([0.16, 0.01], dtype=float32)"
      ]
     },
     "execution_count": 28,
     "metadata": {},
     "output_type": "execute_result"
    }
   ],
   "source": [
    "# masses:\n",
    "kepler_data['pMass']\n",
    "\n",
    "# so, 0.16 and 0.01 Jupiter masses"
   ]
  },
  {
   "cell_type": "code",
   "execution_count": 29,
   "metadata": {},
   "outputs": [
    {
     "data": {
      "text/plain": [
       "array([1.17, 1.17], dtype=float32)"
      ]
     },
     "execution_count": 29,
     "metadata": {},
     "output_type": "execute_result"
    }
   ],
   "source": [
    "kepler_data['sMass']"
   ]
  },
  {
   "cell_type": "markdown",
   "metadata": {},
   "source": [
    "There aren't any planets in our solar system (so the textures that we have) with those exact masses but we can estimate that we have a Saturn-ish ($0.3 M_J$) and Neptune-ish ($0.054 M_J$) sized planets and use their textures.\n",
    "\n",
    "Similarly, while this star's mass is a little larger than our Sun, let's assume its about a solar mass and use this mass.  So, in summary:\n",
    "\n",
    "The masses will be:\n",
    "\n",
    "```0.16 Jupiter, 0.01 Jupiter, Solar mass``` \n",
    "\n",
    "So we can use the following textures as a first approximation:\n",
    "\n",
    "```Saturn, Neptune, Sun```\n",
    "\n",
    "with comprable radii."
   ]
  },
  {
   "cell_type": "code",
   "execution_count": 30,
   "metadata": {},
   "outputs": [],
   "source": [
    "texture_files = ['saturn_1024.jpg', 'neptunemap_1000.jpg', 'sun_texture1.jpg']"
   ]
  },
  {
   "cell_type": "code",
   "execution_count": 31,
   "metadata": {},
   "outputs": [],
   "source": [
    "#               Saturn,    Neptune        Sun      \n",
    "PlanetRadius =  [5.8232e9,  2.4622e9, 69.551e9] # cm"
   ]
  },
  {
   "cell_type": "markdown",
   "metadata": {},
   "source": [
    "You have the option to specify colors instead of textures, but we won't be using this option, so you can just put in any place holder colors you want!"
   ]
  },
  {
   "cell_type": "code",
   "execution_count": 32,
   "metadata": {},
   "outputs": [],
   "source": [
    "PlanetColors = [  (1.0, 0, 0),  (1.0, 0.0, 0.0),    (1.0, 0.0, 0.0)]"
   ]
  },
  {
   "cell_type": "markdown",
   "metadata": {},
   "source": [
    "Now let's grab the planet solving library from what we downloaded from the course website:"
   ]
  },
  {
   "cell_type": "code",
   "execution_count": 33,
   "metadata": {},
   "outputs": [],
   "source": [
    "from sys import path\n",
    "# point to where the library is stored\n",
    "path.append(make3dplanets_libdir)\n",
    "# now import make3dplanets\n",
    "from make3dplanets import make3dplanets"
   ]
  },
  {
   "cell_type": "markdown",
   "metadata": {},
   "source": [
    "Just in case things are stored in different places we'll label these explicitly, but you shouldn't have to change this though."
   ]
  },
  {
   "cell_type": "code",
   "execution_count": 34,
   "metadata": {},
   "outputs": [],
   "source": [
    "generic_dir = make3dplanets_libdir\n",
    "textures_dir = make3dplanets_libdir + 'textureMaps/'"
   ]
  },
  {
   "cell_type": "markdown",
   "metadata": {},
   "source": [
    "We also need to pick a timestep to make our static model out of:"
   ]
  },
  {
   "cell_type": "code",
   "execution_count": 35,
   "metadata": {},
   "outputs": [],
   "source": [
    "Nplot = 100"
   ]
  },
  {
   "cell_type": "markdown",
   "metadata": {},
   "source": [
    "Now let's make the planet files!  Note the weird switching of axis in the for loop - this is to make the planet textures \"upright\" w/rt z-axis."
   ]
  },
  {
   "cell_type": "code",
   "execution_count": 38,
   "metadata": {},
   "outputs": [
    {
     "data": {
      "text/plain": [
       "'MyPlanetSystemSingle.obj'"
      ]
     },
     "execution_count": 38,
     "metadata": {},
     "output_type": "execute_result"
    }
   ],
   "source": [
    "PlanetLocation = np.zeros( [len(PlanetRadius), 3] )\n",
    "for p in range(0,len(PlanetRadius)):\n",
    "    PlanetLocation[p,2] = r_h[p,0,Nplot]*AUinCM # units\n",
    "    PlanetLocation[p,0] = r_h[p,1,Nplot]*AUinCM\n",
    "    PlanetLocation[p,1] = r_h[p,2,Nplot]*AUinCM\n",
    "\n",
    "fname = make3dplanets(SystemName, PlanetLocation, PlanetRadius,\n",
    "                      output_planet_dir, generic_dir, textures_dir=textures_dir, \n",
    "                      texture_file=texture_files,  DistanceUnits=AUinCM)\n",
    "\n",
    "fname # see what this is"
   ]
  },
  {
   "cell_type": "markdown",
   "metadata": {},
   "source": [
    "Now, let's open this up in MeshLab and see what we can see! **do it**"
   ]
  },
  {
   "cell_type": "markdown",
   "metadata": {},
   "source": [
    "It is very likely you will see absolutely nothing!  Why is this? Well this is because if we do everything *to scale* the space between the planets is so much larger than the planets & stars themselves that we can't actually see them.  So we are going to make an aethetic choice here and scale up the radii by a large factor.  \n",
    "\n",
    "This is something we would have to add somewhere to the documentation of our viz in order not to confuse our viewers!"
   ]
  },
  {
   "cell_type": "code",
   "execution_count": 39,
   "metadata": {},
   "outputs": [],
   "source": [
    "#               Saturn,    Neptune        Sun      \n",
    "PlanetRadius =  [5.8232e9,  2.4622e9, 69.551e9] # cm\n",
    "for i in range(len(PlanetRadius)): PlanetRadius[i] *= 1000"
   ]
  },
  {
   "cell_type": "code",
   "execution_count": 40,
   "metadata": {},
   "outputs": [],
   "source": [
    "PlanetLocation = np.zeros( [len(PlanetRadius), 3] )\n",
    "for p in range(0,len(PlanetRadius)):\n",
    "    PlanetLocation[p,2] = r_h[p,0,Nplot]*AUinCM # units\n",
    "    PlanetLocation[p,0] = r_h[p,1,Nplot]*AUinCM\n",
    "    PlanetLocation[p,1] = r_h[p,2,Nplot]*AUinCM\n",
    "\n",
    "fname = make3dplanets(SystemName, PlanetLocation, PlanetRadius,\n",
    "                      output_planet_dir, generic_dir, textures_dir=textures_dir, \n",
    "                      texture_file=texture_files,  DistanceUnits=AUinCM)"
   ]
  },
  {
   "cell_type": "markdown",
   "metadata": {},
   "source": [
    "Now if we open this up in MeshLab **(do it)** we see that we can see our little planets!  Hurray!"
   ]
  },
  {
   "cell_type": "markdown",
   "metadata": {},
   "source": [
    "Now we will go through the process of uploading to Sketchfab: **DO IT**"
   ]
  },
  {
   "cell_type": "markdown",
   "metadata": {},
   "source": [
    "### Exercise\n",
    "\n",
    "Do this activity with your planetary model.  First import into MeshLab and then upload to your Sketchfab account.\n",
    "\n",
    "Things to consider:\n",
    "1. Should you rescale anything in your model?  Why or why not?\n",
    "1. What should you choose for the radii of your planets and star?  How do you justify this?\n",
    "1. What should you choose for the texture maps?  What kind of planets and star do you \"think\" these are?"
   ]
  },
  {
   "cell_type": "code",
   "execution_count": null,
   "metadata": {},
   "outputs": [],
   "source": []
  }
 ],
 "metadata": {
  "kernelspec": {
   "display_name": "Python 3",
   "language": "python",
   "name": "python3"
  },
  "language_info": {
   "codemirror_mode": {
    "name": "ipython",
    "version": 3
   },
   "file_extension": ".py",
   "mimetype": "text/x-python",
   "name": "python",
   "nbconvert_exporter": "python",
   "pygments_lexer": "ipython3",
   "version": "3.7.3"
  }
 },
 "nbformat": 4,
 "nbformat_minor": 2
}
