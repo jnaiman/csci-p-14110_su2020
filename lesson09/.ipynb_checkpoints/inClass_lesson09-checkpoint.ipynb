{
 "cells": [
  {
   "cell_type": "code",
   "execution_count": 1,
   "metadata": {},
   "outputs": [],
   "source": [
    "# import our usual things\n",
    "import numpy as np\n",
    "import matplotlib.pyplot as plt\n",
    "%matplotlib inline"
   ]
  },
  {
   "cell_type": "code",
   "execution_count": 2,
   "metadata": {},
   "outputs": [],
   "source": [
    "# import kepler 101 dataset\n",
    "from hermite_library import read_hermite_solution_from_file\n",
    "\n",
    "t_h, E_h, r_h, v_h = read_hermite_solution_from_file('myPlanetSystem_kepler101_solution1.txt')"
   ]
  },
  {
   "cell_type": "code",
   "execution_count": 4,
   "metadata": {},
   "outputs": [],
   "source": [
    "from hermite_library import AUinCM # for converting between AU and cm"
   ]
  },
  {
   "cell_type": "markdown",
   "metadata": {},
   "source": [
    "# Choosing locations of files"
   ]
  },
  {
   "cell_type": "code",
   "execution_count": 5,
   "metadata": {},
   "outputs": [],
   "source": [
    "# specify the directory where the make3dplanets.py is \n",
    "make3dplanets_libdir = './genericPlanetFiles/'"
   ]
  },
  {
   "cell_type": "code",
   "execution_count": 6,
   "metadata": {},
   "outputs": [],
   "source": [
    "# pick a name for our 3D files\n",
    "SystemName = 'myPlanetSystem1'"
   ]
  },
  {
   "cell_type": "code",
   "execution_count": 7,
   "metadata": {},
   "outputs": [],
   "source": [
    "# make a directory where things are going to be stored\n",
    "#!mkdir outPlanets\n",
    "# now I commented because directory exists"
   ]
  },
  {
   "cell_type": "code",
   "execution_count": 41,
   "metadata": {},
   "outputs": [],
   "source": [
    "output_planet_dir = './outPlanets/' # where my planets will be stored"
   ]
  },
  {
   "cell_type": "markdown",
   "metadata": {},
   "source": [
    "# Make aesthecial choices"
   ]
  },
  {
   "cell_type": "code",
   "execution_count": 42,
   "metadata": {},
   "outputs": [],
   "source": [
    "# look again at the kepler dataset to remind ourselves what things look like\n",
    "from convert_kepler_data import read_kepler_data"
   ]
  },
  {
   "cell_type": "code",
   "execution_count": 43,
   "metadata": {},
   "outputs": [],
   "source": [
    "kepler_data = read_kepler_data('kepler101data.txt') # initial conditions, observational"
   ]
  },
  {
   "cell_type": "code",
   "execution_count": 44,
   "metadata": {},
   "outputs": [
    {
     "data": {
      "text/plain": [
       "1.17"
      ]
     },
     "execution_count": 44,
     "metadata": {},
     "output_type": "execute_result"
    }
   ],
   "source": [
    "# mass of the star here in this system\n",
    "kepler_data['sMass'][0] # mass of star in solar masses"
   ]
  },
  {
   "cell_type": "code",
   "execution_count": 45,
   "metadata": {},
   "outputs": [
    {
     "data": {
      "text/plain": [
       "array([0.16, 0.01], dtype=float32)"
      ]
     },
     "execution_count": 45,
     "metadata": {},
     "output_type": "execute_result"
    }
   ],
   "source": [
    "# mass of my planets\n",
    "kepler_data['pMass'] # in Jupiter masses"
   ]
  },
  {
   "cell_type": "code",
   "execution_count": 46,
   "metadata": {},
   "outputs": [],
   "source": [
    "# so these are about the size of Saturn & Neptune, respectively"
   ]
  },
  {
   "cell_type": "code",
   "execution_count": 47,
   "metadata": {},
   "outputs": [],
   "source": [
    "#  order is        first planet       second planet            sun\n",
    "texture_files = ['saturn_1024.jpg', 'neptunemap_1000.jpg', 'sun_texture1.jpg']"
   ]
  },
  {
   "cell_type": "code",
   "execution_count": 64,
   "metadata": {},
   "outputs": [],
   "source": [
    "# approximate the sizes of things by Saturn, Neptune and the sun\n",
    "PlanetRadius = np.array([5.823e9, 2.46e9, 69.55e9])*2 # cm\n",
    "#               Saturn   Neptune  Sun"
   ]
  },
  {
   "cell_type": "code",
   "execution_count": 65,
   "metadata": {},
   "outputs": [
    {
     "data": {
      "text/plain": [
       "array([1.1646e+10, 4.9200e+09, 1.3910e+11])"
      ]
     },
     "execution_count": 65,
     "metadata": {},
     "output_type": "execute_result"
    }
   ],
   "source": [
    "PlanetRadius"
   ]
  },
  {
   "cell_type": "markdown",
   "metadata": {},
   "source": [
    "# Start putting all this information together"
   ]
  },
  {
   "cell_type": "code",
   "execution_count": 66,
   "metadata": {},
   "outputs": [],
   "source": [
    "# 1. tell python where to look for files\n",
    "from sys import path\n",
    "path.append(make3dplanets_libdir)\n",
    "from make3dplanets import make3dplanets"
   ]
  },
  {
   "cell_type": "code",
   "execution_count": 67,
   "metadata": {},
   "outputs": [],
   "source": [
    "# rename a few things for sanity's sake\n",
    "generic_dir = make3dplanets_libdir # generic planet files\n",
    "textures_dir = make3dplanets_libdir + '/textureMaps/' # textures are "
   ]
  },
  {
   "cell_type": "markdown",
   "metadata": {},
   "source": [
    "# Finally - run function to make 3d geometry"
   ]
  },
  {
   "cell_type": "code",
   "execution_count": 68,
   "metadata": {},
   "outputs": [],
   "source": [
    "# what time step to make a file out of\n",
    "Nplot = 100"
   ]
  },
  {
   "cell_type": "code",
   "execution_count": 69,
   "metadata": {},
   "outputs": [],
   "source": [
    "# format my planet locations"
   ]
  },
  {
   "cell_type": "code",
   "execution_count": 70,
   "metadata": {},
   "outputs": [],
   "source": [
    "# at this timestep (Nplot timestep) our planet will be located at PlanetLocation\n",
    "# start with an empty PlanetLocation vector:\n",
    "PlanetLocation = np.zeros([len(PlanetRadius), 3]) # initialize format\n",
    "# fill PlanetLocation with positions from r_h, our simulation data at timestep Nplot\n",
    "for p in range(0,len(PlanetRadius)): # loop over each planet\n",
    "    PlanetLocation[p,2] = r_h[p, 0, Nplot]*AUinCM # swapping z & x, and converting to cm\n",
    "    PlanetLocation[p,0] = r_h[p, 1, Nplot]*AUinCM # swapping x & y, converting\n",
    "    PlanetLocation[p,1] = r_h[p, 2, Nplot]*AUinCM # swapping y & z, converting\n"
   ]
  },
  {
   "cell_type": "code",
   "execution_count": 71,
   "metadata": {},
   "outputs": [],
   "source": [
    "# use all this information to make a 3d geometry file\n",
    "fname = make3dplanets(SystemName, PlanetLocation, PlanetRadius, \n",
    "                     output_planet_dir, generic_dir, textures_dir=textures_dir, \n",
    "                     texture_file=texture_files, DistanceUnits=AUinCM)"
   ]
  },
  {
   "cell_type": "code",
   "execution_count": 55,
   "metadata": {},
   "outputs": [
    {
     "data": {
      "text/plain": [
       "'myPlanetSystem1.obj'"
      ]
     },
     "execution_count": 55,
     "metadata": {},
     "output_type": "execute_result"
    }
   ],
   "source": [
    "fname"
   ]
  },
  {
   "cell_type": "markdown",
   "metadata": {},
   "source": [
    "## Exercise\n",
    "Do this for your dataset (not the Kepler 101 dataset). Upload a model + textures to sketchfab.\n",
    "\n",
    "Consider:\n",
    "1. What textures you're going to use? (What do you think your planet looks like?)\n",
    "1. Do you want to change the size (PlanetRadius), if so, make sure you note by how much.\n",
    "\n",
    "Other things:\n",
    "1. Try other timesteps.\n",
    "1. Look over the galaxy data\n",
    "1. Try another model - either seperate file upload OR in same box, offset\n",
    "1. Start building a data-viz blog"
   ]
  },
  {
   "cell_type": "code",
   "execution_count": 74,
   "metadata": {},
   "outputs": [],
   "source": [
    "from rebound import data\n",
    "import rebound"
   ]
  },
  {
   "cell_type": "code",
   "execution_count": 75,
   "metadata": {},
   "outputs": [],
   "source": [
    "sim = rebound.Simulation()"
   ]
  },
  {
   "cell_type": "code",
   "execution_count": 77,
   "metadata": {},
   "outputs": [],
   "source": [
    "data.add_outer_solar_system(sim)"
   ]
  },
  {
   "cell_type": "code",
   "execution_count": 86,
   "metadata": {},
   "outputs": [
    {
     "name": "stdout",
     "output_type": "stream",
     "text": [
      "number parts  6\n"
     ]
    }
   ],
   "source": [
    "# counts particles\n",
    "Nparts = 0\n",
    "for p in sim.particles:\n",
    "    Nparts += 1\n",
    "print('number parts ', Nparts)"
   ]
  },
  {
   "cell_type": "code",
   "execution_count": 91,
   "metadata": {},
   "outputs": [],
   "source": [
    "# timestep counter\n",
    "steps = 0 \n",
    "Nsteps = 100\n",
    "delta_t = 1.0e2\n",
    "# Integrate until t=1e4 (unit of time in this example is days)\n",
    "# r_h[# particles, #of coord, #timesteps]\n",
    "r_h = np.zeros([Nparts, 3, Nsteps])\n",
    "#r_h.shape"
   ]
  },
  {
   "cell_type": "code",
   "execution_count": 92,
   "metadata": {},
   "outputs": [],
   "source": [
    "for i in range(Nsteps):\n",
    "    tmax = delta_t*i\n",
    "    sim.integrate(tmax) # integrate to current timestep\n",
    "    # Print particle positions \n",
    "    for j,p in enumerate(sim.particles):\n",
    "        #     time       x    y    z \n",
    "        #print(j,sim.t, p.x, p.y, p.z)\n",
    "        r_h[j, 0, i] = p.x\n",
    "        r_h[j, 1, i] = p.y\n",
    "        r_h[j, 2, i] = p.z\n",
    "\n"
   ]
  },
  {
   "cell_type": "code",
   "execution_count": 94,
   "metadata": {},
   "outputs": [
    {
     "data": {
      "text/plain": [
       "(6, 3, 100)"
      ]
     },
     "execution_count": 94,
     "metadata": {},
     "output_type": "execute_result"
    }
   ],
   "source": [
    "r_h.shape"
   ]
  },
  {
   "cell_type": "code",
   "execution_count": 95,
   "metadata": {},
   "outputs": [],
   "source": [
    "import ipyvolume"
   ]
  },
  {
   "cell_type": "code",
   "execution_count": 96,
   "metadata": {},
   "outputs": [
    {
     "data": {
      "application/vnd.jupyter.widget-view+json": {
       "model_id": "46f934ddc05c4ab49d44d7094ce52671",
       "version_major": 2,
       "version_minor": 0
      },
      "text/plain": [
       "VBox(children=(Figure(camera=PerspectiveCamera(fov=46.0, position=(0.0, 0.0, 2.0), quaternion=(0.0, 0.0, 0.0, …"
      ]
     },
     "metadata": {},
     "output_type": "display_data"
    }
   ],
   "source": [
    "x = r_h[:,0,:].ravel()\n",
    "y = r_h[:,1,:].ravel()\n",
    "z = r_h[:,2,:].ravel()\n",
    "ipyvolume.quickscatter(x, y, z, \n",
    "                       size=1, marker=\"sphere\")"
   ]
  },
  {
   "cell_type": "code",
   "execution_count": null,
   "metadata": {},
   "outputs": [],
   "source": []
  }
 ],
 "metadata": {
  "kernelspec": {
   "display_name": "Python 3",
   "language": "python",
   "name": "python3"
  },
  "language_info": {
   "codemirror_mode": {
    "name": "ipython",
    "version": 3
   },
   "file_extension": ".py",
   "mimetype": "text/x-python",
   "name": "python",
   "nbconvert_exporter": "python",
   "pygments_lexer": "ipython3",
   "version": "3.7.3"
  }
 },
 "nbformat": 4,
 "nbformat_minor": 2
}
