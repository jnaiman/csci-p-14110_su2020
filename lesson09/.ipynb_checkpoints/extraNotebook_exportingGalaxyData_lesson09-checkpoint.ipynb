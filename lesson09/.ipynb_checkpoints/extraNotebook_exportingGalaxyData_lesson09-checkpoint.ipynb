{
 "cells": [
  {
   "cell_type": "markdown",
   "metadata": {},
   "source": [
    "# Extra Module: Exporting Galaxy data\n",
    "\n",
    "While we won't go through this as a class, here are some tips to get started with how to export PLY files of galaxy simulations for Sketchfab.\n",
    "\n",
    "Remember: these aren't easily loaded into MeshLab for fast debugging so you probably want to start looking at the planetary models first."
   ]
  },
  {
   "cell_type": "code",
   "execution_count": 1,
   "metadata": {},
   "outputs": [],
   "source": [
    "# import our usual\n",
    "import numpy as np\n",
    "import matplotlib.pyplot as plt\n",
    "%matplotlib inline"
   ]
  },
  {
   "cell_type": "markdown",
   "metadata": {},
   "source": [
    "Now, let's link to where our ```solverlibs.py``` is stored:"
   ]
  },
  {
   "cell_type": "code",
   "execution_count": 2,
   "metadata": {},
   "outputs": [],
   "source": [
    "from sys import path\n",
    "path.append('/Users/jillnaiman1/Downloads') \n",
    "from solverlibs import read_in_galaxy_data"
   ]
  },
  {
   "cell_type": "markdown",
   "metadata": {},
   "source": [
    "Now we'll read in a simulation file which gives positions of all particles as a function of time.  First, let's define the main ```galaxyFiles``` directory:"
   ]
  },
  {
   "cell_type": "code",
   "execution_count": 3,
   "metadata": {},
   "outputs": [],
   "source": [
    "galaxy_dir = '/Users/jillnaiman1/Downloads/galaxyFiles/'"
   ]
  },
  {
   "cell_type": "markdown",
   "metadata": {},
   "source": [
    "There are several different resolutions of simulation files with more particles = more memory and slower load times.  You can see this with a ```du -h -s *``` in the ```galaxyFiles``` directory:\n",
    "\n",
    "```148M\toutarrsnap_001_fac1n2.txt\n",
    " 49M\toutarrsnap_001_fac1n2_nt500.txt\n",
    "7.0M\toutarrsnap_001_fac1n3.txt```\n",
    "\n",
    "We'll start with the smallest one to first test with:"
   ]
  },
  {
   "cell_type": "code",
   "execution_count": 4,
   "metadata": {},
   "outputs": [],
   "source": [
    "galaxy_file = 'outarrsnap_001_fac1n3.txt'"
   ]
  },
  {
   "cell_type": "markdown",
   "metadata": {},
   "source": [
    "We'll read in our file with columns:\n",
    "\n",
    "1. time (N-body units)\n",
    "1. position vectors at each time (kpc)\n",
    "1. velocity vectors (km/s)\n",
    "1. energy (N-body units)\n",
    "1. particle type\n",
    "\n",
    "Outputs:\n",
    "1. time (N-body units)\n",
    "1. position vectors at each time (kpc)\n",
    "1. velocity vectors (km/s)\n",
    "1. energy (N-body units)\n",
    "1. number of particles (dark matter & stars)\n",
    "1. particle type\n",
    "\n"
   ]
  },
  {
   "cell_type": "code",
   "execution_count": 5,
   "metadata": {},
   "outputs": [],
   "source": [
    "t_h, r_h, v_h, e_h, N, part_type = \\\n",
    "     read_in_galaxy_data(galaxy_dir+galaxy_file)"
   ]
  },
  {
   "cell_type": "markdown",
   "metadata": {},
   "source": [
    "### Exercise\n",
    "\n",
    "Start by making several 2D plots and movies - this will help give you a feel for what is going on in this dataset."
   ]
  },
  {
   "cell_type": "markdown",
   "metadata": {},
   "source": [
    "Where do we want to store our PLY files?"
   ]
  },
  {
   "cell_type": "code",
   "execution_count": 6,
   "metadata": {},
   "outputs": [],
   "source": [
    "outputDir = '/Users/jillnaiman1/Downloads/plyFiles/'"
   ]
  },
  {
   "cell_type": "markdown",
   "metadata": {},
   "source": [
    "What shall we name the individual files?"
   ]
  },
  {
   "cell_type": "code",
   "execution_count": 7,
   "metadata": {},
   "outputs": [],
   "source": [
    "galaxy_ply_name = 'bob_the_galaxy'"
   ]
  },
  {
   "cell_type": "markdown",
   "metadata": {},
   "source": [
    "We have many timesteps, which one do we want to use?"
   ]
  },
  {
   "cell_type": "code",
   "execution_count": 8,
   "metadata": {},
   "outputs": [],
   "source": [
    "Nplot = 100"
   ]
  },
  {
   "cell_type": "markdown",
   "metadata": {},
   "source": [
    "We also need to choose colors for each of our kinds of particles.  We'll chose:\n",
    "\n",
    "``` 0 = Halo: red = (255, 0, 0) ```\n",
    "\n",
    "``` 1 = Stars: blue = (0, 0, 255) ```"
   ]
  },
  {
   "cell_type": "code",
   "execution_count": 9,
   "metadata": {},
   "outputs": [],
   "source": [
    "# how many particle types?\n",
    "# 0 = Halo: red\n",
    "# 1 = Stars: blue\n",
    "colors = [(255,0,0),  (0,0,255)]"
   ]
  },
  {
   "cell_type": "markdown",
   "metadata": {},
   "source": [
    "Let's give it a shot!"
   ]
  },
  {
   "cell_type": "code",
   "execution_count": 10,
   "metadata": {},
   "outputs": [
    {
     "name": "stdout",
     "output_type": "stream",
     "text": [
      "Wrote: /Users/jillnaiman1/Downloads/plyFiles/bob_the_galaxy\n"
     ]
    }
   ],
   "source": [
    "from solverlibs import write_galaxy_snap\n",
    "\n",
    "write_galaxy_snap(r_h, \n",
    "                  part_type, \n",
    "                  colors, \n",
    "                  Nplot, \n",
    "                  outputDir, \n",
    "                  galaxy_ply_name)"
   ]
  },
  {
   "cell_type": "markdown",
   "metadata": {},
   "source": [
    "Now you can upload the file ```/Users/jillnaiman1/Downloads/plyFiles/bob_the_galaxy.ply``` to Sketchfab.\n",
    "\n",
    "Note that you will likely have a hard time seeing things.  On the right-hand panel go to ```3D Settings``` and under **Scene** $\\rightarrow$ **Point Cloud** increase the point size to its max. \n",
    "\n",
    "You may also want to try to make a darker background by going to **Background** $\\rightarrow$ **Brightness** and setting it to zero."
   ]
  },
  {
   "cell_type": "code",
   "execution_count": null,
   "metadata": {},
   "outputs": [],
   "source": []
  }
 ],
 "metadata": {
  "kernelspec": {
   "display_name": "Python 3",
   "language": "python",
   "name": "python3"
  },
  "language_info": {
   "codemirror_mode": {
    "name": "ipython",
    "version": 3
   },
   "file_extension": ".py",
   "mimetype": "text/x-python",
   "name": "python",
   "nbconvert_exporter": "python",
   "pygments_lexer": "ipython3",
   "version": "3.7.3"
  }
 },
 "nbformat": 4,
 "nbformat_minor": 2
}
