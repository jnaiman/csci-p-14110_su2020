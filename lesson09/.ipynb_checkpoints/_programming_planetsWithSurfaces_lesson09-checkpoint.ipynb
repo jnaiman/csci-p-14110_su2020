{
 "cells": [
  {
   "cell_type": "markdown",
   "metadata": {},
   "source": [
    "# Day 9, Part 1 - stills with planet surfaces"
   ]
  },
  {
   "cell_type": "code",
   "execution_count": 1,
   "metadata": {},
   "outputs": [],
   "source": [
    "# import our usual stuffs\n",
    "import numpy as np\n",
    "\n",
    "AUinCM = 1.496e13"
   ]
  },
  {
   "cell_type": "markdown",
   "metadata": {},
   "source": [
    "You can just use this to read in a file from a simulation that you like, but just in case, we'll load in our hermite solver and run a sim:"
   ]
  },
  {
   "cell_type": "code",
   "execution_count": 2,
   "metadata": {},
   "outputs": [],
   "source": [
    "from sys import path\n",
    "path.append('../lesson02/')\n",
    "\n",
    "from hermite_library import do_hermite\n",
    "\n",
    "star_mass = 1.0 # stellar mass in Msun\n",
    "planet_masses = np.array( [1.0, 0.05] ) # planet masses in Mjupiter\n",
    "\n",
    "# [x,y,z] coords for each planet in AU\n",
    "# NOTE: no z-coords!  These will be set to zero later on if you make them non-zero\n",
    "planet_initial_position = np.array([ [5.0, 0.0, 6.0], \n",
    "                                     [10.0, 0.0, 3.0] ])\n",
    "\n",
    "# planet's velocity at each position in km/s\n",
    "# NOTE: no z-velocities!  These will be set to zero later on if you make them non-zero\n",
    "planet_initial_velocity = np.array([ [0.0, 10.0, 1.0], \n",
    "                                     [0.0, -5.0, 0.0]])\n",
    "\n",
    "# h is for hermite!\n",
    "r_h, v_h, t_h, e_h = do_hermite(star_mass, \n",
    "                                planet_masses, \n",
    "                                planet_initial_position, \n",
    "                                planet_initial_velocity, \n",
    "                               tfinal=20, Nsteps=880, \n",
    "                               threeDee=True)"
   ]
  },
  {
   "cell_type": "markdown",
   "metadata": {},
   "source": [
    "To load and save things correctly, we need to define a few file structures:\n",
    "\n",
    "First: \n",
    "\n",
    "This will point to the directory where generic.obj, generic.mtl, make3dplanets.py, etc is stored.  \n",
    "\n",
    "This is the unzipped \"genericPlanetFiles.zip\" you can download from the website & unpack.\n"
   ]
  },
  {
   "cell_type": "code",
   "execution_count": 3,
   "metadata": {},
   "outputs": [],
   "source": [
    "make3dplanets_libdir = '/Users/jillnaiman1/Downloads/planetFiles/'"
   ]
  },
  {
   "cell_type": "markdown",
   "metadata": {},
   "source": [
    "Now we'll name your planet system.  This is the name of the directory where the .obj and .mtl and texture files will be stored."
   ]
  },
  {
   "cell_type": "code",
   "execution_count": 4,
   "metadata": {},
   "outputs": [],
   "source": [
    "SystemName = 'MyPlanetSystemSingle' "
   ]
  },
  {
   "cell_type": "markdown",
   "metadata": {},
   "source": [
    "Now list the full path where the SystemName directory where all the generated obj and mtl files will be stored.  \n",
    "\n",
    "If this directory doesn't exist, make sure to mkdir it with something like:\n",
    "```!mkdir /Users/jillnaiman1/Downloads/outPlanets```"
   ]
  },
  {
   "cell_type": "code",
   "execution_count": 5,
   "metadata": {},
   "outputs": [],
   "source": [
    "output_planet_dir = '/Users/jillnaiman1/Downloads/outPlanets/'"
   ]
  },
  {
   "cell_type": "markdown",
   "metadata": {},
   "source": [
    "Now we need to make some decisions about what our planets will look like.\n",
    "\n",
    "If we recall the order of our planets will be:\n",
    "\n",
    "```planet 1, planet 2, star```\n",
    "\n",
    "And their masses will be:\n",
    "\n",
    "```1.0 Jupiter, 0.05 Jupiter, Solar mass```\n",
    "\n",
    "If we check out the \"mass of jupiter wiki page we see that our 2nd planet has about the size of Neptune: https://en.wikipedia.org/wiki/Jupiter_mass \n",
    "\n",
    "So we can use the following textures as a first approximation:\n",
    "\n",
    "```Jupiter, Neptune, Sun```\n",
    "\n",
    "with comprable radii."
   ]
  },
  {
   "cell_type": "code",
   "execution_count": 6,
   "metadata": {},
   "outputs": [],
   "source": [
    "texture_files = ['jupiter_1200.jpg', 'neptunemap_1000.jpg', 'sun_texture1.jpg']"
   ]
  },
  {
   "cell_type": "code",
   "execution_count": 67,
   "metadata": {},
   "outputs": [],
   "source": [
    "#               Jupiter,    Neptune        Sun      \n",
    "PlanetRadius =  [7.1492e9,  2.4622e9, 69.551e9] # cm"
   ]
  },
  {
   "cell_type": "markdown",
   "metadata": {},
   "source": [
    "You have the option to specify colors instead of textures, but we won't be using this option, so you can just put in any place holder colors you want!"
   ]
  },
  {
   "cell_type": "code",
   "execution_count": 68,
   "metadata": {},
   "outputs": [],
   "source": [
    "PlanetColors = [  (1.0, 0, 0),  (1.0, 0.0, 0.0),    (1.0, 0.0, 0.0)]"
   ]
  },
  {
   "cell_type": "markdown",
   "metadata": {},
   "source": [
    "Now let's grab the planet solving library from what we downloaded from the course website:"
   ]
  },
  {
   "cell_type": "code",
   "execution_count": 69,
   "metadata": {},
   "outputs": [],
   "source": [
    "from sys import path\n",
    "# point to where the library is stored\n",
    "path.append(make3dplanets_libdir)\n",
    "# now import make3dplanets\n",
    "from make3dplanets import make3dplanets"
   ]
  },
  {
   "cell_type": "markdown",
   "metadata": {},
   "source": [
    "Just in case things are stored in different places we'll label these explicitly, but you shouldn't have to change this though."
   ]
  },
  {
   "cell_type": "code",
   "execution_count": 70,
   "metadata": {},
   "outputs": [],
   "source": [
    "generic_dir = make3dplanets_libdir\n",
    "textures_dir = make3dplanets_libdir + 'textureMaps/'"
   ]
  },
  {
   "cell_type": "markdown",
   "metadata": {},
   "source": [
    "We also need to pick a timestep to make our static model out of:"
   ]
  },
  {
   "cell_type": "code",
   "execution_count": 71,
   "metadata": {},
   "outputs": [],
   "source": [
    "Nplot = 100"
   ]
  },
  {
   "cell_type": "markdown",
   "metadata": {},
   "source": [
    "Now let's make the planet files!  Note the weird switching of axis in the for loop - this is to make the planet textures \"upright\" w/rt z-axis."
   ]
  },
  {
   "cell_type": "code",
   "execution_count": 73,
   "metadata": {},
   "outputs": [],
   "source": [
    "PlanetLocation = np.zeros( [len(PlanetRadius), 3] )\n",
    "for p in range(0,len(PlanetRadius)):\n",
    "    PlanetLocation[p,2] = r_h[p,0,Nplot]*AUinCM # units\n",
    "    PlanetLocation[p,0] = r_h[p,1,Nplot]*AUinCM\n",
    "    PlanetLocation[p,1] = r_h[p,2,Nplot]*AUinCM\n",
    "\n",
    "fname = make3dplanets(SystemName, PlanetLocation, PlanetRadius,\n",
    "                      output_planet_dir, generic_dir, textures_dir=textures_dir, \n",
    "                      texture_file=texture_files,  DistanceUnits=AUinCM)"
   ]
  },
  {
   "cell_type": "markdown",
   "metadata": {},
   "source": [
    "Now, let's open this up in MeshLab and see what we can see! **do it**"
   ]
  },
  {
   "cell_type": "markdown",
   "metadata": {},
   "source": [
    "It is very likely you will see absolutely nothing!  Why is this? Well this is because if we do everything *to scale* the space between the planets is so much larger than the planets & stars themselves that we can't actually see them.  So we are going to make an aethetic choice here and scale up the radii by a large factor.  \n",
    "\n",
    "This is something we would have to add somewhere to the documentation of our viz in order not to confuse our viewers!"
   ]
  },
  {
   "cell_type": "code",
   "execution_count": 78,
   "metadata": {},
   "outputs": [],
   "source": [
    "#               Jupiter,    Neptune        Sun      \n",
    "PlanetRadius =  [7.1492e9,  2.4622e9, 69.551e9] # cm\n",
    "for i in range(len(PlanetRadius)): PlanetRadius[i] *= 1000"
   ]
  },
  {
   "cell_type": "code",
   "execution_count": 79,
   "metadata": {},
   "outputs": [],
   "source": [
    "PlanetLocation = np.zeros( [len(PlanetRadius), 3] )\n",
    "for p in range(0,len(PlanetRadius)):\n",
    "    PlanetLocation[p,2] = r_h[p,0,Nplot]*AUinCM # units\n",
    "    PlanetLocation[p,0] = r_h[p,1,Nplot]*AUinCM\n",
    "    PlanetLocation[p,1] = r_h[p,2,Nplot]*AUinCM\n",
    "\n",
    "fname = make3dplanets(SystemName, PlanetLocation, PlanetRadius,\n",
    "                      output_planet_dir, generic_dir, textures_dir=textures_dir, \n",
    "                      texture_file=texture_files,  DistanceUnits=AUinCM)"
   ]
  },
  {
   "cell_type": "markdown",
   "metadata": {},
   "source": [
    "Now if we open this up in MeshLab **(do it)** we see that we can see our little planets!  Hurray!"
   ]
  },
  {
   "cell_type": "markdown",
   "metadata": {},
   "source": [
    "Now we will go through the process of uploading to Sketchfab: **DO IT**"
   ]
  },
  {
   "cell_type": "markdown",
   "metadata": {},
   "source": [
    "### Exercise\n",
    "\n",
    "Do this activity with your planetary model.  First import into MeshLab and then upload to your Sketchfab account.\n",
    "\n",
    "Things to consider:\n",
    "1. Should you rescale anything in your model?  Why or why not?\n",
    "1. What should you choose for the radii of your planets and star?  How do you justify this?\n",
    "1. What should you choose for the texture maps?  What kind of planets and star do you \"think\" these are?"
   ]
  },
  {
   "cell_type": "code",
   "execution_count": null,
   "metadata": {},
   "outputs": [],
   "source": []
  }
 ],
 "metadata": {
  "kernelspec": {
   "display_name": "Python 3",
   "language": "python",
   "name": "python3"
  },
  "language_info": {
   "codemirror_mode": {
    "name": "ipython",
    "version": 3
   },
   "file_extension": ".py",
   "mimetype": "text/x-python",
   "name": "python",
   "nbconvert_exporter": "python",
   "pygments_lexer": "ipython3",
   "version": "3.7.3"
  }
 },
 "nbformat": 4,
 "nbformat_minor": 2
}
