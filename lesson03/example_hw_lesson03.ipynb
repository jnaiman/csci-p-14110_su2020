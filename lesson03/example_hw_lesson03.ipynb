{
 "cells": [
  {
   "cell_type": "markdown",
   "metadata": {},
   "source": [
    "# Homework #3: \n",
    "\n",
    "Name: Jill Naiman"
   ]
  },
  {
   "cell_type": "markdown",
   "metadata": {},
   "source": [
    "## Question 1: \n",
    "\n",
    "This question is meant to help you practice your function declarations and for-loops. \n",
    "\n",
    "Write a function that takes in two *integer* numbers.\n",
    "\n",
    "If the first integer is smaller than the second, use a for-loop to print out each whole number from the smallest (first input) to the largest (second input).\n",
    "\n",
    "For example if you have:\n",
    "\n",
    "```python\n",
    "int1 = 5\n",
    "int2 = 10\n",
    "```\n",
    "then your output should be:\n",
    "```python\n",
    "5\n",
    "6\n",
    "7\n",
    "8\n",
    "9\n",
    "10\n",
    "```"
   ]
  },
  {
   "cell_type": "code",
   "execution_count": 3,
   "metadata": {},
   "outputs": [],
   "source": [
    "# your code goes here"
   ]
  },
  {
   "cell_type": "markdown",
   "metadata": {},
   "source": [
    "## Question 2:\n",
    "\n",
    "Write a function that allows for the input of a country name and the output is a plot showing the number of corgis born as a function of time from the following dataset: https://raw.githubusercontent.com/UIUC-iSchool-DataViz/spring2020/master/week12/corg/corgs_per_country_over_time_columns_2020.csv\n",
    "\n",
    "To do this you should:\n",
    "1. read in the dataset using Pandas\n",
    "1. write a function that has an argument for one of the country codes from the dataset's columns and plots corgis as a function of time for the chosen country\n",
    "\n",
    "Bonus:\n",
    "1. do error checking on the input argument - if its not one of the countries in the dataset, print out an error message\n",
    "1. include axis labels and a country label (how would you do a country label? where would you put it?)\n",
    "1. allow for multiple countries input as a list (how would you specify each country? a *legend* perhaps?)"
   ]
  },
  {
   "cell_type": "code",
   "execution_count": 4,
   "metadata": {},
   "outputs": [],
   "source": [
    "# your code goes here"
   ]
  },
  {
   "cell_type": "code",
   "execution_count": null,
   "metadata": {},
   "outputs": [],
   "source": []
  }
 ],
 "metadata": {
  "kernelspec": {
   "display_name": "Python 3",
   "language": "python",
   "name": "python3"
  },
  "language_info": {
   "codemirror_mode": {
    "name": "ipython",
    "version": 3
   },
   "file_extension": ".py",
   "mimetype": "text/x-python",
   "name": "python",
   "nbconvert_exporter": "python",
   "pygments_lexer": "ipython3",
   "version": "3.7.7"
  }
 },
 "nbformat": 4,
 "nbformat_minor": 4
}
