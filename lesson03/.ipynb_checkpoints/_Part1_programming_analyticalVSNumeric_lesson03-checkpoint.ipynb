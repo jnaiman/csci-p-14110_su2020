{
 "cells": [
  {
   "cell_type": "markdown",
   "metadata": {},
   "source": [
    "# Day 3, Part 1: Two body motion, analytical and numeric"
   ]
  },
  {
   "cell_type": "code",
   "execution_count": 2,
   "metadata": {},
   "outputs": [],
   "source": [
    "import numpy as np\n",
    "import matplotlib.pyplot as plt\n",
    "%matplotlib inline"
   ]
  },
  {
   "cell_type": "markdown",
   "metadata": {},
   "source": [
    "Let's begin by defining the mass of the star we are interested in.  We'll start with something that is the mass of the Sun."
   ]
  },
  {
   "cell_type": "code",
   "execution_count": 3,
   "metadata": {},
   "outputs": [],
   "source": [
    "# mass of particle 1 in solar masses\n",
    "mass_of_star = 1.0"
   ]
  },
  {
   "cell_type": "markdown",
   "metadata": {},
   "source": [
    "Let's also initialize $v_0 = v_p$ and $r_0 = r_p$ - values at perhelion.  For reference let's check out the image again:\n",
    "![](http://ffden-2.phys.uaf.edu/webproj/211_fall_2016/Mikayla_Grunin/mikayla_grunin/Photo3.html.gif)"
   ]
  },
  {
   "cell_type": "code",
   "execution_count": 4,
   "metadata": {},
   "outputs": [],
   "source": [
    "# distance of m2 at closest approach (pericenter)\n",
    "rp = 1.0 # in AU - these are the distance from Sun to Earth units\n",
    "# velocity of m2 at this closest approach distance\n",
    "# we assume vp of the larger mass (m1) is negligable\n",
    "vp = 35.0 # in km/s"
   ]
  },
  {
   "cell_type": "markdown",
   "metadata": {},
   "source": [
    "We'll also need some conversion factors:"
   ]
  },
  {
   "cell_type": "code",
   "execution_count": 5,
   "metadata": {},
   "outputs": [],
   "source": [
    "# unit conversions\n",
    "MassOfSun = 2e33 # g\n",
    "MassOfJupiter = 1.898e30 # g\n",
    "AUinCM = 1.496e13 # cm\n",
    "kmincm = 1e5 # cm/km\n",
    "G = 6.674e-8 # gravitational constant in cm^3 g^-1 s^-2"
   ]
  },
  {
   "cell_type": "markdown",
   "metadata": {},
   "source": [
    "Note that astronomers use weird units - centimeters and grams - wait until we get to parsecs!\n",
    "\n",
    "Now, let's convert units so we can calculate things."
   ]
  },
  {
   "cell_type": "code",
   "execution_count": 6,
   "metadata": {},
   "outputs": [],
   "source": [
    "mass_of_star = mass_of_star*MassOfSun\n",
    "vp = vp*kmincm\n",
    "rp = rp*AUinCM"
   ]
  },
  {
   "cell_type": "markdown",
   "metadata": {},
   "source": [
    "## Analytical solution\n",
    "\n",
    "The first thing we want to do is construct the analytical solution.  We'll use some relations to calculate the eccentricity and semi-major axis:"
   ]
  },
  {
   "cell_type": "code",
   "execution_count": 7,
   "metadata": {},
   "outputs": [
    {
     "name": "stdout",
     "output_type": "stream",
     "text": [
      "Eccentricity = 0.37293976625711744\n",
      "Orbital Period = 63373146.36904171 sec\n"
     ]
    }
   ],
   "source": [
    "# analytically here are the constants we need to define to solve:\n",
    "ecc = rp*vp*vp/(G*(mass_of_star)) - 1.0\n",
    "a = rp/(1.0 - ecc)\n",
    "\n",
    "# print some interesting things\n",
    "print('Eccentricity = ' + str(ecc))\n",
    "Porb = np.sqrt( 4.0*np.pi**2.0*a**3.0/(G*(mass_of_star)) )\n",
    "print('Orbital Period = ' + str(Porb) + ' sec')\n"
   ]
  },
  {
   "cell_type": "markdown",
   "metadata": {},
   "source": [
    "We also, for the time begin, only want to do elliptical/circular orbits, let's put in some checks for that:"
   ]
  },
  {
   "cell_type": "code",
   "execution_count": 8,
   "metadata": {},
   "outputs": [
    {
     "name": "stdout",
     "output_type": "stream",
     "text": [
      "everything looks good, lets go!\n"
     ]
    }
   ],
   "source": [
    "if (ecc < 0):\n",
    "    print('eccentricity is less than zero, we should stop!')\n",
    "elif (ecc >= 1):\n",
    "    print('eccentricity is greater than one')\n",
    "    print(' this is a parabolic or hyperbolic orbit, we should stop!')\n",
    "else:\n",
    "    print('everything looks good, lets go!')"
   ]
  },
  {
   "cell_type": "markdown",
   "metadata": {},
   "source": [
    "### Exercise\n",
    "Use the above information to plot r(theta).\n",
    "\n",
    "Recall: $r(\\theta) = \\frac{a (1-e^2)}{1 + e cos(\\theta)}$\n",
    "\n",
    "Don't forget to label your axis with the correct coordinates!\n",
    "\n",
    "Bonus: use other $r_p$ and $v_p$ values to see how your plot changes!"
   ]
  },
  {
   "cell_type": "markdown",
   "metadata": {},
   "source": [
    "## Euler's Numerical Solution\n",
    "Redo this calculation with our numerical methods.  A few things that might be useful.  First, calculating the acceleration due to gravity:"
   ]
  },
  {
   "cell_type": "code",
   "execution_count": 9,
   "metadata": {},
   "outputs": [],
   "source": [
    "# mStar is the mass of the central star, rStar is the *vector*\n",
    "#  from planet to mass of star\n",
    "def calcAcc(mStar, rStar):\n",
    "    mag_r = (rStar[0]**2 + rStar[1]**2)**0.5\n",
    "    mag_a = -G*mStar/mag_r**2\n",
    "    # how about direction?  It's along rStar\n",
    "    #  but we need to make sure this direction\n",
    "    #  vector is a \"hat\" i.e. a unit vector\n",
    "    # We want the direction only:\n",
    "    unitVector = rStar/mag_r\n",
    "    return mag_a*unitVector\n"
   ]
  },
  {
   "cell_type": "markdown",
   "metadata": {},
   "source": [
    "Let's recall that $\\vec{r}_p$ is the vector from the star to the planet, and $\\vec{v}_p$ is the velocity vector - this vector will be perpendicular to the orbit.\n",
    "\n",
    "We can plot this on our elliptical plot before!\n",
    "\n",
    "We'll use: https://matplotlib.org/3.1.0/api/_as_gen/matplotlib.pyplot.arrow.html\n",
    "\n",
    "First we'll plot the elliptical path, with a dashed line."
   ]
  },
  {
   "cell_type": "code",
   "execution_count": 10,
   "metadata": {},
   "outputs": [
    {
     "data": {
      "image/png": "[encoded data removed]",
      "text/plain": [
       "<Figure size 720x720 with 1 Axes>"
      ]
     },
     "metadata": {
      "needs_background": "light"
     },
     "output_type": "display_data"
    }
   ],
   "source": [
    "# now, generate the theta array\n",
    "ntheta = 500 # number of points for theta\n",
    "th_an = np.linspace(0, 360, ntheta)\n",
    "\n",
    "# now, create r(theta)\n",
    "r_an = (a*(1-ecc*ecc))/(1.0 + ecc*np.cos( th_an*np.pi/180.0 ))\n",
    "\n",
    "# for plotting -> x/y coords for m2\n",
    "x_an = r_an*np.cos( th_an*np.pi/180.0 )/AUinCM\n",
    "y_an = r_an*np.sin( th_an*np.pi/180.0 )/AUinCM\n",
    "\n",
    "# plot x/y coords\n",
    "fig, ax = plt.subplots(1, figsize = (10, 10))\n",
    "fig.suptitle('Coordinates Plot')\n",
    "\n",
    "ax.plot(x_an, y_an, 'b--', linewidth=5)\n",
    "ax.plot(0.0, 0.0, 'kx')\n",
    "ax.set_xlabel('x in AU')\n",
    "ax.set_ylabel('y in AU')\n",
    "\n",
    "ax.set_xlim(-2.5, 2.5)\n",
    "ax.set_ylim(-2.5, 2.5)\n",
    "\n",
    "## NOTE: can skip arrows stuff probably for time!\n",
    "\n",
    "# now, let's plot these vectors\n",
    "xarrow = 0; yarrow = 0 # coords of base\n",
    "# dx/dy point to direction\n",
    "dy = 0 # easy peasy, just along x-axis\n",
    "# we can calculate r(theta = 0)\n",
    "dx = (a*(1-ecc*ecc)/(1.0+ecc*np.cos(0)))/AUinCM\n",
    "plt.arrow(xarrow, yarrow, dx, dy,head_width=0.1, \n",
    "          length_includes_head=True)\n",
    "\n",
    "# we can use this same location as the head of our velocity arrow\n",
    "vxarrow = dx; vyarrow = 0\n",
    "# what length should we make?  This is a little hard \n",
    "#  to define since we are plotting something in \n",
    "#  units of km/s and the x/y coords so we can \n",
    "#  just choose a value\n",
    "dy = 1.0 # arbitrary\n",
    "dx = 0\n",
    "plt.arrow(vxarrow, vyarrow, dx, dy, head_width=0.1,\n",
    "         length_includes_head=True, color='red')\n",
    "\n",
    "plt.show()"
   ]
  },
  {
   "cell_type": "markdown",
   "metadata": {},
   "source": [
    "To use Euler's Method to calculate, we'll specify these initial conditions as 2D vectors:"
   ]
  },
  {
   "cell_type": "code",
   "execution_count": 11,
   "metadata": {},
   "outputs": [],
   "source": [
    "r_0 = np.array([rp, 0])\n",
    "v_0 = np.array([0, vp])"
   ]
  },
  {
   "cell_type": "markdown",
   "metadata": {},
   "source": [
    "One thing we want to do is calculate for many time steps.  How do we select $\\Delta t$?  Well, let's try fractions of an orbit."
   ]
  },
  {
   "cell_type": "code",
   "execution_count": 12,
   "metadata": {},
   "outputs": [
    {
     "name": "stdout",
     "output_type": "stream",
     "text": [
      "63373146.36904171  seconds\n"
     ]
    }
   ],
   "source": [
    "Porb = np.sqrt( 4.0*np.pi**2.0*a**3.0/(G*(mass_of_star)) )\n",
    "print(Porb, ' seconds')"
   ]
  },
  {
   "cell_type": "markdown",
   "metadata": {},
   "source": [
    "Let's first start with time steps of 1e6 seconds.  This means ~63 steps per orbit."
   ]
  },
  {
   "cell_type": "code",
   "execution_count": 13,
   "metadata": {},
   "outputs": [],
   "source": [
    "delta_t = 1e6 # seconds"
   ]
  },
  {
   "cell_type": "markdown",
   "metadata": {},
   "source": [
    "For how many timesteps?  Let's start with 1 orbit, or 64 steps."
   ]
  },
  {
   "cell_type": "code",
   "execution_count": 119,
   "metadata": {},
   "outputs": [],
   "source": [
    "n_steps = 64"
   ]
  },
  {
   "cell_type": "markdown",
   "metadata": {},
   "source": [
    "### Exercise\n",
    "Use Euler's method to calculate this orbit.  Plot it ontop of your analytical solution.\n",
    "\n",
    "Recall:\n",
    "\n",
    "$\\vec{r}_{i+1} = \\vec{r}_i + \\vec{v}_i \\Delta t$\n",
    "\n",
    "and\n",
    "\n",
    "$\\vec{v}_{i+1} = \\vec{v}_i + \\vec{a}_g(\\vec{r}_i) \\Delta t$\n",
    "\n",
    "Bonus: what happens if you increase the number of steps? Or changing $\\Delta t$?"
   ]
  },
  {
   "cell_type": "markdown",
   "metadata": {},
   "source": [
    "### Possible Ans"
   ]
  },
  {
   "cell_type": "code",
   "execution_count": 120,
   "metadata": {},
   "outputs": [
    {
     "ename": "IndentationError",
     "evalue": "expected an indented block (<ipython-input-120-fd69df767af3>, line 9)",
     "output_type": "error",
     "traceback": [
      "\u001b[0;36m  File \u001b[0;32m\"<ipython-input-120-fd69df767af3>\"\u001b[0;36m, line \u001b[0;32m9\u001b[0m\n\u001b[0;31m    r = np.array(r)\u001b[0m\n\u001b[0m    ^\u001b[0m\n\u001b[0;31mIndentationError\u001b[0m\u001b[0;31m:\u001b[0m expected an indented block\n"
     ]
    }
   ],
   "source": [
    "ri = r_0\n",
    "vi = v_0\n",
    "\n",
    "r = []\n",
    "for i in range(n_steps):\n",
    "    # ...\n",
    "    \n",
    "# what does it look like?\n",
    "r = np.array(r)\n",
    "\n",
    "r"
   ]
  },
  {
   "cell_type": "code",
   "execution_count": 121,
   "metadata": {},
   "outputs": [
    {
     "data": {
      "image/png": "[encoded data removed]",
      "text/plain": [
       "<Figure size 720x720 with 1 Axes>"
      ]
     },
     "metadata": {
      "needs_background": "light"
     },
     "output_type": "display_data"
    }
   ],
   "source": [
    "# now, generate the theta array\n",
    "ntheta = 500 # number of points for theta\n",
    "th_an = np.linspace(0, 360, ntheta)\n",
    "\n",
    "# now, create r(theta)\n",
    "r_an = (a*(1-ecc*ecc))/(1.0 + ecc*np.cos( th_an*np.pi/180.0 ))\n",
    "\n",
    "# for plotting -> x/y coords for m2\n",
    "x_an = r_an*np.cos( th_an*np.pi/180.0 )/AUinCM\n",
    "y_an = r_an*np.sin( th_an*np.pi/180.0 )/AUinCM\n",
    "\n",
    "# plot x/y coords\n",
    "fig, ax = plt.subplots(1, figsize = (10, 10))\n",
    "fig.suptitle('Coordinates Plot')\n",
    "\n",
    "ax.plot(x_an, y_an, 'b--', linewidth=5)\n",
    "ax.plot(0.0, 0.0, 'kx')\n",
    "ax.set_xlabel('x in AU')\n",
    "ax.set_ylabel('y in AU')\n",
    "\n",
    "ax.set_xlim(-2.5, 2.5)\n",
    "ax.set_ylim(-2.5, 2.5)\n",
    "\n",
    "# plot Euler's solution\n",
    "ax.plot(r[:,0]/AUinCM, r[:,1]/AUinCM)\n",
    "\n",
    "plt.show()"
   ]
  },
  {
   "cell_type": "markdown",
   "metadata": {},
   "source": [
    "### Exercise\n",
    "\n",
    "How small does $\\Delta t$ need to be for an accurate solution?  How many orbits can you get?"
   ]
  },
  {
   "cell_type": "markdown",
   "metadata": {},
   "source": [
    "### Exercises\n",
    "Let's calculate some orbits, analytical and numerical for our planetary system.  Again, we'll assume our Sun is massive and centered at the origin, and the planets are much less massive and orbit around the Sun.\n",
    "\n",
    "1. Calculate the orbit of the Earth\n",
    " * T, the orbital period = 365 days, i.e. 1 year\n",
    " * the eccentricity, ecc = 0.02\n",
    " \n",
    " Recall: $T = \\sqrt{\\frac{4 \\pi^2 a^3}{G M_{star}}}$\n",
    " \n",
    "2. Bonus - others.  Note, you probably want to write a function:\n",
    " * Mercury, T = 0.48 years, eccentricity = 0.21\n",
    " * Venus, T = 0.62 years, eccentricity = 0.01\n",
    " * Mars, T = 1.88 years, eccentricity = 0.09\n",
    " * Jupiter, T = 11.86 years, eccentricity = 0.05\n",
    " * Saturn, T = 29.46 years, eccentricity = 0.05\n",
    " * Uranus, T = 84.02 years, eccentricity = 0.05\n",
    " * Neptune, T = 164.8 years, eccentricity = 0.01\n",
    " * Pluto, T = 248.0 years, eccentricity = 0.25\n",
    "\n",
    " Questions: how does $\\Delta t$ and change with eccentricity and period?\n",
    " \n",
    " Plot the whole solar system, both analytically and numerically.  Think strategically - what things do you need to make as \"variables\" in your function? (T, ecc... what else?)\n",
    " \n"
   ]
  },
  {
   "cell_type": "code",
   "execution_count": null,
   "metadata": {},
   "outputs": [],
   "source": []
  },
  {
   "cell_type": "code",
   "execution_count": null,
   "metadata": {},
   "outputs": [],
   "source": []
  }
 ],
 "metadata": {
  "kernelspec": {
   "display_name": "Python 3",
   "language": "python",
   "name": "python3"
  },
  "language_info": {
   "codemirror_mode": {
    "name": "ipython",
    "version": 3
   },
   "file_extension": ".py",
   "mimetype": "text/x-python",
   "name": "python",
   "nbconvert_exporter": "python",
   "pygments_lexer": "ipython3",
   "version": "3.7.3"
  }
 },
 "nbformat": 4,
 "nbformat_minor": 2
}
