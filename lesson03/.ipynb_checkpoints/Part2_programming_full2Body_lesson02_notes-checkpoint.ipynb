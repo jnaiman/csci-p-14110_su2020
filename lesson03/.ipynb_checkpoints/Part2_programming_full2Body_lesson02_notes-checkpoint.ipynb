{
 "cells": [
  {
   "cell_type": "markdown",
   "metadata": {},
   "source": [
    "## Two-body motion with any size masses\n",
    "Let's update our solvers for full 2-body motion, and put in some checks for the conservation of energy and momentum."
   ]
  },
  {
   "cell_type": "markdown",
   "metadata": {},
   "source": [
    "We'll start with our usual list of constants and load our usual libraries:"
   ]
  },
  {
   "cell_type": "code",
   "execution_count": 1,
   "metadata": {},
   "outputs": [],
   "source": [
    "# unit conversions\n",
    "MassOfSun = 2e33 # g\n",
    "MassOfJupiter = 1.898e30 # g\n",
    "AUinCM = 1.496e13 # cm\n",
    "kmincm = 1e5 # cm/km\n",
    "G = 6.674e-8 # gravitational constant in cm^3 g^-1 s^-2"
   ]
  },
  {
   "cell_type": "code",
   "execution_count": 2,
   "metadata": {},
   "outputs": [],
   "source": [
    "import numpy as np\n",
    "import matplotlib.pyplot as plt\n",
    "%matplotlib inline"
   ]
  },
  {
   "cell_type": "markdown",
   "metadata": {},
   "source": [
    "Let's start with a sun and a jupiter:"
   ]
  },
  {
   "cell_type": "code",
   "execution_count": 3,
   "metadata": {},
   "outputs": [],
   "source": [
    "# in solar masses\n",
    "#M1 = 1.0\n",
    "M1 = 0.0009 # jupiter is 0.09% of the mass of the sun\n",
    "M2 = 1.0"
   ]
  },
  {
   "cell_type": "markdown",
   "metadata": {},
   "source": [
    "We'll start with one particle at rest, like we had before, and build from there.  We'll use our oritinal rp and vp:"
   ]
  },
  {
   "cell_type": "code",
   "execution_count": 4,
   "metadata": {},
   "outputs": [],
   "source": [
    "rp = 1.0 # in AU \n",
    "vp = 35.0 # in km/s"
   ]
  },
  {
   "cell_type": "markdown",
   "metadata": {},
   "source": [
    "We'll convert all of our parameters:"
   ]
  },
  {
   "cell_type": "code",
   "execution_count": 5,
   "metadata": {},
   "outputs": [],
   "source": [
    "M1 = M1*MassOfSun\n",
    "M2 = M2*MassOfSun\n",
    "vp = vp*kmincm\n",
    "rp = rp*AUinCM"
   ]
  },
  {
   "cell_type": "markdown",
   "metadata": {},
   "source": [
    "Let's look at our original acceleration code:"
   ]
  },
  {
   "cell_type": "code",
   "execution_count": 6,
   "metadata": {},
   "outputs": [],
   "source": [
    "# mStar is the mass of the central star, rStar is the *vector*\n",
    "#  from planet to mass of star\n",
    "def calcAcc(mStar, rStar):\n",
    "    mag_r = (rStar[0]**2 + rStar[1]**2)**0.5\n",
    "    mag_a = -G*mStar/mag_r**2\n",
    "    # how about direction?  It's along rStar\n",
    "    #  but we need to make sure this direction\n",
    "    #  vector is a \"hat\" i.e. a unit vector\n",
    "    # We want the direction only:\n",
    "    unitVector = rStar/mag_r\n",
    "    return mag_a*unitVector"
   ]
  },
  {
   "cell_type": "markdown",
   "metadata": {},
   "source": [
    "We'll need to update this for 2 bodys - take in 2 radii.  We'll need to solve for 2 motions - for body #1 and body #2.  \n",
    "\n",
    "We'll start with a function that calculates the mass of particle 2 on particle 1:"
   ]
  },
  {
   "cell_type": "code",
   "execution_count": 7,
   "metadata": {},
   "outputs": [],
   "source": [
    "# force/mass for particle m1\n",
    "# m2 = mass of other particle\n",
    "# r1 = 3-vector for location of particle 1\n",
    "# r2 = 3-vector for location of particle 2\n",
    "\n",
    "#def calcAcc(mj, ri, rj):\n",
    "#    mag_r = np.sqrt( (ri-rj).dot(ri-rj) )\n",
    "#    return -G*mj*(ri - rj)/mag_r**3.0\n",
    "\n",
    "def calcAcc(m2, r1, r2):\n",
    "    mag_r = np.sqrt( (r1[0]-r2[0])**2 \\\n",
    "                    +(r1[1]-r2[1])**2 )#\\\n",
    "                    #+(r1[2]-r2[2])**2 )\n",
    "    mag_a = -G*m2/mag_r**2\n",
    "    # unit vector points from particle 1 -> particle 2\n",
    "    unitVector = (r1 - r2)/mag_r\n",
    "    # return\n",
    "    return mag_a*unitVector\n"
   ]
  },
  {
   "cell_type": "markdown",
   "metadata": {},
   "source": [
    "What about the acceleration of particle 2 from the force of gravity #1? If we look at the above - it's the mirror of the acceleration of #1 because of #2 - so, let's re-write this generally:"
   ]
  },
  {
   "cell_type": "code",
   "execution_count": 8,
   "metadata": {},
   "outputs": [],
   "source": [
    "# 2 -> j\n",
    "# 1 -> i\n",
    "def calcAcc(mj, ri, rj):\n",
    "    mag_r = np.sqrt( (ri[0]-rj[0])**2 \\\n",
    "                    +(ri[1]-rj[1])**2 )#\\\n",
    "                    #+(ri[2]-rj[2])**2 )\n",
    "    mag_a = -G*mj/mag_r**2\n",
    "    # unit vector points from particle 1 -> particle 2\n",
    "    unitVector = (ri - rj)/mag_r\n",
    "    # return\n",
    "    return mag_a*unitVector\n",
    "\n",
    "# this is now the acceleration of particle \"i\" due to particle \"j\""
   ]
  },
  {
   "cell_type": "markdown",
   "metadata": {},
   "source": [
    "### Exercise\n",
    "Use this and the Euler's Method loop we used before to calculate updates for **both** particles.\n",
    "\n",
    "Assume rp, vp are the distances of particle 1 and the initial radius and velocity of particle #2 are 0.\n",
    "\n",
    "Bonus: how similar is this solution to the analytical one for a jupiter mass and a sun?\n",
    "\n",
    "Bonus: change one mass to a solar mass, what happens now?\n",
    "\n",
    "Bonus: what if both particles are moving?  How would you impliment that?"
   ]
  },
  {
   "cell_type": "markdown",
   "metadata": {},
   "source": [
    "### Some starter hints:"
   ]
  },
  {
   "cell_type": "code",
   "execution_count": 9,
   "metadata": {},
   "outputs": [],
   "source": [
    "import numpy as np\n",
    "import matplotlib.pyplot as plt\n",
    "%matplotlib inline\n",
    "\n",
    "# unit conversions\n",
    "MassOfSun = 2e33 # g\n",
    "MassOfJupiter = 1.898e30 # g\n",
    "AUinCM = 1.496e13 # cm\n",
    "kmincm = 1e5 # cm/km\n",
    "G = 6.674e-8 # gravitational constant in cm^3 g^-1 s^-2"
   ]
  },
  {
   "cell_type": "code",
   "execution_count": 10,
   "metadata": {},
   "outputs": [],
   "source": [
    "# in solar masses\n",
    "#M1 = 1.0\n",
    "M1 = 0.0009\n",
    "M2 = 1.0"
   ]
  },
  {
   "cell_type": "code",
   "execution_count": 11,
   "metadata": {},
   "outputs": [],
   "source": [
    "rp = 1.0 # in AU \n",
    "vp = 35.0 # in km/s"
   ]
  },
  {
   "cell_type": "code",
   "execution_count": 12,
   "metadata": {},
   "outputs": [],
   "source": [
    "# our initial arrays are now 2D and in 2D!\n",
    "r_0 = np.array([[rp, 0], [0, 0]])\n",
    "v_0 = np.array([[0, vp], [0, 0]])"
   ]
  },
  {
   "cell_type": "code",
   "execution_count": 13,
   "metadata": {},
   "outputs": [],
   "source": [
    "# let's try to estimate how many steps we might need\n",
    "\n",
    "# we can estimate a ~ initial distance \n",
    "a = np.sqrt( ((r_0[0,:]-r_0[1,:])**2).sum() )\n",
    "\n",
    "Porb = np.sqrt( 4.0*np.pi**2.0*a**3.0/(G*(M1+M2)) )\n",
    "delta_t = Porb*0.0001\n",
    "\n",
    "n_steps = int(np.round(Porb/delta_t))*10"
   ]
  },
  {
   "cell_type": "markdown",
   "metadata": {},
   "source": [
    "## Quantifying how well we conserve things"
   ]
  },
  {
   "cell_type": "code",
   "execution_count": 19,
   "metadata": {},
   "outputs": [],
   "source": [
    "# for 2 bodies:\n",
    "\n",
    "# energy\n",
    "# I'll write this a little fancy\n",
    "def calcE(m1, m2, r1, r2, v1, v2):\n",
    "    mag_r = np.sqrt( (r1-r2).dot(r1-r2) )\n",
    "    return 0.5*(m1*v1.dot(v1) + m2*v2.dot(v2)) - G*m1*m2/mag_r\n",
    "\n",
    "# angular momentum\n",
    "def calcL(m1, m2, r1, r2, v1, v2):\n",
    "    L = m1*np.cross(r1,v1) + m2*np.cross(r2,v2)\n",
    "    #mag_L = np.sqrt( L.dot(L) )\n",
    "    # for 2 dimensions\n",
    "    mag_L = np.sqrt(L*L)\n",
    "    return mag_L\n"
   ]
  },
  {
   "cell_type": "markdown",
   "metadata": {},
   "source": [
    "### Exercise:\n",
    "Use the above to plot the energy and momentum as a function of time.  What do you notice?\n",
    "\n",
    "Bonus: redo for different timesteps, similar masses, etc"
   ]
  },
  {
   "cell_type": "markdown",
   "metadata": {},
   "source": []
  },
  {
   "cell_type": "code",
   "execution_count": null,
   "metadata": {
    "scrolled": true
   },
   "outputs": [],
   "source": []
  },
  {
   "cell_type": "code",
   "execution_count": null,
   "metadata": {},
   "outputs": [],
   "source": []
  },
  {
   "cell_type": "code",
   "execution_count": null,
   "metadata": {},
   "outputs": [],
   "source": []
  },
  {
   "cell_type": "code",
   "execution_count": null,
   "metadata": {},
   "outputs": [],
   "source": []
  },
  {
   "cell_type": "markdown",
   "metadata": {},
   "source": [
    "# 1. Matplotlib plots ?  then exercises?  \n",
    "* see also https://sites.google.com/a/ucsc.edu/krumholz/teaching-and-courses/python-15/class-3\n",
    "\n",
    "# 2. Reading files \n",
    "* see https://sites.google.com/a/ucsc.edu/krumholz/teaching-and-courses/python-15/class-4"
   ]
  }
 ],
 "metadata": {
  "kernelspec": {
   "display_name": "Python 3",
   "language": "python",
   "name": "python3"
  },
  "language_info": {
   "codemirror_mode": {
    "name": "ipython",
    "version": 3
   },
   "file_extension": ".py",
   "mimetype": "text/x-python",
   "name": "python",
   "nbconvert_exporter": "python",
   "pygments_lexer": "ipython3",
   "version": "3.7.3"
  }
 },
 "nbformat": 4,
 "nbformat_minor": 2
}
