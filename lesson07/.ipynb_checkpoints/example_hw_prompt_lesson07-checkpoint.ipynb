{
 "cells": [
  {
   "cell_type": "markdown",
   "metadata": {},
   "source": [
    "# Homework #6: Example Submission\n",
    "\n",
    "Using the ideas we discussed today in class make an interactive map.\n",
    "\n",
    "This assignment is fairly open ended, the only requirements are that you use geometric data & that there is at least one way in which the user can interact with your map (layers, colormap, data plotted, etc).  You are welcome to include your \"steps\" to a final visualization as well as a final visualization like data exploration and preliminary plotting -- this will also help us understand your thinking!  Please include 1-2 paragraphs explaining your visualization and the user interaction that you are implementing -- what are you trying to show?  What did you find interesting?  Who do you think would be interested in using this visualization?  \n",
    "\n",
    "You are welcome to use `geopandas` and `ipywidgets` and the [Cambridge City GIS dataset](http://cambridgegis.github.io/gisdata.html) that we discussed to day in class, but you don't have to!  \n",
    "\n",
    "If you would like to look for data to use from your local city (or county, state or country, or earth at large) please feel free to.  A tip to search for in a search engine like Google would be \"CITY_NAME gis data\" or \"CITY_NAME GeoJSON\".  To use the tools we went over in class today you'll want to make sure you are using GeoJSON files (sometimes you will see \"shapefiles\" or \"topojson\" formats -- you *can* use these formats but you might have to do some manipulation to get the data in the right format).\n",
    "\n",
    "**Make sure you include your data so that we can run your notebook!** You can accomplish this by loading directly from a URL with `geopandas` or uploading your data with your homework submission and making sure you are linking to your data correctly in your notebook."
   ]
  },
  {
   "cell_type": "code",
   "execution_count": 1,
   "metadata": {},
   "outputs": [],
   "source": [
    "# import usual things & new packages we've been using:\n",
    "import geopandas\n",
    "import ipywidgets\n",
    "import numpy as np\n",
    "import matplotlib.pyplot as plt\n",
    "import contextily as ctx # note: you do *not* have to use any basemaps if you don't want to!"
   ]
  },
  {
   "cell_type": "code",
   "execution_count": null,
   "metadata": {},
   "outputs": [],
   "source": []
  }
 ],
 "metadata": {
  "kernelspec": {
   "display_name": "Python 3",
   "language": "python",
   "name": "python3"
  },
  "language_info": {
   "codemirror_mode": {
    "name": "ipython",
    "version": 3
   },
   "file_extension": ".py",
   "mimetype": "text/x-python",
   "name": "python",
   "nbconvert_exporter": "python",
   "pygments_lexer": "ipython3",
   "version": "3.7.6"
  }
 },
 "nbformat": 4,
 "nbformat_minor": 2
}
