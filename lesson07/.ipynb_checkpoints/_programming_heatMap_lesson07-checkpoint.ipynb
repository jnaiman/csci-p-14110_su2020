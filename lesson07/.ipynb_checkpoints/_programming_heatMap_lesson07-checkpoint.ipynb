{
 "cells": [
  {
   "cell_type": "markdown",
   "metadata": {},
   "source": [
    "# Day 7, Part 2 - Heatmap\n",
    "One more fun info viz thing - we'll do a few things with ```bqplot``` which is the plotting library used by bloomberg."
   ]
  },
  {
   "cell_type": "code",
   "execution_count": 1,
   "metadata": {
    "scrolled": false
   },
   "outputs": [],
   "source": [
    "# lets import our usual stuff\n",
    "import pandas as pd\n",
    "import numpy as np\n",
    "import ipywidgets\n",
    "%matplotlib inline\n",
    "#%matplotlib notebook"
   ]
  },
  {
   "cell_type": "markdown",
   "metadata": {},
   "source": [
    "Now we'll import bqplot.  You'll have to install it with pip or conda if you don't have it installed already.  You will probably have to restart the kernel and/or "
   ]
  },
  {
   "cell_type": "code",
   "execution_count": 2,
   "metadata": {
    "scrolled": false
   },
   "outputs": [],
   "source": [
    "# if you get a \"No module named bqplot\" -> install!\n",
    "\n",
    "#!pip install bqplot\n",
    "#!conda install -c conda-forge bqplot --yes\n",
    "\n",
    "# it is possible you'll need:\n",
    "#!jupyter nbextension enable --py --sys-prefix bqplot\n",
    "#!jupyter nbextension enable --py --sys-prefix widgetsnbextension"
   ]
  },
  {
   "cell_type": "code",
   "execution_count": 3,
   "metadata": {
    "scrolled": true
   },
   "outputs": [],
   "source": [
    "import bqplot"
   ]
  },
  {
   "cell_type": "markdown",
   "metadata": {},
   "source": [
    "### Test heatmap\n",
    "\n",
    "Lets start thinking about heatmaps with some random data:"
   ]
  },
  {
   "cell_type": "code",
   "execution_count": 4,
   "metadata": {
    "scrolled": false
   },
   "outputs": [
    {
     "data": {
      "text/plain": [
       "array([[0.87543622, 0.90534451, 0.32218268, 0.94265386, 0.57696962,\n",
       "        0.88192596, 0.38753542, 0.80266356, 0.94277197, 0.95041754],\n",
       "       [0.18306662, 0.95864741, 0.14635294, 0.48748178, 0.70017629,\n",
       "        0.6201385 , 0.42173324, 0.83604218, 0.72237053, 0.38998515],\n",
       "       [0.23096663, 0.20777109, 0.42045325, 0.88256319, 0.21652924,\n",
       "        0.83454406, 0.31870964, 0.01556111, 0.11253879, 0.42015491],\n",
       "       [0.95285974, 0.03202773, 0.14629722, 0.04358858, 0.42887902,\n",
       "        0.44588791, 0.7005106 , 0.64203625, 0.71401185, 0.24822849],\n",
       "       [0.93042574, 0.25731883, 0.2470223 , 0.49902743, 0.57522358,\n",
       "        0.54965026, 0.28900937, 0.58860517, 0.6734865 , 0.00192508],\n",
       "       [0.20175497, 0.98596925, 0.91733811, 0.11624331, 0.40017244,\n",
       "        0.31203058, 0.8915463 , 0.93739793, 0.38266542, 0.41542455],\n",
       "       [0.13758498, 0.53767504, 0.94740892, 0.56001252, 0.47217508,\n",
       "        0.87941451, 0.92191292, 0.76500125, 0.63297716, 0.76929683],\n",
       "       [0.63851885, 0.7427686 , 0.58431862, 0.43771408, 0.43656823,\n",
       "        0.6810887 , 0.40870961, 0.00410116, 0.68461722, 0.78667487],\n",
       "       [0.53425708, 0.89052127, 0.80849098, 0.58938997, 0.65518963,\n",
       "        0.42032286, 0.57173225, 0.92085936, 0.55126173, 0.98106223],\n",
       "       [0.82382722, 0.03821057, 0.88182572, 0.16283331, 0.56615977,\n",
       "        0.12765861, 0.65162004, 0.14965998, 0.5887411 , 0.34556868]])"
      ]
     },
     "execution_count": 4,
     "metadata": {},
     "output_type": "execute_result"
    }
   ],
   "source": [
    "data = np.random.random((10, 10))\n",
    "data"
   ]
  },
  {
   "cell_type": "code",
   "execution_count": 5,
   "metadata": {
    "scrolled": false
   },
   "outputs": [
    {
     "data": {
      "application/vnd.jupyter.widget-view+json": {
       "model_id": "8ff29183034e41799d3303b99595f22b",
       "version_major": 2,
       "version_minor": 0
      },
      "text/plain": [
       "Figure(axes=[ColorAxis(orientation='vertical', scale=ColorScale(scheme='Reds'), side='right'), Axis(orientatio…"
      ]
     },
     "metadata": {},
     "output_type": "display_data"
    }
   ],
   "source": [
    "# lets start by generating a quick heat map\n",
    "\n",
    "# (1)\n",
    "# create our first scale of our plot: just a color scale\n",
    "col_sc = bqplot.ColorScale() \n",
    "# now we'll use bqplot's gridheatmap function\n",
    "#  with our randomly generated data & our scales to \n",
    "#  make a heatmap like so:\n",
    "heat_map = bqplot.GridHeatMap(color = data, \n",
    "                              scales = {'color': col_sc})\n",
    "# put our marks into our figure and lets go!\n",
    "fig = bqplot.Figure(marks = [heat_map])\n",
    "\n",
    "# (2) ok, this is fine and all, but lets add some reference for our \n",
    "#  color scheme with a colorbar & also lets choose a different \n",
    "#  color scheme\n",
    "col_sc = bqplot.ColorScale(scheme = \"Reds\")\n",
    "# lets plot some axes on our plot as well, in this case\n",
    "#  our axis will be a color bar, vertically on the right\n",
    "#  of our heatmap\n",
    "c_ax = bqplot.ColorAxis(scale = col_sc, \n",
    "                        orientation = 'vertical', \n",
    "                        side = 'right')\n",
    "# put it all together and lets take a look!\n",
    "heat_map = bqplot.GridHeatMap(color = data, \n",
    "                              scales = {'color': col_sc})\n",
    "# generate fig!\n",
    "fig = bqplot.Figure(marks = [heat_map], axes = [c_ax])\n",
    "\n",
    "# (3) finally, lets add some axes labels on the x & y axis,\n",
    "#  we need to add their scales first\n",
    "# this scale will just count up the boxes in the vertical \n",
    "#   & horizontal direction\n",
    "x_sc = bqplot.OrdinalScale()\n",
    "y_sc = bqplot.OrdinalScale()\n",
    "# add our axes objects\n",
    "x_ax = bqplot.Axis(scale = x_sc)\n",
    "y_ax = bqplot.Axis(scale = y_sc, \n",
    "                   orientation = 'vertical')\n",
    "heat_map = bqplot.GridHeatMap(color = data, \n",
    "                              scales = {'color': col_sc, \n",
    "                                        'row': y_sc,\n",
    "                                        'column':x_sc})\n",
    "fig = bqplot.Figure(marks = [heat_map], \n",
    "                    axes = [c_ax, y_ax, x_ax])\n",
    "\n",
    "\n",
    "fig"
   ]
  },
  {
   "cell_type": "markdown",
   "metadata": {},
   "source": [
    "#### Note: if no figure shows, try restarting the kernel and/or refreshing the page"
   ]
  },
  {
   "cell_type": "markdown",
   "metadata": {},
   "source": [
    "So, while this indeed a lovely heatmap, it isn't interactive in any way! boo to that!"
   ]
  },
  {
   "cell_type": "code",
   "execution_count": 6,
   "metadata": {
    "scrolled": false
   },
   "outputs": [
    {
     "data": {
      "application/vnd.jupyter.widget-view+json": {
       "model_id": "b3ac6495cee54afa80ae4ced0b00488b",
       "version_major": 2,
       "version_minor": 0
      },
      "text/plain": [
       "Figure(axes=[ColorAxis(orientation='vertical', scale=ColorScale(scheme='Reds'), side='right'), Axis(orientatio…"
      ]
     },
     "metadata": {},
     "output_type": "display_data"
    }
   ],
   "source": [
    "# keep data from last time\n",
    "#import IPython\n",
    "#IPython.OutputArea.auto_scroll_threshold = 9999;\n",
    "from IPython import display\n",
    "\n",
    "# now add scales - colors, x & y\n",
    "col_sc = bqplot.ColorScale(scheme = \"Reds\")\n",
    "x_sc = bqplot.OrdinalScale()\n",
    "y_sc = bqplot.OrdinalScale()\n",
    "\n",
    "# create axis - for colors, x & y\n",
    "c_ax = bqplot.ColorAxis(scale = col_sc, \n",
    "                        orientation = 'vertical', \n",
    "                        side = 'right')\n",
    "x_ax = bqplot.Axis(scale = x_sc)\n",
    "y_ax = bqplot.Axis(scale = y_sc, \n",
    "                   orientation = 'vertical')\n",
    "\n",
    "# lets now re-do our heat map & add in some interactivity:\n",
    "heat_map = bqplot.GridHeatMap(color = data,\n",
    "                              scales = {'color': col_sc,\n",
    "                                        'row': y_sc,\n",
    "                                        'column': x_sc},\n",
    "                              interactions = {'click': 'select'}, \n",
    "                             anchor_style={\"fill\":\"blue\"})\n",
    "#NOTE: anchor_style seems not to do anything now...\n",
    "\n",
    "# stir and combine into 1 figure\n",
    "fig = bqplot.Figure(marks = [heat_map], \n",
    "                    axes = [c_ax, y_ax, x_ax])\n",
    "\n",
    "#display(fig)\n",
    "#ipywidgets.HBox([fig])\n",
    "fig"
   ]
  },
  {
   "cell_type": "code",
   "execution_count": 7,
   "metadata": {
    "scrolled": false
   },
   "outputs": [
    {
     "data": {
      "text/plain": [
       "[]"
      ]
     },
     "execution_count": 7,
     "metadata": {},
     "output_type": "execute_result"
    }
   ],
   "source": [
    "#  Ok fine, but our selection isn't linked to anything!\n",
    "#  lets check out what heat_map selected is\n",
    "heat_map.selected\n",
    "#  note if I select a different box & re-run this cell,\n",
    "#  I get out different values"
   ]
  },
  {
   "cell_type": "code",
   "execution_count": 8,
   "metadata": {
    "scrolled": false
   },
   "outputs": [
    {
     "data": {
      "application/vnd.jupyter.widget-view+json": {
       "model_id": "fa91561187ff498b9a72fade0ce44143",
       "version_major": 2,
       "version_minor": 0
      },
      "text/plain": [
       "VBox(children=(Label(value=''), Figure(axes=[ColorAxis(orientation='vertical', scale=ColorScale(scheme='Reds')…"
      ]
     },
     "metadata": {},
     "output_type": "display_data"
    }
   ],
   "source": [
    "# so now, lets write a little function that links the data value\n",
    "#  to the selected & lets print this in a little ipywidgets label\n",
    "mySelectedLabel = ipywidgets.Label()\n",
    "\n",
    "# (1) \n",
    "# lets write our linking function\n",
    "# there are a few ways to link this,\n",
    "#  here is a simple way first\n",
    "def get_data_value(change):\n",
    "    i,j = heat_map.selected[0]\n",
    "    v = data[i,j] # grab data value\n",
    "    mySelectedLabel.value = str(v) # set our label\n",
    "\n",
    "# (2) this is maybe in-elegant as we are \n",
    "#  explicitly calling our origininal heat map!\n",
    "#  so, lets instead remind ourselves what \"change\" is here\n",
    "def get_data_value(change):\n",
    "    print(change)\n",
    "    i,j = heat_map.selected[0]\n",
    "    v = data[i,j] # grab data value\n",
    "    mySelectedLabel.value = str(v) # set our label\n",
    "# now we see when we click we get back a whole\n",
    "#  dictionary of information - if we recall, \n",
    "#  \"owner\" here is our heat_map which \"owns\" \n",
    "# this change.\n",
    "#  If we want to be able to apply our function to \n",
    "#  this or any other heatmap figure we generate,\n",
    "#  we can re-write the above function as follows:\n",
    "\n",
    "# (3)\n",
    "#def get_data_value(change,mylab):\n",
    "def get_data_value(change):\n",
    "    #print(change['owner'].selected)\n",
    "    i,j = change['owner'].selected[0]\n",
    "    v = data[i,j] # grab data value\n",
    "    mySelectedLabel.value = str(v) # set our label\n",
    "    #mylab.value = str(v) # set our label\n",
    "# so, this now is applied to any map that we choose to input\n",
    "    \n",
    "# regenerate our heatmap to use in our fig canvas\n",
    "heat_map = bqplot.GridHeatMap(color = data,\n",
    "                              scales = {'color': col_sc,\n",
    "                                        'row': y_sc,\n",
    "                                        'column': x_sc},\n",
    "                              interactions = {'click': 'select'},\n",
    "                              anchor_style = {'fill':'blue'}, \n",
    "                              selected_style = {'opacity': 1.0},\n",
    "                              unselected_style = {'opacity': 0.8})\n",
    "    \n",
    "# make sure we check out     \n",
    "heat_map.observe(get_data_value, 'selected')\n",
    "#heat_map.observe(self, mySelectedLabel)\n",
    "fig = bqplot.Figure(marks = [heat_map], \n",
    "                    axes = [c_ax, y_ax, x_ax])\n",
    "\n",
    "ipywidgets.VBox([mySelectedLabel, fig])"
   ]
  },
  {
   "cell_type": "markdown",
   "metadata": {},
   "source": [
    "# Dashboarding: Heatmap + plot\n",
    "We'll now combine this idea with kepler data.  We'll replace the randomly selected data with 2D bins of radius and eccentricity from the Kepler data."
   ]
  },
  {
   "cell_type": "markdown",
   "metadata": {},
   "source": [
    "First, let's make a 2D histogram of the radius and eccentricity of Kepler data.  To do that, we first have to read the data set in!"
   ]
  },
  {
   "cell_type": "code",
   "execution_count": 9,
   "metadata": {},
   "outputs": [],
   "source": [
    "# now let's read in the kepler confirmed planets dataset\n",
    "planets = pd.read_csv('https://jnaiman.github.io/csci-p-14110/lesson06/data/planets_2019.07.12_17.16.25.csv', \n",
    "                     sep=\",\", comment=\"#\")"
   ]
  },
  {
   "cell_type": "markdown",
   "metadata": {},
   "source": [
    "Let's remind ourselves of the column names.  Last time we used ```columns```, now we'll use ```keys``` but they do the same thing:"
   ]
  },
  {
   "cell_type": "code",
   "execution_count": 10,
   "metadata": {},
   "outputs": [
    {
     "data": {
      "text/plain": [
       "Index(['pl_hostname', 'pl_letter', 'pl_name', 'pl_discmethod',\n",
       "       'pl_controvflag', 'pl_pnum', 'pl_orbper', 'pl_orbpererr1',\n",
       "       'pl_orbpererr2', 'pl_orbperlim', 'pl_orbsmax', 'pl_orbsmaxerr1',\n",
       "       'pl_orbsmaxerr2', 'pl_orbsmaxlim', 'pl_orbeccen', 'pl_orbeccenerr1',\n",
       "       'pl_orbeccenerr2', 'pl_orbeccenlim', 'pl_orbincl', 'pl_orbinclerr1',\n",
       "       'pl_orbinclerr2', 'pl_orbincllim', 'pl_bmassj', 'pl_bmassjerr1',\n",
       "       'pl_bmassjerr2', 'pl_bmassjlim', 'pl_bmassprov', 'pl_radj',\n",
       "       'pl_radjerr1', 'pl_radjerr2', 'pl_radjlim', 'pl_dens', 'pl_denserr1',\n",
       "       'pl_denserr2', 'pl_denslim', 'ra_str', 'ra', 'dec_str', 'dec',\n",
       "       'st_dist', 'st_disterr1', 'st_disterr2', 'st_distlim', 'gaia_dist',\n",
       "       'gaia_disterr1', 'gaia_disterr2', 'gaia_distlim', 'st_optmag',\n",
       "       'st_optmagerr', 'st_optmaglim', 'st_optband', 'gaia_gmag',\n",
       "       'gaia_gmagerr', 'gaia_gmaglim', 'st_teff', 'st_tefferr1', 'st_tefferr2',\n",
       "       'st_tefflim', 'st_mass', 'st_masserr1', 'st_masserr2', 'st_masslim',\n",
       "       'st_rad', 'st_raderr1', 'st_raderr2', 'st_radlim', 'pl_massj',\n",
       "       'pl_massjerr1', 'pl_massjerr2', 'pl_massjlim', 'pl_rade', 'pl_radeerr1',\n",
       "       'pl_radeerr2', 'pl_radelim', 'pl_disc', 'pl_mnum', 'st_sp', 'st_spstr',\n",
       "       'st_sperr', 'st_splim', 'st_lum', 'st_lumerr1', 'st_lumerr2',\n",
       "       'st_lumlim', 'st_age', 'st_ageerr1', 'st_ageerr2', 'st_agelim'],\n",
       "      dtype='object')"
      ]
     },
     "execution_count": 10,
     "metadata": {},
     "output_type": "execute_result"
    }
   ],
   "source": [
    "planets.keys()"
   ]
  },
  {
   "cell_type": "markdown",
   "metadata": {},
   "source": [
    "We want to make a 2D histogram of radii and eccentricities so:"
   ]
  },
  {
   "cell_type": "code",
   "execution_count": 11,
   "metadata": {},
   "outputs": [
    {
     "data": {
      "text/html": [
       "<div>\n",
       "<style scoped>\n",
       "    .dataframe tbody tr th:only-of-type {\n",
       "        vertical-align: middle;\n",
       "    }\n",
       "\n",
       "    .dataframe tbody tr th {\n",
       "        vertical-align: top;\n",
       "    }\n",
       "\n",
       "    .dataframe thead th {\n",
       "        text-align: right;\n",
       "    }\n",
       "</style>\n",
       "<table border=\"1\" class=\"dataframe\">\n",
       "  <thead>\n",
       "    <tr style=\"text-align: right;\">\n",
       "      <th></th>\n",
       "      <th>pl_orbeccen</th>\n",
       "      <th>pl_orbsmax</th>\n",
       "    </tr>\n",
       "  </thead>\n",
       "  <tbody>\n",
       "    <tr>\n",
       "      <th>0</th>\n",
       "      <td>0.2310</td>\n",
       "      <td>1.290000</td>\n",
       "    </tr>\n",
       "    <tr>\n",
       "      <th>1</th>\n",
       "      <td>0.0800</td>\n",
       "      <td>1.530000</td>\n",
       "    </tr>\n",
       "    <tr>\n",
       "      <th>2</th>\n",
       "      <td>0.0000</td>\n",
       "      <td>0.830000</td>\n",
       "    </tr>\n",
       "    <tr>\n",
       "      <th>3</th>\n",
       "      <td>0.3700</td>\n",
       "      <td>2.930000</td>\n",
       "    </tr>\n",
       "    <tr>\n",
       "      <th>4</th>\n",
       "      <td>0.6800</td>\n",
       "      <td>1.660000</td>\n",
       "    </tr>\n",
       "    <tr>\n",
       "      <th>5</th>\n",
       "      <td>0.0800</td>\n",
       "      <td>2.600000</td>\n",
       "    </tr>\n",
       "    <tr>\n",
       "      <th>6</th>\n",
       "      <td>NaN</td>\n",
       "      <td>330.000000</td>\n",
       "    </tr>\n",
       "    <tr>\n",
       "      <th>7</th>\n",
       "      <td>0.0420</td>\n",
       "      <td>0.190000</td>\n",
       "    </tr>\n",
       "    <tr>\n",
       "      <th>8</th>\n",
       "      <td>0.0900</td>\n",
       "      <td>1.333000</td>\n",
       "    </tr>\n",
       "    <tr>\n",
       "      <th>9</th>\n",
       "      <td>0.2900</td>\n",
       "      <td>2.080000</td>\n",
       "    </tr>\n",
       "    <tr>\n",
       "      <th>10</th>\n",
       "      <td>NaN</td>\n",
       "      <td>52.000000</td>\n",
       "    </tr>\n",
       "    <tr>\n",
       "      <th>11</th>\n",
       "      <td>NaN</td>\n",
       "      <td>156.000000</td>\n",
       "    </tr>\n",
       "    <tr>\n",
       "      <th>12</th>\n",
       "      <td>NaN</td>\n",
       "      <td>15.000000</td>\n",
       "    </tr>\n",
       "    <tr>\n",
       "      <th>13</th>\n",
       "      <td>NaN</td>\n",
       "      <td>46.000000</td>\n",
       "    </tr>\n",
       "    <tr>\n",
       "      <th>14</th>\n",
       "      <td>NaN</td>\n",
       "      <td>0.920000</td>\n",
       "    </tr>\n",
       "    <tr>\n",
       "      <th>15</th>\n",
       "      <td>0.2600</td>\n",
       "      <td>NaN</td>\n",
       "    </tr>\n",
       "    <tr>\n",
       "      <th>16</th>\n",
       "      <td>NaN</td>\n",
       "      <td>230.000000</td>\n",
       "    </tr>\n",
       "    <tr>\n",
       "      <th>17</th>\n",
       "      <td>0.2900</td>\n",
       "      <td>0.990000</td>\n",
       "    </tr>\n",
       "    <tr>\n",
       "      <th>18</th>\n",
       "      <td>0.4320</td>\n",
       "      <td>0.870000</td>\n",
       "    </tr>\n",
       "    <tr>\n",
       "      <th>19</th>\n",
       "      <td>0.3800</td>\n",
       "      <td>1.190000</td>\n",
       "    </tr>\n",
       "    <tr>\n",
       "      <th>20</th>\n",
       "      <td>0.0320</td>\n",
       "      <td>2.100000</td>\n",
       "    </tr>\n",
       "    <tr>\n",
       "      <th>21</th>\n",
       "      <td>0.0980</td>\n",
       "      <td>3.600000</td>\n",
       "    </tr>\n",
       "    <tr>\n",
       "      <th>22</th>\n",
       "      <td>0.1600</td>\n",
       "      <td>11.600000</td>\n",
       "    </tr>\n",
       "    <tr>\n",
       "      <th>23</th>\n",
       "      <td>0.4500</td>\n",
       "      <td>12.000000</td>\n",
       "    </tr>\n",
       "    <tr>\n",
       "      <th>24</th>\n",
       "      <td>0.0130</td>\n",
       "      <td>0.052700</td>\n",
       "    </tr>\n",
       "    <tr>\n",
       "      <th>25</th>\n",
       "      <td>0.0034</td>\n",
       "      <td>0.115227</td>\n",
       "    </tr>\n",
       "    <tr>\n",
       "      <th>26</th>\n",
       "      <td>0.0200</td>\n",
       "      <td>0.241376</td>\n",
       "    </tr>\n",
       "    <tr>\n",
       "      <th>27</th>\n",
       "      <td>0.0190</td>\n",
       "      <td>5.503000</td>\n",
       "    </tr>\n",
       "    <tr>\n",
       "      <th>28</th>\n",
       "      <td>NaN</td>\n",
       "      <td>0.015440</td>\n",
       "    </tr>\n",
       "    <tr>\n",
       "      <th>29</th>\n",
       "      <td>0.3050</td>\n",
       "      <td>0.788000</td>\n",
       "    </tr>\n",
       "    <tr>\n",
       "      <th>...</th>\n",
       "      <td>...</td>\n",
       "      <td>...</td>\n",
       "    </tr>\n",
       "    <tr>\n",
       "      <th>3986</th>\n",
       "      <td>0.1100</td>\n",
       "      <td>1.300000</td>\n",
       "    </tr>\n",
       "    <tr>\n",
       "      <th>3987</th>\n",
       "      <td>0.7020</td>\n",
       "      <td>3.390000</td>\n",
       "    </tr>\n",
       "    <tr>\n",
       "      <th>3988</th>\n",
       "      <td>0.1510</td>\n",
       "      <td>1.930000</td>\n",
       "    </tr>\n",
       "    <tr>\n",
       "      <th>3989</th>\n",
       "      <td>0.1440</td>\n",
       "      <td>1.190000</td>\n",
       "    </tr>\n",
       "    <tr>\n",
       "      <th>3990</th>\n",
       "      <td>0.0490</td>\n",
       "      <td>2.050000</td>\n",
       "    </tr>\n",
       "    <tr>\n",
       "      <th>3991</th>\n",
       "      <td>0.2100</td>\n",
       "      <td>1.240000</td>\n",
       "    </tr>\n",
       "    <tr>\n",
       "      <th>3992</th>\n",
       "      <td>0.0570</td>\n",
       "      <td>2.170000</td>\n",
       "    </tr>\n",
       "    <tr>\n",
       "      <th>3993</th>\n",
       "      <td>0.7124</td>\n",
       "      <td>1.275000</td>\n",
       "    </tr>\n",
       "    <tr>\n",
       "      <th>3994</th>\n",
       "      <td>NaN</td>\n",
       "      <td>55.000000</td>\n",
       "    </tr>\n",
       "    <tr>\n",
       "      <th>3995</th>\n",
       "      <td>0.1670</td>\n",
       "      <td>2.650000</td>\n",
       "    </tr>\n",
       "    <tr>\n",
       "      <th>3996</th>\n",
       "      <td>0.0900</td>\n",
       "      <td>1.100000</td>\n",
       "    </tr>\n",
       "    <tr>\n",
       "      <th>3997</th>\n",
       "      <td>0.1256</td>\n",
       "      <td>1.900000</td>\n",
       "    </tr>\n",
       "    <tr>\n",
       "      <th>3998</th>\n",
       "      <td>0.1650</td>\n",
       "      <td>6.100000</td>\n",
       "    </tr>\n",
       "    <tr>\n",
       "      <th>3999</th>\n",
       "      <td>0.1060</td>\n",
       "      <td>1.100000</td>\n",
       "    </tr>\n",
       "    <tr>\n",
       "      <th>4000</th>\n",
       "      <td>0.1910</td>\n",
       "      <td>0.830000</td>\n",
       "    </tr>\n",
       "    <tr>\n",
       "      <th>4001</th>\n",
       "      <td>0.1300</td>\n",
       "      <td>3.900000</td>\n",
       "    </tr>\n",
       "    <tr>\n",
       "      <th>4002</th>\n",
       "      <td>0.0000</td>\n",
       "      <td>0.068390</td>\n",
       "    </tr>\n",
       "    <tr>\n",
       "      <th>4003</th>\n",
       "      <td>0.4000</td>\n",
       "      <td>4.430000</td>\n",
       "    </tr>\n",
       "    <tr>\n",
       "      <th>4004</th>\n",
       "      <td>0.0373</td>\n",
       "      <td>0.219600</td>\n",
       "    </tr>\n",
       "    <tr>\n",
       "      <th>4005</th>\n",
       "      <td>0.0520</td>\n",
       "      <td>0.412300</td>\n",
       "    </tr>\n",
       "    <tr>\n",
       "      <th>4006</th>\n",
       "      <td>0.0110</td>\n",
       "      <td>0.049000</td>\n",
       "    </tr>\n",
       "    <tr>\n",
       "      <th>4007</th>\n",
       "      <td>0.1800</td>\n",
       "      <td>0.538000</td>\n",
       "    </tr>\n",
       "    <tr>\n",
       "      <th>4008</th>\n",
       "      <td>0.1600</td>\n",
       "      <td>1.334000</td>\n",
       "    </tr>\n",
       "    <tr>\n",
       "      <th>4009</th>\n",
       "      <td>0.0600</td>\n",
       "      <td>0.133000</td>\n",
       "    </tr>\n",
       "    <tr>\n",
       "      <th>4010</th>\n",
       "      <td>0.2300</td>\n",
       "      <td>0.243000</td>\n",
       "    </tr>\n",
       "    <tr>\n",
       "      <th>4011</th>\n",
       "      <td>0.0310</td>\n",
       "      <td>1.170000</td>\n",
       "    </tr>\n",
       "    <tr>\n",
       "      <th>4012</th>\n",
       "      <td>0.0215</td>\n",
       "      <td>0.059222</td>\n",
       "    </tr>\n",
       "    <tr>\n",
       "      <th>4013</th>\n",
       "      <td>0.2596</td>\n",
       "      <td>0.827774</td>\n",
       "    </tr>\n",
       "    <tr>\n",
       "      <th>4014</th>\n",
       "      <td>0.2987</td>\n",
       "      <td>2.513290</td>\n",
       "    </tr>\n",
       "    <tr>\n",
       "      <th>4015</th>\n",
       "      <td>0.0000</td>\n",
       "      <td>0.680000</td>\n",
       "    </tr>\n",
       "  </tbody>\n",
       "</table>\n",
       "<p>4016 rows × 2 columns</p>\n",
       "</div>"
      ],
      "text/plain": [
       "      pl_orbeccen  pl_orbsmax\n",
       "0          0.2310    1.290000\n",
       "1          0.0800    1.530000\n",
       "2          0.0000    0.830000\n",
       "3          0.3700    2.930000\n",
       "4          0.6800    1.660000\n",
       "5          0.0800    2.600000\n",
       "6             NaN  330.000000\n",
       "7          0.0420    0.190000\n",
       "8          0.0900    1.333000\n",
       "9          0.2900    2.080000\n",
       "10            NaN   52.000000\n",
       "11            NaN  156.000000\n",
       "12            NaN   15.000000\n",
       "13            NaN   46.000000\n",
       "14            NaN    0.920000\n",
       "15         0.2600         NaN\n",
       "16            NaN  230.000000\n",
       "17         0.2900    0.990000\n",
       "18         0.4320    0.870000\n",
       "19         0.3800    1.190000\n",
       "20         0.0320    2.100000\n",
       "21         0.0980    3.600000\n",
       "22         0.1600   11.600000\n",
       "23         0.4500   12.000000\n",
       "24         0.0130    0.052700\n",
       "25         0.0034    0.115227\n",
       "26         0.0200    0.241376\n",
       "27         0.0190    5.503000\n",
       "28            NaN    0.015440\n",
       "29         0.3050    0.788000\n",
       "...           ...         ...\n",
       "3986       0.1100    1.300000\n",
       "3987       0.7020    3.390000\n",
       "3988       0.1510    1.930000\n",
       "3989       0.1440    1.190000\n",
       "3990       0.0490    2.050000\n",
       "3991       0.2100    1.240000\n",
       "3992       0.0570    2.170000\n",
       "3993       0.7124    1.275000\n",
       "3994          NaN   55.000000\n",
       "3995       0.1670    2.650000\n",
       "3996       0.0900    1.100000\n",
       "3997       0.1256    1.900000\n",
       "3998       0.1650    6.100000\n",
       "3999       0.1060    1.100000\n",
       "4000       0.1910    0.830000\n",
       "4001       0.1300    3.900000\n",
       "4002       0.0000    0.068390\n",
       "4003       0.4000    4.430000\n",
       "4004       0.0373    0.219600\n",
       "4005       0.0520    0.412300\n",
       "4006       0.0110    0.049000\n",
       "4007       0.1800    0.538000\n",
       "4008       0.1600    1.334000\n",
       "4009       0.0600    0.133000\n",
       "4010       0.2300    0.243000\n",
       "4011       0.0310    1.170000\n",
       "4012       0.0215    0.059222\n",
       "4013       0.2596    0.827774\n",
       "4014       0.2987    2.513290\n",
       "4015       0.0000    0.680000\n",
       "\n",
       "[4016 rows x 2 columns]"
      ]
     },
     "execution_count": 11,
     "metadata": {},
     "output_type": "execute_result"
    }
   ],
   "source": [
    "# pl_orbsmax is in AU, semi-major axis\n",
    "planets[['pl_orbeccen','pl_orbsmax']]"
   ]
  },
  {
   "cell_type": "markdown",
   "metadata": {},
   "source": [
    "We can use numpy to make our histogram (or pandas). Note we have some missing numbers indicated by an NaN.  We only want to select entries that have both eccentricity and semi-major axis so we need to do some data cleaning:"
   ]
  },
  {
   "cell_type": "code",
   "execution_count": 12,
   "metadata": {},
   "outputs": [],
   "source": [
    "x = planets['pl_orbeccen']\n",
    "y = planets['pl_orbsmax']\n",
    "\n",
    "# only entries for no NaNs:\n",
    "xplot = x[~np.isnan(x) & ~np.isnan(y)]\n",
    "yplot = y[~np.isnan(x) & ~np.isnan(y)]"
   ]
  },
  {
   "cell_type": "code",
   "execution_count": 13,
   "metadata": {},
   "outputs": [
    {
     "data": {
      "text/plain": [
       "array([[521.,   0.,   0.,   0.,   0.,   0.,   0.,   0.,   0.,   0.],\n",
       "       [244.,   1.,   0.,   0.,   0.,   0.,   0.,   0.,   0.,   0.],\n",
       "       [150.,   0.,   0.,   0.,   0.,   0.,   0.,   0.,   0.,   0.],\n",
       "       [ 86.,   0.,   0.,   0.,   0.,   0.,   0.,   0.,   0.,   0.],\n",
       "       [ 54.,   1.,   0.,   0.,   0.,   0.,   0.,   0.,   0.,   0.],\n",
       "       [ 45.,   0.,   0.,   0.,   0.,   0.,   0.,   0.,   0.,   0.],\n",
       "       [ 23.,   0.,   0.,   0.,   0.,   0.,   0.,   0.,   0.,   0.],\n",
       "       [ 19.,   1.,   0.,   0.,   0.,   0.,   0.,   0.,   0.,   0.],\n",
       "       [ 16.,   0.,   0.,   0.,   0.,   0.,   0.,   0.,   0.,   0.],\n",
       "       [  5.,   0.,   0.,   0.,   0.,   0.,   0.,   0.,   0.,   1.]])"
      ]
     },
     "execution_count": 13,
     "metadata": {},
     "output_type": "execute_result"
    }
   ],
   "source": [
    "myHist, xedges, yedges = np.histogram2d(xplot, yplot, \n",
    "                                        bins=[10,10])\n",
    "\n",
    "myHist"
   ]
  },
  {
   "cell_type": "code",
   "execution_count": 14,
   "metadata": {},
   "outputs": [
    {
     "data": {
      "application/vnd.jupyter.widget-view+json": {
       "model_id": "016e7c62470c4707919e199663dede63",
       "version_major": 2,
       "version_minor": 0
      },
      "text/plain": [
       "VBox(children=(Label(value=''), Figure(axes=[ColorAxis(orientation='vertical', scale=ColorScale(scheme='Reds')…"
      ]
     },
     "metadata": {},
     "output_type": "display_data"
    }
   ],
   "source": [
    "mySelectedLabel = ipywidgets.Label()\n",
    "\n",
    "col_sc = bqplot.ColorScale(scheme = \"Reds\")\n",
    "x_sc = bqplot.LinearScale()\n",
    "y_sc = bqplot.LinearScale()\n",
    "\n",
    "# create axis - for colors, x & y\n",
    "c_ax = bqplot.ColorAxis(scale = col_sc, \n",
    "                        orientation = 'vertical', \n",
    "                        side = 'right')\n",
    "x_ax = bqplot.Axis(scale = x_sc)\n",
    "y_ax = bqplot.Axis(scale = y_sc, \n",
    "                   orientation = 'vertical')\n",
    "\n",
    "def get_data_value(change):\n",
    "    i,j = change['owner'].selected[0]\n",
    "    v = myHist[i,j] # grab data value\n",
    "    mySelectedLabel.value = str(v) # set our label\n",
    "    \n",
    "# regenerate our heatmap to use in our fig canvas\n",
    "heat_map = bqplot.GridHeatMap(color = myHist,\n",
    "                              scales = {'color': col_sc,\n",
    "                                        'row': y_sc,\n",
    "                                        'column': x_sc},\n",
    "                              interactions = {'click': 'select'},\n",
    "                              anchor_style = {'fill':'blue'}, \n",
    "                              selected_style = {'opacity': 1.0},\n",
    "                              unselected_style = {'opacity': 0.8})\n",
    "    \n",
    "# make sure we check out     \n",
    "heat_map.observe(get_data_value, 'selected')\n",
    "fig = bqplot.Figure(marks = [heat_map], \n",
    "                    axes = [c_ax, y_ax, x_ax])\n",
    "\n",
    "ipywidgets.VBox([mySelectedLabel, fig])"
   ]
  },
  {
   "cell_type": "markdown",
   "metadata": {},
   "source": [
    "Now we can use the x&y edges output from our histogram and re-put them into bin centers with some fancy in-line programming:"
   ]
  },
  {
   "cell_type": "code",
   "execution_count": 15,
   "metadata": {},
   "outputs": [],
   "source": [
    "# this is becuase the edges are bin edges, not centers\n",
    "y_centers = [(yedges[i]+yedges[i+1])*0.5 for i in range(len(yedges)-1)]\n",
    "x_centers = [(xedges[i]+xedges[i+1])*0.5 for i in range(len(xedges)-1)]"
   ]
  },
  {
   "cell_type": "code",
   "execution_count": 16,
   "metadata": {},
   "outputs": [
    {
     "data": {
      "application/vnd.jupyter.widget-view+json": {
       "model_id": "7946567776444cec8435e38572762ed9",
       "version_major": 2,
       "version_minor": 0
      },
      "text/plain": [
       "VBox(children=(Label(value=''), Figure(axes=[ColorAxis(orientation='vertical', scale=ColorScale(scheme='Reds')…"
      ]
     },
     "metadata": {},
     "output_type": "display_data"
    }
   ],
   "source": [
    "mySelectedLabel = ipywidgets.Label()\n",
    "\n",
    "col_sc = bqplot.ColorScale(scheme = \"Reds\")\n",
    "x_sc = bqplot.LinearScale()\n",
    "y_sc = bqplot.LinearScale()\n",
    "\n",
    "# create axis - for colors, x & y\n",
    "c_ax = bqplot.ColorAxis(scale = col_sc, \n",
    "                        orientation = 'vertical', \n",
    "                        side = 'right')\n",
    "x_ax = bqplot.Axis(scale = x_sc, \n",
    "                  label='Semi-major axis in AU')\n",
    "y_ax = bqplot.Axis(scale = y_sc, \n",
    "                   orientation = 'vertical',\n",
    "                  label='Eccentricity')\n",
    "\n",
    "def get_data_value(change):\n",
    "    i,j = change['owner'].selected[0]\n",
    "    v = myHist[i,j] # grab data value\n",
    "    mySelectedLabel.value = str(v) # set our label\n",
    "    \n",
    "# regenerate our heatmap to use in our fig canvas\n",
    "heat_map = bqplot.GridHeatMap(color = myHist,\n",
    "                              row=x_centers,\n",
    "                              column=y_centers,\n",
    "                              scales = {'color': col_sc,\n",
    "                                        'row': y_sc,\n",
    "                                        'column': x_sc},\n",
    "                              interactions = {'click': 'select'},\n",
    "                              anchor_style = {'fill':'blue', 'stroke': 'blue'},\n",
    "                             opacity=0.5)\n",
    "    \n",
    "# make sure we check out     \n",
    "heat_map.observe(get_data_value, 'selected')\n",
    "fig = bqplot.Figure(marks = [heat_map], \n",
    "                    axes = [c_ax, y_ax, x_ax])\n",
    "\n",
    "ipywidgets.VBox([mySelectedLabel, fig])"
   ]
  },
  {
   "cell_type": "markdown",
   "metadata": {},
   "source": [
    "### Exercise\n",
    "Clearly, most of the interesting stuff is happening at the 20 AU, low eccentricity point on this heatmap.\n",
    "\n",
    "How can you \"zoom in\" and only plot this region?  \n",
    "\n",
    "Hint: there are several ways, one is by changing the bins for the 2D histogram (look at the documentation for histogram2d!)"
   ]
  },
  {
   "cell_type": "markdown",
   "metadata": {},
   "source": [
    "## Heatmap + Trajectory = Dashboard\n",
    "Let's now combine this heatmap with our trajectory plot before to make an interactive dashboard for our data.  In this case, we'll copy exactly what we had before, but will add an extra ```bqplot.Lines``` plot that will *also* be updated when a selection on the heatmap is made."
   ]
  },
  {
   "cell_type": "code",
   "execution_count": 17,
   "metadata": {},
   "outputs": [],
   "source": [
    "theta = np.arange(0, 2*np.pi, 0.001)\n",
    "\n",
    "# Line's plot\n",
    "x_l_sc = bqplot.LinearScale()\n",
    "y_l_sc = bqplot.LinearScale()\n",
    "\n",
    "line_plot = bqplot.Lines(x=[], y=[], # start empty\n",
    "                         scales = {'x': y_l_sc,\n",
    "                                        'y': x_l_sc})\n",
    "\n",
    "x_l_ax = bqplot.Axis(scale = x_l_sc, \n",
    "                     label='x in AU')\n",
    "y_l_ax = bqplot.Axis(scale = y_l_sc, \n",
    "                     orientation = 'vertical',\n",
    "                     label='y in AU')\n",
    "fig_lines = bqplot.Figure(marks = [line_plot], \n",
    "                          axes = [y_l_ax, x_l_ax])\n",
    "\n",
    "# quick check it out\n",
    "#fig_lines"
   ]
  },
  {
   "cell_type": "code",
   "execution_count": 18,
   "metadata": {},
   "outputs": [
    {
     "data": {
      "application/vnd.jupyter.widget-view+json": {
       "model_id": "c74e9473f4804cf2b44313a4f3bf1286",
       "version_major": 2,
       "version_minor": 0
      },
      "text/plain": [
       "VBox(children=(Label(value=''), HBox(children=(Figure(axes=[ColorAxis(orientation='vertical', scale=ColorScale…"
      ]
     },
     "metadata": {},
     "output_type": "display_data"
    }
   ],
   "source": [
    "mySelectedLabel = ipywidgets.Label()\n",
    "\n",
    "col_sc = bqplot.ColorScale(scheme = \"Reds\")\n",
    "x_sc = bqplot.LinearScale()\n",
    "y_sc = bqplot.LinearScale()\n",
    "\n",
    "# create axis - for colors, x & y\n",
    "c_ax = bqplot.ColorAxis(scale = col_sc, \n",
    "                        orientation = 'vertical', \n",
    "                        side = 'right')\n",
    "x_ax = bqplot.Axis(scale = x_sc, \n",
    "                  label='Semi-major axis in AU')\n",
    "y_ax = bqplot.Axis(scale = y_sc, \n",
    "                   orientation = 'vertical',\n",
    "                  label='Eccentricity')\n",
    "\n",
    "def get_data_value(change):\n",
    "    i,j = change['owner'].selected[0]\n",
    "    v = myHist[i,j] # grab data value\n",
    "    mySelectedLabel.value = str(v) # set our label\n",
    "    # NOW ALSO update line data\n",
    "    semiMaj = y_centers[j]\n",
    "    ecc = x_centers[i]\n",
    "    #print(ecc)\n",
    "    # from our plot_ellipse function, with a not b\n",
    "    b = semiMaj*ecc\n",
    "    r = b/np.sqrt(1-ecc*(np.cos(theta))**2)\n",
    "    x = r*np.cos(theta)\n",
    "    y = r*np.sin(theta)\n",
    "    line_plot.x = x\n",
    "    line_plot.y = y\n",
    "    \n",
    "# regenerate our heatmap to use in our fig canvas\n",
    "heat_map = bqplot.GridHeatMap(color = myHist,\n",
    "                              row=x_centers,\n",
    "                              column=y_centers,\n",
    "                              scales = {'color': col_sc,\n",
    "                                        'row': y_sc,\n",
    "                                        'column': x_sc},\n",
    "                              interactions = {'click': 'select'},\n",
    "                              anchor_style = {'fill':'blue'}, \n",
    "                              selected_style = {'opacity': 1.0},\n",
    "                              unselected_style = {'opacity': 0.8})\n",
    "    \n",
    "# make sure we check out     \n",
    "heat_map.observe(get_data_value, 'selected')\n",
    "fig = bqplot.Figure(marks = [heat_map], \n",
    "                    axes = [c_ax, y_ax, x_ax])\n",
    "\n",
    "ipywidgets.VBox([mySelectedLabel, ipywidgets.HBox([fig,fig_lines])])"
   ]
  },
  {
   "cell_type": "markdown",
   "metadata": {},
   "source": [
    "### Exercise\n",
    "How can you make this have the same x & y coords for all plots?  Hint: look up \"bqplot LinearScale\" to see if there may be helpful parameters to use.  Alternatively you can try ```bqplot.LinearScale?``` in the notebook.\n",
    "\n",
    "Can you plot more than one system for comparison?  Note: more than one square is selected when you ```SHIFT-CLICK```.\n",
    "\n",
    "**Extensions:**\n",
    "\n",
    "Remake this dashboard with another set of Kepler data parameters.\n",
    "\n",
    "Allow for a selection to run a simulation and plot both analytical and numeric solutions.\n",
    "\n",
    "How can you plot a multi-body system using interactivity with the Kepler dataset?  What assumptions do you need to make?  Try just analytical solutions and then later add numerical."
   ]
  },
  {
   "cell_type": "code",
   "execution_count": 19,
   "metadata": {},
   "outputs": [
    {
     "data": {
      "text/plain": [
       "{'opacity': 1.0}"
      ]
     },
     "execution_count": 19,
     "metadata": {},
     "output_type": "execute_result"
    }
   ],
   "source": [
    "heat_map.selected_style"
   ]
  },
  {
   "cell_type": "code",
   "execution_count": null,
   "metadata": {},
   "outputs": [],
   "source": []
  }
 ],
 "metadata": {
  "kernelspec": {
   "display_name": "Python 3",
   "language": "python",
   "name": "python3"
  },
  "language_info": {
   "codemirror_mode": {
    "name": "ipython",
    "version": 3
   },
   "file_extension": ".py",
   "mimetype": "text/x-python",
   "name": "python",
   "nbconvert_exporter": "python",
   "pygments_lexer": "ipython3",
   "version": "3.7.3"
  }
 },
 "nbformat": 4,
 "nbformat_minor": 2
}
