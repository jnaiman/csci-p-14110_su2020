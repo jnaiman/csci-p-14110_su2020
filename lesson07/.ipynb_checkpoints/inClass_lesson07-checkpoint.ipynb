{
 "cells": [
  {
   "cell_type": "code",
   "execution_count": 1,
   "metadata": {},
   "outputs": [],
   "source": [
    "# import our usual things\n",
    "import matplotlib.pyplot as plt # for plotting\n",
    "import numpy as np # for arrays\n",
    "import pandas as pd # for dataframes/etc\n",
    "%matplotlib inline"
   ]
  },
  {
   "cell_type": "code",
   "execution_count": 2,
   "metadata": {},
   "outputs": [],
   "source": [
    "import ipywidgets # for interactive plots"
   ]
  },
  {
   "cell_type": "code",
   "execution_count": 3,
   "metadata": {},
   "outputs": [
    {
     "data": {
      "application/vnd.jupyter.widget-view+json": {
       "model_id": "e34ab7fa75364b3faff1300f1137953e",
       "version_major": 2,
       "version_minor": 0
      },
      "text/plain": [
       "interactive(children=(Dropdown(description='name', options=('Linda', 'Tina', 'Louise'), value='Linda'), Output…"
      ]
     },
     "metadata": {},
     "output_type": "display_data"
    }
   ],
   "source": [
    "# I'll create a decorator using a widget\n",
    "@ipywidgets.interact(name=['Linda', 'Tina', 'Louise']) # this \"decorates\" function below\n",
    "def print_name(name): # uses \"name\" listed above as input\n",
    "    print(name)"
   ]
  },
  {
   "cell_type": "code",
   "execution_count": 5,
   "metadata": {},
   "outputs": [],
   "source": [
    "# storing the widget in \"itext\"\n",
    "itext = ipywidgets.IntText() # little text box with a integer and up/down arrows"
   ]
  },
  {
   "cell_type": "code",
   "execution_count": 6,
   "metadata": {},
   "outputs": [
    {
     "data": {
      "application/vnd.jupyter.widget-view+json": {
       "model_id": "02d7dbf3890947379eab641f9be5c1e8",
       "version_major": 2,
       "version_minor": 0
      },
      "text/plain": [
       "IntText(value=0)"
      ]
     },
     "metadata": {},
     "output_type": "display_data"
    }
   ],
   "source": [
    "itext # display the widget"
   ]
  },
  {
   "cell_type": "code",
   "execution_count": 10,
   "metadata": {},
   "outputs": [
    {
     "data": {
      "text/plain": [
       "10"
      ]
     },
     "execution_count": 10,
     "metadata": {},
     "output_type": "execute_result"
    }
   ],
   "source": [
    "itext.value # value, does not update automatically"
   ]
  },
  {
   "cell_type": "code",
   "execution_count": 9,
   "metadata": {},
   "outputs": [],
   "source": [
    "# goes the other way\n",
    "itext.value = 10"
   ]
  },
  {
   "cell_type": "code",
   "execution_count": 11,
   "metadata": {},
   "outputs": [
    {
     "data": {
      "application/vnd.jupyter.widget-view+json": {
       "model_id": "38727d83d79d4cbba41459c9c5cdda31",
       "version_major": 2,
       "version_minor": 0
      },
      "text/plain": [
       "IntProgress(value=0)"
      ]
     },
     "metadata": {},
     "output_type": "display_data"
    }
   ],
   "source": [
    "# progress bar\n",
    "ip = ipywidgets.IntProgress()\n",
    "ip"
   ]
  },
  {
   "cell_type": "code",
   "execution_count": 12,
   "metadata": {},
   "outputs": [],
   "source": [
    "ip.value =90 # setting to 90% done"
   ]
  },
  {
   "cell_type": "code",
   "execution_count": 13,
   "metadata": {},
   "outputs": [
    {
     "data": {
      "application/vnd.jupyter.widget-view+json": {
       "model_id": "ce5253f73c35448d982908ed576ec241",
       "version_major": 2,
       "version_minor": 0
      },
      "text/plain": [
       "IntRangeSlider(value=(-5, 5), max=10, min=-10)"
      ]
     },
     "metadata": {},
     "output_type": "display_data"
    }
   ],
   "source": [
    "# range slider widget\n",
    "irange = ipywidgets.IntRangeSlider(min=-10, max=10, step=1)\n",
    "irange"
   ]
  },
  {
   "cell_type": "code",
   "execution_count": 14,
   "metadata": {},
   "outputs": [
    {
     "data": {
      "text/plain": [
       "(-5, 4)"
      ]
     },
     "execution_count": 14,
     "metadata": {},
     "output_type": "execute_result"
    }
   ],
   "source": [
    "irange.value"
   ]
  },
  {
   "cell_type": "code",
   "execution_count": 16,
   "metadata": {},
   "outputs": [
    {
     "data": {
      "application/vnd.jupyter.widget-view+json": {
       "model_id": "123eda59f96747c28a6a336a31bdebb0",
       "version_major": 2,
       "version_minor": 0
      },
      "text/plain": [
       "Button(description='I am a button', style=ButtonStyle())"
      ]
     },
     "metadata": {},
     "output_type": "display_data"
    },
    {
     "name": "stdout",
     "output_type": "stream",
     "text": [
      "I have clicked!\n",
      "I have clicked!\n",
      "I have clicked!\n"
     ]
    }
   ],
   "source": [
    "# first, create a button\n",
    "button = ipywidgets.Button(description='I am a button')\n",
    "button"
   ]
  },
  {
   "cell_type": "code",
   "execution_count": 17,
   "metadata": {},
   "outputs": [],
   "source": [
    "# second:\n",
    "# make a function that tells us what is supposed to happen when we click our button\n",
    "def say_click(event):\n",
    "    print(\"I have clicked!\")"
   ]
  },
  {
   "cell_type": "code",
   "execution_count": 18,
   "metadata": {},
   "outputs": [],
   "source": [
    "# finally, link function with button, note this is \"back reactive\"\n",
    "button.on_click(say_click)"
   ]
  },
  {
   "cell_type": "code",
   "execution_count": 19,
   "metadata": {},
   "outputs": [],
   "source": [
    "# let's try combining widgets together\n",
    "iprogress = ipywidgets.IntProgress() # int progress bar widget\n",
    "button_plus = ipywidgets.Button(description='+10') # add value to iprogress in units of 10\n",
    "button_minus = ipywidgets.Button(description='-10') # take away 10 from iprogress"
   ]
  },
  {
   "cell_type": "code",
   "execution_count": 22,
   "metadata": {},
   "outputs": [
    {
     "data": {
      "application/vnd.jupyter.widget-view+json": {
       "model_id": "2f4b5b8c505346ac922b7aee4711927b",
       "version_major": 2,
       "version_minor": 0
      },
      "text/plain": [
       "HBox(children=(Button(description='-10', style=ButtonStyle()), IntProgress(value=0), Button(description='+10',…"
      ]
     },
     "metadata": {},
     "output_type": "display_data"
    }
   ],
   "source": [
    "# here is a way to display in a horizontal line\n",
    "ipywidgets.HBox([button_minus, iprogress, button_plus])"
   ]
  },
  {
   "cell_type": "code",
   "execution_count": 27,
   "metadata": {},
   "outputs": [
    {
     "data": {
      "text/plain": [
       "0"
      ]
     },
     "execution_count": 27,
     "metadata": {},
     "output_type": "execute_result"
    }
   ],
   "source": [
    "# value of int progress bar is given by:\n",
    "iprogress.value\n",
    "# we need 2 on_click functions for each of our buttons\n",
    "# *and* they need to change iprogress.value"
   ]
  },
  {
   "cell_type": "code",
   "execution_count": 28,
   "metadata": {},
   "outputs": [],
   "source": [
    "# what happens when we click the -10 button\n",
    "def click_minus(event): # make sure our function takes in \"event\", event=on_click\n",
    "    #iprogress.value = iprogress.value - 10\n",
    "    iprogress.value -= 10 # make iprogress slider decrease by 10\n",
    "    \n",
    "# link this function to the event of the button being clicked\n",
    "button_minus.on_click(click_minus)"
   ]
  },
  {
   "cell_type": "code",
   "execution_count": 29,
   "metadata": {},
   "outputs": [],
   "source": [
    "# also do for what happens when we click +10 button\n",
    "def click_plus(event):\n",
    "    iprogress.value += 10 # make iprogress slider increase by 10\n",
    "    \n",
    "# link this function with our +10 button being clicked\n",
    "button_plus.on_click(click_plus)"
   ]
  },
  {
   "cell_type": "markdown",
   "metadata": {},
   "source": [
    "One more example of widgets interacting:"
   ]
  },
  {
   "cell_type": "code",
   "execution_count": 31,
   "metadata": {},
   "outputs": [
    {
     "data": {
      "application/vnd.jupyter.widget-view+json": {
       "model_id": "9d59798c73714acfbd35292f42576301",
       "version_major": 2,
       "version_minor": 0
      },
      "text/plain": [
       "IntSlider(value=0, max=10, orientation='vertical', style=SliderStyle(handle_color='#750075'))"
      ]
     },
     "metadata": {},
     "output_type": "display_data"
    }
   ],
   "source": [
    "islider = ipywidgets.IntSlider(min=0, max=10, step=1, orientation='vertical')\n",
    "islider.style.handle_color = \"#750075\"\n",
    "islider"
   ]
  },
  {
   "cell_type": "code",
   "execution_count": 32,
   "metadata": {},
   "outputs": [
    {
     "data": {
      "application/vnd.jupyter.widget-view+json": {
       "model_id": "f6b5e7a80b1b4259b421ff42f39e3ebe",
       "version_major": 2,
       "version_minor": 0
      },
      "text/plain": [
       "ColorPicker(value='black')"
      ]
     },
     "metadata": {},
     "output_type": "display_data"
    }
   ],
   "source": [
    "# pick color with another widget\n",
    "cp = ipywidgets.ColorPicker()\n",
    "cp"
   ]
  },
  {
   "cell_type": "code",
   "execution_count": 33,
   "metadata": {},
   "outputs": [
    {
     "data": {
      "text/plain": [
       "<traitlets.traitlets.link at 0x11c9647b8>"
      ]
     },
     "execution_count": 33,
     "metadata": {},
     "output_type": "execute_result"
    }
   ],
   "source": [
    "# direct link (js)\n",
    "ipywidgets.link( (cp, 'value'), (islider.style, 'handle_color'))"
   ]
  },
  {
   "cell_type": "code",
   "execution_count": 34,
   "metadata": {},
   "outputs": [
    {
     "data": {
      "application/vnd.jupyter.widget-view+json": {
       "model_id": "5ea50f3cb6de4cf5a712c81d3a9ff0eb",
       "version_major": 2,
       "version_minor": 0
      },
      "text/plain": [
       "VBox(children=(ColorPicker(value='#99373c'), IntSlider(value=8, max=10, orientation='vertical', style=SliderSt…"
      ]
     },
     "metadata": {},
     "output_type": "display_data"
    }
   ],
   "source": [
    "# place in vertical structure\n",
    "ipywidgets.VBox([cp, islider])"
   ]
  },
  {
   "cell_type": "markdown",
   "metadata": {},
   "source": [
    "## A more practical example"
   ]
  },
  {
   "cell_type": "code",
   "execution_count": 45,
   "metadata": {},
   "outputs": [
    {
     "data": {
      "application/vnd.jupyter.widget-view+json": {
       "model_id": "5aad6ce253744ab9a1396c3b65756206",
       "version_major": 2,
       "version_minor": 0
      },
      "text/plain": [
       "interactive(children=(FloatSlider(value=0.4, description='ecc', max=0.9), Output()), _dom_classes=('widget-int…"
      ]
     },
     "metadata": {},
     "output_type": "display_data"
    },
    {
     "data": {
      "text/plain": [
       "<function __main__.plot_ellipse(ecc)>"
      ]
     },
     "execution_count": 45,
     "metadata": {},
     "output_type": "execute_result"
    }
   ],
   "source": [
    "# we'll use widgets to change the eccentricity of an analytical plot\n",
    "\n",
    "# first make an array of theta values for 1 orbit\n",
    "theta = np.arange(0, 2*np.pi, 0.001)\n",
    "#theta.shape\n",
    "\n",
    "a = 5 # chosing a semi-major axis\n",
    "\n",
    "# write function to plot ellipse\n",
    "def plot_ellipse(ecc): # for a given eccentricity, plot an analytical ellipse\n",
    "    r = a*(1-ecc**2)/(1+ecc*np.cos(theta))\n",
    "    # for plotting transform into cartesian\n",
    "    x = r*np.cos(theta)\n",
    "    y = r*np.sin(theta)\n",
    "    plt.plot(x,y)\n",
    "    # so we can see changes due to eccentricity changes\n",
    "    plt.xlim(-10,10)\n",
    "    plt.ylim(-10,10)\n",
    "    plt.show()\n",
    "    \n",
    "# use ipywidgets.interact to make the plotting of the ellipse based on ecc interactive\n",
    "ipywidgets.interact(plot_ellipse, ecc=(0.0,0.9,0.1))"
   ]
  },
  {
   "cell_type": "markdown",
   "metadata": {},
   "source": [
    "### Exercise\n",
    "1. Change the values of ecc to finer plotting decrements\n",
    "1. Add another slider to change the value of a\n",
    "\n",
    "More complicated:\n",
    "1. Do this for multiple ellipses\n",
    "1. Make plot fancier with \"fig,ax=plt.subplots(...\"\n",
    "1. Change color of plot with colorpicker\n",
    "\n",
    "Super complicated\n",
    "1. In the plot_ellipse actually call a numerical solver"
   ]
  },
  {
   "cell_type": "code",
   "execution_count": 52,
   "metadata": {},
   "outputs": [],
   "source": [
    "import matplotlib\n",
    "#matplotlib.colors.to_hex([1,0.5,0.2])\n",
    "\n",
    "def pick_color(r,g,b): # rgb 0->1\n",
    "    myhex = matplotlib.colors.to_hex([r,g,b])\n",
    "    print(myhex)"
   ]
  },
  {
   "cell_type": "code",
   "execution_count": 53,
   "metadata": {},
   "outputs": [
    {
     "name": "stdout",
     "output_type": "stream",
     "text": [
      "#80ff40\n"
     ]
    }
   ],
   "source": [
    "pick_color(0.5, 1, 0.25)"
   ]
  },
  {
   "cell_type": "markdown",
   "metadata": {},
   "source": [
    "# ONTO bqplot!"
   ]
  },
  {
   "cell_type": "code",
   "execution_count": 54,
   "metadata": {},
   "outputs": [
    {
     "name": "stdout",
     "output_type": "stream",
     "text": [
      "Collecting package metadata (repodata.json): done\n",
      "Solving environment: | ^C\n",
      "failed\n",
      "\n",
      "CondaError: KeyboardInterrupt\n",
      "\n"
     ]
    }
   ],
   "source": [
    "# if not installed, lets install\n",
    "#!conda install -c conda-forge bqplot --yes\n",
    "#!pip install bqplot"
   ]
  },
  {
   "cell_type": "code",
   "execution_count": 55,
   "metadata": {},
   "outputs": [],
   "source": [
    "# try to import bqplot\n",
    "import bqplot"
   ]
  },
  {
   "cell_type": "code",
   "execution_count": 57,
   "metadata": {},
   "outputs": [
    {
     "data": {
      "text/plain": [
       "(10, 10)"
      ]
     },
     "execution_count": 57,
     "metadata": {},
     "output_type": "execute_result"
    }
   ],
   "source": [
    "# make some fake data\n",
    "data = np.random.random((10,10))\n",
    "data.shape"
   ]
  },
  {
   "cell_type": "code",
   "execution_count": 77,
   "metadata": {},
   "outputs": [
    {
     "data": {
      "application/vnd.jupyter.widget-view+json": {
       "model_id": "658810af4af54346a4ee0c7bc1e52ad6",
       "version_major": 2,
       "version_minor": 0
      },
      "text/plain": [
       "VBox(children=(Label(value=''), Figure(axes=[ColorAxis(orientation='vertical', scale=ColorScale(scheme='Reds')…"
      ]
     },
     "metadata": {},
     "output_type": "display_data"
    }
   ],
   "source": [
    "# add in a widget to print value of data selected\n",
    "mySelectedLabel = ipywidgets.Label()\n",
    "\n",
    "# build a plot with declarative(sp?) language\n",
    "from IPython.display import display\n",
    "# scale over which to plot values in 10x10 matrix\n",
    "col_sc = bqplot.ColorScale(scheme ='Reds')\n",
    "\n",
    "# add in a color axes\n",
    "col_ax = bqplot.ColorAxis(scale = col_sc,\n",
    "                         orientation = 'vertical',\n",
    "                         side = 'right')\n",
    "\n",
    "# add in x and y axes -> but first scales\n",
    "x_sc = bqplot.LinearScale() # linear scaling along x\n",
    "y_sc = bqplot.LinearScale() # linear scaling along y\n",
    "# axes objects\n",
    "x_ax = bqplot.Axis(scale=x_sc)\n",
    "y_ax = bqplot.Axis(scale=y_sc, orientation='vertical')\n",
    "\n",
    "# use bqplot to make heatmap\n",
    "heat_map = bqplot.GridHeatMap(color=data,\n",
    "                             scales={'color':col_sc,\n",
    "                                    'row':y_sc,\n",
    "                                    'column':x_sc},\n",
    "                             interactions={'click':'select'}, # when we click on a box, its \"selected\"\n",
    "                             anchor_style={'fill':'blue'}) # now we've said what we are going to draw on our figure\n",
    "\n",
    "# write function to change the value of mySelectedLabel based on what I select in heatmap\n",
    "def get_data_values(change): # function that runs when I select something\n",
    "    i,j = heat_map.selected[0]\n",
    "    v = data[i,j] # grabbing value of data\n",
    "    mySelectedLabel.value = str(v) # turning data[i,j] into string\n",
    "\n",
    "# link together my heatmap selection with my label value\n",
    "heat_map.observe(get_data_values, 'selected') # look for changes in heatmap, when I select something\n",
    "\n",
    "\n",
    "# using the scales we have here, and markes (heat_map) make a figure\n",
    "fig = bqplot.Figure(marks=[heat_map], axes=[col_ax, y_ax,x_ax]) # draw heatmap on figure\n",
    "\n",
    "# display label ontop of heatmap\n",
    "display(ipywidgets.VBox([mySelectedLabel, fig]))"
   ]
  },
  {
   "cell_type": "markdown",
   "metadata": {},
   "source": [
    "Now let's use some real data to make a heatmap"
   ]
  },
  {
   "cell_type": "code",
   "execution_count": 78,
   "metadata": {},
   "outputs": [],
   "source": [
    "import pandas as pd\n",
    "planets = pd.read_csv('planets_2019.07.12_17.16.25.csv', sep=',', comment='#')"
   ]
  },
  {
   "cell_type": "code",
   "execution_count": 81,
   "metadata": {},
   "outputs": [
    {
     "data": {
      "text/html": [
       "<div>\n",
       "<style scoped>\n",
       "    .dataframe tbody tr th:only-of-type {\n",
       "        vertical-align: middle;\n",
       "    }\n",
       "\n",
       "    .dataframe tbody tr th {\n",
       "        vertical-align: top;\n",
       "    }\n",
       "\n",
       "    .dataframe thead th {\n",
       "        text-align: right;\n",
       "    }\n",
       "</style>\n",
       "<table border=\"1\" class=\"dataframe\">\n",
       "  <thead>\n",
       "    <tr style=\"text-align: right;\">\n",
       "      <th></th>\n",
       "      <th>pl_orbeccen</th>\n",
       "      <th>pl_orbsmax</th>\n",
       "    </tr>\n",
       "  </thead>\n",
       "  <tbody>\n",
       "    <tr>\n",
       "      <th>0</th>\n",
       "      <td>0.2310</td>\n",
       "      <td>1.290000</td>\n",
       "    </tr>\n",
       "    <tr>\n",
       "      <th>1</th>\n",
       "      <td>0.0800</td>\n",
       "      <td>1.530000</td>\n",
       "    </tr>\n",
       "    <tr>\n",
       "      <th>2</th>\n",
       "      <td>0.0000</td>\n",
       "      <td>0.830000</td>\n",
       "    </tr>\n",
       "    <tr>\n",
       "      <th>3</th>\n",
       "      <td>0.3700</td>\n",
       "      <td>2.930000</td>\n",
       "    </tr>\n",
       "    <tr>\n",
       "      <th>4</th>\n",
       "      <td>0.6800</td>\n",
       "      <td>1.660000</td>\n",
       "    </tr>\n",
       "    <tr>\n",
       "      <th>5</th>\n",
       "      <td>0.0800</td>\n",
       "      <td>2.600000</td>\n",
       "    </tr>\n",
       "    <tr>\n",
       "      <th>6</th>\n",
       "      <td>NaN</td>\n",
       "      <td>330.000000</td>\n",
       "    </tr>\n",
       "    <tr>\n",
       "      <th>7</th>\n",
       "      <td>0.0420</td>\n",
       "      <td>0.190000</td>\n",
       "    </tr>\n",
       "    <tr>\n",
       "      <th>8</th>\n",
       "      <td>0.0900</td>\n",
       "      <td>1.333000</td>\n",
       "    </tr>\n",
       "    <tr>\n",
       "      <th>9</th>\n",
       "      <td>0.2900</td>\n",
       "      <td>2.080000</td>\n",
       "    </tr>\n",
       "    <tr>\n",
       "      <th>10</th>\n",
       "      <td>NaN</td>\n",
       "      <td>52.000000</td>\n",
       "    </tr>\n",
       "    <tr>\n",
       "      <th>11</th>\n",
       "      <td>NaN</td>\n",
       "      <td>156.000000</td>\n",
       "    </tr>\n",
       "    <tr>\n",
       "      <th>12</th>\n",
       "      <td>NaN</td>\n",
       "      <td>15.000000</td>\n",
       "    </tr>\n",
       "    <tr>\n",
       "      <th>13</th>\n",
       "      <td>NaN</td>\n",
       "      <td>46.000000</td>\n",
       "    </tr>\n",
       "    <tr>\n",
       "      <th>14</th>\n",
       "      <td>NaN</td>\n",
       "      <td>0.920000</td>\n",
       "    </tr>\n",
       "    <tr>\n",
       "      <th>15</th>\n",
       "      <td>0.2600</td>\n",
       "      <td>NaN</td>\n",
       "    </tr>\n",
       "    <tr>\n",
       "      <th>16</th>\n",
       "      <td>NaN</td>\n",
       "      <td>230.000000</td>\n",
       "    </tr>\n",
       "    <tr>\n",
       "      <th>17</th>\n",
       "      <td>0.2900</td>\n",
       "      <td>0.990000</td>\n",
       "    </tr>\n",
       "    <tr>\n",
       "      <th>18</th>\n",
       "      <td>0.4320</td>\n",
       "      <td>0.870000</td>\n",
       "    </tr>\n",
       "    <tr>\n",
       "      <th>19</th>\n",
       "      <td>0.3800</td>\n",
       "      <td>1.190000</td>\n",
       "    </tr>\n",
       "    <tr>\n",
       "      <th>20</th>\n",
       "      <td>0.0320</td>\n",
       "      <td>2.100000</td>\n",
       "    </tr>\n",
       "    <tr>\n",
       "      <th>21</th>\n",
       "      <td>0.0980</td>\n",
       "      <td>3.600000</td>\n",
       "    </tr>\n",
       "    <tr>\n",
       "      <th>22</th>\n",
       "      <td>0.1600</td>\n",
       "      <td>11.600000</td>\n",
       "    </tr>\n",
       "    <tr>\n",
       "      <th>23</th>\n",
       "      <td>0.4500</td>\n",
       "      <td>12.000000</td>\n",
       "    </tr>\n",
       "    <tr>\n",
       "      <th>24</th>\n",
       "      <td>0.0130</td>\n",
       "      <td>0.052700</td>\n",
       "    </tr>\n",
       "    <tr>\n",
       "      <th>25</th>\n",
       "      <td>0.0034</td>\n",
       "      <td>0.115227</td>\n",
       "    </tr>\n",
       "    <tr>\n",
       "      <th>26</th>\n",
       "      <td>0.0200</td>\n",
       "      <td>0.241376</td>\n",
       "    </tr>\n",
       "    <tr>\n",
       "      <th>27</th>\n",
       "      <td>0.0190</td>\n",
       "      <td>5.503000</td>\n",
       "    </tr>\n",
       "    <tr>\n",
       "      <th>28</th>\n",
       "      <td>NaN</td>\n",
       "      <td>0.015440</td>\n",
       "    </tr>\n",
       "    <tr>\n",
       "      <th>29</th>\n",
       "      <td>0.3050</td>\n",
       "      <td>0.788000</td>\n",
       "    </tr>\n",
       "    <tr>\n",
       "      <th>...</th>\n",
       "      <td>...</td>\n",
       "      <td>...</td>\n",
       "    </tr>\n",
       "    <tr>\n",
       "      <th>3986</th>\n",
       "      <td>0.1100</td>\n",
       "      <td>1.300000</td>\n",
       "    </tr>\n",
       "    <tr>\n",
       "      <th>3987</th>\n",
       "      <td>0.7020</td>\n",
       "      <td>3.390000</td>\n",
       "    </tr>\n",
       "    <tr>\n",
       "      <th>3988</th>\n",
       "      <td>0.1510</td>\n",
       "      <td>1.930000</td>\n",
       "    </tr>\n",
       "    <tr>\n",
       "      <th>3989</th>\n",
       "      <td>0.1440</td>\n",
       "      <td>1.190000</td>\n",
       "    </tr>\n",
       "    <tr>\n",
       "      <th>3990</th>\n",
       "      <td>0.0490</td>\n",
       "      <td>2.050000</td>\n",
       "    </tr>\n",
       "    <tr>\n",
       "      <th>3991</th>\n",
       "      <td>0.2100</td>\n",
       "      <td>1.240000</td>\n",
       "    </tr>\n",
       "    <tr>\n",
       "      <th>3992</th>\n",
       "      <td>0.0570</td>\n",
       "      <td>2.170000</td>\n",
       "    </tr>\n",
       "    <tr>\n",
       "      <th>3993</th>\n",
       "      <td>0.7124</td>\n",
       "      <td>1.275000</td>\n",
       "    </tr>\n",
       "    <tr>\n",
       "      <th>3994</th>\n",
       "      <td>NaN</td>\n",
       "      <td>55.000000</td>\n",
       "    </tr>\n",
       "    <tr>\n",
       "      <th>3995</th>\n",
       "      <td>0.1670</td>\n",
       "      <td>2.650000</td>\n",
       "    </tr>\n",
       "    <tr>\n",
       "      <th>3996</th>\n",
       "      <td>0.0900</td>\n",
       "      <td>1.100000</td>\n",
       "    </tr>\n",
       "    <tr>\n",
       "      <th>3997</th>\n",
       "      <td>0.1256</td>\n",
       "      <td>1.900000</td>\n",
       "    </tr>\n",
       "    <tr>\n",
       "      <th>3998</th>\n",
       "      <td>0.1650</td>\n",
       "      <td>6.100000</td>\n",
       "    </tr>\n",
       "    <tr>\n",
       "      <th>3999</th>\n",
       "      <td>0.1060</td>\n",
       "      <td>1.100000</td>\n",
       "    </tr>\n",
       "    <tr>\n",
       "      <th>4000</th>\n",
       "      <td>0.1910</td>\n",
       "      <td>0.830000</td>\n",
       "    </tr>\n",
       "    <tr>\n",
       "      <th>4001</th>\n",
       "      <td>0.1300</td>\n",
       "      <td>3.900000</td>\n",
       "    </tr>\n",
       "    <tr>\n",
       "      <th>4002</th>\n",
       "      <td>0.0000</td>\n",
       "      <td>0.068390</td>\n",
       "    </tr>\n",
       "    <tr>\n",
       "      <th>4003</th>\n",
       "      <td>0.4000</td>\n",
       "      <td>4.430000</td>\n",
       "    </tr>\n",
       "    <tr>\n",
       "      <th>4004</th>\n",
       "      <td>0.0373</td>\n",
       "      <td>0.219600</td>\n",
       "    </tr>\n",
       "    <tr>\n",
       "      <th>4005</th>\n",
       "      <td>0.0520</td>\n",
       "      <td>0.412300</td>\n",
       "    </tr>\n",
       "    <tr>\n",
       "      <th>4006</th>\n",
       "      <td>0.0110</td>\n",
       "      <td>0.049000</td>\n",
       "    </tr>\n",
       "    <tr>\n",
       "      <th>4007</th>\n",
       "      <td>0.1800</td>\n",
       "      <td>0.538000</td>\n",
       "    </tr>\n",
       "    <tr>\n",
       "      <th>4008</th>\n",
       "      <td>0.1600</td>\n",
       "      <td>1.334000</td>\n",
       "    </tr>\n",
       "    <tr>\n",
       "      <th>4009</th>\n",
       "      <td>0.0600</td>\n",
       "      <td>0.133000</td>\n",
       "    </tr>\n",
       "    <tr>\n",
       "      <th>4010</th>\n",
       "      <td>0.2300</td>\n",
       "      <td>0.243000</td>\n",
       "    </tr>\n",
       "    <tr>\n",
       "      <th>4011</th>\n",
       "      <td>0.0310</td>\n",
       "      <td>1.170000</td>\n",
       "    </tr>\n",
       "    <tr>\n",
       "      <th>4012</th>\n",
       "      <td>0.0215</td>\n",
       "      <td>0.059222</td>\n",
       "    </tr>\n",
       "    <tr>\n",
       "      <th>4013</th>\n",
       "      <td>0.2596</td>\n",
       "      <td>0.827774</td>\n",
       "    </tr>\n",
       "    <tr>\n",
       "      <th>4014</th>\n",
       "      <td>0.2987</td>\n",
       "      <td>2.513290</td>\n",
       "    </tr>\n",
       "    <tr>\n",
       "      <th>4015</th>\n",
       "      <td>0.0000</td>\n",
       "      <td>0.680000</td>\n",
       "    </tr>\n",
       "  </tbody>\n",
       "</table>\n",
       "<p>4016 rows × 2 columns</p>\n",
       "</div>"
      ],
      "text/plain": [
       "      pl_orbeccen  pl_orbsmax\n",
       "0          0.2310    1.290000\n",
       "1          0.0800    1.530000\n",
       "2          0.0000    0.830000\n",
       "3          0.3700    2.930000\n",
       "4          0.6800    1.660000\n",
       "5          0.0800    2.600000\n",
       "6             NaN  330.000000\n",
       "7          0.0420    0.190000\n",
       "8          0.0900    1.333000\n",
       "9          0.2900    2.080000\n",
       "10            NaN   52.000000\n",
       "11            NaN  156.000000\n",
       "12            NaN   15.000000\n",
       "13            NaN   46.000000\n",
       "14            NaN    0.920000\n",
       "15         0.2600         NaN\n",
       "16            NaN  230.000000\n",
       "17         0.2900    0.990000\n",
       "18         0.4320    0.870000\n",
       "19         0.3800    1.190000\n",
       "20         0.0320    2.100000\n",
       "21         0.0980    3.600000\n",
       "22         0.1600   11.600000\n",
       "23         0.4500   12.000000\n",
       "24         0.0130    0.052700\n",
       "25         0.0034    0.115227\n",
       "26         0.0200    0.241376\n",
       "27         0.0190    5.503000\n",
       "28            NaN    0.015440\n",
       "29         0.3050    0.788000\n",
       "...           ...         ...\n",
       "3986       0.1100    1.300000\n",
       "3987       0.7020    3.390000\n",
       "3988       0.1510    1.930000\n",
       "3989       0.1440    1.190000\n",
       "3990       0.0490    2.050000\n",
       "3991       0.2100    1.240000\n",
       "3992       0.0570    2.170000\n",
       "3993       0.7124    1.275000\n",
       "3994          NaN   55.000000\n",
       "3995       0.1670    2.650000\n",
       "3996       0.0900    1.100000\n",
       "3997       0.1256    1.900000\n",
       "3998       0.1650    6.100000\n",
       "3999       0.1060    1.100000\n",
       "4000       0.1910    0.830000\n",
       "4001       0.1300    3.900000\n",
       "4002       0.0000    0.068390\n",
       "4003       0.4000    4.430000\n",
       "4004       0.0373    0.219600\n",
       "4005       0.0520    0.412300\n",
       "4006       0.0110    0.049000\n",
       "4007       0.1800    0.538000\n",
       "4008       0.1600    1.334000\n",
       "4009       0.0600    0.133000\n",
       "4010       0.2300    0.243000\n",
       "4011       0.0310    1.170000\n",
       "4012       0.0215    0.059222\n",
       "4013       0.2596    0.827774\n",
       "4014       0.2987    2.513290\n",
       "4015       0.0000    0.680000\n",
       "\n",
       "[4016 rows x 2 columns]"
      ]
     },
     "execution_count": 81,
     "metadata": {},
     "output_type": "execute_result"
    }
   ],
   "source": [
    "planets[['pl_orbeccen','pl_orbsmax']]\n",
    "# table of eccentricy and semi-major axis (AU)"
   ]
  },
  {
   "cell_type": "code",
   "execution_count": 85,
   "metadata": {},
   "outputs": [],
   "source": [
    "x = planets['pl_orbeccen']\n",
    "y = planets['pl_orbsmax']\n",
    "\n",
    "# make a mask to take out NaNs in both columns\n",
    "mask = ~np.isnan(x) & ~np.isnan(y)\n",
    "# this mask is True ONLY if both x and y are *not* NaN\n",
    "#mask\n",
    "xplot = x[mask]\n",
    "yplot = y[mask]"
   ]
  },
  {
   "cell_type": "code",
   "execution_count": 90,
   "metadata": {},
   "outputs": [
    {
     "data": {
      "text/plain": [
       "(11,)"
      ]
     },
     "execution_count": 90,
     "metadata": {},
     "output_type": "execute_result"
    }
   ],
   "source": [
    "# turn list of ecc and a's => into 2d histogram\n",
    "myHist, xedges, yedges = np.histogram2d(xplot,yplot, \n",
    "                                       bins=[10,10])\n",
    "xedges.shape"
   ]
  },
  {
   "cell_type": "code",
   "execution_count": 88,
   "metadata": {},
   "outputs": [
    {
     "data": {
      "application/vnd.jupyter.widget-view+json": {
       "model_id": "93f7786276a248f8a3f49c0e0a80d32e",
       "version_major": 2,
       "version_minor": 0
      },
      "text/plain": [
       "VBox(children=(Label(value=''), Figure(axes=[ColorAxis(orientation='vertical', scale=ColorScale(scheme='Reds')…"
      ]
     },
     "metadata": {},
     "output_type": "display_data"
    }
   ],
   "source": [
    "# add in a widget to print value of data selected\n",
    "mySelectedLabel = ipywidgets.Label()\n",
    "\n",
    "# build a plot with declarative(sp?) language\n",
    "from IPython.display import display\n",
    "# scale over which to plot values in 10x10 matrix\n",
    "col_sc = bqplot.ColorScale(scheme ='Reds')\n",
    "\n",
    "# add in a color axes\n",
    "col_ax = bqplot.ColorAxis(scale = col_sc,\n",
    "                         orientation = 'vertical',\n",
    "                         side = 'right')\n",
    "\n",
    "# add in x and y axes -> but first scales\n",
    "x_sc = bqplot.LinearScale() # linear scaling along x\n",
    "y_sc = bqplot.LinearScale() # linear scaling along y\n",
    "# axes objects\n",
    "x_ax = bqplot.Axis(scale=x_sc)\n",
    "y_ax = bqplot.Axis(scale=y_sc, orientation='vertical')\n",
    "\n",
    "# use bqplot to make heatmap\n",
    "heat_map = bqplot.GridHeatMap(color=myHist,\n",
    "                             scales={'color':col_sc,\n",
    "                                    'row':y_sc,\n",
    "                                    'column':x_sc},\n",
    "                             interactions={'click':'select'}, # when we click on a box, its \"selected\"\n",
    "                             anchor_style={'fill':'blue'}) # now we've said what we are going to draw on our figure\n",
    "\n",
    "# write function to change the value of mySelectedLabel based on what I select in heatmap\n",
    "def get_data_values(change): # function that runs when I select something\n",
    "    i,j = heat_map.selected[0]\n",
    "    v = myHist[i,j] # grabbing value of data\n",
    "    mySelectedLabel.value = str(v) # turning data[i,j] into string\n",
    "\n",
    "# link together my heatmap selection with my label value\n",
    "heat_map.observe(get_data_values, 'selected') # look for changes in heatmap, when I select something\n",
    "\n",
    "\n",
    "# using the scales we have here, and markes (heat_map) make a figure\n",
    "fig = bqplot.Figure(marks=[heat_map], axes=[col_ax, y_ax,x_ax]) # draw heatmap on figure\n",
    "\n",
    "# display label ontop of heatmap\n",
    "display(ipywidgets.VBox([mySelectedLabel, fig]))"
   ]
  },
  {
   "cell_type": "code",
   "execution_count": 93,
   "metadata": {},
   "outputs": [
    {
     "data": {
      "text/plain": [
       "[0.0475,\n",
       " 0.14250000000000002,\n",
       " 0.23750000000000002,\n",
       " 0.3325,\n",
       " 0.4275,\n",
       " 0.5225,\n",
       " 0.6175,\n",
       " 0.7125,\n",
       " 0.8075,\n",
       " 0.9025]"
      ]
     },
     "execution_count": 93,
     "metadata": {},
     "output_type": "execute_result"
    }
   ],
   "source": [
    "# fancy inline programming\n",
    "y_centers = [(yedges[i]+yedges[i+1])*0.5 for i in range(len(yedges)-1)]\n",
    "x_centers = [(xedges[i]+xedges[i+1])*0.5 for i in range(len(xedges)-1)]\n",
    "x_centers"
   ]
  },
  {
   "cell_type": "code",
   "execution_count": 99,
   "metadata": {},
   "outputs": [
    {
     "data": {
      "application/vnd.jupyter.widget-view+json": {
       "model_id": "ab5a3e86d872437886eaca864aefc442",
       "version_major": 2,
       "version_minor": 0
      },
      "text/plain": [
       "VBox(children=(Label(value=''), HBox(children=(Figure(axes=[ColorAxis(orientation='vertical', scale=ColorScale…"
      ]
     },
     "metadata": {},
     "output_type": "display_data"
    }
   ],
   "source": [
    "#### LINE PLOT #####\n",
    "# adding in a line plot\n",
    "theta = np.arange(0, 2*np.pi, 0.001) # theta function\n",
    "\n",
    "# scales for linear plot\n",
    "x_l_sc = bqplot.LinearScale() # x/y scales\n",
    "y_l_sc = bqplot.LinearScale()\n",
    "\n",
    "# add in axes stuff\n",
    "x_l_ax = bqplot.Axis(scale=x_l_sc, label='x in AU') # x axis\n",
    "y_l_ax = bqplot.Axis(scale=y_l_sc, label='y in AU', orientation='vertical') # yaxis\n",
    "\n",
    "# finally make a lines plot\n",
    "lines = bqplot.Lines(x=[], y=[], \n",
    "                    scales={'x':x_l_sc, 'y':y_l_sc})\n",
    "fig_lines = bqplot.Figure(marks=[lines], axes=[y_l_ax,x_l_ax])\n",
    "\n",
    "###################################################\n",
    "#### HEATMAP PLOT #######\n",
    "\n",
    "# add in a widget to print value of data selected\n",
    "mySelectedLabel = ipywidgets.Label()\n",
    "\n",
    "# build a plot with declarative(sp?) language\n",
    "from IPython.display import display\n",
    "# scale over which to plot values in 10x10 matrix\n",
    "col_sc = bqplot.ColorScale(scheme ='Reds')\n",
    "\n",
    "# add in a color axes\n",
    "col_ax = bqplot.ColorAxis(scale = col_sc,\n",
    "                         orientation = 'vertical',\n",
    "                         side = 'right')\n",
    "\n",
    "# add in x and y axes -> but first scales\n",
    "x_sc = bqplot.LinearScale() # linear scaling along x\n",
    "y_sc = bqplot.LinearScale() # linear scaling along y\n",
    "# axes objects\n",
    "x_ax = bqplot.Axis(scale=x_sc, label='Semi major axis')\n",
    "y_ax = bqplot.Axis(scale=y_sc, orientation='vertical')\n",
    "\n",
    "# use bqplot to make heatmap\n",
    "heat_map = bqplot.GridHeatMap(color=myHist,\n",
    "                              row=x_centers,\n",
    "                              column=y_centers,\n",
    "                             scales={'color':col_sc,\n",
    "                                    'row':y_sc,\n",
    "                                    'column':x_sc},\n",
    "                             interactions={'click':'select'}, # when we click on a box, its \"selected\"\n",
    "                             anchor_style={'fill':'blue'}) # now we've said what we are going to draw on our figure\n",
    "\n",
    "# write function to change the value of mySelectedLabel based on what I select in heatmap\n",
    "def get_data_values(change): # function that runs when I select something\n",
    "    i,j = heat_map.selected[0]\n",
    "    v = myHist[i,j] # grabbing value of data\n",
    "    mySelectedLabel.value = str(v) # turning data[i,j] into string\n",
    "    # now we'll update our lines plot as well\n",
    "    a = y_centers[j] # semi major axis based on bins in heatmap\n",
    "    ecc = x_centers[i]\n",
    "    r = a*(1-ecc**2)/(1+ecc*np.cos(theta)) \n",
    "    x = r*np.cos(theta)\n",
    "    y = r*np.sin(theta)\n",
    "    lines.x = x\n",
    "    lines.y = y\n",
    "    \n",
    "# link together my heatmap selection with my label value\n",
    "heat_map.observe(get_data_values, 'selected') # look for changes in heatmap, when I select something\n",
    "\n",
    "\n",
    "# using the scales we have here, and markes (heat_map) make a figure\n",
    "fig = bqplot.Figure(marks=[heat_map], axes=[col_ax, y_ax,x_ax]) # draw heatmap on figure\n",
    "\n",
    "# display label ontop of heatmap\n",
    "display(ipywidgets.VBox([mySelectedLabel, ipywidgets.HBox([fig,fig_lines])]))"
   ]
  },
  {
   "cell_type": "code",
   "execution_count": 98,
   "metadata": {},
   "outputs": [
    {
     "data": {
      "text/plain": [
       "[0.0475,\n",
       " 0.14250000000000002,\n",
       " 0.23750000000000002,\n",
       " 0.3325,\n",
       " 0.4275,\n",
       " 0.5225,\n",
       " 0.6175,\n",
       " 0.7125,\n",
       " 0.8075,\n",
       " 0.9025]"
      ]
     },
     "execution_count": 98,
     "metadata": {},
     "output_type": "execute_result"
    }
   ],
   "source": [
    "x_centers"
   ]
  },
  {
   "cell_type": "code",
   "execution_count": null,
   "metadata": {},
   "outputs": [],
   "source": []
  }
 ],
 "metadata": {
  "kernelspec": {
   "display_name": "Python 3",
   "language": "python",
   "name": "python3"
  },
  "language_info": {
   "codemirror_mode": {
    "name": "ipython",
    "version": 3
   },
   "file_extension": ".py",
   "mimetype": "text/x-python",
   "name": "python",
   "nbconvert_exporter": "python",
   "pygments_lexer": "ipython3",
   "version": "3.7.3"
  }
 },
 "nbformat": 4,
 "nbformat_minor": 2
}
